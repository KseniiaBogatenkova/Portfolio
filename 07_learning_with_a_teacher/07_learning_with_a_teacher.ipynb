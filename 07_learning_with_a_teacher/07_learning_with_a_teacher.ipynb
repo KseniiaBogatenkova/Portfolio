{
 "cells": [
  {
   "cell_type": "markdown",
   "metadata": {
    "toc": true
   },
   "source": [
    "<h1>Содержание<span class=\"tocSkip\"></span></h1>\n",
    "<div class=\"toc\"><ul class=\"toc-item\"><li><span><a href=\"#Подготовка-данных\" data-toc-modified-id=\"Подготовка-данных-1\"><span class=\"toc-item-num\">1&nbsp;&nbsp;</span>Подготовка данных</a></span></li><li><span><a href=\"#Исследование-задачи\" data-toc-modified-id=\"Исследование-задачи-2\"><span class=\"toc-item-num\">2&nbsp;&nbsp;</span>Исследование задачи</a></span></li><li><span><a href=\"#Борьба-с-дисбалансом\" data-toc-modified-id=\"Борьба-с-дисбалансом-3\"><span class=\"toc-item-num\">3&nbsp;&nbsp;</span>Борьба с дисбалансом</a></span></li><li><span><a href=\"#Тестирование-модели\" data-toc-modified-id=\"Тестирование-модели-4\"><span class=\"toc-item-num\">4&nbsp;&nbsp;</span>Тестирование модели</a></span></li><li><span><a href=\"#Чек-лист-готовности-проекта\" data-toc-modified-id=\"Чек-лист-готовности-проекта-5\"><span class=\"toc-item-num\">5&nbsp;&nbsp;</span>Чек-лист готовности проекта</a></span></li></ul></div>"
   ]
  },
  {
   "cell_type": "markdown",
   "metadata": {},
   "source": [
    "# Отток клиентов банка"
   ]
  },
  {
   "cell_type": "markdown",
   "metadata": {},
   "source": [
    "Из «Бета-Банка» стали уходить клиенты. Каждый месяц. Немного, но заметно. Банковские маркетологи посчитали: сохранять текущих клиентов дешевле, чем привлекать новых.\n",
    "\n",
    "Нужно спрогнозировать, уйдёт клиент из банка в ближайшее время или нет. Вам предоставлены исторические данные о поведении клиентов и расторжении договоров с банком. \n",
    "\n",
    "Постройте модель с предельно большим значением *F1*-меры. Чтобы сдать проект успешно, нужно довести метрику до 0.59. Проверьте *F1*-меру на тестовой выборке самостоятельно.\n",
    "\n",
    "Дополнительно измеряйте *AUC-ROC*, сравнивайте её значение с *F1*-мерой.\n",
    "\n",
    "Источник данных: [https://www.kaggle.com/barelydedicated/bank-customer-churn-modeling](https://www.kaggle.com/barelydedicated/bank-customer-churn-modeling)"
   ]
  },
  {
   "cell_type": "markdown",
   "metadata": {},
   "source": [
    "\n",
    "Инструкция по выполнению проекта  \n",
    "1.\tЗагрузите и подготовьте данные. Поясните порядок действий.  \n",
    "2.\tИсследуйте баланс классов, обучите модель без учёта дисбаланса. Кратко опишите выводы.  \n",
    "3.\tУлучшите качество модели, учитывая дисбаланс классов. Обучите разные модели и найдите лучшую. Кратко опишите выводы.  \n",
    "4.\tПроведите финальное тестирование.   \n",
    "Описание данных  \n",
    "Данные находятся в файле /datasets/Churn.csv (англ. «отток клиентов»)  \n"
   ]
  },
  {
   "cell_type": "markdown",
   "metadata": {},
   "source": [
    "Признаки  \n",
    "•\tRowNumber — индекс строки в данных  \n",
    "•\tCustomerId — уникальный идентификатор клиента  \n",
    "•\tSurname — фамилия  \n",
    "•\tCreditScore — кредитный рейтинг  \n",
    "•\tGeography — страна проживания  \n",
    "•\tGender — пол  \n",
    "•\tAge — возраст  \n",
    "•\tTenure — сколько лет человек является клиентом банка  \n",
    "•\tBalance — баланс на счёте  \n",
    "•\tNumOfProducts — количество продуктов банка, используемых клиентом  \n",
    "•\tHasCrCard — наличие кредитной карты  \n",
    "•\tIsActiveMember — активность клиента  \n",
    "•\tEstimatedSalary — предполагаемая зарплата  \n",
    "Целевой признак  \n",
    "•\tExited — факт ухода клиента  "
   ]
  },
  {
   "cell_type": "markdown",
   "metadata": {},
   "source": [
    "## Подготовка данных"
   ]
  },
  {
   "cell_type": "markdown",
   "metadata": {},
   "source": [
    "Делим блоки загрузки библиотек и датасета, тогда в случае необходимости добавления новых библиотек не придется загружать весь датасет заново и перезапускать проект целиком."
   ]
  },
  {
   "cell_type": "code",
   "execution_count": 1,
   "metadata": {},
   "outputs": [
    {
     "name": "stdout",
     "output_type": "stream",
     "text": [
      "Requirement already satisfied: scikit-learn==1.1.3 in ./practicum_env/lib/python3.9/site-packages (1.1.3)\n",
      "Requirement already satisfied: numpy>=1.17.3 in ./practicum_env/lib/python3.9/site-packages (from scikit-learn==1.1.3) (1.24.3)\n",
      "Requirement already satisfied: scipy>=1.3.2 in ./practicum_env/lib/python3.9/site-packages (from scikit-learn==1.1.3) (1.11.1)\n",
      "Requirement already satisfied: joblib>=1.0.0 in ./practicum_env/lib/python3.9/site-packages (from scikit-learn==1.1.3) (1.3.1)\n",
      "Requirement already satisfied: threadpoolctl>=2.0.0 in ./practicum_env/lib/python3.9/site-packages (from scikit-learn==1.1.3) (3.1.0)\n",
      "\n",
      "\u001b[1m[\u001b[0m\u001b[34;49mnotice\u001b[0m\u001b[1;39;49m]\u001b[0m\u001b[39;49m A new release of pip is available: \u001b[0m\u001b[31;49m23.1.2\u001b[0m\u001b[39;49m -> \u001b[0m\u001b[32;49m23.3\u001b[0m\n",
      "\u001b[1m[\u001b[0m\u001b[34;49mnotice\u001b[0m\u001b[1;39;49m]\u001b[0m\u001b[39;49m To update, run: \u001b[0m\u001b[32;49mpip install --upgrade pip\u001b[0m\n"
     ]
    }
   ],
   "source": [
    "!pip install scikit-learn==1.1.3"
   ]
  },
  {
   "cell_type": "code",
   "execution_count": 2,
   "metadata": {},
   "outputs": [],
   "source": [
    "import warnings\n",
    "import pandas as pd # импорт библиотеки pandas \n",
    "import matplotlib.pyplot as plt # импорт библиотеки matplotlib\n",
    "import seaborn as sns # импорт библиотеки seaborn\n",
    "import numpy as np # импорт библиотеки nump\n",
    "import random # импорт модуля random для генерации случайных чисел\n",
    "import time \n",
    "import re\n",
    "from scipy import stats as st # импорт библиотеки scipy\n",
    "from tqdm import tqdm # импорт библиотеки tqdm для просмотра прогресса обучения модели\n",
    "from sklearn.metrics import accuracy_score # импорт метрики из библиотеки sklearn \n",
    "from sklearn.model_selection import train_test_split # импорт разделителя\n",
    "from sklearn.tree import DecisionTreeClassifier # импорт дерева решений\n",
    "from sklearn.ensemble import RandomForestClassifier # импорт классификатора случайного леса\n",
    "from sklearn.linear_model import LogisticRegression # импорт линейной регрессии \n",
    "from sklearn.preprocessing import StandardScaler # стандартизация\n",
    "from sklearn.metrics import precision_score, recall_score, f1_score, roc_auc_score, roc_curve # импорт метрик\n",
    "from sklearn.utils import shuffle # импорт шаффла для перемешивания\n",
    "warnings.filterwarnings(\"ignore\")\n",
    "from sklearn.pipeline import make_pipeline\n",
    "from sklearn.preprocessing import (\n",
    "    OneHotEncoder,\n",
    "    OrdinalEncoder,\n",
    "    StandardScaler\n",
    ")\n",
    "from numpy import array \n",
    "from numpy import argmax \n",
    "\n"
   ]
  },
  {
   "cell_type": "code",
   "execution_count": 3,
   "metadata": {},
   "outputs": [
    {
     "name": "stdout",
     "output_type": "stream",
     "text": [
      "<class 'pandas.core.frame.DataFrame'>\n",
      "RangeIndex: 10000 entries, 0 to 9999\n",
      "Data columns (total 14 columns):\n",
      " #   Column           Non-Null Count  Dtype  \n",
      "---  ------           --------------  -----  \n",
      " 0   RowNumber        10000 non-null  int64  \n",
      " 1   CustomerId       10000 non-null  int64  \n",
      " 2   Surname          10000 non-null  object \n",
      " 3   CreditScore      10000 non-null  int64  \n",
      " 4   Geography        10000 non-null  object \n",
      " 5   Gender           10000 non-null  object \n",
      " 6   Age              10000 non-null  int64  \n",
      " 7   Tenure           9091 non-null   float64\n",
      " 8   Balance          10000 non-null  float64\n",
      " 9   NumOfProducts    10000 non-null  int64  \n",
      " 10  HasCrCard        10000 non-null  int64  \n",
      " 11  IsActiveMember   10000 non-null  int64  \n",
      " 12  EstimatedSalary  10000 non-null  float64\n",
      " 13  Exited           10000 non-null  int64  \n",
      "dtypes: float64(3), int64(8), object(3)\n",
      "memory usage: 1.1+ MB\n"
     ]
    }
   ],
   "source": [
    "# читаем csv-файл и записываем его в переменную df\n",
    "df = pd.read_csv('datasets/Churn.csv')\n",
    "df.info()"
   ]
  },
  {
   "cell_type": "code",
   "execution_count": 4,
   "metadata": {},
   "outputs": [
    {
     "data": {
      "text/html": [
       "<div>\n",
       "<style scoped>\n",
       "    .dataframe tbody tr th:only-of-type {\n",
       "        vertical-align: middle;\n",
       "    }\n",
       "\n",
       "    .dataframe tbody tr th {\n",
       "        vertical-align: top;\n",
       "    }\n",
       "\n",
       "    .dataframe thead th {\n",
       "        text-align: right;\n",
       "    }\n",
       "</style>\n",
       "<table border=\"1\" class=\"dataframe\">\n",
       "  <thead>\n",
       "    <tr style=\"text-align: right;\">\n",
       "      <th></th>\n",
       "      <th>RowNumber</th>\n",
       "      <th>CustomerId</th>\n",
       "      <th>Surname</th>\n",
       "      <th>CreditScore</th>\n",
       "      <th>Geography</th>\n",
       "      <th>Gender</th>\n",
       "      <th>Age</th>\n",
       "      <th>Tenure</th>\n",
       "      <th>Balance</th>\n",
       "      <th>NumOfProducts</th>\n",
       "      <th>HasCrCard</th>\n",
       "      <th>IsActiveMember</th>\n",
       "      <th>EstimatedSalary</th>\n",
       "      <th>Exited</th>\n",
       "    </tr>\n",
       "  </thead>\n",
       "  <tbody>\n",
       "    <tr>\n",
       "      <th>0</th>\n",
       "      <td>1</td>\n",
       "      <td>15634602</td>\n",
       "      <td>Hargrave</td>\n",
       "      <td>619</td>\n",
       "      <td>France</td>\n",
       "      <td>Female</td>\n",
       "      <td>42</td>\n",
       "      <td>2.0</td>\n",
       "      <td>0.00</td>\n",
       "      <td>1</td>\n",
       "      <td>1</td>\n",
       "      <td>1</td>\n",
       "      <td>101348.88</td>\n",
       "      <td>1</td>\n",
       "    </tr>\n",
       "    <tr>\n",
       "      <th>1</th>\n",
       "      <td>2</td>\n",
       "      <td>15647311</td>\n",
       "      <td>Hill</td>\n",
       "      <td>608</td>\n",
       "      <td>Spain</td>\n",
       "      <td>Female</td>\n",
       "      <td>41</td>\n",
       "      <td>1.0</td>\n",
       "      <td>83807.86</td>\n",
       "      <td>1</td>\n",
       "      <td>0</td>\n",
       "      <td>1</td>\n",
       "      <td>112542.58</td>\n",
       "      <td>0</td>\n",
       "    </tr>\n",
       "    <tr>\n",
       "      <th>2</th>\n",
       "      <td>3</td>\n",
       "      <td>15619304</td>\n",
       "      <td>Onio</td>\n",
       "      <td>502</td>\n",
       "      <td>France</td>\n",
       "      <td>Female</td>\n",
       "      <td>42</td>\n",
       "      <td>8.0</td>\n",
       "      <td>159660.80</td>\n",
       "      <td>3</td>\n",
       "      <td>1</td>\n",
       "      <td>0</td>\n",
       "      <td>113931.57</td>\n",
       "      <td>1</td>\n",
       "    </tr>\n",
       "    <tr>\n",
       "      <th>3</th>\n",
       "      <td>4</td>\n",
       "      <td>15701354</td>\n",
       "      <td>Boni</td>\n",
       "      <td>699</td>\n",
       "      <td>France</td>\n",
       "      <td>Female</td>\n",
       "      <td>39</td>\n",
       "      <td>1.0</td>\n",
       "      <td>0.00</td>\n",
       "      <td>2</td>\n",
       "      <td>0</td>\n",
       "      <td>0</td>\n",
       "      <td>93826.63</td>\n",
       "      <td>0</td>\n",
       "    </tr>\n",
       "    <tr>\n",
       "      <th>4</th>\n",
       "      <td>5</td>\n",
       "      <td>15737888</td>\n",
       "      <td>Mitchell</td>\n",
       "      <td>850</td>\n",
       "      <td>Spain</td>\n",
       "      <td>Female</td>\n",
       "      <td>43</td>\n",
       "      <td>2.0</td>\n",
       "      <td>125510.82</td>\n",
       "      <td>1</td>\n",
       "      <td>1</td>\n",
       "      <td>1</td>\n",
       "      <td>79084.10</td>\n",
       "      <td>0</td>\n",
       "    </tr>\n",
       "  </tbody>\n",
       "</table>\n",
       "</div>"
      ],
      "text/plain": [
       "   RowNumber  CustomerId   Surname  CreditScore Geography  Gender  Age  \\\n",
       "0          1    15634602  Hargrave          619    France  Female   42   \n",
       "1          2    15647311      Hill          608     Spain  Female   41   \n",
       "2          3    15619304      Onio          502    France  Female   42   \n",
       "3          4    15701354      Boni          699    France  Female   39   \n",
       "4          5    15737888  Mitchell          850     Spain  Female   43   \n",
       "\n",
       "   Tenure    Balance  NumOfProducts  HasCrCard  IsActiveMember  \\\n",
       "0     2.0       0.00              1          1               1   \n",
       "1     1.0   83807.86              1          0               1   \n",
       "2     8.0  159660.80              3          1               0   \n",
       "3     1.0       0.00              2          0               0   \n",
       "4     2.0  125510.82              1          1               1   \n",
       "\n",
       "   EstimatedSalary  Exited  \n",
       "0        101348.88       1  \n",
       "1        112542.58       0  \n",
       "2        113931.57       1  \n",
       "3         93826.63       0  \n",
       "4         79084.10       0  "
      ]
     },
     "execution_count": 4,
     "metadata": {},
     "output_type": "execute_result"
    }
   ],
   "source": [
    "# смотрим, как выглядит файл, с помощью метода .head()\n",
    "df.head() "
   ]
  },
  {
   "cell_type": "code",
   "execution_count": 5,
   "metadata": {},
   "outputs": [
    {
     "data": {
      "text/html": [
       "<div>\n",
       "<style scoped>\n",
       "    .dataframe tbody tr th:only-of-type {\n",
       "        vertical-align: middle;\n",
       "    }\n",
       "\n",
       "    .dataframe tbody tr th {\n",
       "        vertical-align: top;\n",
       "    }\n",
       "\n",
       "    .dataframe thead th {\n",
       "        text-align: right;\n",
       "    }\n",
       "</style>\n",
       "<table border=\"1\" class=\"dataframe\">\n",
       "  <thead>\n",
       "    <tr style=\"text-align: right;\">\n",
       "      <th></th>\n",
       "      <th>RowNumber</th>\n",
       "      <th>CustomerId</th>\n",
       "      <th>Surname</th>\n",
       "      <th>CreditScore</th>\n",
       "      <th>Geography</th>\n",
       "      <th>Gender</th>\n",
       "      <th>Age</th>\n",
       "      <th>Tenure</th>\n",
       "      <th>Balance</th>\n",
       "      <th>NumOfProducts</th>\n",
       "      <th>HasCrCard</th>\n",
       "      <th>IsActiveMember</th>\n",
       "      <th>EstimatedSalary</th>\n",
       "      <th>Exited</th>\n",
       "    </tr>\n",
       "  </thead>\n",
       "  <tbody>\n",
       "    <tr>\n",
       "      <th>count</th>\n",
       "      <td>10000.00000</td>\n",
       "      <td>1.000000e+04</td>\n",
       "      <td>10000</td>\n",
       "      <td>10000.000000</td>\n",
       "      <td>10000</td>\n",
       "      <td>10000</td>\n",
       "      <td>10000.000000</td>\n",
       "      <td>9091.000000</td>\n",
       "      <td>10000.000000</td>\n",
       "      <td>10000.000000</td>\n",
       "      <td>10000.00000</td>\n",
       "      <td>10000.000000</td>\n",
       "      <td>10000.000000</td>\n",
       "      <td>10000.000000</td>\n",
       "    </tr>\n",
       "    <tr>\n",
       "      <th>unique</th>\n",
       "      <td>NaN</td>\n",
       "      <td>NaN</td>\n",
       "      <td>2932</td>\n",
       "      <td>NaN</td>\n",
       "      <td>3</td>\n",
       "      <td>2</td>\n",
       "      <td>NaN</td>\n",
       "      <td>NaN</td>\n",
       "      <td>NaN</td>\n",
       "      <td>NaN</td>\n",
       "      <td>NaN</td>\n",
       "      <td>NaN</td>\n",
       "      <td>NaN</td>\n",
       "      <td>NaN</td>\n",
       "    </tr>\n",
       "    <tr>\n",
       "      <th>top</th>\n",
       "      <td>NaN</td>\n",
       "      <td>NaN</td>\n",
       "      <td>Smith</td>\n",
       "      <td>NaN</td>\n",
       "      <td>France</td>\n",
       "      <td>Male</td>\n",
       "      <td>NaN</td>\n",
       "      <td>NaN</td>\n",
       "      <td>NaN</td>\n",
       "      <td>NaN</td>\n",
       "      <td>NaN</td>\n",
       "      <td>NaN</td>\n",
       "      <td>NaN</td>\n",
       "      <td>NaN</td>\n",
       "    </tr>\n",
       "    <tr>\n",
       "      <th>freq</th>\n",
       "      <td>NaN</td>\n",
       "      <td>NaN</td>\n",
       "      <td>32</td>\n",
       "      <td>NaN</td>\n",
       "      <td>5014</td>\n",
       "      <td>5457</td>\n",
       "      <td>NaN</td>\n",
       "      <td>NaN</td>\n",
       "      <td>NaN</td>\n",
       "      <td>NaN</td>\n",
       "      <td>NaN</td>\n",
       "      <td>NaN</td>\n",
       "      <td>NaN</td>\n",
       "      <td>NaN</td>\n",
       "    </tr>\n",
       "    <tr>\n",
       "      <th>mean</th>\n",
       "      <td>5000.50000</td>\n",
       "      <td>1.569094e+07</td>\n",
       "      <td>NaN</td>\n",
       "      <td>650.528800</td>\n",
       "      <td>NaN</td>\n",
       "      <td>NaN</td>\n",
       "      <td>38.921800</td>\n",
       "      <td>4.997690</td>\n",
       "      <td>76485.889288</td>\n",
       "      <td>1.530200</td>\n",
       "      <td>0.70550</td>\n",
       "      <td>0.515100</td>\n",
       "      <td>100090.239881</td>\n",
       "      <td>0.203700</td>\n",
       "    </tr>\n",
       "    <tr>\n",
       "      <th>std</th>\n",
       "      <td>2886.89568</td>\n",
       "      <td>7.193619e+04</td>\n",
       "      <td>NaN</td>\n",
       "      <td>96.653299</td>\n",
       "      <td>NaN</td>\n",
       "      <td>NaN</td>\n",
       "      <td>10.487806</td>\n",
       "      <td>2.894723</td>\n",
       "      <td>62397.405202</td>\n",
       "      <td>0.581654</td>\n",
       "      <td>0.45584</td>\n",
       "      <td>0.499797</td>\n",
       "      <td>57510.492818</td>\n",
       "      <td>0.402769</td>\n",
       "    </tr>\n",
       "    <tr>\n",
       "      <th>min</th>\n",
       "      <td>1.00000</td>\n",
       "      <td>1.556570e+07</td>\n",
       "      <td>NaN</td>\n",
       "      <td>350.000000</td>\n",
       "      <td>NaN</td>\n",
       "      <td>NaN</td>\n",
       "      <td>18.000000</td>\n",
       "      <td>0.000000</td>\n",
       "      <td>0.000000</td>\n",
       "      <td>1.000000</td>\n",
       "      <td>0.00000</td>\n",
       "      <td>0.000000</td>\n",
       "      <td>11.580000</td>\n",
       "      <td>0.000000</td>\n",
       "    </tr>\n",
       "    <tr>\n",
       "      <th>25%</th>\n",
       "      <td>2500.75000</td>\n",
       "      <td>1.562853e+07</td>\n",
       "      <td>NaN</td>\n",
       "      <td>584.000000</td>\n",
       "      <td>NaN</td>\n",
       "      <td>NaN</td>\n",
       "      <td>32.000000</td>\n",
       "      <td>2.000000</td>\n",
       "      <td>0.000000</td>\n",
       "      <td>1.000000</td>\n",
       "      <td>0.00000</td>\n",
       "      <td>0.000000</td>\n",
       "      <td>51002.110000</td>\n",
       "      <td>0.000000</td>\n",
       "    </tr>\n",
       "    <tr>\n",
       "      <th>50%</th>\n",
       "      <td>5000.50000</td>\n",
       "      <td>1.569074e+07</td>\n",
       "      <td>NaN</td>\n",
       "      <td>652.000000</td>\n",
       "      <td>NaN</td>\n",
       "      <td>NaN</td>\n",
       "      <td>37.000000</td>\n",
       "      <td>5.000000</td>\n",
       "      <td>97198.540000</td>\n",
       "      <td>1.000000</td>\n",
       "      <td>1.00000</td>\n",
       "      <td>1.000000</td>\n",
       "      <td>100193.915000</td>\n",
       "      <td>0.000000</td>\n",
       "    </tr>\n",
       "    <tr>\n",
       "      <th>75%</th>\n",
       "      <td>7500.25000</td>\n",
       "      <td>1.575323e+07</td>\n",
       "      <td>NaN</td>\n",
       "      <td>718.000000</td>\n",
       "      <td>NaN</td>\n",
       "      <td>NaN</td>\n",
       "      <td>44.000000</td>\n",
       "      <td>7.000000</td>\n",
       "      <td>127644.240000</td>\n",
       "      <td>2.000000</td>\n",
       "      <td>1.00000</td>\n",
       "      <td>1.000000</td>\n",
       "      <td>149388.247500</td>\n",
       "      <td>0.000000</td>\n",
       "    </tr>\n",
       "    <tr>\n",
       "      <th>max</th>\n",
       "      <td>10000.00000</td>\n",
       "      <td>1.581569e+07</td>\n",
       "      <td>NaN</td>\n",
       "      <td>850.000000</td>\n",
       "      <td>NaN</td>\n",
       "      <td>NaN</td>\n",
       "      <td>92.000000</td>\n",
       "      <td>10.000000</td>\n",
       "      <td>250898.090000</td>\n",
       "      <td>4.000000</td>\n",
       "      <td>1.00000</td>\n",
       "      <td>1.000000</td>\n",
       "      <td>199992.480000</td>\n",
       "      <td>1.000000</td>\n",
       "    </tr>\n",
       "  </tbody>\n",
       "</table>\n",
       "</div>"
      ],
      "text/plain": [
       "          RowNumber    CustomerId Surname   CreditScore Geography Gender  \\\n",
       "count   10000.00000  1.000000e+04   10000  10000.000000     10000  10000   \n",
       "unique          NaN           NaN    2932           NaN         3      2   \n",
       "top             NaN           NaN   Smith           NaN    France   Male   \n",
       "freq            NaN           NaN      32           NaN      5014   5457   \n",
       "mean     5000.50000  1.569094e+07     NaN    650.528800       NaN    NaN   \n",
       "std      2886.89568  7.193619e+04     NaN     96.653299       NaN    NaN   \n",
       "min         1.00000  1.556570e+07     NaN    350.000000       NaN    NaN   \n",
       "25%      2500.75000  1.562853e+07     NaN    584.000000       NaN    NaN   \n",
       "50%      5000.50000  1.569074e+07     NaN    652.000000       NaN    NaN   \n",
       "75%      7500.25000  1.575323e+07     NaN    718.000000       NaN    NaN   \n",
       "max     10000.00000  1.581569e+07     NaN    850.000000       NaN    NaN   \n",
       "\n",
       "                 Age       Tenure        Balance  NumOfProducts    HasCrCard  \\\n",
       "count   10000.000000  9091.000000   10000.000000   10000.000000  10000.00000   \n",
       "unique           NaN          NaN            NaN            NaN          NaN   \n",
       "top              NaN          NaN            NaN            NaN          NaN   \n",
       "freq             NaN          NaN            NaN            NaN          NaN   \n",
       "mean       38.921800     4.997690   76485.889288       1.530200      0.70550   \n",
       "std        10.487806     2.894723   62397.405202       0.581654      0.45584   \n",
       "min        18.000000     0.000000       0.000000       1.000000      0.00000   \n",
       "25%        32.000000     2.000000       0.000000       1.000000      0.00000   \n",
       "50%        37.000000     5.000000   97198.540000       1.000000      1.00000   \n",
       "75%        44.000000     7.000000  127644.240000       2.000000      1.00000   \n",
       "max        92.000000    10.000000  250898.090000       4.000000      1.00000   \n",
       "\n",
       "        IsActiveMember  EstimatedSalary        Exited  \n",
       "count     10000.000000     10000.000000  10000.000000  \n",
       "unique             NaN              NaN           NaN  \n",
       "top                NaN              NaN           NaN  \n",
       "freq               NaN              NaN           NaN  \n",
       "mean          0.515100    100090.239881      0.203700  \n",
       "std           0.499797     57510.492818      0.402769  \n",
       "min           0.000000        11.580000      0.000000  \n",
       "25%           0.000000     51002.110000      0.000000  \n",
       "50%           1.000000    100193.915000      0.000000  \n",
       "75%           1.000000    149388.247500      0.000000  \n",
       "max           1.000000    199992.480000      1.000000  "
      ]
     },
     "execution_count": 5,
     "metadata": {},
     "output_type": "execute_result"
    }
   ],
   "source": [
    "# используем метод describe() для вычисления статистических данных\n",
    "df.describe(include='all') \n"
   ]
  },
  {
   "cell_type": "markdown",
   "metadata": {},
   "source": [
    "Смотрим наличие дубликатов"
   ]
  },
  {
   "cell_type": "code",
   "execution_count": 6,
   "metadata": {},
   "outputs": [
    {
     "data": {
      "text/plain": [
       "0"
      ]
     },
     "execution_count": 6,
     "metadata": {},
     "output_type": "execute_result"
    }
   ],
   "source": [
    "df.duplicated().sum()"
   ]
  },
  {
   "cell_type": "markdown",
   "metadata": {},
   "source": [
    "Вывод по нашим данным:  \n",
    "Dtype пока менять не будем. Для красоты датафрейма преобразуем названия столбцов в верблюжий регистр. \n",
    "Имеются пропуски в столбце  Tenure. Tenure — это столбец, который показывает сколько лет человек является клиентом банка. У нас есть несколько разумных решений, как поступить: мы можем заполнить данные медианным значением и можем их удалить совсем, т.к. колличество пропусков меньше 10%. Дам себе немного времени на размышления. \n",
    "Столбец RowNumber дублирует номера строк, его можно удалить. Столбцы CustomerId и Surname роли в исследовании не играют, также можно удалить. "
   ]
  },
  {
   "cell_type": "markdown",
   "metadata": {},
   "source": [
    "Обработаем данные:\n",
    "\n",
    "Изменим название колонок - отформатируем в стандартный формат:"
   ]
  },
  {
   "cell_type": "markdown",
   "metadata": {},
   "source": [
    "Чтобы не название колонок вручную, можно использовать регулярные выражения."
   ]
  },
  {
   "cell_type": "code",
   "execution_count": 7,
   "metadata": {},
   "outputs": [],
   "source": [
    "# удаляем столбцы 'surname', 'row_number', 'customer_id' методом drop()\n",
    "df = df.drop(['Surname', 'RowNumber', 'CustomerId'], axis=1)"
   ]
  },
  {
   "cell_type": "code",
   "execution_count": 8,
   "metadata": {},
   "outputs": [],
   "source": [
    "df.columns = [re.sub(r'(?<!^)(?=[A-Z])', '_', i).lower() for i in df.columns]"
   ]
  },
  {
   "cell_type": "code",
   "execution_count": 9,
   "metadata": {},
   "outputs": [
    {
     "name": "stdout",
     "output_type": "stream",
     "text": [
      "<class 'pandas.core.frame.DataFrame'>\n",
      "RangeIndex: 10000 entries, 0 to 9999\n",
      "Data columns (total 11 columns):\n",
      " #   Column            Non-Null Count  Dtype  \n",
      "---  ------            --------------  -----  \n",
      " 0   credit_score      10000 non-null  int64  \n",
      " 1   geography         10000 non-null  object \n",
      " 2   gender            10000 non-null  object \n",
      " 3   age               10000 non-null  int64  \n",
      " 4   tenure            9091 non-null   float64\n",
      " 5   balance           10000 non-null  float64\n",
      " 6   num_of_products   10000 non-null  int64  \n",
      " 7   has_cr_card       10000 non-null  int64  \n",
      " 8   is_active_member  10000 non-null  int64  \n",
      " 9   estimated_salary  10000 non-null  float64\n",
      " 10  exited            10000 non-null  int64  \n",
      "dtypes: float64(3), int64(6), object(2)\n",
      "memory usage: 859.5+ KB\n"
     ]
    }
   ],
   "source": [
    "df.info()"
   ]
  },
  {
   "cell_type": "code",
   "execution_count": 10,
   "metadata": {},
   "outputs": [
    {
     "data": {
      "text/html": [
       "<div>\n",
       "<style scoped>\n",
       "    .dataframe tbody tr th:only-of-type {\n",
       "        vertical-align: middle;\n",
       "    }\n",
       "\n",
       "    .dataframe tbody tr th {\n",
       "        vertical-align: top;\n",
       "    }\n",
       "\n",
       "    .dataframe thead th {\n",
       "        text-align: right;\n",
       "    }\n",
       "</style>\n",
       "<table border=\"1\" class=\"dataframe\">\n",
       "  <thead>\n",
       "    <tr style=\"text-align: right;\">\n",
       "      <th></th>\n",
       "      <th>credit_score</th>\n",
       "      <th>geography</th>\n",
       "      <th>gender</th>\n",
       "      <th>age</th>\n",
       "      <th>tenure</th>\n",
       "      <th>balance</th>\n",
       "      <th>num_of_products</th>\n",
       "      <th>has_cr_card</th>\n",
       "      <th>is_active_member</th>\n",
       "      <th>estimated_salary</th>\n",
       "      <th>exited</th>\n",
       "    </tr>\n",
       "  </thead>\n",
       "  <tbody>\n",
       "    <tr>\n",
       "      <th>0</th>\n",
       "      <td>619</td>\n",
       "      <td>France</td>\n",
       "      <td>Female</td>\n",
       "      <td>42</td>\n",
       "      <td>2.0</td>\n",
       "      <td>0.00</td>\n",
       "      <td>1</td>\n",
       "      <td>1</td>\n",
       "      <td>1</td>\n",
       "      <td>101348.88</td>\n",
       "      <td>1</td>\n",
       "    </tr>\n",
       "    <tr>\n",
       "      <th>1</th>\n",
       "      <td>608</td>\n",
       "      <td>Spain</td>\n",
       "      <td>Female</td>\n",
       "      <td>41</td>\n",
       "      <td>1.0</td>\n",
       "      <td>83807.86</td>\n",
       "      <td>1</td>\n",
       "      <td>0</td>\n",
       "      <td>1</td>\n",
       "      <td>112542.58</td>\n",
       "      <td>0</td>\n",
       "    </tr>\n",
       "    <tr>\n",
       "      <th>2</th>\n",
       "      <td>502</td>\n",
       "      <td>France</td>\n",
       "      <td>Female</td>\n",
       "      <td>42</td>\n",
       "      <td>8.0</td>\n",
       "      <td>159660.80</td>\n",
       "      <td>3</td>\n",
       "      <td>1</td>\n",
       "      <td>0</td>\n",
       "      <td>113931.57</td>\n",
       "      <td>1</td>\n",
       "    </tr>\n",
       "    <tr>\n",
       "      <th>3</th>\n",
       "      <td>699</td>\n",
       "      <td>France</td>\n",
       "      <td>Female</td>\n",
       "      <td>39</td>\n",
       "      <td>1.0</td>\n",
       "      <td>0.00</td>\n",
       "      <td>2</td>\n",
       "      <td>0</td>\n",
       "      <td>0</td>\n",
       "      <td>93826.63</td>\n",
       "      <td>0</td>\n",
       "    </tr>\n",
       "    <tr>\n",
       "      <th>4</th>\n",
       "      <td>850</td>\n",
       "      <td>Spain</td>\n",
       "      <td>Female</td>\n",
       "      <td>43</td>\n",
       "      <td>2.0</td>\n",
       "      <td>125510.82</td>\n",
       "      <td>1</td>\n",
       "      <td>1</td>\n",
       "      <td>1</td>\n",
       "      <td>79084.10</td>\n",
       "      <td>0</td>\n",
       "    </tr>\n",
       "  </tbody>\n",
       "</table>\n",
       "</div>"
      ],
      "text/plain": [
       "   credit_score geography  gender  age  tenure    balance  num_of_products  \\\n",
       "0           619    France  Female   42     2.0       0.00                1   \n",
       "1           608     Spain  Female   41     1.0   83807.86                1   \n",
       "2           502    France  Female   42     8.0  159660.80                3   \n",
       "3           699    France  Female   39     1.0       0.00                2   \n",
       "4           850     Spain  Female   43     2.0  125510.82                1   \n",
       "\n",
       "   has_cr_card  is_active_member  estimated_salary  exited  \n",
       "0            1                 1         101348.88       1  \n",
       "1            0                 1         112542.58       0  \n",
       "2            1                 0         113931.57       1  \n",
       "3            0                 0          93826.63       0  \n",
       "4            1                 1          79084.10       0  "
      ]
     },
     "execution_count": 10,
     "metadata": {},
     "output_type": "execute_result"
    }
   ],
   "source": [
    "df.head()"
   ]
  },
  {
   "cell_type": "markdown",
   "metadata": {},
   "source": [
    "Оценим баланс выборки "
   ]
  },
  {
   "cell_type": "code",
   "execution_count": 11,
   "metadata": {},
   "outputs": [
    {
     "data": {
      "image/png": "[encoded data removed]",
      "text/plain": [
       "<Figure size 500x500 with 1 Axes>"
      ]
     },
     "metadata": {},
     "output_type": "display_data"
    }
   ],
   "source": [
    "sizes = df['exited'].value_counts(sort = True)\n",
    "colors = [\"gold\",\"orange\"] \n",
    "plt.rcParams['figure.figsize'] = 5,5 # Plot\n",
    "plt.pie(sizes, explode=None, labels=['Нет','Да'], colors=colors,autopct='%1.1f%%', shadow=True, startangle=270,)\n",
    "plt.title('Процент оттока в наборе данных')\n",
    "plt.show()"
   ]
  },
  {
   "cell_type": "markdown",
   "metadata": {},
   "source": [
    "Выборка несбалансирована, примерно 20% клиентов уходят из банка.\n",
    "На первый взгляд это может показаться проблемой дисбаланса, но на самом деле, никакой проблемы нет! Дисбаланс – это естественное свойство данных. Когда говорят, что в этом случае использование точности неправильно, т.к. формально высокая точность получается у константного решения, то это проблема выбора функционала качества при дисбалансе, а не самого дисбаланса. "
   ]
  },
  {
   "cell_type": "code",
   "execution_count": 12,
   "metadata": {},
   "outputs": [],
   "source": [
    "df_filled = df\n",
    "df_filled['tenure'] = df_filled['tenure'].fillna(df_filled['tenure'].median())"
   ]
  },
  {
   "cell_type": "code",
   "execution_count": 13,
   "metadata": {},
   "outputs": [
    {
     "data": {
      "image/png": "[encoded data removed]",
      "text/plain": [
       "<Figure size 500x500 with 1 Axes>"
      ]
     },
     "metadata": {},
     "output_type": "display_data"
    },
    {
     "data": {
      "image/png": "[encoded data removed]",
      "text/plain": [
       "<Figure size 500x500 with 1 Axes>"
      ]
     },
     "metadata": {},
     "output_type": "display_data"
    }
   ],
   "source": [
    "df_filled['tenure'].hist(bins=11)\n",
    "plt.title('До заполнения пропусков медианным значением', weight = 'bold', size = 12)\n",
    "plt.xlabel('Cколько лет человек является клиентом банка')\n",
    "plt.ylabel('Количество клиентов')\n",
    "plt.show()\n",
    "df['tenure'].hist(bins=11)\n",
    "plt.title('После заполнения пропусков медианным значением', weight = 'bold', size = 12)\n",
    "plt.xlabel('Cколько лет человек является клиентом банка')\n",
    "plt.ylabel('Количество клиентов')\n",
    "plt.show()\n",
    "\n"
   ]
  },
  {
   "cell_type": "code",
   "execution_count": 14,
   "metadata": {},
   "outputs": [],
   "source": [
    "# заменим датасет на новый\n",
    "df = df_filled"
   ]
  },
  {
   "cell_type": "markdown",
   "metadata": {},
   "source": [
    "Прежде, чем обучать модель, подготовим данные для обработки:  \n",
    "\n",
    "Некоторые из фичей в нашем датасете являются категориальными, то есть принимают значения из (обычно конечного числа) значений, не являющихся числами. Например, пол, наличие кредитной карты, географические признаки и так далее. Как правило, с такими значениями невозможно производить арифметические операции или же результаты их применения не имеют смысла.\n",
    "Самый простой способ – использовать one-hot кодирование (one-hot encoding). Иными словами, вместо ячейки со значением  объекта появляется строка нулей и единиц.   \n",
    "\n",
    "Применим стандартизацию и OHE, чтобы применить несколько моделей машинного обучения (и не создавать множество датасетов).\n"
   ]
  },
  {
   "cell_type": "markdown",
   "metadata": {},
   "source": [
    "Что касается разделения данных, то у нас есть два варианта развития событий. Первый - создать двухкомпонентный датасет, где разбиение на две части, на тренировочные данные и тестовые данные. Это уместно в том случае, когда тестовая выборка спрятана. В такой момент рекомендуется 75% данных отвести под обучающую, а 25% — под валидационную. Соотношение 3:1.  \n",
    "\n",
    "Второй путь - это  создать трехкомпонентный датасет, где тренировочные, валидационные и тестовые данные.   \n",
    "На тренировочной части модель учится видеть, на тестовой проверяет качество. Когда модель пытается улучшится, то подыскивает оптимальное значение гиперпараметров. В этом случае есть вероятность переобучения (модель слишком подробно учитывает особенности, из-за чего становится малоэффективна).\n",
    "\n",
    "Чтобы избежать переобучения, мы можем создать валидационную выборку и проверять все этапы на ней.\n",
    "\n",
    "Разобъем данные на три части: обучающую, валидационную и тестовую. Размеры тестового и валидационного наборов обычно равны. Исходные данные рекомендуется разбить в соотношении 3:1:1.\n",
    "\n",
    "Выведем нужные нам столбцы и и присвоим их к новым переменным:"
   ]
  },
  {
   "cell_type": "code",
   "execution_count": 16,
   "metadata": {},
   "outputs": [],
   "source": [
    "features = df.drop('exited', axis=1)\n",
    "target = df['exited']"
   ]
  },
  {
   "cell_type": "code",
   "execution_count": 17,
   "metadata": {},
   "outputs": [],
   "source": [
    "# воспользуемся train_test_split с стратификацией по target\n",
    "\n",
    "features_train, features_test, target_train, target_test = train_test_split(features,\n",
    "                                                                target,\n",
    "                                                                test_size=0.2,\n",
    "                                                                random_state=12345, \n",
    "                                                                stratify=target)"
   ]
  },
  {
   "cell_type": "code",
   "execution_count": 18,
   "metadata": {},
   "outputs": [],
   "source": [
    "# воспользуемся train_test_split с стратификацией по target\n",
    "\n",
    "features_train, features_valid, target_train, target_valid = train_test_split(features_train,\n",
    "                                                                target_train,\n",
    "                                                                test_size=0.25,\n",
    "                                                                random_state=12345, \n",
    "                                                                stratify=target_train)"
   ]
  },
  {
   "cell_type": "markdown",
   "metadata": {},
   "source": [
    "StandardScaler – это важный метод, который в основном выполняется как этап предварительной обработки перед многими моделями машинного обучения, чтобы стандартизировать диапазон функциональных возможностей входного набора данных. Cтандартизируем признаки с помощью StandardScaler.\n"
   ]
  },
  {
   "cell_type": "code",
   "execution_count": 22,
   "metadata": {},
   "outputs": [],
   "source": [
    "#Проведем кодирование с помощью OHE\n",
    "df = pd.get_dummies(df, drop_first=True)\n",
    "features_train = pd.get_dummies(features_train, drop_first=True)\n",
    "features_valid = pd.get_dummies(features_valid, drop_first=True)\n",
    "features_test = pd.get_dummies(features_test, drop_first=True)"
   ]
  },
  {
   "cell_type": "code",
   "execution_count": 23,
   "metadata": {},
   "outputs": [
    {
     "name": "stdout",
     "output_type": "stream",
     "text": [
      "      credit_score       age  tenure   balance  num_of_products  has_cr_card  \\\n",
      "5536     -0.143332  0.577533     5.0 -1.220573                2            1   \n",
      "8530      1.632702 -0.564119     2.0  0.435807                1            1   \n",
      "1762      1.116413 -0.468981     1.0  1.245822                1            1   \n",
      "9090      1.643028  0.006707     5.0 -1.220573                1            1   \n",
      "8777     -0.484083 -1.420358     1.0  1.421989                2            1   \n",
      "\n",
      "      is_active_member  estimated_salary  geography_Germany  geography_Spain  \\\n",
      "5536                 1          1.029613              False             True   \n",
      "8530                 0          0.237986              False            False   \n",
      "1762                 1         -0.686104              False            False   \n",
      "9090                 0         -0.391097              False            False   \n",
      "8777                 0         -1.361559              False             True   \n",
      "\n",
      "      gender_Male  \n",
      "5536         True  \n",
      "8530        False  \n",
      "1762        False  \n",
      "9090        False  \n",
      "8777         True  \n"
     ]
    }
   ],
   "source": [
    "scaler = StandardScaler()\n",
    "numeric = ['credit_score', 'age', 'balance', 'estimated_salary']\n",
    "scaler.fit(features_train[numeric])# < напишите код здесь >\n",
    "features_train[numeric] = scaler.transform(features_train[numeric])\n",
    "features_valid[numeric] = scaler.transform(features_valid[numeric])\n",
    "features_test[numeric] = scaler.transform(features_test[numeric])\n",
    "print(features_train.head())\n"
   ]
  },
  {
   "cell_type": "markdown",
   "metadata": {},
   "source": [
    "Выведем размеры выборок для проверки, посмотрим, все ли прошло успешно."
   ]
  },
  {
   "cell_type": "code",
   "execution_count": 24,
   "metadata": {},
   "outputs": [
    {
     "name": "stdout",
     "output_type": "stream",
     "text": [
      "Размер тренировочной выборки 6000\n",
      "Размер валидационной выборки 2000\n",
      "Размер тестовой выборки 2000\n"
     ]
    }
   ],
   "source": [
    "print('Размер тренировочной выборки', target_train.shape[0])\n",
    "print('Размер валидационной выборки', target_valid.shape[0])\n",
    "print('Размер тестовой выборки', target_test.shape[0])"
   ]
  },
  {
   "cell_type": "code",
   "execution_count": 25,
   "metadata": {},
   "outputs": [
    {
     "data": {
      "text/html": [
       "<div>\n",
       "<style scoped>\n",
       "    .dataframe tbody tr th:only-of-type {\n",
       "        vertical-align: middle;\n",
       "    }\n",
       "\n",
       "    .dataframe tbody tr th {\n",
       "        vertical-align: top;\n",
       "    }\n",
       "\n",
       "    .dataframe thead th {\n",
       "        text-align: right;\n",
       "    }\n",
       "</style>\n",
       "<table border=\"1\" class=\"dataframe\">\n",
       "  <thead>\n",
       "    <tr style=\"text-align: right;\">\n",
       "      <th></th>\n",
       "      <th>credit_score</th>\n",
       "      <th>age</th>\n",
       "      <th>tenure</th>\n",
       "      <th>balance</th>\n",
       "      <th>num_of_products</th>\n",
       "      <th>has_cr_card</th>\n",
       "      <th>is_active_member</th>\n",
       "      <th>estimated_salary</th>\n",
       "      <th>geography_Germany</th>\n",
       "      <th>geography_Spain</th>\n",
       "      <th>gender_Male</th>\n",
       "    </tr>\n",
       "  </thead>\n",
       "  <tbody>\n",
       "    <tr>\n",
       "      <th>5536</th>\n",
       "      <td>-0.143332</td>\n",
       "      <td>0.577533</td>\n",
       "      <td>5.0</td>\n",
       "      <td>-1.220573</td>\n",
       "      <td>2</td>\n",
       "      <td>1</td>\n",
       "      <td>1</td>\n",
       "      <td>1.029613</td>\n",
       "      <td>False</td>\n",
       "      <td>True</td>\n",
       "      <td>True</td>\n",
       "    </tr>\n",
       "    <tr>\n",
       "      <th>8530</th>\n",
       "      <td>1.632702</td>\n",
       "      <td>-0.564119</td>\n",
       "      <td>2.0</td>\n",
       "      <td>0.435807</td>\n",
       "      <td>1</td>\n",
       "      <td>1</td>\n",
       "      <td>0</td>\n",
       "      <td>0.237986</td>\n",
       "      <td>False</td>\n",
       "      <td>False</td>\n",
       "      <td>False</td>\n",
       "    </tr>\n",
       "    <tr>\n",
       "      <th>1762</th>\n",
       "      <td>1.116413</td>\n",
       "      <td>-0.468981</td>\n",
       "      <td>1.0</td>\n",
       "      <td>1.245822</td>\n",
       "      <td>1</td>\n",
       "      <td>1</td>\n",
       "      <td>1</td>\n",
       "      <td>-0.686104</td>\n",
       "      <td>False</td>\n",
       "      <td>False</td>\n",
       "      <td>False</td>\n",
       "    </tr>\n",
       "    <tr>\n",
       "      <th>9090</th>\n",
       "      <td>1.643028</td>\n",
       "      <td>0.006707</td>\n",
       "      <td>5.0</td>\n",
       "      <td>-1.220573</td>\n",
       "      <td>1</td>\n",
       "      <td>1</td>\n",
       "      <td>0</td>\n",
       "      <td>-0.391097</td>\n",
       "      <td>False</td>\n",
       "      <td>False</td>\n",
       "      <td>False</td>\n",
       "    </tr>\n",
       "    <tr>\n",
       "      <th>8777</th>\n",
       "      <td>-0.484083</td>\n",
       "      <td>-1.420358</td>\n",
       "      <td>1.0</td>\n",
       "      <td>1.421989</td>\n",
       "      <td>2</td>\n",
       "      <td>1</td>\n",
       "      <td>0</td>\n",
       "      <td>-1.361559</td>\n",
       "      <td>False</td>\n",
       "      <td>True</td>\n",
       "      <td>True</td>\n",
       "    </tr>\n",
       "    <tr>\n",
       "      <th>...</th>\n",
       "      <td>...</td>\n",
       "      <td>...</td>\n",
       "      <td>...</td>\n",
       "      <td>...</td>\n",
       "      <td>...</td>\n",
       "      <td>...</td>\n",
       "      <td>...</td>\n",
       "      <td>...</td>\n",
       "      <td>...</td>\n",
       "      <td>...</td>\n",
       "      <td>...</td>\n",
       "    </tr>\n",
       "    <tr>\n",
       "      <th>2956</th>\n",
       "      <td>1.467489</td>\n",
       "      <td>-0.849532</td>\n",
       "      <td>8.0</td>\n",
       "      <td>-1.220573</td>\n",
       "      <td>2</td>\n",
       "      <td>1</td>\n",
       "      <td>0</td>\n",
       "      <td>1.727827</td>\n",
       "      <td>False</td>\n",
       "      <td>False</td>\n",
       "      <td>True</td>\n",
       "    </tr>\n",
       "    <tr>\n",
       "      <th>667</th>\n",
       "      <td>-1.516661</td>\n",
       "      <td>-0.944670</td>\n",
       "      <td>3.0</td>\n",
       "      <td>-1.220573</td>\n",
       "      <td>2</td>\n",
       "      <td>1</td>\n",
       "      <td>1</td>\n",
       "      <td>0.760116</td>\n",
       "      <td>False</td>\n",
       "      <td>False</td>\n",
       "      <td>True</td>\n",
       "    </tr>\n",
       "    <tr>\n",
       "      <th>7371</th>\n",
       "      <td>2.066384</td>\n",
       "      <td>-0.849532</td>\n",
       "      <td>10.0</td>\n",
       "      <td>1.243157</td>\n",
       "      <td>2</td>\n",
       "      <td>1</td>\n",
       "      <td>0</td>\n",
       "      <td>-0.649923</td>\n",
       "      <td>False</td>\n",
       "      <td>False</td>\n",
       "      <td>True</td>\n",
       "    </tr>\n",
       "    <tr>\n",
       "      <th>9472</th>\n",
       "      <td>1.291951</td>\n",
       "      <td>3.336526</td>\n",
       "      <td>0.0</td>\n",
       "      <td>1.361543</td>\n",
       "      <td>1</td>\n",
       "      <td>1</td>\n",
       "      <td>1</td>\n",
       "      <td>0.602245</td>\n",
       "      <td>True</td>\n",
       "      <td>False</td>\n",
       "      <td>False</td>\n",
       "    </tr>\n",
       "    <tr>\n",
       "      <th>8193</th>\n",
       "      <td>-0.597666</td>\n",
       "      <td>2.575424</td>\n",
       "      <td>5.0</td>\n",
       "      <td>1.178790</td>\n",
       "      <td>1</td>\n",
       "      <td>1</td>\n",
       "      <td>1</td>\n",
       "      <td>-0.416088</td>\n",
       "      <td>False</td>\n",
       "      <td>False</td>\n",
       "      <td>False</td>\n",
       "    </tr>\n",
       "  </tbody>\n",
       "</table>\n",
       "<p>6000 rows × 11 columns</p>\n",
       "</div>"
      ],
      "text/plain": [
       "      credit_score       age  tenure   balance  num_of_products  has_cr_card  \\\n",
       "5536     -0.143332  0.577533     5.0 -1.220573                2            1   \n",
       "8530      1.632702 -0.564119     2.0  0.435807                1            1   \n",
       "1762      1.116413 -0.468981     1.0  1.245822                1            1   \n",
       "9090      1.643028  0.006707     5.0 -1.220573                1            1   \n",
       "8777     -0.484083 -1.420358     1.0  1.421989                2            1   \n",
       "...            ...       ...     ...       ...              ...          ...   \n",
       "2956      1.467489 -0.849532     8.0 -1.220573                2            1   \n",
       "667      -1.516661 -0.944670     3.0 -1.220573                2            1   \n",
       "7371      2.066384 -0.849532    10.0  1.243157                2            1   \n",
       "9472      1.291951  3.336526     0.0  1.361543                1            1   \n",
       "8193     -0.597666  2.575424     5.0  1.178790                1            1   \n",
       "\n",
       "      is_active_member  estimated_salary  geography_Germany  geography_Spain  \\\n",
       "5536                 1          1.029613              False             True   \n",
       "8530                 0          0.237986              False            False   \n",
       "1762                 1         -0.686104              False            False   \n",
       "9090                 0         -0.391097              False            False   \n",
       "8777                 0         -1.361559              False             True   \n",
       "...                ...               ...                ...              ...   \n",
       "2956                 0          1.727827              False            False   \n",
       "667                  1          0.760116              False            False   \n",
       "7371                 0         -0.649923              False            False   \n",
       "9472                 1          0.602245               True            False   \n",
       "8193                 1         -0.416088              False            False   \n",
       "\n",
       "      gender_Male  \n",
       "5536         True  \n",
       "8530        False  \n",
       "1762        False  \n",
       "9090        False  \n",
       "8777         True  \n",
       "...           ...  \n",
       "2956         True  \n",
       "667          True  \n",
       "7371         True  \n",
       "9472        False  \n",
       "8193        False  \n",
       "\n",
       "[6000 rows x 11 columns]"
      ]
     },
     "execution_count": 25,
     "metadata": {},
     "output_type": "execute_result"
    }
   ],
   "source": [
    "# код ревьюера\n",
    "features_train"
   ]
  },
  {
   "cell_type": "markdown",
   "metadata": {},
   "source": [
    "Датасет состоит из 10000 строк, часть пропущенных значений заполнена.\n",
    "\n",
    "Выборка несбалансирована, примерно 20% клиентов уходят из банка.\n",
    "\n",
    "Данные предобратоны, заполнены пропущенные значения и произведена стандартизация данных.   \n",
    "Приступим к исследованию моделей машинного обучения 🚀\n",
    "    <br />\n",
    "    </font>\n",
    "\n",
    "</div>"
   ]
  },
  {
   "cell_type": "markdown",
   "metadata": {},
   "source": [
    "## Исследование задачи"
   ]
  },
  {
   "cell_type": "markdown",
   "metadata": {},
   "source": [
    "Для машинного обучения на тренировочной выборке воспользуемся ранее изученными способами классификации:  \n",
    "\n",
    "Дерево решений  \n",
    "Случайный лес  \n",
    "Линейная регрессия  \n",
    "\n",
    "И так же подберём гиперпараметры на валидацонной выборке.  \n"
   ]
  },
  {
   "cell_type": "markdown",
   "metadata": {},
   "source": [
    "Рассмотрим первую модель — решающее дерево. Оно может описывать процесс принятия решения почти в любой ситуации. На основе значений признаков формулируются ответы, а затем выстраивается дерево с ответами «Да»/«Нет» и различными вариантами действий:\n",
    "\n",
    "Сразу проведем исследование при разном значении max_depth:"
   ]
  },
  {
   "cell_type": "code",
   "execution_count": 26,
   "metadata": {},
   "outputs": [
    {
     "name": "stdout",
     "output_type": "stream",
     "text": [
      "Max depth 2 F1-score 0.514792899408284\n",
      "Max depth 3 F1-score 0.375\n",
      "Max depth 4 F1-score 0.5168539325842697\n",
      "Max depth 5 F1-score 0.46045694200351495\n",
      "Max depth 6 F1-score 0.5358851674641149\n",
      "Max depth 7 F1-score 0.5482866043613708\n",
      "Max depth 8 F1-score 0.5796269727403156\n",
      "Max depth 9 F1-score 0.5750350631136044\n",
      "Max depth 10 F1-score 0.5308464849354376\n",
      "Max depth 11 F1-score 0.5572005383580081\n",
      "Max depth 12 F1-score 0.5335051546391754\n",
      "Max depth 13 F1-score 0.5084306095979247\n",
      "Max depth 14 F1-score 0.5152284263959391\n",
      "Max depth 15 F1-score 0.5099502487562189\n",
      "Max depth 16 F1-score 0.5037037037037037\n",
      "Max depth 17 F1-score 0.5043263288009889\n",
      "Max depth 18 F1-score 0.4993997599039616\n",
      "Max depth 19 F1-score 0.4939467312348669\n",
      "Max depth 20 F1-score 0.5006016847172081\n",
      "Max depth 21 F1-score 0.4934131736526946\n",
      "Max depth 22 F1-score 0.49582836710369493\n",
      "Max depth 23 F1-score 0.5\n",
      "Max depth 24 F1-score 0.4982206405693951\n",
      "Max depth 25 F1-score 0.4982206405693951\n",
      "Max depth 26 F1-score 0.4982206405693951\n",
      "Max depth 27 F1-score 0.4982206405693951\n",
      "Max depth 28 F1-score 0.4982206405693951\n",
      "Max depth 29 F1-score 0.4982206405693951\n"
     ]
    }
   ],
   "source": [
    "for depth in range(2, 30):\n",
    "    model = DecisionTreeClassifier(random_state=12345, max_depth=depth)\n",
    "    model.fit(features_train, target_train)\n",
    "    predicted_valid = model.predict(features_valid)\n",
    "    print('Max depth', depth,'F1-score', f1_score(target_valid, predicted_valid))"
   ]
  },
  {
   "cell_type": "markdown",
   "metadata": {},
   "source": [
    "Лучший показатель при глубине равной 8\n",
    "    "
   ]
  },
  {
   "cell_type": "markdown",
   "metadata": {},
   "source": [
    "Один из алгоритмов классификации — случайный лес (random forest). Алгоритм обучает большое количество независимых друг от друга деревьев, а потом принимает решение на основе голосования.\n",
    "\n",
    "Проведем исследование на разное количество деревьев."
   ]
  },
  {
   "cell_type": "code",
   "execution_count": 28,
   "metadata": {},
   "outputs": [
    {
     "name": "stderr",
     "output_type": "stream",
     "text": [
      "100%|█████████████████████████████████████████████████████████████| 15/15 [00:49<00:00,  3.28s/it]\n"
     ]
    }
   ],
   "source": [
    "# запустим цикл с перебором количества деревьев от 10 до 50 с шагом 10\n",
    "table_forest = pd.DataFrame({'n_estimators':[], 'max_depth':[], 'f1':[]})\n",
    "for est in tqdm(range(10, 151, 10)):\n",
    "    # и глубины дерева от 1 до 10\n",
    "    for depth in range (1, 16):\n",
    "        row = []\n",
    "        model = RandomForestClassifier(random_state=12345, n_estimators=est, max_depth=depth)\n",
    "        model.fit(features_train, target_train)\n",
    "        predictions_valid = model.predict(features_valid)\n",
    "        f1 = f1_score(target_valid, predictions_valid)\n",
    "        row.extend([est, depth, f1])\n",
    "        table_forest.loc[len(table_forest.index)] = row"
   ]
  },
  {
   "cell_type": "code",
   "execution_count": 29,
   "metadata": {},
   "outputs": [
    {
     "data": {
      "text/html": [
       "<div>\n",
       "<style scoped>\n",
       "    .dataframe tbody tr th:only-of-type {\n",
       "        vertical-align: middle;\n",
       "    }\n",
       "\n",
       "    .dataframe tbody tr th {\n",
       "        vertical-align: top;\n",
       "    }\n",
       "\n",
       "    .dataframe thead th {\n",
       "        text-align: right;\n",
       "    }\n",
       "</style>\n",
       "<table border=\"1\" class=\"dataframe\">\n",
       "  <thead>\n",
       "    <tr style=\"text-align: right;\">\n",
       "      <th></th>\n",
       "      <th>n_estimators</th>\n",
       "      <th>max_depth</th>\n",
       "      <th>f1</th>\n",
       "      <th>model</th>\n",
       "    </tr>\n",
       "  </thead>\n",
       "  <tbody>\n",
       "    <tr>\n",
       "      <th>163</th>\n",
       "      <td>110.0</td>\n",
       "      <td>14.0</td>\n",
       "      <td>0.575428</td>\n",
       "      <td>random forest</td>\n",
       "    </tr>\n",
       "  </tbody>\n",
       "</table>\n",
       "</div>"
      ],
      "text/plain": [
       "     n_estimators  max_depth        f1          model\n",
       "163         110.0       14.0  0.575428  random forest"
      ]
     },
     "execution_count": 29,
     "metadata": {},
     "output_type": "execute_result"
    }
   ],
   "source": [
    "# выдергиваем максимальное значение из таблицы best_forest\n",
    "best_forest = table_forest[table_forest['f1'] == table_forest['f1'].max()]\n",
    "best_forest['model'] = 'random forest'\n",
    "best_forest"
   ]
  },
  {
   "cell_type": "markdown",
   "metadata": {},
   "source": [
    "Лучший результат estimators - 110, max_depth - 14"
   ]
  },
  {
   "cell_type": "markdown",
   "metadata": {},
   "source": [
    "Ещё один алгоритм машинного обучения — логистическая регрессия.\n",
    "\n",
    "Если название и «мимикрирует» под задачу регрессии, всё-таки это алгоритм классификации. Логистическая регрессия:\n",
    "\n",
    "Сначала считает, к какому классу близок объект\n",
    "В зависимости от ответа выбирает нужный класс: если результат вычисления положительный, то — «1»; отрицательный — «0».\n",
    "В логистической регрессии параметров мало. Что-либо вызубрить по признакам в формуле не выйдет, поэтому и вероятность переобучения невелика.\n"
   ]
  },
  {
   "cell_type": "code",
   "execution_count": 30,
   "metadata": {},
   "outputs": [
    {
     "name": "stdout",
     "output_type": "stream",
     "text": [
      "F1: 0.3214953271028037\n"
     ]
    }
   ],
   "source": [
    "model = LogisticRegression(random_state=12345, solver='liblinear')\n",
    "model.fit(features_train, target_train)\n",
    "predicted_valid = model.predict(features_valid)\n",
    "f1_model = f1_score(target_valid, predicted_valid)\n",
    "print(\"F1:\", f1_model)"
   ]
  },
  {
   "cell_type": "markdown",
   "metadata": {},
   "source": [
    "Проведем оценку accuracy, precision и recall, также покажем F-метрику у Решающего дерева  \n",
    "\n",
    "\n",
    "Следом роведем построение ROC-кривой для Решающего дерева. И выведем показатель AUC-ROC.  "
   ]
  },
  {
   "cell_type": "code",
   "execution_count": 31,
   "metadata": {},
   "outputs": [
    {
     "name": "stdout",
     "output_type": "stream",
     "text": [
      "Решающее дерево\n",
      "Точность попадания по классам 0.8535\n",
      "Precision 0.696551724137931\n",
      "Recall 0.4963144963144963\n",
      "F1 0.5796269727403156\n",
      "\n"
     ]
    }
   ],
   "source": [
    "\n",
    "model = DecisionTreeClassifier(random_state=12345, max_depth=8)\n",
    "model.fit(features_train, target_train)\n",
    "predicted_valid = model.predict(features_valid)\n",
    "print('Решающее дерево')\n",
    "print('Точность попадания по классам', accuracy_score(target_valid, predicted_valid))\n",
    "print('Precision', precision_score(target_valid, predicted_valid))\n",
    "print('Recall', recall_score(target_valid, predicted_valid))\n",
    "print('F1', f1_score(target_valid, predicted_valid))\n",
    "print()"
   ]
  },
  {
   "cell_type": "code",
   "execution_count": 32,
   "metadata": {},
   "outputs": [
    {
     "name": "stdout",
     "output_type": "stream",
     "text": [
      "AUC-ROC DecisionTreeClassifier 0.8073967650238837\n"
     ]
    },
    {
     "data": {
      "image/png": "[encoded data removed]",
      "text/plain": [
       "<Figure size 1200x900 with 1 Axes>"
      ]
     },
     "metadata": {},
     "output_type": "display_data"
    }
   ],
   "source": [
    "plt.figure(figsize=[12,9])\n",
    "plt.plot([0, 1], [0, 1], linestyle='--', label='RandomModel')\n",
    "model = DecisionTreeClassifier(random_state=12345, max_depth=8)\n",
    "model.fit(features_train, target_train)\n",
    "probabilities_valid = model.predict_proba(features_valid)\n",
    "probabilities_one_valid = probabilities_valid[:, 1]\n",
    "fpr, tpr, thresholds = roc_curve(target_valid, probabilities_one_valid)\n",
    "auc_roc = roc_auc_score(target_valid, probabilities_one_valid)\n",
    "print('AUC-ROC DecisionTreeClassifier',auc_roc)\n",
    "plt.plot(fpr, tpr, label='DecisionTreeClassifier')\n",
    "plt.xlim([0,1])\n",
    "plt.ylim([0,1])\n",
    "plt.xlabel(\"False Positive Rate\")\n",
    "plt.ylabel(\"True Positive Rate\")\n",
    "plt.legend(loc='lower right', fontsize='x-large')\n",
    "plt.title(\"ROC-кривая\")\n",
    "plt.show()"
   ]
  },
  {
   "cell_type": "markdown",
   "metadata": {},
   "source": [
    "Проведем оценку accuracy, precision и recall, также покажем F-метрику у Случайного леса \n",
    "\n",
    "\n",
    "Следом роведем построение ROC-кривой для Случайного леса. И выведем показатель AUC-ROC. "
   ]
  },
  {
   "cell_type": "code",
   "execution_count": 33,
   "metadata": {},
   "outputs": [
    {
     "name": "stdout",
     "output_type": "stream",
     "text": [
      "Случайный лес\n",
      "Точность попадания по классам 0.8635\n",
      "Precision 0.7838983050847458\n",
      "Recall 0.45454545454545453\n",
      "F1 0.5754276827371696\n",
      "\n"
     ]
    }
   ],
   "source": [
    "model = RandomForestClassifier(random_state=12345, n_estimators=110, max_depth=14)\n",
    "model.fit(features_train, target_train)\n",
    "predicted_valid = model.predict(features_valid)\n",
    "print('Случайный лес')\n",
    "print('Точность попадания по классам', accuracy_score(target_valid, predicted_valid))\n",
    "print('Precision', precision_score(target_valid, predicted_valid))\n",
    "print('Recall', recall_score(target_valid, predicted_valid))\n",
    "print('F1', f1_score(target_valid, predicted_valid))\n",
    "print()"
   ]
  },
  {
   "cell_type": "code",
   "execution_count": 34,
   "metadata": {},
   "outputs": [
    {
     "name": "stdout",
     "output_type": "stream",
     "text": [
      "AUC-ROC RandomForestClassifier 0.8595089696784612\n"
     ]
    },
    {
     "data": {
      "image/png": "[encoded data removed]",
      "text/plain": [
       "<Figure size 1200x900 with 1 Axes>"
      ]
     },
     "metadata": {},
     "output_type": "display_data"
    }
   ],
   "source": [
    "plt.figure(figsize=[12,9])\n",
    "plt.plot([0, 1], [0, 1], linestyle='--', label='RandomModel')\n",
    "model = RandomForestClassifier(random_state=12345,  n_estimators=110, max_depth=14)\n",
    "model.fit(features_train, target_train)\n",
    "probabilities_valid = model.predict_proba(features_valid)\n",
    "probabilities_one_valid = probabilities_valid[:, 1]\n",
    "fpr, tpr, thresholds = roc_curve(target_valid, probabilities_one_valid)\n",
    "auc_roc = roc_auc_score(target_valid, probabilities_one_valid)\n",
    "print('AUC-ROC RandomForestClassifier',auc_roc)\n",
    "plt.plot(fpr, tpr, label='RandomForestClassifier')\n",
    "plt.xlim([0,1])\n",
    "plt.ylim([0,1])\n",
    "plt.xlabel(\"False Positive Rate\")\n",
    "plt.ylabel(\"True Positive Rate\")\n",
    "plt.legend(loc='lower right', fontsize='x-large')\n",
    "plt.title(\"ROC-кривая\")\n",
    "plt.show()"
   ]
  },
  {
   "cell_type": "markdown",
   "metadata": {},
   "source": [
    "Проведем оценку accuracy, precision и recall, также покажем F-метрику у Логистическая регрессия \n",
    "\n",
    "\n",
    "Следом проведем построение ROC-кривой для Логистическая регрессия. И выведем показатель AUC-ROC. "
   ]
  },
  {
   "cell_type": "code",
   "execution_count": 35,
   "metadata": {},
   "outputs": [
    {
     "name": "stdout",
     "output_type": "stream",
     "text": [
      "Логистическая регрессия\n",
      "Точность попадания по классам 0.8185\n",
      "Precision 0.671875\n",
      "Recall 0.2113022113022113\n",
      "F1 0.3214953271028037\n",
      "\n"
     ]
    }
   ],
   "source": [
    "model = LogisticRegression(random_state=12345, solver='liblinear')\n",
    "model.fit(features_train, target_train)\n",
    "predicted_valid = model.predict(features_valid)\n",
    "print('Логистическая регрессия')\n",
    "print('Точность попадания по классам', accuracy_score(target_valid, predicted_valid))\n",
    "print('Precision', precision_score(target_valid, predicted_valid))\n",
    "print('Recall', recall_score(target_valid, predicted_valid))\n",
    "print('F1', f1_score(target_valid, predicted_valid))\n",
    "print()\n"
   ]
  },
  {
   "cell_type": "code",
   "execution_count": 36,
   "metadata": {},
   "outputs": [
    {
     "name": "stdout",
     "output_type": "stream",
     "text": [
      "AUC-ROC LogisticRegression 0.7875996181080926\n"
     ]
    },
    {
     "data": {
      "image/png": "[encoded data removed]",
      "text/plain": [
       "<Figure size 1200x900 with 1 Axes>"
      ]
     },
     "metadata": {},
     "output_type": "display_data"
    }
   ],
   "source": [
    "plt.figure(figsize=[12,9])\n",
    "plt.plot([0, 1], [0, 1], linestyle='--', label='RandomModel')\n",
    "model = LogisticRegression(random_state=12345, solver='liblinear')\n",
    "model.fit(features_train, target_train)\n",
    "probabilities_valid = model.predict_proba(features_valid)\n",
    "probabilities_one_valid = probabilities_valid[:, 1]\n",
    "fpr, tpr, thresholds = roc_curve(target_valid, probabilities_one_valid)\n",
    "auc_roc = roc_auc_score(target_valid, probabilities_one_valid)\n",
    "print('AUC-ROC LogisticRegression',auc_roc)\n",
    "plt.plot(fpr, tpr, label='LogisticRegression')\n",
    "\n",
    "\n",
    "\n",
    "plt.xlim([0,1])\n",
    "plt.ylim([0,1])\n",
    "\n",
    "plt.xlabel(\"False Positive Rate\")\n",
    "plt.ylabel(\"True Positive Rate\")\n",
    "\n",
    "plt.legend(loc='lower right', fontsize='x-large')\n",
    "\n",
    "plt.title(\"ROC-кривая\")\n",
    "plt.show()"
   ]
  },
  {
   "cell_type": "markdown",
   "metadata": {},
   "source": [
    "Вывод:  \n",
    "\n",
    "В ходе проведенного исследования можно заменить, что метрика F1 и AUC-ROC лучшая на Случаном лесе."
   ]
  },
  {
   "cell_type": "markdown",
   "metadata": {},
   "source": [
    "## Борьба с дисбалансом"
   ]
  },
  {
   "cell_type": "markdown",
   "metadata": {},
   "source": [
    "Придадим объектам редкого класса больший вес.\n",
    "Например, вы готовитесь к экзаменам и проходите тест. За решение одного вида задач вы получите один балл, другого — два. Чтобы получить более высокую оценку, вы сосредоточились только на «двухбалльных» задачах. Так и модели проще запоминать объекты бóльшей значимости.\n",
    "Алгоритмы машинного обучения считают все объекты обучающей выборки равнозначными по умолчанию. Если важно указать, что какие-то объекты важнее, их классу присваивается вес (англ. class_weight, «вес класса»).\n",
    "В алгоритме логистической регрессии в библиотеке sklearn есть аргумент class_weight. По умолчанию он равен None, т. е. классы равнозначны:\n",
    "вес класса «0» = 1.0\n",
    "вес класса «1» = 1.0\n",
    "Если указать class_weight='balanced' (англ. «сбалансированный»), алгоритм посчитает, во сколько раз класс «0» встречается чаще класса «1». "
   ]
  },
  {
   "cell_type": "code",
   "execution_count": 37,
   "metadata": {},
   "outputs": [
    {
     "name": "stdout",
     "output_type": "stream",
     "text": [
      "Max depth 2 F1-score 0.5074135090609556\n",
      "Max depth 3 F1-score 0.5336538461538461\n",
      "Max depth 4 F1-score 0.5422594142259414\n",
      "Max depth 5 F1-score 0.5606190885640585\n",
      "Max depth 6 F1-score 0.5747330960854092\n",
      "Max depth 7 F1-score 0.5691056910569106\n",
      "Max depth 8 F1-score 0.5548504079782411\n",
      "Max depth 9 F1-score 0.5293005671077505\n",
      "Max depth 10 F1-score 0.5255052935514919\n",
      "Max depth 11 F1-score 0.5291113381001021\n",
      "Max depth 12 F1-score 0.5289778714436248\n",
      "Max depth 13 F1-score 0.5157657657657658\n",
      "Max depth 14 F1-score 0.4835414301929626\n",
      "Max depth 15 F1-score 0.48072562358276644\n",
      "Max depth 16 F1-score 0.5040650406504065\n",
      "Max depth 17 F1-score 0.47697756788665885\n",
      "Max depth 18 F1-score 0.48727272727272725\n",
      "Max depth 19 F1-score 0.4945188794153471\n",
      "Max depth 20 F1-score 0.48894348894348894\n",
      "Max depth 21 F1-score 0.48477466504263095\n",
      "Max depth 22 F1-score 0.4969400244798041\n",
      "Max depth 23 F1-score 0.49570552147239266\n",
      "Max depth 24 F1-score 0.49570552147239266\n",
      "Max depth 25 F1-score 0.49570552147239266\n",
      "Max depth 26 F1-score 0.49570552147239266\n",
      "Max depth 27 F1-score 0.49570552147239266\n",
      "Max depth 28 F1-score 0.49570552147239266\n",
      "Max depth 29 F1-score 0.49570552147239266\n"
     ]
    }
   ],
   "source": [
    "for depth in range(2, 30):\n",
    "    model = DecisionTreeClassifier(random_state=12345, max_depth=depth, class_weight='balanced')\n",
    "    model.fit(features_train, target_train)\n",
    "    predicted_valid = model.predict(features_valid)\n",
    "    print('Max depth', depth,'F1-score', f1_score(target_valid, predicted_valid))"
   ]
  },
  {
   "cell_type": "markdown",
   "metadata": {},
   "source": [
    "Лучший показатель при Max depth равном 6"
   ]
  },
  {
   "cell_type": "code",
   "execution_count": 38,
   "metadata": {},
   "outputs": [
    {
     "name": "stderr",
     "output_type": "stream",
     "text": [
      "100%|█████████████████████████████████████████████████████████████| 15/15 [00:49<00:00,  3.27s/it]\n"
     ]
    }
   ],
   "source": [
    "# запустим цикл с перебором количества деревьев от 10 до 50 с шагом 10\n",
    "table_forest = pd.DataFrame({'n_estimators':[], 'max_depth':[], 'f1':[]})\n",
    "for est in tqdm(range(10, 151, 10)):\n",
    "    # и глубины дерева от 1 до 10\n",
    "    for depth in range (1, 16):\n",
    "        row = []\n",
    "        model = RandomForestClassifier(random_state=12345, n_estimators=est, max_depth=depth, class_weight='balanced')\n",
    "        model.fit(features_train, target_train)\n",
    "        predictions_valid = model.predict(features_valid)\n",
    "        f1 = f1_score(target_valid, predictions_valid)\n",
    "        row.extend([est, depth, f1])\n",
    "        table_forest.loc[len(table_forest.index)] = row"
   ]
  },
  {
   "cell_type": "code",
   "execution_count": 39,
   "metadata": {},
   "outputs": [
    {
     "data": {
      "text/html": [
       "<div>\n",
       "<style scoped>\n",
       "    .dataframe tbody tr th:only-of-type {\n",
       "        vertical-align: middle;\n",
       "    }\n",
       "\n",
       "    .dataframe tbody tr th {\n",
       "        vertical-align: top;\n",
       "    }\n",
       "\n",
       "    .dataframe thead th {\n",
       "        text-align: right;\n",
       "    }\n",
       "</style>\n",
       "<table border=\"1\" class=\"dataframe\">\n",
       "  <thead>\n",
       "    <tr style=\"text-align: right;\">\n",
       "      <th></th>\n",
       "      <th>n_estimators</th>\n",
       "      <th>max_depth</th>\n",
       "      <th>f1</th>\n",
       "      <th>model</th>\n",
       "    </tr>\n",
       "  </thead>\n",
       "  <tbody>\n",
       "    <tr>\n",
       "      <th>189</th>\n",
       "      <td>130.0</td>\n",
       "      <td>10.0</td>\n",
       "      <td>0.644068</td>\n",
       "      <td>random forest</td>\n",
       "    </tr>\n",
       "  </tbody>\n",
       "</table>\n",
       "</div>"
      ],
      "text/plain": [
       "     n_estimators  max_depth        f1          model\n",
       "189         130.0       10.0  0.644068  random forest"
      ]
     },
     "execution_count": 39,
     "metadata": {},
     "output_type": "execute_result"
    }
   ],
   "source": [
    "# выдергиваем максимальное значение из таблицы best_forest\n",
    "best_forest = table_forest[table_forest['f1'] == table_forest['f1'].max()]\n",
    "best_forest['model'] = 'random forest'\n",
    "best_forest"
   ]
  },
  {
   "cell_type": "markdown",
   "metadata": {},
   "source": [
    "Лучший показатель при estimators равном 130 и max_depth равным 10"
   ]
  },
  {
   "cell_type": "code",
   "execution_count": 40,
   "metadata": {},
   "outputs": [
    {
     "name": "stdout",
     "output_type": "stream",
     "text": [
      "F1: 0.5113043478260869\n"
     ]
    }
   ],
   "source": [
    "model = LogisticRegression(random_state=12345, solver='liblinear', class_weight='balanced')\n",
    "model.fit(features_train, target_train)\n",
    "predicted_valid = model.predict(features_valid)\n",
    "f1_model = f1_score(target_valid, predicted_valid)\n",
    "print(\"F1:\", f1_model)"
   ]
  },
  {
   "cell_type": "markdown",
   "metadata": {},
   "source": [
    "Показатель F1 увеличился, но не достиг необходимого результата.\n"
   ]
  },
  {
   "cell_type": "code",
   "execution_count": 41,
   "metadata": {},
   "outputs": [
    {
     "name": "stdout",
     "output_type": "stream",
     "text": [
      "AUC-ROC DecisionTreeClassifier 0.8353337929609115\n",
      "Решающее дерево\n",
      "Точность попадания по классам 0.761\n",
      "Precision 0.4504881450488145\n",
      "Recall 0.7936117936117936\n",
      "F1 0.5747330960854092\n",
      "\n",
      "AUC-ROC RandomForestClassifier 0.8692066488676657\n",
      "Случайный лес\n",
      "Точность попадания по классам 0.853\n",
      "Precision 0.6348448687350835\n",
      "Recall 0.6535626535626535\n",
      "F1 0.6440677966101696\n",
      "\n",
      "AUC-ROC LogisticRegression 0.7918149274081477\n",
      "Логистическая регрессия\n",
      "Точность попадания по классам 0.719\n",
      "Precision 0.39569313593539707\n",
      "Recall 0.7223587223587223\n",
      "F1 0.5113043478260869\n",
      "\n"
     ]
    }
   ],
   "source": [
    "model = DecisionTreeClassifier(random_state=12345, max_depth=6, class_weight='balanced')\n",
    "model.fit(features_train, target_train)\n",
    "predicted_valid = model.predict(features_valid)\n",
    "probabilities_valid = model.predict_proba(features_valid)\n",
    "probabilities_one_valid = probabilities_valid[:, 1]\n",
    "fpr, tpr, thresholds = roc_curve(target_valid, probabilities_one_valid)\n",
    "auc_roc = roc_auc_score(target_valid, probabilities_one_valid)\n",
    "print('AUC-ROC DecisionTreeClassifier',auc_roc)\n",
    "print('Решающее дерево')\n",
    "print('Точность попадания по классам', accuracy_score(target_valid, predicted_valid))\n",
    "print('Precision', precision_score(target_valid, predicted_valid))\n",
    "print('Recall', recall_score(target_valid, predicted_valid))\n",
    "print('F1', f1_score(target_valid, predicted_valid))\n",
    "print()\n",
    "\n",
    "model = RandomForestClassifier(random_state=12345, n_estimators=130,  max_depth=10, class_weight='balanced')\n",
    "model.fit(features_train, target_train)\n",
    "predicted_valid = model.predict(features_valid)\n",
    "probabilities_valid = model.predict_proba(features_valid)\n",
    "probabilities_one_valid = probabilities_valid[:, 1]\n",
    "fpr, tpr, thresholds = roc_curve(target_valid, probabilities_one_valid)\n",
    "auc_roc = roc_auc_score(target_valid, probabilities_one_valid)\n",
    "print('AUC-ROC RandomForestClassifier',auc_roc)\n",
    "print('Случайный лес')\n",
    "print('Точность попадания по классам', accuracy_score(target_valid, predicted_valid))\n",
    "print('Precision', precision_score(target_valid, predicted_valid))\n",
    "print('Recall', recall_score(target_valid, predicted_valid))\n",
    "print('F1', f1_score(target_valid, predicted_valid))\n",
    "print()\n",
    "\n",
    "model = LogisticRegression(random_state=12345, solver='liblinear', class_weight='balanced')\n",
    "model.fit(features_train, target_train)\n",
    "predicted_valid = model.predict(features_valid)\n",
    "probabilities_valid = model.predict_proba(features_valid)\n",
    "probabilities_one_valid = probabilities_valid[:, 1]\n",
    "fpr, tpr, thresholds = roc_curve(target_valid, probabilities_one_valid)\n",
    "auc_roc = roc_auc_score(target_valid, probabilities_one_valid)\n",
    "print('AUC-ROC LogisticRegression',auc_roc)\n",
    "print('Логистическая регрессия')\n",
    "print('Точность попадания по классам', accuracy_score(target_valid, predicted_valid))\n",
    "print('Precision', precision_score(target_valid, predicted_valid))\n",
    "print('Recall', recall_score(target_valid, predicted_valid))\n",
    "print('F1', f1_score(target_valid, predicted_valid))\n",
    "print()\n"
   ]
  },
  {
   "cell_type": "markdown",
   "metadata": {},
   "source": [
    "Определенно видны сдвиги в лучшую сторону, особенно у модели Случайного леса, т.к. показатель F1 вырос до значения 0.64"
   ]
  },
  {
   "cell_type": "markdown",
   "metadata": {},
   "source": [
    "Как сделать объекты частого класса не такими частыми? Вместо повторения важных вопросов убрать часть неважных. Это можно сделать техникой downsampling (от англ. down — «вниз»; sampling — «выборка»).  \n",
    "Преобразование проходит в несколько этапов:  \n",
    "•\tРазделить обучающую выборку на отрицательные и положительные объекты;  \n",
    "•\tСлучайным образом отбросить часть из отрицательных объектов;   \n",
    "•\tС учётом полученных данных создать новую обучающую выборку;  \n",
    "•\tПеремешать данные. Положительные не должны идти следом за отрицательными: алгоритмам будет сложнее обучаться.  \n",
    "Чтобы выбросить из таблицы случайные элементы, примените функцию sample(). На вход она принимает аргумент frac (от англ. fraction, «доля»). Возвращает случайные элементы в таком количестве, чтобы их доля от исходной таблицы была равна frac.  \n"
   ]
  },
  {
   "cell_type": "code",
   "execution_count": 42,
   "metadata": {},
   "outputs": [],
   "source": [
    "def downsample(features, target, fraction):\n",
    "    features_zeros = features[target == 0]\n",
    "    features_ones = features[target == 1]\n",
    "    target_zeros = target[target == 0]\n",
    "    target_ones = target[target == 1]\n",
    "\n",
    "    features_downsampled = pd.concat(\n",
    "        [features_zeros.sample(frac=fraction, random_state=12345)] + [features_ones])\n",
    "    target_downsampled = pd.concat(\n",
    "        [target_zeros.sample(frac=fraction, random_state=12345)] + [target_ones])\n",
    "    \n",
    "    features_downsampled, target_downsampled = shuffle(\n",
    "        features_downsampled, target_downsampled, random_state=12345)\n",
    "    \n",
    "    return features_downsampled, target_downsampled\n",
    "\n"
   ]
  },
  {
   "cell_type": "markdown",
   "metadata": {},
   "source": [
    "Уменьшаем выборку в 4 раза, так как 20% клиентов уходят из банка (чтобы значения были приблизительно равны):"
   ]
  },
  {
   "cell_type": "code",
   "execution_count": 43,
   "metadata": {},
   "outputs": [
    {
     "name": "stdout",
     "output_type": "stream",
     "text": [
      "exited\n",
      "1    1223\n",
      "0    1194\n",
      "Name: count, dtype: int64\n"
     ]
    }
   ],
   "source": [
    "features_downsampled, target_downsampled = downsample(features_train, target_train, 0.25)\n",
    "\n",
    "print(target_downsampled.value_counts())"
   ]
  },
  {
   "cell_type": "markdown",
   "metadata": {},
   "source": [
    "\n"
   ]
  },
  {
   "cell_type": "code",
   "execution_count": 44,
   "metadata": {},
   "outputs": [
    {
     "name": "stdout",
     "output_type": "stream",
     "text": [
      "Max depth 2 F1-score 0.4860681114551083\n",
      "Max depth 3 F1-score 0.5159817351598174\n",
      "Max depth 4 F1-score 0.5228548516439455\n",
      "Max depth 5 F1-score 0.5551894563426688\n",
      "Max depth 6 F1-score 0.5933400605449041\n",
      "Max depth 7 F1-score 0.548611111111111\n",
      "Max depth 8 F1-score 0.5476864966949953\n",
      "Max depth 9 F1-score 0.5050505050505051\n",
      "Max depth 10 F1-score 0.5160142348754447\n",
      "Max depth 11 F1-score 0.5097345132743362\n",
      "Max depth 12 F1-score 0.5091543156059285\n",
      "Max depth 13 F1-score 0.49651567944250874\n",
      "Max depth 14 F1-score 0.5008726003490401\n",
      "Max depth 15 F1-score 0.4960971379011276\n",
      "Max depth 16 F1-score 0.4867180805484147\n",
      "Max depth 17 F1-score 0.4871794871794871\n",
      "Max depth 18 F1-score 0.4868977176669484\n",
      "Max depth 19 F1-score 0.4991482112436116\n",
      "Max depth 20 F1-score 0.5\n",
      "Max depth 21 F1-score 0.5\n",
      "Max depth 22 F1-score 0.5\n",
      "Max depth 23 F1-score 0.5\n",
      "Max depth 24 F1-score 0.5\n",
      "Max depth 25 F1-score 0.5\n",
      "Max depth 26 F1-score 0.5\n",
      "Max depth 27 F1-score 0.5\n",
      "Max depth 28 F1-score 0.5\n",
      "Max depth 29 F1-score 0.5\n"
     ]
    }
   ],
   "source": [
    "for depth in range(2, 30):\n",
    "    model = DecisionTreeClassifier(random_state=12345, max_depth=depth)\n",
    "    model.fit(features_downsampled, target_downsampled)\n",
    "    predicted_valid = model.predict(features_valid)\n",
    "    print('Max depth', depth,'F1-score', f1_score(target_valid, predicted_valid))"
   ]
  },
  {
   "cell_type": "markdown",
   "metadata": {},
   "source": [
    "Лучший показатель при Max depth равном 6"
   ]
  },
  {
   "cell_type": "code",
   "execution_count": 45,
   "metadata": {},
   "outputs": [
    {
     "name": "stderr",
     "output_type": "stream",
     "text": [
      "100%|█████████████████████████████████████████████████████████████| 15/15 [00:25<00:00,  1.68s/it]\n"
     ]
    }
   ],
   "source": [
    "# запустим цикл с перебором количества деревьев от 10 до 50 с шагом 10\n",
    "table_forest = pd.DataFrame({'n_estimators':[], 'max_depth':[], 'f1':[]})\n",
    "for est in tqdm(range(10, 151, 10)):\n",
    "    # и глубины дерева от 1 до 10\n",
    "    for depth in range (1, 16):\n",
    "        row = []\n",
    "        model = RandomForestClassifier(random_state=12345, n_estimators=est, max_depth=depth)\n",
    "        model.fit(features_downsampled, target_downsampled)\n",
    "        predictions_valid = model.predict(features_valid)\n",
    "        f1 = f1_score(target_valid, predictions_valid)\n",
    "        row.extend([est, depth, f1])\n",
    "        table_forest.loc[len(table_forest.index)] = row"
   ]
  },
  {
   "cell_type": "code",
   "execution_count": 46,
   "metadata": {},
   "outputs": [
    {
     "data": {
      "text/html": [
       "<div>\n",
       "<style scoped>\n",
       "    .dataframe tbody tr th:only-of-type {\n",
       "        vertical-align: middle;\n",
       "    }\n",
       "\n",
       "    .dataframe tbody tr th {\n",
       "        vertical-align: top;\n",
       "    }\n",
       "\n",
       "    .dataframe thead th {\n",
       "        text-align: right;\n",
       "    }\n",
       "</style>\n",
       "<table border=\"1\" class=\"dataframe\">\n",
       "  <thead>\n",
       "    <tr style=\"text-align: right;\">\n",
       "      <th></th>\n",
       "      <th>n_estimators</th>\n",
       "      <th>max_depth</th>\n",
       "      <th>f1</th>\n",
       "      <th>model</th>\n",
       "    </tr>\n",
       "  </thead>\n",
       "  <tbody>\n",
       "    <tr>\n",
       "      <th>187</th>\n",
       "      <td>130.0</td>\n",
       "      <td>8.0</td>\n",
       "      <td>0.619883</td>\n",
       "      <td>random forest</td>\n",
       "    </tr>\n",
       "  </tbody>\n",
       "</table>\n",
       "</div>"
      ],
      "text/plain": [
       "     n_estimators  max_depth        f1          model\n",
       "187         130.0        8.0  0.619883  random forest"
      ]
     },
     "execution_count": 46,
     "metadata": {},
     "output_type": "execute_result"
    }
   ],
   "source": [
    "# выдергиваем максимальное значение из таблицы best_forest\n",
    "best_forest = table_forest[table_forest['f1'] == table_forest['f1'].max()]\n",
    "best_forest['model'] = 'random forest'\n",
    "best_forest"
   ]
  },
  {
   "cell_type": "code",
   "execution_count": 47,
   "metadata": {},
   "outputs": [
    {
     "name": "stdout",
     "output_type": "stream",
     "text": [
      "F1: 0.5047210300429185\n"
     ]
    }
   ],
   "source": [
    "model = LogisticRegression(random_state=12345, solver='liblinear')\n",
    "model.fit(features_downsampled, target_downsampled)\n",
    "predicted_valid = model.predict(features_valid)\n",
    "f1_model = f1_score(target_valid, predicted_valid)\n",
    "print(\"F1:\", f1_model)"
   ]
  },
  {
   "cell_type": "markdown",
   "metadata": {},
   "source": [
    "Проведем оценку accuracy, precision и recall, также покажем F-метрику у Логистическая регрессия \n",
    "\n",
    "Выведем показатель AUC-ROC. "
   ]
  },
  {
   "cell_type": "code",
   "execution_count": 48,
   "metadata": {},
   "outputs": [
    {
     "name": "stdout",
     "output_type": "stream",
     "text": [
      "AUC-ROC DecisionTreeClassifier 0.8435207164020724\n",
      "Решающее дерево\n",
      "Точность попадания по классам 0.7985\n",
      "Precision 0.5034246575342466\n",
      "Recall 0.7223587223587223\n",
      "F1 0.5933400605449041\n",
      "\n",
      "AUC-ROC RandomForestClassifier 0.8754285872929941\n",
      "Случайный лес\n",
      "Точность попадания по классам 0.805\n",
      "Precision 0.5137318255250404\n",
      "Recall 0.7813267813267813\n",
      "F1 0.6198830409356725\n",
      "\n",
      "AUC-ROC LogisticRegression 0.7912720116109946\n",
      "Логистическая регрессия\n",
      "Точность попадания по классам 0.7115\n",
      "Precision 0.38786279683377306\n",
      "Recall 0.7223587223587223\n",
      "F1 0.5047210300429185\n",
      "\n"
     ]
    }
   ],
   "source": [
    "model = DecisionTreeClassifier(random_state=12345, max_depth=6)\n",
    "model.fit(features_downsampled, target_downsampled)\n",
    "predicted_valid = model.predict(features_valid)\n",
    "probabilities_valid = model.predict_proba(features_valid)\n",
    "probabilities_one_valid = probabilities_valid[:, 1]\n",
    "fpr, tpr, thresholds = roc_curve(target_valid, probabilities_one_valid)\n",
    "auc_roc = roc_auc_score(target_valid, probabilities_one_valid)\n",
    "print('AUC-ROC DecisionTreeClassifier',auc_roc)\n",
    "print('Решающее дерево')\n",
    "print('Точность попадания по классам', accuracy_score(target_valid, predicted_valid))\n",
    "print('Precision', precision_score(target_valid, predicted_valid))\n",
    "print('Recall', recall_score(target_valid, predicted_valid))\n",
    "print('F1', f1_score(target_valid, predicted_valid))\n",
    "print()\n",
    "\n",
    "model = RandomForestClassifier(random_state=12345, n_estimators=130, max_depth=8)\n",
    "model.fit(features_downsampled, target_downsampled)\n",
    "predicted_valid = model.predict(features_valid)\n",
    "probabilities_valid = model.predict_proba(features_valid)\n",
    "probabilities_one_valid = probabilities_valid[:, 1]\n",
    "fpr, tpr, thresholds = roc_curve(target_valid, probabilities_one_valid)\n",
    "auc_roc = roc_auc_score(target_valid, probabilities_one_valid)\n",
    "print('AUC-ROC RandomForestClassifier',auc_roc)\n",
    "print('Случайный лес')\n",
    "print('Точность попадания по классам', accuracy_score(target_valid, predicted_valid))\n",
    "print('Precision', precision_score(target_valid, predicted_valid))\n",
    "print('Recall', recall_score(target_valid, predicted_valid))\n",
    "print('F1', f1_score(target_valid, predicted_valid))\n",
    "print()\n",
    "\n",
    "model = LogisticRegression(random_state=12345, solver='liblinear')\n",
    "model.fit(features_downsampled, target_downsampled)\n",
    "predicted_valid = model.predict(features_valid)\n",
    "probabilities_valid = model.predict_proba(features_valid)\n",
    "probabilities_one_valid = probabilities_valid[:, 1]\n",
    "fpr, tpr, thresholds = roc_curve(target_valid, probabilities_one_valid)\n",
    "auc_roc = roc_auc_score(target_valid, probabilities_one_valid)\n",
    "print('AUC-ROC LogisticRegression',auc_roc)\n",
    "print('Логистическая регрессия')\n",
    "print('Точность попадания по классам', accuracy_score(target_valid, predicted_valid))\n",
    "print('Precision', precision_score(target_valid, predicted_valid))\n",
    "print('Recall', recall_score(target_valid, predicted_valid))\n",
    "print('F1', f1_score(target_valid, predicted_valid))\n",
    "print()\n",
    "\n"
   ]
  },
  {
   "cell_type": "markdown",
   "metadata": {},
   "source": [
    "Есть эфект, но его результат не превысил class_weight='balanced' в значении F1, однако AUC-ROC Случайного леса 0.87, самый высокий из тех, что был"
   ]
  },
  {
   "cell_type": "markdown",
   "metadata": {},
   "source": [
    "Помогло!  Метрика F1 в модели Случайный лес увеличилась"
   ]
  },
  {
   "cell_type": "markdown",
   "metadata": {},
   "source": [
    "Как сделать объекты редкого класса не такими редкими в данных?  \n",
    "Теперь в тесте за решение любой задачи вы получаете 1 балл. Самые важные задачи повторяются по несколько раз, чтобы их легче запомнить.   \n",
    "Когда обучают модели, такая техника называется upsampling (от англ. up, «вверх»; sampling, «выборка»).  \n",
    "Преобразование проходит в несколько этапов:  \n",
    "•\tРазделить обучающую выборку на отрицательные и положительные объекты;  \n",
    "•\tСкопировать несколько раз положительные объекты;  \n",
    "•\tС учётом полученных данных создать новую обучающую выборку;  \n",
    "•\tПеремешать данные: идущие друг за другом одинаковые вопросы не помогут обучению.  \n",
    "Скопировать объекты несколько раз поможет синтаксис умножения списков в Python. Чтобы повторить элементы списка, он умножается на число (нужное количество раз): "
   ]
  },
  {
   "cell_type": "code",
   "execution_count": 49,
   "metadata": {},
   "outputs": [
    {
     "name": "stdout",
     "output_type": "stream",
     "text": [
      "exited\n",
      "1    4892\n",
      "0    4777\n",
      "Name: count, dtype: int64\n"
     ]
    }
   ],
   "source": [
    "def upsample(features, target, repeat):\n",
    "    features_zeros = features[target == 0]\n",
    "    features_ones = features[target == 1]\n",
    "    target_zeros = target[target == 0]\n",
    "    target_ones = target[target == 1]\n",
    "\n",
    "    features_upsampled = pd.concat([features_zeros] + [features_ones] * repeat)\n",
    "    target_upsampled = pd.concat([target_zeros] + [target_ones] * repeat)\n",
    "    \n",
    "    features_upsampled, target_upsampled = shuffle(\n",
    "        features_upsampled, target_upsampled, random_state=12345)\n",
    "    \n",
    "    return features_upsampled, target_upsampled\n",
    "\n",
    "features_upsampled, target_upsampled = upsample(features_train, target_train, 4)\n",
    "\n",
    "print(target_upsampled.value_counts())"
   ]
  },
  {
   "cell_type": "code",
   "execution_count": 50,
   "metadata": {},
   "outputs": [
    {
     "name": "stdout",
     "output_type": "stream",
     "text": [
      "Max depth 2 F1-score 0.5074135090609556\n",
      "Max depth 3 F1-score 0.5074135090609556\n",
      "Max depth 4 F1-score 0.5422594142259414\n",
      "Max depth 5 F1-score 0.5618556701030928\n",
      "Max depth 6 F1-score 0.576544315129812\n",
      "Max depth 7 F1-score 0.5701357466063348\n",
      "Max depth 8 F1-score 0.5400921658986175\n",
      "Max depth 9 F1-score 0.5333333333333332\n",
      "Max depth 10 F1-score 0.5224171539961013\n",
      "Max depth 11 F1-score 0.5301944728761516\n",
      "Max depth 12 F1-score 0.5168067226890756\n",
      "Max depth 13 F1-score 0.5095828635851184\n",
      "Max depth 14 F1-score 0.5011235955056179\n",
      "Max depth 15 F1-score 0.4977477477477477\n",
      "Max depth 16 F1-score 0.4912689173457509\n",
      "Max depth 17 F1-score 0.4866123399301513\n",
      "Max depth 18 F1-score 0.49699879951980797\n",
      "Max depth 19 F1-score 0.4792176039119804\n",
      "Max depth 20 F1-score 0.49156626506024104\n",
      "Max depth 21 F1-score 0.4933494558645708\n",
      "Max depth 22 F1-score 0.48275862068965514\n",
      "Max depth 23 F1-score 0.5\n",
      "Max depth 24 F1-score 0.5\n",
      "Max depth 25 F1-score 0.5\n",
      "Max depth 26 F1-score 0.5\n",
      "Max depth 27 F1-score 0.5\n",
      "Max depth 28 F1-score 0.5\n",
      "Max depth 29 F1-score 0.5\n"
     ]
    }
   ],
   "source": [
    "for depth in range(2, 30):\n",
    "    model = DecisionTreeClassifier(random_state=12345, max_depth=depth)\n",
    "    model.fit(features_upsampled, target_upsampled)\n",
    "    predicted_valid = model.predict(features_valid)\n",
    "    print('Max depth', depth,'F1-score', f1_score(target_valid, predicted_valid))"
   ]
  },
  {
   "cell_type": "code",
   "execution_count": 51,
   "metadata": {},
   "outputs": [
    {
     "name": "stderr",
     "output_type": "stream",
     "text": [
      "100%|█████████████████████████████████████████████████████████████| 15/15 [01:11<00:00,  4.79s/it]\n"
     ]
    }
   ],
   "source": [
    "# запустим цикл с перебором количества деревьев от 10 до 50 с шагом 10\n",
    "table_forest = pd.DataFrame({'n_estimators':[], 'max_depth':[], 'f1':[]})\n",
    "for est in tqdm(range(10, 151, 10)):\n",
    "    # и глубины дерева от 1 до 10\n",
    "    for depth in range (1, 16):\n",
    "        row = []\n",
    "        model = RandomForestClassifier(random_state=12345, n_estimators=est, max_depth=depth)\n",
    "        model.fit(features_upsampled, target_upsampled)\n",
    "        predictions_valid = model.predict(features_valid)\n",
    "        f1 = f1_score(target_valid, predictions_valid)\n",
    "        row.extend([est, depth, f1])\n",
    "        table_forest.loc[len(table_forest.index)] = row"
   ]
  },
  {
   "cell_type": "code",
   "execution_count": 52,
   "metadata": {},
   "outputs": [
    {
     "data": {
      "text/html": [
       "<div>\n",
       "<style scoped>\n",
       "    .dataframe tbody tr th:only-of-type {\n",
       "        vertical-align: middle;\n",
       "    }\n",
       "\n",
       "    .dataframe tbody tr th {\n",
       "        vertical-align: top;\n",
       "    }\n",
       "\n",
       "    .dataframe thead th {\n",
       "        text-align: right;\n",
       "    }\n",
       "</style>\n",
       "<table border=\"1\" class=\"dataframe\">\n",
       "  <thead>\n",
       "    <tr style=\"text-align: right;\">\n",
       "      <th></th>\n",
       "      <th>n_estimators</th>\n",
       "      <th>max_depth</th>\n",
       "      <th>f1</th>\n",
       "      <th>model</th>\n",
       "    </tr>\n",
       "  </thead>\n",
       "  <tbody>\n",
       "    <tr>\n",
       "      <th>204</th>\n",
       "      <td>140.0</td>\n",
       "      <td>10.0</td>\n",
       "      <td>0.64086</td>\n",
       "      <td>random forest</td>\n",
       "    </tr>\n",
       "  </tbody>\n",
       "</table>\n",
       "</div>"
      ],
      "text/plain": [
       "     n_estimators  max_depth       f1          model\n",
       "204         140.0       10.0  0.64086  random forest"
      ]
     },
     "execution_count": 52,
     "metadata": {},
     "output_type": "execute_result"
    }
   ],
   "source": [
    "# выдергиваем максимальное значение из таблицы best_forest\n",
    "best_forest = table_forest[table_forest['f1'] == table_forest['f1'].max()]\n",
    "best_forest['model'] = 'random forest'\n",
    "best_forest"
   ]
  },
  {
   "cell_type": "code",
   "execution_count": 53,
   "metadata": {},
   "outputs": [
    {
     "name": "stdout",
     "output_type": "stream",
     "text": [
      "F1: 0.5077186963979418\n"
     ]
    }
   ],
   "source": [
    "model = LogisticRegression(random_state=12345, solver='liblinear')\n",
    "model.fit(features_upsampled, target_upsampled)\n",
    "predicted_valid = model.predict(features_valid)\n",
    "f1_model = f1_score(target_valid, predicted_valid)\n",
    "print(\"F1:\", f1_model)"
   ]
  },
  {
   "cell_type": "markdown",
   "metadata": {},
   "source": [
    "Проведем оценку accuracy, precision и recall, также покажем F-метрику у Логистическая регрессия \n",
    "\n",
    "Выведем показатель AUC-ROC. "
   ]
  },
  {
   "cell_type": "code",
   "execution_count": 54,
   "metadata": {},
   "outputs": [
    {
     "name": "stdout",
     "output_type": "stream",
     "text": [
      "AUC-ROC DecisionTreeClassifier 0.8364173109935821\n",
      "Решающее дерево\n",
      "Точность попадания по классам 0.7635\n",
      "Precision 0.4535211267605634\n",
      "Recall 0.7911547911547911\n",
      "F1 0.576544315129812\n",
      "\n",
      "AUC-ROC RandomForestClassifier 0.8651101023982379\n",
      "Случайный лес\n",
      "Точность попадания по классам 0.833\n",
      "Precision 0.5697896749521989\n",
      "Recall 0.7321867321867321\n",
      "F1 0.6408602150537634\n",
      "\n",
      "AUC-ROC LogisticRegression 0.7918812495083681\n",
      "Логистическая регрессия\n",
      "Точность попадания по классам 0.713\n",
      "Precision 0.38998682476943347\n",
      "Recall 0.7272727272727273\n",
      "F1 0.5077186963979418\n",
      "\n"
     ]
    }
   ],
   "source": [
    "model = DecisionTreeClassifier(random_state=12345, max_depth=6)\n",
    "model.fit(features_upsampled, target_upsampled)\n",
    "predicted_valid = model.predict(features_valid)\n",
    "probabilities_valid = model.predict_proba(features_valid)\n",
    "probabilities_one_valid = probabilities_valid[:, 1]\n",
    "fpr, tpr, thresholds = roc_curve(target_valid, probabilities_one_valid)\n",
    "auc_roc = roc_auc_score(target_valid, probabilities_one_valid)\n",
    "print('AUC-ROC DecisionTreeClassifier',auc_roc)\n",
    "print('Решающее дерево')\n",
    "print('Точность попадания по классам', accuracy_score(target_valid, predicted_valid))\n",
    "print('Precision', precision_score(target_valid, predicted_valid))\n",
    "print('Recall', recall_score(target_valid, predicted_valid))\n",
    "print('F1', f1_score(target_valid, predicted_valid))\n",
    "print()\n",
    "\n",
    "model = RandomForestClassifier(random_state=12345, n_estimators=140, max_depth=10)\n",
    "model.fit(features_upsampled, target_upsampled)\n",
    "predicted_valid = model.predict(features_valid)\n",
    "probabilities_valid = model.predict_proba(features_valid)\n",
    "probabilities_one_valid = probabilities_valid[:, 1]\n",
    "fpr, tpr, thresholds = roc_curve(target_valid, probabilities_one_valid)\n",
    "auc_roc = roc_auc_score(target_valid, probabilities_one_valid)\n",
    "print('AUC-ROC RandomForestClassifier',auc_roc)\n",
    "print('Случайный лес')\n",
    "print('Точность попадания по классам', accuracy_score(target_valid, predicted_valid))\n",
    "print('Precision', precision_score(target_valid, predicted_valid))\n",
    "print('Recall', recall_score(target_valid, predicted_valid))\n",
    "print('F1', f1_score(target_valid, predicted_valid))\n",
    "print()\n",
    "\n",
    "model = LogisticRegression(random_state=12345, solver='liblinear')\n",
    "model.fit(features_upsampled, target_upsampled)\n",
    "predicted_valid = model.predict(features_valid)\n",
    "probabilities_valid = model.predict_proba(features_valid)\n",
    "probabilities_one_valid = probabilities_valid[:, 1]\n",
    "fpr, tpr, thresholds = roc_curve(target_valid, probabilities_one_valid)\n",
    "auc_roc = roc_auc_score(target_valid, probabilities_one_valid)\n",
    "print('AUC-ROC LogisticRegression',auc_roc)\n",
    "print('Логистическая регрессия')\n",
    "print('Точность попадания по классам', accuracy_score(target_valid, predicted_valid))\n",
    "print('Precision', precision_score(target_valid, predicted_valid))\n",
    "print('Recall', recall_score(target_valid, predicted_valid))\n",
    "print('F1', f1_score(target_valid, predicted_valid))\n",
    "print()\n",
    "\n"
   ]
  },
  {
   "cell_type": "markdown",
   "metadata": {},
   "source": [
    "Лучшей моделью по F1 стал случайный лес с тренировочными данными."
   ]
  },
  {
   "cell_type": "markdown",
   "metadata": {},
   "source": [
    "## Тестирование модели"
   ]
  },
  {
   "cell_type": "markdown",
   "metadata": {},
   "source": [
    "К моменту тестирования нам удалось на 2ух из 4х моделей достичь необходимой F-меры на тестовых данных: модель случайного леса со взвешенными весами классов и модель с увеличенным количеством класса.  \n",
    "\n",
    "Модель Случайного леса со взвешенными весами классов:  \n",
    "AUC-ROC RandomForestClassifier 0.8651101023982379   \n",
    "Точность попадания по классам 0.833  \n",
    "Precision 0.5697896749521989  \n",
    "Recall 0.7321867321867321  \n",
    "F1 0.6408602150537634  \n",
    "\n",
    "Модель Случайного леса с увеличенным количеством класса:  \n",
    "AUC-ROC RandomForestClassifier 0.8692066488676657   \n",
    "Точность попадания по классам 0.853  \n",
    "Precision 0.6348448687350835  \n",
    "Recall 0.6535626535626535  \n",
    "F1 0.6440677966101696  \n"
   ]
  },
  {
   "cell_type": "code",
   "execution_count": 55,
   "metadata": {},
   "outputs": [],
   "source": [
    "# стандартизируем данные\n",
    "\n",
    "#features_test[numeric] = scaler.transform(features_test[numeric])"
   ]
  },
  {
   "cell_type": "code",
   "execution_count": 56,
   "metadata": {},
   "outputs": [
    {
     "data": {
      "text/html": [
       "<div>\n",
       "<style scoped>\n",
       "    .dataframe tbody tr th:only-of-type {\n",
       "        vertical-align: middle;\n",
       "    }\n",
       "\n",
       "    .dataframe tbody tr th {\n",
       "        vertical-align: top;\n",
       "    }\n",
       "\n",
       "    .dataframe thead th {\n",
       "        text-align: right;\n",
       "    }\n",
       "</style>\n",
       "<table border=\"1\" class=\"dataframe\">\n",
       "  <thead>\n",
       "    <tr style=\"text-align: right;\">\n",
       "      <th></th>\n",
       "      <th>credit_score</th>\n",
       "      <th>age</th>\n",
       "      <th>tenure</th>\n",
       "      <th>balance</th>\n",
       "      <th>num_of_products</th>\n",
       "      <th>has_cr_card</th>\n",
       "      <th>is_active_member</th>\n",
       "      <th>estimated_salary</th>\n",
       "      <th>geography_Germany</th>\n",
       "      <th>geography_Spain</th>\n",
       "      <th>gender_Male</th>\n",
       "    </tr>\n",
       "  </thead>\n",
       "  <tbody>\n",
       "    <tr>\n",
       "      <th>9524</th>\n",
       "      <td>2.066384</td>\n",
       "      <td>-0.08843</td>\n",
       "      <td>5.0</td>\n",
       "      <td>1.127690</td>\n",
       "      <td>1</td>\n",
       "      <td>1</td>\n",
       "      <td>0</td>\n",
       "      <td>-0.381316</td>\n",
       "      <td>True</td>\n",
       "      <td>False</td>\n",
       "      <td>True</td>\n",
       "    </tr>\n",
       "    <tr>\n",
       "      <th>5586</th>\n",
       "      <td>1.715308</td>\n",
       "      <td>-1.32522</td>\n",
       "      <td>2.0</td>\n",
       "      <td>1.185273</td>\n",
       "      <td>2</td>\n",
       "      <td>1</td>\n",
       "      <td>1</td>\n",
       "      <td>-1.119800</td>\n",
       "      <td>True</td>\n",
       "      <td>False</td>\n",
       "      <td>False</td>\n",
       "    </tr>\n",
       "  </tbody>\n",
       "</table>\n",
       "</div>"
      ],
      "text/plain": [
       "      credit_score      age  tenure   balance  num_of_products  has_cr_card  \\\n",
       "9524      2.066384 -0.08843     5.0  1.127690                1            1   \n",
       "5586      1.715308 -1.32522     2.0  1.185273                2            1   \n",
       "\n",
       "      is_active_member  estimated_salary  geography_Germany  geography_Spain  \\\n",
       "9524                 0         -0.381316               True            False   \n",
       "5586                 1         -1.119800               True            False   \n",
       "\n",
       "      gender_Male  \n",
       "9524         True  \n",
       "5586        False  "
      ]
     },
     "metadata": {},
     "output_type": "display_data"
    },
    {
     "data": {
      "text/html": [
       "<div>\n",
       "<style scoped>\n",
       "    .dataframe tbody tr th:only-of-type {\n",
       "        vertical-align: middle;\n",
       "    }\n",
       "\n",
       "    .dataframe tbody tr th {\n",
       "        vertical-align: top;\n",
       "    }\n",
       "\n",
       "    .dataframe thead th {\n",
       "        text-align: right;\n",
       "    }\n",
       "</style>\n",
       "<table border=\"1\" class=\"dataframe\">\n",
       "  <thead>\n",
       "    <tr style=\"text-align: right;\">\n",
       "      <th></th>\n",
       "      <th>credit_score</th>\n",
       "      <th>age</th>\n",
       "      <th>tenure</th>\n",
       "      <th>balance</th>\n",
       "      <th>num_of_products</th>\n",
       "      <th>has_cr_card</th>\n",
       "      <th>is_active_member</th>\n",
       "      <th>estimated_salary</th>\n",
       "      <th>geography_Germany</th>\n",
       "      <th>geography_Spain</th>\n",
       "      <th>gender_Male</th>\n",
       "    </tr>\n",
       "  </thead>\n",
       "  <tbody>\n",
       "    <tr>\n",
       "      <th>7837</th>\n",
       "      <td>2.066384</td>\n",
       "      <td>0.862946</td>\n",
       "      <td>2.0</td>\n",
       "      <td>-1.220573</td>\n",
       "      <td>1</td>\n",
       "      <td>1</td>\n",
       "      <td>0</td>\n",
       "      <td>1.202714</td>\n",
       "      <td>False</td>\n",
       "      <td>True</td>\n",
       "      <td>True</td>\n",
       "    </tr>\n",
       "    <tr>\n",
       "      <th>9505</th>\n",
       "      <td>0.011555</td>\n",
       "      <td>-1.039807</td>\n",
       "      <td>10.0</td>\n",
       "      <td>0.052520</td>\n",
       "      <td>1</td>\n",
       "      <td>1</td>\n",
       "      <td>1</td>\n",
       "      <td>-0.443548</td>\n",
       "      <td>False</td>\n",
       "      <td>False</td>\n",
       "      <td>True</td>\n",
       "    </tr>\n",
       "  </tbody>\n",
       "</table>\n",
       "</div>"
      ],
      "text/plain": [
       "      credit_score       age  tenure   balance  num_of_products  has_cr_card  \\\n",
       "7837      2.066384  0.862946     2.0 -1.220573                1            1   \n",
       "9505      0.011555 -1.039807    10.0  0.052520                1            1   \n",
       "\n",
       "      is_active_member  estimated_salary  geography_Germany  geography_Spain  \\\n",
       "7837                 0          1.202714              False             True   \n",
       "9505                 1         -0.443548              False            False   \n",
       "\n",
       "      gender_Male  \n",
       "7837         True  \n",
       "9505         True  "
      ]
     },
     "metadata": {},
     "output_type": "display_data"
    }
   ],
   "source": [
    "# код ревьюера\n",
    "display(features_upsampled.head(2))\n",
    "display(features_test.head(2))"
   ]
  },
  {
   "cell_type": "markdown",
   "metadata": {},
   "source": [
    "В результате исследования была получена модель с лучшими показателями как по F1-мере, так и по AUC-ROC - Случайный лес: взвешенные классы, протестируем же её скорее!🤓"
   ]
  },
  {
   "cell_type": "code",
   "execution_count": 57,
   "metadata": {},
   "outputs": [
    {
     "name": "stdout",
     "output_type": "stream",
     "text": [
      "Случайный лес - взвешенные классы\n",
      "Точность попадания по классам 0.8475\n",
      "Precision 0.6208530805687204\n",
      "Recall 0.6437346437346437\n",
      "F1 0.632086851628468\n",
      "\n"
     ]
    }
   ],
   "source": [
    "\n",
    "model = RandomForestClassifier(random_state=12345, n_estimators=130,  max_depth=10, class_weight='balanced')\n",
    "model.fit(features_train, target_train)\n",
    "predicted_test = model.predict(features_test)\n",
    "print('Случайный лес - взвешенные классы')\n",
    "print('Точность попадания по классам', accuracy_score(target_test, predicted_test))\n",
    "print('Precision', precision_score(target_test, predicted_test))\n",
    "print('Recall', recall_score(target_test, predicted_test))\n",
    "print('F1', f1_score(target_test, predicted_test))\n",
    "print()"
   ]
  },
  {
   "cell_type": "code",
   "execution_count": 58,
   "metadata": {},
   "outputs": [
    {
     "name": "stdout",
     "output_type": "stream",
     "text": [
      "AUC-ROC RandomForestClassifier - disbalanced 0.8658165098843066\n"
     ]
    },
    {
     "data": {
      "image/png": "[encoded data removed]",
      "text/plain": [
       "<Figure size 1200x900 with 1 Axes>"
      ]
     },
     "metadata": {},
     "output_type": "display_data"
    }
   ],
   "source": [
    "plt.figure(figsize=[12,9])\n",
    "\n",
    "plt.plot([0, 1], [0, 1], linestyle='--', label='RandomModel')\n",
    "\n",
    "model = RandomForestClassifier(random_state=12345, n_estimators=130,  max_depth=10, class_weight='balanced')\n",
    "model.fit(features_train, target_train)\n",
    "predicted_test = model.predict(features_test)\n",
    "probabilities_test = model.predict_proba(features_test)\n",
    "probabilities_one_test = probabilities_test[:, 1]\n",
    "fpr, tpr, thresholds = roc_curve(target_test, probabilities_one_test)\n",
    "auc_roc = roc_auc_score(target_test, probabilities_one_test)\n",
    "print('AUC-ROC RandomForestClassifier - disbalanced',auc_roc)\n",
    "plt.plot(fpr, tpr, label='RandomForestClassifier - disbalanced')\n",
    "plt.show()"
   ]
  },
  {
   "cell_type": "markdown",
   "metadata": {},
   "source": [
    "Вывод:  \n",
    "2 из 4 моделям удалось достичь F1-меры не менее 0.59 на тестовых данных: модель случайного леса со взвешенными весами классов и модель с увеличенным количеством класса 1.\n",
    "\n",
    "Видно, что взвешивание классов дает результат лучше для данного набора данных. Percision падает, recall растет, и в целом F-мера имеет небольшой прирост. Баланс классов повышает охват необходимых данных.\n",
    "\n",
    "Оценивая адеватность модели можно заметить, что AUC-ROC дисбалансной модели и модели с весами примерно одинаково предсказывают вероятность ухода клиента.\n",
    "\n",
    "В результате исследования была получена модель с лучшими показателями как по F1-мере, так и по AUC-ROC - Случайный лес: взвешенные классы.\n",
    "\n",
    "Итоговый вывод\n",
    "При работе с проектом было выполнено:\n",
    "\n",
    "Изучены данные. Разбиты данные на тренировочную, валидационную и тестовую выборку.\n",
    "Исследована задача. Проверены модели на данных без изменений.\n",
    "Скоректирован балланс класса. Изменен вес класса.\n",
    "Получена улученная модель. Проведен поиск гиперпараметров.\n",
    "Проведен финальный тест.\n",
    "Обученная модель случайного леса со взвешенными классами имеет достаточную адекватность, подтвержденная ее значением AUC-ROC = 0.865. Это лучше, чем случайная модель предсказывания (AUC-ROC = 0.5). Точность попадания по классам 0.833, precision 0.569, recall 0.732 и f1 0.632. Модель старается собрать больше данных, чем показать верную точность (recall > precision). Процент попадания в классы достаточно высокий."
   ]
  },
  {
   "cell_type": "code",
   "execution_count": null,
   "metadata": {},
   "outputs": [],
   "source": []
  }
 ],
 "metadata": {
  "ExecuteTimeLog": [
   {
    "duration": 1734,
    "start_time": "2023-05-02T09:42:50.311Z"
   },
   {
    "duration": 0,
    "start_time": "2023-05-02T09:42:52.046Z"
   },
   {
    "duration": 0,
    "start_time": "2023-05-02T09:42:52.048Z"
   },
   {
    "duration": 12,
    "start_time": "2023-05-02T09:43:34.898Z"
   },
   {
    "duration": 1586,
    "start_time": "2023-05-02T09:43:44.206Z"
   },
   {
    "duration": 0,
    "start_time": "2023-05-02T09:43:45.793Z"
   },
   {
    "duration": 0,
    "start_time": "2023-05-02T09:43:45.795Z"
   },
   {
    "duration": 16,
    "start_time": "2023-05-02T09:43:56.851Z"
   },
   {
    "duration": 13,
    "start_time": "2023-05-02T09:44:20.809Z"
   },
   {
    "duration": 96,
    "start_time": "2023-05-02T09:44:22.023Z"
   },
   {
    "duration": 6,
    "start_time": "2023-05-02T09:44:26.843Z"
   },
   {
    "duration": 60,
    "start_time": "2023-05-02T09:44:27.759Z"
   },
   {
    "duration": 27,
    "start_time": "2023-05-02T09:44:28.854Z"
   },
   {
    "duration": 15,
    "start_time": "2023-05-02T10:09:34.600Z"
   },
   {
    "duration": 177,
    "start_time": "2023-05-02T10:09:41.109Z"
   },
   {
    "duration": 15,
    "start_time": "2023-05-02T10:38:54.139Z"
   },
   {
    "duration": 59,
    "start_time": "2023-05-02T10:38:59.345Z"
   },
   {
    "duration": 22,
    "start_time": "2023-05-02T10:39:45.779Z"
   },
   {
    "duration": 13,
    "start_time": "2023-05-02T10:55:34.784Z"
   },
   {
    "duration": 862,
    "start_time": "2023-05-02T10:55:43.374Z"
   },
   {
    "duration": 27,
    "start_time": "2023-05-02T10:56:00.238Z"
   },
   {
    "duration": 5,
    "start_time": "2023-05-02T10:56:58.814Z"
   },
   {
    "duration": 138,
    "start_time": "2023-05-02T10:57:05.867Z"
   },
   {
    "duration": 12,
    "start_time": "2023-05-02T11:11:04.357Z"
   },
   {
    "duration": 705,
    "start_time": "2023-05-02T11:11:29.311Z"
   },
   {
    "duration": 138,
    "start_time": "2023-05-02T11:11:40.110Z"
   },
   {
    "duration": 177,
    "start_time": "2023-05-02T11:12:55.618Z"
   },
   {
    "duration": 6,
    "start_time": "2023-05-02T11:17:59.733Z"
   },
   {
    "duration": 143,
    "start_time": "2023-05-02T11:18:00.775Z"
   },
   {
    "duration": 134,
    "start_time": "2023-05-02T11:18:03.688Z"
   },
   {
    "duration": 192,
    "start_time": "2023-05-02T11:22:04.670Z"
   },
   {
    "duration": 6,
    "start_time": "2023-05-02T11:27:08.382Z"
   },
   {
    "duration": 156,
    "start_time": "2023-05-02T11:27:36.233Z"
   },
   {
    "duration": 320,
    "start_time": "2023-05-02T11:27:53.438Z"
   },
   {
    "duration": 107,
    "start_time": "2023-05-02T11:28:49.881Z"
   },
   {
    "duration": 152,
    "start_time": "2023-05-02T11:28:57.328Z"
   },
   {
    "duration": 119,
    "start_time": "2023-05-02T11:29:12.369Z"
   },
   {
    "duration": 140,
    "start_time": "2023-05-02T11:29:20.543Z"
   },
   {
    "duration": 111,
    "start_time": "2023-05-02T11:29:36.159Z"
   },
   {
    "duration": 49,
    "start_time": "2023-05-02T11:40:42.770Z"
   },
   {
    "duration": 20,
    "start_time": "2023-05-02T11:41:05.709Z"
   },
   {
    "duration": 6,
    "start_time": "2023-05-02T11:41:58.222Z"
   },
   {
    "duration": 6,
    "start_time": "2023-05-02T11:42:37.751Z"
   },
   {
    "duration": 579,
    "start_time": "2023-05-02T11:42:38.754Z"
   },
   {
    "duration": 354,
    "start_time": "2023-05-02T11:45:07.624Z"
   },
   {
    "duration": 3,
    "start_time": "2023-05-02T11:47:36.756Z"
   },
   {
    "duration": 98,
    "start_time": "2023-05-02T11:48:23.042Z"
   },
   {
    "duration": 4,
    "start_time": "2023-05-02T11:48:29.449Z"
   },
   {
    "duration": 86,
    "start_time": "2023-05-02T11:50:46.143Z"
   },
   {
    "duration": 11,
    "start_time": "2023-05-02T11:52:47.605Z"
   },
   {
    "duration": 31,
    "start_time": "2023-05-02T11:53:22.878Z"
   },
   {
    "duration": 1492,
    "start_time": "2023-05-02T11:53:55.228Z"
   },
   {
    "duration": 51,
    "start_time": "2023-05-02T11:53:56.722Z"
   },
   {
    "duration": 24,
    "start_time": "2023-05-02T11:53:56.776Z"
   },
   {
    "duration": 59,
    "start_time": "2023-05-02T11:53:56.802Z"
   },
   {
    "duration": 7,
    "start_time": "2023-05-02T11:53:56.864Z"
   },
   {
    "duration": 6,
    "start_time": "2023-05-02T11:53:56.873Z"
   },
   {
    "duration": 151,
    "start_time": "2023-05-02T11:53:56.881Z"
   },
   {
    "duration": 6,
    "start_time": "2023-05-02T11:53:57.034Z"
   },
   {
    "duration": 378,
    "start_time": "2023-05-02T11:53:57.041Z"
   },
   {
    "duration": 4,
    "start_time": "2023-05-02T11:53:57.421Z"
   },
   {
    "duration": 148,
    "start_time": "2023-05-02T11:53:57.427Z"
   },
   {
    "duration": 13,
    "start_time": "2023-05-02T11:54:49.322Z"
   },
   {
    "duration": 24,
    "start_time": "2023-05-02T11:55:19.933Z"
   },
   {
    "duration": 19,
    "start_time": "2023-05-02T11:55:39.105Z"
   },
   {
    "duration": 22,
    "start_time": "2023-05-02T11:55:51.614Z"
   },
   {
    "duration": 6,
    "start_time": "2023-05-02T12:00:58.621Z"
   },
   {
    "duration": 12,
    "start_time": "2023-05-02T12:03:23.809Z"
   },
   {
    "duration": 9,
    "start_time": "2023-05-02T12:04:54.669Z"
   },
   {
    "duration": 7,
    "start_time": "2023-05-02T12:04:55.029Z"
   },
   {
    "duration": 11,
    "start_time": "2023-05-02T12:05:47.367Z"
   },
   {
    "duration": 4,
    "start_time": "2023-05-02T12:06:05.239Z"
   },
   {
    "duration": 10,
    "start_time": "2023-05-02T12:27:03.270Z"
   },
   {
    "duration": 8,
    "start_time": "2023-05-02T12:40:22.651Z"
   },
   {
    "duration": 5,
    "start_time": "2023-05-02T12:41:01.186Z"
   },
   {
    "duration": 11,
    "start_time": "2023-05-02T12:41:01.526Z"
   },
   {
    "duration": 7,
    "start_time": "2023-05-02T12:41:01.826Z"
   },
   {
    "duration": 16,
    "start_time": "2023-05-02T12:41:13.132Z"
   },
   {
    "duration": 4,
    "start_time": "2023-05-02T12:41:13.587Z"
   },
   {
    "duration": 5,
    "start_time": "2023-05-02T12:42:04.130Z"
   },
   {
    "duration": 1538,
    "start_time": "2023-05-02T12:47:40.232Z"
   },
   {
    "duration": 48,
    "start_time": "2023-05-02T12:47:41.773Z"
   },
   {
    "duration": 18,
    "start_time": "2023-05-02T12:47:41.823Z"
   },
   {
    "duration": 55,
    "start_time": "2023-05-02T12:47:41.843Z"
   },
   {
    "duration": 12,
    "start_time": "2023-05-02T12:47:41.901Z"
   },
   {
    "duration": 32,
    "start_time": "2023-05-02T12:47:41.915Z"
   },
   {
    "duration": 9,
    "start_time": "2023-05-02T12:47:41.949Z"
   },
   {
    "duration": 32,
    "start_time": "2023-05-02T12:47:41.960Z"
   },
   {
    "duration": 121,
    "start_time": "2023-05-02T12:47:41.993Z"
   },
   {
    "duration": 5,
    "start_time": "2023-05-02T12:47:42.116Z"
   },
   {
    "duration": 377,
    "start_time": "2023-05-02T12:47:42.123Z"
   },
   {
    "duration": 3,
    "start_time": "2023-05-02T12:47:42.502Z"
   },
   {
    "duration": 17,
    "start_time": "2023-05-02T12:47:42.507Z"
   },
   {
    "duration": 6,
    "start_time": "2023-05-02T12:47:42.530Z"
   },
   {
    "duration": 13,
    "start_time": "2023-05-02T12:47:42.557Z"
   },
   {
    "duration": 15,
    "start_time": "2023-05-02T12:47:42.572Z"
   },
   {
    "duration": 17,
    "start_time": "2023-05-02T12:47:42.589Z"
   },
   {
    "duration": 4,
    "start_time": "2023-05-02T12:47:42.609Z"
   },
   {
    "duration": 46,
    "start_time": "2023-05-02T13:20:37.945Z"
   },
   {
    "duration": 81,
    "start_time": "2023-05-02T13:20:44.045Z"
   },
   {
    "duration": 1651,
    "start_time": "2023-05-02T13:20:54.115Z"
   },
   {
    "duration": 108,
    "start_time": "2023-05-02T13:20:55.769Z"
   },
   {
    "duration": 19,
    "start_time": "2023-05-02T13:20:55.879Z"
   },
   {
    "duration": 63,
    "start_time": "2023-05-02T13:20:55.899Z"
   },
   {
    "duration": 17,
    "start_time": "2023-05-02T13:20:55.965Z"
   },
   {
    "duration": 6,
    "start_time": "2023-05-02T13:20:55.985Z"
   },
   {
    "duration": 8,
    "start_time": "2023-05-02T13:20:55.993Z"
   },
   {
    "duration": 16,
    "start_time": "2023-05-02T13:20:56.004Z"
   },
   {
    "duration": 151,
    "start_time": "2023-05-02T13:20:56.022Z"
   },
   {
    "duration": 5,
    "start_time": "2023-05-02T13:20:56.175Z"
   },
   {
    "duration": 361,
    "start_time": "2023-05-02T13:20:56.182Z"
   },
   {
    "duration": 3,
    "start_time": "2023-05-02T13:20:56.545Z"
   },
   {
    "duration": 19,
    "start_time": "2023-05-02T13:20:56.558Z"
   },
   {
    "duration": 19,
    "start_time": "2023-05-02T13:20:56.580Z"
   },
   {
    "duration": 19,
    "start_time": "2023-05-02T13:20:56.601Z"
   },
   {
    "duration": 25,
    "start_time": "2023-05-02T13:20:56.623Z"
   },
   {
    "duration": 23,
    "start_time": "2023-05-02T13:20:56.650Z"
   },
   {
    "duration": 5,
    "start_time": "2023-05-02T13:20:56.675Z"
   },
   {
    "duration": 57,
    "start_time": "2023-05-03T07:57:05.061Z"
   },
   {
    "duration": 5,
    "start_time": "2023-05-03T07:59:26.658Z"
   },
   {
    "duration": 10,
    "start_time": "2023-05-03T07:59:27.157Z"
   },
   {
    "duration": 7,
    "start_time": "2023-05-03T07:59:27.852Z"
   },
   {
    "duration": 15,
    "start_time": "2023-05-03T07:59:38.361Z"
   },
   {
    "duration": 5,
    "start_time": "2023-05-03T07:59:44.322Z"
   },
   {
    "duration": 448,
    "start_time": "2023-05-03T10:26:42.679Z"
   },
   {
    "duration": 40,
    "start_time": "2023-05-03T10:27:39.266Z"
   },
   {
    "duration": 122,
    "start_time": "2023-05-03T10:44:47.472Z"
   },
   {
    "duration": 422,
    "start_time": "2023-05-03T10:46:22.570Z"
   },
   {
    "duration": 12,
    "start_time": "2023-05-03T10:46:41.311Z"
   },
   {
    "duration": 34,
    "start_time": "2023-05-03T10:46:53.514Z"
   },
   {
    "duration": 27,
    "start_time": "2023-05-03T10:50:21.296Z"
   },
   {
    "duration": 30,
    "start_time": "2023-05-03T10:50:57.810Z"
   },
   {
    "duration": 1450,
    "start_time": "2023-05-03T15:22:18.553Z"
   },
   {
    "duration": 46,
    "start_time": "2023-05-03T15:22:20.005Z"
   },
   {
    "duration": 17,
    "start_time": "2023-05-03T15:22:20.053Z"
   },
   {
    "duration": 50,
    "start_time": "2023-05-03T15:22:20.072Z"
   },
   {
    "duration": 14,
    "start_time": "2023-05-03T15:22:20.124Z"
   },
   {
    "duration": 17,
    "start_time": "2023-05-03T15:22:20.140Z"
   },
   {
    "duration": 18,
    "start_time": "2023-05-03T15:22:20.159Z"
   },
   {
    "duration": 25,
    "start_time": "2023-05-03T15:22:20.178Z"
   },
   {
    "duration": 109,
    "start_time": "2023-05-03T15:22:20.204Z"
   },
   {
    "duration": 4,
    "start_time": "2023-05-03T15:22:20.315Z"
   },
   {
    "duration": 313,
    "start_time": "2023-05-03T15:22:20.321Z"
   },
   {
    "duration": 3,
    "start_time": "2023-05-03T15:22:20.636Z"
   },
   {
    "duration": 21,
    "start_time": "2023-05-03T15:22:20.641Z"
   },
   {
    "duration": 8,
    "start_time": "2023-05-03T15:22:20.664Z"
   },
   {
    "duration": 6,
    "start_time": "2023-05-03T15:22:20.674Z"
   },
   {
    "duration": 7,
    "start_time": "2023-05-03T15:22:20.682Z"
   },
   {
    "duration": 30,
    "start_time": "2023-05-03T15:22:20.690Z"
   },
   {
    "duration": 7,
    "start_time": "2023-05-03T15:22:20.722Z"
   },
   {
    "duration": 28,
    "start_time": "2023-05-03T15:22:20.730Z"
   },
   {
    "duration": 129,
    "start_time": "2023-05-03T15:22:20.761Z"
   },
   {
    "duration": 0,
    "start_time": "2023-05-03T15:22:20.891Z"
   },
   {
    "duration": 7,
    "start_time": "2023-05-03T15:22:28.366Z"
   },
   {
    "duration": 43,
    "start_time": "2023-05-03T15:22:28.941Z"
   },
   {
    "duration": 14,
    "start_time": "2023-05-03T15:22:29.990Z"
   },
   {
    "duration": 54,
    "start_time": "2023-05-03T15:22:30.514Z"
   },
   {
    "duration": 12,
    "start_time": "2023-05-03T15:22:30.921Z"
   },
   {
    "duration": 7,
    "start_time": "2023-05-03T15:22:32.055Z"
   },
   {
    "duration": 5,
    "start_time": "2023-05-03T15:22:32.506Z"
   },
   {
    "duration": 10,
    "start_time": "2023-05-03T15:22:32.988Z"
   },
   {
    "duration": 122,
    "start_time": "2023-05-03T15:22:33.988Z"
   },
   {
    "duration": 5,
    "start_time": "2023-05-03T15:22:36.088Z"
   },
   {
    "duration": 374,
    "start_time": "2023-05-03T15:22:36.763Z"
   },
   {
    "duration": 3,
    "start_time": "2023-05-03T15:22:38.411Z"
   },
   {
    "duration": 14,
    "start_time": "2023-05-03T15:22:39.952Z"
   },
   {
    "duration": 6,
    "start_time": "2023-05-03T15:22:41.010Z"
   },
   {
    "duration": 9,
    "start_time": "2023-05-03T15:22:41.689Z"
   },
   {
    "duration": 10,
    "start_time": "2023-05-03T15:22:42.128Z"
   },
   {
    "duration": 16,
    "start_time": "2023-05-03T15:22:43.191Z"
   },
   {
    "duration": 5,
    "start_time": "2023-05-03T15:22:44.570Z"
   },
   {
    "duration": 4,
    "start_time": "2023-05-03T15:22:48.391Z"
   },
   {
    "duration": 25,
    "start_time": "2023-05-03T15:22:51.684Z"
   },
   {
    "duration": 56,
    "start_time": "2023-05-03T15:27:20.911Z"
   },
   {
    "duration": 11,
    "start_time": "2023-05-03T15:27:27.051Z"
   },
   {
    "duration": 9,
    "start_time": "2023-05-03T15:27:45.519Z"
   },
   {
    "duration": 10,
    "start_time": "2023-05-03T15:27:45.953Z"
   },
   {
    "duration": 4,
    "start_time": "2023-05-03T15:27:53.461Z"
   },
   {
    "duration": 9,
    "start_time": "2023-05-03T15:27:53.991Z"
   },
   {
    "duration": 8,
    "start_time": "2023-05-03T15:27:54.707Z"
   },
   {
    "duration": 17,
    "start_time": "2023-05-03T15:28:00.756Z"
   },
   {
    "duration": 4,
    "start_time": "2023-05-03T15:28:34.963Z"
   },
   {
    "duration": 469,
    "start_time": "2023-05-03T15:29:55.149Z"
   },
   {
    "duration": 5,
    "start_time": "2023-05-03T15:30:25.302Z"
   },
   {
    "duration": 46,
    "start_time": "2023-05-03T15:30:25.503Z"
   },
   {
    "duration": 17,
    "start_time": "2023-05-03T15:30:25.960Z"
   },
   {
    "duration": 45,
    "start_time": "2023-05-03T15:30:26.439Z"
   },
   {
    "duration": 12,
    "start_time": "2023-05-03T15:30:27.033Z"
   },
   {
    "duration": 5,
    "start_time": "2023-05-03T15:30:28.448Z"
   },
   {
    "duration": 5,
    "start_time": "2023-05-03T15:30:29.171Z"
   },
   {
    "duration": 17,
    "start_time": "2023-05-03T15:30:29.274Z"
   },
   {
    "duration": 103,
    "start_time": "2023-05-03T15:30:30.545Z"
   },
   {
    "duration": 7,
    "start_time": "2023-05-03T15:30:32.476Z"
   },
   {
    "duration": 284,
    "start_time": "2023-05-03T15:30:34.245Z"
   },
   {
    "duration": 2,
    "start_time": "2023-05-03T15:30:36.517Z"
   },
   {
    "duration": 10,
    "start_time": "2023-05-03T15:30:41.031Z"
   },
   {
    "duration": 6,
    "start_time": "2023-05-03T15:30:43.897Z"
   },
   {
    "duration": 8,
    "start_time": "2023-05-03T15:30:46.048Z"
   },
   {
    "duration": 7,
    "start_time": "2023-05-03T15:31:47.672Z"
   },
   {
    "duration": 18,
    "start_time": "2023-05-03T15:31:49.340Z"
   },
   {
    "duration": 4,
    "start_time": "2023-05-03T15:31:51.018Z"
   },
   {
    "duration": 488,
    "start_time": "2023-05-03T15:31:57.302Z"
   },
   {
    "duration": 234,
    "start_time": "2023-05-03T15:35:32.521Z"
   },
   {
    "duration": 1393,
    "start_time": "2023-05-03T15:39:58.999Z"
   },
   {
    "duration": 44,
    "start_time": "2023-05-03T15:40:00.394Z"
   },
   {
    "duration": 47,
    "start_time": "2023-05-03T15:40:00.439Z"
   },
   {
    "duration": 91,
    "start_time": "2023-05-03T15:40:00.488Z"
   },
   {
    "duration": 32,
    "start_time": "2023-05-03T15:40:00.581Z"
   },
   {
    "duration": 26,
    "start_time": "2023-05-03T15:40:00.614Z"
   },
   {
    "duration": 71,
    "start_time": "2023-05-03T15:40:00.642Z"
   },
   {
    "duration": 99,
    "start_time": "2023-05-03T15:40:00.714Z"
   },
   {
    "duration": 153,
    "start_time": "2023-05-03T15:40:00.815Z"
   },
   {
    "duration": 5,
    "start_time": "2023-05-03T15:40:00.970Z"
   },
   {
    "duration": 370,
    "start_time": "2023-05-03T15:40:00.977Z"
   },
   {
    "duration": 2,
    "start_time": "2023-05-03T15:40:01.356Z"
   },
   {
    "duration": 60,
    "start_time": "2023-05-03T15:40:01.360Z"
   },
   {
    "duration": 60,
    "start_time": "2023-05-03T15:40:01.423Z"
   },
   {
    "duration": 74,
    "start_time": "2023-05-03T15:40:01.485Z"
   },
   {
    "duration": 87,
    "start_time": "2023-05-03T15:40:01.561Z"
   },
   {
    "duration": 77,
    "start_time": "2023-05-03T15:40:01.650Z"
   },
   {
    "duration": 38,
    "start_time": "2023-05-03T15:40:01.728Z"
   },
   {
    "duration": 304,
    "start_time": "2023-05-03T15:40:01.768Z"
   },
   {
    "duration": 1371,
    "start_time": "2023-05-03T15:40:43.316Z"
   },
   {
    "duration": 49,
    "start_time": "2023-05-03T15:40:44.689Z"
   },
   {
    "duration": 20,
    "start_time": "2023-05-03T15:40:44.740Z"
   },
   {
    "duration": 50,
    "start_time": "2023-05-03T15:40:44.762Z"
   },
   {
    "duration": 13,
    "start_time": "2023-05-03T15:40:44.814Z"
   },
   {
    "duration": 29,
    "start_time": "2023-05-03T15:40:44.829Z"
   },
   {
    "duration": 23,
    "start_time": "2023-05-03T15:40:44.859Z"
   },
   {
    "duration": 29,
    "start_time": "2023-05-03T15:40:44.884Z"
   },
   {
    "duration": 118,
    "start_time": "2023-05-03T15:40:44.915Z"
   },
   {
    "duration": 5,
    "start_time": "2023-05-03T15:40:45.035Z"
   },
   {
    "duration": 333,
    "start_time": "2023-05-03T15:40:45.042Z"
   },
   {
    "duration": 2,
    "start_time": "2023-05-03T15:40:45.377Z"
   },
   {
    "duration": 15,
    "start_time": "2023-05-03T15:40:45.380Z"
   },
   {
    "duration": 10,
    "start_time": "2023-05-03T15:40:45.397Z"
   },
   {
    "duration": 26,
    "start_time": "2023-05-03T15:40:45.409Z"
   },
   {
    "duration": 17,
    "start_time": "2023-05-03T15:40:45.438Z"
   },
   {
    "duration": 20,
    "start_time": "2023-05-03T15:40:45.457Z"
   },
   {
    "duration": 12,
    "start_time": "2023-05-03T15:40:45.479Z"
   },
   {
    "duration": 237,
    "start_time": "2023-05-03T15:40:45.492Z"
   },
   {
    "duration": 3,
    "start_time": "2023-05-03T15:40:45.730Z"
   },
   {
    "duration": 5,
    "start_time": "2023-05-03T15:57:34.987Z"
   },
   {
    "duration": 56,
    "start_time": "2023-05-03T15:57:34.994Z"
   },
   {
    "duration": 14,
    "start_time": "2023-05-03T15:57:35.052Z"
   },
   {
    "duration": 51,
    "start_time": "2023-05-03T15:57:35.067Z"
   },
   {
    "duration": 11,
    "start_time": "2023-05-03T15:57:35.120Z"
   },
   {
    "duration": 10,
    "start_time": "2023-05-03T15:57:35.133Z"
   },
   {
    "duration": 15,
    "start_time": "2023-05-03T15:57:35.145Z"
   },
   {
    "duration": 14,
    "start_time": "2023-05-03T15:57:35.162Z"
   },
   {
    "duration": 115,
    "start_time": "2023-05-03T15:57:35.178Z"
   },
   {
    "duration": 5,
    "start_time": "2023-05-03T15:57:35.295Z"
   },
   {
    "duration": 335,
    "start_time": "2023-05-03T15:57:35.302Z"
   },
   {
    "duration": 3,
    "start_time": "2023-05-03T15:57:35.639Z"
   },
   {
    "duration": 20,
    "start_time": "2023-05-03T15:57:35.644Z"
   },
   {
    "duration": 6,
    "start_time": "2023-05-03T15:57:35.665Z"
   },
   {
    "duration": 8,
    "start_time": "2023-05-03T15:57:35.672Z"
   },
   {
    "duration": 7,
    "start_time": "2023-05-03T15:57:35.682Z"
   },
   {
    "duration": 18,
    "start_time": "2023-05-03T15:57:35.690Z"
   },
   {
    "duration": 5,
    "start_time": "2023-05-03T15:57:35.709Z"
   },
   {
    "duration": 25,
    "start_time": "2023-05-03T16:16:09.443Z"
   },
   {
    "duration": 8,
    "start_time": "2023-05-03T16:16:09.471Z"
   },
   {
    "duration": 21,
    "start_time": "2023-05-03T16:16:09.482Z"
   },
   {
    "duration": 128,
    "start_time": "2023-05-03T16:16:09.508Z"
   },
   {
    "duration": 5,
    "start_time": "2023-05-03T16:16:09.638Z"
   },
   {
    "duration": 355,
    "start_time": "2023-05-03T16:16:09.645Z"
   },
   {
    "duration": 8,
    "start_time": "2023-05-03T16:16:10.002Z"
   },
   {
    "duration": 39,
    "start_time": "2023-05-03T16:16:10.012Z"
   },
   {
    "duration": 30,
    "start_time": "2023-05-03T16:16:10.054Z"
   },
   {
    "duration": 20,
    "start_time": "2023-05-03T16:16:10.086Z"
   },
   {
    "duration": 10,
    "start_time": "2023-05-03T16:16:10.108Z"
   },
   {
    "duration": 18,
    "start_time": "2023-05-03T16:16:10.119Z"
   },
   {
    "duration": 5,
    "start_time": "2023-05-03T16:16:10.140Z"
   },
   {
    "duration": 295,
    "start_time": "2023-05-03T16:16:10.147Z"
   },
   {
    "duration": 4,
    "start_time": "2023-05-03T16:16:10.444Z"
   },
   {
    "duration": 383227,
    "start_time": "2023-05-03T16:16:10.464Z"
   },
   {
    "duration": 602,
    "start_time": "2023-05-03T16:22:33.693Z"
   },
   {
    "duration": 71,
    "start_time": "2023-05-03T16:22:34.298Z"
   },
   {
    "duration": 10,
    "start_time": "2023-05-03T16:22:34.378Z"
   },
   {
    "duration": 69,
    "start_time": "2023-05-03T16:22:34.455Z"
   },
   {
    "duration": 12,
    "start_time": "2023-05-03T16:22:34.526Z"
   },
   {
    "duration": 55,
    "start_time": "2023-05-03T16:22:34.540Z"
   },
   {
    "duration": 10,
    "start_time": "2023-05-03T16:22:34.597Z"
   },
   {
    "duration": 3,
    "start_time": "2023-05-03T16:22:34.610Z"
   },
   {
    "duration": 3,
    "start_time": "2023-05-03T16:23:54.093Z"
   },
   {
    "duration": 1592,
    "start_time": "2023-05-03T16:24:52.937Z"
   },
   {
    "duration": 62,
    "start_time": "2023-05-03T16:24:54.531Z"
   },
   {
    "duration": 17,
    "start_time": "2023-05-03T16:24:54.594Z"
   },
   {
    "duration": 51,
    "start_time": "2023-05-03T16:24:54.613Z"
   },
   {
    "duration": 18,
    "start_time": "2023-05-03T16:24:54.672Z"
   },
   {
    "duration": 5,
    "start_time": "2023-05-03T16:24:54.691Z"
   },
   {
    "duration": 39,
    "start_time": "2023-05-03T16:24:54.697Z"
   },
   {
    "duration": 30,
    "start_time": "2023-05-03T16:24:54.737Z"
   },
   {
    "duration": 143,
    "start_time": "2023-05-03T16:24:54.772Z"
   },
   {
    "duration": 5,
    "start_time": "2023-05-03T16:24:54.916Z"
   },
   {
    "duration": 359,
    "start_time": "2023-05-03T16:24:54.923Z"
   },
   {
    "duration": 3,
    "start_time": "2023-05-03T16:24:55.284Z"
   },
   {
    "duration": 41,
    "start_time": "2023-05-03T16:24:55.289Z"
   },
   {
    "duration": 19,
    "start_time": "2023-05-03T16:24:55.333Z"
   },
   {
    "duration": 32,
    "start_time": "2023-05-03T16:24:55.354Z"
   },
   {
    "duration": 16,
    "start_time": "2023-05-03T16:24:55.389Z"
   },
   {
    "duration": 30,
    "start_time": "2023-05-03T16:24:55.407Z"
   },
   {
    "duration": 5,
    "start_time": "2023-05-03T16:24:55.439Z"
   },
   {
    "duration": 255,
    "start_time": "2023-05-03T16:24:55.447Z"
   },
   {
    "duration": 4,
    "start_time": "2023-05-03T16:24:55.703Z"
   },
   {
    "duration": 178,
    "start_time": "2023-05-03T16:24:55.709Z"
   },
   {
    "duration": 574,
    "start_time": "2023-05-03T16:24:55.888Z"
   },
   {
    "duration": 100,
    "start_time": "2023-05-03T16:24:56.465Z"
   },
   {
    "duration": 373456,
    "start_time": "2023-05-03T16:25:53.523Z"
   },
   {
    "duration": 34,
    "start_time": "2023-05-04T06:38:56.827Z"
   },
   {
    "duration": 387,
    "start_time": "2023-05-04T06:47:41.310Z"
   },
   {
    "duration": 105,
    "start_time": "2023-05-04T06:52:36.155Z"
   },
   {
    "duration": 54,
    "start_time": "2023-05-04T06:53:32.205Z"
   },
   {
    "duration": 140,
    "start_time": "2023-05-04T06:54:16.534Z"
   },
   {
    "duration": 98,
    "start_time": "2023-05-04T07:07:21.888Z"
   },
   {
    "duration": 182,
    "start_time": "2023-05-04T07:09:01.591Z"
   },
   {
    "duration": 275,
    "start_time": "2023-05-04T07:09:43.031Z"
   },
   {
    "duration": 388771,
    "start_time": "2023-05-04T07:09:50.100Z"
   },
   {
    "duration": 82,
    "start_time": "2023-05-04T07:31:50.074Z"
   },
   {
    "duration": 824,
    "start_time": "2023-05-04T07:36:26.597Z"
   },
   {
    "duration": 764,
    "start_time": "2023-05-04T07:42:22.526Z"
   },
   {
    "duration": 706,
    "start_time": "2023-05-04T07:45:34.611Z"
   },
   {
    "duration": 704,
    "start_time": "2023-05-04T07:47:31.638Z"
   },
   {
    "duration": 15,
    "start_time": "2023-05-04T07:48:08.282Z"
   },
   {
    "duration": 117,
    "start_time": "2023-05-04T07:53:30.238Z"
   },
   {
    "duration": 52,
    "start_time": "2023-05-04T07:53:49.205Z"
   },
   {
    "duration": 132,
    "start_time": "2023-05-04T07:53:58.825Z"
   },
   {
    "duration": 172,
    "start_time": "2023-05-04T07:59:56.987Z"
   },
   {
    "duration": 33,
    "start_time": "2023-05-04T08:00:15.734Z"
   },
   {
    "duration": 40,
    "start_time": "2023-05-04T08:00:49.218Z"
   },
   {
    "duration": 102,
    "start_time": "2023-05-04T08:07:23.353Z"
   },
   {
    "duration": 1401,
    "start_time": "2023-05-04T08:08:01.514Z"
   },
   {
    "duration": 43,
    "start_time": "2023-05-04T08:08:02.917Z"
   },
   {
    "duration": 17,
    "start_time": "2023-05-04T08:08:02.962Z"
   },
   {
    "duration": 39,
    "start_time": "2023-05-04T08:08:02.981Z"
   },
   {
    "duration": 42,
    "start_time": "2023-05-04T08:08:03.022Z"
   },
   {
    "duration": 4,
    "start_time": "2023-05-04T08:08:03.066Z"
   },
   {
    "duration": 17,
    "start_time": "2023-05-04T08:08:03.071Z"
   },
   {
    "duration": 16,
    "start_time": "2023-05-04T08:08:03.089Z"
   },
   {
    "duration": 139,
    "start_time": "2023-05-04T08:08:03.107Z"
   },
   {
    "duration": 11,
    "start_time": "2023-05-04T08:08:03.248Z"
   },
   {
    "duration": 340,
    "start_time": "2023-05-04T08:08:03.261Z"
   },
   {
    "duration": 3,
    "start_time": "2023-05-04T08:08:03.603Z"
   },
   {
    "duration": 15,
    "start_time": "2023-05-04T08:08:03.607Z"
   },
   {
    "duration": 6,
    "start_time": "2023-05-04T08:08:03.624Z"
   },
   {
    "duration": 8,
    "start_time": "2023-05-04T08:08:03.656Z"
   },
   {
    "duration": 29,
    "start_time": "2023-05-04T08:08:03.666Z"
   },
   {
    "duration": 17,
    "start_time": "2023-05-04T08:08:03.697Z"
   },
   {
    "duration": 9,
    "start_time": "2023-05-04T08:08:03.715Z"
   },
   {
    "duration": 290,
    "start_time": "2023-05-04T08:08:03.726Z"
   },
   {
    "duration": 1557,
    "start_time": "2023-05-04T08:10:01.357Z"
   },
   {
    "duration": 45,
    "start_time": "2023-05-04T08:10:02.917Z"
   },
   {
    "duration": 20,
    "start_time": "2023-05-04T08:10:02.964Z"
   },
   {
    "duration": 48,
    "start_time": "2023-05-04T08:10:02.986Z"
   },
   {
    "duration": 23,
    "start_time": "2023-05-04T08:10:03.036Z"
   },
   {
    "duration": 5,
    "start_time": "2023-05-04T08:10:03.060Z"
   },
   {
    "duration": 35,
    "start_time": "2023-05-04T08:10:03.067Z"
   },
   {
    "duration": 12,
    "start_time": "2023-05-04T08:10:03.104Z"
   },
   {
    "duration": 117,
    "start_time": "2023-05-04T08:10:03.118Z"
   },
   {
    "duration": 5,
    "start_time": "2023-05-04T08:10:03.238Z"
   },
   {
    "duration": 350,
    "start_time": "2023-05-04T08:10:03.256Z"
   },
   {
    "duration": 3,
    "start_time": "2023-05-04T08:10:03.608Z"
   },
   {
    "duration": 30,
    "start_time": "2023-05-04T08:10:03.614Z"
   },
   {
    "duration": 24,
    "start_time": "2023-05-04T08:10:03.646Z"
   },
   {
    "duration": 36,
    "start_time": "2023-05-04T08:10:03.672Z"
   },
   {
    "duration": 21,
    "start_time": "2023-05-04T08:10:03.710Z"
   },
   {
    "duration": 34,
    "start_time": "2023-05-04T08:10:03.733Z"
   },
   {
    "duration": 48,
    "start_time": "2023-05-04T08:10:03.768Z"
   },
   {
    "duration": 302,
    "start_time": "2023-05-04T08:10:03.818Z"
   },
   {
    "duration": 339897,
    "start_time": "2023-05-04T08:10:04.123Z"
   },
   {
    "duration": 58,
    "start_time": "2023-05-04T08:15:44.022Z"
   },
   {
    "duration": 755,
    "start_time": "2023-05-04T08:15:44.156Z"
   },
   {
    "duration": 59,
    "start_time": "2023-05-04T08:15:44.913Z"
   },
   {
    "duration": 696,
    "start_time": "2023-05-04T08:19:01.034Z"
   },
   {
    "duration": 107,
    "start_time": "2023-05-04T08:19:55.453Z"
   },
   {
    "duration": 1364,
    "start_time": "2023-05-04T09:07:07.911Z"
   },
   {
    "duration": 45,
    "start_time": "2023-05-04T09:07:09.277Z"
   },
   {
    "duration": 18,
    "start_time": "2023-05-04T09:07:09.323Z"
   },
   {
    "duration": 53,
    "start_time": "2023-05-04T09:07:09.343Z"
   },
   {
    "duration": 11,
    "start_time": "2023-05-04T09:07:09.398Z"
   },
   {
    "duration": 18,
    "start_time": "2023-05-04T09:07:09.411Z"
   },
   {
    "duration": 22,
    "start_time": "2023-05-04T09:07:09.430Z"
   },
   {
    "duration": 17,
    "start_time": "2023-05-04T09:07:09.454Z"
   },
   {
    "duration": 104,
    "start_time": "2023-05-04T09:07:09.472Z"
   },
   {
    "duration": 5,
    "start_time": "2023-05-04T09:07:09.578Z"
   },
   {
    "duration": 299,
    "start_time": "2023-05-04T09:07:09.584Z"
   },
   {
    "duration": 3,
    "start_time": "2023-05-04T09:07:09.884Z"
   },
   {
    "duration": 27,
    "start_time": "2023-05-04T09:07:09.888Z"
   },
   {
    "duration": 20,
    "start_time": "2023-05-04T09:07:09.917Z"
   },
   {
    "duration": 11,
    "start_time": "2023-05-04T09:07:09.939Z"
   },
   {
    "duration": 14,
    "start_time": "2023-05-04T09:07:09.951Z"
   },
   {
    "duration": 27,
    "start_time": "2023-05-04T09:07:09.967Z"
   },
   {
    "duration": 5,
    "start_time": "2023-05-04T09:07:09.995Z"
   },
   {
    "duration": 238,
    "start_time": "2023-05-04T09:07:10.002Z"
   },
   {
    "duration": 335264,
    "start_time": "2023-05-04T09:07:10.242Z"
   },
   {
    "duration": 154,
    "start_time": "2023-05-04T09:12:45.508Z"
   },
   {
    "duration": 847,
    "start_time": "2023-05-04T09:12:45.664Z"
   },
   {
    "duration": 247,
    "start_time": "2023-05-04T09:12:46.512Z"
   },
   {
    "duration": 488,
    "start_time": "2023-05-04T15:38:49.276Z"
   },
   {
    "duration": 5,
    "start_time": "2023-05-04T16:01:07.435Z"
   },
   {
    "duration": 168,
    "start_time": "2023-05-04T16:01:13.327Z"
   },
   {
    "duration": 4,
    "start_time": "2023-05-04T16:01:32.990Z"
   },
   {
    "duration": 23,
    "start_time": "2023-05-04T16:01:33.746Z"
   },
   {
    "duration": 5,
    "start_time": "2023-05-04T16:02:10.053Z"
   },
   {
    "duration": 12,
    "start_time": "2023-05-04T16:02:11.393Z"
   },
   {
    "duration": 11,
    "start_time": "2023-05-04T16:02:21.478Z"
   },
   {
    "duration": 14,
    "start_time": "2023-05-04T16:02:28.374Z"
   },
   {
    "duration": 15,
    "start_time": "2023-05-04T16:02:33.905Z"
   },
   {
    "duration": 11,
    "start_time": "2023-05-04T16:02:39.377Z"
   },
   {
    "duration": 12,
    "start_time": "2023-05-04T16:03:46.684Z"
   },
   {
    "duration": 12,
    "start_time": "2023-05-04T16:03:54.728Z"
   },
   {
    "duration": 13,
    "start_time": "2023-05-04T16:04:01.677Z"
   },
   {
    "duration": 16,
    "start_time": "2023-05-04T16:04:08.495Z"
   },
   {
    "duration": 15,
    "start_time": "2023-05-04T16:04:16.257Z"
   },
   {
    "duration": 10,
    "start_time": "2023-05-04T16:04:26.057Z"
   },
   {
    "duration": 13,
    "start_time": "2023-05-04T16:04:32.176Z"
   },
   {
    "duration": 222,
    "start_time": "2023-05-04T16:05:21.837Z"
   },
   {
    "duration": 412,
    "start_time": "2023-05-04T16:05:59.349Z"
   },
   {
    "duration": 46,
    "start_time": "2023-05-04T16:06:35.757Z"
   },
   {
    "duration": 1824,
    "start_time": "2023-05-05T08:07:29.980Z"
   },
   {
    "duration": 152,
    "start_time": "2023-05-05T08:07:31.807Z"
   },
   {
    "duration": 23,
    "start_time": "2023-05-05T08:07:31.961Z"
   },
   {
    "duration": 50,
    "start_time": "2023-05-05T08:07:31.987Z"
   },
   {
    "duration": 14,
    "start_time": "2023-05-05T08:07:32.039Z"
   },
   {
    "duration": 6,
    "start_time": "2023-05-05T08:07:32.054Z"
   },
   {
    "duration": 5,
    "start_time": "2023-05-05T08:07:32.179Z"
   },
   {
    "duration": 21,
    "start_time": "2023-05-05T08:07:32.493Z"
   },
   {
    "duration": 119,
    "start_time": "2023-05-05T08:07:32.970Z"
   },
   {
    "duration": 5,
    "start_time": "2023-05-05T08:07:33.756Z"
   },
   {
    "duration": 408,
    "start_time": "2023-05-05T08:07:34.007Z"
   },
   {
    "duration": 9,
    "start_time": "2023-05-05T08:07:34.493Z"
   },
   {
    "duration": 139,
    "start_time": "2023-05-05T08:07:58.403Z"
   },
   {
    "duration": 10,
    "start_time": "2023-05-05T08:08:55.907Z"
   },
   {
    "duration": 5,
    "start_time": "2023-05-05T08:09:27.807Z"
   },
   {
    "duration": 50,
    "start_time": "2023-05-05T08:09:28.394Z"
   },
   {
    "duration": 15,
    "start_time": "2023-05-05T08:09:29.414Z"
   },
   {
    "duration": 50,
    "start_time": "2023-05-05T08:09:30.060Z"
   },
   {
    "duration": 27,
    "start_time": "2023-05-05T08:09:30.577Z"
   },
   {
    "duration": 5,
    "start_time": "2023-05-05T08:09:32.623Z"
   },
   {
    "duration": 5,
    "start_time": "2023-05-05T08:09:33.207Z"
   },
   {
    "duration": 11,
    "start_time": "2023-05-05T08:09:33.964Z"
   },
   {
    "duration": 104,
    "start_time": "2023-05-05T08:09:35.320Z"
   },
   {
    "duration": 5,
    "start_time": "2023-05-05T08:09:37.360Z"
   },
   {
    "duration": 387,
    "start_time": "2023-05-05T08:09:37.948Z"
   },
   {
    "duration": 3,
    "start_time": "2023-05-05T08:09:39.108Z"
   },
   {
    "duration": 11,
    "start_time": "2023-05-05T08:09:39.976Z"
   },
   {
    "duration": 5,
    "start_time": "2023-05-05T08:09:40.909Z"
   },
   {
    "duration": 8,
    "start_time": "2023-05-05T08:09:41.734Z"
   },
   {
    "duration": 10,
    "start_time": "2023-05-05T08:09:41.744Z"
   },
   {
    "duration": 18,
    "start_time": "2023-05-05T08:09:42.470Z"
   },
   {
    "duration": 5,
    "start_time": "2023-05-05T08:09:43.433Z"
   },
   {
    "duration": 229,
    "start_time": "2023-05-05T08:09:47.846Z"
   },
   {
    "duration": 5,
    "start_time": "2023-05-05T08:15:31.317Z"
   },
   {
    "duration": 69,
    "start_time": "2023-05-05T08:15:31.324Z"
   },
   {
    "duration": 403,
    "start_time": "2023-05-05T08:15:31.396Z"
   },
   {
    "duration": 517,
    "start_time": "2023-05-05T08:16:37.879Z"
   },
   {
    "duration": 654,
    "start_time": "2023-05-05T08:16:58.048Z"
   },
   {
    "duration": 568,
    "start_time": "2023-05-05T08:20:35.627Z"
   },
   {
    "duration": 372,
    "start_time": "2023-05-05T08:21:04.734Z"
   },
   {
    "duration": 529,
    "start_time": "2023-05-05T09:02:47.175Z"
   },
   {
    "duration": 341,
    "start_time": "2023-05-05T09:03:11.857Z"
   },
   {
    "duration": 1475,
    "start_time": "2023-05-05T09:04:36.629Z"
   },
   {
    "duration": 50,
    "start_time": "2023-05-05T09:04:38.106Z"
   },
   {
    "duration": 19,
    "start_time": "2023-05-05T09:04:38.157Z"
   },
   {
    "duration": 47,
    "start_time": "2023-05-05T09:04:38.178Z"
   },
   {
    "duration": 12,
    "start_time": "2023-05-05T09:04:38.228Z"
   },
   {
    "duration": 5,
    "start_time": "2023-05-05T09:04:38.241Z"
   },
   {
    "duration": 18,
    "start_time": "2023-05-05T09:04:38.248Z"
   },
   {
    "duration": 17,
    "start_time": "2023-05-05T09:04:38.268Z"
   },
   {
    "duration": 132,
    "start_time": "2023-05-05T09:04:38.295Z"
   },
   {
    "duration": 5,
    "start_time": "2023-05-05T09:04:38.429Z"
   },
   {
    "duration": 344,
    "start_time": "2023-05-05T09:04:38.436Z"
   },
   {
    "duration": 3,
    "start_time": "2023-05-05T09:04:38.782Z"
   },
   {
    "duration": 11,
    "start_time": "2023-05-05T09:04:38.794Z"
   },
   {
    "duration": 6,
    "start_time": "2023-05-05T09:04:38.808Z"
   },
   {
    "duration": 11,
    "start_time": "2023-05-05T09:04:38.816Z"
   },
   {
    "duration": 9,
    "start_time": "2023-05-05T09:04:38.829Z"
   },
   {
    "duration": 17,
    "start_time": "2023-05-05T09:04:38.839Z"
   },
   {
    "duration": 37,
    "start_time": "2023-05-05T09:04:38.858Z"
   },
   {
    "duration": 263,
    "start_time": "2023-05-05T09:04:38.897Z"
   },
   {
    "duration": 134076,
    "start_time": "2023-05-05T09:04:39.162Z"
   },
   {
    "duration": 63,
    "start_time": "2023-05-05T09:06:53.239Z"
   },
   {
    "duration": 896,
    "start_time": "2023-05-05T09:06:53.304Z"
   },
   {
    "duration": 601,
    "start_time": "2023-05-05T09:06:54.205Z"
   },
   {
    "duration": 88,
    "start_time": "2023-05-05T09:06:54.808Z"
   },
   {
    "duration": 17,
    "start_time": "2023-05-05T09:06:54.898Z"
   },
   {
    "duration": 390,
    "start_time": "2023-05-05T09:06:54.917Z"
   },
   {
    "duration": 12,
    "start_time": "2023-05-05T09:26:47.696Z"
   },
   {
    "duration": 995,
    "start_time": "2023-05-05T09:29:37.202Z"
   },
   {
    "duration": 607,
    "start_time": "2023-05-05T09:29:49.204Z"
   },
   {
    "duration": 490,
    "start_time": "2023-05-05T09:30:52.506Z"
   },
   {
    "duration": 265,
    "start_time": "2023-05-05T09:35:06.833Z"
   },
   {
    "duration": 261,
    "start_time": "2023-05-05T09:35:19.440Z"
   },
   {
    "duration": 11,
    "start_time": "2023-05-05T09:53:05.081Z"
   },
   {
    "duration": 12,
    "start_time": "2023-05-05T09:53:47.915Z"
   },
   {
    "duration": 15,
    "start_time": "2023-05-05T09:53:53.220Z"
   },
   {
    "duration": 40,
    "start_time": "2023-05-05T09:54:36.863Z"
   },
   {
    "duration": 24,
    "start_time": "2023-05-05T09:55:37.278Z"
   },
   {
    "duration": 22,
    "start_time": "2023-05-05T09:56:36.108Z"
   },
   {
    "duration": 22,
    "start_time": "2023-05-05T09:57:55.451Z"
   },
   {
    "duration": 19,
    "start_time": "2023-05-05T09:58:04.157Z"
   },
   {
    "duration": 13,
    "start_time": "2023-05-05T09:58:09.982Z"
   },
   {
    "duration": 12,
    "start_time": "2023-05-05T09:58:16.938Z"
   },
   {
    "duration": 1546,
    "start_time": "2023-05-05T09:58:29.606Z"
   },
   {
    "duration": 50,
    "start_time": "2023-05-05T09:58:31.154Z"
   },
   {
    "duration": 21,
    "start_time": "2023-05-05T09:58:31.206Z"
   },
   {
    "duration": 67,
    "start_time": "2023-05-05T09:58:31.229Z"
   },
   {
    "duration": 13,
    "start_time": "2023-05-05T09:58:31.298Z"
   },
   {
    "duration": 20,
    "start_time": "2023-05-05T09:58:31.314Z"
   },
   {
    "duration": 74,
    "start_time": "2023-05-05T09:58:31.337Z"
   },
   {
    "duration": 51,
    "start_time": "2023-05-05T09:58:31.414Z"
   },
   {
    "duration": 166,
    "start_time": "2023-05-05T09:58:31.468Z"
   },
   {
    "duration": 6,
    "start_time": "2023-05-05T09:58:31.637Z"
   },
   {
    "duration": 359,
    "start_time": "2023-05-05T09:58:31.645Z"
   },
   {
    "duration": 2,
    "start_time": "2023-05-05T09:58:32.006Z"
   },
   {
    "duration": 14,
    "start_time": "2023-05-05T09:58:32.010Z"
   },
   {
    "duration": 13,
    "start_time": "2023-05-05T09:58:32.026Z"
   },
   {
    "duration": 26,
    "start_time": "2023-05-05T09:58:32.041Z"
   },
   {
    "duration": 13,
    "start_time": "2023-05-05T09:58:32.069Z"
   },
   {
    "duration": 39,
    "start_time": "2023-05-05T09:58:32.084Z"
   },
   {
    "duration": 5,
    "start_time": "2023-05-05T09:58:32.124Z"
   },
   {
    "duration": 265,
    "start_time": "2023-05-05T09:58:32.130Z"
   },
   {
    "duration": 136267,
    "start_time": "2023-05-05T09:58:32.397Z"
   },
   {
    "duration": 47,
    "start_time": "2023-05-05T10:00:48.666Z"
   },
   {
    "duration": 866,
    "start_time": "2023-05-05T10:00:48.716Z"
   },
   {
    "duration": 431,
    "start_time": "2023-05-05T10:00:49.584Z"
   },
   {
    "duration": 6,
    "start_time": "2023-05-05T10:00:50.096Z"
   },
   {
    "duration": 102,
    "start_time": "2023-05-05T10:00:50.104Z"
   },
   {
    "duration": 486,
    "start_time": "2023-05-05T10:00:50.208Z"
   },
   {
    "duration": 16,
    "start_time": "2023-05-05T10:00:50.696Z"
   },
   {
    "duration": 583,
    "start_time": "2023-05-05T10:00:50.714Z"
   },
   {
    "duration": 20,
    "start_time": "2023-05-05T10:00:51.403Z"
   },
   {
    "duration": 8,
    "start_time": "2023-05-05T10:00:51.425Z"
   },
   {
    "duration": 158,
    "start_time": "2023-05-05T10:00:51.436Z"
   },
   {
    "duration": 7,
    "start_time": "2023-05-05T10:01:08.417Z"
   },
   {
    "duration": 11,
    "start_time": "2023-05-05T10:02:20.221Z"
   },
   {
    "duration": 7,
    "start_time": "2023-05-05T10:02:47.751Z"
   },
   {
    "duration": 126176,
    "start_time": "2023-05-05T10:06:17.841Z"
   },
   {
    "duration": 153,
    "start_time": "2023-05-05T10:08:24.173Z"
   },
   {
    "duration": 165800,
    "start_time": "2023-05-05T10:09:52.730Z"
   },
   {
    "duration": 125046,
    "start_time": "2023-05-05T10:14:44.413Z"
   },
   {
    "duration": 13,
    "start_time": "2023-05-05T10:20:11.322Z"
   },
   {
    "duration": 11,
    "start_time": "2023-05-05T10:57:51.051Z"
   },
   {
    "duration": 476,
    "start_time": "2023-05-05T10:58:11.046Z"
   },
   {
    "duration": 12,
    "start_time": "2023-05-05T10:58:27.832Z"
   },
   {
    "duration": 18,
    "start_time": "2023-05-05T10:58:53.016Z"
   },
   {
    "duration": 10,
    "start_time": "2023-05-05T11:00:02.491Z"
   },
   {
    "duration": 5,
    "start_time": "2023-05-05T11:02:05.849Z"
   },
   {
    "duration": 164,
    "start_time": "2023-05-05T11:02:06.940Z"
   },
   {
    "duration": 5,
    "start_time": "2023-05-05T11:02:37.826Z"
   },
   {
    "duration": 166,
    "start_time": "2023-05-05T11:02:39.261Z"
   },
   {
    "duration": 5,
    "start_time": "2023-05-05T11:03:59.814Z"
   },
   {
    "duration": 171,
    "start_time": "2023-05-05T11:04:01.035Z"
   },
   {
    "duration": 10398,
    "start_time": "2023-05-05T11:14:28.650Z"
   },
   {
    "duration": 10980,
    "start_time": "2023-05-05T11:15:19.148Z"
   },
   {
    "duration": 7,
    "start_time": "2023-05-05T11:16:10.908Z"
   },
   {
    "duration": 299,
    "start_time": "2023-05-05T11:16:11.671Z"
   },
   {
    "duration": 71,
    "start_time": "2023-05-05T11:16:44.648Z"
   },
   {
    "duration": 3159,
    "start_time": "2023-05-05T11:19:13.382Z"
   },
   {
    "duration": 2947,
    "start_time": "2023-05-05T11:20:47.705Z"
   },
   {
    "duration": 2677,
    "start_time": "2023-05-05T11:21:56.313Z"
   },
   {
    "duration": 2794,
    "start_time": "2023-05-05T11:25:23.214Z"
   },
   {
    "duration": 2801,
    "start_time": "2023-05-05T11:25:41.173Z"
   },
   {
    "duration": 379,
    "start_time": "2023-05-05T11:28:04.829Z"
   },
   {
    "duration": 381,
    "start_time": "2023-05-05T11:28:11.315Z"
   },
   {
    "duration": 479,
    "start_time": "2023-05-05T11:29:07.862Z"
   },
   {
    "duration": 361,
    "start_time": "2023-05-05T11:29:19.475Z"
   },
   {
    "duration": 425,
    "start_time": "2023-05-05T11:29:23.660Z"
   },
   {
    "duration": 3465,
    "start_time": "2023-05-05T11:31:00.210Z"
   },
   {
    "duration": 3490,
    "start_time": "2023-05-05T11:32:02.141Z"
   },
   {
    "duration": 318,
    "start_time": "2023-05-05T11:33:54.412Z"
   },
   {
    "duration": 550,
    "start_time": "2023-05-05T11:34:02.460Z"
   },
   {
    "duration": 326,
    "start_time": "2023-05-05T11:34:12.039Z"
   },
   {
    "duration": 299,
    "start_time": "2023-05-05T11:35:11.585Z"
   },
   {
    "duration": 16,
    "start_time": "2023-05-05T11:35:31.005Z"
   },
   {
    "duration": 639,
    "start_time": "2023-05-05T11:35:33.270Z"
   },
   {
    "duration": 475,
    "start_time": "2023-05-05T11:37:02.160Z"
   },
   {
    "duration": 618,
    "start_time": "2023-05-05T11:37:28.676Z"
   },
   {
    "duration": 477,
    "start_time": "2023-05-05T11:39:59.213Z"
   },
   {
    "duration": 21,
    "start_time": "2023-05-05T11:41:04.395Z"
   },
   {
    "duration": 279228,
    "start_time": "2023-05-05T11:42:42.057Z"
   },
   {
    "duration": 11637,
    "start_time": "2023-05-05T11:47:33.197Z"
   },
   {
    "duration": 99613,
    "start_time": "2023-05-05T11:52:59.473Z"
   },
   {
    "duration": 1168,
    "start_time": "2023-05-05T11:54:53.743Z"
   },
   {
    "duration": 1094,
    "start_time": "2023-05-05T11:54:58.481Z"
   },
   {
    "duration": 1422,
    "start_time": "2023-05-05T11:55:21.065Z"
   },
   {
    "duration": 56,
    "start_time": "2023-05-05T11:55:22.489Z"
   },
   {
    "duration": 17,
    "start_time": "2023-05-05T11:55:22.547Z"
   },
   {
    "duration": 45,
    "start_time": "2023-05-05T11:55:22.566Z"
   },
   {
    "duration": 11,
    "start_time": "2023-05-05T11:55:22.613Z"
   },
   {
    "duration": 6,
    "start_time": "2023-05-05T11:55:22.625Z"
   },
   {
    "duration": 15,
    "start_time": "2023-05-05T11:55:22.632Z"
   },
   {
    "duration": 13,
    "start_time": "2023-05-05T11:55:22.649Z"
   },
   {
    "duration": 147,
    "start_time": "2023-05-05T11:55:22.663Z"
   },
   {
    "duration": 6,
    "start_time": "2023-05-05T11:55:22.814Z"
   },
   {
    "duration": 325,
    "start_time": "2023-05-05T11:55:22.821Z"
   },
   {
    "duration": 3,
    "start_time": "2023-05-05T11:55:23.147Z"
   },
   {
    "duration": 12,
    "start_time": "2023-05-05T11:55:23.152Z"
   },
   {
    "duration": 6,
    "start_time": "2023-05-05T11:55:23.166Z"
   },
   {
    "duration": 26,
    "start_time": "2023-05-05T11:55:23.173Z"
   },
   {
    "duration": 24,
    "start_time": "2023-05-05T11:55:23.201Z"
   },
   {
    "duration": 17,
    "start_time": "2023-05-05T11:55:23.226Z"
   },
   {
    "duration": 8,
    "start_time": "2023-05-05T11:55:23.244Z"
   },
   {
    "duration": 230,
    "start_time": "2023-05-05T11:55:23.254Z"
   },
   {
    "duration": 139168,
    "start_time": "2023-05-05T11:55:23.486Z"
   },
   {
    "duration": 240,
    "start_time": "2023-05-05T11:57:42.655Z"
   },
   {
    "duration": 836,
    "start_time": "2023-05-05T11:57:42.901Z"
   },
   {
    "duration": 469,
    "start_time": "2023-05-05T11:57:43.739Z"
   },
   {
    "duration": 11,
    "start_time": "2023-05-05T11:57:44.211Z"
   },
   {
    "duration": 86,
    "start_time": "2023-05-05T11:57:44.224Z"
   },
   {
    "duration": 303,
    "start_time": "2023-05-05T11:57:44.312Z"
   },
   {
    "duration": 84,
    "start_time": "2023-05-05T11:57:44.617Z"
   },
   {
    "duration": 799,
    "start_time": "2023-05-05T11:57:44.706Z"
   },
   {
    "duration": 11,
    "start_time": "2023-05-05T11:57:45.511Z"
   },
   {
    "duration": 372,
    "start_time": "2023-05-05T11:57:45.524Z"
   },
   {
    "duration": 330,
    "start_time": "2023-05-05T11:57:45.898Z"
   },
   {
    "duration": 6,
    "start_time": "2023-05-05T11:57:46.230Z"
   },
   {
    "duration": 5,
    "start_time": "2023-05-05T11:57:46.237Z"
   },
   {
    "duration": 13,
    "start_time": "2023-05-05T11:57:46.244Z"
   },
   {
    "duration": 51,
    "start_time": "2023-05-05T11:57:46.258Z"
   },
   {
    "duration": 0,
    "start_time": "2023-05-05T11:57:46.311Z"
   },
   {
    "duration": 0,
    "start_time": "2023-05-05T11:57:46.312Z"
   },
   {
    "duration": 0,
    "start_time": "2023-05-05T11:57:46.314Z"
   },
   {
    "duration": 0,
    "start_time": "2023-05-05T11:57:46.315Z"
   },
   {
    "duration": 408,
    "start_time": "2023-05-05T12:00:11.516Z"
   },
   {
    "duration": 369,
    "start_time": "2023-05-05T12:00:26.108Z"
   },
   {
    "duration": 273,
    "start_time": "2023-05-05T12:00:42.235Z"
   },
   {
    "duration": 51381,
    "start_time": "2023-05-05T12:01:07.231Z"
   },
   {
    "duration": 10707,
    "start_time": "2023-05-05T12:03:13.619Z"
   },
   {
    "duration": 665,
    "start_time": "2023-05-05T12:03:57.175Z"
   },
   {
    "duration": 27,
    "start_time": "2023-05-05T12:05:46.888Z"
   },
   {
    "duration": 314,
    "start_time": "2023-05-05T12:05:47.938Z"
   },
   {
    "duration": 262,
    "start_time": "2023-05-05T12:05:48.686Z"
   },
   {
    "duration": 17,
    "start_time": "2023-05-05T12:06:12.625Z"
   },
   {
    "duration": 8,
    "start_time": "2023-05-05T12:06:22.933Z"
   },
   {
    "duration": 10,
    "start_time": "2023-05-05T12:06:26.677Z"
   },
   {
    "duration": 327,
    "start_time": "2023-05-05T12:06:29.285Z"
   },
   {
    "duration": 3712,
    "start_time": "2023-05-05T12:08:56.683Z"
   },
   {
    "duration": 572,
    "start_time": "2023-05-05T12:15:36.724Z"
   },
   {
    "duration": 600,
    "start_time": "2023-05-05T12:15:51.449Z"
   },
   {
    "duration": 566,
    "start_time": "2023-05-05T12:15:57.938Z"
   },
   {
    "duration": 108,
    "start_time": "2023-05-05T12:20:17.227Z"
   },
   {
    "duration": 14,
    "start_time": "2023-05-05T12:20:25.929Z"
   },
   {
    "duration": 13,
    "start_time": "2023-05-05T12:20:41.066Z"
   },
   {
    "duration": 1285,
    "start_time": "2023-05-05T12:20:50.526Z"
   },
   {
    "duration": 45,
    "start_time": "2023-05-05T12:20:51.813Z"
   },
   {
    "duration": 16,
    "start_time": "2023-05-05T12:20:51.860Z"
   },
   {
    "duration": 38,
    "start_time": "2023-05-05T12:20:51.877Z"
   },
   {
    "duration": 11,
    "start_time": "2023-05-05T12:20:51.918Z"
   },
   {
    "duration": 11,
    "start_time": "2023-05-05T12:20:51.931Z"
   },
   {
    "duration": 13,
    "start_time": "2023-05-05T12:20:51.943Z"
   },
   {
    "duration": 11,
    "start_time": "2023-05-05T12:20:51.958Z"
   },
   {
    "duration": 105,
    "start_time": "2023-05-05T12:20:51.971Z"
   },
   {
    "duration": 3,
    "start_time": "2023-05-05T12:20:52.078Z"
   },
   {
    "duration": 19,
    "start_time": "2023-05-05T12:20:52.082Z"
   },
   {
    "duration": 6,
    "start_time": "2023-05-05T12:20:52.103Z"
   },
   {
    "duration": 37,
    "start_time": "2023-05-05T12:20:52.111Z"
   },
   {
    "duration": 14,
    "start_time": "2023-05-05T12:20:52.151Z"
   },
   {
    "duration": 7,
    "start_time": "2023-05-05T12:20:52.166Z"
   },
   {
    "duration": 7,
    "start_time": "2023-05-05T12:20:52.175Z"
   },
   {
    "duration": 15,
    "start_time": "2023-05-05T12:20:52.183Z"
   },
   {
    "duration": 3,
    "start_time": "2023-05-05T12:20:52.200Z"
   },
   {
    "duration": 113,
    "start_time": "2023-05-05T12:20:52.205Z"
   },
   {
    "duration": 0,
    "start_time": "2023-05-05T12:20:52.320Z"
   },
   {
    "duration": 0,
    "start_time": "2023-05-05T12:20:52.321Z"
   },
   {
    "duration": 0,
    "start_time": "2023-05-05T12:20:52.323Z"
   },
   {
    "duration": 0,
    "start_time": "2023-05-05T12:20:52.324Z"
   },
   {
    "duration": 0,
    "start_time": "2023-05-05T12:20:52.325Z"
   },
   {
    "duration": 0,
    "start_time": "2023-05-05T12:20:52.326Z"
   },
   {
    "duration": 0,
    "start_time": "2023-05-05T12:20:52.327Z"
   },
   {
    "duration": 0,
    "start_time": "2023-05-05T12:20:52.328Z"
   },
   {
    "duration": 0,
    "start_time": "2023-05-05T12:20:52.330Z"
   },
   {
    "duration": 0,
    "start_time": "2023-05-05T12:20:52.331Z"
   },
   {
    "duration": 0,
    "start_time": "2023-05-05T12:20:52.332Z"
   },
   {
    "duration": 0,
    "start_time": "2023-05-05T12:20:52.334Z"
   },
   {
    "duration": 1325,
    "start_time": "2023-05-05T12:21:22.072Z"
   },
   {
    "duration": 46,
    "start_time": "2023-05-05T12:21:23.400Z"
   },
   {
    "duration": 16,
    "start_time": "2023-05-05T12:21:23.448Z"
   },
   {
    "duration": 37,
    "start_time": "2023-05-05T12:21:23.465Z"
   },
   {
    "duration": 11,
    "start_time": "2023-05-05T12:21:23.504Z"
   },
   {
    "duration": 6,
    "start_time": "2023-05-05T12:21:23.516Z"
   },
   {
    "duration": 14,
    "start_time": "2023-05-05T12:21:23.524Z"
   },
   {
    "duration": 20,
    "start_time": "2023-05-05T12:21:23.540Z"
   },
   {
    "duration": 125,
    "start_time": "2023-05-05T12:21:23.562Z"
   },
   {
    "duration": 6,
    "start_time": "2023-05-05T12:21:23.689Z"
   },
   {
    "duration": 7,
    "start_time": "2023-05-05T12:21:23.696Z"
   },
   {
    "duration": 4,
    "start_time": "2023-05-05T12:21:23.705Z"
   },
   {
    "duration": 14,
    "start_time": "2023-05-05T12:21:23.710Z"
   },
   {
    "duration": 5,
    "start_time": "2023-05-05T12:21:23.726Z"
   },
   {
    "duration": 8,
    "start_time": "2023-05-05T12:21:23.732Z"
   },
   {
    "duration": 10,
    "start_time": "2023-05-05T12:21:23.742Z"
   },
   {
    "duration": 45,
    "start_time": "2023-05-05T12:21:23.753Z"
   },
   {
    "duration": 4,
    "start_time": "2023-05-05T12:21:23.800Z"
   },
   {
    "duration": 213,
    "start_time": "2023-05-05T12:21:23.805Z"
   },
   {
    "duration": 121285,
    "start_time": "2023-05-05T12:21:24.020Z"
   },
   {
    "duration": 88,
    "start_time": "2023-05-05T12:23:25.307Z"
   },
   {
    "duration": 763,
    "start_time": "2023-05-05T12:23:25.397Z"
   },
   {
    "duration": 437,
    "start_time": "2023-05-05T12:23:26.162Z"
   },
   {
    "duration": 5,
    "start_time": "2023-05-05T12:23:26.601Z"
   },
   {
    "duration": 115,
    "start_time": "2023-05-05T12:23:26.607Z"
   },
   {
    "duration": 271,
    "start_time": "2023-05-05T12:23:26.724Z"
   },
   {
    "duration": 102,
    "start_time": "2023-05-05T12:23:26.997Z"
   },
   {
    "duration": 508,
    "start_time": "2023-05-05T12:23:27.101Z"
   },
   {
    "duration": 92,
    "start_time": "2023-05-05T12:23:27.611Z"
   },
   {
    "duration": 674,
    "start_time": "2023-05-05T12:23:27.705Z"
   },
   {
    "duration": 313,
    "start_time": "2023-05-05T12:23:28.381Z"
   },
   {
    "duration": 943,
    "start_time": "2023-05-05T12:25:27.439Z"
   },
   {
    "duration": 250,
    "start_time": "2023-05-05T12:26:18.777Z"
   },
   {
    "duration": 292,
    "start_time": "2023-05-05T12:26:41.110Z"
   },
   {
    "duration": 288,
    "start_time": "2023-05-05T12:26:49.301Z"
   },
   {
    "duration": 681,
    "start_time": "2023-05-05T12:27:05.723Z"
   },
   {
    "duration": 253,
    "start_time": "2023-05-05T12:27:31.561Z"
   },
   {
    "duration": 2,
    "start_time": "2023-05-05T12:28:55.288Z"
   },
   {
    "duration": 582,
    "start_time": "2023-05-05T12:28:57.124Z"
   },
   {
    "duration": 265,
    "start_time": "2023-05-05T12:29:05.673Z"
   },
   {
    "duration": 9,
    "start_time": "2023-05-05T12:29:12.786Z"
   },
   {
    "duration": 556,
    "start_time": "2023-05-05T12:29:15.470Z"
   },
   {
    "duration": 230,
    "start_time": "2023-05-05T12:29:17.809Z"
   },
   {
    "duration": 651,
    "start_time": "2023-05-05T12:30:50.955Z"
   },
   {
    "duration": 736,
    "start_time": "2023-05-05T12:32:13.481Z"
   },
   {
    "duration": 665,
    "start_time": "2023-05-05T12:34:29.633Z"
   },
   {
    "duration": 239,
    "start_time": "2023-05-05T12:35:36.127Z"
   },
   {
    "duration": 715,
    "start_time": "2023-05-05T12:36:34.688Z"
   },
   {
    "duration": 8655,
    "start_time": "2023-05-05T12:37:23.793Z"
   },
   {
    "duration": 37,
    "start_time": "2023-05-05T12:37:39.576Z"
   },
   {
    "duration": 27406,
    "start_time": "2023-05-05T12:40:21.129Z"
   },
   {
    "duration": 205,
    "start_time": "2023-05-05T12:40:48.537Z"
   },
   {
    "duration": 26728,
    "start_time": "2023-05-05T12:40:48.743Z"
   },
   {
    "duration": 6606,
    "start_time": "2023-05-05T12:41:20.235Z"
   },
   {
    "duration": 30,
    "start_time": "2023-05-05T12:44:40.957Z"
   },
   {
    "duration": 314,
    "start_time": "2023-05-05T12:46:56.557Z"
   },
   {
    "duration": 204,
    "start_time": "2023-05-05T12:47:17.943Z"
   },
   {
    "duration": 121066,
    "start_time": "2023-05-05T12:48:58.257Z"
   },
   {
    "duration": 74,
    "start_time": "2023-05-05T12:50:59.326Z"
   },
   {
    "duration": 1320,
    "start_time": "2023-05-05T12:51:01.487Z"
   },
   {
    "duration": 48,
    "start_time": "2023-05-05T12:51:02.811Z"
   },
   {
    "duration": 22,
    "start_time": "2023-05-05T12:51:02.861Z"
   },
   {
    "duration": 50,
    "start_time": "2023-05-05T12:51:02.885Z"
   },
   {
    "duration": 12,
    "start_time": "2023-05-05T12:51:02.937Z"
   },
   {
    "duration": 7,
    "start_time": "2023-05-05T12:51:02.951Z"
   },
   {
    "duration": 8,
    "start_time": "2023-05-05T12:51:02.960Z"
   },
   {
    "duration": 14,
    "start_time": "2023-05-05T12:51:02.994Z"
   },
   {
    "duration": 179,
    "start_time": "2023-05-05T12:51:03.010Z"
   },
   {
    "duration": 3,
    "start_time": "2023-05-05T12:51:03.195Z"
   },
   {
    "duration": 21,
    "start_time": "2023-05-05T12:51:03.200Z"
   },
   {
    "duration": 20,
    "start_time": "2023-05-05T12:51:03.223Z"
   },
   {
    "duration": 16,
    "start_time": "2023-05-05T12:51:03.245Z"
   },
   {
    "duration": 5,
    "start_time": "2023-05-05T12:51:03.263Z"
   },
   {
    "duration": 13,
    "start_time": "2023-05-05T12:51:03.270Z"
   },
   {
    "duration": 9,
    "start_time": "2023-05-05T12:51:03.285Z"
   },
   {
    "duration": 26,
    "start_time": "2023-05-05T12:51:03.296Z"
   },
   {
    "duration": 8,
    "start_time": "2023-05-05T12:51:03.324Z"
   },
   {
    "duration": 259,
    "start_time": "2023-05-05T12:51:03.334Z"
   },
   {
    "duration": 120682,
    "start_time": "2023-05-05T12:51:03.595Z"
   },
   {
    "duration": 216,
    "start_time": "2023-05-05T12:53:04.280Z"
   },
   {
    "duration": 780,
    "start_time": "2023-05-05T12:53:04.500Z"
   },
   {
    "duration": 425,
    "start_time": "2023-05-05T12:53:05.282Z"
   },
   {
    "duration": 88,
    "start_time": "2023-05-05T12:53:05.709Z"
   },
   {
    "duration": 105,
    "start_time": "2023-05-05T12:53:05.799Z"
   },
   {
    "duration": 301,
    "start_time": "2023-05-05T12:53:05.906Z"
   },
   {
    "duration": 99,
    "start_time": "2023-05-05T12:53:06.209Z"
   },
   {
    "duration": 682,
    "start_time": "2023-05-05T12:53:06.312Z"
   },
   {
    "duration": 13,
    "start_time": "2023-05-05T12:53:06.996Z"
   },
   {
    "duration": 750,
    "start_time": "2023-05-05T12:53:07.011Z"
   },
   {
    "duration": 255,
    "start_time": "2023-05-05T12:53:07.763Z"
   },
   {
    "duration": 642,
    "start_time": "2023-05-05T12:53:08.019Z"
   },
   {
    "duration": 646,
    "start_time": "2023-05-05T13:01:16.625Z"
   },
   {
    "duration": 25,
    "start_time": "2023-05-05T13:02:12.172Z"
   },
   {
    "duration": 1390,
    "start_time": "2023-05-05T13:04:58.856Z"
   },
   {
    "duration": 47,
    "start_time": "2023-05-05T13:05:00.248Z"
   },
   {
    "duration": 17,
    "start_time": "2023-05-05T13:05:00.296Z"
   },
   {
    "duration": 47,
    "start_time": "2023-05-05T13:05:00.315Z"
   },
   {
    "duration": 10,
    "start_time": "2023-05-05T13:05:00.363Z"
   },
   {
    "duration": 21,
    "start_time": "2023-05-05T13:05:00.375Z"
   },
   {
    "duration": 34,
    "start_time": "2023-05-05T13:05:00.397Z"
   },
   {
    "duration": 44,
    "start_time": "2023-05-05T13:05:00.433Z"
   },
   {
    "duration": 137,
    "start_time": "2023-05-05T13:05:00.479Z"
   },
   {
    "duration": 4,
    "start_time": "2023-05-05T13:05:00.619Z"
   },
   {
    "duration": 27,
    "start_time": "2023-05-05T13:05:00.625Z"
   },
   {
    "duration": 60,
    "start_time": "2023-05-05T13:05:00.654Z"
   },
   {
    "duration": 58,
    "start_time": "2023-05-05T13:05:00.716Z"
   },
   {
    "duration": 21,
    "start_time": "2023-05-05T13:05:00.776Z"
   },
   {
    "duration": 46,
    "start_time": "2023-05-05T13:05:00.799Z"
   },
   {
    "duration": 62,
    "start_time": "2023-05-05T13:05:00.847Z"
   },
   {
    "duration": 83,
    "start_time": "2023-05-05T13:05:00.911Z"
   },
   {
    "duration": 95,
    "start_time": "2023-05-05T13:05:00.996Z"
   },
   {
    "duration": 885,
    "start_time": "2023-05-05T13:05:01.093Z"
   },
   {
    "duration": 54,
    "start_time": "2023-05-05T13:06:52.958Z"
   },
   {
    "duration": 901,
    "start_time": "2023-05-05T13:06:53.016Z"
   },
   {
    "duration": 677,
    "start_time": "2023-05-05T13:06:53.920Z"
   },
   {
    "duration": 5,
    "start_time": "2023-05-05T13:06:54.599Z"
   },
   {
    "duration": 17,
    "start_time": "2023-05-05T13:06:54.608Z"
   },
   {
    "duration": 283,
    "start_time": "2023-05-05T13:06:54.627Z"
   },
   {
    "duration": 96,
    "start_time": "2023-05-05T13:06:54.912Z"
   },
   {
    "duration": 782,
    "start_time": "2023-05-05T13:06:55.012Z"
   },
   {
    "duration": 13,
    "start_time": "2023-05-05T13:06:55.796Z"
   },
   {
    "duration": 722,
    "start_time": "2023-05-05T13:06:55.811Z"
   },
   {
    "duration": 312,
    "start_time": "2023-05-05T13:06:56.535Z"
   },
   {
    "duration": 1525,
    "start_time": "2023-05-05T13:07:07.477Z"
   },
   {
    "duration": 53,
    "start_time": "2023-05-05T13:07:09.004Z"
   },
   {
    "duration": 20,
    "start_time": "2023-05-05T13:07:09.059Z"
   },
   {
    "duration": 47,
    "start_time": "2023-05-05T13:07:09.081Z"
   },
   {
    "duration": 11,
    "start_time": "2023-05-05T13:07:09.131Z"
   },
   {
    "duration": 8,
    "start_time": "2023-05-05T13:07:09.144Z"
   },
   {
    "duration": 36,
    "start_time": "2023-05-05T13:07:09.155Z"
   },
   {
    "duration": 28,
    "start_time": "2023-05-05T13:07:09.192Z"
   },
   {
    "duration": 148,
    "start_time": "2023-05-05T13:07:09.221Z"
   },
   {
    "duration": 3,
    "start_time": "2023-05-05T13:07:09.371Z"
   },
   {
    "duration": 61,
    "start_time": "2023-05-05T13:07:09.375Z"
   },
   {
    "duration": 39,
    "start_time": "2023-05-05T13:07:09.438Z"
   },
   {
    "duration": 48,
    "start_time": "2023-05-05T13:07:09.479Z"
   },
   {
    "duration": 6,
    "start_time": "2023-05-05T13:07:09.531Z"
   },
   {
    "duration": 16,
    "start_time": "2023-05-05T13:07:09.538Z"
   },
   {
    "duration": 12,
    "start_time": "2023-05-05T13:07:09.556Z"
   },
   {
    "duration": 40,
    "start_time": "2023-05-05T13:07:09.570Z"
   },
   {
    "duration": 6,
    "start_time": "2023-05-05T13:07:09.612Z"
   },
   {
    "duration": 787,
    "start_time": "2023-05-05T13:07:09.619Z"
   },
   {
    "duration": 30252,
    "start_time": "2023-05-05T13:07:10.409Z"
   },
   {
    "duration": 42,
    "start_time": "2023-05-05T13:07:40.663Z"
   },
   {
    "duration": 874,
    "start_time": "2023-05-05T13:07:40.707Z"
   },
   {
    "duration": 519,
    "start_time": "2023-05-05T13:07:41.583Z"
   },
   {
    "duration": 93,
    "start_time": "2023-05-05T13:07:42.104Z"
   },
   {
    "duration": 30,
    "start_time": "2023-05-05T13:07:42.198Z"
   },
   {
    "duration": 274,
    "start_time": "2023-05-05T13:07:42.229Z"
   },
   {
    "duration": 14,
    "start_time": "2023-05-05T13:07:42.594Z"
   },
   {
    "duration": 586,
    "start_time": "2023-05-05T13:07:42.610Z"
   },
   {
    "duration": 99,
    "start_time": "2023-05-05T13:07:43.198Z"
   },
   {
    "duration": 662,
    "start_time": "2023-05-05T13:07:43.299Z"
   },
   {
    "duration": 327,
    "start_time": "2023-05-05T13:07:43.963Z"
   },
   {
    "duration": 6,
    "start_time": "2023-05-05T13:08:11.390Z"
   },
   {
    "duration": 7481,
    "start_time": "2023-05-05T13:08:18.584Z"
   },
   {
    "duration": 41,
    "start_time": "2023-05-05T13:10:33.274Z"
   },
   {
    "duration": 33,
    "start_time": "2023-05-05T13:10:48.836Z"
   },
   {
    "duration": 57,
    "start_time": "2023-05-05T13:12:49.236Z"
   },
   {
    "duration": 562,
    "start_time": "2023-05-05T13:13:09.637Z"
   },
   {
    "duration": 893,
    "start_time": "2023-05-05T13:14:00.461Z"
   },
   {
    "duration": 206,
    "start_time": "2023-05-05T13:14:33.062Z"
   },
   {
    "duration": 621,
    "start_time": "2023-05-05T13:14:54.067Z"
   },
   {
    "duration": 353,
    "start_time": "2023-05-05T13:15:06.027Z"
   },
   {
    "duration": 213,
    "start_time": "2023-05-05T13:16:57.184Z"
   },
   {
    "duration": 592,
    "start_time": "2023-05-05T13:18:09.807Z"
   },
   {
    "duration": 390,
    "start_time": "2023-05-05T13:18:42.885Z"
   },
   {
    "duration": 29,
    "start_time": "2023-05-05T13:18:56.553Z"
   },
   {
    "duration": 204,
    "start_time": "2023-05-05T13:18:58.024Z"
   },
   {
    "duration": 383,
    "start_time": "2023-05-05T13:18:59.455Z"
   },
   {
    "duration": 626,
    "start_time": "2023-05-05T13:19:00.244Z"
   },
   {
    "duration": 39,
    "start_time": "2023-05-05T13:19:01.424Z"
   },
   {
    "duration": 380,
    "start_time": "2023-05-05T13:19:01.730Z"
   },
   {
    "duration": 240,
    "start_time": "2023-05-05T13:22:56.670Z"
   },
   {
    "duration": 565,
    "start_time": "2023-05-05T13:23:49.931Z"
   },
   {
    "duration": 383,
    "start_time": "2023-05-05T13:24:45.027Z"
   },
   {
    "duration": 387,
    "start_time": "2023-05-05T13:25:50.212Z"
   },
   {
    "duration": 389,
    "start_time": "2023-05-05T13:26:08.416Z"
   },
   {
    "duration": 577,
    "start_time": "2023-05-05T13:26:57.420Z"
   },
   {
    "duration": 564,
    "start_time": "2023-05-05T13:27:26.232Z"
   },
   {
    "duration": 496,
    "start_time": "2023-05-05T13:27:36.713Z"
   },
   {
    "duration": 314,
    "start_time": "2023-05-05T13:27:47.686Z"
   },
   {
    "duration": 18,
    "start_time": "2023-05-05T13:28:04.197Z"
   },
   {
    "duration": 546,
    "start_time": "2023-05-05T13:28:05.658Z"
   },
   {
    "duration": 491,
    "start_time": "2023-05-05T13:30:42.560Z"
   },
   {
    "duration": 31,
    "start_time": "2023-05-05T13:32:37.534Z"
   },
   {
    "duration": 10,
    "start_time": "2023-05-05T13:33:51.139Z"
   },
   {
    "duration": 742,
    "start_time": "2023-05-05T13:33:52.231Z"
   },
   {
    "duration": 247,
    "start_time": "2023-05-05T13:33:53.014Z"
   },
   {
    "duration": 710,
    "start_time": "2023-05-05T13:33:59.826Z"
   },
   {
    "duration": 1489,
    "start_time": "2023-05-05T13:34:08.595Z"
   },
   {
    "duration": 48,
    "start_time": "2023-05-05T13:34:10.087Z"
   },
   {
    "duration": 19,
    "start_time": "2023-05-05T13:34:10.137Z"
   },
   {
    "duration": 47,
    "start_time": "2023-05-05T13:34:10.157Z"
   },
   {
    "duration": 14,
    "start_time": "2023-05-05T13:34:10.206Z"
   },
   {
    "duration": 12,
    "start_time": "2023-05-05T13:34:10.221Z"
   },
   {
    "duration": 9,
    "start_time": "2023-05-05T13:34:10.235Z"
   },
   {
    "duration": 21,
    "start_time": "2023-05-05T13:34:10.246Z"
   },
   {
    "duration": 148,
    "start_time": "2023-05-05T13:34:10.269Z"
   },
   {
    "duration": 3,
    "start_time": "2023-05-05T13:34:10.419Z"
   },
   {
    "duration": 10,
    "start_time": "2023-05-05T13:34:10.424Z"
   },
   {
    "duration": 19,
    "start_time": "2023-05-05T13:34:10.435Z"
   },
   {
    "duration": 15,
    "start_time": "2023-05-05T13:34:10.456Z"
   },
   {
    "duration": 19,
    "start_time": "2023-05-05T13:34:10.475Z"
   },
   {
    "duration": 22,
    "start_time": "2023-05-05T13:34:10.495Z"
   },
   {
    "duration": 16,
    "start_time": "2023-05-05T13:34:10.519Z"
   },
   {
    "duration": 28,
    "start_time": "2023-05-05T13:34:10.537Z"
   },
   {
    "duration": 6,
    "start_time": "2023-05-05T13:34:10.567Z"
   },
   {
    "duration": 755,
    "start_time": "2023-05-05T13:34:10.575Z"
   },
   {
    "duration": 30913,
    "start_time": "2023-05-05T13:34:11.332Z"
   },
   {
    "duration": 7541,
    "start_time": "2023-05-05T13:34:42.247Z"
   },
   {
    "duration": 32,
    "start_time": "2023-05-05T13:34:49.802Z"
   },
   {
    "duration": 118,
    "start_time": "2023-05-05T13:34:49.894Z"
   },
   {
    "duration": 221,
    "start_time": "2023-05-05T13:34:50.014Z"
   },
   {
    "duration": 390,
    "start_time": "2023-05-05T13:34:50.237Z"
   },
   {
    "duration": 635,
    "start_time": "2023-05-05T13:34:50.629Z"
   },
   {
    "duration": 50,
    "start_time": "2023-05-05T13:34:51.266Z"
   },
   {
    "duration": 534,
    "start_time": "2023-05-05T13:34:51.317Z"
   },
   {
    "duration": 648,
    "start_time": "2023-05-05T13:34:51.853Z"
   },
   {
    "duration": 93,
    "start_time": "2023-05-05T13:34:52.502Z"
   },
   {
    "duration": 33,
    "start_time": "2023-05-05T13:34:52.597Z"
   },
   {
    "duration": 269,
    "start_time": "2023-05-05T13:34:52.632Z"
   },
   {
    "duration": 102,
    "start_time": "2023-05-05T13:34:52.903Z"
   },
   {
    "duration": 592,
    "start_time": "2023-05-05T13:34:53.007Z"
   },
   {
    "duration": 651,
    "start_time": "2023-05-05T13:34:53.601Z"
   },
   {
    "duration": 12,
    "start_time": "2023-05-05T13:34:54.255Z"
   },
   {
    "duration": 684,
    "start_time": "2023-05-05T13:34:54.269Z"
   },
   {
    "duration": 275,
    "start_time": "2023-05-05T13:34:54.954Z"
   },
   {
    "duration": 383,
    "start_time": "2023-05-05T13:37:30.256Z"
   },
   {
    "duration": 485,
    "start_time": "2023-05-05T13:38:25.509Z"
   },
   {
    "duration": 554,
    "start_time": "2023-05-05T13:38:58.895Z"
   },
   {
    "duration": 362,
    "start_time": "2023-05-05T13:39:09.980Z"
   },
   {
    "duration": 384,
    "start_time": "2023-05-05T13:39:51.629Z"
   },
   {
    "duration": 689,
    "start_time": "2023-05-05T13:40:27.005Z"
   },
   {
    "duration": 329,
    "start_time": "2023-05-05T13:40:46.989Z"
   },
   {
    "duration": 358,
    "start_time": "2023-05-05T13:41:00.223Z"
   },
   {
    "duration": 327,
    "start_time": "2023-05-05T13:41:12.837Z"
   },
   {
    "duration": 324,
    "start_time": "2023-05-05T13:41:23.154Z"
   },
   {
    "duration": 48,
    "start_time": "2023-05-05T13:41:32.672Z"
   },
   {
    "duration": 343,
    "start_time": "2023-05-05T13:41:38.277Z"
   },
   {
    "duration": 303,
    "start_time": "2023-05-05T13:42:12.293Z"
   },
   {
    "duration": 471,
    "start_time": "2023-05-05T13:43:21.482Z"
   },
   {
    "duration": 328,
    "start_time": "2023-05-05T13:43:30.552Z"
   },
   {
    "duration": 170,
    "start_time": "2023-05-05T13:43:53.995Z"
   },
   {
    "duration": 385,
    "start_time": "2023-05-05T13:44:03.935Z"
   },
   {
    "duration": 253,
    "start_time": "2023-05-05T13:44:36.071Z"
   },
   {
    "duration": 380,
    "start_time": "2023-05-05T13:44:47.293Z"
   },
   {
    "duration": 284,
    "start_time": "2023-05-05T13:44:56.129Z"
   },
   {
    "duration": 405,
    "start_time": "2023-05-05T13:45:02.304Z"
   },
   {
    "duration": 328,
    "start_time": "2023-05-05T13:45:10.083Z"
   },
   {
    "duration": 9,
    "start_time": "2023-05-05T13:45:30.344Z"
   },
   {
    "duration": 1360,
    "start_time": "2023-05-05T13:45:40.565Z"
   },
   {
    "duration": 47,
    "start_time": "2023-05-05T13:45:41.927Z"
   },
   {
    "duration": 18,
    "start_time": "2023-05-05T13:45:41.975Z"
   },
   {
    "duration": 42,
    "start_time": "2023-05-05T13:45:41.995Z"
   },
   {
    "duration": 11,
    "start_time": "2023-05-05T13:45:42.038Z"
   },
   {
    "duration": 7,
    "start_time": "2023-05-05T13:45:42.051Z"
   },
   {
    "duration": 15,
    "start_time": "2023-05-05T13:45:42.059Z"
   },
   {
    "duration": 21,
    "start_time": "2023-05-05T13:45:42.075Z"
   },
   {
    "duration": 113,
    "start_time": "2023-05-05T13:45:42.097Z"
   },
   {
    "duration": 2,
    "start_time": "2023-05-05T13:45:42.212Z"
   },
   {
    "duration": 13,
    "start_time": "2023-05-05T13:45:42.215Z"
   },
   {
    "duration": 12,
    "start_time": "2023-05-05T13:45:42.230Z"
   },
   {
    "duration": 25,
    "start_time": "2023-05-05T13:45:42.243Z"
   },
   {
    "duration": 5,
    "start_time": "2023-05-05T13:45:42.269Z"
   },
   {
    "duration": 9,
    "start_time": "2023-05-05T13:45:42.276Z"
   },
   {
    "duration": 7,
    "start_time": "2023-05-05T13:45:42.286Z"
   },
   {
    "duration": 16,
    "start_time": "2023-05-05T13:45:42.294Z"
   },
   {
    "duration": 4,
    "start_time": "2023-05-05T13:45:42.311Z"
   },
   {
    "duration": 710,
    "start_time": "2023-05-05T13:45:42.317Z"
   },
   {
    "duration": 29094,
    "start_time": "2023-05-05T13:45:43.028Z"
   },
   {
    "duration": 7086,
    "start_time": "2023-05-05T13:46:12.123Z"
   },
   {
    "duration": 86,
    "start_time": "2023-05-05T13:46:19.210Z"
   },
   {
    "duration": 114,
    "start_time": "2023-05-05T13:46:19.297Z"
   },
   {
    "duration": 204,
    "start_time": "2023-05-05T13:46:19.413Z"
   },
   {
    "duration": 345,
    "start_time": "2023-05-05T13:46:19.619Z"
   },
   {
    "duration": 607,
    "start_time": "2023-05-05T13:46:19.965Z"
   },
   {
    "duration": 44,
    "start_time": "2023-05-05T13:46:20.573Z"
   },
   {
    "duration": 432,
    "start_time": "2023-05-05T13:46:20.697Z"
   },
   {
    "duration": 566,
    "start_time": "2023-05-05T13:46:21.131Z"
   },
   {
    "duration": 5,
    "start_time": "2023-05-05T13:46:21.699Z"
   },
   {
    "duration": 21,
    "start_time": "2023-05-05T13:46:21.795Z"
   },
   {
    "duration": 376,
    "start_time": "2023-05-05T13:46:21.818Z"
   },
   {
    "duration": 12,
    "start_time": "2023-05-05T13:46:22.196Z"
   },
   {
    "duration": 584,
    "start_time": "2023-05-05T13:46:22.210Z"
   },
   {
    "duration": 490,
    "start_time": "2023-05-05T13:46:22.796Z"
   },
   {
    "duration": 13,
    "start_time": "2023-05-05T13:46:23.288Z"
   },
   {
    "duration": 331,
    "start_time": "2023-05-05T13:46:23.302Z"
   },
   {
    "duration": 56,
    "start_time": "2023-05-05T13:46:23.635Z"
   },
   {
    "duration": 0,
    "start_time": "2023-05-05T13:46:23.692Z"
   },
   {
    "duration": 381,
    "start_time": "2023-05-05T13:48:56.456Z"
   },
   {
    "duration": 884,
    "start_time": "2023-05-05T13:52:31.095Z"
   },
   {
    "duration": 0,
    "start_time": "2023-05-05T13:52:31.980Z"
   },
   {
    "duration": 1365,
    "start_time": "2023-05-05T13:52:48.974Z"
   },
   {
    "duration": 47,
    "start_time": "2023-05-05T13:52:50.341Z"
   },
   {
    "duration": 18,
    "start_time": "2023-05-05T13:52:50.390Z"
   },
   {
    "duration": 39,
    "start_time": "2023-05-05T13:52:50.409Z"
   },
   {
    "duration": 10,
    "start_time": "2023-05-05T13:52:50.451Z"
   },
   {
    "duration": 5,
    "start_time": "2023-05-05T13:52:50.462Z"
   },
   {
    "duration": 31,
    "start_time": "2023-05-05T13:52:50.468Z"
   },
   {
    "duration": 7,
    "start_time": "2023-05-05T13:52:50.500Z"
   },
   {
    "duration": 18,
    "start_time": "2023-05-05T13:52:50.508Z"
   },
   {
    "duration": 110,
    "start_time": "2023-05-05T13:52:50.528Z"
   },
   {
    "duration": 5,
    "start_time": "2023-05-05T13:52:50.639Z"
   },
   {
    "duration": 302,
    "start_time": "2023-05-05T13:52:50.646Z"
   },
   {
    "duration": 3,
    "start_time": "2023-05-05T13:52:50.950Z"
   },
   {
    "duration": 10,
    "start_time": "2023-05-05T13:52:50.956Z"
   },
   {
    "duration": 6,
    "start_time": "2023-05-05T13:52:50.967Z"
   },
   {
    "duration": 9,
    "start_time": "2023-05-05T13:52:50.995Z"
   },
   {
    "duration": 8,
    "start_time": "2023-05-05T13:52:51.006Z"
   },
   {
    "duration": 17,
    "start_time": "2023-05-05T13:52:51.016Z"
   },
   {
    "duration": 19,
    "start_time": "2023-05-05T13:52:51.035Z"
   },
   {
    "duration": 728,
    "start_time": "2023-05-05T13:52:51.055Z"
   },
   {
    "duration": 28650,
    "start_time": "2023-05-05T13:52:51.784Z"
   },
   {
    "duration": 7360,
    "start_time": "2023-05-05T13:53:20.436Z"
   },
   {
    "duration": 96,
    "start_time": "2023-05-05T13:53:27.798Z"
   },
   {
    "duration": 117,
    "start_time": "2023-05-05T13:53:27.897Z"
   },
   {
    "duration": 204,
    "start_time": "2023-05-05T13:53:28.016Z"
   },
   {
    "duration": 364,
    "start_time": "2023-05-05T13:53:28.221Z"
   },
   {
    "duration": 531,
    "start_time": "2023-05-05T13:53:28.587Z"
   },
   {
    "duration": 76,
    "start_time": "2023-05-05T13:53:29.120Z"
   },
   {
    "duration": 433,
    "start_time": "2023-05-05T13:53:29.197Z"
   },
   {
    "duration": 566,
    "start_time": "2023-05-05T13:53:29.632Z"
   },
   {
    "duration": 4,
    "start_time": "2023-05-05T13:53:30.200Z"
   },
   {
    "duration": 99,
    "start_time": "2023-05-05T13:53:30.205Z"
   },
   {
    "duration": 296,
    "start_time": "2023-05-05T13:53:30.306Z"
   },
   {
    "duration": 100,
    "start_time": "2023-05-05T13:53:30.604Z"
   },
   {
    "duration": 590,
    "start_time": "2023-05-05T13:53:30.706Z"
   },
   {
    "duration": 585,
    "start_time": "2023-05-05T13:53:31.298Z"
   },
   {
    "duration": 17,
    "start_time": "2023-05-05T13:53:31.885Z"
   },
   {
    "duration": 336,
    "start_time": "2023-05-05T13:53:31.904Z"
   },
   {
    "duration": 409,
    "start_time": "2023-05-05T13:53:32.241Z"
   },
   {
    "duration": 264,
    "start_time": "2023-05-05T13:57:55.490Z"
   },
   {
    "duration": 419,
    "start_time": "2023-05-05T13:58:10.780Z"
   },
   {
    "duration": 563,
    "start_time": "2023-05-05T13:58:32.266Z"
   },
   {
    "duration": 78,
    "start_time": "2023-05-05T13:58:49.118Z"
   },
   {
    "duration": 528,
    "start_time": "2023-05-05T13:59:14.637Z"
   },
   {
    "duration": 559,
    "start_time": "2023-05-05T13:59:27.491Z"
   },
   {
    "duration": 377,
    "start_time": "2023-05-05T13:59:35.265Z"
   },
   {
    "duration": 552,
    "start_time": "2023-05-05T13:59:54.844Z"
   },
   {
    "duration": 533,
    "start_time": "2023-05-05T14:00:49.871Z"
   },
   {
    "duration": 396,
    "start_time": "2023-05-05T14:01:09.301Z"
   },
   {
    "duration": 287,
    "start_time": "2023-05-05T14:02:00.710Z"
   },
   {
    "duration": 15,
    "start_time": "2023-05-05T14:02:40.624Z"
   },
   {
    "duration": 520,
    "start_time": "2023-05-05T14:02:52.683Z"
   },
   {
    "duration": 480,
    "start_time": "2023-05-05T14:03:27.715Z"
   },
   {
    "duration": 487,
    "start_time": "2023-05-05T14:03:46.400Z"
   },
   {
    "duration": 606,
    "start_time": "2023-05-05T14:03:57.089Z"
   },
   {
    "duration": 549,
    "start_time": "2023-05-05T14:04:13.999Z"
   },
   {
    "duration": 9,
    "start_time": "2023-05-05T14:04:40.332Z"
   },
   {
    "duration": 330,
    "start_time": "2023-05-05T14:04:41.075Z"
   },
   {
    "duration": 485,
    "start_time": "2023-05-05T14:04:46.256Z"
   },
   {
    "duration": 7021,
    "start_time": "2023-05-05T14:07:09.979Z"
   },
   {
    "duration": 337,
    "start_time": "2023-05-05T14:08:12.521Z"
   },
   {
    "duration": 1983,
    "start_time": "2023-05-05T14:08:38.953Z"
   },
   {
    "duration": 7119,
    "start_time": "2023-05-05T14:08:54.422Z"
   },
   {
    "duration": 1887,
    "start_time": "2023-05-05T14:09:04.427Z"
   },
   {
    "duration": 14632,
    "start_time": "2023-05-05T14:09:12.532Z"
   },
   {
    "duration": 353,
    "start_time": "2023-05-05T14:09:52.390Z"
   },
   {
    "duration": 6869,
    "start_time": "2023-05-05T14:10:11.847Z"
   },
   {
    "duration": 336,
    "start_time": "2023-05-05T14:10:21.964Z"
   },
   {
    "duration": 6104,
    "start_time": "2023-05-05T14:11:18.382Z"
   },
   {
    "duration": 331,
    "start_time": "2023-05-05T14:12:23.327Z"
   },
   {
    "duration": 319,
    "start_time": "2023-05-05T14:12:39.617Z"
   },
   {
    "duration": 6049,
    "start_time": "2023-05-05T14:13:55.445Z"
   },
   {
    "duration": 334,
    "start_time": "2023-05-05T14:14:42.022Z"
   },
   {
    "duration": 402,
    "start_time": "2023-05-05T14:14:47.597Z"
   },
   {
    "duration": 7203,
    "start_time": "2023-05-05T14:16:27.492Z"
   },
   {
    "duration": 6002,
    "start_time": "2023-05-05T14:16:34.697Z"
   },
   {
    "duration": 331,
    "start_time": "2023-05-05T14:16:40.700Z"
   },
   {
    "duration": 404,
    "start_time": "2023-05-05T14:16:41.033Z"
   },
   {
    "duration": 1360,
    "start_time": "2023-05-05T14:19:45.775Z"
   },
   {
    "duration": 49,
    "start_time": "2023-05-05T14:19:47.137Z"
   },
   {
    "duration": 17,
    "start_time": "2023-05-05T14:19:47.187Z"
   },
   {
    "duration": 58,
    "start_time": "2023-05-05T14:19:47.206Z"
   },
   {
    "duration": 11,
    "start_time": "2023-05-05T14:19:47.267Z"
   },
   {
    "duration": 5,
    "start_time": "2023-05-05T14:19:47.279Z"
   },
   {
    "duration": 14,
    "start_time": "2023-05-05T14:19:47.285Z"
   },
   {
    "duration": 5,
    "start_time": "2023-05-05T14:19:47.300Z"
   },
   {
    "duration": 25,
    "start_time": "2023-05-05T14:19:47.307Z"
   },
   {
    "duration": 121,
    "start_time": "2023-05-05T14:19:47.333Z"
   },
   {
    "duration": 2,
    "start_time": "2023-05-05T14:19:47.456Z"
   },
   {
    "duration": 5,
    "start_time": "2023-05-05T14:19:47.459Z"
   },
   {
    "duration": 9,
    "start_time": "2023-05-05T14:19:47.465Z"
   },
   {
    "duration": 17,
    "start_time": "2023-05-05T14:19:47.477Z"
   },
   {
    "duration": 5,
    "start_time": "2023-05-05T14:19:47.496Z"
   },
   {
    "duration": 9,
    "start_time": "2023-05-05T14:19:47.503Z"
   },
   {
    "duration": 9,
    "start_time": "2023-05-05T14:19:47.514Z"
   },
   {
    "duration": 34,
    "start_time": "2023-05-05T14:19:47.525Z"
   },
   {
    "duration": 4,
    "start_time": "2023-05-05T14:19:47.561Z"
   },
   {
    "duration": 731,
    "start_time": "2023-05-05T14:19:47.567Z"
   },
   {
    "duration": 29380,
    "start_time": "2023-05-05T14:19:48.299Z"
   },
   {
    "duration": 7603,
    "start_time": "2023-05-05T14:20:17.680Z"
   },
   {
    "duration": 40,
    "start_time": "2023-05-05T14:20:25.285Z"
   },
   {
    "duration": 113,
    "start_time": "2023-05-05T14:20:25.395Z"
   },
   {
    "duration": 217,
    "start_time": "2023-05-05T14:20:25.510Z"
   },
   {
    "duration": 389,
    "start_time": "2023-05-05T14:20:25.729Z"
   },
   {
    "duration": 640,
    "start_time": "2023-05-05T14:20:26.120Z"
   },
   {
    "duration": 133,
    "start_time": "2023-05-05T14:20:26.762Z"
   },
   {
    "duration": 500,
    "start_time": "2023-05-05T14:20:26.897Z"
   },
   {
    "duration": 500,
    "start_time": "2023-05-05T14:20:27.400Z"
   },
   {
    "duration": 94,
    "start_time": "2023-05-05T14:20:27.901Z"
   },
   {
    "duration": 14,
    "start_time": "2023-05-05T14:20:27.997Z"
   },
   {
    "duration": 283,
    "start_time": "2023-05-05T14:20:28.013Z"
   },
   {
    "duration": 107,
    "start_time": "2023-05-05T14:20:28.298Z"
   },
   {
    "duration": 587,
    "start_time": "2023-05-05T14:20:28.407Z"
   },
   {
    "duration": 634,
    "start_time": "2023-05-05T14:20:28.996Z"
   },
   {
    "duration": 10,
    "start_time": "2023-05-05T14:20:29.632Z"
   },
   {
    "duration": 7281,
    "start_time": "2023-05-05T14:20:29.644Z"
   },
   {
    "duration": 6411,
    "start_time": "2023-05-05T14:20:36.927Z"
   },
   {
    "duration": 348,
    "start_time": "2023-05-05T14:20:43.340Z"
   },
   {
    "duration": 434,
    "start_time": "2023-05-05T14:20:43.694Z"
   },
   {
    "duration": 1350,
    "start_time": "2023-05-05T14:25:09.184Z"
   },
   {
    "duration": 50,
    "start_time": "2023-05-05T14:25:10.536Z"
   },
   {
    "duration": 20,
    "start_time": "2023-05-05T14:25:10.587Z"
   },
   {
    "duration": 44,
    "start_time": "2023-05-05T14:25:10.608Z"
   },
   {
    "duration": 11,
    "start_time": "2023-05-05T14:25:10.655Z"
   },
   {
    "duration": 4,
    "start_time": "2023-05-05T14:25:10.668Z"
   },
   {
    "duration": 23,
    "start_time": "2023-05-05T14:25:10.674Z"
   },
   {
    "duration": 6,
    "start_time": "2023-05-05T14:25:10.699Z"
   },
   {
    "duration": 17,
    "start_time": "2023-05-05T14:25:10.707Z"
   },
   {
    "duration": 133,
    "start_time": "2023-05-05T14:25:10.726Z"
   },
   {
    "duration": 2,
    "start_time": "2023-05-05T14:25:10.861Z"
   },
   {
    "duration": 11,
    "start_time": "2023-05-05T14:25:10.865Z"
   },
   {
    "duration": 10,
    "start_time": "2023-05-05T14:25:10.878Z"
   },
   {
    "duration": 10,
    "start_time": "2023-05-05T14:25:10.891Z"
   },
   {
    "duration": 14,
    "start_time": "2023-05-05T14:25:10.902Z"
   },
   {
    "duration": 16,
    "start_time": "2023-05-05T14:25:10.917Z"
   },
   {
    "duration": 6,
    "start_time": "2023-05-05T14:25:10.935Z"
   },
   {
    "duration": 19,
    "start_time": "2023-05-05T14:25:10.943Z"
   },
   {
    "duration": 4,
    "start_time": "2023-05-05T14:25:10.964Z"
   },
   {
    "duration": 745,
    "start_time": "2023-05-05T14:25:10.969Z"
   },
   {
    "duration": 29317,
    "start_time": "2023-05-05T14:25:11.716Z"
   },
   {
    "duration": 7252,
    "start_time": "2023-05-05T14:25:41.035Z"
   },
   {
    "duration": 104,
    "start_time": "2023-05-05T14:25:48.289Z"
   },
   {
    "duration": 122,
    "start_time": "2023-05-05T14:25:48.395Z"
   },
   {
    "duration": 197,
    "start_time": "2023-05-05T14:25:48.519Z"
   },
   {
    "duration": 378,
    "start_time": "2023-05-05T14:25:48.718Z"
   },
   {
    "duration": 591,
    "start_time": "2023-05-05T14:25:49.098Z"
   },
   {
    "duration": 102,
    "start_time": "2023-05-05T14:25:49.694Z"
   },
   {
    "duration": 430,
    "start_time": "2023-05-05T14:25:49.798Z"
   },
   {
    "duration": 372,
    "start_time": "2023-05-05T14:25:50.230Z"
   },
   {
    "duration": 92,
    "start_time": "2023-05-05T14:25:50.604Z"
   },
   {
    "duration": 15,
    "start_time": "2023-05-05T14:25:50.697Z"
   },
   {
    "duration": 287,
    "start_time": "2023-05-05T14:25:50.714Z"
   },
   {
    "duration": 13,
    "start_time": "2023-05-05T14:25:51.094Z"
   },
   {
    "duration": 490,
    "start_time": "2023-05-05T14:25:51.109Z"
   },
   {
    "duration": 573,
    "start_time": "2023-05-05T14:25:51.600Z"
   },
   {
    "duration": 19,
    "start_time": "2023-05-05T14:25:52.175Z"
   },
   {
    "duration": 6598,
    "start_time": "2023-05-05T14:25:52.196Z"
   },
   {
    "duration": 6137,
    "start_time": "2023-05-05T14:25:58.797Z"
   },
   {
    "duration": 347,
    "start_time": "2023-05-05T14:26:04.936Z"
   },
   {
    "duration": 408,
    "start_time": "2023-05-05T14:26:05.286Z"
   },
   {
    "duration": 1431,
    "start_time": "2023-05-05T14:30:09.374Z"
   },
   {
    "duration": 52,
    "start_time": "2023-05-05T14:30:10.807Z"
   },
   {
    "duration": 27,
    "start_time": "2023-05-05T14:30:10.862Z"
   },
   {
    "duration": 75,
    "start_time": "2023-05-05T14:30:10.891Z"
   },
   {
    "duration": 14,
    "start_time": "2023-05-05T14:30:10.970Z"
   },
   {
    "duration": 8,
    "start_time": "2023-05-05T14:30:10.986Z"
   },
   {
    "duration": 25,
    "start_time": "2023-05-05T14:30:10.996Z"
   },
   {
    "duration": 12,
    "start_time": "2023-05-05T14:30:11.023Z"
   },
   {
    "duration": 36,
    "start_time": "2023-05-05T14:30:11.037Z"
   },
   {
    "duration": 129,
    "start_time": "2023-05-05T14:30:11.074Z"
   },
   {
    "duration": 6,
    "start_time": "2023-05-05T14:30:11.205Z"
   },
   {
    "duration": 357,
    "start_time": "2023-05-05T14:30:11.213Z"
   },
   {
    "duration": 2,
    "start_time": "2023-05-05T14:30:11.572Z"
   },
   {
    "duration": 21,
    "start_time": "2023-05-05T14:30:11.577Z"
   },
   {
    "duration": 23,
    "start_time": "2023-05-05T14:30:11.600Z"
   },
   {
    "duration": 32,
    "start_time": "2023-05-05T14:30:11.625Z"
   },
   {
    "duration": 14,
    "start_time": "2023-05-05T14:30:11.659Z"
   },
   {
    "duration": 22,
    "start_time": "2023-05-05T14:30:11.675Z"
   },
   {
    "duration": 4,
    "start_time": "2023-05-05T14:30:11.699Z"
   },
   {
    "duration": 789,
    "start_time": "2023-05-05T14:30:11.705Z"
   },
   {
    "duration": 29608,
    "start_time": "2023-05-05T14:30:12.496Z"
   },
   {
    "duration": 7330,
    "start_time": "2023-05-05T14:30:42.106Z"
   },
   {
    "duration": 60,
    "start_time": "2023-05-05T14:30:49.438Z"
   },
   {
    "duration": 119,
    "start_time": "2023-05-05T14:30:49.500Z"
   },
   {
    "duration": 205,
    "start_time": "2023-05-05T14:30:49.620Z"
   },
   {
    "duration": 384,
    "start_time": "2023-05-05T14:30:49.828Z"
   },
   {
    "duration": 541,
    "start_time": "2023-05-05T14:30:50.213Z"
   },
   {
    "duration": 48,
    "start_time": "2023-05-05T14:30:50.755Z"
   },
   {
    "duration": 532,
    "start_time": "2023-05-05T14:30:50.804Z"
   },
   {
    "duration": 461,
    "start_time": "2023-05-05T14:30:51.338Z"
   },
   {
    "duration": 94,
    "start_time": "2023-05-05T14:30:51.801Z"
   },
   {
    "duration": 17,
    "start_time": "2023-05-05T14:30:51.897Z"
   },
   {
    "duration": 382,
    "start_time": "2023-05-05T14:30:51.916Z"
   },
   {
    "duration": 103,
    "start_time": "2023-05-05T14:30:52.301Z"
   },
   {
    "duration": 589,
    "start_time": "2023-05-05T14:30:52.406Z"
   },
   {
    "duration": 583,
    "start_time": "2023-05-05T14:30:52.997Z"
   },
   {
    "duration": 17,
    "start_time": "2023-05-05T14:30:53.582Z"
   },
   {
    "duration": 7201,
    "start_time": "2023-05-05T14:30:53.601Z"
   },
   {
    "duration": 6250,
    "start_time": "2023-05-05T14:31:00.804Z"
   },
   {
    "duration": 355,
    "start_time": "2023-05-05T14:31:07.056Z"
   },
   {
    "duration": 404,
    "start_time": "2023-05-05T14:31:07.414Z"
   },
   {
    "duration": 386,
    "start_time": "2023-05-05T14:32:15.302Z"
   },
   {
    "duration": 977,
    "start_time": "2023-05-05T14:32:29.937Z"
   },
   {
    "duration": 314,
    "start_time": "2023-05-05T14:32:56.120Z"
   },
   {
    "duration": 377,
    "start_time": "2023-05-05T14:33:07.253Z"
   },
   {
    "duration": 322,
    "start_time": "2023-05-05T14:33:44.944Z"
   },
   {
    "duration": 6100,
    "start_time": "2023-05-05T14:35:25.468Z"
   },
   {
    "duration": 363,
    "start_time": "2023-05-05T14:35:39.847Z"
   },
   {
    "duration": 324,
    "start_time": "2023-05-05T14:35:54.394Z"
   },
   {
    "duration": 327,
    "start_time": "2023-05-05T14:37:18.673Z"
   },
   {
    "duration": 328,
    "start_time": "2023-05-05T14:37:28.926Z"
   },
   {
    "duration": 336,
    "start_time": "2023-05-05T14:38:01.854Z"
   },
   {
    "duration": 387,
    "start_time": "2023-05-05T14:38:02.583Z"
   },
   {
    "duration": 320,
    "start_time": "2023-05-05T14:38:20.902Z"
   },
   {
    "duration": 384,
    "start_time": "2023-05-05T14:38:23.581Z"
   },
   {
    "duration": 5644,
    "start_time": "2023-05-05T14:38:52.981Z"
   },
   {
    "duration": 5860,
    "start_time": "2023-05-05T14:39:24.292Z"
   },
   {
    "duration": 334,
    "start_time": "2023-05-05T14:39:46.971Z"
   },
   {
    "duration": 770,
    "start_time": "2023-05-05T14:41:34.982Z"
   },
   {
    "duration": 376,
    "start_time": "2023-05-05T14:42:41.378Z"
   },
   {
    "duration": 318,
    "start_time": "2023-05-05T14:43:05.399Z"
   },
   {
    "duration": 291,
    "start_time": "2023-05-05T14:43:13.172Z"
   },
   {
    "duration": 6,
    "start_time": "2023-05-05T14:43:25.773Z"
   },
   {
    "duration": 47,
    "start_time": "2023-05-05T14:43:26.041Z"
   },
   {
    "duration": 12,
    "start_time": "2023-05-05T14:43:26.345Z"
   },
   {
    "duration": 40,
    "start_time": "2023-05-05T14:43:27.089Z"
   },
   {
    "duration": 12,
    "start_time": "2023-05-05T14:43:27.527Z"
   },
   {
    "duration": 5,
    "start_time": "2023-05-05T14:43:28.399Z"
   },
   {
    "duration": 5,
    "start_time": "2023-05-05T14:43:28.649Z"
   },
   {
    "duration": 3,
    "start_time": "2023-05-05T14:43:28.904Z"
   },
   {
    "duration": 11,
    "start_time": "2023-05-05T14:43:29.206Z"
   },
   {
    "duration": 99,
    "start_time": "2023-05-05T14:43:29.731Z"
   },
   {
    "duration": 5,
    "start_time": "2023-05-05T14:43:31.174Z"
   },
   {
    "duration": 386,
    "start_time": "2023-05-05T14:43:33.620Z"
   },
   {
    "duration": 3,
    "start_time": "2023-05-05T14:43:53.630Z"
   },
   {
    "duration": 11,
    "start_time": "2023-05-05T14:43:55.440Z"
   },
   {
    "duration": 5,
    "start_time": "2023-05-05T14:43:59.444Z"
   },
   {
    "duration": 8,
    "start_time": "2023-05-05T14:44:00.088Z"
   },
   {
    "duration": 8,
    "start_time": "2023-05-05T14:44:00.471Z"
   },
   {
    "duration": 15,
    "start_time": "2023-05-05T14:44:01.212Z"
   },
   {
    "duration": 4,
    "start_time": "2023-05-05T14:44:02.119Z"
   },
   {
    "duration": 704,
    "start_time": "2023-05-05T14:44:05.376Z"
   },
   {
    "duration": 758,
    "start_time": "2023-05-05T14:44:26.761Z"
   },
   {
    "duration": 703,
    "start_time": "2023-05-05T14:44:38.040Z"
   },
   {
    "duration": 710,
    "start_time": "2023-05-05T14:45:47.484Z"
   },
   {
    "duration": 3,
    "start_time": "2023-05-05T14:47:46.726Z"
   },
   {
    "duration": 1297,
    "start_time": "2023-05-05T14:47:52.740Z"
   },
   {
    "duration": 52,
    "start_time": "2023-05-05T14:47:54.039Z"
   },
   {
    "duration": 19,
    "start_time": "2023-05-05T14:47:54.094Z"
   },
   {
    "duration": 49,
    "start_time": "2023-05-05T14:47:54.115Z"
   },
   {
    "duration": 36,
    "start_time": "2023-05-05T14:47:54.166Z"
   },
   {
    "duration": 8,
    "start_time": "2023-05-05T14:47:54.204Z"
   },
   {
    "duration": 2,
    "start_time": "2023-05-05T14:47:54.217Z"
   },
   {
    "duration": 13,
    "start_time": "2023-05-05T14:47:54.221Z"
   },
   {
    "duration": 13,
    "start_time": "2023-05-05T14:47:54.236Z"
   },
   {
    "duration": 119,
    "start_time": "2023-05-05T14:47:54.251Z"
   },
   {
    "duration": 2,
    "start_time": "2023-05-05T14:47:54.371Z"
   },
   {
    "duration": 5,
    "start_time": "2023-05-05T14:47:54.375Z"
   },
   {
    "duration": 12,
    "start_time": "2023-05-05T14:47:54.382Z"
   },
   {
    "duration": 10,
    "start_time": "2023-05-05T14:47:54.397Z"
   },
   {
    "duration": 4,
    "start_time": "2023-05-05T14:47:54.409Z"
   },
   {
    "duration": 11,
    "start_time": "2023-05-05T14:47:54.415Z"
   },
   {
    "duration": 18,
    "start_time": "2023-05-05T14:47:54.427Z"
   },
   {
    "duration": 20,
    "start_time": "2023-05-05T14:47:54.447Z"
   },
   {
    "duration": 4,
    "start_time": "2023-05-05T14:47:54.468Z"
   },
   {
    "duration": 676,
    "start_time": "2023-05-05T14:47:54.474Z"
   },
   {
    "duration": 27874,
    "start_time": "2023-05-05T14:47:55.152Z"
   },
   {
    "duration": 7223,
    "start_time": "2023-05-05T14:48:23.028Z"
   },
   {
    "duration": 52,
    "start_time": "2023-05-05T14:48:30.253Z"
   },
   {
    "duration": 203,
    "start_time": "2023-05-05T14:48:30.307Z"
   },
   {
    "duration": 212,
    "start_time": "2023-05-05T14:48:30.511Z"
   },
   {
    "duration": 377,
    "start_time": "2023-05-05T14:48:30.726Z"
   },
   {
    "duration": 673,
    "start_time": "2023-05-05T14:48:31.104Z"
   },
   {
    "duration": 46,
    "start_time": "2023-05-05T14:48:31.779Z"
   },
   {
    "duration": 442,
    "start_time": "2023-05-05T14:48:31.896Z"
   },
   {
    "duration": 456,
    "start_time": "2023-05-05T14:48:32.340Z"
   },
   {
    "duration": 5,
    "start_time": "2023-05-05T14:48:32.799Z"
   },
   {
    "duration": 99,
    "start_time": "2023-05-05T14:48:32.805Z"
   },
   {
    "duration": 290,
    "start_time": "2023-05-05T14:48:32.905Z"
   },
   {
    "duration": 98,
    "start_time": "2023-05-05T14:48:33.197Z"
   },
   {
    "duration": 498,
    "start_time": "2023-05-05T14:48:33.297Z"
   },
   {
    "duration": 644,
    "start_time": "2023-05-05T14:48:33.797Z"
   },
   {
    "duration": 10,
    "start_time": "2023-05-05T14:48:34.443Z"
   },
   {
    "duration": 6728,
    "start_time": "2023-05-05T14:48:34.455Z"
   },
   {
    "duration": 5759,
    "start_time": "2023-05-05T14:48:41.185Z"
   },
   {
    "duration": 329,
    "start_time": "2023-05-05T14:48:46.946Z"
   },
   {
    "duration": 379,
    "start_time": "2023-05-05T14:48:47.278Z"
   },
   {
    "duration": 382,
    "start_time": "2023-05-05T14:50:34.028Z"
   },
   {
    "duration": 307,
    "start_time": "2023-05-05T14:50:54.730Z"
   },
   {
    "duration": 313,
    "start_time": "2023-05-05T14:50:57.957Z"
   },
   {
    "duration": 326,
    "start_time": "2023-05-05T14:51:17.578Z"
   },
   {
    "duration": 347,
    "start_time": "2023-05-05T14:52:59.370Z"
   },
   {
    "duration": 410,
    "start_time": "2023-05-05T14:53:09.812Z"
   },
   {
    "duration": 526,
    "start_time": "2023-05-05T14:53:27.042Z"
   },
   {
    "duration": 372,
    "start_time": "2023-05-05T14:54:16.956Z"
   },
   {
    "duration": 329,
    "start_time": "2023-05-05T14:54:29.312Z"
   },
   {
    "duration": 490,
    "start_time": "2023-05-05T14:55:07.104Z"
   },
   {
    "duration": 434,
    "start_time": "2023-05-05T14:55:55.547Z"
   },
   {
    "duration": 362,
    "start_time": "2023-05-05T14:56:00.127Z"
   },
   {
    "duration": 1400,
    "start_time": "2023-05-05T14:56:08.602Z"
   },
   {
    "duration": 46,
    "start_time": "2023-05-05T14:56:10.004Z"
   },
   {
    "duration": 17,
    "start_time": "2023-05-05T14:56:10.051Z"
   },
   {
    "duration": 46,
    "start_time": "2023-05-05T14:56:10.070Z"
   },
   {
    "duration": 13,
    "start_time": "2023-05-05T14:56:10.119Z"
   },
   {
    "duration": 16,
    "start_time": "2023-05-05T14:56:10.133Z"
   },
   {
    "duration": 17,
    "start_time": "2023-05-05T14:56:10.151Z"
   },
   {
    "duration": 9,
    "start_time": "2023-05-05T14:56:10.171Z"
   },
   {
    "duration": 17,
    "start_time": "2023-05-05T14:56:10.181Z"
   },
   {
    "duration": 132,
    "start_time": "2023-05-05T14:56:10.200Z"
   },
   {
    "duration": 3,
    "start_time": "2023-05-05T14:56:10.334Z"
   },
   {
    "duration": 11,
    "start_time": "2023-05-05T14:56:10.339Z"
   },
   {
    "duration": 5,
    "start_time": "2023-05-05T14:56:10.352Z"
   },
   {
    "duration": 18,
    "start_time": "2023-05-05T14:56:10.360Z"
   },
   {
    "duration": 18,
    "start_time": "2023-05-05T14:56:10.380Z"
   },
   {
    "duration": 21,
    "start_time": "2023-05-05T14:56:10.399Z"
   },
   {
    "duration": 13,
    "start_time": "2023-05-05T14:56:10.421Z"
   },
   {
    "duration": 22,
    "start_time": "2023-05-05T14:56:10.435Z"
   },
   {
    "duration": 4,
    "start_time": "2023-05-05T14:56:10.459Z"
   },
   {
    "duration": 755,
    "start_time": "2023-05-05T14:56:10.465Z"
   },
   {
    "duration": 29305,
    "start_time": "2023-05-05T14:56:11.223Z"
   },
   {
    "duration": 7090,
    "start_time": "2023-05-05T14:56:40.530Z"
   },
   {
    "duration": 74,
    "start_time": "2023-05-05T14:56:47.621Z"
   },
   {
    "duration": 116,
    "start_time": "2023-05-05T14:56:47.697Z"
   },
   {
    "duration": 191,
    "start_time": "2023-05-05T14:56:47.814Z"
   },
   {
    "duration": 354,
    "start_time": "2023-05-05T14:56:48.006Z"
   },
   {
    "duration": 604,
    "start_time": "2023-05-05T14:56:48.362Z"
   },
   {
    "duration": 47,
    "start_time": "2023-05-05T14:56:48.969Z"
   },
   {
    "duration": 441,
    "start_time": "2023-05-05T14:56:49.096Z"
   },
   {
    "duration": 459,
    "start_time": "2023-05-05T14:56:49.539Z"
   },
   {
    "duration": 7,
    "start_time": "2023-05-05T14:56:49.999Z"
   },
   {
    "duration": 19,
    "start_time": "2023-05-05T14:56:50.095Z"
   },
   {
    "duration": 293,
    "start_time": "2023-05-05T14:56:50.116Z"
   },
   {
    "duration": 104,
    "start_time": "2023-05-05T14:56:50.494Z"
   },
   {
    "duration": 508,
    "start_time": "2023-05-05T14:56:50.599Z"
   },
   {
    "duration": 639,
    "start_time": "2023-05-05T14:56:51.108Z"
   },
   {
    "duration": 9,
    "start_time": "2023-05-05T14:56:51.749Z"
   },
   {
    "duration": 6732,
    "start_time": "2023-05-05T14:56:51.759Z"
   },
   {
    "duration": 5938,
    "start_time": "2023-05-05T14:56:58.494Z"
   },
   {
    "duration": 345,
    "start_time": "2023-05-05T14:57:04.433Z"
   },
   {
    "duration": 415,
    "start_time": "2023-05-05T14:57:04.781Z"
   },
   {
    "duration": 5,
    "start_time": "2023-05-05T14:57:05.266Z"
   },
   {
    "duration": 37,
    "start_time": "2023-05-05T14:57:05.272Z"
   },
   {
    "duration": 229,
    "start_time": "2023-05-05T15:01:45.841Z"
   },
   {
    "duration": 8,
    "start_time": "2023-05-05T15:01:53.934Z"
   },
   {
    "duration": 7,
    "start_time": "2023-05-05T15:01:54.319Z"
   },
   {
    "duration": 5,
    "start_time": "2023-05-05T15:15:51.483Z"
   },
   {
    "duration": 6815,
    "start_time": "2023-05-05T15:17:54.220Z"
   },
   {
    "duration": 98,
    "start_time": "2023-05-05T15:25:35.197Z"
   },
   {
    "duration": 349,
    "start_time": "2023-05-05T15:25:40.772Z"
   },
   {
    "duration": 400,
    "start_time": "2023-05-05T15:27:26.901Z"
   },
   {
    "duration": 10,
    "start_time": "2023-05-05T15:36:17.210Z"
   },
   {
    "duration": 10,
    "start_time": "2023-05-05T15:36:25.377Z"
   },
   {
    "duration": 56,
    "start_time": "2023-05-05T15:46:17.840Z"
   },
   {
    "duration": 1385,
    "start_time": "2023-05-05T15:52:13.567Z"
   },
   {
    "duration": 44,
    "start_time": "2023-05-05T15:52:14.954Z"
   },
   {
    "duration": 18,
    "start_time": "2023-05-05T15:52:15.000Z"
   },
   {
    "duration": 53,
    "start_time": "2023-05-05T15:52:15.020Z"
   },
   {
    "duration": 11,
    "start_time": "2023-05-05T15:52:15.075Z"
   },
   {
    "duration": 9,
    "start_time": "2023-05-05T15:52:15.087Z"
   },
   {
    "duration": 15,
    "start_time": "2023-05-05T15:52:15.097Z"
   },
   {
    "duration": 5,
    "start_time": "2023-05-05T15:52:15.114Z"
   },
   {
    "duration": 21,
    "start_time": "2023-05-05T15:52:15.120Z"
   },
   {
    "duration": 98,
    "start_time": "2023-05-05T15:52:15.143Z"
   },
   {
    "duration": 3,
    "start_time": "2023-05-05T15:52:15.243Z"
   },
   {
    "duration": 15,
    "start_time": "2023-05-05T15:52:15.248Z"
   },
   {
    "duration": 15,
    "start_time": "2023-05-05T15:52:15.264Z"
   },
   {
    "duration": 15,
    "start_time": "2023-05-05T15:52:15.280Z"
   },
   {
    "duration": 12,
    "start_time": "2023-05-05T15:52:15.297Z"
   },
   {
    "duration": 17,
    "start_time": "2023-05-05T15:52:15.311Z"
   },
   {
    "duration": 9,
    "start_time": "2023-05-05T15:52:15.329Z"
   },
   {
    "duration": 18,
    "start_time": "2023-05-05T15:52:15.339Z"
   },
   {
    "duration": 5,
    "start_time": "2023-05-05T15:52:15.359Z"
   },
   {
    "duration": 668,
    "start_time": "2023-05-05T15:52:15.365Z"
   },
   {
    "duration": 27723,
    "start_time": "2023-05-05T15:52:16.034Z"
   },
   {
    "duration": 6831,
    "start_time": "2023-05-05T15:52:43.758Z"
   },
   {
    "duration": 29,
    "start_time": "2023-05-05T15:52:50.593Z"
   },
   {
    "duration": 179,
    "start_time": "2023-05-05T15:52:50.625Z"
   },
   {
    "duration": 189,
    "start_time": "2023-05-05T15:52:50.805Z"
   },
   {
    "duration": 345,
    "start_time": "2023-05-05T15:52:50.996Z"
   },
   {
    "duration": 586,
    "start_time": "2023-05-05T15:52:51.343Z"
   },
   {
    "duration": 65,
    "start_time": "2023-05-05T15:52:51.932Z"
   },
   {
    "duration": 417,
    "start_time": "2023-05-05T15:52:51.999Z"
   },
   {
    "duration": 478,
    "start_time": "2023-05-05T15:52:52.417Z"
   },
   {
    "duration": 3,
    "start_time": "2023-05-05T15:52:52.897Z"
   },
   {
    "duration": 14,
    "start_time": "2023-05-05T15:52:52.902Z"
   },
   {
    "duration": 380,
    "start_time": "2023-05-05T15:52:52.918Z"
   },
   {
    "duration": 98,
    "start_time": "2023-05-05T15:52:53.300Z"
   },
   {
    "duration": 600,
    "start_time": "2023-05-05T15:52:53.400Z"
   },
   {
    "duration": 617,
    "start_time": "2023-05-05T15:52:54.003Z"
   },
   {
    "duration": 9,
    "start_time": "2023-05-05T15:52:54.621Z"
   },
   {
    "duration": 6675,
    "start_time": "2023-05-05T15:52:54.632Z"
   },
   {
    "duration": 5853,
    "start_time": "2023-05-05T15:53:01.308Z"
   },
   {
    "duration": 362,
    "start_time": "2023-05-05T15:53:07.163Z"
   },
   {
    "duration": 394,
    "start_time": "2023-05-05T15:53:07.527Z"
   },
   {
    "duration": 343,
    "start_time": "2023-05-05T15:54:52.878Z"
   },
   {
    "duration": 343,
    "start_time": "2023-05-05T15:55:01.009Z"
   },
   {
    "duration": 373,
    "start_time": "2023-05-05T15:55:20.072Z"
   },
   {
    "duration": 342,
    "start_time": "2023-05-05T15:55:26.718Z"
   },
   {
    "duration": 1373,
    "start_time": "2023-05-05T15:55:40.981Z"
   },
   {
    "duration": 46,
    "start_time": "2023-05-05T15:55:42.356Z"
   },
   {
    "duration": 18,
    "start_time": "2023-05-05T15:55:42.403Z"
   },
   {
    "duration": 39,
    "start_time": "2023-05-05T15:55:42.423Z"
   },
   {
    "duration": 33,
    "start_time": "2023-05-05T15:55:42.464Z"
   },
   {
    "duration": 4,
    "start_time": "2023-05-05T15:55:42.499Z"
   },
   {
    "duration": 27,
    "start_time": "2023-05-05T15:55:42.505Z"
   },
   {
    "duration": 23,
    "start_time": "2023-05-05T15:55:42.534Z"
   },
   {
    "duration": 18,
    "start_time": "2023-05-05T15:55:42.559Z"
   },
   {
    "duration": 115,
    "start_time": "2023-05-05T15:55:42.579Z"
   },
   {
    "duration": 2,
    "start_time": "2023-05-05T15:55:42.696Z"
   },
   {
    "duration": 20,
    "start_time": "2023-05-05T15:55:42.700Z"
   },
   {
    "duration": 6,
    "start_time": "2023-05-05T15:55:42.722Z"
   },
   {
    "duration": 11,
    "start_time": "2023-05-05T15:55:42.732Z"
   },
   {
    "duration": 6,
    "start_time": "2023-05-05T15:55:42.744Z"
   },
   {
    "duration": 10,
    "start_time": "2023-05-05T15:55:42.751Z"
   },
   {
    "duration": 9,
    "start_time": "2023-05-05T15:55:42.763Z"
   },
   {
    "duration": 36,
    "start_time": "2023-05-05T15:55:42.773Z"
   },
   {
    "duration": 5,
    "start_time": "2023-05-05T15:55:42.811Z"
   },
   {
    "duration": 714,
    "start_time": "2023-05-05T15:55:42.817Z"
   },
   {
    "duration": 27932,
    "start_time": "2023-05-05T15:55:43.532Z"
   },
   {
    "duration": 7023,
    "start_time": "2023-05-05T15:56:11.466Z"
   },
   {
    "duration": 28,
    "start_time": "2023-05-05T15:56:18.494Z"
   },
   {
    "duration": 112,
    "start_time": "2023-05-05T15:56:18.593Z"
   },
   {
    "duration": 194,
    "start_time": "2023-05-05T15:56:18.707Z"
   },
   {
    "duration": 349,
    "start_time": "2023-05-05T15:56:18.902Z"
   },
   {
    "duration": 585,
    "start_time": "2023-05-05T15:56:19.253Z"
   },
   {
    "duration": 62,
    "start_time": "2023-05-05T15:56:19.840Z"
   },
   {
    "duration": 424,
    "start_time": "2023-05-05T15:56:19.903Z"
   },
   {
    "duration": 466,
    "start_time": "2023-05-05T15:56:20.329Z"
   },
   {
    "duration": 5,
    "start_time": "2023-05-05T15:56:20.796Z"
   },
   {
    "duration": 37,
    "start_time": "2023-05-05T15:56:20.802Z"
   },
   {
    "duration": 304,
    "start_time": "2023-05-05T15:56:20.893Z"
   },
   {
    "duration": 104,
    "start_time": "2023-05-05T15:56:21.199Z"
   },
   {
    "duration": 590,
    "start_time": "2023-05-05T15:56:21.305Z"
   },
   {
    "duration": 551,
    "start_time": "2023-05-05T15:56:21.897Z"
   },
   {
    "duration": 9,
    "start_time": "2023-05-05T15:56:22.450Z"
   },
   {
    "duration": 6393,
    "start_time": "2023-05-05T15:56:22.461Z"
   },
   {
    "duration": 5736,
    "start_time": "2023-05-05T15:56:28.856Z"
   },
   {
    "duration": 354,
    "start_time": "2023-05-05T15:56:34.594Z"
   },
   {
    "duration": 415,
    "start_time": "2023-05-05T15:56:34.951Z"
   },
   {
    "duration": 338,
    "start_time": "2023-05-05T15:57:32.717Z"
   },
   {
    "duration": 323,
    "start_time": "2023-05-05T15:57:42.719Z"
   },
   {
    "duration": 1880,
    "start_time": "2023-05-05T16:04:05.930Z"
   },
   {
    "duration": 55,
    "start_time": "2023-05-05T16:04:07.812Z"
   },
   {
    "duration": 18,
    "start_time": "2023-05-05T16:04:07.869Z"
   },
   {
    "duration": 35,
    "start_time": "2023-05-05T16:04:07.889Z"
   },
   {
    "duration": 29,
    "start_time": "2023-05-05T16:04:07.926Z"
   },
   {
    "duration": 11,
    "start_time": "2023-05-05T16:04:07.957Z"
   },
   {
    "duration": 7,
    "start_time": "2023-05-05T16:04:07.970Z"
   },
   {
    "duration": 5,
    "start_time": "2023-05-05T16:04:07.979Z"
   },
   {
    "duration": 10,
    "start_time": "2023-05-05T16:04:07.985Z"
   },
   {
    "duration": 120,
    "start_time": "2023-05-05T16:04:07.997Z"
   },
   {
    "duration": 2,
    "start_time": "2023-05-05T16:04:08.119Z"
   },
   {
    "duration": 56,
    "start_time": "2023-05-05T16:04:08.122Z"
   },
   {
    "duration": 16,
    "start_time": "2023-05-05T16:04:08.179Z"
   },
   {
    "duration": 44,
    "start_time": "2023-05-05T16:04:08.198Z"
   },
   {
    "duration": 16,
    "start_time": "2023-05-05T16:04:08.244Z"
   },
   {
    "duration": 26,
    "start_time": "2023-05-05T16:04:08.261Z"
   },
   {
    "duration": 6,
    "start_time": "2023-05-05T16:04:08.289Z"
   },
   {
    "duration": 14,
    "start_time": "2023-05-05T16:04:08.297Z"
   },
   {
    "duration": 4,
    "start_time": "2023-05-05T16:04:08.312Z"
   },
   {
    "duration": 818,
    "start_time": "2023-05-05T16:04:08.318Z"
   },
   {
    "duration": 33292,
    "start_time": "2023-05-05T16:04:09.137Z"
   },
   {
    "duration": 8200,
    "start_time": "2023-05-05T16:04:42.431Z"
   },
   {
    "duration": 122,
    "start_time": "2023-05-05T16:04:50.633Z"
   },
   {
    "duration": 111,
    "start_time": "2023-05-05T16:04:50.760Z"
   },
   {
    "duration": 211,
    "start_time": "2023-05-05T16:04:50.873Z"
   },
   {
    "duration": 434,
    "start_time": "2023-05-05T16:04:51.086Z"
   },
   {
    "duration": 792,
    "start_time": "2023-05-05T16:04:51.522Z"
   },
   {
    "duration": 143,
    "start_time": "2023-05-05T16:04:52.316Z"
   },
   {
    "duration": 434,
    "start_time": "2023-05-05T16:04:52.461Z"
   },
   {
    "duration": 457,
    "start_time": "2023-05-05T16:04:52.896Z"
   },
   {
    "duration": 7,
    "start_time": "2023-05-05T16:04:53.354Z"
   },
   {
    "duration": 97,
    "start_time": "2023-05-05T16:04:53.362Z"
   },
   {
    "duration": 305,
    "start_time": "2023-05-05T16:04:53.461Z"
   },
   {
    "duration": 95,
    "start_time": "2023-05-05T16:04:53.768Z"
   },
   {
    "duration": 594,
    "start_time": "2023-05-05T16:04:53.865Z"
   },
   {
    "duration": 679,
    "start_time": "2023-05-05T16:04:54.464Z"
   },
   {
    "duration": 18,
    "start_time": "2023-05-05T16:04:55.148Z"
   },
   {
    "duration": 7769,
    "start_time": "2023-05-05T16:04:55.167Z"
   },
   {
    "duration": 6726,
    "start_time": "2023-05-05T16:05:02.938Z"
   },
   {
    "duration": 422,
    "start_time": "2023-05-05T16:05:09.667Z"
   },
   {
    "duration": 455,
    "start_time": "2023-05-05T16:05:10.093Z"
   },
   {
    "duration": 5,
    "start_time": "2023-05-05T16:15:23.358Z"
   },
   {
    "duration": 16,
    "start_time": "2023-05-05T16:15:41.168Z"
   },
   {
    "duration": 13,
    "start_time": "2023-05-05T16:15:56.221Z"
   },
   {
    "duration": 14,
    "start_time": "2023-05-05T16:16:32.611Z"
   },
   {
    "duration": 10,
    "start_time": "2023-05-05T16:17:27.754Z"
   },
   {
    "duration": 15,
    "start_time": "2023-05-05T16:17:38.080Z"
   },
   {
    "duration": 53,
    "start_time": "2023-05-06T05:04:28.609Z"
   },
   {
    "duration": 1622,
    "start_time": "2023-05-06T05:04:41.110Z"
   },
   {
    "duration": 73,
    "start_time": "2023-05-06T05:05:05.760Z"
   },
   {
    "duration": 1409,
    "start_time": "2023-05-06T05:05:20.897Z"
   },
   {
    "duration": 184,
    "start_time": "2023-05-06T05:05:22.309Z"
   },
   {
    "duration": 17,
    "start_time": "2023-05-06T05:05:22.495Z"
   },
   {
    "duration": 43,
    "start_time": "2023-05-06T05:05:22.514Z"
   },
   {
    "duration": 12,
    "start_time": "2023-05-06T05:05:22.559Z"
   },
   {
    "duration": 5,
    "start_time": "2023-05-06T05:05:22.572Z"
   },
   {
    "duration": 16,
    "start_time": "2023-05-06T05:05:22.579Z"
   },
   {
    "duration": 7,
    "start_time": "2023-05-06T05:05:22.597Z"
   },
   {
    "duration": 12,
    "start_time": "2023-05-06T05:05:22.605Z"
   },
   {
    "duration": 112,
    "start_time": "2023-05-06T05:05:22.639Z"
   },
   {
    "duration": 2,
    "start_time": "2023-05-06T05:05:22.755Z"
   },
   {
    "duration": 12,
    "start_time": "2023-05-06T05:05:22.759Z"
   },
   {
    "duration": 11,
    "start_time": "2023-05-06T05:05:22.772Z"
   },
   {
    "duration": 12,
    "start_time": "2023-05-06T05:05:22.784Z"
   },
   {
    "duration": 10,
    "start_time": "2023-05-06T05:05:22.798Z"
   },
   {
    "duration": 32,
    "start_time": "2023-05-06T05:05:22.810Z"
   },
   {
    "duration": 11,
    "start_time": "2023-05-06T05:05:22.847Z"
   },
   {
    "duration": 7,
    "start_time": "2023-05-06T05:05:22.860Z"
   },
   {
    "duration": 131,
    "start_time": "2023-05-06T05:05:22.868Z"
   },
   {
    "duration": 0,
    "start_time": "2023-05-06T05:05:23.001Z"
   },
   {
    "duration": 0,
    "start_time": "2023-05-06T05:05:23.002Z"
   },
   {
    "duration": 0,
    "start_time": "2023-05-06T05:05:23.004Z"
   },
   {
    "duration": 0,
    "start_time": "2023-05-06T05:05:23.005Z"
   },
   {
    "duration": 0,
    "start_time": "2023-05-06T05:05:23.006Z"
   },
   {
    "duration": 0,
    "start_time": "2023-05-06T05:05:23.007Z"
   },
   {
    "duration": 0,
    "start_time": "2023-05-06T05:05:23.007Z"
   },
   {
    "duration": 0,
    "start_time": "2023-05-06T05:05:23.008Z"
   },
   {
    "duration": 0,
    "start_time": "2023-05-06T05:05:23.009Z"
   },
   {
    "duration": 0,
    "start_time": "2023-05-06T05:05:23.011Z"
   },
   {
    "duration": 0,
    "start_time": "2023-05-06T05:05:23.012Z"
   },
   {
    "duration": 0,
    "start_time": "2023-05-06T05:05:23.013Z"
   },
   {
    "duration": 0,
    "start_time": "2023-05-06T05:05:23.035Z"
   },
   {
    "duration": 0,
    "start_time": "2023-05-06T05:05:23.036Z"
   },
   {
    "duration": 0,
    "start_time": "2023-05-06T05:05:23.037Z"
   },
   {
    "duration": 0,
    "start_time": "2023-05-06T05:05:23.040Z"
   },
   {
    "duration": 0,
    "start_time": "2023-05-06T05:05:23.040Z"
   },
   {
    "duration": 0,
    "start_time": "2023-05-06T05:05:23.041Z"
   },
   {
    "duration": 0,
    "start_time": "2023-05-06T05:05:23.043Z"
   },
   {
    "duration": 0,
    "start_time": "2023-05-06T05:05:23.044Z"
   },
   {
    "duration": 0,
    "start_time": "2023-05-06T05:05:23.045Z"
   },
   {
    "duration": 0,
    "start_time": "2023-05-06T05:05:23.045Z"
   },
   {
    "duration": 0,
    "start_time": "2023-05-06T05:05:23.046Z"
   },
   {
    "duration": 0,
    "start_time": "2023-05-06T05:05:23.046Z"
   },
   {
    "duration": 0,
    "start_time": "2023-05-06T05:05:23.047Z"
   },
   {
    "duration": 82,
    "start_time": "2023-05-06T05:08:22.129Z"
   },
   {
    "duration": 23,
    "start_time": "2023-05-06T05:08:26.990Z"
   },
   {
    "duration": 19,
    "start_time": "2023-05-06T05:10:01.361Z"
   },
   {
    "duration": 29,
    "start_time": "2023-05-06T05:22:45.317Z"
   },
   {
    "duration": 1422,
    "start_time": "2023-05-06T05:22:56.396Z"
   },
   {
    "duration": 54,
    "start_time": "2023-05-06T05:22:57.820Z"
   },
   {
    "duration": 18,
    "start_time": "2023-05-06T05:22:57.875Z"
   },
   {
    "duration": 41,
    "start_time": "2023-05-06T05:22:57.894Z"
   },
   {
    "duration": 16,
    "start_time": "2023-05-06T05:22:57.939Z"
   },
   {
    "duration": 7,
    "start_time": "2023-05-06T05:22:57.956Z"
   },
   {
    "duration": 8,
    "start_time": "2023-05-06T05:22:57.965Z"
   },
   {
    "duration": 6,
    "start_time": "2023-05-06T05:22:57.975Z"
   },
   {
    "duration": 12,
    "start_time": "2023-05-06T05:22:57.983Z"
   },
   {
    "duration": 126,
    "start_time": "2023-05-06T05:22:57.997Z"
   },
   {
    "duration": 3,
    "start_time": "2023-05-06T05:22:58.124Z"
   },
   {
    "duration": 7,
    "start_time": "2023-05-06T05:22:58.142Z"
   },
   {
    "duration": 4,
    "start_time": "2023-05-06T05:22:58.151Z"
   },
   {
    "duration": 11,
    "start_time": "2023-05-06T05:22:58.159Z"
   },
   {
    "duration": 6,
    "start_time": "2023-05-06T05:22:58.171Z"
   },
   {
    "duration": 12,
    "start_time": "2023-05-06T05:22:58.179Z"
   },
   {
    "duration": 9,
    "start_time": "2023-05-06T05:22:58.193Z"
   },
   {
    "duration": 2,
    "start_time": "2023-05-06T05:22:58.204Z"
   },
   {
    "duration": 47,
    "start_time": "2023-05-06T05:22:58.208Z"
   },
   {
    "duration": 4,
    "start_time": "2023-05-06T05:22:58.257Z"
   },
   {
    "duration": 27,
    "start_time": "2023-05-06T05:22:58.263Z"
   },
   {
    "duration": 781,
    "start_time": "2023-05-06T05:22:58.291Z"
   },
   {
    "duration": 28191,
    "start_time": "2023-05-06T05:22:59.074Z"
   },
   {
    "duration": 7524,
    "start_time": "2023-05-06T05:23:27.267Z"
   },
   {
    "duration": 47,
    "start_time": "2023-05-06T05:23:34.793Z"
   },
   {
    "duration": 110,
    "start_time": "2023-05-06T05:23:34.845Z"
   },
   {
    "duration": 199,
    "start_time": "2023-05-06T05:23:34.957Z"
   },
   {
    "duration": 394,
    "start_time": "2023-05-06T05:23:35.157Z"
   },
   {
    "duration": 596,
    "start_time": "2023-05-06T05:23:35.553Z"
   },
   {
    "duration": 89,
    "start_time": "2023-05-06T05:23:36.151Z"
   },
   {
    "duration": 440,
    "start_time": "2023-05-06T05:23:36.246Z"
   },
   {
    "duration": 364,
    "start_time": "2023-05-06T05:23:36.687Z"
   },
   {
    "duration": 86,
    "start_time": "2023-05-06T05:23:37.055Z"
   },
   {
    "duration": 120,
    "start_time": "2023-05-06T05:23:37.143Z"
   },
   {
    "duration": 285,
    "start_time": "2023-05-06T05:23:37.265Z"
   },
   {
    "duration": 96,
    "start_time": "2023-05-06T05:23:37.551Z"
   },
   {
    "duration": 494,
    "start_time": "2023-05-06T05:23:37.649Z"
   },
   {
    "duration": 581,
    "start_time": "2023-05-06T05:23:38.144Z"
   },
   {
    "duration": 19,
    "start_time": "2023-05-06T05:23:38.734Z"
   },
   {
    "duration": 19,
    "start_time": "2023-05-06T05:23:38.755Z"
   },
   {
    "duration": 6637,
    "start_time": "2023-05-06T05:23:38.777Z"
   },
   {
    "duration": 1394,
    "start_time": "2023-05-06T05:23:54.808Z"
   },
   {
    "duration": 54,
    "start_time": "2023-05-06T05:23:56.204Z"
   },
   {
    "duration": 17,
    "start_time": "2023-05-06T05:23:56.259Z"
   },
   {
    "duration": 46,
    "start_time": "2023-05-06T05:23:56.277Z"
   },
   {
    "duration": 13,
    "start_time": "2023-05-06T05:23:56.335Z"
   },
   {
    "duration": 16,
    "start_time": "2023-05-06T05:23:56.351Z"
   },
   {
    "duration": 11,
    "start_time": "2023-05-06T05:23:56.368Z"
   },
   {
    "duration": 14,
    "start_time": "2023-05-06T05:23:56.382Z"
   },
   {
    "duration": 13,
    "start_time": "2023-05-06T05:23:56.397Z"
   },
   {
    "duration": 110,
    "start_time": "2023-05-06T05:23:56.411Z"
   },
   {
    "duration": 2,
    "start_time": "2023-05-06T05:23:56.522Z"
   },
   {
    "duration": 28,
    "start_time": "2023-05-06T05:23:56.526Z"
   },
   {
    "duration": 13,
    "start_time": "2023-05-06T05:23:56.555Z"
   },
   {
    "duration": 13,
    "start_time": "2023-05-06T05:23:56.571Z"
   },
   {
    "duration": 13,
    "start_time": "2023-05-06T05:23:56.586Z"
   },
   {
    "duration": 10,
    "start_time": "2023-05-06T05:23:56.600Z"
   },
   {
    "duration": 7,
    "start_time": "2023-05-06T05:23:56.611Z"
   },
   {
    "duration": 3,
    "start_time": "2023-05-06T05:23:56.619Z"
   },
   {
    "duration": 32,
    "start_time": "2023-05-06T05:23:56.623Z"
   },
   {
    "duration": 3,
    "start_time": "2023-05-06T05:23:56.657Z"
   },
   {
    "duration": 18,
    "start_time": "2023-05-06T05:23:56.662Z"
   },
   {
    "duration": 689,
    "start_time": "2023-05-06T05:23:56.681Z"
   },
   {
    "duration": 28746,
    "start_time": "2023-05-06T05:23:57.371Z"
   },
   {
    "duration": 7876,
    "start_time": "2023-05-06T05:24:26.119Z"
   },
   {
    "duration": 47,
    "start_time": "2023-05-06T05:24:33.997Z"
   },
   {
    "duration": 118,
    "start_time": "2023-05-06T05:24:34.046Z"
   },
   {
    "duration": 217,
    "start_time": "2023-05-06T05:24:34.166Z"
   },
   {
    "duration": 400,
    "start_time": "2023-05-06T05:24:34.385Z"
   },
   {
    "duration": 624,
    "start_time": "2023-05-06T05:24:34.787Z"
   },
   {
    "duration": 126,
    "start_time": "2023-05-06T05:24:35.413Z"
   },
   {
    "duration": 427,
    "start_time": "2023-05-06T05:24:35.540Z"
   },
   {
    "duration": 567,
    "start_time": "2023-05-06T05:24:35.968Z"
   },
   {
    "duration": 6,
    "start_time": "2023-05-06T05:24:36.537Z"
   },
   {
    "duration": 23,
    "start_time": "2023-05-06T05:24:36.544Z"
   },
   {
    "duration": 276,
    "start_time": "2023-05-06T05:24:36.569Z"
   },
   {
    "duration": 92,
    "start_time": "2023-05-06T05:24:36.849Z"
   },
   {
    "duration": 696,
    "start_time": "2023-05-06T05:24:36.943Z"
   },
   {
    "duration": 610,
    "start_time": "2023-05-06T05:24:37.642Z"
   },
   {
    "duration": 11,
    "start_time": "2023-05-06T05:24:38.254Z"
   },
   {
    "duration": 19,
    "start_time": "2023-05-06T05:24:38.266Z"
   },
   {
    "duration": 6713,
    "start_time": "2023-05-06T05:24:38.288Z"
   },
   {
    "duration": 6336,
    "start_time": "2023-05-06T05:24:45.003Z"
   },
   {
    "duration": 380,
    "start_time": "2023-05-06T05:24:51.346Z"
   },
   {
    "duration": 464,
    "start_time": "2023-05-06T05:24:51.728Z"
   },
   {
    "duration": 4,
    "start_time": "2023-05-06T05:25:33.197Z"
   },
   {
    "duration": 43,
    "start_time": "2023-05-06T05:25:33.948Z"
   },
   {
    "duration": 12,
    "start_time": "2023-05-06T05:25:35.115Z"
   },
   {
    "duration": 44,
    "start_time": "2023-05-06T05:25:36.052Z"
   },
   {
    "duration": 9,
    "start_time": "2023-05-06T05:25:38.606Z"
   },
   {
    "duration": 4,
    "start_time": "2023-05-06T05:25:40.846Z"
   },
   {
    "duration": 3,
    "start_time": "2023-05-06T05:25:58.944Z"
   },
   {
    "duration": 4,
    "start_time": "2023-05-06T05:26:01.464Z"
   },
   {
    "duration": 2,
    "start_time": "2023-05-06T05:26:02.011Z"
   },
   {
    "duration": 12,
    "start_time": "2023-05-06T05:26:03.130Z"
   },
   {
    "duration": 93,
    "start_time": "2023-05-06T05:26:07.790Z"
   },
   {
    "duration": 5,
    "start_time": "2023-05-06T05:26:48.651Z"
   },
   {
    "duration": 288,
    "start_time": "2023-05-06T05:26:49.090Z"
   },
   {
    "duration": 7,
    "start_time": "2023-05-06T05:26:51.942Z"
   },
   {
    "duration": 4,
    "start_time": "2023-05-06T05:27:25.667Z"
   },
   {
    "duration": 318,
    "start_time": "2023-05-06T05:27:26.199Z"
   },
   {
    "duration": 115,
    "start_time": "2023-05-06T05:27:42.291Z"
   },
   {
    "duration": 12,
    "start_time": "2023-05-06T05:27:45.707Z"
   },
   {
    "duration": 1371,
    "start_time": "2023-05-06T05:27:53.433Z"
   },
   {
    "duration": 53,
    "start_time": "2023-05-06T05:27:54.806Z"
   },
   {
    "duration": 16,
    "start_time": "2023-05-06T05:27:54.861Z"
   },
   {
    "duration": 63,
    "start_time": "2023-05-06T05:27:54.878Z"
   },
   {
    "duration": 13,
    "start_time": "2023-05-06T05:27:54.943Z"
   },
   {
    "duration": 15,
    "start_time": "2023-05-06T05:27:54.957Z"
   },
   {
    "duration": 15,
    "start_time": "2023-05-06T05:27:54.974Z"
   },
   {
    "duration": 6,
    "start_time": "2023-05-06T05:27:54.990Z"
   },
   {
    "duration": 18,
    "start_time": "2023-05-06T05:27:54.997Z"
   },
   {
    "duration": 105,
    "start_time": "2023-05-06T05:27:55.016Z"
   },
   {
    "duration": 23,
    "start_time": "2023-05-06T05:27:55.123Z"
   },
   {
    "duration": 344,
    "start_time": "2023-05-06T05:27:55.148Z"
   },
   {
    "duration": 2,
    "start_time": "2023-05-06T05:27:55.494Z"
   },
   {
    "duration": 18,
    "start_time": "2023-05-06T05:27:55.499Z"
   },
   {
    "duration": 16,
    "start_time": "2023-05-06T05:27:55.519Z"
   },
   {
    "duration": 27,
    "start_time": "2023-05-06T05:27:55.537Z"
   },
   {
    "duration": 14,
    "start_time": "2023-05-06T05:27:55.566Z"
   },
   {
    "duration": 13,
    "start_time": "2023-05-06T05:27:55.581Z"
   },
   {
    "duration": 46,
    "start_time": "2023-05-06T05:27:55.596Z"
   },
   {
    "duration": 4,
    "start_time": "2023-05-06T05:27:55.646Z"
   },
   {
    "duration": 22,
    "start_time": "2023-05-06T05:27:55.652Z"
   },
   {
    "duration": 820,
    "start_time": "2023-05-06T05:27:55.676Z"
   },
   {
    "duration": 29021,
    "start_time": "2023-05-06T05:27:56.497Z"
   },
   {
    "duration": 7741,
    "start_time": "2023-05-06T05:28:25.520Z"
   },
   {
    "duration": 79,
    "start_time": "2023-05-06T05:28:33.263Z"
   },
   {
    "duration": 107,
    "start_time": "2023-05-06T05:28:33.346Z"
   },
   {
    "duration": 199,
    "start_time": "2023-05-06T05:28:33.454Z"
   },
   {
    "duration": 356,
    "start_time": "2023-05-06T05:28:33.654Z"
   },
   {
    "duration": 535,
    "start_time": "2023-05-06T05:28:34.012Z"
   },
   {
    "duration": 86,
    "start_time": "2023-05-06T05:28:34.549Z"
   },
   {
    "duration": 442,
    "start_time": "2023-05-06T05:28:34.637Z"
   },
   {
    "duration": 464,
    "start_time": "2023-05-06T05:28:35.081Z"
   },
   {
    "duration": 6,
    "start_time": "2023-05-06T05:28:35.547Z"
   },
   {
    "duration": 92,
    "start_time": "2023-05-06T05:28:35.555Z"
   },
   {
    "duration": 293,
    "start_time": "2023-05-06T05:28:35.649Z"
   },
   {
    "duration": 100,
    "start_time": "2023-05-06T05:28:35.944Z"
   },
   {
    "duration": 508,
    "start_time": "2023-05-06T05:28:36.047Z"
   },
   {
    "duration": 568,
    "start_time": "2023-05-06T05:28:36.636Z"
   },
   {
    "duration": 10,
    "start_time": "2023-05-06T05:28:37.206Z"
   },
   {
    "duration": 36,
    "start_time": "2023-05-06T05:28:37.219Z"
   },
   {
    "duration": 6625,
    "start_time": "2023-05-06T05:28:37.259Z"
   },
   {
    "duration": 5997,
    "start_time": "2023-05-06T05:28:43.886Z"
   },
   {
    "duration": 371,
    "start_time": "2023-05-06T05:28:49.885Z"
   },
   {
    "duration": 406,
    "start_time": "2023-05-06T05:28:50.258Z"
   },
   {
    "duration": 40,
    "start_time": "2023-05-06T05:28:50.666Z"
   },
   {
    "duration": 118,
    "start_time": "2023-05-06T05:31:14.049Z"
   },
   {
    "duration": 25,
    "start_time": "2023-05-06T05:31:34.048Z"
   },
   {
    "duration": 44,
    "start_time": "2023-05-06T05:31:57.748Z"
   },
   {
    "duration": 3,
    "start_time": "2023-05-06T05:35:05.288Z"
   },
   {
    "duration": 7,
    "start_time": "2023-05-06T05:42:00.285Z"
   },
   {
    "duration": 22,
    "start_time": "2023-05-06T05:43:26.031Z"
   },
   {
    "duration": 3,
    "start_time": "2023-05-06T05:46:48.888Z"
   },
   {
    "duration": 4,
    "start_time": "2023-05-06T05:47:20.757Z"
   },
   {
    "duration": 15,
    "start_time": "2023-05-06T05:49:12.506Z"
   },
   {
    "duration": 2,
    "start_time": "2023-05-06T05:49:12.926Z"
   },
   {
    "duration": 11,
    "start_time": "2023-05-06T05:49:33.706Z"
   },
   {
    "duration": 10,
    "start_time": "2023-05-06T05:50:55.097Z"
   },
   {
    "duration": 10,
    "start_time": "2023-05-06T05:51:16.440Z"
   },
   {
    "duration": 5,
    "start_time": "2023-05-06T05:51:40.936Z"
   },
   {
    "duration": 46,
    "start_time": "2023-05-06T05:51:41.632Z"
   },
   {
    "duration": 12,
    "start_time": "2023-05-06T05:51:42.499Z"
   },
   {
    "duration": 47,
    "start_time": "2023-05-06T05:51:46.108Z"
   },
   {
    "duration": 10,
    "start_time": "2023-05-06T05:51:52.422Z"
   },
   {
    "duration": 3,
    "start_time": "2023-05-06T05:52:00.339Z"
   },
   {
    "duration": 3,
    "start_time": "2023-05-06T05:52:05.911Z"
   },
   {
    "duration": 12,
    "start_time": "2023-05-06T05:52:06.632Z"
   },
   {
    "duration": 12,
    "start_time": "2023-05-06T05:52:47.143Z"
   },
   {
    "duration": 4,
    "start_time": "2023-05-06T05:52:53.432Z"
   },
   {
    "duration": 12,
    "start_time": "2023-05-06T05:52:55.793Z"
   },
   {
    "duration": 13,
    "start_time": "2023-05-06T05:52:59.264Z"
   },
   {
    "duration": 14,
    "start_time": "2023-05-06T05:53:39.712Z"
   },
   {
    "duration": 12,
    "start_time": "2023-05-06T05:54:13.134Z"
   },
   {
    "duration": 13,
    "start_time": "2023-05-06T05:54:22.151Z"
   },
   {
    "duration": 28,
    "start_time": "2023-05-06T05:55:07.894Z"
   },
   {
    "duration": 10,
    "start_time": "2023-05-06T05:55:08.772Z"
   },
   {
    "duration": 3,
    "start_time": "2023-05-06T05:55:14.239Z"
   },
   {
    "duration": 14,
    "start_time": "2023-05-06T05:55:15.528Z"
   },
   {
    "duration": 5,
    "start_time": "2023-05-06T05:55:36.331Z"
   },
   {
    "duration": 46,
    "start_time": "2023-05-06T05:55:36.993Z"
   },
   {
    "duration": 13,
    "start_time": "2023-05-06T05:55:41.830Z"
   },
   {
    "duration": 45,
    "start_time": "2023-05-06T05:55:42.890Z"
   },
   {
    "duration": 19,
    "start_time": "2023-05-06T05:55:50.947Z"
   },
   {
    "duration": 3,
    "start_time": "2023-05-06T05:55:53.732Z"
   },
   {
    "duration": 4,
    "start_time": "2023-05-06T05:55:55.697Z"
   },
   {
    "duration": 13,
    "start_time": "2023-05-06T05:55:56.818Z"
   },
   {
    "duration": 3,
    "start_time": "2023-05-06T05:55:58.460Z"
   },
   {
    "duration": 13,
    "start_time": "2023-05-06T05:56:01.468Z"
   },
   {
    "duration": 97,
    "start_time": "2023-05-06T05:56:03.756Z"
   },
   {
    "duration": 5,
    "start_time": "2023-05-06T05:56:06.948Z"
   },
   {
    "duration": 271,
    "start_time": "2023-05-06T05:56:07.631Z"
   },
   {
    "duration": 3,
    "start_time": "2023-05-06T05:56:08.082Z"
   },
   {
    "duration": 4,
    "start_time": "2023-05-06T05:57:02.353Z"
   },
   {
    "duration": 2,
    "start_time": "2023-05-06T05:57:04.418Z"
   },
   {
    "duration": 1307,
    "start_time": "2023-05-06T05:57:12.540Z"
   },
   {
    "duration": 47,
    "start_time": "2023-05-06T05:57:13.849Z"
   },
   {
    "duration": 16,
    "start_time": "2023-05-06T05:57:13.898Z"
   },
   {
    "duration": 47,
    "start_time": "2023-05-06T05:57:13.916Z"
   },
   {
    "duration": 11,
    "start_time": "2023-05-06T05:57:13.969Z"
   },
   {
    "duration": 2,
    "start_time": "2023-05-06T05:57:13.982Z"
   },
   {
    "duration": 14,
    "start_time": "2023-05-06T05:57:13.986Z"
   },
   {
    "duration": 17,
    "start_time": "2023-05-06T05:57:14.001Z"
   },
   {
    "duration": 15,
    "start_time": "2023-05-06T05:57:14.020Z"
   },
   {
    "duration": 6,
    "start_time": "2023-05-06T05:57:14.036Z"
   },
   {
    "duration": 13,
    "start_time": "2023-05-06T05:57:14.043Z"
   },
   {
    "duration": 104,
    "start_time": "2023-05-06T05:57:14.057Z"
   },
   {
    "duration": 4,
    "start_time": "2023-05-06T05:57:14.162Z"
   },
   {
    "duration": 285,
    "start_time": "2023-05-06T05:57:14.169Z"
   },
   {
    "duration": 2,
    "start_time": "2023-05-06T05:57:14.456Z"
   },
   {
    "duration": 10,
    "start_time": "2023-05-06T05:57:14.459Z"
   },
   {
    "duration": 12,
    "start_time": "2023-05-06T05:57:14.471Z"
   },
   {
    "duration": 10,
    "start_time": "2023-05-06T05:57:14.484Z"
   },
   {
    "duration": 7,
    "start_time": "2023-05-06T05:57:14.496Z"
   },
   {
    "duration": 2,
    "start_time": "2023-05-06T05:57:14.504Z"
   },
   {
    "duration": 136,
    "start_time": "2023-05-06T05:57:14.507Z"
   },
   {
    "duration": 0,
    "start_time": "2023-05-06T05:57:14.645Z"
   },
   {
    "duration": 0,
    "start_time": "2023-05-06T05:57:14.647Z"
   },
   {
    "duration": 0,
    "start_time": "2023-05-06T05:57:14.648Z"
   },
   {
    "duration": 0,
    "start_time": "2023-05-06T05:57:14.649Z"
   },
   {
    "duration": 0,
    "start_time": "2023-05-06T05:57:14.650Z"
   },
   {
    "duration": 0,
    "start_time": "2023-05-06T05:57:14.651Z"
   },
   {
    "duration": 0,
    "start_time": "2023-05-06T05:57:14.653Z"
   },
   {
    "duration": 0,
    "start_time": "2023-05-06T05:57:14.654Z"
   },
   {
    "duration": 0,
    "start_time": "2023-05-06T05:57:14.656Z"
   },
   {
    "duration": 0,
    "start_time": "2023-05-06T05:57:14.657Z"
   },
   {
    "duration": 0,
    "start_time": "2023-05-06T05:57:14.658Z"
   },
   {
    "duration": 0,
    "start_time": "2023-05-06T05:57:14.659Z"
   },
   {
    "duration": 0,
    "start_time": "2023-05-06T05:57:14.660Z"
   },
   {
    "duration": 0,
    "start_time": "2023-05-06T05:57:14.661Z"
   },
   {
    "duration": 0,
    "start_time": "2023-05-06T05:57:14.661Z"
   },
   {
    "duration": 0,
    "start_time": "2023-05-06T05:57:14.662Z"
   },
   {
    "duration": 0,
    "start_time": "2023-05-06T05:57:14.664Z"
   },
   {
    "duration": 0,
    "start_time": "2023-05-06T05:57:14.666Z"
   },
   {
    "duration": 0,
    "start_time": "2023-05-06T05:57:14.667Z"
   },
   {
    "duration": 0,
    "start_time": "2023-05-06T05:57:14.668Z"
   },
   {
    "duration": 0,
    "start_time": "2023-05-06T05:57:14.670Z"
   },
   {
    "duration": 0,
    "start_time": "2023-05-06T05:57:14.671Z"
   },
   {
    "duration": 0,
    "start_time": "2023-05-06T05:57:14.672Z"
   },
   {
    "duration": 0,
    "start_time": "2023-05-06T05:57:14.674Z"
   },
   {
    "duration": 0,
    "start_time": "2023-05-06T05:57:14.675Z"
   },
   {
    "duration": 0,
    "start_time": "2023-05-06T05:57:14.676Z"
   },
   {
    "duration": 42,
    "start_time": "2023-05-06T05:57:32.460Z"
   },
   {
    "duration": 36,
    "start_time": "2023-05-06T05:57:54.631Z"
   },
   {
    "duration": 10,
    "start_time": "2023-05-06T05:57:59.047Z"
   },
   {
    "duration": 1506,
    "start_time": "2023-05-06T05:58:13.049Z"
   },
   {
    "duration": 62,
    "start_time": "2023-05-06T05:58:14.558Z"
   },
   {
    "duration": 38,
    "start_time": "2023-05-06T05:58:14.622Z"
   },
   {
    "duration": 75,
    "start_time": "2023-05-06T05:58:14.663Z"
   },
   {
    "duration": 19,
    "start_time": "2023-05-06T05:58:14.742Z"
   },
   {
    "duration": 15,
    "start_time": "2023-05-06T05:58:14.765Z"
   },
   {
    "duration": 28,
    "start_time": "2023-05-06T05:58:14.782Z"
   },
   {
    "duration": 28,
    "start_time": "2023-05-06T05:58:14.813Z"
   },
   {
    "duration": 30,
    "start_time": "2023-05-06T05:58:14.843Z"
   },
   {
    "duration": 18,
    "start_time": "2023-05-06T05:58:14.874Z"
   },
   {
    "duration": 25,
    "start_time": "2023-05-06T05:58:14.893Z"
   },
   {
    "duration": 136,
    "start_time": "2023-05-06T05:58:14.922Z"
   },
   {
    "duration": 5,
    "start_time": "2023-05-06T05:58:15.061Z"
   },
   {
    "duration": 397,
    "start_time": "2023-05-06T05:58:15.069Z"
   },
   {
    "duration": 3,
    "start_time": "2023-05-06T05:58:15.468Z"
   },
   {
    "duration": 15,
    "start_time": "2023-05-06T05:58:15.473Z"
   },
   {
    "duration": 9,
    "start_time": "2023-05-06T05:58:15.489Z"
   },
   {
    "duration": 17,
    "start_time": "2023-05-06T05:58:15.500Z"
   },
   {
    "duration": 15,
    "start_time": "2023-05-06T05:58:15.519Z"
   },
   {
    "duration": 4,
    "start_time": "2023-05-06T05:58:15.536Z"
   },
   {
    "duration": 44,
    "start_time": "2023-05-06T05:58:15.541Z"
   },
   {
    "duration": 10,
    "start_time": "2023-05-06T05:58:15.587Z"
   },
   {
    "duration": 8,
    "start_time": "2023-05-06T05:58:15.598Z"
   },
   {
    "duration": 32,
    "start_time": "2023-05-06T05:58:15.608Z"
   },
   {
    "duration": 148,
    "start_time": "2023-05-06T05:58:15.643Z"
   },
   {
    "duration": 0,
    "start_time": "2023-05-06T05:58:15.793Z"
   },
   {
    "duration": 0,
    "start_time": "2023-05-06T05:58:15.794Z"
   },
   {
    "duration": 0,
    "start_time": "2023-05-06T05:58:15.795Z"
   },
   {
    "duration": 0,
    "start_time": "2023-05-06T05:58:15.797Z"
   },
   {
    "duration": 1,
    "start_time": "2023-05-06T05:58:15.798Z"
   },
   {
    "duration": 0,
    "start_time": "2023-05-06T05:58:15.800Z"
   },
   {
    "duration": 0,
    "start_time": "2023-05-06T05:58:15.802Z"
   },
   {
    "duration": 0,
    "start_time": "2023-05-06T05:58:15.804Z"
   },
   {
    "duration": 0,
    "start_time": "2023-05-06T05:58:15.805Z"
   },
   {
    "duration": 0,
    "start_time": "2023-05-06T05:58:15.835Z"
   },
   {
    "duration": 0,
    "start_time": "2023-05-06T05:58:15.836Z"
   },
   {
    "duration": 0,
    "start_time": "2023-05-06T05:58:15.838Z"
   },
   {
    "duration": 0,
    "start_time": "2023-05-06T05:58:15.839Z"
   },
   {
    "duration": 0,
    "start_time": "2023-05-06T05:58:15.840Z"
   },
   {
    "duration": 0,
    "start_time": "2023-05-06T05:58:15.842Z"
   },
   {
    "duration": 0,
    "start_time": "2023-05-06T05:58:15.844Z"
   },
   {
    "duration": 0,
    "start_time": "2023-05-06T05:58:15.846Z"
   },
   {
    "duration": 0,
    "start_time": "2023-05-06T05:58:15.847Z"
   },
   {
    "duration": 0,
    "start_time": "2023-05-06T05:58:15.848Z"
   },
   {
    "duration": 0,
    "start_time": "2023-05-06T05:58:15.849Z"
   },
   {
    "duration": 0,
    "start_time": "2023-05-06T05:58:15.850Z"
   },
   {
    "duration": 0,
    "start_time": "2023-05-06T05:58:15.852Z"
   },
   {
    "duration": 5,
    "start_time": "2023-05-06T05:58:24.919Z"
   },
   {
    "duration": 49,
    "start_time": "2023-05-06T05:58:25.750Z"
   },
   {
    "duration": 13,
    "start_time": "2023-05-06T05:58:26.560Z"
   },
   {
    "duration": 52,
    "start_time": "2023-05-06T05:58:27.060Z"
   },
   {
    "duration": 10,
    "start_time": "2023-05-06T05:58:29.083Z"
   },
   {
    "duration": 2,
    "start_time": "2023-05-06T05:58:32.958Z"
   },
   {
    "duration": 3,
    "start_time": "2023-05-06T05:58:34.852Z"
   },
   {
    "duration": 11,
    "start_time": "2023-05-06T05:58:35.524Z"
   },
   {
    "duration": 5,
    "start_time": "2023-05-06T05:58:36.347Z"
   },
   {
    "duration": 2,
    "start_time": "2023-05-06T05:58:37.575Z"
   },
   {
    "duration": 12,
    "start_time": "2023-05-06T06:00:00.709Z"
   },
   {
    "duration": 94,
    "start_time": "2023-05-06T06:00:02.895Z"
   },
   {
    "duration": 6,
    "start_time": "2023-05-06T06:00:11.017Z"
   },
   {
    "duration": 343,
    "start_time": "2023-05-06T06:00:11.634Z"
   },
   {
    "duration": 3,
    "start_time": "2023-05-06T06:00:12.757Z"
   },
   {
    "duration": 2,
    "start_time": "2023-05-06T06:00:13.842Z"
   },
   {
    "duration": 6495,
    "start_time": "2023-05-06T06:02:48.691Z"
   },
   {
    "duration": 53,
    "start_time": "2023-05-06T06:02:55.188Z"
   },
   {
    "duration": 6,
    "start_time": "2023-05-06T06:03:01.291Z"
   },
   {
    "duration": 2008,
    "start_time": "2023-05-06T06:03:12.149Z"
   },
   {
    "duration": 2143,
    "start_time": "2023-05-06T06:03:44.225Z"
   },
   {
    "duration": 49,
    "start_time": "2023-05-06T06:03:46.371Z"
   },
   {
    "duration": 13,
    "start_time": "2023-05-06T06:03:46.421Z"
   },
   {
    "duration": 58,
    "start_time": "2023-05-06T06:03:46.443Z"
   },
   {
    "duration": 34,
    "start_time": "2023-05-06T06:51:35.361Z"
   },
   {
    "duration": 1490,
    "start_time": "2023-05-06T06:52:58.014Z"
   },
   {
    "duration": 2666,
    "start_time": "2023-05-06T06:52:59.506Z"
   },
   {
    "duration": 68,
    "start_time": "2023-05-06T06:53:02.175Z"
   },
   {
    "duration": 22,
    "start_time": "2023-05-06T06:53:02.244Z"
   },
   {
    "duration": 133,
    "start_time": "2023-05-06T06:53:02.271Z"
   },
   {
    "duration": 15,
    "start_time": "2023-05-06T06:53:02.405Z"
   },
   {
    "duration": 17,
    "start_time": "2023-05-06T06:53:02.421Z"
   },
   {
    "duration": 38,
    "start_time": "2023-05-06T06:53:02.439Z"
   },
   {
    "duration": 19,
    "start_time": "2023-05-06T06:53:02.479Z"
   },
   {
    "duration": 4,
    "start_time": "2023-05-06T06:53:02.500Z"
   },
   {
    "duration": 16,
    "start_time": "2023-05-06T06:53:02.506Z"
   },
   {
    "duration": 62,
    "start_time": "2023-05-06T06:53:02.523Z"
   },
   {
    "duration": 124,
    "start_time": "2023-05-06T06:53:02.587Z"
   },
   {
    "duration": 29,
    "start_time": "2023-05-06T06:53:02.715Z"
   },
   {
    "duration": 450,
    "start_time": "2023-05-06T06:53:02.747Z"
   },
   {
    "duration": 3,
    "start_time": "2023-05-06T06:53:03.199Z"
   },
   {
    "duration": 10,
    "start_time": "2023-05-06T06:53:03.203Z"
   },
   {
    "duration": 10,
    "start_time": "2023-05-06T06:53:03.214Z"
   },
   {
    "duration": 39,
    "start_time": "2023-05-06T06:53:03.226Z"
   },
   {
    "duration": 25,
    "start_time": "2023-05-06T06:53:03.267Z"
   },
   {
    "duration": 12,
    "start_time": "2023-05-06T06:53:03.293Z"
   },
   {
    "duration": 48,
    "start_time": "2023-05-06T06:53:03.308Z"
   },
   {
    "duration": 24,
    "start_time": "2023-05-06T06:53:03.357Z"
   },
   {
    "duration": 7,
    "start_time": "2023-05-06T06:53:03.383Z"
   },
   {
    "duration": 27,
    "start_time": "2023-05-06T06:53:03.392Z"
   },
   {
    "duration": 214,
    "start_time": "2023-05-06T06:53:03.422Z"
   },
   {
    "duration": 0,
    "start_time": "2023-05-06T06:53:03.639Z"
   },
   {
    "duration": 0,
    "start_time": "2023-05-06T06:53:03.640Z"
   },
   {
    "duration": 0,
    "start_time": "2023-05-06T06:53:03.642Z"
   },
   {
    "duration": 0,
    "start_time": "2023-05-06T06:53:03.643Z"
   },
   {
    "duration": 0,
    "start_time": "2023-05-06T06:53:03.644Z"
   },
   {
    "duration": 0,
    "start_time": "2023-05-06T06:53:03.644Z"
   },
   {
    "duration": 0,
    "start_time": "2023-05-06T06:53:03.645Z"
   },
   {
    "duration": 0,
    "start_time": "2023-05-06T06:53:03.647Z"
   },
   {
    "duration": 0,
    "start_time": "2023-05-06T06:53:03.648Z"
   },
   {
    "duration": 0,
    "start_time": "2023-05-06T06:53:03.649Z"
   },
   {
    "duration": 0,
    "start_time": "2023-05-06T06:53:03.650Z"
   },
   {
    "duration": 0,
    "start_time": "2023-05-06T06:53:03.652Z"
   },
   {
    "duration": 0,
    "start_time": "2023-05-06T06:53:03.653Z"
   },
   {
    "duration": 0,
    "start_time": "2023-05-06T06:53:03.654Z"
   },
   {
    "duration": 0,
    "start_time": "2023-05-06T06:53:03.655Z"
   },
   {
    "duration": 0,
    "start_time": "2023-05-06T06:53:03.656Z"
   },
   {
    "duration": 1,
    "start_time": "2023-05-06T06:53:03.656Z"
   },
   {
    "duration": 0,
    "start_time": "2023-05-06T06:53:03.657Z"
   },
   {
    "duration": 0,
    "start_time": "2023-05-06T06:53:03.658Z"
   },
   {
    "duration": 0,
    "start_time": "2023-05-06T06:53:03.659Z"
   },
   {
    "duration": 0,
    "start_time": "2023-05-06T06:53:03.661Z"
   },
   {
    "duration": 1,
    "start_time": "2023-05-06T06:53:03.661Z"
   },
   {
    "duration": 21,
    "start_time": "2023-05-06T06:57:45.495Z"
   },
   {
    "duration": 43,
    "start_time": "2023-05-06T06:57:56.051Z"
   },
   {
    "duration": 1268,
    "start_time": "2023-05-06T07:00:09.708Z"
   },
   {
    "duration": 2294,
    "start_time": "2023-05-06T07:00:10.979Z"
   },
   {
    "duration": 57,
    "start_time": "2023-05-06T07:00:13.276Z"
   },
   {
    "duration": 29,
    "start_time": "2023-05-06T07:00:13.334Z"
   },
   {
    "duration": 64,
    "start_time": "2023-05-06T07:00:13.366Z"
   },
   {
    "duration": 28,
    "start_time": "2023-05-06T07:00:13.432Z"
   },
   {
    "duration": 9,
    "start_time": "2023-05-06T07:00:13.462Z"
   },
   {
    "duration": 11,
    "start_time": "2023-05-06T07:00:13.473Z"
   },
   {
    "duration": 24,
    "start_time": "2023-05-06T07:00:13.485Z"
   },
   {
    "duration": 4,
    "start_time": "2023-05-06T07:00:13.511Z"
   },
   {
    "duration": 11,
    "start_time": "2023-05-06T07:00:13.517Z"
   },
   {
    "duration": 38,
    "start_time": "2023-05-06T07:00:13.530Z"
   },
   {
    "duration": 109,
    "start_time": "2023-05-06T07:00:13.570Z"
   },
   {
    "duration": 5,
    "start_time": "2023-05-06T07:00:13.683Z"
   },
   {
    "duration": 328,
    "start_time": "2023-05-06T07:00:13.690Z"
   },
   {
    "duration": 2,
    "start_time": "2023-05-06T07:00:14.020Z"
   },
   {
    "duration": 22,
    "start_time": "2023-05-06T07:00:14.024Z"
   },
   {
    "duration": 15,
    "start_time": "2023-05-06T07:00:14.051Z"
   },
   {
    "duration": 17,
    "start_time": "2023-05-06T07:00:14.068Z"
   },
   {
    "duration": 9,
    "start_time": "2023-05-06T07:00:14.087Z"
   },
   {
    "duration": 2,
    "start_time": "2023-05-06T07:00:14.098Z"
   },
   {
    "duration": 43,
    "start_time": "2023-05-06T07:00:14.102Z"
   },
   {
    "duration": 3,
    "start_time": "2023-05-06T07:00:14.149Z"
   },
   {
    "duration": 9,
    "start_time": "2023-05-06T07:00:14.155Z"
   },
   {
    "duration": 47,
    "start_time": "2023-05-06T07:00:14.166Z"
   },
   {
    "duration": 856,
    "start_time": "2023-05-06T07:00:14.216Z"
   },
   {
    "duration": 32085,
    "start_time": "2023-05-06T07:00:15.074Z"
   },
   {
    "duration": 8184,
    "start_time": "2023-05-06T07:00:47.163Z"
   },
   {
    "duration": 37,
    "start_time": "2023-05-06T07:00:55.355Z"
   },
   {
    "duration": 170,
    "start_time": "2023-05-06T07:00:55.394Z"
   },
   {
    "duration": 259,
    "start_time": "2023-05-06T07:00:55.567Z"
   },
   {
    "duration": 466,
    "start_time": "2023-05-06T07:00:55.828Z"
   },
   {
    "duration": 670,
    "start_time": "2023-05-06T07:00:56.296Z"
   },
   {
    "duration": 96,
    "start_time": "2023-05-06T07:00:56.968Z"
   },
   {
    "duration": 502,
    "start_time": "2023-05-06T07:00:57.070Z"
   },
   {
    "duration": 575,
    "start_time": "2023-05-06T07:00:57.574Z"
   },
   {
    "duration": 17,
    "start_time": "2023-05-06T07:00:58.154Z"
   },
   {
    "duration": 75,
    "start_time": "2023-05-06T07:00:58.173Z"
   },
   {
    "duration": 388,
    "start_time": "2023-05-06T07:00:58.250Z"
   },
   {
    "duration": 100,
    "start_time": "2023-05-06T07:00:58.648Z"
   },
   {
    "duration": 584,
    "start_time": "2023-05-06T07:00:58.753Z"
   },
   {
    "duration": 660,
    "start_time": "2023-05-06T07:00:59.340Z"
   },
   {
    "duration": 3,
    "start_time": "2023-05-06T07:01:00.002Z"
   },
   {
    "duration": 53,
    "start_time": "2023-05-06T07:01:00.007Z"
   },
   {
    "duration": 7702,
    "start_time": "2023-05-06T07:01:00.062Z"
   },
   {
    "duration": 6341,
    "start_time": "2023-05-06T07:01:07.766Z"
   },
   {
    "duration": 554,
    "start_time": "2023-05-06T07:01:14.109Z"
   },
   {
    "duration": 520,
    "start_time": "2023-05-06T07:01:14.665Z"
   },
   {
    "duration": 7117,
    "start_time": "2023-05-08T06:38:15.112Z"
   },
   {
    "duration": 1510,
    "start_time": "2023-05-08T06:38:42.926Z"
   },
   {
    "duration": 6,
    "start_time": "2023-05-08T06:39:13.751Z"
   },
   {
    "duration": 92,
    "start_time": "2023-05-08T06:39:14.598Z"
   },
   {
    "duration": 125,
    "start_time": "2023-05-08T06:59:26.489Z"
   },
   {
    "duration": 11,
    "start_time": "2023-05-08T06:59:55.601Z"
   },
   {
    "duration": 11,
    "start_time": "2023-05-08T07:00:14.913Z"
   },
   {
    "duration": 8,
    "start_time": "2023-05-08T07:00:58.605Z"
   },
   {
    "duration": 2293,
    "start_time": "2023-05-08T07:01:05.512Z"
   },
   {
    "duration": 1276,
    "start_time": "2023-05-08T07:01:07.807Z"
   },
   {
    "duration": 67,
    "start_time": "2023-05-08T07:01:09.086Z"
   },
   {
    "duration": 17,
    "start_time": "2023-05-08T07:01:09.155Z"
   },
   {
    "duration": 59,
    "start_time": "2023-05-08T07:01:09.174Z"
   },
   {
    "duration": 12,
    "start_time": "2023-05-08T07:01:09.236Z"
   },
   {
    "duration": 3,
    "start_time": "2023-05-08T07:01:09.250Z"
   },
   {
    "duration": 5,
    "start_time": "2023-05-08T07:01:09.255Z"
   },
   {
    "duration": 42,
    "start_time": "2023-05-08T07:01:09.262Z"
   },
   {
    "duration": 4,
    "start_time": "2023-05-08T07:01:09.307Z"
   },
   {
    "duration": 6,
    "start_time": "2023-05-08T07:01:09.313Z"
   },
   {
    "duration": 14,
    "start_time": "2023-05-08T07:01:09.320Z"
   },
   {
    "duration": 156,
    "start_time": "2023-05-08T07:01:09.335Z"
   },
   {
    "duration": 5,
    "start_time": "2023-05-08T07:01:09.493Z"
   },
   {
    "duration": 335,
    "start_time": "2023-05-08T07:01:09.500Z"
   },
   {
    "duration": 3,
    "start_time": "2023-05-08T07:01:09.837Z"
   },
   {
    "duration": 18,
    "start_time": "2023-05-08T07:01:09.842Z"
   },
   {
    "duration": 5,
    "start_time": "2023-05-08T07:01:09.862Z"
   },
   {
    "duration": 25,
    "start_time": "2023-05-08T07:01:09.868Z"
   },
   {
    "duration": 11,
    "start_time": "2023-05-08T07:01:09.902Z"
   },
   {
    "duration": 3,
    "start_time": "2023-05-08T07:01:09.915Z"
   },
   {
    "duration": 140,
    "start_time": "2023-05-08T07:01:09.920Z"
   },
   {
    "duration": 0,
    "start_time": "2023-05-08T07:01:10.062Z"
   },
   {
    "duration": 0,
    "start_time": "2023-05-08T07:01:10.065Z"
   },
   {
    "duration": 0,
    "start_time": "2023-05-08T07:01:10.066Z"
   },
   {
    "duration": 0,
    "start_time": "2023-05-08T07:01:10.086Z"
   },
   {
    "duration": 0,
    "start_time": "2023-05-08T07:01:10.087Z"
   },
   {
    "duration": 0,
    "start_time": "2023-05-08T07:01:10.089Z"
   },
   {
    "duration": 0,
    "start_time": "2023-05-08T07:01:10.090Z"
   },
   {
    "duration": 0,
    "start_time": "2023-05-08T07:01:10.091Z"
   },
   {
    "duration": 0,
    "start_time": "2023-05-08T07:01:10.092Z"
   },
   {
    "duration": 0,
    "start_time": "2023-05-08T07:01:10.093Z"
   },
   {
    "duration": 0,
    "start_time": "2023-05-08T07:01:10.094Z"
   },
   {
    "duration": 0,
    "start_time": "2023-05-08T07:01:10.098Z"
   },
   {
    "duration": 0,
    "start_time": "2023-05-08T07:01:10.101Z"
   },
   {
    "duration": 0,
    "start_time": "2023-05-08T07:01:10.102Z"
   },
   {
    "duration": 0,
    "start_time": "2023-05-08T07:01:10.104Z"
   },
   {
    "duration": 0,
    "start_time": "2023-05-08T07:01:10.105Z"
   },
   {
    "duration": 0,
    "start_time": "2023-05-08T07:01:10.109Z"
   },
   {
    "duration": 0,
    "start_time": "2023-05-08T07:01:10.110Z"
   },
   {
    "duration": 0,
    "start_time": "2023-05-08T07:01:10.111Z"
   },
   {
    "duration": 0,
    "start_time": "2023-05-08T07:01:10.112Z"
   },
   {
    "duration": 0,
    "start_time": "2023-05-08T07:01:10.114Z"
   },
   {
    "duration": 0,
    "start_time": "2023-05-08T07:01:10.115Z"
   },
   {
    "duration": 0,
    "start_time": "2023-05-08T07:01:10.117Z"
   },
   {
    "duration": 0,
    "start_time": "2023-05-08T07:01:10.118Z"
   },
   {
    "duration": 0,
    "start_time": "2023-05-08T07:01:10.120Z"
   },
   {
    "duration": 0,
    "start_time": "2023-05-08T07:01:10.125Z"
   },
   {
    "duration": 0,
    "start_time": "2023-05-08T07:01:10.127Z"
   },
   {
    "duration": 5,
    "start_time": "2023-05-08T07:04:57.107Z"
   },
   {
    "duration": 11,
    "start_time": "2023-05-08T07:04:57.972Z"
   },
   {
    "duration": 56,
    "start_time": "2023-05-08T07:28:31.511Z"
   },
   {
    "duration": 13,
    "start_time": "2023-05-08T07:28:57.440Z"
   },
   {
    "duration": 24,
    "start_time": "2023-05-08T07:29:04.005Z"
   },
   {
    "duration": 16,
    "start_time": "2023-05-08T07:29:29.306Z"
   },
   {
    "duration": 854,
    "start_time": "2023-05-08T07:29:34.451Z"
   },
   {
    "duration": 28,
    "start_time": "2023-05-08T07:29:47.575Z"
   },
   {
    "duration": 2376,
    "start_time": "2023-05-08T07:30:13.678Z"
   },
   {
    "duration": 1234,
    "start_time": "2023-05-08T07:30:16.057Z"
   },
   {
    "duration": 52,
    "start_time": "2023-05-08T07:30:17.299Z"
   },
   {
    "duration": 15,
    "start_time": "2023-05-08T07:30:17.353Z"
   },
   {
    "duration": 53,
    "start_time": "2023-05-08T07:30:17.371Z"
   },
   {
    "duration": 13,
    "start_time": "2023-05-08T07:30:17.426Z"
   },
   {
    "duration": 4,
    "start_time": "2023-05-08T07:30:17.441Z"
   },
   {
    "duration": 5,
    "start_time": "2023-05-08T07:30:17.446Z"
   },
   {
    "duration": 41,
    "start_time": "2023-05-08T07:30:17.452Z"
   },
   {
    "duration": 7,
    "start_time": "2023-05-08T07:30:17.494Z"
   },
   {
    "duration": 3,
    "start_time": "2023-05-08T07:30:17.502Z"
   },
   {
    "duration": 13,
    "start_time": "2023-05-08T07:30:17.506Z"
   },
   {
    "duration": 128,
    "start_time": "2023-05-08T07:30:17.520Z"
   },
   {
    "duration": 5,
    "start_time": "2023-05-08T07:30:17.651Z"
   },
   {
    "duration": 347,
    "start_time": "2023-05-08T07:30:17.658Z"
   },
   {
    "duration": 3,
    "start_time": "2023-05-08T07:30:18.007Z"
   },
   {
    "duration": 12,
    "start_time": "2023-05-08T07:30:18.011Z"
   },
   {
    "duration": 5,
    "start_time": "2023-05-08T07:30:18.025Z"
   },
   {
    "duration": 10,
    "start_time": "2023-05-08T07:30:18.032Z"
   },
   {
    "duration": 8,
    "start_time": "2023-05-08T07:30:18.043Z"
   },
   {
    "duration": 2,
    "start_time": "2023-05-08T07:30:18.053Z"
   },
   {
    "duration": 164,
    "start_time": "2023-05-08T07:30:18.056Z"
   },
   {
    "duration": 0,
    "start_time": "2023-05-08T07:30:18.222Z"
   },
   {
    "duration": 0,
    "start_time": "2023-05-08T07:30:18.224Z"
   },
   {
    "duration": 0,
    "start_time": "2023-05-08T07:30:18.226Z"
   },
   {
    "duration": 0,
    "start_time": "2023-05-08T07:30:18.228Z"
   },
   {
    "duration": 0,
    "start_time": "2023-05-08T07:30:18.229Z"
   },
   {
    "duration": 0,
    "start_time": "2023-05-08T07:30:18.231Z"
   },
   {
    "duration": 0,
    "start_time": "2023-05-08T07:30:18.233Z"
   },
   {
    "duration": 0,
    "start_time": "2023-05-08T07:30:18.235Z"
   },
   {
    "duration": 0,
    "start_time": "2023-05-08T07:30:18.236Z"
   },
   {
    "duration": 0,
    "start_time": "2023-05-08T07:30:18.238Z"
   },
   {
    "duration": 0,
    "start_time": "2023-05-08T07:30:18.239Z"
   },
   {
    "duration": 0,
    "start_time": "2023-05-08T07:30:18.241Z"
   },
   {
    "duration": 0,
    "start_time": "2023-05-08T07:30:18.242Z"
   },
   {
    "duration": 0,
    "start_time": "2023-05-08T07:30:18.244Z"
   },
   {
    "duration": 0,
    "start_time": "2023-05-08T07:30:18.246Z"
   },
   {
    "duration": 0,
    "start_time": "2023-05-08T07:30:18.248Z"
   },
   {
    "duration": 0,
    "start_time": "2023-05-08T07:30:18.286Z"
   },
   {
    "duration": 0,
    "start_time": "2023-05-08T07:30:18.287Z"
   },
   {
    "duration": 0,
    "start_time": "2023-05-08T07:30:18.292Z"
   },
   {
    "duration": 0,
    "start_time": "2023-05-08T07:30:18.293Z"
   },
   {
    "duration": 0,
    "start_time": "2023-05-08T07:30:18.293Z"
   },
   {
    "duration": 0,
    "start_time": "2023-05-08T07:30:18.294Z"
   },
   {
    "duration": 0,
    "start_time": "2023-05-08T07:30:18.295Z"
   },
   {
    "duration": 0,
    "start_time": "2023-05-08T07:30:18.296Z"
   },
   {
    "duration": 0,
    "start_time": "2023-05-08T07:30:18.298Z"
   },
   {
    "duration": 0,
    "start_time": "2023-05-08T07:30:18.299Z"
   },
   {
    "duration": 0,
    "start_time": "2023-05-08T07:30:18.300Z"
   },
   {
    "duration": 17,
    "start_time": "2023-05-08T07:31:16.836Z"
   },
   {
    "duration": 17,
    "start_time": "2023-05-08T07:31:33.223Z"
   },
   {
    "duration": 30,
    "start_time": "2023-05-08T07:31:56.775Z"
   },
   {
    "duration": 21,
    "start_time": "2023-05-08T07:33:06.623Z"
   },
   {
    "duration": 30,
    "start_time": "2023-05-08T07:33:28.602Z"
   },
   {
    "duration": 40,
    "start_time": "2023-05-08T07:35:41.606Z"
   },
   {
    "duration": 7,
    "start_time": "2023-05-08T07:40:19.079Z"
   },
   {
    "duration": 7,
    "start_time": "2023-05-08T07:40:30.353Z"
   },
   {
    "duration": 25,
    "start_time": "2023-05-08T07:40:31.637Z"
   },
   {
    "duration": 2434,
    "start_time": "2023-05-08T07:42:29.485Z"
   },
   {
    "duration": 1313,
    "start_time": "2023-05-08T07:42:31.922Z"
   },
   {
    "duration": 48,
    "start_time": "2023-05-08T07:42:33.237Z"
   },
   {
    "duration": 20,
    "start_time": "2023-05-08T07:42:33.290Z"
   },
   {
    "duration": 55,
    "start_time": "2023-05-08T07:42:33.312Z"
   },
   {
    "duration": 24,
    "start_time": "2023-05-08T07:42:33.369Z"
   },
   {
    "duration": 3,
    "start_time": "2023-05-08T07:42:33.394Z"
   },
   {
    "duration": 3,
    "start_time": "2023-05-08T07:42:33.398Z"
   },
   {
    "duration": 13,
    "start_time": "2023-05-08T07:42:33.403Z"
   },
   {
    "duration": 4,
    "start_time": "2023-05-08T07:42:33.420Z"
   },
   {
    "duration": 11,
    "start_time": "2023-05-08T07:42:33.426Z"
   },
   {
    "duration": 61,
    "start_time": "2023-05-08T07:42:33.439Z"
   },
   {
    "duration": 121,
    "start_time": "2023-05-08T07:42:33.503Z"
   },
   {
    "duration": 5,
    "start_time": "2023-05-08T07:42:33.626Z"
   },
   {
    "duration": 378,
    "start_time": "2023-05-08T07:42:33.633Z"
   },
   {
    "duration": 3,
    "start_time": "2023-05-08T07:42:34.013Z"
   },
   {
    "duration": 19,
    "start_time": "2023-05-08T07:42:34.018Z"
   },
   {
    "duration": 7,
    "start_time": "2023-05-08T07:42:34.039Z"
   },
   {
    "duration": 11,
    "start_time": "2023-05-08T07:42:34.048Z"
   },
   {
    "duration": 38,
    "start_time": "2023-05-08T07:42:34.061Z"
   },
   {
    "duration": 12,
    "start_time": "2023-05-08T07:42:34.101Z"
   },
   {
    "duration": 11,
    "start_time": "2023-05-08T07:42:34.115Z"
   },
   {
    "duration": 52,
    "start_time": "2023-05-08T07:42:34.128Z"
   },
   {
    "duration": 12,
    "start_time": "2023-05-08T07:42:34.182Z"
   },
   {
    "duration": 15,
    "start_time": "2023-05-08T07:42:34.195Z"
   },
   {
    "duration": 21,
    "start_time": "2023-05-08T07:42:34.213Z"
   },
   {
    "duration": 874,
    "start_time": "2023-05-08T07:42:34.236Z"
   },
   {
    "duration": 32370,
    "start_time": "2023-05-08T07:42:35.114Z"
   },
   {
    "duration": 8106,
    "start_time": "2023-05-08T07:43:07.486Z"
   },
   {
    "duration": 91,
    "start_time": "2023-05-08T07:43:15.594Z"
   },
   {
    "duration": 127,
    "start_time": "2023-05-08T07:43:15.687Z"
   },
   {
    "duration": 223,
    "start_time": "2023-05-08T07:43:15.816Z"
   },
   {
    "duration": 396,
    "start_time": "2023-05-08T07:43:16.040Z"
   },
   {
    "duration": 594,
    "start_time": "2023-05-08T07:43:16.438Z"
   },
   {
    "duration": 58,
    "start_time": "2023-05-08T07:43:17.034Z"
   },
   {
    "duration": 431,
    "start_time": "2023-05-08T07:43:17.094Z"
   },
   {
    "duration": 474,
    "start_time": "2023-05-08T07:43:17.527Z"
   },
   {
    "duration": 80,
    "start_time": "2023-05-08T07:43:18.007Z"
   },
   {
    "duration": 15,
    "start_time": "2023-05-08T07:43:18.092Z"
   },
   {
    "duration": 291,
    "start_time": "2023-05-08T07:43:18.108Z"
   },
   {
    "duration": 116,
    "start_time": "2023-05-08T07:43:18.401Z"
   },
   {
    "duration": 666,
    "start_time": "2023-05-08T07:43:18.519Z"
   },
   {
    "duration": 738,
    "start_time": "2023-05-08T07:43:19.191Z"
   },
   {
    "duration": 3,
    "start_time": "2023-05-08T07:43:19.931Z"
   },
   {
    "duration": 36,
    "start_time": "2023-05-08T07:43:19.936Z"
   },
   {
    "duration": 7581,
    "start_time": "2023-05-08T07:43:19.974Z"
   },
   {
    "duration": 7207,
    "start_time": "2023-05-08T07:43:27.557Z"
   },
   {
    "duration": 415,
    "start_time": "2023-05-08T07:43:34.766Z"
   },
   {
    "duration": 457,
    "start_time": "2023-05-08T07:43:35.185Z"
   },
   {
    "duration": 95720,
    "start_time": "2023-05-08T07:43:35.645Z"
   },
   {
    "duration": 98010,
    "start_time": "2023-05-08T08:55:21.244Z"
   },
   {
    "duration": 0,
    "start_time": "2023-05-08T09:02:37.884Z"
   },
   {
    "duration": 3,
    "start_time": "2023-05-08T09:07:20.265Z"
   },
   {
    "duration": 228,
    "start_time": "2023-05-08T09:16:50.082Z"
   },
   {
    "duration": 7011,
    "start_time": "2023-05-08T09:19:00.587Z"
   },
   {
    "duration": 17,
    "start_time": "2023-05-08T09:19:37.289Z"
   },
   {
    "duration": 11,
    "start_time": "2023-05-08T09:20:00.427Z"
   },
   {
    "duration": 5,
    "start_time": "2023-05-08T09:20:27.154Z"
   },
   {
    "duration": 6647,
    "start_time": "2023-05-08T09:21:03.797Z"
   },
   {
    "duration": 20,
    "start_time": "2023-05-08T09:21:10.447Z"
   },
   {
    "duration": 51,
    "start_time": "2023-05-08T09:23:12.716Z"
   },
   {
    "duration": 7,
    "start_time": "2023-05-08T09:23:14.616Z"
   },
   {
    "duration": 7091,
    "start_time": "2023-05-08T09:23:31.938Z"
   },
   {
    "duration": 16,
    "start_time": "2023-05-08T09:23:41.355Z"
   },
   {
    "duration": 17,
    "start_time": "2023-05-08T09:24:17.318Z"
   },
   {
    "duration": 6653,
    "start_time": "2023-05-08T09:24:31.833Z"
   },
   {
    "duration": 16,
    "start_time": "2023-05-08T09:24:38.488Z"
   },
   {
    "duration": 7735,
    "start_time": "2023-05-08T09:26:32.560Z"
   },
   {
    "duration": 758,
    "start_time": "2023-05-08T09:28:34.692Z"
   },
   {
    "duration": 11,
    "start_time": "2023-05-08T09:28:57.898Z"
   },
   {
    "duration": 91158,
    "start_time": "2023-05-08T09:31:07.700Z"
   },
   {
    "duration": 12,
    "start_time": "2023-05-08T09:32:58.931Z"
   },
   {
    "duration": 11,
    "start_time": "2023-05-08T09:33:23.743Z"
   },
   {
    "duration": 15,
    "start_time": "2023-05-08T09:33:32.985Z"
   },
   {
    "duration": 11,
    "start_time": "2023-05-08T09:33:48.507Z"
   },
   {
    "duration": 803,
    "start_time": "2023-05-08T09:36:19.637Z"
   },
   {
    "duration": 10,
    "start_time": "2023-05-08T09:36:21.421Z"
   },
   {
    "duration": 727,
    "start_time": "2023-05-08T09:38:30.972Z"
   },
   {
    "duration": 805,
    "start_time": "2023-05-08T09:38:33.019Z"
   },
   {
    "duration": 703,
    "start_time": "2023-05-08T09:38:35.963Z"
   },
   {
    "duration": 14,
    "start_time": "2023-05-08T09:38:44.602Z"
   },
   {
    "duration": 830,
    "start_time": "2023-05-08T09:38:53.117Z"
   },
   {
    "duration": 19,
    "start_time": "2023-05-08T09:38:53.950Z"
   },
   {
    "duration": 798,
    "start_time": "2023-05-08T09:39:38.556Z"
   },
   {
    "duration": 13,
    "start_time": "2023-05-08T09:39:39.356Z"
   },
   {
    "duration": 111,
    "start_time": "2023-05-08T09:41:22.074Z"
   },
   {
    "duration": 32,
    "start_time": "2023-05-08T09:41:37.704Z"
   },
   {
    "duration": 205,
    "start_time": "2023-05-08T09:41:38.481Z"
   },
   {
    "duration": 424,
    "start_time": "2023-05-08T09:41:43.134Z"
   },
   {
    "duration": 664,
    "start_time": "2023-05-08T09:41:44.041Z"
   },
   {
    "duration": 47,
    "start_time": "2023-05-08T09:41:47.238Z"
   },
   {
    "duration": 6,
    "start_time": "2023-05-08T09:44:59.179Z"
   },
   {
    "duration": 45,
    "start_time": "2023-05-08T09:44:59.828Z"
   },
   {
    "duration": 16,
    "start_time": "2023-05-08T09:45:00.609Z"
   },
   {
    "duration": 138,
    "start_time": "2023-05-08T09:45:01.270Z"
   },
   {
    "duration": 12,
    "start_time": "2023-05-08T09:45:03.252Z"
   },
   {
    "duration": 3,
    "start_time": "2023-05-08T09:45:05.332Z"
   },
   {
    "duration": 4,
    "start_time": "2023-05-08T09:45:07.807Z"
   },
   {
    "duration": 5,
    "start_time": "2023-05-08T09:46:29.296Z"
   },
   {
    "duration": 46,
    "start_time": "2023-05-08T09:46:30.045Z"
   },
   {
    "duration": 15,
    "start_time": "2023-05-08T09:46:30.824Z"
   },
   {
    "duration": 57,
    "start_time": "2023-05-08T09:46:31.854Z"
   },
   {
    "duration": 11,
    "start_time": "2023-05-08T09:46:33.376Z"
   },
   {
    "duration": 4,
    "start_time": "2023-05-08T09:46:34.972Z"
   },
   {
    "duration": 4,
    "start_time": "2023-05-08T09:46:36.792Z"
   },
   {
    "duration": 14,
    "start_time": "2023-05-08T09:46:37.380Z"
   },
   {
    "duration": 4,
    "start_time": "2023-05-08T09:46:38.166Z"
   },
   {
    "duration": 5,
    "start_time": "2023-05-08T09:46:39.397Z"
   },
   {
    "duration": 12,
    "start_time": "2023-05-08T09:46:41.518Z"
   },
   {
    "duration": 104,
    "start_time": "2023-05-08T09:46:43.284Z"
   },
   {
    "duration": 5,
    "start_time": "2023-05-08T09:46:46.265Z"
   },
   {
    "duration": 302,
    "start_time": "2023-05-08T09:46:47.253Z"
   },
   {
    "duration": 3,
    "start_time": "2023-05-08T09:46:48.384Z"
   },
   {
    "duration": 15,
    "start_time": "2023-05-08T09:46:49.858Z"
   },
   {
    "duration": 5,
    "start_time": "2023-05-08T09:46:55.683Z"
   },
   {
    "duration": 9,
    "start_time": "2023-05-08T09:46:57.110Z"
   },
   {
    "duration": 12,
    "start_time": "2023-05-08T09:46:58.296Z"
   },
   {
    "duration": 3,
    "start_time": "2023-05-08T09:47:00.556Z"
   },
   {
    "duration": 8,
    "start_time": "2023-05-08T09:47:05.209Z"
   },
   {
    "duration": 26,
    "start_time": "2023-05-08T09:47:07.519Z"
   },
   {
    "duration": 2,
    "start_time": "2023-05-08T09:47:09.043Z"
   },
   {
    "duration": 3,
    "start_time": "2023-05-08T09:47:17.039Z"
   },
   {
    "duration": 18,
    "start_time": "2023-05-08T09:47:17.847Z"
   },
   {
    "duration": 3,
    "start_time": "2023-05-08T09:47:21.854Z"
   },
   {
    "duration": 770,
    "start_time": "2023-05-08T09:47:44.542Z"
   },
   {
    "duration": 117,
    "start_time": "2023-05-08T09:48:16.673Z"
   },
   {
    "duration": 73,
    "start_time": "2023-05-08T09:50:05.414Z"
   },
   {
    "duration": 29,
    "start_time": "2023-05-08T09:50:07.578Z"
   },
   {
    "duration": 5,
    "start_time": "2023-05-08T09:54:20.918Z"
   },
   {
    "duration": 25,
    "start_time": "2023-05-08T09:54:21.018Z"
   },
   {
    "duration": 5,
    "start_time": "2023-05-08T10:04:11.902Z"
   },
   {
    "duration": 5,
    "start_time": "2023-05-08T10:05:08.943Z"
   },
   {
    "duration": 12,
    "start_time": "2023-05-08T10:12:26.551Z"
   },
   {
    "duration": 2,
    "start_time": "2023-05-08T10:13:15.865Z"
   },
   {
    "duration": 12,
    "start_time": "2023-05-08T10:13:17.955Z"
   },
   {
    "duration": 2546,
    "start_time": "2023-05-08T10:13:24.884Z"
   },
   {
    "duration": 1435,
    "start_time": "2023-05-08T10:13:27.433Z"
   },
   {
    "duration": 55,
    "start_time": "2023-05-08T10:13:28.870Z"
   },
   {
    "duration": 17,
    "start_time": "2023-05-08T10:13:28.927Z"
   },
   {
    "duration": 66,
    "start_time": "2023-05-08T10:13:28.947Z"
   },
   {
    "duration": 11,
    "start_time": "2023-05-08T10:13:29.015Z"
   },
   {
    "duration": 2,
    "start_time": "2023-05-08T10:13:29.028Z"
   },
   {
    "duration": 9,
    "start_time": "2023-05-08T10:13:29.032Z"
   },
   {
    "duration": 27,
    "start_time": "2023-05-08T10:13:29.043Z"
   },
   {
    "duration": 5,
    "start_time": "2023-05-08T10:13:29.071Z"
   },
   {
    "duration": 50,
    "start_time": "2023-05-08T10:13:29.077Z"
   },
   {
    "duration": 32,
    "start_time": "2023-05-08T10:13:29.129Z"
   },
   {
    "duration": 145,
    "start_time": "2023-05-08T10:13:29.163Z"
   },
   {
    "duration": 5,
    "start_time": "2023-05-08T10:13:29.317Z"
   },
   {
    "duration": 334,
    "start_time": "2023-05-08T10:13:29.323Z"
   },
   {
    "duration": 2,
    "start_time": "2023-05-08T10:13:29.659Z"
   },
   {
    "duration": 23,
    "start_time": "2023-05-08T10:13:29.663Z"
   },
   {
    "duration": 7,
    "start_time": "2023-05-08T10:13:29.688Z"
   },
   {
    "duration": 11,
    "start_time": "2023-05-08T10:13:29.697Z"
   },
   {
    "duration": 12,
    "start_time": "2023-05-08T10:13:29.710Z"
   },
   {
    "duration": 3,
    "start_time": "2023-05-08T10:13:29.725Z"
   },
   {
    "duration": 8,
    "start_time": "2023-05-08T10:13:29.731Z"
   },
   {
    "duration": 166,
    "start_time": "2023-05-08T10:13:29.741Z"
   },
   {
    "duration": 0,
    "start_time": "2023-05-08T10:13:29.912Z"
   },
   {
    "duration": 0,
    "start_time": "2023-05-08T10:13:29.913Z"
   },
   {
    "duration": 0,
    "start_time": "2023-05-08T10:13:29.915Z"
   },
   {
    "duration": 0,
    "start_time": "2023-05-08T10:13:29.917Z"
   },
   {
    "duration": 0,
    "start_time": "2023-05-08T10:13:29.920Z"
   },
   {
    "duration": 0,
    "start_time": "2023-05-08T10:13:29.921Z"
   },
   {
    "duration": 0,
    "start_time": "2023-05-08T10:13:29.922Z"
   },
   {
    "duration": 0,
    "start_time": "2023-05-08T10:13:29.924Z"
   },
   {
    "duration": 0,
    "start_time": "2023-05-08T10:13:29.925Z"
   },
   {
    "duration": 0,
    "start_time": "2023-05-08T10:13:29.926Z"
   },
   {
    "duration": 0,
    "start_time": "2023-05-08T10:13:29.927Z"
   },
   {
    "duration": 0,
    "start_time": "2023-05-08T10:13:29.929Z"
   },
   {
    "duration": 0,
    "start_time": "2023-05-08T10:13:29.930Z"
   },
   {
    "duration": 0,
    "start_time": "2023-05-08T10:13:29.932Z"
   },
   {
    "duration": 0,
    "start_time": "2023-05-08T10:13:29.933Z"
   },
   {
    "duration": 0,
    "start_time": "2023-05-08T10:13:29.934Z"
   },
   {
    "duration": 0,
    "start_time": "2023-05-08T10:13:29.936Z"
   },
   {
    "duration": 0,
    "start_time": "2023-05-08T10:13:29.937Z"
   },
   {
    "duration": 0,
    "start_time": "2023-05-08T10:13:29.939Z"
   },
   {
    "duration": 0,
    "start_time": "2023-05-08T10:13:29.988Z"
   },
   {
    "duration": 0,
    "start_time": "2023-05-08T10:13:29.989Z"
   },
   {
    "duration": 0,
    "start_time": "2023-05-08T10:13:29.992Z"
   },
   {
    "duration": 0,
    "start_time": "2023-05-08T10:13:29.993Z"
   },
   {
    "duration": 0,
    "start_time": "2023-05-08T10:13:29.996Z"
   },
   {
    "duration": 0,
    "start_time": "2023-05-08T10:13:29.997Z"
   },
   {
    "duration": 0,
    "start_time": "2023-05-08T10:13:29.999Z"
   },
   {
    "duration": 0,
    "start_time": "2023-05-08T10:13:30.001Z"
   },
   {
    "duration": 0,
    "start_time": "2023-05-08T10:13:30.002Z"
   },
   {
    "duration": 0,
    "start_time": "2023-05-08T10:13:30.004Z"
   },
   {
    "duration": 0,
    "start_time": "2023-05-08T10:13:30.005Z"
   },
   {
    "duration": 1,
    "start_time": "2023-05-08T10:13:30.006Z"
   },
   {
    "duration": 17,
    "start_time": "2023-05-08T10:14:37.004Z"
   },
   {
    "duration": 11,
    "start_time": "2023-05-08T10:15:33.147Z"
   },
   {
    "duration": 6,
    "start_time": "2023-05-08T10:15:48.640Z"
   },
   {
    "duration": 4,
    "start_time": "2023-05-08T10:15:55.550Z"
   },
   {
    "duration": 25,
    "start_time": "2023-05-08T10:15:56.587Z"
   },
   {
    "duration": 18,
    "start_time": "2023-05-08T10:16:32.700Z"
   },
   {
    "duration": 20,
    "start_time": "2023-05-08T10:17:22.700Z"
   },
   {
    "duration": 5,
    "start_time": "2023-05-08T10:18:34.949Z"
   },
   {
    "duration": 5,
    "start_time": "2023-05-08T10:18:35.395Z"
   },
   {
    "duration": 13,
    "start_time": "2023-05-08T10:18:36.206Z"
   },
   {
    "duration": 5,
    "start_time": "2023-05-08T10:18:47.565Z"
   },
   {
    "duration": 41,
    "start_time": "2023-05-08T10:18:48.606Z"
   },
   {
    "duration": 25,
    "start_time": "2023-05-08T10:19:03.050Z"
   },
   {
    "duration": 2,
    "start_time": "2023-05-08T10:19:27.957Z"
   },
   {
    "duration": 11,
    "start_time": "2023-05-08T10:20:35.759Z"
   },
   {
    "duration": 11,
    "start_time": "2023-05-08T10:21:05.769Z"
   },
   {
    "duration": 37,
    "start_time": "2023-05-08T10:21:33.439Z"
   },
   {
    "duration": 2437,
    "start_time": "2023-05-08T10:22:20.733Z"
   },
   {
    "duration": 1352,
    "start_time": "2023-05-08T10:22:23.173Z"
   },
   {
    "duration": 44,
    "start_time": "2023-05-08T10:22:24.527Z"
   },
   {
    "duration": 20,
    "start_time": "2023-05-08T10:22:24.573Z"
   },
   {
    "duration": 53,
    "start_time": "2023-05-08T10:22:24.596Z"
   },
   {
    "duration": 18,
    "start_time": "2023-05-08T10:22:24.651Z"
   },
   {
    "duration": 3,
    "start_time": "2023-05-08T10:22:24.686Z"
   },
   {
    "duration": 15,
    "start_time": "2023-05-08T10:22:24.691Z"
   },
   {
    "duration": 17,
    "start_time": "2023-05-08T10:22:24.708Z"
   },
   {
    "duration": 4,
    "start_time": "2023-05-08T10:22:24.727Z"
   },
   {
    "duration": 5,
    "start_time": "2023-05-08T10:22:24.732Z"
   },
   {
    "duration": 14,
    "start_time": "2023-05-08T10:22:24.739Z"
   },
   {
    "duration": 169,
    "start_time": "2023-05-08T10:22:24.755Z"
   },
   {
    "duration": 4,
    "start_time": "2023-05-08T10:22:24.927Z"
   },
   {
    "duration": 339,
    "start_time": "2023-05-08T10:22:24.933Z"
   },
   {
    "duration": 3,
    "start_time": "2023-05-08T10:22:25.273Z"
   },
   {
    "duration": 10,
    "start_time": "2023-05-08T10:22:25.278Z"
   },
   {
    "duration": 11,
    "start_time": "2023-05-08T10:22:25.290Z"
   },
   {
    "duration": 12,
    "start_time": "2023-05-08T10:22:25.303Z"
   },
   {
    "duration": 11,
    "start_time": "2023-05-08T10:22:25.317Z"
   },
   {
    "duration": 3,
    "start_time": "2023-05-08T10:22:25.329Z"
   },
   {
    "duration": 6,
    "start_time": "2023-05-08T10:22:25.334Z"
   },
   {
    "duration": 10,
    "start_time": "2023-05-08T10:22:25.342Z"
   },
   {
    "duration": 84,
    "start_time": "2023-05-08T10:22:25.354Z"
   },
   {
    "duration": 27,
    "start_time": "2023-05-08T10:22:25.440Z"
   },
   {
    "duration": 22,
    "start_time": "2023-05-08T10:22:25.468Z"
   },
   {
    "duration": 8,
    "start_time": "2023-05-08T10:22:25.493Z"
   },
   {
    "duration": 23,
    "start_time": "2023-05-08T10:22:25.504Z"
   },
   {
    "duration": 139,
    "start_time": "2023-05-08T10:22:25.529Z"
   },
   {
    "duration": 0,
    "start_time": "2023-05-08T10:22:25.670Z"
   },
   {
    "duration": 0,
    "start_time": "2023-05-08T10:22:25.672Z"
   },
   {
    "duration": 0,
    "start_time": "2023-05-08T10:22:25.673Z"
   },
   {
    "duration": 0,
    "start_time": "2023-05-08T10:22:25.674Z"
   },
   {
    "duration": 0,
    "start_time": "2023-05-08T10:22:25.675Z"
   },
   {
    "duration": 0,
    "start_time": "2023-05-08T10:22:25.695Z"
   },
   {
    "duration": 0,
    "start_time": "2023-05-08T10:22:25.697Z"
   },
   {
    "duration": 0,
    "start_time": "2023-05-08T10:22:25.698Z"
   },
   {
    "duration": 0,
    "start_time": "2023-05-08T10:22:25.700Z"
   },
   {
    "duration": 0,
    "start_time": "2023-05-08T10:22:25.701Z"
   },
   {
    "duration": 0,
    "start_time": "2023-05-08T10:22:25.703Z"
   },
   {
    "duration": 0,
    "start_time": "2023-05-08T10:22:25.704Z"
   },
   {
    "duration": 0,
    "start_time": "2023-05-08T10:22:25.706Z"
   },
   {
    "duration": 0,
    "start_time": "2023-05-08T10:22:25.708Z"
   },
   {
    "duration": 0,
    "start_time": "2023-05-08T10:22:25.709Z"
   },
   {
    "duration": 0,
    "start_time": "2023-05-08T10:22:25.710Z"
   },
   {
    "duration": 0,
    "start_time": "2023-05-08T10:22:25.711Z"
   },
   {
    "duration": 0,
    "start_time": "2023-05-08T10:22:25.713Z"
   },
   {
    "duration": 0,
    "start_time": "2023-05-08T10:22:25.714Z"
   },
   {
    "duration": 0,
    "start_time": "2023-05-08T10:22:25.716Z"
   },
   {
    "duration": 0,
    "start_time": "2023-05-08T10:22:25.717Z"
   },
   {
    "duration": 0,
    "start_time": "2023-05-08T10:22:25.719Z"
   },
   {
    "duration": 0,
    "start_time": "2023-05-08T10:22:25.720Z"
   },
   {
    "duration": 8,
    "start_time": "2023-05-08T10:23:29.090Z"
   },
   {
    "duration": 43,
    "start_time": "2023-05-08T10:23:29.927Z"
   },
   {
    "duration": 45,
    "start_time": "2023-05-08T10:23:38.835Z"
   },
   {
    "duration": 5,
    "start_time": "2023-05-08T10:24:07.760Z"
   },
   {
    "duration": 57,
    "start_time": "2023-05-08T10:24:08.302Z"
   },
   {
    "duration": 25,
    "start_time": "2023-05-08T10:24:15.751Z"
   },
   {
    "duration": 6,
    "start_time": "2023-05-08T10:24:25.585Z"
   },
   {
    "duration": 28,
    "start_time": "2023-05-08T10:24:29.088Z"
   },
   {
    "duration": 21,
    "start_time": "2023-05-08T10:24:39.504Z"
   },
   {
    "duration": 28,
    "start_time": "2023-05-08T10:24:51.109Z"
   },
   {
    "duration": 8,
    "start_time": "2023-05-08T10:24:56.770Z"
   },
   {
    "duration": 10,
    "start_time": "2023-05-08T10:25:29.412Z"
   },
   {
    "duration": 5,
    "start_time": "2023-05-08T10:25:30.554Z"
   },
   {
    "duration": 19,
    "start_time": "2023-05-08T10:25:30.807Z"
   },
   {
    "duration": 18,
    "start_time": "2023-05-08T10:25:32.851Z"
   },
   {
    "duration": 3,
    "start_time": "2023-05-08T10:28:15.805Z"
   },
   {
    "duration": 5,
    "start_time": "2023-05-08T10:28:23.767Z"
   },
   {
    "duration": 55,
    "start_time": "2023-05-08T10:28:24.447Z"
   },
   {
    "duration": 56,
    "start_time": "2023-05-08T10:28:49.606Z"
   },
   {
    "duration": 6,
    "start_time": "2023-05-08T10:29:10.728Z"
   },
   {
    "duration": 60,
    "start_time": "2023-05-08T10:29:11.421Z"
   },
   {
    "duration": 3,
    "start_time": "2023-05-08T10:31:35.545Z"
   },
   {
    "duration": 25,
    "start_time": "2023-05-08T10:34:43.816Z"
   },
   {
    "duration": 34,
    "start_time": "2023-05-08T10:36:29.674Z"
   },
   {
    "duration": 27,
    "start_time": "2023-05-08T10:36:30.515Z"
   },
   {
    "duration": 2367,
    "start_time": "2023-05-08T10:36:45.982Z"
   },
   {
    "duration": 1400,
    "start_time": "2023-05-08T10:36:48.352Z"
   },
   {
    "duration": 58,
    "start_time": "2023-05-08T10:36:49.755Z"
   },
   {
    "duration": 16,
    "start_time": "2023-05-08T10:36:49.815Z"
   },
   {
    "duration": 76,
    "start_time": "2023-05-08T10:36:49.833Z"
   },
   {
    "duration": 11,
    "start_time": "2023-05-08T10:36:49.911Z"
   },
   {
    "duration": 27,
    "start_time": "2023-05-08T10:36:49.923Z"
   },
   {
    "duration": 21,
    "start_time": "2023-05-08T10:36:49.952Z"
   },
   {
    "duration": 30,
    "start_time": "2023-05-08T10:36:49.975Z"
   },
   {
    "duration": 17,
    "start_time": "2023-05-08T10:36:50.007Z"
   },
   {
    "duration": 75,
    "start_time": "2023-05-08T10:36:50.026Z"
   },
   {
    "duration": 28,
    "start_time": "2023-05-08T10:36:50.105Z"
   },
   {
    "duration": 142,
    "start_time": "2023-05-08T10:36:50.135Z"
   },
   {
    "duration": 17,
    "start_time": "2023-05-08T10:36:50.280Z"
   },
   {
    "duration": 372,
    "start_time": "2023-05-08T10:36:50.299Z"
   },
   {
    "duration": 3,
    "start_time": "2023-05-08T10:36:50.672Z"
   },
   {
    "duration": 7,
    "start_time": "2023-05-08T10:36:50.686Z"
   },
   {
    "duration": 18,
    "start_time": "2023-05-08T10:36:50.695Z"
   },
   {
    "duration": 18,
    "start_time": "2023-05-08T10:36:50.716Z"
   },
   {
    "duration": 7,
    "start_time": "2023-05-08T10:36:50.736Z"
   },
   {
    "duration": 2,
    "start_time": "2023-05-08T10:36:50.745Z"
   },
   {
    "duration": 26,
    "start_time": "2023-05-08T10:36:50.748Z"
   },
   {
    "duration": 15,
    "start_time": "2023-05-08T10:36:50.776Z"
   },
   {
    "duration": 35,
    "start_time": "2023-05-08T10:36:50.793Z"
   },
   {
    "duration": 37,
    "start_time": "2023-05-08T10:36:50.830Z"
   },
   {
    "duration": 5,
    "start_time": "2023-05-08T10:36:50.869Z"
   },
   {
    "duration": 51,
    "start_time": "2023-05-08T10:36:50.875Z"
   },
   {
    "duration": 903,
    "start_time": "2023-05-08T10:36:50.928Z"
   },
   {
    "duration": 3,
    "start_time": "2023-05-08T10:36:51.833Z"
   },
   {
    "duration": 99645,
    "start_time": "2023-05-08T10:36:51.838Z"
   },
   {
    "duration": 21,
    "start_time": "2023-05-08T10:38:31.484Z"
   },
   {
    "duration": 93,
    "start_time": "2023-05-08T10:38:31.507Z"
   },
   {
    "duration": 117,
    "start_time": "2023-05-08T10:38:31.603Z"
   },
   {
    "duration": 238,
    "start_time": "2023-05-08T10:38:31.721Z"
   },
   {
    "duration": 459,
    "start_time": "2023-05-08T10:38:31.961Z"
   },
   {
    "duration": 639,
    "start_time": "2023-05-08T10:38:32.422Z"
   },
   {
    "duration": 52,
    "start_time": "2023-05-08T10:38:33.063Z"
   },
   {
    "duration": 468,
    "start_time": "2023-05-08T10:38:33.189Z"
   },
   {
    "duration": 459,
    "start_time": "2023-05-08T10:38:33.659Z"
   },
   {
    "duration": 68,
    "start_time": "2023-05-08T10:38:34.120Z"
   },
   {
    "duration": 94,
    "start_time": "2023-05-08T10:38:34.202Z"
   },
   {
    "duration": 387,
    "start_time": "2023-05-08T10:38:34.299Z"
   },
   {
    "duration": 41,
    "start_time": "2023-05-08T10:38:34.688Z"
   },
   {
    "duration": 668,
    "start_time": "2023-05-08T10:38:34.731Z"
   },
   {
    "duration": 678,
    "start_time": "2023-05-08T10:38:35.407Z"
   },
   {
    "duration": 8,
    "start_time": "2023-05-08T10:38:36.087Z"
   },
   {
    "duration": 27,
    "start_time": "2023-05-08T10:38:36.097Z"
   },
   {
    "duration": 142,
    "start_time": "2023-05-08T10:38:36.125Z"
   },
   {
    "duration": 0,
    "start_time": "2023-05-08T10:38:36.268Z"
   },
   {
    "duration": 0,
    "start_time": "2023-05-08T10:38:36.269Z"
   },
   {
    "duration": 0,
    "start_time": "2023-05-08T10:38:36.270Z"
   },
   {
    "duration": 784,
    "start_time": "2023-05-08T11:38:27.467Z"
   },
   {
    "duration": 700,
    "start_time": "2023-05-08T11:39:44.227Z"
   },
   {
    "duration": 704,
    "start_time": "2023-05-08T11:39:48.272Z"
   },
   {
    "duration": 777,
    "start_time": "2023-05-08T11:39:55.017Z"
   },
   {
    "duration": 843,
    "start_time": "2023-05-08T11:40:00.672Z"
   },
   {
    "duration": 90882,
    "start_time": "2023-05-08T11:41:13.839Z"
   },
   {
    "duration": 10,
    "start_time": "2023-05-08T11:43:43.180Z"
   },
   {
    "duration": 31,
    "start_time": "2023-05-08T11:44:49.665Z"
   },
   {
    "duration": 509,
    "start_time": "2023-05-08T11:45:04.298Z"
   },
   {
    "duration": 1013,
    "start_time": "2023-05-08T11:47:03.872Z"
   },
   {
    "duration": 18,
    "start_time": "2023-05-08T12:08:11.785Z"
   },
   {
    "duration": 11,
    "start_time": "2023-05-08T12:08:17.755Z"
   },
   {
    "duration": 412,
    "start_time": "2023-05-08T12:22:47.761Z"
   },
   {
    "duration": 55295,
    "start_time": "2023-05-08T12:24:51.974Z"
   },
   {
    "duration": 15,
    "start_time": "2023-05-08T12:30:09.599Z"
   },
   {
    "duration": 67,
    "start_time": "2023-05-08T12:31:04.421Z"
   },
   {
    "duration": 656,
    "start_time": "2023-05-08T12:32:32.937Z"
   },
   {
    "duration": 1054,
    "start_time": "2023-05-08T12:41:27.599Z"
   },
   {
    "duration": 119252,
    "start_time": "2023-05-08T12:42:31.528Z"
   },
   {
    "duration": 11,
    "start_time": "2023-05-08T12:55:19.231Z"
   },
   {
    "duration": 109,
    "start_time": "2023-05-08T12:56:10.177Z"
   },
   {
    "duration": 1393,
    "start_time": "2023-05-08T12:56:59.101Z"
   },
   {
    "duration": 371,
    "start_time": "2023-05-08T13:17:54.607Z"
   },
   {
    "duration": 2327,
    "start_time": "2023-05-08T13:18:28.867Z"
   },
   {
    "duration": 1314,
    "start_time": "2023-05-08T13:18:31.197Z"
   },
   {
    "duration": 46,
    "start_time": "2023-05-08T13:18:32.513Z"
   },
   {
    "duration": 17,
    "start_time": "2023-05-08T13:18:32.561Z"
   },
   {
    "duration": 58,
    "start_time": "2023-05-08T13:18:32.580Z"
   },
   {
    "duration": 11,
    "start_time": "2023-05-08T13:18:32.640Z"
   },
   {
    "duration": 17,
    "start_time": "2023-05-08T13:18:32.652Z"
   },
   {
    "duration": 13,
    "start_time": "2023-05-08T13:18:32.670Z"
   },
   {
    "duration": 15,
    "start_time": "2023-05-08T13:18:32.685Z"
   },
   {
    "duration": 5,
    "start_time": "2023-05-08T13:18:32.702Z"
   },
   {
    "duration": 7,
    "start_time": "2023-05-08T13:18:32.708Z"
   },
   {
    "duration": 17,
    "start_time": "2023-05-08T13:18:32.717Z"
   },
   {
    "duration": 120,
    "start_time": "2023-05-08T13:18:32.736Z"
   },
   {
    "duration": 6,
    "start_time": "2023-05-08T13:18:32.857Z"
   },
   {
    "duration": 338,
    "start_time": "2023-05-08T13:18:32.865Z"
   },
   {
    "duration": 2,
    "start_time": "2023-05-08T13:18:33.206Z"
   },
   {
    "duration": 12,
    "start_time": "2023-05-08T13:18:33.210Z"
   },
   {
    "duration": 13,
    "start_time": "2023-05-08T13:18:33.224Z"
   },
   {
    "duration": 12,
    "start_time": "2023-05-08T13:18:33.239Z"
   },
   {
    "duration": 13,
    "start_time": "2023-05-08T13:18:33.253Z"
   },
   {
    "duration": 6,
    "start_time": "2023-05-08T13:18:33.268Z"
   },
   {
    "duration": 46,
    "start_time": "2023-05-08T13:18:33.276Z"
   },
   {
    "duration": 25,
    "start_time": "2023-05-08T13:18:33.324Z"
   },
   {
    "duration": 48,
    "start_time": "2023-05-08T13:18:33.350Z"
   },
   {
    "duration": 30,
    "start_time": "2023-05-08T13:18:33.400Z"
   },
   {
    "duration": 5,
    "start_time": "2023-05-08T13:18:33.432Z"
   },
   {
    "duration": 27,
    "start_time": "2023-05-08T13:18:33.439Z"
   },
   {
    "duration": 930,
    "start_time": "2023-05-08T13:18:33.489Z"
   },
   {
    "duration": 2,
    "start_time": "2023-05-08T13:18:34.421Z"
   },
   {
    "duration": 92789,
    "start_time": "2023-05-08T13:18:34.425Z"
   },
   {
    "duration": 10,
    "start_time": "2023-05-08T13:20:07.217Z"
   },
   {
    "duration": 74,
    "start_time": "2023-05-08T13:20:07.229Z"
   },
   {
    "duration": 33,
    "start_time": "2023-05-08T13:20:07.390Z"
   },
   {
    "duration": 248,
    "start_time": "2023-05-08T13:20:07.425Z"
   },
   {
    "duration": 404,
    "start_time": "2023-05-08T13:20:07.675Z"
   },
   {
    "duration": 592,
    "start_time": "2023-05-08T13:20:08.080Z"
   },
   {
    "duration": 112,
    "start_time": "2023-05-08T13:20:08.674Z"
   },
   {
    "duration": 447,
    "start_time": "2023-05-08T13:20:08.788Z"
   },
   {
    "duration": 783,
    "start_time": "2023-05-08T13:20:09.237Z"
   },
   {
    "duration": 91905,
    "start_time": "2023-05-08T13:20:10.022Z"
   },
   {
    "duration": 10,
    "start_time": "2023-05-08T13:21:41.928Z"
   },
   {
    "duration": 150,
    "start_time": "2023-05-08T13:21:41.940Z"
   },
   {
    "duration": 1000,
    "start_time": "2023-05-08T13:21:42.093Z"
   },
   {
    "duration": 5,
    "start_time": "2023-05-08T13:21:43.095Z"
   },
   {
    "duration": 98,
    "start_time": "2023-05-08T13:21:43.101Z"
   },
   {
    "duration": 386,
    "start_time": "2023-05-08T13:21:43.201Z"
   },
   {
    "duration": 55038,
    "start_time": "2023-05-08T13:21:43.600Z"
   },
   {
    "duration": 10,
    "start_time": "2023-05-08T13:22:38.639Z"
   },
   {
    "duration": 134,
    "start_time": "2023-05-08T13:22:38.651Z"
   },
   {
    "duration": 599,
    "start_time": "2023-05-08T13:22:38.788Z"
   },
   {
    "duration": 104,
    "start_time": "2023-05-08T13:22:39.389Z"
   },
   {
    "duration": 994,
    "start_time": "2023-05-08T13:22:39.495Z"
   },
   {
    "duration": 125109,
    "start_time": "2023-05-08T13:22:40.491Z"
   },
   {
    "duration": 10,
    "start_time": "2023-05-08T13:24:45.602Z"
   },
   {
    "duration": 81,
    "start_time": "2023-05-08T13:24:45.613Z"
   },
   {
    "duration": 1496,
    "start_time": "2023-05-08T13:24:45.709Z"
   },
   {
    "duration": 80,
    "start_time": "2023-05-08T13:24:47.208Z"
   },
   {
    "duration": 27,
    "start_time": "2023-05-08T13:24:47.290Z"
   },
   {
    "duration": 396,
    "start_time": "2023-05-08T13:24:47.318Z"
   },
   {
    "duration": 441,
    "start_time": "2023-05-08T13:24:47.716Z"
   },
   {
    "duration": 5,
    "start_time": "2023-05-08T13:24:48.161Z"
   },
   {
    "duration": 60,
    "start_time": "2023-05-08T13:24:48.168Z"
   },
   {
    "duration": 13,
    "start_time": "2023-05-08T13:24:48.229Z"
   },
   {
    "duration": 52,
    "start_time": "2023-05-08T13:24:48.314Z"
   },
   {
    "duration": 40,
    "start_time": "2023-05-08T13:34:06.425Z"
   },
   {
    "duration": 191,
    "start_time": "2023-05-08T13:34:26.030Z"
   },
   {
    "duration": 770,
    "start_time": "2023-05-08T13:35:26.722Z"
   },
   {
    "duration": 588,
    "start_time": "2023-05-08T13:35:42.262Z"
   },
   {
    "duration": 36,
    "start_time": "2023-05-08T13:35:56.752Z"
   },
   {
    "duration": 197,
    "start_time": "2023-05-08T13:36:04.145Z"
   },
   {
    "duration": 847,
    "start_time": "2023-05-08T13:36:41.453Z"
   },
   {
    "duration": 574,
    "start_time": "2023-05-08T13:36:42.301Z"
   },
   {
    "duration": 978,
    "start_time": "2023-05-08T13:37:17.783Z"
   },
   {
    "duration": 117,
    "start_time": "2023-05-08T13:37:35.472Z"
   },
   {
    "duration": 320,
    "start_time": "2023-05-08T13:37:36.311Z"
   },
   {
    "duration": 573,
    "start_time": "2023-05-08T13:50:23.219Z"
   },
   {
    "duration": 744,
    "start_time": "2023-05-08T14:16:47.121Z"
   },
   {
    "duration": 1181,
    "start_time": "2023-05-08T14:18:27.300Z"
   },
   {
    "duration": 766,
    "start_time": "2023-05-08T14:18:38.297Z"
   },
   {
    "duration": 970,
    "start_time": "2023-05-08T14:19:26.081Z"
   },
   {
    "duration": 746,
    "start_time": "2023-05-08T14:19:55.630Z"
   },
   {
    "duration": 3,
    "start_time": "2023-05-08T14:42:08.825Z"
   },
   {
    "duration": 22,
    "start_time": "2023-05-08T14:42:09.266Z"
   },
   {
    "duration": 834,
    "start_time": "2023-05-08T14:42:11.726Z"
   },
   {
    "duration": 1044,
    "start_time": "2023-05-08T14:45:41.830Z"
   },
   {
    "duration": 6896,
    "start_time": "2023-05-08T16:09:07.752Z"
   },
   {
    "duration": 1361,
    "start_time": "2023-05-08T16:09:14.650Z"
   },
   {
    "duration": 203,
    "start_time": "2023-05-08T16:09:25.752Z"
   },
   {
    "duration": 59,
    "start_time": "2023-05-08T16:09:47.032Z"
   },
   {
    "duration": 66,
    "start_time": "2023-05-08T16:10:43.072Z"
   },
   {
    "duration": 24,
    "start_time": "2023-05-08T16:10:56.282Z"
   }
  ],
  "kernelspec": {
   "display_name": "Python 3 (ipykernel)",
   "language": "python",
   "name": "python3"
  },
  "language_info": {
   "codemirror_mode": {
    "name": "ipython",
    "version": 3
   },
   "file_extension": ".py",
   "mimetype": "text/x-python",
   "name": "python",
   "nbconvert_exporter": "python",
   "pygments_lexer": "ipython3",
   "version": "3.9.5"
  },
  "toc": {
   "base_numbering": 1,
   "nav_menu": {},
   "number_sections": true,
   "sideBar": true,
   "skip_h1_title": true,
   "title_cell": "Содержание",
   "title_sidebar": "Contents",
   "toc_cell": true,
   "toc_position": {},
   "toc_section_display": true,
   "toc_window_display": false
  }
 },
 "nbformat": 4,
 "nbformat_minor": 4
}
