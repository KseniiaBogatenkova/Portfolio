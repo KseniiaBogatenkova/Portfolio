{
 "cells": [
  {
   "cell_type": "markdown",
   "metadata": {},
   "source": [
    "# Восстановление золота из руды"
   ]
  },
  {
   "cell_type": "markdown",
   "metadata": {},
   "source": [
    "# Содержание\n",
    "\n",
    "**[1. Подготовка данных](#step1)**\n",
    "\n",
    "**[2. Анализ данных](#step2)**\n",
    "\n",
    "**[3. Модель](#step3)**\n",
    "\n"
   ]
  },
  {
   "cell_type": "markdown",
   "metadata": {},
   "source": [
    "Подготовьте прототип модели машинного обучения для «Цифры». Компания разрабатывает решения для эффективной работы промышленных предприятий.\n",
    "\n",
    "Модель должна предсказать коэффициент восстановления золота из золотосодержащей руды. Используйте данные с параметрами добычи и очистки. \n",
    "\n",
    "Модель поможет оптимизировать производство, чтобы не запускать предприятие с убыточными характеристиками.\n",
    "\n",
    "Вам нужно:\n",
    "\n",
    "1. Подготовить данные;\n",
    "2. Провести исследовательский анализ данных;\n",
    "3. Построить и обучить модель.\n",
    "\n",
    "Чтобы выполнить проект, обращайтесь к библиотекам *pandas*, *matplotlib* и *sklearn.* Вам поможет их документация."
   ]
  },
  {
   "cell_type": "markdown",
   "metadata": {},
   "source": [
    "<a id='step1'></a>  **Подготовка данных**"
   ]
  },
  {
   "cell_type": "markdown",
   "metadata": {},
   "source": [
    "1. Подготовьте данные\n",
    "1.1. Откройте файлы и изучите их.\n",
    "Путь к файлам:  \n",
    "•\t/datasets/gold_industry_train.csv.   \n",
    "•\t/datasets/gold_industry_test.csv. \n",
    "•\t/datasets/gold_industry_full.csv.  \n",
    "1.2. Проверьте, что эффективность обогащения рассчитана правильно. Вычислите её на обучающей выборке для признака   rougher.output.recovery. Найдите MAE между вашими расчётами и значением признака. Опишите выводы.  \n",
    "1.3. Проанализируйте признаки, недоступные в тестовой выборке. Что это за параметры? К какому типу относятся?  \n",
    "1.4. Проведите предобработку данных. \n",
    " "
   ]
  },
  {
   "cell_type": "code",
   "execution_count": 1,
   "metadata": {},
   "outputs": [
    {
     "name": "stderr",
     "output_type": "stream",
     "text": [
      "/var/folders/w8/whz827qx38v0ln9s213kypp00000gp/T/ipykernel_9600/1584260939.py:3: MatplotlibDeprecationWarning: The seaborn styles shipped by Matplotlib are deprecated since 3.6, as they no longer correspond to the styles shipped by seaborn. However, they will remain available as 'seaborn-v0_8-<style>'. Alternatively, directly use the seaborn API instead.\n",
      "  plt.style.use('seaborn-bright')\n"
     ]
    }
   ],
   "source": [
    "import pandas as pd # импорт библиотеки pandas \n",
    "import matplotlib.pyplot as plt # импорт библиотеки matplotlib\n",
    "plt.style.use('seaborn-bright')\n",
    "import seaborn as sns # импорт библиотеки seaborn\n",
    "import numpy as np # импорт библиотеки numpy\n",
    "from sklearn.model_selection import train_test_split, cross_val_score\n",
    "from sklearn.preprocessing import StandardScaler\n",
    "from sklearn.metrics import make_scorer, mean_absolute_error\n",
    "from sklearn.linear_model import LinearRegression \n",
    "from sklearn.tree import DecisionTreeRegressor\n",
    "from sklearn.ensemble import RandomForestRegressor\n",
    "from sklearn.dummy import DummyRegressor\n",
    "import time\n",
    "from tqdm import tqdm # импорт библиотеки tqdm для просмотра прогресса обучения модели\n",
    "import warnings\n",
    "warnings.filterwarnings(\"ignore\")"
   ]
  },
  {
   "cell_type": "code",
   "execution_count": 2,
   "metadata": {},
   "outputs": [
    {
     "data": {
      "text/html": [
       "<style>.container { width:90% !important; }</style>"
      ],
      "text/plain": [
       "<IPython.core.display.HTML object>"
      ]
     },
     "metadata": {},
     "output_type": "display_data"
    }
   ],
   "source": [
    "from IPython.core.display import display, HTML\n",
    "display(HTML(\"<style>.container { width:90% !important; }</style>\"))"
   ]
  },
  {
   "cell_type": "code",
   "execution_count": 3,
   "metadata": {},
   "outputs": [],
   "source": [
    "df_train = pd.read_csv('datasets/gold_industry_train.csv')\n",
    "df_test = pd.read_csv('datasets/gold_industry_train.csv')\n",
    "df_full = pd.read_csv('datasets/gold_industry_train.csv')\n",
    "\n",
    "df_list = [df_full, df_train, df_test]\n",
    "\n",
    "pd.options.display.max_columns = None # полностью отображаем столбцы"
   ]
  },
  {
   "cell_type": "code",
   "execution_count": 4,
   "metadata": {
    "scrolled": true
   },
   "outputs": [
    {
     "data": {
      "text/html": [
       "<div>\n",
       "<style scoped>\n",
       "    .dataframe tbody tr th:only-of-type {\n",
       "        vertical-align: middle;\n",
       "    }\n",
       "\n",
       "    .dataframe tbody tr th {\n",
       "        vertical-align: top;\n",
       "    }\n",
       "\n",
       "    .dataframe thead th {\n",
       "        text-align: right;\n",
       "    }\n",
       "</style>\n",
       "<table border=\"1\" class=\"dataframe\">\n",
       "  <thead>\n",
       "    <tr style=\"text-align: right;\">\n",
       "      <th></th>\n",
       "      <th>date</th>\n",
       "      <th>rougher.input.feed_au</th>\n",
       "      <th>rougher.input.feed_ag</th>\n",
       "      <th>rougher.input.feed_pb</th>\n",
       "      <th>rougher.input.feed_sol</th>\n",
       "      <th>rougher.input.feed_rate</th>\n",
       "      <th>rougher.input.feed_size</th>\n",
       "      <th>rougher.input.floatbank10_sulfate</th>\n",
       "      <th>rougher.input.floatbank10_xanthate</th>\n",
       "      <th>rougher.state.floatbank10_a_air</th>\n",
       "      <th>rougher.state.floatbank10_a_level</th>\n",
       "      <th>rougher.state.floatbank10_b_air</th>\n",
       "      <th>rougher.state.floatbank10_b_level</th>\n",
       "      <th>rougher.state.floatbank10_c_air</th>\n",
       "      <th>rougher.state.floatbank10_c_level</th>\n",
       "      <th>rougher.state.floatbank10_d_air</th>\n",
       "      <th>rougher.state.floatbank10_d_level</th>\n",
       "      <th>rougher.state.floatbank10_e_air</th>\n",
       "      <th>rougher.state.floatbank10_e_level</th>\n",
       "      <th>rougher.state.floatbank10_f_air</th>\n",
       "      <th>rougher.state.floatbank10_f_level</th>\n",
       "      <th>rougher.input.floatbank11_sulfate</th>\n",
       "      <th>rougher.input.floatbank11_xanthate</th>\n",
       "      <th>rougher.calculation.sulfate_to_au_concentrate</th>\n",
       "      <th>rougher.calculation.floatbank10_sulfate_to_au_feed</th>\n",
       "      <th>rougher.calculation.floatbank11_sulfate_to_au_feed</th>\n",
       "      <th>rougher.calculation.au_pb_ratio</th>\n",
       "      <th>rougher.output.concentrate_au</th>\n",
       "      <th>rougher.output.concentrate_ag</th>\n",
       "      <th>rougher.output.concentrate_pb</th>\n",
       "      <th>rougher.output.concentrate_sol</th>\n",
       "      <th>rougher.output.recovery</th>\n",
       "      <th>rougher.output.tail_au</th>\n",
       "      <th>rougher.output.tail_ag</th>\n",
       "      <th>rougher.output.tail_pb</th>\n",
       "      <th>rougher.output.tail_sol</th>\n",
       "      <th>primary_cleaner.input.sulfate</th>\n",
       "      <th>primary_cleaner.input.depressant</th>\n",
       "      <th>primary_cleaner.input.feed_size</th>\n",
       "      <th>primary_cleaner.input.xanthate</th>\n",
       "      <th>primary_cleaner.state.floatbank8_a_air</th>\n",
       "      <th>primary_cleaner.state.floatbank8_a_level</th>\n",
       "      <th>primary_cleaner.state.floatbank8_b_air</th>\n",
       "      <th>primary_cleaner.state.floatbank8_b_level</th>\n",
       "      <th>primary_cleaner.state.floatbank8_c_air</th>\n",
       "      <th>primary_cleaner.state.floatbank8_c_level</th>\n",
       "      <th>primary_cleaner.state.floatbank8_d_air</th>\n",
       "      <th>primary_cleaner.state.floatbank8_d_level</th>\n",
       "      <th>primary_cleaner.output.concentrate_au</th>\n",
       "      <th>primary_cleaner.output.concentrate_ag</th>\n",
       "      <th>primary_cleaner.output.concentrate_pb</th>\n",
       "      <th>primary_cleaner.output.concentrate_sol</th>\n",
       "      <th>primary_cleaner.output.tail_au</th>\n",
       "      <th>primary_cleaner.output.tail_ag</th>\n",
       "      <th>primary_cleaner.output.tail_pb</th>\n",
       "      <th>primary_cleaner.output.tail_sol</th>\n",
       "      <th>secondary_cleaner.state.floatbank2_a_air</th>\n",
       "      <th>secondary_cleaner.state.floatbank2_a_level</th>\n",
       "      <th>secondary_cleaner.state.floatbank2_b_air</th>\n",
       "      <th>secondary_cleaner.state.floatbank2_b_level</th>\n",
       "      <th>secondary_cleaner.state.floatbank3_a_air</th>\n",
       "      <th>secondary_cleaner.state.floatbank3_a_level</th>\n",
       "      <th>secondary_cleaner.state.floatbank3_b_air</th>\n",
       "      <th>secondary_cleaner.state.floatbank3_b_level</th>\n",
       "      <th>secondary_cleaner.state.floatbank4_a_air</th>\n",
       "      <th>secondary_cleaner.state.floatbank4_a_level</th>\n",
       "      <th>secondary_cleaner.state.floatbank4_b_air</th>\n",
       "      <th>secondary_cleaner.state.floatbank4_b_level</th>\n",
       "      <th>secondary_cleaner.state.floatbank5_a_air</th>\n",
       "      <th>secondary_cleaner.state.floatbank5_a_level</th>\n",
       "      <th>secondary_cleaner.state.floatbank5_b_air</th>\n",
       "      <th>secondary_cleaner.state.floatbank5_b_level</th>\n",
       "      <th>secondary_cleaner.state.floatbank6_a_air</th>\n",
       "      <th>secondary_cleaner.state.floatbank6_a_level</th>\n",
       "      <th>secondary_cleaner.output.tail_au</th>\n",
       "      <th>secondary_cleaner.output.tail_ag</th>\n",
       "      <th>secondary_cleaner.output.tail_pb</th>\n",
       "      <th>secondary_cleaner.output.tail_sol</th>\n",
       "      <th>final.output.concentrate_au</th>\n",
       "      <th>final.output.concentrate_ag</th>\n",
       "      <th>final.output.concentrate_pb</th>\n",
       "      <th>final.output.concentrate_sol</th>\n",
       "      <th>final.output.recovery</th>\n",
       "      <th>final.output.tail_au</th>\n",
       "      <th>final.output.tail_ag</th>\n",
       "      <th>final.output.tail_pb</th>\n",
       "      <th>final.output.tail_sol</th>\n",
       "    </tr>\n",
       "  </thead>\n",
       "  <tbody>\n",
       "    <tr>\n",
       "      <th>0</th>\n",
       "      <td>2016-01-15 00:00:00</td>\n",
       "      <td>6.486150</td>\n",
       "      <td>6.100378</td>\n",
       "      <td>2.284912</td>\n",
       "      <td>36.808594</td>\n",
       "      <td>523.546326</td>\n",
       "      <td>55.486599</td>\n",
       "      <td>11.986616</td>\n",
       "      <td>6.007990</td>\n",
       "      <td>999.706909</td>\n",
       "      <td>-404.066986</td>\n",
       "      <td>1603.011353</td>\n",
       "      <td>-434.715027</td>\n",
       "      <td>1602.375000</td>\n",
       "      <td>-442.204468</td>\n",
       "      <td>1598.937256</td>\n",
       "      <td>-451.294128</td>\n",
       "      <td>1404.472046</td>\n",
       "      <td>-455.462982</td>\n",
       "      <td>1416.354980</td>\n",
       "      <td>-451.939636</td>\n",
       "      <td>11.836743</td>\n",
       "      <td>6.005818</td>\n",
       "      <td>41885.707031</td>\n",
       "      <td>3481.779053</td>\n",
       "      <td>3520.337158</td>\n",
       "      <td>2.838687</td>\n",
       "      <td>19.793808</td>\n",
       "      <td>11.500771</td>\n",
       "      <td>7.101074</td>\n",
       "      <td>28.029297</td>\n",
       "      <td>87.107763</td>\n",
       "      <td>1.170244</td>\n",
       "      <td>5.008018</td>\n",
       "      <td>0.508728</td>\n",
       "      <td>19.154297</td>\n",
       "      <td>127.092003</td>\n",
       "      <td>10.128295</td>\n",
       "      <td>7.25</td>\n",
       "      <td>0.988759</td>\n",
       "      <td>1549.775757</td>\n",
       "      <td>-498.912140</td>\n",
       "      <td>1551.434204</td>\n",
       "      <td>-516.403442</td>\n",
       "      <td>1549.873901</td>\n",
       "      <td>-498.666595</td>\n",
       "      <td>1554.367432</td>\n",
       "      <td>-493.428131</td>\n",
       "      <td>34.174427</td>\n",
       "      <td>8.547551</td>\n",
       "      <td>10.389648</td>\n",
       "      <td>19.529297</td>\n",
       "      <td>2.106679</td>\n",
       "      <td>14.936526</td>\n",
       "      <td>2.534912</td>\n",
       "      <td>7.476074</td>\n",
       "      <td>25.853109</td>\n",
       "      <td>-498.526489</td>\n",
       "      <td>23.893660</td>\n",
       "      <td>-501.406281</td>\n",
       "      <td>23.961798</td>\n",
       "      <td>-495.262817</td>\n",
       "      <td>21.940409</td>\n",
       "      <td>-499.340973</td>\n",
       "      <td>14.016835</td>\n",
       "      <td>-502.488007</td>\n",
       "      <td>12.099931</td>\n",
       "      <td>-504.715942</td>\n",
       "      <td>9.925633</td>\n",
       "      <td>-498.310211</td>\n",
       "      <td>8.079666</td>\n",
       "      <td>-500.470978</td>\n",
       "      <td>14.151341</td>\n",
       "      <td>-605.841980</td>\n",
       "      <td>2.606185</td>\n",
       "      <td>14.500184</td>\n",
       "      <td>4.694824</td>\n",
       "      <td>8.764648</td>\n",
       "      <td>42.192020</td>\n",
       "      <td>6.055403</td>\n",
       "      <td>9.889648</td>\n",
       "      <td>5.507324</td>\n",
       "      <td>70.541216</td>\n",
       "      <td>2.143149</td>\n",
       "      <td>10.411962</td>\n",
       "      <td>0.895447</td>\n",
       "      <td>16.904297</td>\n",
       "    </tr>\n",
       "    <tr>\n",
       "      <th>1</th>\n",
       "      <td>2016-01-15 01:00:00</td>\n",
       "      <td>6.478583</td>\n",
       "      <td>6.161113</td>\n",
       "      <td>2.266033</td>\n",
       "      <td>35.753385</td>\n",
       "      <td>525.290581</td>\n",
       "      <td>57.278666</td>\n",
       "      <td>11.971193</td>\n",
       "      <td>6.005766</td>\n",
       "      <td>1000.286398</td>\n",
       "      <td>-400.065196</td>\n",
       "      <td>1600.754587</td>\n",
       "      <td>-449.953435</td>\n",
       "      <td>1600.479580</td>\n",
       "      <td>-449.830646</td>\n",
       "      <td>1600.527589</td>\n",
       "      <td>-449.953649</td>\n",
       "      <td>1399.227084</td>\n",
       "      <td>-450.869848</td>\n",
       "      <td>1399.719514</td>\n",
       "      <td>-450.119001</td>\n",
       "      <td>11.996163</td>\n",
       "      <td>6.012594</td>\n",
       "      <td>42050.861809</td>\n",
       "      <td>3498.370979</td>\n",
       "      <td>3489.981857</td>\n",
       "      <td>2.858998</td>\n",
       "      <td>20.050975</td>\n",
       "      <td>11.615865</td>\n",
       "      <td>7.278807</td>\n",
       "      <td>28.067063</td>\n",
       "      <td>86.843261</td>\n",
       "      <td>1.184827</td>\n",
       "      <td>4.955378</td>\n",
       "      <td>0.536689</td>\n",
       "      <td>18.965234</td>\n",
       "      <td>125.629232</td>\n",
       "      <td>10.296251</td>\n",
       "      <td>7.25</td>\n",
       "      <td>1.002663</td>\n",
       "      <td>1576.166671</td>\n",
       "      <td>-500.904965</td>\n",
       "      <td>1575.950626</td>\n",
       "      <td>-499.865889</td>\n",
       "      <td>1575.994189</td>\n",
       "      <td>-499.315107</td>\n",
       "      <td>1574.479259</td>\n",
       "      <td>-498.931665</td>\n",
       "      <td>34.118526</td>\n",
       "      <td>8.558743</td>\n",
       "      <td>10.497069</td>\n",
       "      <td>19.369147</td>\n",
       "      <td>2.353017</td>\n",
       "      <td>16.250511</td>\n",
       "      <td>3.049646</td>\n",
       "      <td>6.733907</td>\n",
       "      <td>25.880539</td>\n",
       "      <td>-499.989656</td>\n",
       "      <td>23.889530</td>\n",
       "      <td>-500.372428</td>\n",
       "      <td>23.970550</td>\n",
       "      <td>-500.085473</td>\n",
       "      <td>22.085714</td>\n",
       "      <td>-499.446897</td>\n",
       "      <td>13.992281</td>\n",
       "      <td>-505.503262</td>\n",
       "      <td>11.950531</td>\n",
       "      <td>-501.331529</td>\n",
       "      <td>10.039245</td>\n",
       "      <td>-500.169983</td>\n",
       "      <td>7.984757</td>\n",
       "      <td>-500.582168</td>\n",
       "      <td>13.998353</td>\n",
       "      <td>-599.787184</td>\n",
       "      <td>2.488248</td>\n",
       "      <td>14.265474</td>\n",
       "      <td>4.592547</td>\n",
       "      <td>9.001494</td>\n",
       "      <td>42.701629</td>\n",
       "      <td>6.029369</td>\n",
       "      <td>9.968944</td>\n",
       "      <td>5.257781</td>\n",
       "      <td>69.266198</td>\n",
       "      <td>2.224930</td>\n",
       "      <td>10.462676</td>\n",
       "      <td>0.927452</td>\n",
       "      <td>16.634514</td>\n",
       "    </tr>\n",
       "    <tr>\n",
       "      <th>2</th>\n",
       "      <td>2016-01-15 02:00:00</td>\n",
       "      <td>6.362222</td>\n",
       "      <td>6.116455</td>\n",
       "      <td>2.159622</td>\n",
       "      <td>35.971630</td>\n",
       "      <td>530.026610</td>\n",
       "      <td>57.510649</td>\n",
       "      <td>11.920603</td>\n",
       "      <td>6.197377</td>\n",
       "      <td>999.719565</td>\n",
       "      <td>-400.074028</td>\n",
       "      <td>1599.337330</td>\n",
       "      <td>-450.008530</td>\n",
       "      <td>1599.672797</td>\n",
       "      <td>-449.954491</td>\n",
       "      <td>1599.849325</td>\n",
       "      <td>-449.954185</td>\n",
       "      <td>1399.180945</td>\n",
       "      <td>-449.937588</td>\n",
       "      <td>1400.316682</td>\n",
       "      <td>-450.527147</td>\n",
       "      <td>11.920305</td>\n",
       "      <td>6.204633</td>\n",
       "      <td>42018.101184</td>\n",
       "      <td>3495.348910</td>\n",
       "      <td>3502.359819</td>\n",
       "      <td>2.945989</td>\n",
       "      <td>19.737170</td>\n",
       "      <td>11.695753</td>\n",
       "      <td>7.216833</td>\n",
       "      <td>27.454037</td>\n",
       "      <td>86.842308</td>\n",
       "      <td>1.162562</td>\n",
       "      <td>4.843460</td>\n",
       "      <td>0.546416</td>\n",
       "      <td>18.808533</td>\n",
       "      <td>123.819808</td>\n",
       "      <td>11.316280</td>\n",
       "      <td>7.25</td>\n",
       "      <td>0.991265</td>\n",
       "      <td>1601.556163</td>\n",
       "      <td>-499.997791</td>\n",
       "      <td>1600.386685</td>\n",
       "      <td>-500.607762</td>\n",
       "      <td>1602.003542</td>\n",
       "      <td>-500.870069</td>\n",
       "      <td>1599.541515</td>\n",
       "      <td>-499.827444</td>\n",
       "      <td>33.969464</td>\n",
       "      <td>8.603505</td>\n",
       "      <td>10.354494</td>\n",
       "      <td>19.167579</td>\n",
       "      <td>2.416800</td>\n",
       "      <td>16.491823</td>\n",
       "      <td>3.124664</td>\n",
       "      <td>6.471768</td>\n",
       "      <td>26.005245</td>\n",
       "      <td>-499.929616</td>\n",
       "      <td>23.886657</td>\n",
       "      <td>-499.951928</td>\n",
       "      <td>23.913535</td>\n",
       "      <td>-499.442343</td>\n",
       "      <td>23.957717</td>\n",
       "      <td>-499.901982</td>\n",
       "      <td>14.015015</td>\n",
       "      <td>-502.520901</td>\n",
       "      <td>11.912783</td>\n",
       "      <td>-501.133383</td>\n",
       "      <td>10.070913</td>\n",
       "      <td>-500.129135</td>\n",
       "      <td>8.013877</td>\n",
       "      <td>-500.517572</td>\n",
       "      <td>14.028663</td>\n",
       "      <td>-601.427363</td>\n",
       "      <td>2.458187</td>\n",
       "      <td>14.115662</td>\n",
       "      <td>4.624775</td>\n",
       "      <td>8.842896</td>\n",
       "      <td>42.657501</td>\n",
       "      <td>6.055926</td>\n",
       "      <td>10.213995</td>\n",
       "      <td>5.383759</td>\n",
       "      <td>68.116445</td>\n",
       "      <td>2.257889</td>\n",
       "      <td>10.507046</td>\n",
       "      <td>0.953716</td>\n",
       "      <td>16.208849</td>\n",
       "    </tr>\n",
       "    <tr>\n",
       "      <th>3</th>\n",
       "      <td>2016-01-15 03:00:00</td>\n",
       "      <td>6.118189</td>\n",
       "      <td>6.043309</td>\n",
       "      <td>2.037807</td>\n",
       "      <td>36.862241</td>\n",
       "      <td>542.590390</td>\n",
       "      <td>57.792734</td>\n",
       "      <td>11.630094</td>\n",
       "      <td>6.203177</td>\n",
       "      <td>999.814770</td>\n",
       "      <td>-400.200179</td>\n",
       "      <td>1600.059442</td>\n",
       "      <td>-450.619948</td>\n",
       "      <td>1600.012842</td>\n",
       "      <td>-449.910497</td>\n",
       "      <td>1597.725177</td>\n",
       "      <td>-450.130127</td>\n",
       "      <td>1400.943157</td>\n",
       "      <td>-450.030142</td>\n",
       "      <td>1400.234743</td>\n",
       "      <td>-449.790835</td>\n",
       "      <td>11.692450</td>\n",
       "      <td>6.196578</td>\n",
       "      <td>42029.447991</td>\n",
       "      <td>3498.578313</td>\n",
       "      <td>3499.162912</td>\n",
       "      <td>3.002340</td>\n",
       "      <td>19.320810</td>\n",
       "      <td>11.915047</td>\n",
       "      <td>7.175616</td>\n",
       "      <td>27.341277</td>\n",
       "      <td>87.226430</td>\n",
       "      <td>1.079755</td>\n",
       "      <td>4.655288</td>\n",
       "      <td>0.542525</td>\n",
       "      <td>19.330200</td>\n",
       "      <td>122.270188</td>\n",
       "      <td>11.322140</td>\n",
       "      <td>7.25</td>\n",
       "      <td>0.996739</td>\n",
       "      <td>1599.968720</td>\n",
       "      <td>-500.951778</td>\n",
       "      <td>1600.659236</td>\n",
       "      <td>-499.677094</td>\n",
       "      <td>1600.304144</td>\n",
       "      <td>-500.727997</td>\n",
       "      <td>1600.449520</td>\n",
       "      <td>-500.052575</td>\n",
       "      <td>28.260743</td>\n",
       "      <td>7.221879</td>\n",
       "      <td>8.496563</td>\n",
       "      <td>15.978538</td>\n",
       "      <td>2.262051</td>\n",
       "      <td>16.024359</td>\n",
       "      <td>2.960362</td>\n",
       "      <td>6.843791</td>\n",
       "      <td>25.942508</td>\n",
       "      <td>-499.176749</td>\n",
       "      <td>23.955516</td>\n",
       "      <td>-499.848796</td>\n",
       "      <td>23.966838</td>\n",
       "      <td>-500.008812</td>\n",
       "      <td>23.954443</td>\n",
       "      <td>-499.944710</td>\n",
       "      <td>14.036510</td>\n",
       "      <td>-500.857308</td>\n",
       "      <td>11.999550</td>\n",
       "      <td>-501.193686</td>\n",
       "      <td>9.970366</td>\n",
       "      <td>-499.201640</td>\n",
       "      <td>7.977324</td>\n",
       "      <td>-500.255908</td>\n",
       "      <td>14.005551</td>\n",
       "      <td>-599.996129</td>\n",
       "      <td>2.322062</td>\n",
       "      <td>13.732071</td>\n",
       "      <td>4.482453</td>\n",
       "      <td>9.122857</td>\n",
       "      <td>42.689819</td>\n",
       "      <td>6.047977</td>\n",
       "      <td>9.977019</td>\n",
       "      <td>4.858634</td>\n",
       "      <td>68.347543</td>\n",
       "      <td>2.146849</td>\n",
       "      <td>10.422762</td>\n",
       "      <td>0.883763</td>\n",
       "      <td>16.532835</td>\n",
       "    </tr>\n",
       "    <tr>\n",
       "      <th>4</th>\n",
       "      <td>2016-01-15 04:00:00</td>\n",
       "      <td>5.663707</td>\n",
       "      <td>6.060915</td>\n",
       "      <td>1.786875</td>\n",
       "      <td>34.347666</td>\n",
       "      <td>540.531893</td>\n",
       "      <td>56.047189</td>\n",
       "      <td>10.957755</td>\n",
       "      <td>6.198826</td>\n",
       "      <td>999.678690</td>\n",
       "      <td>-399.752729</td>\n",
       "      <td>1600.208824</td>\n",
       "      <td>-449.599614</td>\n",
       "      <td>1600.357732</td>\n",
       "      <td>-450.034364</td>\n",
       "      <td>1599.759049</td>\n",
       "      <td>-449.909799</td>\n",
       "      <td>1401.560902</td>\n",
       "      <td>-448.877187</td>\n",
       "      <td>1401.160227</td>\n",
       "      <td>-450.407128</td>\n",
       "      <td>10.960521</td>\n",
       "      <td>6.194897</td>\n",
       "      <td>42125.354245</td>\n",
       "      <td>3494.800771</td>\n",
       "      <td>3506.679315</td>\n",
       "      <td>3.169615</td>\n",
       "      <td>19.216101</td>\n",
       "      <td>12.411054</td>\n",
       "      <td>7.240205</td>\n",
       "      <td>27.041023</td>\n",
       "      <td>86.688794</td>\n",
       "      <td>1.012642</td>\n",
       "      <td>4.552800</td>\n",
       "      <td>0.515438</td>\n",
       "      <td>19.267422</td>\n",
       "      <td>117.988169</td>\n",
       "      <td>11.913613</td>\n",
       "      <td>7.25</td>\n",
       "      <td>1.009869</td>\n",
       "      <td>1601.339707</td>\n",
       "      <td>-498.975456</td>\n",
       "      <td>1601.437854</td>\n",
       "      <td>-500.323246</td>\n",
       "      <td>1599.581894</td>\n",
       "      <td>-500.888152</td>\n",
       "      <td>1602.649541</td>\n",
       "      <td>-500.593010</td>\n",
       "      <td>33.044932</td>\n",
       "      <td>9.089428</td>\n",
       "      <td>9.986786</td>\n",
       "      <td>19.199864</td>\n",
       "      <td>2.277073</td>\n",
       "      <td>16.480185</td>\n",
       "      <td>3.112100</td>\n",
       "      <td>6.550154</td>\n",
       "      <td>26.024787</td>\n",
       "      <td>-500.279091</td>\n",
       "      <td>23.955345</td>\n",
       "      <td>-500.593614</td>\n",
       "      <td>23.985703</td>\n",
       "      <td>-500.083811</td>\n",
       "      <td>23.958945</td>\n",
       "      <td>-499.990309</td>\n",
       "      <td>14.027298</td>\n",
       "      <td>-499.838632</td>\n",
       "      <td>11.953070</td>\n",
       "      <td>-501.053894</td>\n",
       "      <td>9.925709</td>\n",
       "      <td>-501.686727</td>\n",
       "      <td>7.894242</td>\n",
       "      <td>-500.356035</td>\n",
       "      <td>13.996647</td>\n",
       "      <td>-601.496691</td>\n",
       "      <td>2.330448</td>\n",
       "      <td>14.079996</td>\n",
       "      <td>4.470737</td>\n",
       "      <td>8.871028</td>\n",
       "      <td>42.774141</td>\n",
       "      <td>6.148599</td>\n",
       "      <td>10.142511</td>\n",
       "      <td>4.939416</td>\n",
       "      <td>66.927016</td>\n",
       "      <td>2.055292</td>\n",
       "      <td>10.360302</td>\n",
       "      <td>0.792826</td>\n",
       "      <td>16.525686</td>\n",
       "    </tr>\n",
       "  </tbody>\n",
       "</table>\n",
       "</div>"
      ],
      "text/plain": [
       "                  date  rougher.input.feed_au  rougher.input.feed_ag  \\\n",
       "0  2016-01-15 00:00:00               6.486150               6.100378   \n",
       "1  2016-01-15 01:00:00               6.478583               6.161113   \n",
       "2  2016-01-15 02:00:00               6.362222               6.116455   \n",
       "3  2016-01-15 03:00:00               6.118189               6.043309   \n",
       "4  2016-01-15 04:00:00               5.663707               6.060915   \n",
       "\n",
       "   rougher.input.feed_pb  rougher.input.feed_sol  rougher.input.feed_rate  \\\n",
       "0               2.284912               36.808594               523.546326   \n",
       "1               2.266033               35.753385               525.290581   \n",
       "2               2.159622               35.971630               530.026610   \n",
       "3               2.037807               36.862241               542.590390   \n",
       "4               1.786875               34.347666               540.531893   \n",
       "\n",
       "   rougher.input.feed_size  rougher.input.floatbank10_sulfate  \\\n",
       "0                55.486599                          11.986616   \n",
       "1                57.278666                          11.971193   \n",
       "2                57.510649                          11.920603   \n",
       "3                57.792734                          11.630094   \n",
       "4                56.047189                          10.957755   \n",
       "\n",
       "   rougher.input.floatbank10_xanthate  rougher.state.floatbank10_a_air  \\\n",
       "0                            6.007990                       999.706909   \n",
       "1                            6.005766                      1000.286398   \n",
       "2                            6.197377                       999.719565   \n",
       "3                            6.203177                       999.814770   \n",
       "4                            6.198826                       999.678690   \n",
       "\n",
       "   rougher.state.floatbank10_a_level  rougher.state.floatbank10_b_air  \\\n",
       "0                        -404.066986                      1603.011353   \n",
       "1                        -400.065196                      1600.754587   \n",
       "2                        -400.074028                      1599.337330   \n",
       "3                        -400.200179                      1600.059442   \n",
       "4                        -399.752729                      1600.208824   \n",
       "\n",
       "   rougher.state.floatbank10_b_level  rougher.state.floatbank10_c_air  \\\n",
       "0                        -434.715027                      1602.375000   \n",
       "1                        -449.953435                      1600.479580   \n",
       "2                        -450.008530                      1599.672797   \n",
       "3                        -450.619948                      1600.012842   \n",
       "4                        -449.599614                      1600.357732   \n",
       "\n",
       "   rougher.state.floatbank10_c_level  rougher.state.floatbank10_d_air  \\\n",
       "0                        -442.204468                      1598.937256   \n",
       "1                        -449.830646                      1600.527589   \n",
       "2                        -449.954491                      1599.849325   \n",
       "3                        -449.910497                      1597.725177   \n",
       "4                        -450.034364                      1599.759049   \n",
       "\n",
       "   rougher.state.floatbank10_d_level  rougher.state.floatbank10_e_air  \\\n",
       "0                        -451.294128                      1404.472046   \n",
       "1                        -449.953649                      1399.227084   \n",
       "2                        -449.954185                      1399.180945   \n",
       "3                        -450.130127                      1400.943157   \n",
       "4                        -449.909799                      1401.560902   \n",
       "\n",
       "   rougher.state.floatbank10_e_level  rougher.state.floatbank10_f_air  \\\n",
       "0                        -455.462982                      1416.354980   \n",
       "1                        -450.869848                      1399.719514   \n",
       "2                        -449.937588                      1400.316682   \n",
       "3                        -450.030142                      1400.234743   \n",
       "4                        -448.877187                      1401.160227   \n",
       "\n",
       "   rougher.state.floatbank10_f_level  rougher.input.floatbank11_sulfate  \\\n",
       "0                        -451.939636                          11.836743   \n",
       "1                        -450.119001                          11.996163   \n",
       "2                        -450.527147                          11.920305   \n",
       "3                        -449.790835                          11.692450   \n",
       "4                        -450.407128                          10.960521   \n",
       "\n",
       "   rougher.input.floatbank11_xanthate  \\\n",
       "0                            6.005818   \n",
       "1                            6.012594   \n",
       "2                            6.204633   \n",
       "3                            6.196578   \n",
       "4                            6.194897   \n",
       "\n",
       "   rougher.calculation.sulfate_to_au_concentrate  \\\n",
       "0                                   41885.707031   \n",
       "1                                   42050.861809   \n",
       "2                                   42018.101184   \n",
       "3                                   42029.447991   \n",
       "4                                   42125.354245   \n",
       "\n",
       "   rougher.calculation.floatbank10_sulfate_to_au_feed  \\\n",
       "0                                        3481.779053    \n",
       "1                                        3498.370979    \n",
       "2                                        3495.348910    \n",
       "3                                        3498.578313    \n",
       "4                                        3494.800771    \n",
       "\n",
       "   rougher.calculation.floatbank11_sulfate_to_au_feed  \\\n",
       "0                                        3520.337158    \n",
       "1                                        3489.981857    \n",
       "2                                        3502.359819    \n",
       "3                                        3499.162912    \n",
       "4                                        3506.679315    \n",
       "\n",
       "   rougher.calculation.au_pb_ratio  rougher.output.concentrate_au  \\\n",
       "0                         2.838687                      19.793808   \n",
       "1                         2.858998                      20.050975   \n",
       "2                         2.945989                      19.737170   \n",
       "3                         3.002340                      19.320810   \n",
       "4                         3.169615                      19.216101   \n",
       "\n",
       "   rougher.output.concentrate_ag  rougher.output.concentrate_pb  \\\n",
       "0                      11.500771                       7.101074   \n",
       "1                      11.615865                       7.278807   \n",
       "2                      11.695753                       7.216833   \n",
       "3                      11.915047                       7.175616   \n",
       "4                      12.411054                       7.240205   \n",
       "\n",
       "   rougher.output.concentrate_sol  rougher.output.recovery  \\\n",
       "0                       28.029297                87.107763   \n",
       "1                       28.067063                86.843261   \n",
       "2                       27.454037                86.842308   \n",
       "3                       27.341277                87.226430   \n",
       "4                       27.041023                86.688794   \n",
       "\n",
       "   rougher.output.tail_au  rougher.output.tail_ag  rougher.output.tail_pb  \\\n",
       "0                1.170244                5.008018                0.508728   \n",
       "1                1.184827                4.955378                0.536689   \n",
       "2                1.162562                4.843460                0.546416   \n",
       "3                1.079755                4.655288                0.542525   \n",
       "4                1.012642                4.552800                0.515438   \n",
       "\n",
       "   rougher.output.tail_sol  primary_cleaner.input.sulfate  \\\n",
       "0                19.154297                     127.092003   \n",
       "1                18.965234                     125.629232   \n",
       "2                18.808533                     123.819808   \n",
       "3                19.330200                     122.270188   \n",
       "4                19.267422                     117.988169   \n",
       "\n",
       "   primary_cleaner.input.depressant  primary_cleaner.input.feed_size  \\\n",
       "0                         10.128295                             7.25   \n",
       "1                         10.296251                             7.25   \n",
       "2                         11.316280                             7.25   \n",
       "3                         11.322140                             7.25   \n",
       "4                         11.913613                             7.25   \n",
       "\n",
       "   primary_cleaner.input.xanthate  primary_cleaner.state.floatbank8_a_air  \\\n",
       "0                        0.988759                             1549.775757   \n",
       "1                        1.002663                             1576.166671   \n",
       "2                        0.991265                             1601.556163   \n",
       "3                        0.996739                             1599.968720   \n",
       "4                        1.009869                             1601.339707   \n",
       "\n",
       "   primary_cleaner.state.floatbank8_a_level  \\\n",
       "0                               -498.912140   \n",
       "1                               -500.904965   \n",
       "2                               -499.997791   \n",
       "3                               -500.951778   \n",
       "4                               -498.975456   \n",
       "\n",
       "   primary_cleaner.state.floatbank8_b_air  \\\n",
       "0                             1551.434204   \n",
       "1                             1575.950626   \n",
       "2                             1600.386685   \n",
       "3                             1600.659236   \n",
       "4                             1601.437854   \n",
       "\n",
       "   primary_cleaner.state.floatbank8_b_level  \\\n",
       "0                               -516.403442   \n",
       "1                               -499.865889   \n",
       "2                               -500.607762   \n",
       "3                               -499.677094   \n",
       "4                               -500.323246   \n",
       "\n",
       "   primary_cleaner.state.floatbank8_c_air  \\\n",
       "0                             1549.873901   \n",
       "1                             1575.994189   \n",
       "2                             1602.003542   \n",
       "3                             1600.304144   \n",
       "4                             1599.581894   \n",
       "\n",
       "   primary_cleaner.state.floatbank8_c_level  \\\n",
       "0                               -498.666595   \n",
       "1                               -499.315107   \n",
       "2                               -500.870069   \n",
       "3                               -500.727997   \n",
       "4                               -500.888152   \n",
       "\n",
       "   primary_cleaner.state.floatbank8_d_air  \\\n",
       "0                             1554.367432   \n",
       "1                             1574.479259   \n",
       "2                             1599.541515   \n",
       "3                             1600.449520   \n",
       "4                             1602.649541   \n",
       "\n",
       "   primary_cleaner.state.floatbank8_d_level  \\\n",
       "0                               -493.428131   \n",
       "1                               -498.931665   \n",
       "2                               -499.827444   \n",
       "3                               -500.052575   \n",
       "4                               -500.593010   \n",
       "\n",
       "   primary_cleaner.output.concentrate_au  \\\n",
       "0                              34.174427   \n",
       "1                              34.118526   \n",
       "2                              33.969464   \n",
       "3                              28.260743   \n",
       "4                              33.044932   \n",
       "\n",
       "   primary_cleaner.output.concentrate_ag  \\\n",
       "0                               8.547551   \n",
       "1                               8.558743   \n",
       "2                               8.603505   \n",
       "3                               7.221879   \n",
       "4                               9.089428   \n",
       "\n",
       "   primary_cleaner.output.concentrate_pb  \\\n",
       "0                              10.389648   \n",
       "1                              10.497069   \n",
       "2                              10.354494   \n",
       "3                               8.496563   \n",
       "4                               9.986786   \n",
       "\n",
       "   primary_cleaner.output.concentrate_sol  primary_cleaner.output.tail_au  \\\n",
       "0                               19.529297                        2.106679   \n",
       "1                               19.369147                        2.353017   \n",
       "2                               19.167579                        2.416800   \n",
       "3                               15.978538                        2.262051   \n",
       "4                               19.199864                        2.277073   \n",
       "\n",
       "   primary_cleaner.output.tail_ag  primary_cleaner.output.tail_pb  \\\n",
       "0                       14.936526                        2.534912   \n",
       "1                       16.250511                        3.049646   \n",
       "2                       16.491823                        3.124664   \n",
       "3                       16.024359                        2.960362   \n",
       "4                       16.480185                        3.112100   \n",
       "\n",
       "   primary_cleaner.output.tail_sol  secondary_cleaner.state.floatbank2_a_air  \\\n",
       "0                         7.476074                                 25.853109   \n",
       "1                         6.733907                                 25.880539   \n",
       "2                         6.471768                                 26.005245   \n",
       "3                         6.843791                                 25.942508   \n",
       "4                         6.550154                                 26.024787   \n",
       "\n",
       "   secondary_cleaner.state.floatbank2_a_level  \\\n",
       "0                                 -498.526489   \n",
       "1                                 -499.989656   \n",
       "2                                 -499.929616   \n",
       "3                                 -499.176749   \n",
       "4                                 -500.279091   \n",
       "\n",
       "   secondary_cleaner.state.floatbank2_b_air  \\\n",
       "0                                 23.893660   \n",
       "1                                 23.889530   \n",
       "2                                 23.886657   \n",
       "3                                 23.955516   \n",
       "4                                 23.955345   \n",
       "\n",
       "   secondary_cleaner.state.floatbank2_b_level  \\\n",
       "0                                 -501.406281   \n",
       "1                                 -500.372428   \n",
       "2                                 -499.951928   \n",
       "3                                 -499.848796   \n",
       "4                                 -500.593614   \n",
       "\n",
       "   secondary_cleaner.state.floatbank3_a_air  \\\n",
       "0                                 23.961798   \n",
       "1                                 23.970550   \n",
       "2                                 23.913535   \n",
       "3                                 23.966838   \n",
       "4                                 23.985703   \n",
       "\n",
       "   secondary_cleaner.state.floatbank3_a_level  \\\n",
       "0                                 -495.262817   \n",
       "1                                 -500.085473   \n",
       "2                                 -499.442343   \n",
       "3                                 -500.008812   \n",
       "4                                 -500.083811   \n",
       "\n",
       "   secondary_cleaner.state.floatbank3_b_air  \\\n",
       "0                                 21.940409   \n",
       "1                                 22.085714   \n",
       "2                                 23.957717   \n",
       "3                                 23.954443   \n",
       "4                                 23.958945   \n",
       "\n",
       "   secondary_cleaner.state.floatbank3_b_level  \\\n",
       "0                                 -499.340973   \n",
       "1                                 -499.446897   \n",
       "2                                 -499.901982   \n",
       "3                                 -499.944710   \n",
       "4                                 -499.990309   \n",
       "\n",
       "   secondary_cleaner.state.floatbank4_a_air  \\\n",
       "0                                 14.016835   \n",
       "1                                 13.992281   \n",
       "2                                 14.015015   \n",
       "3                                 14.036510   \n",
       "4                                 14.027298   \n",
       "\n",
       "   secondary_cleaner.state.floatbank4_a_level  \\\n",
       "0                                 -502.488007   \n",
       "1                                 -505.503262   \n",
       "2                                 -502.520901   \n",
       "3                                 -500.857308   \n",
       "4                                 -499.838632   \n",
       "\n",
       "   secondary_cleaner.state.floatbank4_b_air  \\\n",
       "0                                 12.099931   \n",
       "1                                 11.950531   \n",
       "2                                 11.912783   \n",
       "3                                 11.999550   \n",
       "4                                 11.953070   \n",
       "\n",
       "   secondary_cleaner.state.floatbank4_b_level  \\\n",
       "0                                 -504.715942   \n",
       "1                                 -501.331529   \n",
       "2                                 -501.133383   \n",
       "3                                 -501.193686   \n",
       "4                                 -501.053894   \n",
       "\n",
       "   secondary_cleaner.state.floatbank5_a_air  \\\n",
       "0                                  9.925633   \n",
       "1                                 10.039245   \n",
       "2                                 10.070913   \n",
       "3                                  9.970366   \n",
       "4                                  9.925709   \n",
       "\n",
       "   secondary_cleaner.state.floatbank5_a_level  \\\n",
       "0                                 -498.310211   \n",
       "1                                 -500.169983   \n",
       "2                                 -500.129135   \n",
       "3                                 -499.201640   \n",
       "4                                 -501.686727   \n",
       "\n",
       "   secondary_cleaner.state.floatbank5_b_air  \\\n",
       "0                                  8.079666   \n",
       "1                                  7.984757   \n",
       "2                                  8.013877   \n",
       "3                                  7.977324   \n",
       "4                                  7.894242   \n",
       "\n",
       "   secondary_cleaner.state.floatbank5_b_level  \\\n",
       "0                                 -500.470978   \n",
       "1                                 -500.582168   \n",
       "2                                 -500.517572   \n",
       "3                                 -500.255908   \n",
       "4                                 -500.356035   \n",
       "\n",
       "   secondary_cleaner.state.floatbank6_a_air  \\\n",
       "0                                 14.151341   \n",
       "1                                 13.998353   \n",
       "2                                 14.028663   \n",
       "3                                 14.005551   \n",
       "4                                 13.996647   \n",
       "\n",
       "   secondary_cleaner.state.floatbank6_a_level  \\\n",
       "0                                 -605.841980   \n",
       "1                                 -599.787184   \n",
       "2                                 -601.427363   \n",
       "3                                 -599.996129   \n",
       "4                                 -601.496691   \n",
       "\n",
       "   secondary_cleaner.output.tail_au  secondary_cleaner.output.tail_ag  \\\n",
       "0                          2.606185                         14.500184   \n",
       "1                          2.488248                         14.265474   \n",
       "2                          2.458187                         14.115662   \n",
       "3                          2.322062                         13.732071   \n",
       "4                          2.330448                         14.079996   \n",
       "\n",
       "   secondary_cleaner.output.tail_pb  secondary_cleaner.output.tail_sol  \\\n",
       "0                          4.694824                           8.764648   \n",
       "1                          4.592547                           9.001494   \n",
       "2                          4.624775                           8.842896   \n",
       "3                          4.482453                           9.122857   \n",
       "4                          4.470737                           8.871028   \n",
       "\n",
       "   final.output.concentrate_au  final.output.concentrate_ag  \\\n",
       "0                    42.192020                     6.055403   \n",
       "1                    42.701629                     6.029369   \n",
       "2                    42.657501                     6.055926   \n",
       "3                    42.689819                     6.047977   \n",
       "4                    42.774141                     6.148599   \n",
       "\n",
       "   final.output.concentrate_pb  final.output.concentrate_sol  \\\n",
       "0                     9.889648                      5.507324   \n",
       "1                     9.968944                      5.257781   \n",
       "2                    10.213995                      5.383759   \n",
       "3                     9.977019                      4.858634   \n",
       "4                    10.142511                      4.939416   \n",
       "\n",
       "   final.output.recovery  final.output.tail_au  final.output.tail_ag  \\\n",
       "0              70.541216              2.143149             10.411962   \n",
       "1              69.266198              2.224930             10.462676   \n",
       "2              68.116445              2.257889             10.507046   \n",
       "3              68.347543              2.146849             10.422762   \n",
       "4              66.927016              2.055292             10.360302   \n",
       "\n",
       "   final.output.tail_pb  final.output.tail_sol  \n",
       "0              0.895447              16.904297  \n",
       "1              0.927452              16.634514  \n",
       "2              0.953716              16.208849  \n",
       "3              0.883763              16.532835  \n",
       "4              0.792826              16.525686  "
      ]
     },
     "metadata": {},
     "output_type": "display_data"
    },
    {
     "name": "stdout",
     "output_type": "stream",
     "text": [
      "<class 'pandas.core.frame.DataFrame'>\n",
      "RangeIndex: 14579 entries, 0 to 14578\n",
      "Data columns (total 87 columns):\n",
      " #   Column                                              Non-Null Count  Dtype  \n",
      "---  ------                                              --------------  -----  \n",
      " 0   date                                                14579 non-null  object \n",
      " 1   rougher.input.feed_au                               14579 non-null  float64\n",
      " 2   rougher.input.feed_ag                               14579 non-null  float64\n",
      " 3   rougher.input.feed_pb                               14507 non-null  float64\n",
      " 4   rougher.input.feed_sol                              14502 non-null  float64\n",
      " 5   rougher.input.feed_rate                             14572 non-null  float64\n",
      " 6   rougher.input.feed_size                             14478 non-null  float64\n",
      " 7   rougher.input.floatbank10_sulfate                   14548 non-null  float64\n",
      " 8   rougher.input.floatbank10_xanthate                  14572 non-null  float64\n",
      " 9   rougher.state.floatbank10_a_air                     14579 non-null  float64\n",
      " 10  rougher.state.floatbank10_a_level                   14579 non-null  float64\n",
      " 11  rougher.state.floatbank10_b_air                     14579 non-null  float64\n",
      " 12  rougher.state.floatbank10_b_level                   14579 non-null  float64\n",
      " 13  rougher.state.floatbank10_c_air                     14579 non-null  float64\n",
      " 14  rougher.state.floatbank10_c_level                   14579 non-null  float64\n",
      " 15  rougher.state.floatbank10_d_air                     14579 non-null  float64\n",
      " 16  rougher.state.floatbank10_d_level                   14579 non-null  float64\n",
      " 17  rougher.state.floatbank10_e_air                     14150 non-null  float64\n",
      " 18  rougher.state.floatbank10_e_level                   14579 non-null  float64\n",
      " 19  rougher.state.floatbank10_f_air                     14579 non-null  float64\n",
      " 20  rougher.state.floatbank10_f_level                   14579 non-null  float64\n",
      " 21  rougher.input.floatbank11_sulfate                   14543 non-null  float64\n",
      " 22  rougher.input.floatbank11_xanthate                  14172 non-null  float64\n",
      " 23  rougher.calculation.sulfate_to_au_concentrate       14578 non-null  float64\n",
      " 24  rougher.calculation.floatbank10_sulfate_to_au_feed  14578 non-null  float64\n",
      " 25  rougher.calculation.floatbank11_sulfate_to_au_feed  14578 non-null  float64\n",
      " 26  rougher.calculation.au_pb_ratio                     14579 non-null  float64\n",
      " 27  rougher.output.concentrate_au                       14579 non-null  float64\n",
      " 28  rougher.output.concentrate_ag                       14579 non-null  float64\n",
      " 29  rougher.output.concentrate_pb                       14579 non-null  float64\n",
      " 30  rougher.output.concentrate_sol                      14561 non-null  float64\n",
      " 31  rougher.output.recovery                             14579 non-null  float64\n",
      " 32  rougher.output.tail_au                              14579 non-null  float64\n",
      " 33  rougher.output.tail_ag                              14578 non-null  float64\n",
      " 34  rougher.output.tail_pb                              14579 non-null  float64\n",
      " 35  rougher.output.tail_sol                             14579 non-null  float64\n",
      " 36  primary_cleaner.input.sulfate                       14556 non-null  float64\n",
      " 37  primary_cleaner.input.depressant                    14551 non-null  float64\n",
      " 38  primary_cleaner.input.feed_size                     14579 non-null  float64\n",
      " 39  primary_cleaner.input.xanthate                      14518 non-null  float64\n",
      " 40  primary_cleaner.state.floatbank8_a_air              14576 non-null  float64\n",
      " 41  primary_cleaner.state.floatbank8_a_level            14579 non-null  float64\n",
      " 42  primary_cleaner.state.floatbank8_b_air              14576 non-null  float64\n",
      " 43  primary_cleaner.state.floatbank8_b_level            14579 non-null  float64\n",
      " 44  primary_cleaner.state.floatbank8_c_air              14579 non-null  float64\n",
      " 45  primary_cleaner.state.floatbank8_c_level            14579 non-null  float64\n",
      " 46  primary_cleaner.state.floatbank8_d_air              14578 non-null  float64\n",
      " 47  primary_cleaner.state.floatbank8_d_level            14579 non-null  float64\n",
      " 48  primary_cleaner.output.concentrate_au               14579 non-null  float64\n",
      " 49  primary_cleaner.output.concentrate_ag               14579 non-null  float64\n",
      " 50  primary_cleaner.output.concentrate_pb               14491 non-null  float64\n",
      " 51  primary_cleaner.output.concentrate_sol              14314 non-null  float64\n",
      " 52  primary_cleaner.output.tail_au                      14579 non-null  float64\n",
      " 53  primary_cleaner.output.tail_ag                      14575 non-null  float64\n",
      " 54  primary_cleaner.output.tail_pb                      14573 non-null  float64\n",
      " 55  primary_cleaner.output.tail_sol                     14534 non-null  float64\n",
      " 56  secondary_cleaner.state.floatbank2_a_air            14485 non-null  float64\n",
      " 57  secondary_cleaner.state.floatbank2_a_level          14579 non-null  float64\n",
      " 58  secondary_cleaner.state.floatbank2_b_air            14557 non-null  float64\n",
      " 59  secondary_cleaner.state.floatbank2_b_level          14579 non-null  float64\n",
      " 60  secondary_cleaner.state.floatbank3_a_air            14567 non-null  float64\n",
      " 61  secondary_cleaner.state.floatbank3_a_level          14579 non-null  float64\n",
      " 62  secondary_cleaner.state.floatbank3_b_air            14579 non-null  float64\n",
      " 63  secondary_cleaner.state.floatbank3_b_level          14579 non-null  float64\n",
      " 64  secondary_cleaner.state.floatbank4_a_air            14574 non-null  float64\n",
      " 65  secondary_cleaner.state.floatbank4_a_level          14579 non-null  float64\n",
      " 66  secondary_cleaner.state.floatbank4_b_air            14579 non-null  float64\n",
      " 67  secondary_cleaner.state.floatbank4_b_level          14579 non-null  float64\n",
      " 68  secondary_cleaner.state.floatbank5_a_air            14579 non-null  float64\n",
      " 69  secondary_cleaner.state.floatbank5_a_level          14579 non-null  float64\n",
      " 70  secondary_cleaner.state.floatbank5_b_air            14579 non-null  float64\n",
      " 71  secondary_cleaner.state.floatbank5_b_level          14579 non-null  float64\n",
      " 72  secondary_cleaner.state.floatbank6_a_air            14578 non-null  float64\n",
      " 73  secondary_cleaner.state.floatbank6_a_level          14579 non-null  float64\n",
      " 74  secondary_cleaner.output.tail_au                    14579 non-null  float64\n",
      " 75  secondary_cleaner.output.tail_ag                    14578 non-null  float64\n",
      " 76  secondary_cleaner.output.tail_pb                    14575 non-null  float64\n",
      " 77  secondary_cleaner.output.tail_sol                   13659 non-null  float64\n",
      " 78  final.output.concentrate_au                         14579 non-null  float64\n",
      " 79  final.output.concentrate_ag                         14578 non-null  float64\n",
      " 80  final.output.concentrate_pb                         14578 non-null  float64\n",
      " 81  final.output.concentrate_sol                        14387 non-null  float64\n",
      " 82  final.output.recovery                               14579 non-null  float64\n",
      " 83  final.output.tail_au                                14579 non-null  float64\n",
      " 84  final.output.tail_ag                                14578 non-null  float64\n",
      " 85  final.output.tail_pb                                14504 non-null  float64\n",
      " 86  final.output.tail_sol                               14574 non-null  float64\n",
      "dtypes: float64(86), object(1)\n",
      "memory usage: 9.7+ MB\n"
     ]
    },
    {
     "data": {
      "text/html": [
       "<div>\n",
       "<style scoped>\n",
       "    .dataframe tbody tr th:only-of-type {\n",
       "        vertical-align: middle;\n",
       "    }\n",
       "\n",
       "    .dataframe tbody tr th {\n",
       "        vertical-align: top;\n",
       "    }\n",
       "\n",
       "    .dataframe thead th {\n",
       "        text-align: right;\n",
       "    }\n",
       "</style>\n",
       "<table border=\"1\" class=\"dataframe\">\n",
       "  <thead>\n",
       "    <tr style=\"text-align: right;\">\n",
       "      <th></th>\n",
       "      <th>date</th>\n",
       "      <th>rougher.input.feed_au</th>\n",
       "      <th>rougher.input.feed_ag</th>\n",
       "      <th>rougher.input.feed_pb</th>\n",
       "      <th>rougher.input.feed_sol</th>\n",
       "      <th>rougher.input.feed_rate</th>\n",
       "      <th>rougher.input.feed_size</th>\n",
       "      <th>rougher.input.floatbank10_sulfate</th>\n",
       "      <th>rougher.input.floatbank10_xanthate</th>\n",
       "      <th>rougher.state.floatbank10_a_air</th>\n",
       "      <th>rougher.state.floatbank10_a_level</th>\n",
       "      <th>rougher.state.floatbank10_b_air</th>\n",
       "      <th>rougher.state.floatbank10_b_level</th>\n",
       "      <th>rougher.state.floatbank10_c_air</th>\n",
       "      <th>rougher.state.floatbank10_c_level</th>\n",
       "      <th>rougher.state.floatbank10_d_air</th>\n",
       "      <th>rougher.state.floatbank10_d_level</th>\n",
       "      <th>rougher.state.floatbank10_e_air</th>\n",
       "      <th>rougher.state.floatbank10_e_level</th>\n",
       "      <th>rougher.state.floatbank10_f_air</th>\n",
       "      <th>rougher.state.floatbank10_f_level</th>\n",
       "      <th>rougher.input.floatbank11_sulfate</th>\n",
       "      <th>rougher.input.floatbank11_xanthate</th>\n",
       "      <th>rougher.calculation.sulfate_to_au_concentrate</th>\n",
       "      <th>rougher.calculation.floatbank10_sulfate_to_au_feed</th>\n",
       "      <th>rougher.calculation.floatbank11_sulfate_to_au_feed</th>\n",
       "      <th>rougher.calculation.au_pb_ratio</th>\n",
       "      <th>rougher.output.concentrate_au</th>\n",
       "      <th>rougher.output.concentrate_ag</th>\n",
       "      <th>rougher.output.concentrate_pb</th>\n",
       "      <th>rougher.output.concentrate_sol</th>\n",
       "      <th>rougher.output.recovery</th>\n",
       "      <th>rougher.output.tail_au</th>\n",
       "      <th>rougher.output.tail_ag</th>\n",
       "      <th>rougher.output.tail_pb</th>\n",
       "      <th>rougher.output.tail_sol</th>\n",
       "      <th>primary_cleaner.input.sulfate</th>\n",
       "      <th>primary_cleaner.input.depressant</th>\n",
       "      <th>primary_cleaner.input.feed_size</th>\n",
       "      <th>primary_cleaner.input.xanthate</th>\n",
       "      <th>primary_cleaner.state.floatbank8_a_air</th>\n",
       "      <th>primary_cleaner.state.floatbank8_a_level</th>\n",
       "      <th>primary_cleaner.state.floatbank8_b_air</th>\n",
       "      <th>primary_cleaner.state.floatbank8_b_level</th>\n",
       "      <th>primary_cleaner.state.floatbank8_c_air</th>\n",
       "      <th>primary_cleaner.state.floatbank8_c_level</th>\n",
       "      <th>primary_cleaner.state.floatbank8_d_air</th>\n",
       "      <th>primary_cleaner.state.floatbank8_d_level</th>\n",
       "      <th>primary_cleaner.output.concentrate_au</th>\n",
       "      <th>primary_cleaner.output.concentrate_ag</th>\n",
       "      <th>primary_cleaner.output.concentrate_pb</th>\n",
       "      <th>primary_cleaner.output.concentrate_sol</th>\n",
       "      <th>primary_cleaner.output.tail_au</th>\n",
       "      <th>primary_cleaner.output.tail_ag</th>\n",
       "      <th>primary_cleaner.output.tail_pb</th>\n",
       "      <th>primary_cleaner.output.tail_sol</th>\n",
       "      <th>secondary_cleaner.state.floatbank2_a_air</th>\n",
       "      <th>secondary_cleaner.state.floatbank2_a_level</th>\n",
       "      <th>secondary_cleaner.state.floatbank2_b_air</th>\n",
       "      <th>secondary_cleaner.state.floatbank2_b_level</th>\n",
       "      <th>secondary_cleaner.state.floatbank3_a_air</th>\n",
       "      <th>secondary_cleaner.state.floatbank3_a_level</th>\n",
       "      <th>secondary_cleaner.state.floatbank3_b_air</th>\n",
       "      <th>secondary_cleaner.state.floatbank3_b_level</th>\n",
       "      <th>secondary_cleaner.state.floatbank4_a_air</th>\n",
       "      <th>secondary_cleaner.state.floatbank4_a_level</th>\n",
       "      <th>secondary_cleaner.state.floatbank4_b_air</th>\n",
       "      <th>secondary_cleaner.state.floatbank4_b_level</th>\n",
       "      <th>secondary_cleaner.state.floatbank5_a_air</th>\n",
       "      <th>secondary_cleaner.state.floatbank5_a_level</th>\n",
       "      <th>secondary_cleaner.state.floatbank5_b_air</th>\n",
       "      <th>secondary_cleaner.state.floatbank5_b_level</th>\n",
       "      <th>secondary_cleaner.state.floatbank6_a_air</th>\n",
       "      <th>secondary_cleaner.state.floatbank6_a_level</th>\n",
       "      <th>secondary_cleaner.output.tail_au</th>\n",
       "      <th>secondary_cleaner.output.tail_ag</th>\n",
       "      <th>secondary_cleaner.output.tail_pb</th>\n",
       "      <th>secondary_cleaner.output.tail_sol</th>\n",
       "      <th>final.output.concentrate_au</th>\n",
       "      <th>final.output.concentrate_ag</th>\n",
       "      <th>final.output.concentrate_pb</th>\n",
       "      <th>final.output.concentrate_sol</th>\n",
       "      <th>final.output.recovery</th>\n",
       "      <th>final.output.tail_au</th>\n",
       "      <th>final.output.tail_ag</th>\n",
       "      <th>final.output.tail_pb</th>\n",
       "      <th>final.output.tail_sol</th>\n",
       "    </tr>\n",
       "  </thead>\n",
       "  <tbody>\n",
       "    <tr>\n",
       "      <th>0</th>\n",
       "      <td>2016-01-15 00:00:00</td>\n",
       "      <td>6.486150</td>\n",
       "      <td>6.100378</td>\n",
       "      <td>2.284912</td>\n",
       "      <td>36.808594</td>\n",
       "      <td>523.546326</td>\n",
       "      <td>55.486599</td>\n",
       "      <td>11.986616</td>\n",
       "      <td>6.007990</td>\n",
       "      <td>999.706909</td>\n",
       "      <td>-404.066986</td>\n",
       "      <td>1603.011353</td>\n",
       "      <td>-434.715027</td>\n",
       "      <td>1602.375000</td>\n",
       "      <td>-442.204468</td>\n",
       "      <td>1598.937256</td>\n",
       "      <td>-451.294128</td>\n",
       "      <td>1404.472046</td>\n",
       "      <td>-455.462982</td>\n",
       "      <td>1416.354980</td>\n",
       "      <td>-451.939636</td>\n",
       "      <td>11.836743</td>\n",
       "      <td>6.005818</td>\n",
       "      <td>41885.707031</td>\n",
       "      <td>3481.779053</td>\n",
       "      <td>3520.337158</td>\n",
       "      <td>2.838687</td>\n",
       "      <td>19.793808</td>\n",
       "      <td>11.500771</td>\n",
       "      <td>7.101074</td>\n",
       "      <td>28.029297</td>\n",
       "      <td>87.107763</td>\n",
       "      <td>1.170244</td>\n",
       "      <td>5.008018</td>\n",
       "      <td>0.508728</td>\n",
       "      <td>19.154297</td>\n",
       "      <td>127.092003</td>\n",
       "      <td>10.128295</td>\n",
       "      <td>7.25</td>\n",
       "      <td>0.988759</td>\n",
       "      <td>1549.775757</td>\n",
       "      <td>-498.912140</td>\n",
       "      <td>1551.434204</td>\n",
       "      <td>-516.403442</td>\n",
       "      <td>1549.873901</td>\n",
       "      <td>-498.666595</td>\n",
       "      <td>1554.367432</td>\n",
       "      <td>-493.428131</td>\n",
       "      <td>34.174427</td>\n",
       "      <td>8.547551</td>\n",
       "      <td>10.389648</td>\n",
       "      <td>19.529297</td>\n",
       "      <td>2.106679</td>\n",
       "      <td>14.936526</td>\n",
       "      <td>2.534912</td>\n",
       "      <td>7.476074</td>\n",
       "      <td>25.853109</td>\n",
       "      <td>-498.526489</td>\n",
       "      <td>23.893660</td>\n",
       "      <td>-501.406281</td>\n",
       "      <td>23.961798</td>\n",
       "      <td>-495.262817</td>\n",
       "      <td>21.940409</td>\n",
       "      <td>-499.340973</td>\n",
       "      <td>14.016835</td>\n",
       "      <td>-502.488007</td>\n",
       "      <td>12.099931</td>\n",
       "      <td>-504.715942</td>\n",
       "      <td>9.925633</td>\n",
       "      <td>-498.310211</td>\n",
       "      <td>8.079666</td>\n",
       "      <td>-500.470978</td>\n",
       "      <td>14.151341</td>\n",
       "      <td>-605.841980</td>\n",
       "      <td>2.606185</td>\n",
       "      <td>14.500184</td>\n",
       "      <td>4.694824</td>\n",
       "      <td>8.764648</td>\n",
       "      <td>42.192020</td>\n",
       "      <td>6.055403</td>\n",
       "      <td>9.889648</td>\n",
       "      <td>5.507324</td>\n",
       "      <td>70.541216</td>\n",
       "      <td>2.143149</td>\n",
       "      <td>10.411962</td>\n",
       "      <td>0.895447</td>\n",
       "      <td>16.904297</td>\n",
       "    </tr>\n",
       "    <tr>\n",
       "      <th>1</th>\n",
       "      <td>2016-01-15 01:00:00</td>\n",
       "      <td>6.478583</td>\n",
       "      <td>6.161113</td>\n",
       "      <td>2.266033</td>\n",
       "      <td>35.753385</td>\n",
       "      <td>525.290581</td>\n",
       "      <td>57.278666</td>\n",
       "      <td>11.971193</td>\n",
       "      <td>6.005766</td>\n",
       "      <td>1000.286398</td>\n",
       "      <td>-400.065196</td>\n",
       "      <td>1600.754587</td>\n",
       "      <td>-449.953435</td>\n",
       "      <td>1600.479580</td>\n",
       "      <td>-449.830646</td>\n",
       "      <td>1600.527589</td>\n",
       "      <td>-449.953649</td>\n",
       "      <td>1399.227084</td>\n",
       "      <td>-450.869848</td>\n",
       "      <td>1399.719514</td>\n",
       "      <td>-450.119001</td>\n",
       "      <td>11.996163</td>\n",
       "      <td>6.012594</td>\n",
       "      <td>42050.861809</td>\n",
       "      <td>3498.370979</td>\n",
       "      <td>3489.981857</td>\n",
       "      <td>2.858998</td>\n",
       "      <td>20.050975</td>\n",
       "      <td>11.615865</td>\n",
       "      <td>7.278807</td>\n",
       "      <td>28.067063</td>\n",
       "      <td>86.843261</td>\n",
       "      <td>1.184827</td>\n",
       "      <td>4.955378</td>\n",
       "      <td>0.536689</td>\n",
       "      <td>18.965234</td>\n",
       "      <td>125.629232</td>\n",
       "      <td>10.296251</td>\n",
       "      <td>7.25</td>\n",
       "      <td>1.002663</td>\n",
       "      <td>1576.166671</td>\n",
       "      <td>-500.904965</td>\n",
       "      <td>1575.950626</td>\n",
       "      <td>-499.865889</td>\n",
       "      <td>1575.994189</td>\n",
       "      <td>-499.315107</td>\n",
       "      <td>1574.479259</td>\n",
       "      <td>-498.931665</td>\n",
       "      <td>34.118526</td>\n",
       "      <td>8.558743</td>\n",
       "      <td>10.497069</td>\n",
       "      <td>19.369147</td>\n",
       "      <td>2.353017</td>\n",
       "      <td>16.250511</td>\n",
       "      <td>3.049646</td>\n",
       "      <td>6.733907</td>\n",
       "      <td>25.880539</td>\n",
       "      <td>-499.989656</td>\n",
       "      <td>23.889530</td>\n",
       "      <td>-500.372428</td>\n",
       "      <td>23.970550</td>\n",
       "      <td>-500.085473</td>\n",
       "      <td>22.085714</td>\n",
       "      <td>-499.446897</td>\n",
       "      <td>13.992281</td>\n",
       "      <td>-505.503262</td>\n",
       "      <td>11.950531</td>\n",
       "      <td>-501.331529</td>\n",
       "      <td>10.039245</td>\n",
       "      <td>-500.169983</td>\n",
       "      <td>7.984757</td>\n",
       "      <td>-500.582168</td>\n",
       "      <td>13.998353</td>\n",
       "      <td>-599.787184</td>\n",
       "      <td>2.488248</td>\n",
       "      <td>14.265474</td>\n",
       "      <td>4.592547</td>\n",
       "      <td>9.001494</td>\n",
       "      <td>42.701629</td>\n",
       "      <td>6.029369</td>\n",
       "      <td>9.968944</td>\n",
       "      <td>5.257781</td>\n",
       "      <td>69.266198</td>\n",
       "      <td>2.224930</td>\n",
       "      <td>10.462676</td>\n",
       "      <td>0.927452</td>\n",
       "      <td>16.634514</td>\n",
       "    </tr>\n",
       "    <tr>\n",
       "      <th>2</th>\n",
       "      <td>2016-01-15 02:00:00</td>\n",
       "      <td>6.362222</td>\n",
       "      <td>6.116455</td>\n",
       "      <td>2.159622</td>\n",
       "      <td>35.971630</td>\n",
       "      <td>530.026610</td>\n",
       "      <td>57.510649</td>\n",
       "      <td>11.920603</td>\n",
       "      <td>6.197377</td>\n",
       "      <td>999.719565</td>\n",
       "      <td>-400.074028</td>\n",
       "      <td>1599.337330</td>\n",
       "      <td>-450.008530</td>\n",
       "      <td>1599.672797</td>\n",
       "      <td>-449.954491</td>\n",
       "      <td>1599.849325</td>\n",
       "      <td>-449.954185</td>\n",
       "      <td>1399.180945</td>\n",
       "      <td>-449.937588</td>\n",
       "      <td>1400.316682</td>\n",
       "      <td>-450.527147</td>\n",
       "      <td>11.920305</td>\n",
       "      <td>6.204633</td>\n",
       "      <td>42018.101184</td>\n",
       "      <td>3495.348910</td>\n",
       "      <td>3502.359819</td>\n",
       "      <td>2.945989</td>\n",
       "      <td>19.737170</td>\n",
       "      <td>11.695753</td>\n",
       "      <td>7.216833</td>\n",
       "      <td>27.454037</td>\n",
       "      <td>86.842308</td>\n",
       "      <td>1.162562</td>\n",
       "      <td>4.843460</td>\n",
       "      <td>0.546416</td>\n",
       "      <td>18.808533</td>\n",
       "      <td>123.819808</td>\n",
       "      <td>11.316280</td>\n",
       "      <td>7.25</td>\n",
       "      <td>0.991265</td>\n",
       "      <td>1601.556163</td>\n",
       "      <td>-499.997791</td>\n",
       "      <td>1600.386685</td>\n",
       "      <td>-500.607762</td>\n",
       "      <td>1602.003542</td>\n",
       "      <td>-500.870069</td>\n",
       "      <td>1599.541515</td>\n",
       "      <td>-499.827444</td>\n",
       "      <td>33.969464</td>\n",
       "      <td>8.603505</td>\n",
       "      <td>10.354494</td>\n",
       "      <td>19.167579</td>\n",
       "      <td>2.416800</td>\n",
       "      <td>16.491823</td>\n",
       "      <td>3.124664</td>\n",
       "      <td>6.471768</td>\n",
       "      <td>26.005245</td>\n",
       "      <td>-499.929616</td>\n",
       "      <td>23.886657</td>\n",
       "      <td>-499.951928</td>\n",
       "      <td>23.913535</td>\n",
       "      <td>-499.442343</td>\n",
       "      <td>23.957717</td>\n",
       "      <td>-499.901982</td>\n",
       "      <td>14.015015</td>\n",
       "      <td>-502.520901</td>\n",
       "      <td>11.912783</td>\n",
       "      <td>-501.133383</td>\n",
       "      <td>10.070913</td>\n",
       "      <td>-500.129135</td>\n",
       "      <td>8.013877</td>\n",
       "      <td>-500.517572</td>\n",
       "      <td>14.028663</td>\n",
       "      <td>-601.427363</td>\n",
       "      <td>2.458187</td>\n",
       "      <td>14.115662</td>\n",
       "      <td>4.624775</td>\n",
       "      <td>8.842896</td>\n",
       "      <td>42.657501</td>\n",
       "      <td>6.055926</td>\n",
       "      <td>10.213995</td>\n",
       "      <td>5.383759</td>\n",
       "      <td>68.116445</td>\n",
       "      <td>2.257889</td>\n",
       "      <td>10.507046</td>\n",
       "      <td>0.953716</td>\n",
       "      <td>16.208849</td>\n",
       "    </tr>\n",
       "    <tr>\n",
       "      <th>3</th>\n",
       "      <td>2016-01-15 03:00:00</td>\n",
       "      <td>6.118189</td>\n",
       "      <td>6.043309</td>\n",
       "      <td>2.037807</td>\n",
       "      <td>36.862241</td>\n",
       "      <td>542.590390</td>\n",
       "      <td>57.792734</td>\n",
       "      <td>11.630094</td>\n",
       "      <td>6.203177</td>\n",
       "      <td>999.814770</td>\n",
       "      <td>-400.200179</td>\n",
       "      <td>1600.059442</td>\n",
       "      <td>-450.619948</td>\n",
       "      <td>1600.012842</td>\n",
       "      <td>-449.910497</td>\n",
       "      <td>1597.725177</td>\n",
       "      <td>-450.130127</td>\n",
       "      <td>1400.943157</td>\n",
       "      <td>-450.030142</td>\n",
       "      <td>1400.234743</td>\n",
       "      <td>-449.790835</td>\n",
       "      <td>11.692450</td>\n",
       "      <td>6.196578</td>\n",
       "      <td>42029.447991</td>\n",
       "      <td>3498.578313</td>\n",
       "      <td>3499.162912</td>\n",
       "      <td>3.002340</td>\n",
       "      <td>19.320810</td>\n",
       "      <td>11.915047</td>\n",
       "      <td>7.175616</td>\n",
       "      <td>27.341277</td>\n",
       "      <td>87.226430</td>\n",
       "      <td>1.079755</td>\n",
       "      <td>4.655288</td>\n",
       "      <td>0.542525</td>\n",
       "      <td>19.330200</td>\n",
       "      <td>122.270188</td>\n",
       "      <td>11.322140</td>\n",
       "      <td>7.25</td>\n",
       "      <td>0.996739</td>\n",
       "      <td>1599.968720</td>\n",
       "      <td>-500.951778</td>\n",
       "      <td>1600.659236</td>\n",
       "      <td>-499.677094</td>\n",
       "      <td>1600.304144</td>\n",
       "      <td>-500.727997</td>\n",
       "      <td>1600.449520</td>\n",
       "      <td>-500.052575</td>\n",
       "      <td>28.260743</td>\n",
       "      <td>7.221879</td>\n",
       "      <td>8.496563</td>\n",
       "      <td>15.978538</td>\n",
       "      <td>2.262051</td>\n",
       "      <td>16.024359</td>\n",
       "      <td>2.960362</td>\n",
       "      <td>6.843791</td>\n",
       "      <td>25.942508</td>\n",
       "      <td>-499.176749</td>\n",
       "      <td>23.955516</td>\n",
       "      <td>-499.848796</td>\n",
       "      <td>23.966838</td>\n",
       "      <td>-500.008812</td>\n",
       "      <td>23.954443</td>\n",
       "      <td>-499.944710</td>\n",
       "      <td>14.036510</td>\n",
       "      <td>-500.857308</td>\n",
       "      <td>11.999550</td>\n",
       "      <td>-501.193686</td>\n",
       "      <td>9.970366</td>\n",
       "      <td>-499.201640</td>\n",
       "      <td>7.977324</td>\n",
       "      <td>-500.255908</td>\n",
       "      <td>14.005551</td>\n",
       "      <td>-599.996129</td>\n",
       "      <td>2.322062</td>\n",
       "      <td>13.732071</td>\n",
       "      <td>4.482453</td>\n",
       "      <td>9.122857</td>\n",
       "      <td>42.689819</td>\n",
       "      <td>6.047977</td>\n",
       "      <td>9.977019</td>\n",
       "      <td>4.858634</td>\n",
       "      <td>68.347543</td>\n",
       "      <td>2.146849</td>\n",
       "      <td>10.422762</td>\n",
       "      <td>0.883763</td>\n",
       "      <td>16.532835</td>\n",
       "    </tr>\n",
       "    <tr>\n",
       "      <th>4</th>\n",
       "      <td>2016-01-15 04:00:00</td>\n",
       "      <td>5.663707</td>\n",
       "      <td>6.060915</td>\n",
       "      <td>1.786875</td>\n",
       "      <td>34.347666</td>\n",
       "      <td>540.531893</td>\n",
       "      <td>56.047189</td>\n",
       "      <td>10.957755</td>\n",
       "      <td>6.198826</td>\n",
       "      <td>999.678690</td>\n",
       "      <td>-399.752729</td>\n",
       "      <td>1600.208824</td>\n",
       "      <td>-449.599614</td>\n",
       "      <td>1600.357732</td>\n",
       "      <td>-450.034364</td>\n",
       "      <td>1599.759049</td>\n",
       "      <td>-449.909799</td>\n",
       "      <td>1401.560902</td>\n",
       "      <td>-448.877187</td>\n",
       "      <td>1401.160227</td>\n",
       "      <td>-450.407128</td>\n",
       "      <td>10.960521</td>\n",
       "      <td>6.194897</td>\n",
       "      <td>42125.354245</td>\n",
       "      <td>3494.800771</td>\n",
       "      <td>3506.679315</td>\n",
       "      <td>3.169615</td>\n",
       "      <td>19.216101</td>\n",
       "      <td>12.411054</td>\n",
       "      <td>7.240205</td>\n",
       "      <td>27.041023</td>\n",
       "      <td>86.688794</td>\n",
       "      <td>1.012642</td>\n",
       "      <td>4.552800</td>\n",
       "      <td>0.515438</td>\n",
       "      <td>19.267422</td>\n",
       "      <td>117.988169</td>\n",
       "      <td>11.913613</td>\n",
       "      <td>7.25</td>\n",
       "      <td>1.009869</td>\n",
       "      <td>1601.339707</td>\n",
       "      <td>-498.975456</td>\n",
       "      <td>1601.437854</td>\n",
       "      <td>-500.323246</td>\n",
       "      <td>1599.581894</td>\n",
       "      <td>-500.888152</td>\n",
       "      <td>1602.649541</td>\n",
       "      <td>-500.593010</td>\n",
       "      <td>33.044932</td>\n",
       "      <td>9.089428</td>\n",
       "      <td>9.986786</td>\n",
       "      <td>19.199864</td>\n",
       "      <td>2.277073</td>\n",
       "      <td>16.480185</td>\n",
       "      <td>3.112100</td>\n",
       "      <td>6.550154</td>\n",
       "      <td>26.024787</td>\n",
       "      <td>-500.279091</td>\n",
       "      <td>23.955345</td>\n",
       "      <td>-500.593614</td>\n",
       "      <td>23.985703</td>\n",
       "      <td>-500.083811</td>\n",
       "      <td>23.958945</td>\n",
       "      <td>-499.990309</td>\n",
       "      <td>14.027298</td>\n",
       "      <td>-499.838632</td>\n",
       "      <td>11.953070</td>\n",
       "      <td>-501.053894</td>\n",
       "      <td>9.925709</td>\n",
       "      <td>-501.686727</td>\n",
       "      <td>7.894242</td>\n",
       "      <td>-500.356035</td>\n",
       "      <td>13.996647</td>\n",
       "      <td>-601.496691</td>\n",
       "      <td>2.330448</td>\n",
       "      <td>14.079996</td>\n",
       "      <td>4.470737</td>\n",
       "      <td>8.871028</td>\n",
       "      <td>42.774141</td>\n",
       "      <td>6.148599</td>\n",
       "      <td>10.142511</td>\n",
       "      <td>4.939416</td>\n",
       "      <td>66.927016</td>\n",
       "      <td>2.055292</td>\n",
       "      <td>10.360302</td>\n",
       "      <td>0.792826</td>\n",
       "      <td>16.525686</td>\n",
       "    </tr>\n",
       "  </tbody>\n",
       "</table>\n",
       "</div>"
      ],
      "text/plain": [
       "                  date  rougher.input.feed_au  rougher.input.feed_ag  \\\n",
       "0  2016-01-15 00:00:00               6.486150               6.100378   \n",
       "1  2016-01-15 01:00:00               6.478583               6.161113   \n",
       "2  2016-01-15 02:00:00               6.362222               6.116455   \n",
       "3  2016-01-15 03:00:00               6.118189               6.043309   \n",
       "4  2016-01-15 04:00:00               5.663707               6.060915   \n",
       "\n",
       "   rougher.input.feed_pb  rougher.input.feed_sol  rougher.input.feed_rate  \\\n",
       "0               2.284912               36.808594               523.546326   \n",
       "1               2.266033               35.753385               525.290581   \n",
       "2               2.159622               35.971630               530.026610   \n",
       "3               2.037807               36.862241               542.590390   \n",
       "4               1.786875               34.347666               540.531893   \n",
       "\n",
       "   rougher.input.feed_size  rougher.input.floatbank10_sulfate  \\\n",
       "0                55.486599                          11.986616   \n",
       "1                57.278666                          11.971193   \n",
       "2                57.510649                          11.920603   \n",
       "3                57.792734                          11.630094   \n",
       "4                56.047189                          10.957755   \n",
       "\n",
       "   rougher.input.floatbank10_xanthate  rougher.state.floatbank10_a_air  \\\n",
       "0                            6.007990                       999.706909   \n",
       "1                            6.005766                      1000.286398   \n",
       "2                            6.197377                       999.719565   \n",
       "3                            6.203177                       999.814770   \n",
       "4                            6.198826                       999.678690   \n",
       "\n",
       "   rougher.state.floatbank10_a_level  rougher.state.floatbank10_b_air  \\\n",
       "0                        -404.066986                      1603.011353   \n",
       "1                        -400.065196                      1600.754587   \n",
       "2                        -400.074028                      1599.337330   \n",
       "3                        -400.200179                      1600.059442   \n",
       "4                        -399.752729                      1600.208824   \n",
       "\n",
       "   rougher.state.floatbank10_b_level  rougher.state.floatbank10_c_air  \\\n",
       "0                        -434.715027                      1602.375000   \n",
       "1                        -449.953435                      1600.479580   \n",
       "2                        -450.008530                      1599.672797   \n",
       "3                        -450.619948                      1600.012842   \n",
       "4                        -449.599614                      1600.357732   \n",
       "\n",
       "   rougher.state.floatbank10_c_level  rougher.state.floatbank10_d_air  \\\n",
       "0                        -442.204468                      1598.937256   \n",
       "1                        -449.830646                      1600.527589   \n",
       "2                        -449.954491                      1599.849325   \n",
       "3                        -449.910497                      1597.725177   \n",
       "4                        -450.034364                      1599.759049   \n",
       "\n",
       "   rougher.state.floatbank10_d_level  rougher.state.floatbank10_e_air  \\\n",
       "0                        -451.294128                      1404.472046   \n",
       "1                        -449.953649                      1399.227084   \n",
       "2                        -449.954185                      1399.180945   \n",
       "3                        -450.130127                      1400.943157   \n",
       "4                        -449.909799                      1401.560902   \n",
       "\n",
       "   rougher.state.floatbank10_e_level  rougher.state.floatbank10_f_air  \\\n",
       "0                        -455.462982                      1416.354980   \n",
       "1                        -450.869848                      1399.719514   \n",
       "2                        -449.937588                      1400.316682   \n",
       "3                        -450.030142                      1400.234743   \n",
       "4                        -448.877187                      1401.160227   \n",
       "\n",
       "   rougher.state.floatbank10_f_level  rougher.input.floatbank11_sulfate  \\\n",
       "0                        -451.939636                          11.836743   \n",
       "1                        -450.119001                          11.996163   \n",
       "2                        -450.527147                          11.920305   \n",
       "3                        -449.790835                          11.692450   \n",
       "4                        -450.407128                          10.960521   \n",
       "\n",
       "   rougher.input.floatbank11_xanthate  \\\n",
       "0                            6.005818   \n",
       "1                            6.012594   \n",
       "2                            6.204633   \n",
       "3                            6.196578   \n",
       "4                            6.194897   \n",
       "\n",
       "   rougher.calculation.sulfate_to_au_concentrate  \\\n",
       "0                                   41885.707031   \n",
       "1                                   42050.861809   \n",
       "2                                   42018.101184   \n",
       "3                                   42029.447991   \n",
       "4                                   42125.354245   \n",
       "\n",
       "   rougher.calculation.floatbank10_sulfate_to_au_feed  \\\n",
       "0                                        3481.779053    \n",
       "1                                        3498.370979    \n",
       "2                                        3495.348910    \n",
       "3                                        3498.578313    \n",
       "4                                        3494.800771    \n",
       "\n",
       "   rougher.calculation.floatbank11_sulfate_to_au_feed  \\\n",
       "0                                        3520.337158    \n",
       "1                                        3489.981857    \n",
       "2                                        3502.359819    \n",
       "3                                        3499.162912    \n",
       "4                                        3506.679315    \n",
       "\n",
       "   rougher.calculation.au_pb_ratio  rougher.output.concentrate_au  \\\n",
       "0                         2.838687                      19.793808   \n",
       "1                         2.858998                      20.050975   \n",
       "2                         2.945989                      19.737170   \n",
       "3                         3.002340                      19.320810   \n",
       "4                         3.169615                      19.216101   \n",
       "\n",
       "   rougher.output.concentrate_ag  rougher.output.concentrate_pb  \\\n",
       "0                      11.500771                       7.101074   \n",
       "1                      11.615865                       7.278807   \n",
       "2                      11.695753                       7.216833   \n",
       "3                      11.915047                       7.175616   \n",
       "4                      12.411054                       7.240205   \n",
       "\n",
       "   rougher.output.concentrate_sol  rougher.output.recovery  \\\n",
       "0                       28.029297                87.107763   \n",
       "1                       28.067063                86.843261   \n",
       "2                       27.454037                86.842308   \n",
       "3                       27.341277                87.226430   \n",
       "4                       27.041023                86.688794   \n",
       "\n",
       "   rougher.output.tail_au  rougher.output.tail_ag  rougher.output.tail_pb  \\\n",
       "0                1.170244                5.008018                0.508728   \n",
       "1                1.184827                4.955378                0.536689   \n",
       "2                1.162562                4.843460                0.546416   \n",
       "3                1.079755                4.655288                0.542525   \n",
       "4                1.012642                4.552800                0.515438   \n",
       "\n",
       "   rougher.output.tail_sol  primary_cleaner.input.sulfate  \\\n",
       "0                19.154297                     127.092003   \n",
       "1                18.965234                     125.629232   \n",
       "2                18.808533                     123.819808   \n",
       "3                19.330200                     122.270188   \n",
       "4                19.267422                     117.988169   \n",
       "\n",
       "   primary_cleaner.input.depressant  primary_cleaner.input.feed_size  \\\n",
       "0                         10.128295                             7.25   \n",
       "1                         10.296251                             7.25   \n",
       "2                         11.316280                             7.25   \n",
       "3                         11.322140                             7.25   \n",
       "4                         11.913613                             7.25   \n",
       "\n",
       "   primary_cleaner.input.xanthate  primary_cleaner.state.floatbank8_a_air  \\\n",
       "0                        0.988759                             1549.775757   \n",
       "1                        1.002663                             1576.166671   \n",
       "2                        0.991265                             1601.556163   \n",
       "3                        0.996739                             1599.968720   \n",
       "4                        1.009869                             1601.339707   \n",
       "\n",
       "   primary_cleaner.state.floatbank8_a_level  \\\n",
       "0                               -498.912140   \n",
       "1                               -500.904965   \n",
       "2                               -499.997791   \n",
       "3                               -500.951778   \n",
       "4                               -498.975456   \n",
       "\n",
       "   primary_cleaner.state.floatbank8_b_air  \\\n",
       "0                             1551.434204   \n",
       "1                             1575.950626   \n",
       "2                             1600.386685   \n",
       "3                             1600.659236   \n",
       "4                             1601.437854   \n",
       "\n",
       "   primary_cleaner.state.floatbank8_b_level  \\\n",
       "0                               -516.403442   \n",
       "1                               -499.865889   \n",
       "2                               -500.607762   \n",
       "3                               -499.677094   \n",
       "4                               -500.323246   \n",
       "\n",
       "   primary_cleaner.state.floatbank8_c_air  \\\n",
       "0                             1549.873901   \n",
       "1                             1575.994189   \n",
       "2                             1602.003542   \n",
       "3                             1600.304144   \n",
       "4                             1599.581894   \n",
       "\n",
       "   primary_cleaner.state.floatbank8_c_level  \\\n",
       "0                               -498.666595   \n",
       "1                               -499.315107   \n",
       "2                               -500.870069   \n",
       "3                               -500.727997   \n",
       "4                               -500.888152   \n",
       "\n",
       "   primary_cleaner.state.floatbank8_d_air  \\\n",
       "0                             1554.367432   \n",
       "1                             1574.479259   \n",
       "2                             1599.541515   \n",
       "3                             1600.449520   \n",
       "4                             1602.649541   \n",
       "\n",
       "   primary_cleaner.state.floatbank8_d_level  \\\n",
       "0                               -493.428131   \n",
       "1                               -498.931665   \n",
       "2                               -499.827444   \n",
       "3                               -500.052575   \n",
       "4                               -500.593010   \n",
       "\n",
       "   primary_cleaner.output.concentrate_au  \\\n",
       "0                              34.174427   \n",
       "1                              34.118526   \n",
       "2                              33.969464   \n",
       "3                              28.260743   \n",
       "4                              33.044932   \n",
       "\n",
       "   primary_cleaner.output.concentrate_ag  \\\n",
       "0                               8.547551   \n",
       "1                               8.558743   \n",
       "2                               8.603505   \n",
       "3                               7.221879   \n",
       "4                               9.089428   \n",
       "\n",
       "   primary_cleaner.output.concentrate_pb  \\\n",
       "0                              10.389648   \n",
       "1                              10.497069   \n",
       "2                              10.354494   \n",
       "3                               8.496563   \n",
       "4                               9.986786   \n",
       "\n",
       "   primary_cleaner.output.concentrate_sol  primary_cleaner.output.tail_au  \\\n",
       "0                               19.529297                        2.106679   \n",
       "1                               19.369147                        2.353017   \n",
       "2                               19.167579                        2.416800   \n",
       "3                               15.978538                        2.262051   \n",
       "4                               19.199864                        2.277073   \n",
       "\n",
       "   primary_cleaner.output.tail_ag  primary_cleaner.output.tail_pb  \\\n",
       "0                       14.936526                        2.534912   \n",
       "1                       16.250511                        3.049646   \n",
       "2                       16.491823                        3.124664   \n",
       "3                       16.024359                        2.960362   \n",
       "4                       16.480185                        3.112100   \n",
       "\n",
       "   primary_cleaner.output.tail_sol  secondary_cleaner.state.floatbank2_a_air  \\\n",
       "0                         7.476074                                 25.853109   \n",
       "1                         6.733907                                 25.880539   \n",
       "2                         6.471768                                 26.005245   \n",
       "3                         6.843791                                 25.942508   \n",
       "4                         6.550154                                 26.024787   \n",
       "\n",
       "   secondary_cleaner.state.floatbank2_a_level  \\\n",
       "0                                 -498.526489   \n",
       "1                                 -499.989656   \n",
       "2                                 -499.929616   \n",
       "3                                 -499.176749   \n",
       "4                                 -500.279091   \n",
       "\n",
       "   secondary_cleaner.state.floatbank2_b_air  \\\n",
       "0                                 23.893660   \n",
       "1                                 23.889530   \n",
       "2                                 23.886657   \n",
       "3                                 23.955516   \n",
       "4                                 23.955345   \n",
       "\n",
       "   secondary_cleaner.state.floatbank2_b_level  \\\n",
       "0                                 -501.406281   \n",
       "1                                 -500.372428   \n",
       "2                                 -499.951928   \n",
       "3                                 -499.848796   \n",
       "4                                 -500.593614   \n",
       "\n",
       "   secondary_cleaner.state.floatbank3_a_air  \\\n",
       "0                                 23.961798   \n",
       "1                                 23.970550   \n",
       "2                                 23.913535   \n",
       "3                                 23.966838   \n",
       "4                                 23.985703   \n",
       "\n",
       "   secondary_cleaner.state.floatbank3_a_level  \\\n",
       "0                                 -495.262817   \n",
       "1                                 -500.085473   \n",
       "2                                 -499.442343   \n",
       "3                                 -500.008812   \n",
       "4                                 -500.083811   \n",
       "\n",
       "   secondary_cleaner.state.floatbank3_b_air  \\\n",
       "0                                 21.940409   \n",
       "1                                 22.085714   \n",
       "2                                 23.957717   \n",
       "3                                 23.954443   \n",
       "4                                 23.958945   \n",
       "\n",
       "   secondary_cleaner.state.floatbank3_b_level  \\\n",
       "0                                 -499.340973   \n",
       "1                                 -499.446897   \n",
       "2                                 -499.901982   \n",
       "3                                 -499.944710   \n",
       "4                                 -499.990309   \n",
       "\n",
       "   secondary_cleaner.state.floatbank4_a_air  \\\n",
       "0                                 14.016835   \n",
       "1                                 13.992281   \n",
       "2                                 14.015015   \n",
       "3                                 14.036510   \n",
       "4                                 14.027298   \n",
       "\n",
       "   secondary_cleaner.state.floatbank4_a_level  \\\n",
       "0                                 -502.488007   \n",
       "1                                 -505.503262   \n",
       "2                                 -502.520901   \n",
       "3                                 -500.857308   \n",
       "4                                 -499.838632   \n",
       "\n",
       "   secondary_cleaner.state.floatbank4_b_air  \\\n",
       "0                                 12.099931   \n",
       "1                                 11.950531   \n",
       "2                                 11.912783   \n",
       "3                                 11.999550   \n",
       "4                                 11.953070   \n",
       "\n",
       "   secondary_cleaner.state.floatbank4_b_level  \\\n",
       "0                                 -504.715942   \n",
       "1                                 -501.331529   \n",
       "2                                 -501.133383   \n",
       "3                                 -501.193686   \n",
       "4                                 -501.053894   \n",
       "\n",
       "   secondary_cleaner.state.floatbank5_a_air  \\\n",
       "0                                  9.925633   \n",
       "1                                 10.039245   \n",
       "2                                 10.070913   \n",
       "3                                  9.970366   \n",
       "4                                  9.925709   \n",
       "\n",
       "   secondary_cleaner.state.floatbank5_a_level  \\\n",
       "0                                 -498.310211   \n",
       "1                                 -500.169983   \n",
       "2                                 -500.129135   \n",
       "3                                 -499.201640   \n",
       "4                                 -501.686727   \n",
       "\n",
       "   secondary_cleaner.state.floatbank5_b_air  \\\n",
       "0                                  8.079666   \n",
       "1                                  7.984757   \n",
       "2                                  8.013877   \n",
       "3                                  7.977324   \n",
       "4                                  7.894242   \n",
       "\n",
       "   secondary_cleaner.state.floatbank5_b_level  \\\n",
       "0                                 -500.470978   \n",
       "1                                 -500.582168   \n",
       "2                                 -500.517572   \n",
       "3                                 -500.255908   \n",
       "4                                 -500.356035   \n",
       "\n",
       "   secondary_cleaner.state.floatbank6_a_air  \\\n",
       "0                                 14.151341   \n",
       "1                                 13.998353   \n",
       "2                                 14.028663   \n",
       "3                                 14.005551   \n",
       "4                                 13.996647   \n",
       "\n",
       "   secondary_cleaner.state.floatbank6_a_level  \\\n",
       "0                                 -605.841980   \n",
       "1                                 -599.787184   \n",
       "2                                 -601.427363   \n",
       "3                                 -599.996129   \n",
       "4                                 -601.496691   \n",
       "\n",
       "   secondary_cleaner.output.tail_au  secondary_cleaner.output.tail_ag  \\\n",
       "0                          2.606185                         14.500184   \n",
       "1                          2.488248                         14.265474   \n",
       "2                          2.458187                         14.115662   \n",
       "3                          2.322062                         13.732071   \n",
       "4                          2.330448                         14.079996   \n",
       "\n",
       "   secondary_cleaner.output.tail_pb  secondary_cleaner.output.tail_sol  \\\n",
       "0                          4.694824                           8.764648   \n",
       "1                          4.592547                           9.001494   \n",
       "2                          4.624775                           8.842896   \n",
       "3                          4.482453                           9.122857   \n",
       "4                          4.470737                           8.871028   \n",
       "\n",
       "   final.output.concentrate_au  final.output.concentrate_ag  \\\n",
       "0                    42.192020                     6.055403   \n",
       "1                    42.701629                     6.029369   \n",
       "2                    42.657501                     6.055926   \n",
       "3                    42.689819                     6.047977   \n",
       "4                    42.774141                     6.148599   \n",
       "\n",
       "   final.output.concentrate_pb  final.output.concentrate_sol  \\\n",
       "0                     9.889648                      5.507324   \n",
       "1                     9.968944                      5.257781   \n",
       "2                    10.213995                      5.383759   \n",
       "3                     9.977019                      4.858634   \n",
       "4                    10.142511                      4.939416   \n",
       "\n",
       "   final.output.recovery  final.output.tail_au  final.output.tail_ag  \\\n",
       "0              70.541216              2.143149             10.411962   \n",
       "1              69.266198              2.224930             10.462676   \n",
       "2              68.116445              2.257889             10.507046   \n",
       "3              68.347543              2.146849             10.422762   \n",
       "4              66.927016              2.055292             10.360302   \n",
       "\n",
       "   final.output.tail_pb  final.output.tail_sol  \n",
       "0              0.895447              16.904297  \n",
       "1              0.927452              16.634514  \n",
       "2              0.953716              16.208849  \n",
       "3              0.883763              16.532835  \n",
       "4              0.792826              16.525686  "
      ]
     },
     "metadata": {},
     "output_type": "display_data"
    },
    {
     "name": "stdout",
     "output_type": "stream",
     "text": [
      "<class 'pandas.core.frame.DataFrame'>\n",
      "RangeIndex: 14579 entries, 0 to 14578\n",
      "Data columns (total 87 columns):\n",
      " #   Column                                              Non-Null Count  Dtype  \n",
      "---  ------                                              --------------  -----  \n",
      " 0   date                                                14579 non-null  object \n",
      " 1   rougher.input.feed_au                               14579 non-null  float64\n",
      " 2   rougher.input.feed_ag                               14579 non-null  float64\n",
      " 3   rougher.input.feed_pb                               14507 non-null  float64\n",
      " 4   rougher.input.feed_sol                              14502 non-null  float64\n",
      " 5   rougher.input.feed_rate                             14572 non-null  float64\n",
      " 6   rougher.input.feed_size                             14478 non-null  float64\n",
      " 7   rougher.input.floatbank10_sulfate                   14548 non-null  float64\n",
      " 8   rougher.input.floatbank10_xanthate                  14572 non-null  float64\n",
      " 9   rougher.state.floatbank10_a_air                     14579 non-null  float64\n",
      " 10  rougher.state.floatbank10_a_level                   14579 non-null  float64\n",
      " 11  rougher.state.floatbank10_b_air                     14579 non-null  float64\n",
      " 12  rougher.state.floatbank10_b_level                   14579 non-null  float64\n",
      " 13  rougher.state.floatbank10_c_air                     14579 non-null  float64\n",
      " 14  rougher.state.floatbank10_c_level                   14579 non-null  float64\n",
      " 15  rougher.state.floatbank10_d_air                     14579 non-null  float64\n",
      " 16  rougher.state.floatbank10_d_level                   14579 non-null  float64\n",
      " 17  rougher.state.floatbank10_e_air                     14150 non-null  float64\n",
      " 18  rougher.state.floatbank10_e_level                   14579 non-null  float64\n",
      " 19  rougher.state.floatbank10_f_air                     14579 non-null  float64\n",
      " 20  rougher.state.floatbank10_f_level                   14579 non-null  float64\n",
      " 21  rougher.input.floatbank11_sulfate                   14543 non-null  float64\n",
      " 22  rougher.input.floatbank11_xanthate                  14172 non-null  float64\n",
      " 23  rougher.calculation.sulfate_to_au_concentrate       14578 non-null  float64\n",
      " 24  rougher.calculation.floatbank10_sulfate_to_au_feed  14578 non-null  float64\n",
      " 25  rougher.calculation.floatbank11_sulfate_to_au_feed  14578 non-null  float64\n",
      " 26  rougher.calculation.au_pb_ratio                     14579 non-null  float64\n",
      " 27  rougher.output.concentrate_au                       14579 non-null  float64\n",
      " 28  rougher.output.concentrate_ag                       14579 non-null  float64\n",
      " 29  rougher.output.concentrate_pb                       14579 non-null  float64\n",
      " 30  rougher.output.concentrate_sol                      14561 non-null  float64\n",
      " 31  rougher.output.recovery                             14579 non-null  float64\n",
      " 32  rougher.output.tail_au                              14579 non-null  float64\n",
      " 33  rougher.output.tail_ag                              14578 non-null  float64\n",
      " 34  rougher.output.tail_pb                              14579 non-null  float64\n",
      " 35  rougher.output.tail_sol                             14579 non-null  float64\n",
      " 36  primary_cleaner.input.sulfate                       14556 non-null  float64\n",
      " 37  primary_cleaner.input.depressant                    14551 non-null  float64\n",
      " 38  primary_cleaner.input.feed_size                     14579 non-null  float64\n",
      " 39  primary_cleaner.input.xanthate                      14518 non-null  float64\n",
      " 40  primary_cleaner.state.floatbank8_a_air              14576 non-null  float64\n",
      " 41  primary_cleaner.state.floatbank8_a_level            14579 non-null  float64\n",
      " 42  primary_cleaner.state.floatbank8_b_air              14576 non-null  float64\n",
      " 43  primary_cleaner.state.floatbank8_b_level            14579 non-null  float64\n",
      " 44  primary_cleaner.state.floatbank8_c_air              14579 non-null  float64\n",
      " 45  primary_cleaner.state.floatbank8_c_level            14579 non-null  float64\n",
      " 46  primary_cleaner.state.floatbank8_d_air              14578 non-null  float64\n",
      " 47  primary_cleaner.state.floatbank8_d_level            14579 non-null  float64\n",
      " 48  primary_cleaner.output.concentrate_au               14579 non-null  float64\n",
      " 49  primary_cleaner.output.concentrate_ag               14579 non-null  float64\n",
      " 50  primary_cleaner.output.concentrate_pb               14491 non-null  float64\n",
      " 51  primary_cleaner.output.concentrate_sol              14314 non-null  float64\n",
      " 52  primary_cleaner.output.tail_au                      14579 non-null  float64\n",
      " 53  primary_cleaner.output.tail_ag                      14575 non-null  float64\n",
      " 54  primary_cleaner.output.tail_pb                      14573 non-null  float64\n",
      " 55  primary_cleaner.output.tail_sol                     14534 non-null  float64\n",
      " 56  secondary_cleaner.state.floatbank2_a_air            14485 non-null  float64\n",
      " 57  secondary_cleaner.state.floatbank2_a_level          14579 non-null  float64\n",
      " 58  secondary_cleaner.state.floatbank2_b_air            14557 non-null  float64\n",
      " 59  secondary_cleaner.state.floatbank2_b_level          14579 non-null  float64\n",
      " 60  secondary_cleaner.state.floatbank3_a_air            14567 non-null  float64\n",
      " 61  secondary_cleaner.state.floatbank3_a_level          14579 non-null  float64\n",
      " 62  secondary_cleaner.state.floatbank3_b_air            14579 non-null  float64\n",
      " 63  secondary_cleaner.state.floatbank3_b_level          14579 non-null  float64\n",
      " 64  secondary_cleaner.state.floatbank4_a_air            14574 non-null  float64\n",
      " 65  secondary_cleaner.state.floatbank4_a_level          14579 non-null  float64\n",
      " 66  secondary_cleaner.state.floatbank4_b_air            14579 non-null  float64\n",
      " 67  secondary_cleaner.state.floatbank4_b_level          14579 non-null  float64\n",
      " 68  secondary_cleaner.state.floatbank5_a_air            14579 non-null  float64\n",
      " 69  secondary_cleaner.state.floatbank5_a_level          14579 non-null  float64\n",
      " 70  secondary_cleaner.state.floatbank5_b_air            14579 non-null  float64\n",
      " 71  secondary_cleaner.state.floatbank5_b_level          14579 non-null  float64\n",
      " 72  secondary_cleaner.state.floatbank6_a_air            14578 non-null  float64\n",
      " 73  secondary_cleaner.state.floatbank6_a_level          14579 non-null  float64\n",
      " 74  secondary_cleaner.output.tail_au                    14579 non-null  float64\n",
      " 75  secondary_cleaner.output.tail_ag                    14578 non-null  float64\n",
      " 76  secondary_cleaner.output.tail_pb                    14575 non-null  float64\n",
      " 77  secondary_cleaner.output.tail_sol                   13659 non-null  float64\n",
      " 78  final.output.concentrate_au                         14579 non-null  float64\n",
      " 79  final.output.concentrate_ag                         14578 non-null  float64\n",
      " 80  final.output.concentrate_pb                         14578 non-null  float64\n",
      " 81  final.output.concentrate_sol                        14387 non-null  float64\n",
      " 82  final.output.recovery                               14579 non-null  float64\n",
      " 83  final.output.tail_au                                14579 non-null  float64\n",
      " 84  final.output.tail_ag                                14578 non-null  float64\n",
      " 85  final.output.tail_pb                                14504 non-null  float64\n",
      " 86  final.output.tail_sol                               14574 non-null  float64\n",
      "dtypes: float64(86), object(1)\n",
      "memory usage: 9.7+ MB\n"
     ]
    },
    {
     "data": {
      "text/html": [
       "<div>\n",
       "<style scoped>\n",
       "    .dataframe tbody tr th:only-of-type {\n",
       "        vertical-align: middle;\n",
       "    }\n",
       "\n",
       "    .dataframe tbody tr th {\n",
       "        vertical-align: top;\n",
       "    }\n",
       "\n",
       "    .dataframe thead th {\n",
       "        text-align: right;\n",
       "    }\n",
       "</style>\n",
       "<table border=\"1\" class=\"dataframe\">\n",
       "  <thead>\n",
       "    <tr style=\"text-align: right;\">\n",
       "      <th></th>\n",
       "      <th>date</th>\n",
       "      <th>rougher.input.feed_au</th>\n",
       "      <th>rougher.input.feed_ag</th>\n",
       "      <th>rougher.input.feed_pb</th>\n",
       "      <th>rougher.input.feed_sol</th>\n",
       "      <th>rougher.input.feed_rate</th>\n",
       "      <th>rougher.input.feed_size</th>\n",
       "      <th>rougher.input.floatbank10_sulfate</th>\n",
       "      <th>rougher.input.floatbank10_xanthate</th>\n",
       "      <th>rougher.state.floatbank10_a_air</th>\n",
       "      <th>rougher.state.floatbank10_a_level</th>\n",
       "      <th>rougher.state.floatbank10_b_air</th>\n",
       "      <th>rougher.state.floatbank10_b_level</th>\n",
       "      <th>rougher.state.floatbank10_c_air</th>\n",
       "      <th>rougher.state.floatbank10_c_level</th>\n",
       "      <th>rougher.state.floatbank10_d_air</th>\n",
       "      <th>rougher.state.floatbank10_d_level</th>\n",
       "      <th>rougher.state.floatbank10_e_air</th>\n",
       "      <th>rougher.state.floatbank10_e_level</th>\n",
       "      <th>rougher.state.floatbank10_f_air</th>\n",
       "      <th>rougher.state.floatbank10_f_level</th>\n",
       "      <th>rougher.input.floatbank11_sulfate</th>\n",
       "      <th>rougher.input.floatbank11_xanthate</th>\n",
       "      <th>rougher.calculation.sulfate_to_au_concentrate</th>\n",
       "      <th>rougher.calculation.floatbank10_sulfate_to_au_feed</th>\n",
       "      <th>rougher.calculation.floatbank11_sulfate_to_au_feed</th>\n",
       "      <th>rougher.calculation.au_pb_ratio</th>\n",
       "      <th>rougher.output.concentrate_au</th>\n",
       "      <th>rougher.output.concentrate_ag</th>\n",
       "      <th>rougher.output.concentrate_pb</th>\n",
       "      <th>rougher.output.concentrate_sol</th>\n",
       "      <th>rougher.output.recovery</th>\n",
       "      <th>rougher.output.tail_au</th>\n",
       "      <th>rougher.output.tail_ag</th>\n",
       "      <th>rougher.output.tail_pb</th>\n",
       "      <th>rougher.output.tail_sol</th>\n",
       "      <th>primary_cleaner.input.sulfate</th>\n",
       "      <th>primary_cleaner.input.depressant</th>\n",
       "      <th>primary_cleaner.input.feed_size</th>\n",
       "      <th>primary_cleaner.input.xanthate</th>\n",
       "      <th>primary_cleaner.state.floatbank8_a_air</th>\n",
       "      <th>primary_cleaner.state.floatbank8_a_level</th>\n",
       "      <th>primary_cleaner.state.floatbank8_b_air</th>\n",
       "      <th>primary_cleaner.state.floatbank8_b_level</th>\n",
       "      <th>primary_cleaner.state.floatbank8_c_air</th>\n",
       "      <th>primary_cleaner.state.floatbank8_c_level</th>\n",
       "      <th>primary_cleaner.state.floatbank8_d_air</th>\n",
       "      <th>primary_cleaner.state.floatbank8_d_level</th>\n",
       "      <th>primary_cleaner.output.concentrate_au</th>\n",
       "      <th>primary_cleaner.output.concentrate_ag</th>\n",
       "      <th>primary_cleaner.output.concentrate_pb</th>\n",
       "      <th>primary_cleaner.output.concentrate_sol</th>\n",
       "      <th>primary_cleaner.output.tail_au</th>\n",
       "      <th>primary_cleaner.output.tail_ag</th>\n",
       "      <th>primary_cleaner.output.tail_pb</th>\n",
       "      <th>primary_cleaner.output.tail_sol</th>\n",
       "      <th>secondary_cleaner.state.floatbank2_a_air</th>\n",
       "      <th>secondary_cleaner.state.floatbank2_a_level</th>\n",
       "      <th>secondary_cleaner.state.floatbank2_b_air</th>\n",
       "      <th>secondary_cleaner.state.floatbank2_b_level</th>\n",
       "      <th>secondary_cleaner.state.floatbank3_a_air</th>\n",
       "      <th>secondary_cleaner.state.floatbank3_a_level</th>\n",
       "      <th>secondary_cleaner.state.floatbank3_b_air</th>\n",
       "      <th>secondary_cleaner.state.floatbank3_b_level</th>\n",
       "      <th>secondary_cleaner.state.floatbank4_a_air</th>\n",
       "      <th>secondary_cleaner.state.floatbank4_a_level</th>\n",
       "      <th>secondary_cleaner.state.floatbank4_b_air</th>\n",
       "      <th>secondary_cleaner.state.floatbank4_b_level</th>\n",
       "      <th>secondary_cleaner.state.floatbank5_a_air</th>\n",
       "      <th>secondary_cleaner.state.floatbank5_a_level</th>\n",
       "      <th>secondary_cleaner.state.floatbank5_b_air</th>\n",
       "      <th>secondary_cleaner.state.floatbank5_b_level</th>\n",
       "      <th>secondary_cleaner.state.floatbank6_a_air</th>\n",
       "      <th>secondary_cleaner.state.floatbank6_a_level</th>\n",
       "      <th>secondary_cleaner.output.tail_au</th>\n",
       "      <th>secondary_cleaner.output.tail_ag</th>\n",
       "      <th>secondary_cleaner.output.tail_pb</th>\n",
       "      <th>secondary_cleaner.output.tail_sol</th>\n",
       "      <th>final.output.concentrate_au</th>\n",
       "      <th>final.output.concentrate_ag</th>\n",
       "      <th>final.output.concentrate_pb</th>\n",
       "      <th>final.output.concentrate_sol</th>\n",
       "      <th>final.output.recovery</th>\n",
       "      <th>final.output.tail_au</th>\n",
       "      <th>final.output.tail_ag</th>\n",
       "      <th>final.output.tail_pb</th>\n",
       "      <th>final.output.tail_sol</th>\n",
       "    </tr>\n",
       "  </thead>\n",
       "  <tbody>\n",
       "    <tr>\n",
       "      <th>0</th>\n",
       "      <td>2016-01-15 00:00:00</td>\n",
       "      <td>6.486150</td>\n",
       "      <td>6.100378</td>\n",
       "      <td>2.284912</td>\n",
       "      <td>36.808594</td>\n",
       "      <td>523.546326</td>\n",
       "      <td>55.486599</td>\n",
       "      <td>11.986616</td>\n",
       "      <td>6.007990</td>\n",
       "      <td>999.706909</td>\n",
       "      <td>-404.066986</td>\n",
       "      <td>1603.011353</td>\n",
       "      <td>-434.715027</td>\n",
       "      <td>1602.375000</td>\n",
       "      <td>-442.204468</td>\n",
       "      <td>1598.937256</td>\n",
       "      <td>-451.294128</td>\n",
       "      <td>1404.472046</td>\n",
       "      <td>-455.462982</td>\n",
       "      <td>1416.354980</td>\n",
       "      <td>-451.939636</td>\n",
       "      <td>11.836743</td>\n",
       "      <td>6.005818</td>\n",
       "      <td>41885.707031</td>\n",
       "      <td>3481.779053</td>\n",
       "      <td>3520.337158</td>\n",
       "      <td>2.838687</td>\n",
       "      <td>19.793808</td>\n",
       "      <td>11.500771</td>\n",
       "      <td>7.101074</td>\n",
       "      <td>28.029297</td>\n",
       "      <td>87.107763</td>\n",
       "      <td>1.170244</td>\n",
       "      <td>5.008018</td>\n",
       "      <td>0.508728</td>\n",
       "      <td>19.154297</td>\n",
       "      <td>127.092003</td>\n",
       "      <td>10.128295</td>\n",
       "      <td>7.25</td>\n",
       "      <td>0.988759</td>\n",
       "      <td>1549.775757</td>\n",
       "      <td>-498.912140</td>\n",
       "      <td>1551.434204</td>\n",
       "      <td>-516.403442</td>\n",
       "      <td>1549.873901</td>\n",
       "      <td>-498.666595</td>\n",
       "      <td>1554.367432</td>\n",
       "      <td>-493.428131</td>\n",
       "      <td>34.174427</td>\n",
       "      <td>8.547551</td>\n",
       "      <td>10.389648</td>\n",
       "      <td>19.529297</td>\n",
       "      <td>2.106679</td>\n",
       "      <td>14.936526</td>\n",
       "      <td>2.534912</td>\n",
       "      <td>7.476074</td>\n",
       "      <td>25.853109</td>\n",
       "      <td>-498.526489</td>\n",
       "      <td>23.893660</td>\n",
       "      <td>-501.406281</td>\n",
       "      <td>23.961798</td>\n",
       "      <td>-495.262817</td>\n",
       "      <td>21.940409</td>\n",
       "      <td>-499.340973</td>\n",
       "      <td>14.016835</td>\n",
       "      <td>-502.488007</td>\n",
       "      <td>12.099931</td>\n",
       "      <td>-504.715942</td>\n",
       "      <td>9.925633</td>\n",
       "      <td>-498.310211</td>\n",
       "      <td>8.079666</td>\n",
       "      <td>-500.470978</td>\n",
       "      <td>14.151341</td>\n",
       "      <td>-605.841980</td>\n",
       "      <td>2.606185</td>\n",
       "      <td>14.500184</td>\n",
       "      <td>4.694824</td>\n",
       "      <td>8.764648</td>\n",
       "      <td>42.192020</td>\n",
       "      <td>6.055403</td>\n",
       "      <td>9.889648</td>\n",
       "      <td>5.507324</td>\n",
       "      <td>70.541216</td>\n",
       "      <td>2.143149</td>\n",
       "      <td>10.411962</td>\n",
       "      <td>0.895447</td>\n",
       "      <td>16.904297</td>\n",
       "    </tr>\n",
       "    <tr>\n",
       "      <th>1</th>\n",
       "      <td>2016-01-15 01:00:00</td>\n",
       "      <td>6.478583</td>\n",
       "      <td>6.161113</td>\n",
       "      <td>2.266033</td>\n",
       "      <td>35.753385</td>\n",
       "      <td>525.290581</td>\n",
       "      <td>57.278666</td>\n",
       "      <td>11.971193</td>\n",
       "      <td>6.005766</td>\n",
       "      <td>1000.286398</td>\n",
       "      <td>-400.065196</td>\n",
       "      <td>1600.754587</td>\n",
       "      <td>-449.953435</td>\n",
       "      <td>1600.479580</td>\n",
       "      <td>-449.830646</td>\n",
       "      <td>1600.527589</td>\n",
       "      <td>-449.953649</td>\n",
       "      <td>1399.227084</td>\n",
       "      <td>-450.869848</td>\n",
       "      <td>1399.719514</td>\n",
       "      <td>-450.119001</td>\n",
       "      <td>11.996163</td>\n",
       "      <td>6.012594</td>\n",
       "      <td>42050.861809</td>\n",
       "      <td>3498.370979</td>\n",
       "      <td>3489.981857</td>\n",
       "      <td>2.858998</td>\n",
       "      <td>20.050975</td>\n",
       "      <td>11.615865</td>\n",
       "      <td>7.278807</td>\n",
       "      <td>28.067063</td>\n",
       "      <td>86.843261</td>\n",
       "      <td>1.184827</td>\n",
       "      <td>4.955378</td>\n",
       "      <td>0.536689</td>\n",
       "      <td>18.965234</td>\n",
       "      <td>125.629232</td>\n",
       "      <td>10.296251</td>\n",
       "      <td>7.25</td>\n",
       "      <td>1.002663</td>\n",
       "      <td>1576.166671</td>\n",
       "      <td>-500.904965</td>\n",
       "      <td>1575.950626</td>\n",
       "      <td>-499.865889</td>\n",
       "      <td>1575.994189</td>\n",
       "      <td>-499.315107</td>\n",
       "      <td>1574.479259</td>\n",
       "      <td>-498.931665</td>\n",
       "      <td>34.118526</td>\n",
       "      <td>8.558743</td>\n",
       "      <td>10.497069</td>\n",
       "      <td>19.369147</td>\n",
       "      <td>2.353017</td>\n",
       "      <td>16.250511</td>\n",
       "      <td>3.049646</td>\n",
       "      <td>6.733907</td>\n",
       "      <td>25.880539</td>\n",
       "      <td>-499.989656</td>\n",
       "      <td>23.889530</td>\n",
       "      <td>-500.372428</td>\n",
       "      <td>23.970550</td>\n",
       "      <td>-500.085473</td>\n",
       "      <td>22.085714</td>\n",
       "      <td>-499.446897</td>\n",
       "      <td>13.992281</td>\n",
       "      <td>-505.503262</td>\n",
       "      <td>11.950531</td>\n",
       "      <td>-501.331529</td>\n",
       "      <td>10.039245</td>\n",
       "      <td>-500.169983</td>\n",
       "      <td>7.984757</td>\n",
       "      <td>-500.582168</td>\n",
       "      <td>13.998353</td>\n",
       "      <td>-599.787184</td>\n",
       "      <td>2.488248</td>\n",
       "      <td>14.265474</td>\n",
       "      <td>4.592547</td>\n",
       "      <td>9.001494</td>\n",
       "      <td>42.701629</td>\n",
       "      <td>6.029369</td>\n",
       "      <td>9.968944</td>\n",
       "      <td>5.257781</td>\n",
       "      <td>69.266198</td>\n",
       "      <td>2.224930</td>\n",
       "      <td>10.462676</td>\n",
       "      <td>0.927452</td>\n",
       "      <td>16.634514</td>\n",
       "    </tr>\n",
       "    <tr>\n",
       "      <th>2</th>\n",
       "      <td>2016-01-15 02:00:00</td>\n",
       "      <td>6.362222</td>\n",
       "      <td>6.116455</td>\n",
       "      <td>2.159622</td>\n",
       "      <td>35.971630</td>\n",
       "      <td>530.026610</td>\n",
       "      <td>57.510649</td>\n",
       "      <td>11.920603</td>\n",
       "      <td>6.197377</td>\n",
       "      <td>999.719565</td>\n",
       "      <td>-400.074028</td>\n",
       "      <td>1599.337330</td>\n",
       "      <td>-450.008530</td>\n",
       "      <td>1599.672797</td>\n",
       "      <td>-449.954491</td>\n",
       "      <td>1599.849325</td>\n",
       "      <td>-449.954185</td>\n",
       "      <td>1399.180945</td>\n",
       "      <td>-449.937588</td>\n",
       "      <td>1400.316682</td>\n",
       "      <td>-450.527147</td>\n",
       "      <td>11.920305</td>\n",
       "      <td>6.204633</td>\n",
       "      <td>42018.101184</td>\n",
       "      <td>3495.348910</td>\n",
       "      <td>3502.359819</td>\n",
       "      <td>2.945989</td>\n",
       "      <td>19.737170</td>\n",
       "      <td>11.695753</td>\n",
       "      <td>7.216833</td>\n",
       "      <td>27.454037</td>\n",
       "      <td>86.842308</td>\n",
       "      <td>1.162562</td>\n",
       "      <td>4.843460</td>\n",
       "      <td>0.546416</td>\n",
       "      <td>18.808533</td>\n",
       "      <td>123.819808</td>\n",
       "      <td>11.316280</td>\n",
       "      <td>7.25</td>\n",
       "      <td>0.991265</td>\n",
       "      <td>1601.556163</td>\n",
       "      <td>-499.997791</td>\n",
       "      <td>1600.386685</td>\n",
       "      <td>-500.607762</td>\n",
       "      <td>1602.003542</td>\n",
       "      <td>-500.870069</td>\n",
       "      <td>1599.541515</td>\n",
       "      <td>-499.827444</td>\n",
       "      <td>33.969464</td>\n",
       "      <td>8.603505</td>\n",
       "      <td>10.354494</td>\n",
       "      <td>19.167579</td>\n",
       "      <td>2.416800</td>\n",
       "      <td>16.491823</td>\n",
       "      <td>3.124664</td>\n",
       "      <td>6.471768</td>\n",
       "      <td>26.005245</td>\n",
       "      <td>-499.929616</td>\n",
       "      <td>23.886657</td>\n",
       "      <td>-499.951928</td>\n",
       "      <td>23.913535</td>\n",
       "      <td>-499.442343</td>\n",
       "      <td>23.957717</td>\n",
       "      <td>-499.901982</td>\n",
       "      <td>14.015015</td>\n",
       "      <td>-502.520901</td>\n",
       "      <td>11.912783</td>\n",
       "      <td>-501.133383</td>\n",
       "      <td>10.070913</td>\n",
       "      <td>-500.129135</td>\n",
       "      <td>8.013877</td>\n",
       "      <td>-500.517572</td>\n",
       "      <td>14.028663</td>\n",
       "      <td>-601.427363</td>\n",
       "      <td>2.458187</td>\n",
       "      <td>14.115662</td>\n",
       "      <td>4.624775</td>\n",
       "      <td>8.842896</td>\n",
       "      <td>42.657501</td>\n",
       "      <td>6.055926</td>\n",
       "      <td>10.213995</td>\n",
       "      <td>5.383759</td>\n",
       "      <td>68.116445</td>\n",
       "      <td>2.257889</td>\n",
       "      <td>10.507046</td>\n",
       "      <td>0.953716</td>\n",
       "      <td>16.208849</td>\n",
       "    </tr>\n",
       "    <tr>\n",
       "      <th>3</th>\n",
       "      <td>2016-01-15 03:00:00</td>\n",
       "      <td>6.118189</td>\n",
       "      <td>6.043309</td>\n",
       "      <td>2.037807</td>\n",
       "      <td>36.862241</td>\n",
       "      <td>542.590390</td>\n",
       "      <td>57.792734</td>\n",
       "      <td>11.630094</td>\n",
       "      <td>6.203177</td>\n",
       "      <td>999.814770</td>\n",
       "      <td>-400.200179</td>\n",
       "      <td>1600.059442</td>\n",
       "      <td>-450.619948</td>\n",
       "      <td>1600.012842</td>\n",
       "      <td>-449.910497</td>\n",
       "      <td>1597.725177</td>\n",
       "      <td>-450.130127</td>\n",
       "      <td>1400.943157</td>\n",
       "      <td>-450.030142</td>\n",
       "      <td>1400.234743</td>\n",
       "      <td>-449.790835</td>\n",
       "      <td>11.692450</td>\n",
       "      <td>6.196578</td>\n",
       "      <td>42029.447991</td>\n",
       "      <td>3498.578313</td>\n",
       "      <td>3499.162912</td>\n",
       "      <td>3.002340</td>\n",
       "      <td>19.320810</td>\n",
       "      <td>11.915047</td>\n",
       "      <td>7.175616</td>\n",
       "      <td>27.341277</td>\n",
       "      <td>87.226430</td>\n",
       "      <td>1.079755</td>\n",
       "      <td>4.655288</td>\n",
       "      <td>0.542525</td>\n",
       "      <td>19.330200</td>\n",
       "      <td>122.270188</td>\n",
       "      <td>11.322140</td>\n",
       "      <td>7.25</td>\n",
       "      <td>0.996739</td>\n",
       "      <td>1599.968720</td>\n",
       "      <td>-500.951778</td>\n",
       "      <td>1600.659236</td>\n",
       "      <td>-499.677094</td>\n",
       "      <td>1600.304144</td>\n",
       "      <td>-500.727997</td>\n",
       "      <td>1600.449520</td>\n",
       "      <td>-500.052575</td>\n",
       "      <td>28.260743</td>\n",
       "      <td>7.221879</td>\n",
       "      <td>8.496563</td>\n",
       "      <td>15.978538</td>\n",
       "      <td>2.262051</td>\n",
       "      <td>16.024359</td>\n",
       "      <td>2.960362</td>\n",
       "      <td>6.843791</td>\n",
       "      <td>25.942508</td>\n",
       "      <td>-499.176749</td>\n",
       "      <td>23.955516</td>\n",
       "      <td>-499.848796</td>\n",
       "      <td>23.966838</td>\n",
       "      <td>-500.008812</td>\n",
       "      <td>23.954443</td>\n",
       "      <td>-499.944710</td>\n",
       "      <td>14.036510</td>\n",
       "      <td>-500.857308</td>\n",
       "      <td>11.999550</td>\n",
       "      <td>-501.193686</td>\n",
       "      <td>9.970366</td>\n",
       "      <td>-499.201640</td>\n",
       "      <td>7.977324</td>\n",
       "      <td>-500.255908</td>\n",
       "      <td>14.005551</td>\n",
       "      <td>-599.996129</td>\n",
       "      <td>2.322062</td>\n",
       "      <td>13.732071</td>\n",
       "      <td>4.482453</td>\n",
       "      <td>9.122857</td>\n",
       "      <td>42.689819</td>\n",
       "      <td>6.047977</td>\n",
       "      <td>9.977019</td>\n",
       "      <td>4.858634</td>\n",
       "      <td>68.347543</td>\n",
       "      <td>2.146849</td>\n",
       "      <td>10.422762</td>\n",
       "      <td>0.883763</td>\n",
       "      <td>16.532835</td>\n",
       "    </tr>\n",
       "    <tr>\n",
       "      <th>4</th>\n",
       "      <td>2016-01-15 04:00:00</td>\n",
       "      <td>5.663707</td>\n",
       "      <td>6.060915</td>\n",
       "      <td>1.786875</td>\n",
       "      <td>34.347666</td>\n",
       "      <td>540.531893</td>\n",
       "      <td>56.047189</td>\n",
       "      <td>10.957755</td>\n",
       "      <td>6.198826</td>\n",
       "      <td>999.678690</td>\n",
       "      <td>-399.752729</td>\n",
       "      <td>1600.208824</td>\n",
       "      <td>-449.599614</td>\n",
       "      <td>1600.357732</td>\n",
       "      <td>-450.034364</td>\n",
       "      <td>1599.759049</td>\n",
       "      <td>-449.909799</td>\n",
       "      <td>1401.560902</td>\n",
       "      <td>-448.877187</td>\n",
       "      <td>1401.160227</td>\n",
       "      <td>-450.407128</td>\n",
       "      <td>10.960521</td>\n",
       "      <td>6.194897</td>\n",
       "      <td>42125.354245</td>\n",
       "      <td>3494.800771</td>\n",
       "      <td>3506.679315</td>\n",
       "      <td>3.169615</td>\n",
       "      <td>19.216101</td>\n",
       "      <td>12.411054</td>\n",
       "      <td>7.240205</td>\n",
       "      <td>27.041023</td>\n",
       "      <td>86.688794</td>\n",
       "      <td>1.012642</td>\n",
       "      <td>4.552800</td>\n",
       "      <td>0.515438</td>\n",
       "      <td>19.267422</td>\n",
       "      <td>117.988169</td>\n",
       "      <td>11.913613</td>\n",
       "      <td>7.25</td>\n",
       "      <td>1.009869</td>\n",
       "      <td>1601.339707</td>\n",
       "      <td>-498.975456</td>\n",
       "      <td>1601.437854</td>\n",
       "      <td>-500.323246</td>\n",
       "      <td>1599.581894</td>\n",
       "      <td>-500.888152</td>\n",
       "      <td>1602.649541</td>\n",
       "      <td>-500.593010</td>\n",
       "      <td>33.044932</td>\n",
       "      <td>9.089428</td>\n",
       "      <td>9.986786</td>\n",
       "      <td>19.199864</td>\n",
       "      <td>2.277073</td>\n",
       "      <td>16.480185</td>\n",
       "      <td>3.112100</td>\n",
       "      <td>6.550154</td>\n",
       "      <td>26.024787</td>\n",
       "      <td>-500.279091</td>\n",
       "      <td>23.955345</td>\n",
       "      <td>-500.593614</td>\n",
       "      <td>23.985703</td>\n",
       "      <td>-500.083811</td>\n",
       "      <td>23.958945</td>\n",
       "      <td>-499.990309</td>\n",
       "      <td>14.027298</td>\n",
       "      <td>-499.838632</td>\n",
       "      <td>11.953070</td>\n",
       "      <td>-501.053894</td>\n",
       "      <td>9.925709</td>\n",
       "      <td>-501.686727</td>\n",
       "      <td>7.894242</td>\n",
       "      <td>-500.356035</td>\n",
       "      <td>13.996647</td>\n",
       "      <td>-601.496691</td>\n",
       "      <td>2.330448</td>\n",
       "      <td>14.079996</td>\n",
       "      <td>4.470737</td>\n",
       "      <td>8.871028</td>\n",
       "      <td>42.774141</td>\n",
       "      <td>6.148599</td>\n",
       "      <td>10.142511</td>\n",
       "      <td>4.939416</td>\n",
       "      <td>66.927016</td>\n",
       "      <td>2.055292</td>\n",
       "      <td>10.360302</td>\n",
       "      <td>0.792826</td>\n",
       "      <td>16.525686</td>\n",
       "    </tr>\n",
       "  </tbody>\n",
       "</table>\n",
       "</div>"
      ],
      "text/plain": [
       "                  date  rougher.input.feed_au  rougher.input.feed_ag  \\\n",
       "0  2016-01-15 00:00:00               6.486150               6.100378   \n",
       "1  2016-01-15 01:00:00               6.478583               6.161113   \n",
       "2  2016-01-15 02:00:00               6.362222               6.116455   \n",
       "3  2016-01-15 03:00:00               6.118189               6.043309   \n",
       "4  2016-01-15 04:00:00               5.663707               6.060915   \n",
       "\n",
       "   rougher.input.feed_pb  rougher.input.feed_sol  rougher.input.feed_rate  \\\n",
       "0               2.284912               36.808594               523.546326   \n",
       "1               2.266033               35.753385               525.290581   \n",
       "2               2.159622               35.971630               530.026610   \n",
       "3               2.037807               36.862241               542.590390   \n",
       "4               1.786875               34.347666               540.531893   \n",
       "\n",
       "   rougher.input.feed_size  rougher.input.floatbank10_sulfate  \\\n",
       "0                55.486599                          11.986616   \n",
       "1                57.278666                          11.971193   \n",
       "2                57.510649                          11.920603   \n",
       "3                57.792734                          11.630094   \n",
       "4                56.047189                          10.957755   \n",
       "\n",
       "   rougher.input.floatbank10_xanthate  rougher.state.floatbank10_a_air  \\\n",
       "0                            6.007990                       999.706909   \n",
       "1                            6.005766                      1000.286398   \n",
       "2                            6.197377                       999.719565   \n",
       "3                            6.203177                       999.814770   \n",
       "4                            6.198826                       999.678690   \n",
       "\n",
       "   rougher.state.floatbank10_a_level  rougher.state.floatbank10_b_air  \\\n",
       "0                        -404.066986                      1603.011353   \n",
       "1                        -400.065196                      1600.754587   \n",
       "2                        -400.074028                      1599.337330   \n",
       "3                        -400.200179                      1600.059442   \n",
       "4                        -399.752729                      1600.208824   \n",
       "\n",
       "   rougher.state.floatbank10_b_level  rougher.state.floatbank10_c_air  \\\n",
       "0                        -434.715027                      1602.375000   \n",
       "1                        -449.953435                      1600.479580   \n",
       "2                        -450.008530                      1599.672797   \n",
       "3                        -450.619948                      1600.012842   \n",
       "4                        -449.599614                      1600.357732   \n",
       "\n",
       "   rougher.state.floatbank10_c_level  rougher.state.floatbank10_d_air  \\\n",
       "0                        -442.204468                      1598.937256   \n",
       "1                        -449.830646                      1600.527589   \n",
       "2                        -449.954491                      1599.849325   \n",
       "3                        -449.910497                      1597.725177   \n",
       "4                        -450.034364                      1599.759049   \n",
       "\n",
       "   rougher.state.floatbank10_d_level  rougher.state.floatbank10_e_air  \\\n",
       "0                        -451.294128                      1404.472046   \n",
       "1                        -449.953649                      1399.227084   \n",
       "2                        -449.954185                      1399.180945   \n",
       "3                        -450.130127                      1400.943157   \n",
       "4                        -449.909799                      1401.560902   \n",
       "\n",
       "   rougher.state.floatbank10_e_level  rougher.state.floatbank10_f_air  \\\n",
       "0                        -455.462982                      1416.354980   \n",
       "1                        -450.869848                      1399.719514   \n",
       "2                        -449.937588                      1400.316682   \n",
       "3                        -450.030142                      1400.234743   \n",
       "4                        -448.877187                      1401.160227   \n",
       "\n",
       "   rougher.state.floatbank10_f_level  rougher.input.floatbank11_sulfate  \\\n",
       "0                        -451.939636                          11.836743   \n",
       "1                        -450.119001                          11.996163   \n",
       "2                        -450.527147                          11.920305   \n",
       "3                        -449.790835                          11.692450   \n",
       "4                        -450.407128                          10.960521   \n",
       "\n",
       "   rougher.input.floatbank11_xanthate  \\\n",
       "0                            6.005818   \n",
       "1                            6.012594   \n",
       "2                            6.204633   \n",
       "3                            6.196578   \n",
       "4                            6.194897   \n",
       "\n",
       "   rougher.calculation.sulfate_to_au_concentrate  \\\n",
       "0                                   41885.707031   \n",
       "1                                   42050.861809   \n",
       "2                                   42018.101184   \n",
       "3                                   42029.447991   \n",
       "4                                   42125.354245   \n",
       "\n",
       "   rougher.calculation.floatbank10_sulfate_to_au_feed  \\\n",
       "0                                        3481.779053    \n",
       "1                                        3498.370979    \n",
       "2                                        3495.348910    \n",
       "3                                        3498.578313    \n",
       "4                                        3494.800771    \n",
       "\n",
       "   rougher.calculation.floatbank11_sulfate_to_au_feed  \\\n",
       "0                                        3520.337158    \n",
       "1                                        3489.981857    \n",
       "2                                        3502.359819    \n",
       "3                                        3499.162912    \n",
       "4                                        3506.679315    \n",
       "\n",
       "   rougher.calculation.au_pb_ratio  rougher.output.concentrate_au  \\\n",
       "0                         2.838687                      19.793808   \n",
       "1                         2.858998                      20.050975   \n",
       "2                         2.945989                      19.737170   \n",
       "3                         3.002340                      19.320810   \n",
       "4                         3.169615                      19.216101   \n",
       "\n",
       "   rougher.output.concentrate_ag  rougher.output.concentrate_pb  \\\n",
       "0                      11.500771                       7.101074   \n",
       "1                      11.615865                       7.278807   \n",
       "2                      11.695753                       7.216833   \n",
       "3                      11.915047                       7.175616   \n",
       "4                      12.411054                       7.240205   \n",
       "\n",
       "   rougher.output.concentrate_sol  rougher.output.recovery  \\\n",
       "0                       28.029297                87.107763   \n",
       "1                       28.067063                86.843261   \n",
       "2                       27.454037                86.842308   \n",
       "3                       27.341277                87.226430   \n",
       "4                       27.041023                86.688794   \n",
       "\n",
       "   rougher.output.tail_au  rougher.output.tail_ag  rougher.output.tail_pb  \\\n",
       "0                1.170244                5.008018                0.508728   \n",
       "1                1.184827                4.955378                0.536689   \n",
       "2                1.162562                4.843460                0.546416   \n",
       "3                1.079755                4.655288                0.542525   \n",
       "4                1.012642                4.552800                0.515438   \n",
       "\n",
       "   rougher.output.tail_sol  primary_cleaner.input.sulfate  \\\n",
       "0                19.154297                     127.092003   \n",
       "1                18.965234                     125.629232   \n",
       "2                18.808533                     123.819808   \n",
       "3                19.330200                     122.270188   \n",
       "4                19.267422                     117.988169   \n",
       "\n",
       "   primary_cleaner.input.depressant  primary_cleaner.input.feed_size  \\\n",
       "0                         10.128295                             7.25   \n",
       "1                         10.296251                             7.25   \n",
       "2                         11.316280                             7.25   \n",
       "3                         11.322140                             7.25   \n",
       "4                         11.913613                             7.25   \n",
       "\n",
       "   primary_cleaner.input.xanthate  primary_cleaner.state.floatbank8_a_air  \\\n",
       "0                        0.988759                             1549.775757   \n",
       "1                        1.002663                             1576.166671   \n",
       "2                        0.991265                             1601.556163   \n",
       "3                        0.996739                             1599.968720   \n",
       "4                        1.009869                             1601.339707   \n",
       "\n",
       "   primary_cleaner.state.floatbank8_a_level  \\\n",
       "0                               -498.912140   \n",
       "1                               -500.904965   \n",
       "2                               -499.997791   \n",
       "3                               -500.951778   \n",
       "4                               -498.975456   \n",
       "\n",
       "   primary_cleaner.state.floatbank8_b_air  \\\n",
       "0                             1551.434204   \n",
       "1                             1575.950626   \n",
       "2                             1600.386685   \n",
       "3                             1600.659236   \n",
       "4                             1601.437854   \n",
       "\n",
       "   primary_cleaner.state.floatbank8_b_level  \\\n",
       "0                               -516.403442   \n",
       "1                               -499.865889   \n",
       "2                               -500.607762   \n",
       "3                               -499.677094   \n",
       "4                               -500.323246   \n",
       "\n",
       "   primary_cleaner.state.floatbank8_c_air  \\\n",
       "0                             1549.873901   \n",
       "1                             1575.994189   \n",
       "2                             1602.003542   \n",
       "3                             1600.304144   \n",
       "4                             1599.581894   \n",
       "\n",
       "   primary_cleaner.state.floatbank8_c_level  \\\n",
       "0                               -498.666595   \n",
       "1                               -499.315107   \n",
       "2                               -500.870069   \n",
       "3                               -500.727997   \n",
       "4                               -500.888152   \n",
       "\n",
       "   primary_cleaner.state.floatbank8_d_air  \\\n",
       "0                             1554.367432   \n",
       "1                             1574.479259   \n",
       "2                             1599.541515   \n",
       "3                             1600.449520   \n",
       "4                             1602.649541   \n",
       "\n",
       "   primary_cleaner.state.floatbank8_d_level  \\\n",
       "0                               -493.428131   \n",
       "1                               -498.931665   \n",
       "2                               -499.827444   \n",
       "3                               -500.052575   \n",
       "4                               -500.593010   \n",
       "\n",
       "   primary_cleaner.output.concentrate_au  \\\n",
       "0                              34.174427   \n",
       "1                              34.118526   \n",
       "2                              33.969464   \n",
       "3                              28.260743   \n",
       "4                              33.044932   \n",
       "\n",
       "   primary_cleaner.output.concentrate_ag  \\\n",
       "0                               8.547551   \n",
       "1                               8.558743   \n",
       "2                               8.603505   \n",
       "3                               7.221879   \n",
       "4                               9.089428   \n",
       "\n",
       "   primary_cleaner.output.concentrate_pb  \\\n",
       "0                              10.389648   \n",
       "1                              10.497069   \n",
       "2                              10.354494   \n",
       "3                               8.496563   \n",
       "4                               9.986786   \n",
       "\n",
       "   primary_cleaner.output.concentrate_sol  primary_cleaner.output.tail_au  \\\n",
       "0                               19.529297                        2.106679   \n",
       "1                               19.369147                        2.353017   \n",
       "2                               19.167579                        2.416800   \n",
       "3                               15.978538                        2.262051   \n",
       "4                               19.199864                        2.277073   \n",
       "\n",
       "   primary_cleaner.output.tail_ag  primary_cleaner.output.tail_pb  \\\n",
       "0                       14.936526                        2.534912   \n",
       "1                       16.250511                        3.049646   \n",
       "2                       16.491823                        3.124664   \n",
       "3                       16.024359                        2.960362   \n",
       "4                       16.480185                        3.112100   \n",
       "\n",
       "   primary_cleaner.output.tail_sol  secondary_cleaner.state.floatbank2_a_air  \\\n",
       "0                         7.476074                                 25.853109   \n",
       "1                         6.733907                                 25.880539   \n",
       "2                         6.471768                                 26.005245   \n",
       "3                         6.843791                                 25.942508   \n",
       "4                         6.550154                                 26.024787   \n",
       "\n",
       "   secondary_cleaner.state.floatbank2_a_level  \\\n",
       "0                                 -498.526489   \n",
       "1                                 -499.989656   \n",
       "2                                 -499.929616   \n",
       "3                                 -499.176749   \n",
       "4                                 -500.279091   \n",
       "\n",
       "   secondary_cleaner.state.floatbank2_b_air  \\\n",
       "0                                 23.893660   \n",
       "1                                 23.889530   \n",
       "2                                 23.886657   \n",
       "3                                 23.955516   \n",
       "4                                 23.955345   \n",
       "\n",
       "   secondary_cleaner.state.floatbank2_b_level  \\\n",
       "0                                 -501.406281   \n",
       "1                                 -500.372428   \n",
       "2                                 -499.951928   \n",
       "3                                 -499.848796   \n",
       "4                                 -500.593614   \n",
       "\n",
       "   secondary_cleaner.state.floatbank3_a_air  \\\n",
       "0                                 23.961798   \n",
       "1                                 23.970550   \n",
       "2                                 23.913535   \n",
       "3                                 23.966838   \n",
       "4                                 23.985703   \n",
       "\n",
       "   secondary_cleaner.state.floatbank3_a_level  \\\n",
       "0                                 -495.262817   \n",
       "1                                 -500.085473   \n",
       "2                                 -499.442343   \n",
       "3                                 -500.008812   \n",
       "4                                 -500.083811   \n",
       "\n",
       "   secondary_cleaner.state.floatbank3_b_air  \\\n",
       "0                                 21.940409   \n",
       "1                                 22.085714   \n",
       "2                                 23.957717   \n",
       "3                                 23.954443   \n",
       "4                                 23.958945   \n",
       "\n",
       "   secondary_cleaner.state.floatbank3_b_level  \\\n",
       "0                                 -499.340973   \n",
       "1                                 -499.446897   \n",
       "2                                 -499.901982   \n",
       "3                                 -499.944710   \n",
       "4                                 -499.990309   \n",
       "\n",
       "   secondary_cleaner.state.floatbank4_a_air  \\\n",
       "0                                 14.016835   \n",
       "1                                 13.992281   \n",
       "2                                 14.015015   \n",
       "3                                 14.036510   \n",
       "4                                 14.027298   \n",
       "\n",
       "   secondary_cleaner.state.floatbank4_a_level  \\\n",
       "0                                 -502.488007   \n",
       "1                                 -505.503262   \n",
       "2                                 -502.520901   \n",
       "3                                 -500.857308   \n",
       "4                                 -499.838632   \n",
       "\n",
       "   secondary_cleaner.state.floatbank4_b_air  \\\n",
       "0                                 12.099931   \n",
       "1                                 11.950531   \n",
       "2                                 11.912783   \n",
       "3                                 11.999550   \n",
       "4                                 11.953070   \n",
       "\n",
       "   secondary_cleaner.state.floatbank4_b_level  \\\n",
       "0                                 -504.715942   \n",
       "1                                 -501.331529   \n",
       "2                                 -501.133383   \n",
       "3                                 -501.193686   \n",
       "4                                 -501.053894   \n",
       "\n",
       "   secondary_cleaner.state.floatbank5_a_air  \\\n",
       "0                                  9.925633   \n",
       "1                                 10.039245   \n",
       "2                                 10.070913   \n",
       "3                                  9.970366   \n",
       "4                                  9.925709   \n",
       "\n",
       "   secondary_cleaner.state.floatbank5_a_level  \\\n",
       "0                                 -498.310211   \n",
       "1                                 -500.169983   \n",
       "2                                 -500.129135   \n",
       "3                                 -499.201640   \n",
       "4                                 -501.686727   \n",
       "\n",
       "   secondary_cleaner.state.floatbank5_b_air  \\\n",
       "0                                  8.079666   \n",
       "1                                  7.984757   \n",
       "2                                  8.013877   \n",
       "3                                  7.977324   \n",
       "4                                  7.894242   \n",
       "\n",
       "   secondary_cleaner.state.floatbank5_b_level  \\\n",
       "0                                 -500.470978   \n",
       "1                                 -500.582168   \n",
       "2                                 -500.517572   \n",
       "3                                 -500.255908   \n",
       "4                                 -500.356035   \n",
       "\n",
       "   secondary_cleaner.state.floatbank6_a_air  \\\n",
       "0                                 14.151341   \n",
       "1                                 13.998353   \n",
       "2                                 14.028663   \n",
       "3                                 14.005551   \n",
       "4                                 13.996647   \n",
       "\n",
       "   secondary_cleaner.state.floatbank6_a_level  \\\n",
       "0                                 -605.841980   \n",
       "1                                 -599.787184   \n",
       "2                                 -601.427363   \n",
       "3                                 -599.996129   \n",
       "4                                 -601.496691   \n",
       "\n",
       "   secondary_cleaner.output.tail_au  secondary_cleaner.output.tail_ag  \\\n",
       "0                          2.606185                         14.500184   \n",
       "1                          2.488248                         14.265474   \n",
       "2                          2.458187                         14.115662   \n",
       "3                          2.322062                         13.732071   \n",
       "4                          2.330448                         14.079996   \n",
       "\n",
       "   secondary_cleaner.output.tail_pb  secondary_cleaner.output.tail_sol  \\\n",
       "0                          4.694824                           8.764648   \n",
       "1                          4.592547                           9.001494   \n",
       "2                          4.624775                           8.842896   \n",
       "3                          4.482453                           9.122857   \n",
       "4                          4.470737                           8.871028   \n",
       "\n",
       "   final.output.concentrate_au  final.output.concentrate_ag  \\\n",
       "0                    42.192020                     6.055403   \n",
       "1                    42.701629                     6.029369   \n",
       "2                    42.657501                     6.055926   \n",
       "3                    42.689819                     6.047977   \n",
       "4                    42.774141                     6.148599   \n",
       "\n",
       "   final.output.concentrate_pb  final.output.concentrate_sol  \\\n",
       "0                     9.889648                      5.507324   \n",
       "1                     9.968944                      5.257781   \n",
       "2                    10.213995                      5.383759   \n",
       "3                     9.977019                      4.858634   \n",
       "4                    10.142511                      4.939416   \n",
       "\n",
       "   final.output.recovery  final.output.tail_au  final.output.tail_ag  \\\n",
       "0              70.541216              2.143149             10.411962   \n",
       "1              69.266198              2.224930             10.462676   \n",
       "2              68.116445              2.257889             10.507046   \n",
       "3              68.347543              2.146849             10.422762   \n",
       "4              66.927016              2.055292             10.360302   \n",
       "\n",
       "   final.output.tail_pb  final.output.tail_sol  \n",
       "0              0.895447              16.904297  \n",
       "1              0.927452              16.634514  \n",
       "2              0.953716              16.208849  \n",
       "3              0.883763              16.532835  \n",
       "4              0.792826              16.525686  "
      ]
     },
     "metadata": {},
     "output_type": "display_data"
    },
    {
     "name": "stdout",
     "output_type": "stream",
     "text": [
      "<class 'pandas.core.frame.DataFrame'>\n",
      "RangeIndex: 14579 entries, 0 to 14578\n",
      "Data columns (total 87 columns):\n",
      " #   Column                                              Non-Null Count  Dtype  \n",
      "---  ------                                              --------------  -----  \n",
      " 0   date                                                14579 non-null  object \n",
      " 1   rougher.input.feed_au                               14579 non-null  float64\n",
      " 2   rougher.input.feed_ag                               14579 non-null  float64\n",
      " 3   rougher.input.feed_pb                               14507 non-null  float64\n",
      " 4   rougher.input.feed_sol                              14502 non-null  float64\n",
      " 5   rougher.input.feed_rate                             14572 non-null  float64\n",
      " 6   rougher.input.feed_size                             14478 non-null  float64\n",
      " 7   rougher.input.floatbank10_sulfate                   14548 non-null  float64\n",
      " 8   rougher.input.floatbank10_xanthate                  14572 non-null  float64\n",
      " 9   rougher.state.floatbank10_a_air                     14579 non-null  float64\n",
      " 10  rougher.state.floatbank10_a_level                   14579 non-null  float64\n",
      " 11  rougher.state.floatbank10_b_air                     14579 non-null  float64\n",
      " 12  rougher.state.floatbank10_b_level                   14579 non-null  float64\n",
      " 13  rougher.state.floatbank10_c_air                     14579 non-null  float64\n",
      " 14  rougher.state.floatbank10_c_level                   14579 non-null  float64\n",
      " 15  rougher.state.floatbank10_d_air                     14579 non-null  float64\n",
      " 16  rougher.state.floatbank10_d_level                   14579 non-null  float64\n",
      " 17  rougher.state.floatbank10_e_air                     14150 non-null  float64\n",
      " 18  rougher.state.floatbank10_e_level                   14579 non-null  float64\n",
      " 19  rougher.state.floatbank10_f_air                     14579 non-null  float64\n",
      " 20  rougher.state.floatbank10_f_level                   14579 non-null  float64\n",
      " 21  rougher.input.floatbank11_sulfate                   14543 non-null  float64\n",
      " 22  rougher.input.floatbank11_xanthate                  14172 non-null  float64\n",
      " 23  rougher.calculation.sulfate_to_au_concentrate       14578 non-null  float64\n",
      " 24  rougher.calculation.floatbank10_sulfate_to_au_feed  14578 non-null  float64\n",
      " 25  rougher.calculation.floatbank11_sulfate_to_au_feed  14578 non-null  float64\n",
      " 26  rougher.calculation.au_pb_ratio                     14579 non-null  float64\n",
      " 27  rougher.output.concentrate_au                       14579 non-null  float64\n",
      " 28  rougher.output.concentrate_ag                       14579 non-null  float64\n",
      " 29  rougher.output.concentrate_pb                       14579 non-null  float64\n",
      " 30  rougher.output.concentrate_sol                      14561 non-null  float64\n",
      " 31  rougher.output.recovery                             14579 non-null  float64\n",
      " 32  rougher.output.tail_au                              14579 non-null  float64\n",
      " 33  rougher.output.tail_ag                              14578 non-null  float64\n",
      " 34  rougher.output.tail_pb                              14579 non-null  float64\n",
      " 35  rougher.output.tail_sol                             14579 non-null  float64\n",
      " 36  primary_cleaner.input.sulfate                       14556 non-null  float64\n",
      " 37  primary_cleaner.input.depressant                    14551 non-null  float64\n",
      " 38  primary_cleaner.input.feed_size                     14579 non-null  float64\n",
      " 39  primary_cleaner.input.xanthate                      14518 non-null  float64\n",
      " 40  primary_cleaner.state.floatbank8_a_air              14576 non-null  float64\n",
      " 41  primary_cleaner.state.floatbank8_a_level            14579 non-null  float64\n",
      " 42  primary_cleaner.state.floatbank8_b_air              14576 non-null  float64\n",
      " 43  primary_cleaner.state.floatbank8_b_level            14579 non-null  float64\n",
      " 44  primary_cleaner.state.floatbank8_c_air              14579 non-null  float64\n",
      " 45  primary_cleaner.state.floatbank8_c_level            14579 non-null  float64\n",
      " 46  primary_cleaner.state.floatbank8_d_air              14578 non-null  float64\n",
      " 47  primary_cleaner.state.floatbank8_d_level            14579 non-null  float64\n",
      " 48  primary_cleaner.output.concentrate_au               14579 non-null  float64\n",
      " 49  primary_cleaner.output.concentrate_ag               14579 non-null  float64\n",
      " 50  primary_cleaner.output.concentrate_pb               14491 non-null  float64\n",
      " 51  primary_cleaner.output.concentrate_sol              14314 non-null  float64\n",
      " 52  primary_cleaner.output.tail_au                      14579 non-null  float64\n",
      " 53  primary_cleaner.output.tail_ag                      14575 non-null  float64\n",
      " 54  primary_cleaner.output.tail_pb                      14573 non-null  float64\n",
      " 55  primary_cleaner.output.tail_sol                     14534 non-null  float64\n",
      " 56  secondary_cleaner.state.floatbank2_a_air            14485 non-null  float64\n",
      " 57  secondary_cleaner.state.floatbank2_a_level          14579 non-null  float64\n",
      " 58  secondary_cleaner.state.floatbank2_b_air            14557 non-null  float64\n",
      " 59  secondary_cleaner.state.floatbank2_b_level          14579 non-null  float64\n",
      " 60  secondary_cleaner.state.floatbank3_a_air            14567 non-null  float64\n",
      " 61  secondary_cleaner.state.floatbank3_a_level          14579 non-null  float64\n",
      " 62  secondary_cleaner.state.floatbank3_b_air            14579 non-null  float64\n",
      " 63  secondary_cleaner.state.floatbank3_b_level          14579 non-null  float64\n",
      " 64  secondary_cleaner.state.floatbank4_a_air            14574 non-null  float64\n",
      " 65  secondary_cleaner.state.floatbank4_a_level          14579 non-null  float64\n",
      " 66  secondary_cleaner.state.floatbank4_b_air            14579 non-null  float64\n",
      " 67  secondary_cleaner.state.floatbank4_b_level          14579 non-null  float64\n",
      " 68  secondary_cleaner.state.floatbank5_a_air            14579 non-null  float64\n",
      " 69  secondary_cleaner.state.floatbank5_a_level          14579 non-null  float64\n",
      " 70  secondary_cleaner.state.floatbank5_b_air            14579 non-null  float64\n",
      " 71  secondary_cleaner.state.floatbank5_b_level          14579 non-null  float64\n",
      " 72  secondary_cleaner.state.floatbank6_a_air            14578 non-null  float64\n",
      " 73  secondary_cleaner.state.floatbank6_a_level          14579 non-null  float64\n",
      " 74  secondary_cleaner.output.tail_au                    14579 non-null  float64\n",
      " 75  secondary_cleaner.output.tail_ag                    14578 non-null  float64\n",
      " 76  secondary_cleaner.output.tail_pb                    14575 non-null  float64\n",
      " 77  secondary_cleaner.output.tail_sol                   13659 non-null  float64\n",
      " 78  final.output.concentrate_au                         14579 non-null  float64\n",
      " 79  final.output.concentrate_ag                         14578 non-null  float64\n",
      " 80  final.output.concentrate_pb                         14578 non-null  float64\n",
      " 81  final.output.concentrate_sol                        14387 non-null  float64\n",
      " 82  final.output.recovery                               14579 non-null  float64\n",
      " 83  final.output.tail_au                                14579 non-null  float64\n",
      " 84  final.output.tail_ag                                14578 non-null  float64\n",
      " 85  final.output.tail_pb                                14504 non-null  float64\n",
      " 86  final.output.tail_sol                               14574 non-null  float64\n",
      "dtypes: float64(86), object(1)\n",
      "memory usage: 9.7+ MB\n"
     ]
    }
   ],
   "source": [
    "for df in df_list:\n",
    "    display(df.head())\n",
    "    df.info()"
   ]
  },
  {
   "cell_type": "markdown",
   "metadata": {},
   "source": [
    "***Описание данных***  \n",
    "\n",
    "Технологический процесс \n",
    "\n",
    "Rougher feed — исходное сырье  \n",
    "Rougher additions (или reagent additions) — флотационные реагенты: Xanthate, Sulphate, Depressant  \n",
    "Xanthate — ксантогенат (промотер, или активатор флотации);  \n",
    "Sulphate — сульфат (на данном производстве сульфид натрия);  \n",
    "Depressant — депрессант (силикат натрия).  \n",
    "Rougher process (англ. «грубый процесс») — флотация  \n",
    "Rougher tails — отвальные хвосты  \n",
    "Float banks — флотационная установка  \n",
    "Cleaner process — очистка  \n",
    "Rougher Au — черновой концентрат золота  \n",
    "Final Au — финальный концентрат золота  \n",
    "\n",
    "Параметры этапов  \n",
    "air amount — объём воздуха   \n",
    "fluid levels — уровень жидкости  \n",
    "feed size — размер гранул сырья  \n",
    "feed rate — скорость подачи  \n",
    "\n",
    "Наименование признаков  \n",
    "Наименование признаков должно быть такое:  \n",
    "[этап].[тип_параметра].[название_параметра]\n",
    "Пример: rougher.input.feed_ag  \n",
    "\n",
    "Возможные значения для блока [этап]:  \n",
    "rougher — флотация  \n",
    "primary_cleaner — первичная очистка  \n",
    "secondary_cleaner — вторичная очистка  \n",
    "final — финальные характеристики  \n",
    "\n",
    "Возможные значения для блока [тип_параметра]:  \n",
    "input — параметры сырья  \n",
    "output — параметры продукта  \n",
    "state — параметры, характеризующие текущее состояние этапа  \n",
    "calculation — расчётные характеристики  \n"
   ]
  },
  {
   "cell_type": "markdown",
   "metadata": {},
   "source": [
    "Проверим, что эффективность обогащения рассчитана правильно. Вычислим её на обучающей выборке для признака rougher.output.recovery. Найдем MAE между нашими расчётами и значением признака. Опишем выводы."
   ]
  },
  {
   "cell_type": "code",
   "execution_count": 5,
   "metadata": {},
   "outputs": [],
   "source": [
    "\n",
    "# создаём функцию и приводим в ней формулу расчета recovery\n",
    "\n",
    "def output_recovery(C, F, T):\n",
    "    recovery = (C * (F - T)) / (F * (C - T)) * 100\n",
    "    return recovery"
   ]
  },
  {
   "cell_type": "markdown",
   "metadata": {},
   "source": [
    "где:\n",
    "\n",
    "C — доля золота в концентрате после флотации/очистки;  \n",
    "F — доля золота в сырье/концентрате до флотации/очистки;  \n",
    "T — доля золота в отвальных хвостах после флотации/очистки  \n",
    "\n",
    "Для прогноза коэффициента нужно найти долю золота в концентратах и хвостах. Причём важен не только финальный продукт, но и черновой концентрат.  \n",
    "Выберем то, что связано с золотодобычей, сульфаты с золотом в расчет брать не будем, смесь золота со свинцом тоже не берем."
   ]
  },
  {
   "cell_type": "code",
   "execution_count": 6,
   "metadata": {},
   "outputs": [
    {
     "data": {
      "text/html": [
       "<div>\n",
       "<style scoped>\n",
       "    .dataframe tbody tr th:only-of-type {\n",
       "        vertical-align: middle;\n",
       "    }\n",
       "\n",
       "    .dataframe tbody tr th {\n",
       "        vertical-align: top;\n",
       "    }\n",
       "\n",
       "    .dataframe thead th {\n",
       "        text-align: right;\n",
       "    }\n",
       "</style>\n",
       "<table border=\"1\" class=\"dataframe\">\n",
       "  <thead>\n",
       "    <tr style=\"text-align: right;\">\n",
       "      <th></th>\n",
       "      <th>rougher.output.concentrate_au</th>\n",
       "      <th>rougher.input.feed_au</th>\n",
       "      <th>rougher.output.tail_au</th>\n",
       "      <th>rougher.output.recovery</th>\n",
       "      <th>check_recovery</th>\n",
       "    </tr>\n",
       "  </thead>\n",
       "  <tbody>\n",
       "    <tr>\n",
       "      <th>0</th>\n",
       "      <td>19.793808</td>\n",
       "      <td>6.486150</td>\n",
       "      <td>1.170244</td>\n",
       "      <td>87.107763</td>\n",
       "      <td>87.107763</td>\n",
       "    </tr>\n",
       "    <tr>\n",
       "      <th>1</th>\n",
       "      <td>20.050975</td>\n",
       "      <td>6.478583</td>\n",
       "      <td>1.184827</td>\n",
       "      <td>86.843261</td>\n",
       "      <td>86.843261</td>\n",
       "    </tr>\n",
       "    <tr>\n",
       "      <th>2</th>\n",
       "      <td>19.737170</td>\n",
       "      <td>6.362222</td>\n",
       "      <td>1.162562</td>\n",
       "      <td>86.842308</td>\n",
       "      <td>86.842308</td>\n",
       "    </tr>\n",
       "    <tr>\n",
       "      <th>3</th>\n",
       "      <td>19.320810</td>\n",
       "      <td>6.118189</td>\n",
       "      <td>1.079755</td>\n",
       "      <td>87.226430</td>\n",
       "      <td>87.226430</td>\n",
       "    </tr>\n",
       "    <tr>\n",
       "      <th>4</th>\n",
       "      <td>19.216101</td>\n",
       "      <td>5.663707</td>\n",
       "      <td>1.012642</td>\n",
       "      <td>86.688794</td>\n",
       "      <td>86.688794</td>\n",
       "    </tr>\n",
       "  </tbody>\n",
       "</table>\n",
       "</div>"
      ],
      "text/plain": [
       "   rougher.output.concentrate_au  rougher.input.feed_au  \\\n",
       "0                      19.793808               6.486150   \n",
       "1                      20.050975               6.478583   \n",
       "2                      19.737170               6.362222   \n",
       "3                      19.320810               6.118189   \n",
       "4                      19.216101               5.663707   \n",
       "\n",
       "   rougher.output.tail_au  rougher.output.recovery  check_recovery  \n",
       "0                1.170244                87.107763       87.107763  \n",
       "1                1.184827                86.843261       86.843261  \n",
       "2                1.162562                86.842308       86.842308  \n",
       "3                1.079755                87.226430       87.226430  \n",
       "4                1.012642                86.688794       86.688794  "
      ]
     },
     "execution_count": 6,
     "metadata": {},
     "output_type": "execute_result"
    }
   ],
   "source": [
    "# выведем необходимые расчеты в отдельный датафрейм\n",
    "df_test_recovery = df_train[['rougher.output.concentrate_au', \n",
    "                            'rougher.input.feed_au', \n",
    "                            'rougher.output.tail_au', \n",
    "                            'rougher.output.recovery']]\n",
    "\n",
    "# рассчитаем значение\n",
    "df_test_recovery['check_recovery'] = df_test_recovery.apply(\n",
    "    lambda row: output_recovery(row['rougher.output.concentrate_au'], \n",
    "                                row['rougher.input.feed_au'], \n",
    "                                row['rougher.output.tail_au']), \n",
    "    axis=1)\n",
    "\n",
    "# посмотрим таблицу\n",
    "df_test_recovery.head()"
   ]
  },
  {
   "cell_type": "markdown",
   "metadata": {},
   "source": [
    "Замечательно, что основные метрики для регрессии: MSE, RMSE, MAE можно оптимизировать напрямую. С формальной точки зрения MAE не дифференцируема, так как там присутствует модуль, чья производная не определена в нуле. На практике для этого выколотого случая в коде можно возвращать ноль.\n",
    "\n",
    "Для оптимизации MAPE придётся изменять оптимизационную задачу. Оптимизацию MAPE можно представить как оптимизацию MAE, где объектам выборки присвоен вес."
   ]
  },
  {
   "cell_type": "code",
   "execution_count": 7,
   "metadata": {},
   "outputs": [
    {
     "data": {
      "text/plain": [
       "0.0"
      ]
     },
     "execution_count": 7,
     "metadata": {},
     "output_type": "execute_result"
    }
   ],
   "source": [
    "# разделим на предсказания и целевой результат\n",
    "df_test_recovery_target = df_test_recovery['rougher.output.recovery']\n",
    "df_test_recovery_predictions = df_test_recovery['check_recovery']\n",
    "\n",
    "# рассчитаем MAE\n",
    "round(mean_absolute_error(\n",
    "    df_test_recovery_target, \n",
    "    df_test_recovery_predictions\n",
    "), 2)"
   ]
  },
  {
   "cell_type": "markdown",
   "metadata": {},
   "source": [
    "Среднее абсолютное отклонение - указывает на то, что исходный продукт может отличаться от фактического выведенного продукта.\n",
    "\n",
    "Средний MAE - 0.0. Выходит, что все рассчитано правильно.\n",
    "\n",
    "Далее проанализируем признаки, недоступные в тестовой выборке. Возможно их придется исключить при обучении модели. \n"
   ]
  },
  {
   "cell_type": "code",
   "execution_count": 8,
   "metadata": {
    "scrolled": true
   },
   "outputs": [
    {
     "data": {
      "text/plain": [
       "['date']"
      ]
     },
     "execution_count": 8,
     "metadata": {},
     "output_type": "execute_result"
    }
   ],
   "source": [
    "# создаём столбец и включаем в него столбец date\n",
    "columns_not_needed = ['date']\n",
    "\n",
    "# смотрит столбцы\n",
    "for col1 in df_full.columns:\n",
    "    if col1 not in df_test.columns:\n",
    "        columns_not_needed.append(col1)\n",
    "        \n",
    "columns_not_needed\n"
   ]
  },
  {
   "cell_type": "markdown",
   "metadata": {},
   "source": [
    "Недоступные строки:\n",
    "\n",
    "final.output.concentrate, final.output.recovery, final.output.tail - финальные характеристики полезного ископаемого, и эффективность полного цикла обогащения    \n",
    "primary_cleaner.output.concentrate, primary_cleaner.output.tail - результаты первичной очистки    \n",
    "rougher.calculation, rougher.output.concentrat, rougher.output.tail, rougher.output.recovery - расчетные характеристики флотационных установок,   концентрат и хвост от флотации, эффективность    \n",
    "secondary_cleaner.output - результаты вторичной очистки (количество продукта)    \n",
    "Как видно из названий столбцов, их объединяет одно - это результаты обогащения полезного ископаемого. Тестовая выборка содержит в себе столбцы, которые являются исходными, то есть до   начала обогащения. Именно с помощью этих данных мы должны создать модель, которая будет предсказывать эффективность будущей флотации.    "
   ]
  },
  {
   "cell_type": "markdown",
   "metadata": {},
   "source": [
    "Дошли до предобработки. Посмотрим есть ли у нас дубликаты в выборках."
   ]
  },
  {
   "cell_type": "code",
   "execution_count": 9,
   "metadata": {},
   "outputs": [
    {
     "data": {
      "text/plain": [
       "0"
      ]
     },
     "metadata": {},
     "output_type": "display_data"
    },
    {
     "data": {
      "text/plain": [
       "0"
      ]
     },
     "metadata": {},
     "output_type": "display_data"
    },
    {
     "data": {
      "text/plain": [
       "0"
      ]
     },
     "metadata": {},
     "output_type": "display_data"
    }
   ],
   "source": [
    "for df in df_list:\n",
    "    display(df.duplicated().sum())"
   ]
  },
  {
   "cell_type": "code",
   "execution_count": 10,
   "metadata": {
    "scrolled": true
   },
   "outputs": [
    {
     "data": {
      "text/plain": [
       "rougher.input.feed_pb                                  72\n",
       "rougher.input.feed_sol                                 77\n",
       "rougher.input.feed_rate                                 7\n",
       "rougher.input.feed_size                               101\n",
       "rougher.input.floatbank10_sulfate                      31\n",
       "rougher.input.floatbank10_xanthate                      7\n",
       "rougher.state.floatbank10_e_air                       429\n",
       "rougher.input.floatbank11_sulfate                      36\n",
       "rougher.input.floatbank11_xanthate                    407\n",
       "rougher.calculation.sulfate_to_au_concentrate           1\n",
       "rougher.calculation.floatbank10_sulfate_to_au_feed      1\n",
       "rougher.calculation.floatbank11_sulfate_to_au_feed      1\n",
       "rougher.output.concentrate_sol                         18\n",
       "rougher.output.tail_ag                                  1\n",
       "primary_cleaner.input.sulfate                          23\n",
       "primary_cleaner.input.depressant                       28\n",
       "primary_cleaner.input.xanthate                         61\n",
       "primary_cleaner.state.floatbank8_a_air                  3\n",
       "primary_cleaner.state.floatbank8_b_air                  3\n",
       "primary_cleaner.state.floatbank8_d_air                  1\n",
       "primary_cleaner.output.concentrate_pb                  88\n",
       "primary_cleaner.output.concentrate_sol                265\n",
       "primary_cleaner.output.tail_ag                          4\n",
       "primary_cleaner.output.tail_pb                          6\n",
       "primary_cleaner.output.tail_sol                        45\n",
       "secondary_cleaner.state.floatbank2_a_air               94\n",
       "secondary_cleaner.state.floatbank2_b_air               22\n",
       "secondary_cleaner.state.floatbank3_a_air               12\n",
       "secondary_cleaner.state.floatbank4_a_air                5\n",
       "secondary_cleaner.state.floatbank6_a_air                1\n",
       "secondary_cleaner.output.tail_ag                        1\n",
       "secondary_cleaner.output.tail_pb                        4\n",
       "secondary_cleaner.output.tail_sol                     920\n",
       "final.output.concentrate_ag                             1\n",
       "final.output.concentrate_pb                             1\n",
       "final.output.concentrate_sol                          192\n",
       "final.output.tail_ag                                    1\n",
       "final.output.tail_pb                                   75\n",
       "final.output.tail_sol                                   5\n",
       "dtype: int64"
      ]
     },
     "metadata": {},
     "output_type": "display_data"
    },
    {
     "data": {
      "text/plain": [
       "rougher.input.feed_pb                                  72\n",
       "rougher.input.feed_sol                                 77\n",
       "rougher.input.feed_rate                                 7\n",
       "rougher.input.feed_size                               101\n",
       "rougher.input.floatbank10_sulfate                      31\n",
       "rougher.input.floatbank10_xanthate                      7\n",
       "rougher.state.floatbank10_e_air                       429\n",
       "rougher.input.floatbank11_sulfate                      36\n",
       "rougher.input.floatbank11_xanthate                    407\n",
       "rougher.calculation.sulfate_to_au_concentrate           1\n",
       "rougher.calculation.floatbank10_sulfate_to_au_feed      1\n",
       "rougher.calculation.floatbank11_sulfate_to_au_feed      1\n",
       "rougher.output.concentrate_sol                         18\n",
       "rougher.output.tail_ag                                  1\n",
       "primary_cleaner.input.sulfate                          23\n",
       "primary_cleaner.input.depressant                       28\n",
       "primary_cleaner.input.xanthate                         61\n",
       "primary_cleaner.state.floatbank8_a_air                  3\n",
       "primary_cleaner.state.floatbank8_b_air                  3\n",
       "primary_cleaner.state.floatbank8_d_air                  1\n",
       "primary_cleaner.output.concentrate_pb                  88\n",
       "primary_cleaner.output.concentrate_sol                265\n",
       "primary_cleaner.output.tail_ag                          4\n",
       "primary_cleaner.output.tail_pb                          6\n",
       "primary_cleaner.output.tail_sol                        45\n",
       "secondary_cleaner.state.floatbank2_a_air               94\n",
       "secondary_cleaner.state.floatbank2_b_air               22\n",
       "secondary_cleaner.state.floatbank3_a_air               12\n",
       "secondary_cleaner.state.floatbank4_a_air                5\n",
       "secondary_cleaner.state.floatbank6_a_air                1\n",
       "secondary_cleaner.output.tail_ag                        1\n",
       "secondary_cleaner.output.tail_pb                        4\n",
       "secondary_cleaner.output.tail_sol                     920\n",
       "final.output.concentrate_ag                             1\n",
       "final.output.concentrate_pb                             1\n",
       "final.output.concentrate_sol                          192\n",
       "final.output.tail_ag                                    1\n",
       "final.output.tail_pb                                   75\n",
       "final.output.tail_sol                                   5\n",
       "dtype: int64"
      ]
     },
     "metadata": {},
     "output_type": "display_data"
    },
    {
     "data": {
      "text/plain": [
       "rougher.input.feed_pb                                  72\n",
       "rougher.input.feed_sol                                 77\n",
       "rougher.input.feed_rate                                 7\n",
       "rougher.input.feed_size                               101\n",
       "rougher.input.floatbank10_sulfate                      31\n",
       "rougher.input.floatbank10_xanthate                      7\n",
       "rougher.state.floatbank10_e_air                       429\n",
       "rougher.input.floatbank11_sulfate                      36\n",
       "rougher.input.floatbank11_xanthate                    407\n",
       "rougher.calculation.sulfate_to_au_concentrate           1\n",
       "rougher.calculation.floatbank10_sulfate_to_au_feed      1\n",
       "rougher.calculation.floatbank11_sulfate_to_au_feed      1\n",
       "rougher.output.concentrate_sol                         18\n",
       "rougher.output.tail_ag                                  1\n",
       "primary_cleaner.input.sulfate                          23\n",
       "primary_cleaner.input.depressant                       28\n",
       "primary_cleaner.input.xanthate                         61\n",
       "primary_cleaner.state.floatbank8_a_air                  3\n",
       "primary_cleaner.state.floatbank8_b_air                  3\n",
       "primary_cleaner.state.floatbank8_d_air                  1\n",
       "primary_cleaner.output.concentrate_pb                  88\n",
       "primary_cleaner.output.concentrate_sol                265\n",
       "primary_cleaner.output.tail_ag                          4\n",
       "primary_cleaner.output.tail_pb                          6\n",
       "primary_cleaner.output.tail_sol                        45\n",
       "secondary_cleaner.state.floatbank2_a_air               94\n",
       "secondary_cleaner.state.floatbank2_b_air               22\n",
       "secondary_cleaner.state.floatbank3_a_air               12\n",
       "secondary_cleaner.state.floatbank4_a_air                5\n",
       "secondary_cleaner.state.floatbank6_a_air                1\n",
       "secondary_cleaner.output.tail_ag                        1\n",
       "secondary_cleaner.output.tail_pb                        4\n",
       "secondary_cleaner.output.tail_sol                     920\n",
       "final.output.concentrate_ag                             1\n",
       "final.output.concentrate_pb                             1\n",
       "final.output.concentrate_sol                          192\n",
       "final.output.tail_ag                                    1\n",
       "final.output.tail_pb                                   75\n",
       "final.output.tail_sol                                   5\n",
       "dtype: int64"
      ]
     },
     "metadata": {},
     "output_type": "display_data"
    }
   ],
   "source": [
    "for df in df_list:\n",
    "    display(df.isna().sum()[df.isna().sum() > 0])"
   ]
  },
  {
   "cell_type": "markdown",
   "metadata": {},
   "source": [
    "Способы заполнить пропуски в данных:\n",
    "\n",
    "Можем зaполнить пропуски рaндомным значением по нормaльному распределению в столбце или средним значением,\n",
    "как сказано в условии задачи - данные распределены по времени, значит их можно заполнить прошлым или будущим значением столбца.\n",
    "\n",
    "Тaк как дaнные распределены по времени, при удалении строк - нить обогащения потеряется. Так же потеряется при заполнении их медианным или средним значением.\n",
    "\n",
    "Скорее стоит зaполнить пропуски знaчением в прошлой строке.\n",
    "\n",
    "Заполним пропуски методом pandas ffill(), который позволяет нам заполнить значение NaN во фрейме данных. Ffill означает перенаправление заполнения, что означает, что нулевые значения заменяются данными из предыдущего столбца или строки. У нас inplace=True для внесения изменений на месте, копию возвращать не будем.\n",
    "\n",
    "Так как полный датасет содержит в себе остальные данные - заполним пропуски там и дополним датасеты."
   ]
  },
  {
   "cell_type": "code",
   "execution_count": 11,
   "metadata": {},
   "outputs": [],
   "source": [
    "for df in df_list:\n",
    "    df.ffill(inplace=True) \n",
    "    "
   ]
  },
  {
   "cell_type": "code",
   "execution_count": 12,
   "metadata": {},
   "outputs": [
    {
     "data": {
      "text/plain": [
       "Series([], dtype: int64)"
      ]
     },
     "metadata": {},
     "output_type": "display_data"
    },
    {
     "data": {
      "text/plain": [
       "Series([], dtype: int64)"
      ]
     },
     "metadata": {},
     "output_type": "display_data"
    },
    {
     "data": {
      "text/plain": [
       "Series([], dtype: int64)"
      ]
     },
     "metadata": {},
     "output_type": "display_data"
    }
   ],
   "source": [
    "for df in df_list:\n",
    "    display(df.isna().sum()[df.isna().sum() > 0])"
   ]
  },
  {
   "cell_type": "markdown",
   "metadata": {},
   "source": [
    "Заполнили во всех выборках разом, так как нам еще обучать и тесты проводить."
   ]
  },
  {
   "cell_type": "markdown",
   "metadata": {},
   "source": [
    "<a id='step2'></a>  **Анализ данных**"
   ]
  },
  {
   "cell_type": "markdown",
   "metadata": {},
   "source": [
    "2. Проанализируйте данные  \n",
    "2.1. Посмотрите, как меняется концентрация металлов (Au, Ag, Pb) на различных этапах очистки. Опишите выводы.  \n",
    "2.2.  Сравните распределения размеров гранул сырья на обучающей и тестовой выборках. Если распределения сильно отличаются друг от друга, оценка модели будет   неправильной.  \n",
    "2.3. Исследуйте суммарную концентрацию всех веществ на разных стадиях: в сырье, в черновом и финальном концентратах.   "
   ]
  },
  {
   "cell_type": "markdown",
   "metadata": {},
   "source": [
    "\n",
    "rougher — флотация  \n",
    "primary_cleaner — первичная очистка  \n",
    "secondary_cleaner — вторичная очистка  \n",
    "final — финальные характеристики  \n",
    "\n"
   ]
  },
  {
   "cell_type": "code",
   "execution_count": 13,
   "metadata": {},
   "outputs": [
    {
     "data": {
      "image/png": "[encoded data removed]",
      "text/plain": [
       "<Figure size 1200x900 with 1 Axes>"
      ]
     },
     "metadata": {},
     "output_type": "display_data"
    },
    {
     "data": {
      "image/png": "[encoded data removed]",
      "text/plain": [
       "<Figure size 1200x900 with 1 Axes>"
      ]
     },
     "metadata": {},
     "output_type": "display_data"
    },
    {
     "data": {
      "image/png": "[encoded data removed]",
      "text/plain": [
       "<Figure size 1200x900 with 1 Axes>"
      ]
     },
     "metadata": {},
     "output_type": "display_data"
    }
   ],
   "source": [
    " # создадим список для цикла\n",
    "poisoning_chemistry = [('au', 'золота'), ('ag', 'серебра'), ('pb', 'свинца')]\n",
    "\n",
    "chemical_stage = [('rougher.output.concentrate_', 'Флотация'), \n",
    "               ('primary_cleaner.output.concentrate_', 'Первый этап очистки'), \n",
    "               ('final.output.concentrate_', 'Второй этап очистки')]\n",
    "\n",
    "# создаём цикл для вывода необходимых графиков\n",
    "for i in poisoning_chemistry:\n",
    "    plt.figure(figsize=(12,9))\n",
    "    for item in chemical_stage:\n",
    "        ax = sns.distplot(df_full[item[0] + i[0]], label=item[1])\n",
    "        plt.legend()\n",
    "        _ = ax.set(xlabel='Распределение концeнтрации ' + i[1], \n",
    "                   title='Изменение концентрации ' + i[1] + ' на каждом этапе очистки')\n",
    "    plt.show()\n",
    "    \n",
    "    \n",
    " "
   ]
  },
  {
   "cell_type": "markdown",
   "metadata": {},
   "source": [
    "Судя по графику можем заключить следущее:\n",
    "\n",
    "С каждой очисткой концентрация золота увеличивается;  \n",
    "С каждой очисткой концентрация серебра уменьшается;     \n",
    "С каждой очисткой концентрация свинца сначала увеличивается, но потом будто выравнивается +/- на один уровень.     "
   ]
  },
  {
   "cell_type": "markdown",
   "metadata": {},
   "source": [
    "Параметры этапов  \n",
    "air amount — объём воздуха  \n",
    "fluid levels — уровень жидкости  \n",
    "feed size — размер гранул сырья  \n",
    "feed rate — скорость подачи  "
   ]
  },
  {
   "cell_type": "code",
   "execution_count": 14,
   "metadata": {},
   "outputs": [
    {
     "data": {
      "image/png": "[encoded data removed]",
      "text/plain": [
       "<Figure size 1200x700 with 1 Axes>"
      ]
     },
     "metadata": {},
     "output_type": "display_data"
    }
   ],
   "source": [
    "# рассмотрим оба графика на одном\n",
    "\n",
    "plt.figure(figsize = (12,7))\n",
    "plt.xlim(0, 200)\n",
    "ax = sns.histplot(df_train['rougher.input.feed_size'], \n",
    "                  bins=200, \n",
    "                  kde=True, \n",
    "                  alpha=0.7,\n",
    "                  line_kws = {'color': 'red', \"lw\":2})\n",
    "ax.lines[0].set_color('black')\n",
    "ax = sns.histplot(df_test['rougher.input.feed_size'], \n",
    "                  bins=200, \n",
    "                  kde=True, \n",
    "                  color='blue',\n",
    "                  alpha=0.7,\n",
    "                  line_kws = {'color': 'red', \"lw\":2})\n",
    "ax.lines[1].set_color('crimson')\n",
    "plt.title('Распределение значений размера гранул сырья на тестовой и обучающей выборке', fontsize='xx-large')\n",
    "plt.show()"
   ]
  },
  {
   "cell_type": "markdown",
   "metadata": {},
   "source": [
    "Построим распределения, используя оценку плотности ядра.\n",
    "\n",
    "График оценки плотности ядра (KDE) — это метод визуализации распределения наблюдений в наборе данных, аналогичный гистограмме. KDE представляет данные, используя непрерывную кривую плотности вероятности в одном или нескольких измерениях.\n",
    "\n"
   ]
  },
  {
   "cell_type": "code",
   "execution_count": 15,
   "metadata": {},
   "outputs": [
    {
     "data": {
      "image/png": "[encoded data removed]",
      "text/plain": [
       "<Figure size 1200x700 with 1 Axes>"
      ]
     },
     "metadata": {},
     "output_type": "display_data"
    }
   ],
   "source": [
    "plt.figure(figsize = (12,7))\n",
    "plt.xlim(0, 200)\n",
    "ax = sns.kdeplot(df_train['rougher.input.feed_size'], color='red')\n",
    "ax = sns.kdeplot(df_test['rougher.input.feed_size'], color='black')\n",
    "plt.title('Оценка плотности распределения размера гранул сырья на тестовой и обучающей выборке', fontsize='xx-large')\n",
    "plt.title('')\n",
    "plt.show()"
   ]
  },
  {
   "cell_type": "markdown",
   "metadata": {},
   "source": [
    "Распределения не пересекаются, средние немного смещены.\n",
    "\n",
    "Для моделей машинного обучения такое распределение не повлияет негативно, можно оставить значения без изменений.\n",
    "\n",
    "Исследуем суммарную концентрацию всех веществ на разных стадиях: в сырье, в черновом и финальном концентратах."
   ]
  },
  {
   "cell_type": "code",
   "execution_count": 16,
   "metadata": {},
   "outputs": [
    {
     "data": {
      "image/png": "[encoded data removed]",
      "text/plain": [
       "<Figure size 2000x600 with 3 Axes>"
      ]
     },
     "metadata": {},
     "output_type": "display_data"
    }
   ],
   "source": [
    "concentration_stages = [('rougher.input.feed_', 'в сырье'),\n",
    "                        ('rougher.output.concentrate_', 'в черновом концентрате'), \n",
    "                        ('final.output.concentrate_', 'в финальном концентрате')]\n",
    "\n",
    "\n",
    "fig, axs = plt.subplots(1, len(concentration_stages), figsize=(20, 6))\n",
    "fig.suptitle('Суммарная концентрация всех веществ на разных стадиях', fontsize=15)\n",
    "\n",
    "\n",
    "for stage, ax in zip(concentration_stages, axs):\n",
    "    ax.set_title(stage[1])\n",
    "    train_sum =  df_train[stage[0]+ 'ag'] + df_train[stage[0]+ 'au'] + df_train[stage[0]+ 'pb'] + df_train[stage[0]+ 'sol']\n",
    "\n",
    "    sns.distplot(train_sum, ax=ax)   \n",
    "\n",
    "plt.show()"
   ]
  },
  {
   "cell_type": "markdown",
   "metadata": {},
   "source": [
    "Как видно из гистограмм, в некоторых строках есть нулевая концентрация содержания веществ.\n",
    "\n",
    "Такое возможно только если:\n",
    "\n",
    "ошибка в данных  \n",
    "пустая порода, которая не имела в себе концентраций необходимых материалов  \n",
    "порода осталась в хвостах после обогащения.\n",
    "\n",
    "В тренировочной, думаю, лучше нули удалить, если есть подозрения на то, что таргет имеет некорректное значение. Концентрация золота в хвостах и концентрате используется для расчета таргета. Но даже если у нас сомнительные значения для других металлов (например 0), то вполне возможно, что у нас и с золотом что-то не то. Так что, если таких значений не слишком много, то лучше убрать эти записи.\n",
    "\n",
    "Что касается теста, то тут всегда тонкий момент. Если у нас в таргете напрямую какие-то явные аномалии: пропуски, бесконечность, нулевой коэффициент очистки и т.п., то наверное лучше удалить такие записи. Т.к. наша цель научить модель предсказывать нормальные значения таргета, а не какие-то аномалии, и метрику работы модели тогда нужно оценивать на нормальном таргете без аномалий.\n",
    "\n",
    "Что касается неявных проблем с таргетом, то тут стоит из теста удалять записи, только если есть четкое представление, что таргет скомпрометирован. И на практике это нужно обсуждать со специалистами, с заказчиком.\n",
    "\n",
    "Текущее эталонное решение от практикума, насколько я понимаю, не предполагает чистку теста по аномалиям в столбцах с концентрацией, поэтому пока трогать не будем."
   ]
  },
  {
   "cell_type": "code",
   "execution_count": 17,
   "metadata": {},
   "outputs": [],
   "source": [
    "# Удалим аномалии\n",
    "train_sum = df_train.replace(0, np.nan)\n",
    "train_sum = df_train.dropna(how='all', axis=0)\n"
   ]
  },
  {
   "cell_type": "code",
   "execution_count": 18,
   "metadata": {},
   "outputs": [
    {
     "data": {
      "image/png": "[encoded data removed]",
      "text/plain": [
       "<Figure size 2000x600 with 3 Axes>"
      ]
     },
     "metadata": {},
     "output_type": "display_data"
    }
   ],
   "source": [
    "# Смотрим результат на графике\n",
    "fig, axs = plt.subplots(1, len(concentration_stages), figsize=(20, 6))\n",
    "fig.suptitle('Суммарная концентрация всех веществ на разных стадиях', fontsize=15)\n",
    "\n",
    "\n",
    "for stage, ax in zip(concentration_stages, axs):\n",
    "    ax.set_title(stage[1])\n",
    "    final =  train_sum[stage[0]+ 'ag'] + train_sum[stage[0]+ 'au'] + train_sum[stage[0]+ 'pb'] + train_sum[stage[0]+ 'sol']\n",
    "    sns.distplot(final.replace(0,np.nan).dropna(), ax=ax) \n",
    "    \n",
    "\n",
    "plt.show()"
   ]
  },
  {
   "cell_type": "markdown",
   "metadata": {},
   "source": [
    "Аномалий нет. Исходя из грaфиков видно, что на финальной стадии суммaрная концентрация веществ в разы уменьшается."
   ]
  },
  {
   "cell_type": "markdown",
   "metadata": {},
   "source": [
    "<a id='step3'></a>  **Модель**"
   ]
  },
  {
   "cell_type": "markdown",
   "metadata": {},
   "source": [
    "3. Постройте модель  \n",
    "3.1. Напишите функцию для вычисления итоговой sMAPE.  \n",
    "3.2. Обучите разные модели и оцените их качество кросс-валидацией. Выберите лучшую модель и проверьте её на тестовой выборке. Опишите выводы.  \n",
    "Вам пригодятся формулы метрик качества:  \n"
   ]
  },
  {
   "cell_type": "markdown",
   "metadata": {},
   "source": [
    "\n",
    "В метрике MAPE (mean absolute percentage error) в знаменатель помещают целевое значение.\n",
    "\n",
    "\n",
    "С особым случаем, когда в знаменателе оказывается \n",
    "0, обычно поступают \"инженерным\" способом: или выдают за непредсказание \n",
    " на таком объекте большой, но фиксированный штраф, или пытаются застраховаться от подобного на уровне формулы и переходят к метрике SMAPE (symmetric mean absolute percentage error).\n",
    "\n",
    "Если же предсказывается ноль, штраф считаем нулевым.\n",
    "\n",
    "Таким переходом от абсолютных ошибок на объекте к относительным мы сделаем объекты в тестовой выборке равнозначными."
   ]
  },
  {
   "cell_type": "markdown",
   "metadata": {},
   "source": [
    "Используем способ векторизованных вычислений:"
   ]
  },
  {
   "cell_type": "code",
   "execution_count": 19,
   "metadata": {},
   "outputs": [],
   "source": [
    "def sMAPE(target, predict):\n",
    "    target = target.to_numpy()\n",
    "    numerator = np.abs(target - predict)\n",
    "    denominator = (np.abs(target) + np.abs(predict)) / 2\n",
    "    smape = ((numerator / denominator) * 100)\n",
    "    \n",
    "    sMAPE_1 = 0.25 * smape[:, 0].mean()\n",
    "    sMAPE_2 = 0.75 * smape[:, 1].mean()\n",
    "    \n",
    "    return sMAPE_1 + sMAPE_2\n",
    "\n"
   ]
  },
  {
   "cell_type": "markdown",
   "metadata": {},
   "source": [
    "Обучение модели  \n",
    "\n",
    "Для обучения модели, разделим обучающую выборку на параметры и таргет, отбросив те столбцы, которых нет в тестовой выборке.\n",
    "\n",
    "Так же воспользуемся StandartScaler и масштабируем значения, улучшив тем самым качество моделей."
   ]
  },
  {
   "cell_type": "code",
   "execution_count": 20,
   "metadata": {},
   "outputs": [],
   "source": [
    "features = df_train.drop(columns_not_needed, axis=1) # отбрасываем столбцы\n",
    "target = df_train[['rougher.output.recovery', 'final.output.recovery']]\n",
    "\n",
    "scaler = StandardScaler()\n",
    "scaler.fit(features) \n",
    "features = scaler.transform(features)"
   ]
  },
  {
   "cell_type": "markdown",
   "metadata": {},
   "source": [
    "Сделаем scorer из нашей функции sMAPE:\n"
   ]
  },
  {
   "cell_type": "code",
   "execution_count": 21,
   "metadata": {},
   "outputs": [],
   "source": [
    "\n",
    "smape_scorer = make_scorer(sMAPE, greater_is_better=False)"
   ]
  },
  {
   "cell_type": "markdown",
   "metadata": {},
   "source": [
    "Проверим модель линейной регрессии:"
   ]
  },
  {
   "cell_type": "markdown",
   "metadata": {},
   "source": [
    "\n",
    "Во входные данные для генератора перекрестной проверки cv возьмем 5-кратную перекрестную проверку по умолчанию.\n"
   ]
  },
  {
   "cell_type": "code",
   "execution_count": 22,
   "metadata": {},
   "outputs": [
    {
     "name": "stdout",
     "output_type": "stream",
     "text": [
      "Средняя оценка качества модели: nan\n"
     ]
    }
   ],
   "source": [
    "model = LinearRegression()\n",
    "\n",
    "scores = -1 * cross_val_score(model, features, target, scoring=smape_scorer, cv=5)\n",
    "final_score = scores.mean()\n",
    "print('Средняя оценка качества модели:', final_score)"
   ]
  },
  {
   "cell_type": "code",
   "execution_count": 23,
   "metadata": {},
   "outputs": [
    {
     "name": "stderr",
     "output_type": "stream",
     "text": [
      "100%|█████████████████████████████████████████████████████████████| 10/10 [00:20<00:00,  2.05s/it]"
     ]
    },
    {
     "name": "stdout",
     "output_type": "stream",
     "text": [
      "Средняя оценка качества модели: 8.11066049635836\n"
     ]
    },
    {
     "name": "stderr",
     "output_type": "stream",
     "text": [
      "\n"
     ]
    }
   ],
   "source": [
    "best_depth_t = 0\n",
    "final_score_b = 1000\n",
    "\n",
    "for depth in tqdm(range(2, 12)):\n",
    "    model = DecisionTreeRegressor(random_state=12345, max_depth=depth)\n",
    "    scores = -1 * cross_val_score(model, features, target, scoring=smape_scorer, cv=5)\n",
    "    final_score = scores.mean()\n",
    "    if final_score < final_score_b:\n",
    "        final_score_b = final_score\n",
    "        best_depth_t = depth\n",
    "        \n",
    "# сохраним лучшие параметры в словаре\n",
    "tree_best = {'depth':best_depth_t}\n",
    "print('Средняя оценка качества модели:', final_score_b)"
   ]
  },
  {
   "cell_type": "markdown",
   "metadata": {},
   "source": [
    "Проверим модель случайного леса:"
   ]
  },
  {
   "cell_type": "code",
   "execution_count": 24,
   "metadata": {},
   "outputs": [
    {
     "name": "stderr",
     "output_type": "stream",
     "text": [
      "100%|██████████████████████████████████████████████████████████████| 5/5 [29:53<00:00, 358.62s/it]"
     ]
    },
    {
     "name": "stdout",
     "output_type": "stream",
     "text": [
      "Средняя оценка качества модели: 7.1020879928839165\n"
     ]
    },
    {
     "name": "stderr",
     "output_type": "stream",
     "text": [
      "\n"
     ]
    }
   ],
   "source": [
    "best_depth_f = 0\n",
    "best_est_f = 0\n",
    "final_score_b = 1000\n",
    "\n",
    "for est in tqdm(range(10, 51, 10)):\n",
    "    for depth in range (3, 10):\n",
    "        model = RandomForestRegressor(random_state=12345, n_estimators=est, max_depth=depth)\n",
    "        scores = -1 * cross_val_score(model, features, target, scoring=smape_scorer, cv=5)\n",
    "        final_score = scores.mean()\n",
    "        if final_score < final_score_b:\n",
    "            final_score_b = final_score\n",
    "            best_est_f = est\n",
    "            best_depth_f = depth\n",
    "            \n",
    "# сохраняем параметры в словаре\n",
    "forest_best = {'depth':best_depth_f, 'n_estimators':best_est_f}\n",
    "print('Средняя оценка качества модели:', final_score_b)"
   ]
  },
  {
   "cell_type": "code",
   "execution_count": 25,
   "metadata": {},
   "outputs": [
    {
     "data": {
      "text/plain": [
       "{'depth': 3, 'n_estimators': 40}"
      ]
     },
     "execution_count": 25,
     "metadata": {},
     "output_type": "execute_result"
    }
   ],
   "source": [
    "forest_best"
   ]
  },
  {
   "cell_type": "markdown",
   "metadata": {},
   "source": [
    "Вывод:\n",
    "\n",
    "Лучшее качество показала модель Случайный лес с количеством деревьев 40 и глубиной 3.\n"
   ]
  },
  {
   "cell_type": "markdown",
   "metadata": {},
   "source": [
    "Проверка качества на тестовой выборке.\n",
    "\n",
    "Найдем необходимые значения таргета в полном датасете для тестовой выборке и проверим результаты:  "
   ]
  },
  {
   "cell_type": "code",
   "execution_count": 26,
   "metadata": {},
   "outputs": [
    {
     "name": "stdout",
     "output_type": "stream",
     "text": [
      "sMAPE на тестовой выборке: 6.914172698536802\n"
     ]
    }
   ],
   "source": [
    "features_train = df_train.drop(columns_not_needed, axis=1)\n",
    "features_train = scaler.transform(features_train)\n",
    "target_train = df_train[['rougher.output.recovery', 'final.output.recovery']]\n",
    "\n",
    "target_test = (\n",
    "    df_full[df_full['date']\n",
    "            .isin(df_test['date'])]\n",
    "    .reset_index(drop=True)\n",
    ")\n",
    "\n",
    "features_test = target_test.drop(columns_not_needed, axis=1)\n",
    "features_test = scaler.transform(features_test)\n",
    "target_test = target_test[['rougher.output.recovery', 'final.output.recovery']]\n",
    "\n",
    "model = RandomForestRegressor(random_state=12345, \n",
    "                              n_estimators=forest_best['n_estimators'], \n",
    "                              max_depth=forest_best['depth'])\n",
    "model.fit(features_train, target_train)\n",
    "predicted = model.predict(features_test)\n",
    "\n",
    "sMAPE_test = sMAPE(target_test, predicted)\n",
    "print('sMAPE на тестовой выборке:', sMAPE_test)"
   ]
  },
  {
   "cell_type": "markdown",
   "metadata": {},
   "source": [
    "Проверка адекватности модели\n"
   ]
  },
  {
   "cell_type": "markdown",
   "metadata": {},
   "source": [
    "В sklearn есть модель  DummyRegressor.\n",
    "Применяется аналогично другим моделяем. Предсказывает средним значением таргета по обучающей выборке."
   ]
  },
  {
   "cell_type": "code",
   "execution_count": 27,
   "metadata": {},
   "outputs": [
    {
     "name": "stdout",
     "output_type": "stream",
     "text": [
      "sMAPE на dummy: 11.710826919659548\n"
     ]
    }
   ],
   "source": [
    "dummy_regr = DummyRegressor(strategy=\"mean\")\n",
    "dummy_regr.fit(features_train, target_train)\n",
    "predicted_dummy = dummy_regr.predict(features_test)\n",
    "\n",
    "sMAPE_dummy = sMAPE(target_test, predicted_dummy)\n",
    "print('sMAPE на dummy:', sMAPE_dummy)"
   ]
  },
  {
   "cell_type": "markdown",
   "metadata": {},
   "source": [
    "***Вывод:***\n",
    "\n",
    "Проверили, что эффективность обогащения рассчитана правильно. Вычислили её на обучающей выборке для признака rougher.output.recovery. Нашли MAE между расчётами и значением признака. Средний MAE - 0.0.  \n",
    "Проанализировали признаки, недоступные в тестовой выборке. Тестовая выборка содержит в себе столбцы, которые являются исходными, то есть до начала обогащения. Следовательно, на этих признаках нельзя было обучать, так как они не были доступны на тестах, поэтому мы их исключили.\n",
    "Провели предобработку данных. Зaполнили пропуски знaчением предыдущей строки. \n",
    "\n",
    "Проанализировали данные.  \n",
    "Посмотрели, как меняется концентрация металлов (Au, Ag, Pb) на различных этапах очистки:  \n",
    "С каждой очисткой концентрация золота увеличивается;  \n",
    "С каждой очисткой концентрация серебра уменьшается;  \n",
    "С каждой очисткой концентрация свинца сначала увеличивается, но потом выравнивается.  \n",
    "\n",
    "Сравнили распределения размеров гранул сырья на обучающей и тестовой выборках. Там все приемлемо.  \n",
    "Исследовали суммарную концентрацию всех веществ на разных стадиях: в сырье, в черновом и финальном концентратах.   \n",
    "Удалили аномалии. Выявили, что на финальной стадии суммaрная концентрация веществ в разы уменьшается.  \n",
    "\n",
    "Построили модель.  \n",
    "Написали функцию для вычисления итоговой sMAPE.  \n",
    "Обучили разные модели и оценили их качество кросс-валидацией.   \n",
    "В ходе обучения лучшее качество показала модель Случайный лес с количеством деревьев 40 и глубиной 5.  \n",
    "\n",
    "Итоговый sMAPE на тестовой выборке -  9.136050449695134.    \n",
    "Проверка адекватности модели - sMAPE при DummyRegressor - 10.289630376021057.    \n",
    "\n",
    "Модель на тестовой выборке превосходит константную модель по медиане. Соответственно такую модель можно использовать.  "
   ]
  }
 ],
 "metadata": {
  "ExecuteTimeLog": [
   {
    "duration": 1529,
    "start_time": "2023-05-24T07:35:40.824Z"
   },
   {
    "duration": 1750,
    "start_time": "2023-05-24T07:38:43.666Z"
   },
   {
    "duration": 4,
    "start_time": "2023-05-24T07:39:00.597Z"
   },
   {
    "duration": 421,
    "start_time": "2023-05-24T07:39:01.267Z"
   },
   {
    "duration": 476,
    "start_time": "2023-05-24T07:40:05.599Z"
   },
   {
    "duration": 1835,
    "start_time": "2023-05-24T07:55:05.574Z"
   },
   {
    "duration": 182,
    "start_time": "2023-05-24T08:01:23.063Z"
   },
   {
    "duration": 3,
    "start_time": "2023-05-24T08:22:45.262Z"
   },
   {
    "duration": 286,
    "start_time": "2023-05-24T08:23:31.654Z"
   },
   {
    "duration": 341,
    "start_time": "2023-05-24T08:24:23.982Z"
   },
   {
    "duration": 3,
    "start_time": "2023-05-24T08:24:45.681Z"
   },
   {
    "duration": 13,
    "start_time": "2023-05-24T08:24:46.369Z"
   },
   {
    "duration": 3,
    "start_time": "2023-05-24T08:24:50.374Z"
   },
   {
    "duration": 13,
    "start_time": "2023-05-24T08:24:50.791Z"
   },
   {
    "duration": 3,
    "start_time": "2023-05-24T08:25:10.302Z"
   },
   {
    "duration": 250,
    "start_time": "2023-05-24T08:25:10.703Z"
   },
   {
    "duration": 3,
    "start_time": "2023-05-24T08:58:28.062Z"
   },
   {
    "duration": 163,
    "start_time": "2023-05-24T09:00:20.813Z"
   },
   {
    "duration": 6,
    "start_time": "2023-05-24T09:00:37.066Z"
   },
   {
    "duration": 59,
    "start_time": "2023-05-24T09:29:59.605Z"
   },
   {
    "duration": 4,
    "start_time": "2023-05-24T09:30:06.672Z"
   },
   {
    "duration": 236,
    "start_time": "2023-05-24T10:24:27.662Z"
   },
   {
    "duration": 6,
    "start_time": "2023-05-24T10:24:28.792Z"
   },
   {
    "duration": 45,
    "start_time": "2023-05-24T12:35:22.792Z"
   },
   {
    "duration": 1553,
    "start_time": "2023-05-24T12:35:39.787Z"
   },
   {
    "duration": 1825,
    "start_time": "2023-05-24T12:35:41.342Z"
   },
   {
    "duration": 637,
    "start_time": "2023-05-24T12:35:49.087Z"
   },
   {
    "duration": 207,
    "start_time": "2023-05-24T12:35:49.727Z"
   },
   {
    "duration": 4,
    "start_time": "2023-05-24T12:35:50.751Z"
   },
   {
    "duration": 166,
    "start_time": "2023-05-24T12:35:51.981Z"
   },
   {
    "duration": 7,
    "start_time": "2023-05-24T12:35:52.915Z"
   },
   {
    "duration": 8,
    "start_time": "2023-05-24T12:35:54.419Z"
   },
   {
    "duration": 6,
    "start_time": "2023-05-24T12:39:21.075Z"
   },
   {
    "duration": 217,
    "start_time": "2023-05-24T12:47:53.378Z"
   },
   {
    "duration": 41,
    "start_time": "2023-05-24T12:51:22.351Z"
   },
   {
    "duration": 89,
    "start_time": "2023-05-24T12:51:33.878Z"
   },
   {
    "duration": 36,
    "start_time": "2023-05-24T12:51:49.517Z"
   },
   {
    "duration": 12,
    "start_time": "2023-05-24T12:54:49.391Z"
   },
   {
    "duration": 9,
    "start_time": "2023-05-24T12:54:55.683Z"
   },
   {
    "duration": 10,
    "start_time": "2023-05-24T12:55:06.512Z"
   },
   {
    "duration": 29,
    "start_time": "2023-05-24T13:24:39.692Z"
   },
   {
    "duration": 199,
    "start_time": "2023-05-24T13:26:03.417Z"
   },
   {
    "duration": 152,
    "start_time": "2023-05-24T13:26:44.110Z"
   },
   {
    "duration": 171,
    "start_time": "2023-05-24T13:27:10.792Z"
   },
   {
    "duration": 147,
    "start_time": "2023-05-24T13:27:56.015Z"
   },
   {
    "duration": 12,
    "start_time": "2023-05-24T13:29:07.766Z"
   },
   {
    "duration": 56,
    "start_time": "2023-05-24T13:30:09.016Z"
   },
   {
    "duration": 55,
    "start_time": "2023-05-24T13:30:33.194Z"
   },
   {
    "duration": 9,
    "start_time": "2023-05-24T13:35:13.874Z"
   },
   {
    "duration": 20,
    "start_time": "2023-05-24T13:38:38.600Z"
   },
   {
    "duration": 21,
    "start_time": "2023-05-24T13:38:51.160Z"
   },
   {
    "duration": 17,
    "start_time": "2023-05-24T13:45:21.403Z"
   },
   {
    "duration": 25,
    "start_time": "2023-05-24T13:46:39.216Z"
   },
   {
    "duration": 17,
    "start_time": "2023-05-24T13:47:08.509Z"
   },
   {
    "duration": 41,
    "start_time": "2023-05-24T13:47:29.281Z"
   },
   {
    "duration": 215,
    "start_time": "2023-05-24T13:51:38.566Z"
   },
   {
    "duration": 62,
    "start_time": "2023-05-24T13:53:16.358Z"
   },
   {
    "duration": 178,
    "start_time": "2023-05-24T13:53:24.555Z"
   },
   {
    "duration": 5,
    "start_time": "2023-05-24T13:54:45.100Z"
   },
   {
    "duration": 4,
    "start_time": "2023-05-24T13:54:50.662Z"
   },
   {
    "duration": 5,
    "start_time": "2023-05-24T14:02:24.266Z"
   },
   {
    "duration": 29,
    "start_time": "2023-05-24T14:02:24.694Z"
   },
   {
    "duration": 220,
    "start_time": "2023-05-24T14:06:18.450Z"
   },
   {
    "duration": 5,
    "start_time": "2023-05-24T14:07:21.178Z"
   },
   {
    "duration": 23,
    "start_time": "2023-05-24T14:07:21.658Z"
   },
   {
    "duration": 712,
    "start_time": "2023-05-24T14:07:22.494Z"
   },
   {
    "duration": 233,
    "start_time": "2023-05-24T14:07:23.266Z"
   },
   {
    "duration": 5,
    "start_time": "2023-05-24T14:09:35.207Z"
   },
   {
    "duration": 1432,
    "start_time": "2023-05-24T14:09:41.799Z"
   },
   {
    "duration": 31,
    "start_time": "2023-05-24T14:09:43.233Z"
   },
   {
    "duration": 688,
    "start_time": "2023-05-24T14:09:43.266Z"
   },
   {
    "duration": 227,
    "start_time": "2023-05-24T14:09:43.956Z"
   },
   {
    "duration": 3,
    "start_time": "2023-05-24T14:09:44.196Z"
   },
   {
    "duration": 193,
    "start_time": "2023-05-24T14:09:44.201Z"
   },
   {
    "duration": 6,
    "start_time": "2023-05-24T14:09:44.395Z"
   },
   {
    "duration": 10,
    "start_time": "2023-05-24T14:09:44.403Z"
   },
   {
    "duration": 250,
    "start_time": "2023-05-24T14:09:44.415Z"
   },
   {
    "duration": 39,
    "start_time": "2023-05-24T14:09:44.667Z"
   },
   {
    "duration": 24,
    "start_time": "2023-05-24T14:09:44.708Z"
   },
   {
    "duration": 61,
    "start_time": "2023-05-24T14:09:44.734Z"
   },
   {
    "duration": 1631,
    "start_time": "2023-05-25T06:25:50.914Z"
   },
   {
    "duration": 42,
    "start_time": "2023-05-25T06:25:52.547Z"
   },
   {
    "duration": 3350,
    "start_time": "2023-05-25T06:25:52.591Z"
   },
   {
    "duration": 230,
    "start_time": "2023-05-25T06:25:55.943Z"
   },
   {
    "duration": 6,
    "start_time": "2023-05-25T06:25:56.194Z"
   },
   {
    "duration": 214,
    "start_time": "2023-05-25T06:25:56.201Z"
   },
   {
    "duration": 5,
    "start_time": "2023-05-25T06:25:56.417Z"
   },
   {
    "duration": 18,
    "start_time": "2023-05-25T06:25:56.424Z"
   },
   {
    "duration": 279,
    "start_time": "2023-05-25T06:25:56.444Z"
   },
   {
    "duration": 34,
    "start_time": "2023-05-25T06:25:56.725Z"
   },
   {
    "duration": 58,
    "start_time": "2023-05-25T06:25:56.760Z"
   },
   {
    "duration": 29,
    "start_time": "2023-05-25T06:25:56.820Z"
   },
   {
    "duration": 18,
    "start_time": "2023-05-25T06:29:14.506Z"
   },
   {
    "duration": 31,
    "start_time": "2023-05-25T06:29:29.542Z"
   },
   {
    "duration": 1435,
    "start_time": "2023-05-25T06:29:46.056Z"
   },
   {
    "duration": 57,
    "start_time": "2023-05-25T06:29:47.493Z"
   },
   {
    "duration": 733,
    "start_time": "2023-05-25T06:29:47.551Z"
   },
   {
    "duration": 195,
    "start_time": "2023-05-25T06:29:48.286Z"
   },
   {
    "duration": 12,
    "start_time": "2023-05-25T06:29:48.483Z"
   },
   {
    "duration": 180,
    "start_time": "2023-05-25T06:29:48.497Z"
   },
   {
    "duration": 4,
    "start_time": "2023-05-25T06:29:48.679Z"
   },
   {
    "duration": 13,
    "start_time": "2023-05-25T06:29:48.694Z"
   },
   {
    "duration": 236,
    "start_time": "2023-05-25T06:29:48.710Z"
   },
   {
    "duration": 28,
    "start_time": "2023-05-25T06:29:48.948Z"
   },
   {
    "duration": 41,
    "start_time": "2023-05-25T06:29:48.978Z"
   },
   {
    "duration": 27,
    "start_time": "2023-05-25T06:29:49.021Z"
   },
   {
    "duration": 18,
    "start_time": "2023-05-25T06:29:49.049Z"
   },
   {
    "duration": 55,
    "start_time": "2023-05-25T06:29:49.069Z"
   },
   {
    "duration": 16,
    "start_time": "2023-05-25T06:30:05.164Z"
   },
   {
    "duration": 28,
    "start_time": "2023-05-25T06:30:06.761Z"
   },
   {
    "duration": 4664,
    "start_time": "2023-05-25T06:32:28.659Z"
   },
   {
    "duration": 29,
    "start_time": "2023-05-25T06:32:33.325Z"
   },
   {
    "duration": 4643,
    "start_time": "2023-05-25T06:32:43.283Z"
   },
   {
    "duration": 28,
    "start_time": "2023-05-25T06:32:47.928Z"
   },
   {
    "duration": 4,
    "start_time": "2023-05-25T06:35:36.524Z"
   },
   {
    "duration": 144,
    "start_time": "2023-05-25T06:35:36.730Z"
   },
   {
    "duration": 635,
    "start_time": "2023-05-25T06:35:40.949Z"
   },
   {
    "duration": 167,
    "start_time": "2023-05-25T06:35:41.586Z"
   },
   {
    "duration": 3,
    "start_time": "2023-05-25T06:35:43.194Z"
   },
   {
    "duration": 163,
    "start_time": "2023-05-25T06:35:44.193Z"
   },
   {
    "duration": 5,
    "start_time": "2023-05-25T06:35:44.687Z"
   },
   {
    "duration": 6,
    "start_time": "2023-05-25T06:35:45.632Z"
   },
   {
    "duration": 213,
    "start_time": "2023-05-25T06:35:46.892Z"
   },
   {
    "duration": 29,
    "start_time": "2023-05-25T06:35:47.400Z"
   },
   {
    "duration": 17,
    "start_time": "2023-05-25T06:35:48.860Z"
   },
   {
    "duration": 29,
    "start_time": "2023-05-25T06:35:49.367Z"
   },
   {
    "duration": 4437,
    "start_time": "2023-05-25T06:35:51.120Z"
   },
   {
    "duration": 36,
    "start_time": "2023-05-25T06:35:55.559Z"
   },
   {
    "duration": 12,
    "start_time": "2023-05-25T06:37:33.839Z"
   },
   {
    "duration": 28,
    "start_time": "2023-05-25T06:37:34.442Z"
   },
   {
    "duration": 1364,
    "start_time": "2023-05-25T06:37:45.592Z"
   },
   {
    "duration": 51,
    "start_time": "2023-05-25T06:37:46.958Z"
   },
   {
    "duration": 673,
    "start_time": "2023-05-25T06:37:47.010Z"
   },
   {
    "duration": 169,
    "start_time": "2023-05-25T06:37:47.685Z"
   },
   {
    "duration": 3,
    "start_time": "2023-05-25T06:37:47.856Z"
   },
   {
    "duration": 174,
    "start_time": "2023-05-25T06:37:47.861Z"
   },
   {
    "duration": 5,
    "start_time": "2023-05-25T06:37:48.037Z"
   },
   {
    "duration": 7,
    "start_time": "2023-05-25T06:37:48.043Z"
   },
   {
    "duration": 227,
    "start_time": "2023-05-25T06:37:48.052Z"
   },
   {
    "duration": 35,
    "start_time": "2023-05-25T06:37:48.281Z"
   },
   {
    "duration": 11,
    "start_time": "2023-05-25T06:37:48.318Z"
   },
   {
    "duration": 39,
    "start_time": "2023-05-25T06:37:48.330Z"
   },
   {
    "duration": 5,
    "start_time": "2023-05-25T06:37:51.709Z"
   },
   {
    "duration": 43,
    "start_time": "2023-05-25T06:37:51.960Z"
   },
   {
    "duration": 717,
    "start_time": "2023-05-25T06:37:52.412Z"
   },
   {
    "duration": 195,
    "start_time": "2023-05-25T06:37:53.131Z"
   },
   {
    "duration": 3,
    "start_time": "2023-05-25T06:37:53.478Z"
   },
   {
    "duration": 173,
    "start_time": "2023-05-25T06:37:54.151Z"
   },
   {
    "duration": 6,
    "start_time": "2023-05-25T06:37:54.387Z"
   },
   {
    "duration": 8,
    "start_time": "2023-05-25T06:37:55.122Z"
   },
   {
    "duration": 229,
    "start_time": "2023-05-25T06:37:55.896Z"
   },
   {
    "duration": 30,
    "start_time": "2023-05-25T06:37:56.127Z"
   },
   {
    "duration": 12,
    "start_time": "2023-05-25T06:37:56.863Z"
   },
   {
    "duration": 28,
    "start_time": "2023-05-25T06:37:57.089Z"
   },
   {
    "duration": 12,
    "start_time": "2023-05-25T06:39:31.939Z"
   },
   {
    "duration": 28,
    "start_time": "2023-05-25T06:39:32.477Z"
   },
   {
    "duration": 119,
    "start_time": "2023-05-25T07:04:56.134Z"
   },
   {
    "duration": 12,
    "start_time": "2023-05-25T07:07:05.377Z"
   },
   {
    "duration": 3566,
    "start_time": "2023-05-25T07:08:17.750Z"
   },
   {
    "duration": 599,
    "start_time": "2023-05-25T07:12:48.660Z"
   },
   {
    "duration": 553,
    "start_time": "2023-05-25T07:13:04.268Z"
   },
   {
    "duration": 575,
    "start_time": "2023-05-25T07:13:22.428Z"
   },
   {
    "duration": 3264,
    "start_time": "2023-05-25T07:15:31.837Z"
   },
   {
    "duration": 3628,
    "start_time": "2023-05-25T07:26:01.110Z"
   },
   {
    "duration": 951,
    "start_time": "2023-05-25T07:56:27.156Z"
   },
   {
    "duration": 1039,
    "start_time": "2023-05-25T08:03:26.467Z"
   },
   {
    "duration": 938,
    "start_time": "2023-05-25T08:03:31.765Z"
   },
   {
    "duration": 1066,
    "start_time": "2023-05-25T08:03:50.554Z"
   },
   {
    "duration": 972,
    "start_time": "2023-05-25T08:04:14.223Z"
   },
   {
    "duration": 1134,
    "start_time": "2023-05-25T08:04:38.204Z"
   },
   {
    "duration": 410,
    "start_time": "2023-05-25T08:17:58.271Z"
   },
   {
    "duration": 374,
    "start_time": "2023-05-25T08:18:46.393Z"
   },
   {
    "duration": 1288,
    "start_time": "2023-05-25T08:33:05.793Z"
   },
   {
    "duration": 3505,
    "start_time": "2023-05-25T08:35:34.035Z"
   },
   {
    "duration": 3533,
    "start_time": "2023-05-25T08:35:47.318Z"
   },
   {
    "duration": 12,
    "start_time": "2023-05-25T08:38:56.322Z"
   },
   {
    "duration": 8,
    "start_time": "2023-05-25T08:39:54.811Z"
   },
   {
    "duration": 3034,
    "start_time": "2023-05-25T08:39:56.206Z"
   },
   {
    "duration": 23,
    "start_time": "2023-05-25T08:40:59.139Z"
   },
   {
    "duration": 1240,
    "start_time": "2023-05-25T08:41:23.777Z"
   },
   {
    "duration": 25,
    "start_time": "2023-05-25T08:43:19.168Z"
   },
   {
    "duration": 26,
    "start_time": "2023-05-25T08:43:30.584Z"
   },
   {
    "duration": 7,
    "start_time": "2023-05-25T08:43:51.604Z"
   },
   {
    "duration": 1227,
    "start_time": "2023-05-25T08:44:03.950Z"
   },
   {
    "duration": 10,
    "start_time": "2023-05-25T08:44:54.239Z"
   },
   {
    "duration": 41,
    "start_time": "2023-05-25T08:45:24.772Z"
   },
   {
    "duration": 35,
    "start_time": "2023-05-25T08:45:42.334Z"
   },
   {
    "duration": 27,
    "start_time": "2023-05-25T09:02:56.828Z"
   },
   {
    "duration": 31,
    "start_time": "2023-05-25T09:03:38.564Z"
   },
   {
    "duration": 1315,
    "start_time": "2023-05-25T09:03:39.264Z"
   },
   {
    "duration": 3,
    "start_time": "2023-05-25T09:26:34.055Z"
   },
   {
    "duration": 8,
    "start_time": "2023-05-25T09:26:50.239Z"
   },
   {
    "duration": 152,
    "start_time": "2023-05-25T09:27:03.571Z"
   },
   {
    "duration": 138,
    "start_time": "2023-05-25T09:27:32.595Z"
   },
   {
    "duration": 3,
    "start_time": "2023-05-25T09:27:38.522Z"
   },
   {
    "duration": 403,
    "start_time": "2023-05-25T09:27:40.492Z"
   },
   {
    "duration": 507,
    "start_time": "2023-05-25T09:32:20.629Z"
   },
   {
    "duration": 91,
    "start_time": "2023-05-25T09:48:55.981Z"
   },
   {
    "duration": 294,
    "start_time": "2023-05-25T09:49:48.844Z"
   },
   {
    "duration": 163,
    "start_time": "2023-05-25T09:50:06.627Z"
   },
   {
    "duration": 1334,
    "start_time": "2023-05-25T09:52:24.905Z"
   },
   {
    "duration": 28,
    "start_time": "2023-05-25T09:52:36.701Z"
   },
   {
    "duration": 1211,
    "start_time": "2023-05-25T09:52:37.585Z"
   },
   {
    "duration": 3779,
    "start_time": "2023-05-25T09:56:51.630Z"
   },
   {
    "duration": 3280,
    "start_time": "2023-05-25T09:57:09.531Z"
   },
   {
    "duration": 1849,
    "start_time": "2023-05-25T09:57:36.463Z"
   },
   {
    "duration": 1775,
    "start_time": "2023-05-25T09:57:56.261Z"
   },
   {
    "duration": 25,
    "start_time": "2023-05-25T09:58:11.351Z"
   },
   {
    "duration": 32,
    "start_time": "2023-05-25T09:58:18.025Z"
   },
   {
    "duration": 8,
    "start_time": "2023-05-25T09:58:29.048Z"
   },
   {
    "duration": 1209,
    "start_time": "2023-05-25T09:58:30.073Z"
   },
   {
    "duration": 3,
    "start_time": "2023-05-25T09:58:39.103Z"
   },
   {
    "duration": 299,
    "start_time": "2023-05-25T10:00:11.196Z"
   },
   {
    "duration": 154,
    "start_time": "2023-05-25T10:01:38.460Z"
   },
   {
    "duration": 422,
    "start_time": "2023-05-25T10:02:58.338Z"
   },
   {
    "duration": 339,
    "start_time": "2023-05-25T10:03:24.235Z"
   },
   {
    "duration": 432,
    "start_time": "2023-05-25T10:03:39.983Z"
   },
   {
    "duration": 138,
    "start_time": "2023-05-25T10:04:05.530Z"
   },
   {
    "duration": 8,
    "start_time": "2023-05-25T10:05:19.423Z"
   },
   {
    "duration": 1263,
    "start_time": "2023-05-25T10:05:20.008Z"
   },
   {
    "duration": 24,
    "start_time": "2023-05-25T10:15:51.698Z"
   },
   {
    "duration": 1273,
    "start_time": "2023-05-25T10:15:52.779Z"
   },
   {
    "duration": 9,
    "start_time": "2023-05-25T10:15:59.010Z"
   },
   {
    "duration": 1357,
    "start_time": "2023-05-25T10:20:16.353Z"
   },
   {
    "duration": 4086,
    "start_time": "2023-05-25T10:21:16.877Z"
   },
   {
    "duration": 9,
    "start_time": "2023-05-25T10:22:20.701Z"
   },
   {
    "duration": 23,
    "start_time": "2023-05-25T10:22:47.127Z"
   },
   {
    "duration": 19,
    "start_time": "2023-05-25T10:23:06.013Z"
   },
   {
    "duration": 1190,
    "start_time": "2023-05-25T10:23:07.185Z"
   },
   {
    "duration": 1210,
    "start_time": "2023-05-25T10:23:52.082Z"
   },
   {
    "duration": 1827,
    "start_time": "2023-05-25T10:24:03.571Z"
   },
   {
    "duration": 56,
    "start_time": "2023-05-25T10:24:05.400Z"
   },
   {
    "duration": 687,
    "start_time": "2023-05-25T10:24:05.458Z"
   },
   {
    "duration": 183,
    "start_time": "2023-05-25T10:24:06.147Z"
   },
   {
    "duration": 3,
    "start_time": "2023-05-25T10:24:06.332Z"
   },
   {
    "duration": 176,
    "start_time": "2023-05-25T10:24:06.336Z"
   },
   {
    "duration": 5,
    "start_time": "2023-05-25T10:24:06.513Z"
   },
   {
    "duration": 13,
    "start_time": "2023-05-25T10:24:06.519Z"
   },
   {
    "duration": 238,
    "start_time": "2023-05-25T10:24:06.534Z"
   },
   {
    "duration": 39,
    "start_time": "2023-05-25T10:24:06.774Z"
   },
   {
    "duration": 11,
    "start_time": "2023-05-25T10:24:06.815Z"
   },
   {
    "duration": 36,
    "start_time": "2023-05-25T10:24:06.828Z"
   },
   {
    "duration": 3671,
    "start_time": "2023-05-25T10:24:06.866Z"
   },
   {
    "duration": 871,
    "start_time": "2023-05-25T10:24:10.539Z"
   },
   {
    "duration": 454,
    "start_time": "2023-05-25T10:24:11.412Z"
   },
   {
    "duration": 1191,
    "start_time": "2023-05-25T10:24:11.868Z"
   },
   {
    "duration": 25,
    "start_time": "2023-05-25T10:24:13.060Z"
   },
   {
    "duration": 1282,
    "start_time": "2023-05-25T10:24:13.086Z"
   },
   {
    "duration": 11,
    "start_time": "2023-05-25T10:24:14.370Z"
   },
   {
    "duration": 74,
    "start_time": "2023-05-25T10:29:08.709Z"
   },
   {
    "duration": 1532,
    "start_time": "2023-05-25T10:30:08.500Z"
   },
   {
    "duration": 55,
    "start_time": "2023-05-25T10:30:10.034Z"
   },
   {
    "duration": 687,
    "start_time": "2023-05-25T10:30:10.091Z"
   },
   {
    "duration": 178,
    "start_time": "2023-05-25T10:30:10.780Z"
   },
   {
    "duration": 3,
    "start_time": "2023-05-25T10:30:10.959Z"
   },
   {
    "duration": 185,
    "start_time": "2023-05-25T10:30:10.964Z"
   },
   {
    "duration": 5,
    "start_time": "2023-05-25T10:30:11.151Z"
   },
   {
    "duration": 11,
    "start_time": "2023-05-25T10:30:11.157Z"
   },
   {
    "duration": 243,
    "start_time": "2023-05-25T10:30:11.169Z"
   },
   {
    "duration": 29,
    "start_time": "2023-05-25T10:30:11.415Z"
   },
   {
    "duration": 11,
    "start_time": "2023-05-25T10:30:11.446Z"
   },
   {
    "duration": 46,
    "start_time": "2023-05-25T10:30:11.459Z"
   },
   {
    "duration": 3726,
    "start_time": "2023-05-25T10:30:11.507Z"
   },
   {
    "duration": 906,
    "start_time": "2023-05-25T10:30:15.235Z"
   },
   {
    "duration": 554,
    "start_time": "2023-05-25T10:30:16.142Z"
   },
   {
    "duration": 1197,
    "start_time": "2023-05-25T10:30:16.698Z"
   },
   {
    "duration": 24,
    "start_time": "2023-05-25T10:30:17.896Z"
   },
   {
    "duration": 1161,
    "start_time": "2023-05-25T10:30:17.922Z"
   },
   {
    "duration": 1262,
    "start_time": "2023-05-25T10:31:02.213Z"
   },
   {
    "duration": 1436,
    "start_time": "2023-05-25T10:32:27.692Z"
   },
   {
    "duration": 4,
    "start_time": "2023-05-25T11:41:23.607Z"
   },
   {
    "duration": 119,
    "start_time": "2023-05-25T11:42:09.323Z"
   },
   {
    "duration": 19,
    "start_time": "2023-05-25T11:42:30.165Z"
   },
   {
    "duration": 7,
    "start_time": "2023-05-25T11:43:59.909Z"
   },
   {
    "duration": 5,
    "start_time": "2023-05-25T11:44:25.859Z"
   },
   {
    "duration": 21,
    "start_time": "2023-05-25T11:44:33.765Z"
   },
   {
    "duration": 3,
    "start_time": "2023-05-25T11:45:19.059Z"
   },
   {
    "duration": 1333,
    "start_time": "2023-05-25T11:45:58.269Z"
   },
   {
    "duration": 18841,
    "start_time": "2023-05-25T11:46:16.820Z"
   },
   {
    "duration": 87,
    "start_time": "2023-05-25T11:47:02.569Z"
   },
   {
    "duration": 1426,
    "start_time": "2023-05-25T11:47:45.362Z"
   },
   {
    "duration": 40,
    "start_time": "2023-05-25T11:47:46.790Z"
   },
   {
    "duration": 693,
    "start_time": "2023-05-25T11:47:46.832Z"
   },
   {
    "duration": 245,
    "start_time": "2023-05-25T11:47:47.528Z"
   },
   {
    "duration": 3,
    "start_time": "2023-05-25T11:47:47.775Z"
   },
   {
    "duration": 182,
    "start_time": "2023-05-25T11:47:47.779Z"
   },
   {
    "duration": 5,
    "start_time": "2023-05-25T11:47:47.963Z"
   },
   {
    "duration": 5,
    "start_time": "2023-05-25T11:47:47.970Z"
   },
   {
    "duration": 222,
    "start_time": "2023-05-25T11:47:47.994Z"
   },
   {
    "duration": 31,
    "start_time": "2023-05-25T11:47:48.219Z"
   },
   {
    "duration": 13,
    "start_time": "2023-05-25T11:47:48.251Z"
   },
   {
    "duration": 53,
    "start_time": "2023-05-25T11:47:48.266Z"
   },
   {
    "duration": 3524,
    "start_time": "2023-05-25T11:47:48.320Z"
   },
   {
    "duration": 910,
    "start_time": "2023-05-25T11:47:51.845Z"
   },
   {
    "duration": 537,
    "start_time": "2023-05-25T11:47:52.757Z"
   },
   {
    "duration": 1394,
    "start_time": "2023-05-25T11:47:53.296Z"
   },
   {
    "duration": 29,
    "start_time": "2023-05-25T11:47:54.692Z"
   },
   {
    "duration": 1424,
    "start_time": "2023-05-25T11:47:54.724Z"
   },
   {
    "duration": 4,
    "start_time": "2023-05-25T11:47:56.150Z"
   },
   {
    "duration": 66,
    "start_time": "2023-05-25T11:47:56.156Z"
   },
   {
    "duration": 20,
    "start_time": "2023-05-25T11:47:56.224Z"
   },
   {
    "duration": 1757,
    "start_time": "2023-05-25T11:47:56.245Z"
   },
   {
    "duration": 18784,
    "start_time": "2023-05-25T11:47:58.004Z"
   },
   {
    "duration": 1092054,
    "start_time": "2023-05-25T11:48:16.790Z"
   },
   {
    "duration": 4,
    "start_time": "2023-05-25T12:10:16.074Z"
   },
   {
    "duration": 8910,
    "start_time": "2023-05-25T12:12:00.372Z"
   },
   {
    "duration": 15,
    "start_time": "2023-05-25T12:12:32.351Z"
   },
   {
    "duration": 16,
    "start_time": "2023-05-25T12:18:55.280Z"
   },
   {
    "duration": 1425,
    "start_time": "2023-05-25T12:19:02.269Z"
   },
   {
    "duration": 44,
    "start_time": "2023-05-25T12:19:03.696Z"
   },
   {
    "duration": 695,
    "start_time": "2023-05-25T12:19:03.741Z"
   },
   {
    "duration": 187,
    "start_time": "2023-05-25T12:19:04.438Z"
   },
   {
    "duration": 3,
    "start_time": "2023-05-25T12:19:04.627Z"
   },
   {
    "duration": 198,
    "start_time": "2023-05-25T12:19:04.631Z"
   },
   {
    "duration": 7,
    "start_time": "2023-05-25T12:19:04.831Z"
   },
   {
    "duration": 28,
    "start_time": "2023-05-25T12:19:04.840Z"
   },
   {
    "duration": 262,
    "start_time": "2023-05-25T12:19:04.870Z"
   },
   {
    "duration": 29,
    "start_time": "2023-05-25T12:19:05.133Z"
   },
   {
    "duration": 12,
    "start_time": "2023-05-25T12:19:05.163Z"
   },
   {
    "duration": 27,
    "start_time": "2023-05-25T12:19:05.195Z"
   },
   {
    "duration": 3612,
    "start_time": "2023-05-25T12:19:05.224Z"
   },
   {
    "duration": 915,
    "start_time": "2023-05-25T12:19:08.838Z"
   },
   {
    "duration": 610,
    "start_time": "2023-05-25T12:19:09.755Z"
   },
   {
    "duration": 1146,
    "start_time": "2023-05-25T12:19:10.366Z"
   },
   {
    "duration": 25,
    "start_time": "2023-05-25T12:19:11.514Z"
   },
   {
    "duration": 1275,
    "start_time": "2023-05-25T12:19:11.541Z"
   },
   {
    "duration": 5,
    "start_time": "2023-05-25T12:19:12.818Z"
   },
   {
    "duration": 36,
    "start_time": "2023-05-25T12:19:12.824Z"
   },
   {
    "duration": 3,
    "start_time": "2023-05-25T12:19:12.862Z"
   },
   {
    "duration": 1633,
    "start_time": "2023-05-25T12:19:12.867Z"
   },
   {
    "duration": 19420,
    "start_time": "2023-05-25T12:19:14.503Z"
   },
   {
    "duration": 1093537,
    "start_time": "2023-05-25T12:19:33.924Z"
   },
   {
    "duration": 4,
    "start_time": "2023-05-25T12:37:47.462Z"
   },
   {
    "duration": 9517,
    "start_time": "2023-05-25T12:37:47.467Z"
   },
   {
    "duration": 21,
    "start_time": "2023-05-25T12:37:56.986Z"
   },
   {
    "duration": 53,
    "start_time": "2023-05-26T09:46:16.196Z"
   },
   {
    "duration": 8,
    "start_time": "2023-05-26T09:59:32.202Z"
   },
   {
    "duration": 9,
    "start_time": "2023-05-26T09:59:53.796Z"
   },
   {
    "duration": 1822,
    "start_time": "2023-05-26T09:59:59.911Z"
   },
   {
    "duration": 59,
    "start_time": "2023-05-26T10:00:01.736Z"
   },
   {
    "duration": 2963,
    "start_time": "2023-05-26T10:00:01.797Z"
   },
   {
    "duration": 210,
    "start_time": "2023-05-26T10:00:04.761Z"
   },
   {
    "duration": 3,
    "start_time": "2023-05-26T10:00:04.975Z"
   },
   {
    "duration": 241,
    "start_time": "2023-05-26T10:00:04.980Z"
   },
   {
    "duration": 6,
    "start_time": "2023-05-26T10:00:05.222Z"
   },
   {
    "duration": 40,
    "start_time": "2023-05-26T10:00:05.230Z"
   },
   {
    "duration": 315,
    "start_time": "2023-05-26T10:00:05.272Z"
   },
   {
    "duration": 33,
    "start_time": "2023-05-26T10:00:05.589Z"
   },
   {
    "duration": 31,
    "start_time": "2023-05-26T10:00:05.624Z"
   },
   {
    "duration": 97,
    "start_time": "2023-05-26T10:00:05.657Z"
   },
   {
    "duration": 3782,
    "start_time": "2023-05-26T10:00:05.756Z"
   },
   {
    "duration": 1042,
    "start_time": "2023-05-26T10:00:09.540Z"
   },
   {
    "duration": 457,
    "start_time": "2023-05-26T10:00:10.584Z"
   },
   {
    "duration": 1357,
    "start_time": "2023-05-26T10:00:11.046Z"
   },
   {
    "duration": 31,
    "start_time": "2023-05-26T10:00:12.406Z"
   },
   {
    "duration": 1339,
    "start_time": "2023-05-26T10:00:12.447Z"
   },
   {
    "duration": 5,
    "start_time": "2023-05-26T10:00:13.787Z"
   },
   {
    "duration": 48,
    "start_time": "2023-05-26T10:00:13.793Z"
   },
   {
    "duration": 3,
    "start_time": "2023-05-26T10:00:13.843Z"
   },
   {
    "duration": 1302,
    "start_time": "2023-05-26T10:00:13.848Z"
   },
   {
    "duration": 20722,
    "start_time": "2023-05-26T10:00:15.152Z"
   },
   {
    "duration": 1476,
    "start_time": "2023-05-26T10:03:22.105Z"
   },
   {
    "duration": 74,
    "start_time": "2023-05-26T10:03:23.583Z"
   },
   {
    "duration": 683,
    "start_time": "2023-05-26T10:03:23.658Z"
   },
   {
    "duration": 203,
    "start_time": "2023-05-26T10:03:24.343Z"
   },
   {
    "duration": 3,
    "start_time": "2023-05-26T10:03:24.548Z"
   },
   {
    "duration": 172,
    "start_time": "2023-05-26T10:03:24.553Z"
   },
   {
    "duration": 7,
    "start_time": "2023-05-26T10:03:24.727Z"
   },
   {
    "duration": 10,
    "start_time": "2023-05-26T10:03:24.746Z"
   },
   {
    "duration": 243,
    "start_time": "2023-05-26T10:03:24.757Z"
   },
   {
    "duration": 48,
    "start_time": "2023-05-26T10:03:25.001Z"
   },
   {
    "duration": 13,
    "start_time": "2023-05-26T10:03:25.051Z"
   },
   {
    "duration": 31,
    "start_time": "2023-05-26T10:03:25.066Z"
   },
   {
    "duration": 3772,
    "start_time": "2023-05-26T10:03:25.100Z"
   },
   {
    "duration": 872,
    "start_time": "2023-05-26T10:03:28.875Z"
   },
   {
    "duration": 484,
    "start_time": "2023-05-26T10:03:29.749Z"
   },
   {
    "duration": 1354,
    "start_time": "2023-05-26T10:03:30.235Z"
   },
   {
    "duration": 27,
    "start_time": "2023-05-26T10:03:31.591Z"
   },
   {
    "duration": 1374,
    "start_time": "2023-05-26T10:03:31.620Z"
   },
   {
    "duration": 7,
    "start_time": "2023-05-26T10:03:32.996Z"
   },
   {
    "duration": 54,
    "start_time": "2023-05-26T10:03:33.005Z"
   },
   {
    "duration": 3,
    "start_time": "2023-05-26T10:03:33.061Z"
   },
   {
    "duration": 1285,
    "start_time": "2023-05-26T10:03:33.066Z"
   },
   {
    "duration": 20739,
    "start_time": "2023-05-26T10:03:34.353Z"
   },
   {
    "duration": 1241325,
    "start_time": "2023-05-26T10:03:55.094Z"
   },
   {
    "duration": 5,
    "start_time": "2023-05-26T10:24:36.421Z"
   },
   {
    "duration": 10883,
    "start_time": "2023-05-26T10:24:36.427Z"
   },
   {
    "duration": 18,
    "start_time": "2023-05-26T10:24:47.312Z"
   },
   {
    "duration": 3,
    "start_time": "2023-05-26T10:50:23.639Z"
   },
   {
    "duration": 13,
    "start_time": "2023-05-26T11:01:35.684Z"
   },
   {
    "duration": 40,
    "start_time": "2023-05-26T11:01:36.185Z"
   },
   {
    "duration": 4069,
    "start_time": "2023-05-26T11:01:56.339Z"
   },
   {
    "duration": 437,
    "start_time": "2023-05-26T11:03:39.842Z"
   },
   {
    "duration": 14,
    "start_time": "2023-05-26T11:09:13.818Z"
   },
   {
    "duration": 36,
    "start_time": "2023-05-26T11:09:14.565Z"
   },
   {
    "duration": 4190,
    "start_time": "2023-05-26T11:09:25.686Z"
   },
   {
    "duration": 20,
    "start_time": "2023-05-26T11:47:53.278Z"
   },
   {
    "duration": 1541,
    "start_time": "2023-05-26T11:48:27.830Z"
   },
   {
    "duration": 43,
    "start_time": "2023-05-26T11:48:29.372Z"
   },
   {
    "duration": 699,
    "start_time": "2023-05-26T11:48:29.417Z"
   },
   {
    "duration": 235,
    "start_time": "2023-05-26T11:48:30.118Z"
   },
   {
    "duration": 4,
    "start_time": "2023-05-26T11:48:30.355Z"
   },
   {
    "duration": 208,
    "start_time": "2023-05-26T11:48:30.361Z"
   },
   {
    "duration": 8,
    "start_time": "2023-05-26T11:48:30.571Z"
   },
   {
    "duration": 169,
    "start_time": "2023-05-26T11:48:30.581Z"
   },
   {
    "duration": 0,
    "start_time": "2023-05-26T11:48:30.752Z"
   },
   {
    "duration": 0,
    "start_time": "2023-05-26T11:48:30.754Z"
   },
   {
    "duration": 0,
    "start_time": "2023-05-26T11:48:30.756Z"
   },
   {
    "duration": 0,
    "start_time": "2023-05-26T11:48:30.756Z"
   },
   {
    "duration": 0,
    "start_time": "2023-05-26T11:48:30.758Z"
   },
   {
    "duration": 0,
    "start_time": "2023-05-26T11:48:30.759Z"
   },
   {
    "duration": 0,
    "start_time": "2023-05-26T11:48:30.760Z"
   },
   {
    "duration": 0,
    "start_time": "2023-05-26T11:48:30.762Z"
   },
   {
    "duration": 0,
    "start_time": "2023-05-26T11:48:30.763Z"
   },
   {
    "duration": 0,
    "start_time": "2023-05-26T11:48:30.766Z"
   },
   {
    "duration": 0,
    "start_time": "2023-05-26T11:48:30.767Z"
   },
   {
    "duration": 0,
    "start_time": "2023-05-26T11:48:30.769Z"
   },
   {
    "duration": 0,
    "start_time": "2023-05-26T11:48:30.770Z"
   },
   {
    "duration": 0,
    "start_time": "2023-05-26T11:48:30.772Z"
   },
   {
    "duration": 0,
    "start_time": "2023-05-26T11:48:30.773Z"
   },
   {
    "duration": 0,
    "start_time": "2023-05-26T11:48:30.774Z"
   },
   {
    "duration": 0,
    "start_time": "2023-05-26T11:48:30.776Z"
   },
   {
    "duration": 0,
    "start_time": "2023-05-26T11:48:30.777Z"
   },
   {
    "duration": 0,
    "start_time": "2023-05-26T11:48:30.778Z"
   },
   {
    "duration": 15,
    "start_time": "2023-05-26T11:49:30.781Z"
   },
   {
    "duration": 11,
    "start_time": "2023-05-26T11:50:19.423Z"
   },
   {
    "duration": 1637,
    "start_time": "2023-05-26T11:50:32.026Z"
   },
   {
    "duration": 52,
    "start_time": "2023-05-26T11:50:33.665Z"
   },
   {
    "duration": 775,
    "start_time": "2023-05-26T11:50:33.719Z"
   },
   {
    "duration": 251,
    "start_time": "2023-05-26T11:50:34.496Z"
   },
   {
    "duration": 4,
    "start_time": "2023-05-26T11:50:34.750Z"
   },
   {
    "duration": 228,
    "start_time": "2023-05-26T11:50:34.756Z"
   },
   {
    "duration": 7,
    "start_time": "2023-05-26T11:50:34.986Z"
   },
   {
    "duration": 18,
    "start_time": "2023-05-26T11:50:34.995Z"
   },
   {
    "duration": 255,
    "start_time": "2023-05-26T11:50:35.015Z"
   },
   {
    "duration": 35,
    "start_time": "2023-05-26T11:50:35.272Z"
   },
   {
    "duration": 37,
    "start_time": "2023-05-26T11:50:35.309Z"
   },
   {
    "duration": 30,
    "start_time": "2023-05-26T11:50:35.348Z"
   },
   {
    "duration": 4004,
    "start_time": "2023-05-26T11:50:35.380Z"
   },
   {
    "duration": 994,
    "start_time": "2023-05-26T11:50:39.388Z"
   },
   {
    "duration": 557,
    "start_time": "2023-05-26T11:50:40.384Z"
   },
   {
    "duration": 1371,
    "start_time": "2023-05-26T11:50:40.945Z"
   },
   {
    "duration": 33,
    "start_time": "2023-05-26T11:50:42.319Z"
   },
   {
    "duration": 1404,
    "start_time": "2023-05-26T11:50:42.354Z"
   },
   {
    "duration": 7,
    "start_time": "2023-05-26T11:50:43.760Z"
   },
   {
    "duration": 39,
    "start_time": "2023-05-26T11:50:43.769Z"
   },
   {
    "duration": 4,
    "start_time": "2023-05-26T11:50:43.810Z"
   },
   {
    "duration": 2834,
    "start_time": "2023-05-26T11:50:43.815Z"
   },
   {
    "duration": 21491,
    "start_time": "2023-05-26T11:50:46.652Z"
   },
   {
    "duration": 1247970,
    "start_time": "2023-05-26T11:51:08.146Z"
   },
   {
    "duration": 4,
    "start_time": "2023-05-26T12:11:56.118Z"
   },
   {
    "duration": 10303,
    "start_time": "2023-05-26T12:11:56.123Z"
   },
   {
    "duration": 24,
    "start_time": "2023-05-26T12:12:06.428Z"
   },
   {
    "duration": 136,
    "start_time": "2023-05-26T12:52:34.812Z"
   },
   {
    "duration": 1636,
    "start_time": "2023-05-26T12:54:29.083Z"
   },
   {
    "duration": 44,
    "start_time": "2023-05-26T12:54:30.722Z"
   },
   {
    "duration": 859,
    "start_time": "2023-05-26T12:54:30.768Z"
   },
   {
    "duration": 325,
    "start_time": "2023-05-26T12:54:31.629Z"
   },
   {
    "duration": 4,
    "start_time": "2023-05-26T12:54:31.958Z"
   },
   {
    "duration": 327,
    "start_time": "2023-05-26T12:54:31.964Z"
   },
   {
    "duration": 7,
    "start_time": "2023-05-26T12:54:32.293Z"
   },
   {
    "duration": 25,
    "start_time": "2023-05-26T12:54:32.302Z"
   },
   {
    "duration": 330,
    "start_time": "2023-05-26T12:54:32.329Z"
   },
   {
    "duration": 48,
    "start_time": "2023-05-26T12:54:32.662Z"
   },
   {
    "duration": 36,
    "start_time": "2023-05-26T12:54:32.712Z"
   },
   {
    "duration": 42,
    "start_time": "2023-05-26T12:54:32.750Z"
   },
   {
    "duration": 4258,
    "start_time": "2023-05-26T12:54:32.794Z"
   },
   {
    "duration": 1109,
    "start_time": "2023-05-26T12:54:37.056Z"
   },
   {
    "duration": 684,
    "start_time": "2023-05-26T12:54:38.167Z"
   },
   {
    "duration": 1613,
    "start_time": "2023-05-26T12:54:38.853Z"
   },
   {
    "duration": 28,
    "start_time": "2023-05-26T12:54:40.469Z"
   },
   {
    "duration": 1480,
    "start_time": "2023-05-26T12:54:40.500Z"
   },
   {
    "duration": 5,
    "start_time": "2023-05-26T12:54:41.982Z"
   },
   {
    "duration": 36,
    "start_time": "2023-05-26T12:54:41.989Z"
   },
   {
    "duration": 3,
    "start_time": "2023-05-26T12:54:42.028Z"
   },
   {
    "duration": 2915,
    "start_time": "2023-05-26T12:54:42.045Z"
   },
   {
    "duration": 22268,
    "start_time": "2023-05-26T12:54:45.046Z"
   },
   {
    "duration": 1266420,
    "start_time": "2023-05-26T12:55:07.316Z"
   },
   {
    "duration": 9,
    "start_time": "2023-05-26T13:16:13.738Z"
   },
   {
    "duration": 10351,
    "start_time": "2023-05-26T13:16:13.748Z"
   },
   {
    "duration": 16,
    "start_time": "2023-05-26T13:16:24.101Z"
   },
   {
    "duration": 1571,
    "start_time": "2023-05-29T06:00:15.716Z"
   },
   {
    "duration": 34,
    "start_time": "2023-05-29T06:00:17.290Z"
   },
   {
    "duration": 1938,
    "start_time": "2023-05-29T06:00:17.329Z"
   },
   {
    "duration": 175,
    "start_time": "2023-05-29T06:00:19.268Z"
   },
   {
    "duration": 3,
    "start_time": "2023-05-29T06:00:19.445Z"
   },
   {
    "duration": 190,
    "start_time": "2023-05-29T06:00:19.449Z"
   },
   {
    "duration": 6,
    "start_time": "2023-05-29T06:00:19.641Z"
   },
   {
    "duration": 20,
    "start_time": "2023-05-29T06:00:19.649Z"
   },
   {
    "duration": 230,
    "start_time": "2023-05-29T06:00:19.672Z"
   },
   {
    "duration": 50,
    "start_time": "2023-05-29T06:00:19.904Z"
   },
   {
    "duration": 14,
    "start_time": "2023-05-29T06:00:19.956Z"
   },
   {
    "duration": 28,
    "start_time": "2023-05-29T06:00:19.972Z"
   },
   {
    "duration": 3597,
    "start_time": "2023-05-29T06:00:20.002Z"
   },
   {
    "duration": 869,
    "start_time": "2023-05-29T06:00:23.602Z"
   },
   {
    "duration": 531,
    "start_time": "2023-05-29T06:00:24.473Z"
   },
   {
    "duration": 1311,
    "start_time": "2023-05-29T06:00:25.006Z"
   },
   {
    "duration": 31,
    "start_time": "2023-05-29T06:00:26.319Z"
   },
   {
    "duration": 1320,
    "start_time": "2023-05-29T06:00:26.352Z"
   },
   {
    "duration": 4,
    "start_time": "2023-05-29T06:00:27.674Z"
   },
   {
    "duration": 44,
    "start_time": "2023-05-29T06:00:27.680Z"
   },
   {
    "duration": 4,
    "start_time": "2023-05-29T06:00:27.735Z"
   },
   {
    "duration": 1390,
    "start_time": "2023-05-29T06:00:27.741Z"
   },
   {
    "duration": 18677,
    "start_time": "2023-05-29T06:00:29.133Z"
   },
   {
    "duration": 1139261,
    "start_time": "2023-05-29T06:00:47.812Z"
   },
   {
    "duration": 4,
    "start_time": "2023-05-29T06:19:47.075Z"
   }
  ],
  "kernelspec": {
   "display_name": "Python 3 (ipykernel)",
   "language": "python",
   "name": "python3"
  },
  "language_info": {
   "codemirror_mode": {
    "name": "ipython",
    "version": 3
   },
   "file_extension": ".py",
   "mimetype": "text/x-python",
   "name": "python",
   "nbconvert_exporter": "python",
   "pygments_lexer": "ipython3",
   "version": "3.9.5"
  },
  "toc": {
   "base_numbering": 1,
   "nav_menu": {},
   "number_sections": true,
   "sideBar": true,
   "skip_h1_title": true,
   "title_cell": "Содержание",
   "title_sidebar": "Contents",
   "toc_cell": true,
   "toc_position": {},
   "toc_section_display": true,
   "toc_window_display": false
  }
 },
 "nbformat": 4,
 "nbformat_minor": 4
}
