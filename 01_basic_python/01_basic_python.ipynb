{
 "cells": [
  {
   "cell_type": "markdown",
   "metadata": {
    "deletable": false,
    "editable": false,
    "id": "E0vqbgi9ay0H"
   },
   "source": [
    "# Яндекс Музыка"
   ]
  },
  {
   "cell_type": "markdown",
   "metadata": {
    "deletable": false,
    "editable": false,
    "id": "VUC88oWjTJw2"
   },
   "source": [
    "Сравнение Москвы и Петербурга окружено мифами. Например:\n",
    "\n",
    "- Москва — мегаполис, подчинённый жёсткому ритму рабочей недели;\n",
    "- Петербург — культурная столица, со своими вкусами.\n",
    "\n",
    "На данных Яндекс Музыки я сравню поведение пользователей двух столиц.\n",
    "\n",
    "**Цель исследования** — проверить три гипотезы:\n",
    "\n",
    "1. Активность пользователей зависит от дня недели. Причём в Москве и Петербурге это проявляется по-разному.\n",
    "2. В понедельник утром в Москве преобладают одни жанры, а в Петербурге — другие. Так же и вечером пятницы преобладают разные жанры — в зависимости от города.\n",
    "3. Москва и Петербург предпочитают разные жанры музыки. В Москве чаще слушают поп-музыку, в Петербурге — русский рэп.\n",
    "\n",
    "**Ход исследования**\n",
    "\n",
    "Данные о поведении пользователей я получу из файла `yandex_music_project.csv`. О качестве данных ничего не известно. Поэтому перед проверкой гипотез понадобится обзор данных.\n",
    "\n",
    "Я проверю данные на ошибки и оценю их влияние на исследование. Затем, на этапе предобработки, я поищу возможность исправить самые критичные ошибки данных.\n",
    "\n",
    "Таким образом, исследование пройдёт в три этапа:\n",
    "\n",
    "1. Обзор данных.\n",
    "2. Предобработка данных.\n",
    "3. Проверка гипотез.\n"
   ]
  },
  {
   "cell_type": "markdown",
   "metadata": {},
   "source": [
    "Далее последует методическая рекомендация от Яндекса, в которых будут прописаны задания без кода. Код нужно заполнить самостоятельно. Это поможет понять как строится проект. В дальнейших проектах работать придется с чистого листа."
   ]
  },
  {
   "cell_type": "markdown",
   "metadata": {
    "deletable": false,
    "editable": false,
    "id": "Ml1hmfXC_Zcs"
   },
   "source": [
    "## Обзор данных\n",
    "\n",
    "Составьте первое представление о данных Яндекс Музыки.\n",
    "\n",
    "\n"
   ]
  },
  {
   "cell_type": "markdown",
   "metadata": {
    "deletable": false,
    "editable": false,
    "id": "57eAOGIz_Zcs",
    "tags": [
     "start_task"
    ]
   },
   "source": [
    "**Задание 1**\n",
    "\n",
    "Основной инструмент аналитика — `pandas`. Импортируйте эту библиотеку."
   ]
  },
  {
   "cell_type": "code",
   "execution_count": 1,
   "metadata": {
    "deletable": false,
    "id": "AXN7PHPN_Zcs"
   },
   "outputs": [],
   "source": [
    "import pandas as pd # импорт библиотеки pandas"
   ]
  },
  {
   "cell_type": "markdown",
   "metadata": {
    "deletable": false,
    "editable": false,
    "id": "SG23P8tt_Zcs",
    "tags": [
     "start_task"
    ]
   },
   "source": [
    "**Задание 2**\n",
    "\n",
    "Прочитайте файл `yandex_music_project.csv` из папки `/datasets` и сохраните его в переменной `df`:"
   ]
  },
  {
   "cell_type": "code",
   "execution_count": 2,
   "metadata": {
    "deletable": false,
    "id": "fFVu7vqh_Zct"
   },
   "outputs": [
    {
     "data": {
      "text/html": [
       "<div>\n",
       "<style scoped>\n",
       "    .dataframe tbody tr th:only-of-type {\n",
       "        vertical-align: middle;\n",
       "    }\n",
       "\n",
       "    .dataframe tbody tr th {\n",
       "        vertical-align: top;\n",
       "    }\n",
       "\n",
       "    .dataframe thead th {\n",
       "        text-align: right;\n",
       "    }\n",
       "</style>\n",
       "<table border=\"1\" class=\"dataframe\">\n",
       "  <thead>\n",
       "    <tr style=\"text-align: right;\">\n",
       "      <th></th>\n",
       "      <th>userID</th>\n",
       "      <th>Track</th>\n",
       "      <th>artist</th>\n",
       "      <th>genre</th>\n",
       "      <th>City</th>\n",
       "      <th>time</th>\n",
       "      <th>Day</th>\n",
       "    </tr>\n",
       "  </thead>\n",
       "  <tbody>\n",
       "    <tr>\n",
       "      <th>0</th>\n",
       "      <td>FFB692EC</td>\n",
       "      <td>Kamigata To Boots</td>\n",
       "      <td>The Mass Missile</td>\n",
       "      <td>rock</td>\n",
       "      <td>Saint-Petersburg</td>\n",
       "      <td>20:28:33</td>\n",
       "      <td>Wednesday</td>\n",
       "    </tr>\n",
       "    <tr>\n",
       "      <th>1</th>\n",
       "      <td>55204538</td>\n",
       "      <td>Delayed Because of Accident</td>\n",
       "      <td>Andreas Rönnberg</td>\n",
       "      <td>rock</td>\n",
       "      <td>Moscow</td>\n",
       "      <td>14:07:09</td>\n",
       "      <td>Friday</td>\n",
       "    </tr>\n",
       "    <tr>\n",
       "      <th>2</th>\n",
       "      <td>20EC38</td>\n",
       "      <td>Funiculì funiculà</td>\n",
       "      <td>Mario Lanza</td>\n",
       "      <td>pop</td>\n",
       "      <td>Saint-Petersburg</td>\n",
       "      <td>20:58:07</td>\n",
       "      <td>Wednesday</td>\n",
       "    </tr>\n",
       "    <tr>\n",
       "      <th>3</th>\n",
       "      <td>A3DD03C9</td>\n",
       "      <td>Dragons in the Sunset</td>\n",
       "      <td>Fire + Ice</td>\n",
       "      <td>folk</td>\n",
       "      <td>Saint-Petersburg</td>\n",
       "      <td>08:37:09</td>\n",
       "      <td>Monday</td>\n",
       "    </tr>\n",
       "    <tr>\n",
       "      <th>4</th>\n",
       "      <td>E2DC1FAE</td>\n",
       "      <td>Soul People</td>\n",
       "      <td>Space Echo</td>\n",
       "      <td>dance</td>\n",
       "      <td>Moscow</td>\n",
       "      <td>08:34:34</td>\n",
       "      <td>Monday</td>\n",
       "    </tr>\n",
       "    <tr>\n",
       "      <th>...</th>\n",
       "      <td>...</td>\n",
       "      <td>...</td>\n",
       "      <td>...</td>\n",
       "      <td>...</td>\n",
       "      <td>...</td>\n",
       "      <td>...</td>\n",
       "      <td>...</td>\n",
       "    </tr>\n",
       "    <tr>\n",
       "      <th>65074</th>\n",
       "      <td>729CBB09</td>\n",
       "      <td>My Name</td>\n",
       "      <td>McLean</td>\n",
       "      <td>rnb</td>\n",
       "      <td>Moscow</td>\n",
       "      <td>13:32:28</td>\n",
       "      <td>Wednesday</td>\n",
       "    </tr>\n",
       "    <tr>\n",
       "      <th>65075</th>\n",
       "      <td>D08D4A55</td>\n",
       "      <td>Maybe One Day (feat. Black Spade)</td>\n",
       "      <td>Blu &amp; Exile</td>\n",
       "      <td>hip</td>\n",
       "      <td>Saint-Petersburg</td>\n",
       "      <td>10:00:00</td>\n",
       "      <td>Monday</td>\n",
       "    </tr>\n",
       "    <tr>\n",
       "      <th>65076</th>\n",
       "      <td>C5E3A0D5</td>\n",
       "      <td>Jalopiina</td>\n",
       "      <td>NaN</td>\n",
       "      <td>industrial</td>\n",
       "      <td>Moscow</td>\n",
       "      <td>20:09:26</td>\n",
       "      <td>Friday</td>\n",
       "    </tr>\n",
       "    <tr>\n",
       "      <th>65077</th>\n",
       "      <td>321D0506</td>\n",
       "      <td>Freight Train</td>\n",
       "      <td>Chas McDevitt</td>\n",
       "      <td>rock</td>\n",
       "      <td>Moscow</td>\n",
       "      <td>21:43:59</td>\n",
       "      <td>Friday</td>\n",
       "    </tr>\n",
       "    <tr>\n",
       "      <th>65078</th>\n",
       "      <td>3A64EF84</td>\n",
       "      <td>Tell Me Sweet Little Lies</td>\n",
       "      <td>Monica Lopez</td>\n",
       "      <td>country</td>\n",
       "      <td>Moscow</td>\n",
       "      <td>21:59:46</td>\n",
       "      <td>Friday</td>\n",
       "    </tr>\n",
       "  </tbody>\n",
       "</table>\n",
       "<p>65079 rows × 7 columns</p>\n",
       "</div>"
      ],
      "text/plain": [
       "         userID                              Track            artist  \\\n",
       "0      FFB692EC                  Kamigata To Boots  The Mass Missile   \n",
       "1      55204538        Delayed Because of Accident  Andreas Rönnberg   \n",
       "2        20EC38                  Funiculì funiculà       Mario Lanza   \n",
       "3      A3DD03C9              Dragons in the Sunset        Fire + Ice   \n",
       "4      E2DC1FAE                        Soul People        Space Echo   \n",
       "...         ...                                ...               ...   \n",
       "65074  729CBB09                            My Name            McLean   \n",
       "65075  D08D4A55  Maybe One Day (feat. Black Spade)       Blu & Exile   \n",
       "65076  C5E3A0D5                          Jalopiina               NaN   \n",
       "65077  321D0506                      Freight Train     Chas McDevitt   \n",
       "65078  3A64EF84          Tell Me Sweet Little Lies      Monica Lopez   \n",
       "\n",
       "            genre            City        time        Day  \n",
       "0            rock  Saint-Petersburg  20:28:33  Wednesday  \n",
       "1            rock            Moscow  14:07:09     Friday  \n",
       "2             pop  Saint-Petersburg  20:58:07  Wednesday  \n",
       "3            folk  Saint-Petersburg  08:37:09     Monday  \n",
       "4           dance            Moscow  08:34:34     Monday  \n",
       "...           ...               ...       ...        ...  \n",
       "65074         rnb            Moscow  13:32:28  Wednesday  \n",
       "65075         hip  Saint-Petersburg  10:00:00     Monday  \n",
       "65076  industrial            Moscow  20:09:26     Friday  \n",
       "65077        rock            Moscow  21:43:59     Friday  \n",
       "65078     country            Moscow  21:59:46     Friday  \n",
       "\n",
       "[65079 rows x 7 columns]"
      ]
     },
     "execution_count": 2,
     "metadata": {},
     "output_type": "execute_result"
    }
   ],
   "source": [
    "df = pd.read_csv('/datasets/yandex_music_project.csv') # чтение файла с данными и сохранение в df.\n",
    "df \n",
    "\n",
    "\n"
   ]
  },
  {
   "cell_type": "markdown",
   "metadata": {
    "deletable": false,
    "editable": false,
    "id": "rDoOMd3uTqnZ",
    "tags": [
     "start_task"
    ]
   },
   "source": [
    "**Задание 3**\n",
    "\n",
    "\n",
    "Выведите на экран первые десять строк таблицы:"
   ]
  },
  {
   "cell_type": "code",
   "execution_count": 3,
   "metadata": {
    "deletable": false,
    "id": "oWTVX3gW_Zct"
   },
   "outputs": [
    {
     "name": "stdout",
     "output_type": "stream",
     "text": [
      "     userID                        Track            artist   genre  \\\n",
      "0  FFB692EC            Kamigata To Boots  The Mass Missile    rock   \n",
      "1  55204538  Delayed Because of Accident  Andreas Rönnberg    rock   \n",
      "2    20EC38            Funiculì funiculà       Mario Lanza     pop   \n",
      "3  A3DD03C9        Dragons in the Sunset        Fire + Ice    folk   \n",
      "4  E2DC1FAE                  Soul People        Space Echo   dance   \n",
      "5  842029A1                    Преданная         IMPERVTOR  rusrap   \n",
      "6  4CB90AA5                         True      Roman Messer   dance   \n",
      "7  F03E1C1F             Feeling This Way   Polina Griffith   dance   \n",
      "8  8FA1D3BE     И вновь продолжается бой               NaN  ruspop   \n",
      "9  E772D5C0                    Pessimist               NaN   dance   \n",
      "\n",
      "             City        time        Day  \n",
      "0  Saint-Petersburg  20:28:33  Wednesday  \n",
      "1            Moscow  14:07:09     Friday  \n",
      "2  Saint-Petersburg  20:58:07  Wednesday  \n",
      "3  Saint-Petersburg  08:37:09     Monday  \n",
      "4            Moscow  08:34:34     Monday  \n",
      "5  Saint-Petersburg  13:09:41     Friday  \n",
      "6            Moscow  13:00:07  Wednesday  \n",
      "7            Moscow  20:47:49  Wednesday  \n",
      "8            Moscow  09:17:40     Friday  \n",
      "9  Saint-Petersburg  21:20:49  Wednesday  \n"
     ]
    }
   ],
   "source": [
    "print(df.head(10))# получение первых 10 строк таблицы df"
   ]
  },
  {
   "cell_type": "markdown",
   "metadata": {
    "deletable": false,
    "editable": false,
    "id": "EO73Kwic_Zct",
    "tags": [
     "start_task"
    ]
   },
   "source": [
    "**Задание 4**\n",
    "\n",
    "\n",
    "Одной командой получить общую информацию о таблице c помощью метода `info()`:"
   ]
  },
  {
   "cell_type": "code",
   "execution_count": 4,
   "metadata": {
    "deletable": false,
    "id": "DSf2kIb-_Zct",
    "scrolled": true
   },
   "outputs": [
    {
     "name": "stdout",
     "output_type": "stream",
     "text": [
      "<class 'pandas.core.frame.DataFrame'>\n",
      "RangeIndex: 65079 entries, 0 to 65078\n",
      "Data columns (total 7 columns):\n",
      " #   Column    Non-Null Count  Dtype \n",
      "---  ------    --------------  ----- \n",
      " 0     userID  65079 non-null  object\n",
      " 1   Track     63848 non-null  object\n",
      " 2   artist    57876 non-null  object\n",
      " 3   genre     63881 non-null  object\n",
      " 4     City    65079 non-null  object\n",
      " 5   time      65079 non-null  object\n",
      " 6   Day       65079 non-null  object\n",
      "dtypes: object(7)\n",
      "memory usage: 3.5+ MB\n"
     ]
    }
   ],
   "source": [
    "df.info()# получение общей информации о данных в таблице df"
   ]
  },
  {
   "cell_type": "markdown",
   "metadata": {
    "deletable": false,
    "editable": false,
    "id": "TaQ2Iwbr_Zct"
   },
   "source": [
    "Итак, в таблице семь столбцов. Тип данных во всех столбцах — `object`.\n",
    "\n",
    "Согласно документации к данным:\n",
    "* `userID` — идентификатор пользователя;\n",
    "* `Track` — название трека;  \n",
    "* `artist` — имя исполнителя;\n",
    "* `genre` — название жанра;\n",
    "* `City` — город пользователя;\n",
    "* `time` — время начала прослушивания;\n",
    "* `Day` — день недели.\n",
    "\n",
    "Количество значений в столбцах различается. Значит, в данных есть пропущенные значения."
   ]
  },
  {
   "cell_type": "markdown",
   "metadata": {
    "deletable": false,
    "editable": false,
    "id": "rAfziTBDmf2h",
    "tags": [
     "start_task"
    ]
   },
   "source": [
    "**Задание 5**\n",
    "\n",
    "**Вопрос со свободной формой ответа**\n",
    "\n",
    "В названиях колонок видны нарушения стиля:\n",
    "* Строчные буквы сочетаются с прописными.\n",
    "* Встречаются пробелы.\n",
    "\n",
    "Какое третье нарушение?"
   ]
  },
  {
   "cell_type": "code",
   "execution_count": 5,
   "metadata": {
    "id": "jD8EXEIvmf2h"
   },
   "outputs": [],
   "source": [
    "# Необходимо исправить «верблюжий регистр» на «змеиный». Столбец userID, меняем на user_id #. Не меняйте тип этой ячейки на Markdown."
   ]
  },
  {
   "cell_type": "markdown",
   "metadata": {
    "deletable": false,
    "editable": false,
    "id": "MCB6-dXG_Zct"
   },
   "source": [
    "**Выводы**\n",
    "\n",
    "В каждой строке таблицы — данные о прослушанном треке. Часть колонок описывает саму композицию: название, исполнителя и жанр. Остальные данные рассказывают о пользователе: из какого он города, когда он слушал музыку. \n",
    "\n",
    "Предварительно можно утверждать, что данных достаточно для проверки гипотез. Но встречаются пропуски в данных, а в названиях колонок — расхождения с хорошим стилем.\n",
    "\n",
    "Чтобы двигаться дальше, нужно устранить проблемы в данных."
   ]
  },
  {
   "cell_type": "markdown",
   "metadata": {
    "deletable": false,
    "editable": false,
    "id": "SjYF6Ub9_Zct"
   },
   "source": [
    "## Предобработка данных\n",
    "Исправьте стиль в заголовках столбцов, исключите пропуски. Затем проверьте данные на дубликаты."
   ]
  },
  {
   "cell_type": "markdown",
   "metadata": {
    "deletable": false,
    "editable": false,
    "id": "dIaKXr29_Zct",
    "tags": [
     "start_task"
    ]
   },
   "source": [
    "### Стиль заголовков\n",
    "\n",
    "**Задание 6**\n",
    "\n",
    "Выведите на экран названия столбцов:"
   ]
  },
  {
   "cell_type": "code",
   "execution_count": 6,
   "metadata": {
    "deletable": false,
    "id": "oKOTdF_Q_Zct"
   },
   "outputs": [
    {
     "name": "stdout",
     "output_type": "stream",
     "text": [
      "Index(['  userID', 'Track', 'artist', 'genre', '  City  ', 'time', 'Day'], dtype='object')\n"
     ]
    }
   ],
   "source": [
    "print(df.columns)# перечень названий столбцов таблицы df"
   ]
  },
  {
   "cell_type": "markdown",
   "metadata": {
    "deletable": false,
    "editable": false,
    "id": "zj5534cv_Zct",
    "tags": [
     "start_task"
    ]
   },
   "source": [
    "**Задание 7**\n",
    "\n",
    "\n",
    "Приведите названия в соответствие с хорошим стилем:\n",
    "* несколько слов в названии запишите в «змеином_регистре»,\n",
    "* все символы сделайте строчными,\n",
    "* устраните пробелы.\n",
    "\n",
    "Для этого переименуйте колонки так:\n",
    "* `'  userID'` → `'user_id'`;\n",
    "* `'Track'` → `'track'`;\n",
    "* `'  City  '` → `'city'`;\n",
    "* `'Day'` → `'day'`."
   ]
  },
  {
   "cell_type": "code",
   "execution_count": 7,
   "metadata": {
    "deletable": false,
    "id": "ISlFqs5y_Zct"
   },
   "outputs": [],
   "source": [
    "df = df.rename(columns={'  userID': 'user_id', 'Track': 'track', '  City  ': 'city', 'Day': 'day' }) # переименование столбцов"
   ]
  },
  {
   "cell_type": "markdown",
   "metadata": {
    "deletable": false,
    "editable": false,
    "id": "1dqbh00J_Zct",
    "tags": [
     "start_task"
    ]
   },
   "source": [
    "**Задание 8**\n",
    "\n",
    "\n",
    "Проверьте результат. Для этого ещё раз выведите на экран названия столбцов:"
   ]
  },
  {
   "cell_type": "code",
   "execution_count": 8,
   "metadata": {
    "deletable": false,
    "id": "d4NOAmTW_Zct"
   },
   "outputs": [
    {
     "name": "stdout",
     "output_type": "stream",
     "text": [
      "Index(['user_id', 'track', 'artist', 'genre', 'city', 'time', 'day'], dtype='object')\n"
     ]
    }
   ],
   "source": [
    "print(df.columns)# проверка результатов - перечень названий столбцов"
   ]
  },
  {
   "cell_type": "markdown",
   "metadata": {
    "deletable": false,
    "editable": false,
    "id": "5ISfbcfY_Zct",
    "tags": [
     "start_task"
    ]
   },
   "source": [
    "### Пропуски значений\n",
    "\n",
    "**Задание 9**\n",
    "\n",
    "Сначала посчитайте, сколько в таблице пропущенных значений. Для этого достаточно двух методов `pandas`:"
   ]
  },
  {
   "cell_type": "code",
   "execution_count": 9,
   "metadata": {
    "deletable": false,
    "id": "RskX29qr_Zct"
   },
   "outputs": [
    {
     "name": "stdout",
     "output_type": "stream",
     "text": [
      "user_id       0\n",
      "track      1231\n",
      "artist     7203\n",
      "genre      1198\n",
      "city          0\n",
      "time          0\n",
      "day           0\n",
      "dtype: int64\n"
     ]
    }
   ],
   "source": [
    "print(df.isna().sum()) # подсчёт пропусков"
   ]
  },
  {
   "cell_type": "markdown",
   "metadata": {
    "deletable": false,
    "editable": false,
    "id": "qubhgnlO_Zct"
   },
   "source": [
    "Не все пропущенные значения влияют на исследование. Так в `track` и `artist` пропуски не важны для вашей работы. Достаточно заменить их явными обозначениями.\n",
    "\n",
    "Но пропуски в `genre` могут помешать сравнению музыкальных вкусов в Москве и Санкт-Петербурге. На практике было бы правильно установить причину пропусков и восстановить данные. Такой возможности нет в учебном проекте. Придётся:\n",
    "* заполнить и эти пропуски явными обозначениями;\n",
    "* оценить, насколько они повредят расчётам. "
   ]
  },
  {
   "cell_type": "markdown",
   "metadata": {
    "deletable": false,
    "editable": false,
    "id": "fSv2laPA_Zct",
    "tags": [
     "start_task"
    ]
   },
   "source": [
    "**Задание 10**\n",
    "\n",
    "Замените пропущенные значения в столбцах `track`, `artist` и `genre` на строку `'unknown'`. Для этого создайте список `columns_to_replace`, переберите его элементы циклом `for` и для каждого столбца выполните замену пропущенных значений:"
   ]
  },
  {
   "cell_type": "code",
   "execution_count": 10,
   "metadata": {
    "deletable": false,
    "id": "KplB5qWs_Zct"
   },
   "outputs": [],
   "source": [
    "columns_to_replace = ['track', 'artist', 'genre']\n",
    "for column in columns_to_replace:\n",
    "    df[column] = df[column].fillna('unknown')# перебор названий столбцов в цикле и замена пропущенных значений на 'unknown'"
   ]
  },
  {
   "cell_type": "markdown",
   "metadata": {
    "deletable": false,
    "editable": false,
    "id": "Ilsm-MZo_Zct",
    "tags": [
     "start_task"
    ]
   },
   "source": [
    "**Задание 11**\n",
    "\n",
    "Убедитесь, что в таблице не осталось пропусков. Для этого ещё раз посчитайте пропущенные значения."
   ]
  },
  {
   "cell_type": "code",
   "execution_count": 11,
   "metadata": {
    "deletable": false,
    "id": "Tq4nYRX4_Zct"
   },
   "outputs": [
    {
     "name": "stdout",
     "output_type": "stream",
     "text": [
      "user_id    0\n",
      "track      0\n",
      "artist     0\n",
      "genre      0\n",
      "city       0\n",
      "time       0\n",
      "day        0\n",
      "dtype: int64\n"
     ]
    }
   ],
   "source": [
    "print(df.isna().sum())# подсчёт пропусков"
   ]
  },
  {
   "cell_type": "markdown",
   "metadata": {
    "deletable": false,
    "editable": false,
    "id": "BWKRtBJ3_Zct",
    "tags": [
     "start_task"
    ]
   },
   "source": [
    "### Дубликаты\n",
    "\n",
    "**Задание 12**\n",
    "\n",
    "Посчитайте явные дубликаты в таблице одной командой:"
   ]
  },
  {
   "cell_type": "code",
   "execution_count": 12,
   "metadata": {
    "deletable": false,
    "id": "36eES_S0_Zct"
   },
   "outputs": [
    {
     "name": "stdout",
     "output_type": "stream",
     "text": [
      "3826\n"
     ]
    }
   ],
   "source": [
    "print(df.duplicated().sum()) # подсчёт явных дубликатов"
   ]
  },
  {
   "cell_type": "markdown",
   "metadata": {
    "deletable": false,
    "editable": false,
    "id": "Ot25h6XR_Zct",
    "tags": [
     "start_task"
    ]
   },
   "source": [
    "**Задание 13**\n",
    "\n",
    "Вызовите специальный метод `pandas`, чтобы удалить явные дубликаты:"
   ]
  },
  {
   "cell_type": "code",
   "execution_count": 13,
   "metadata": {
    "deletable": false,
    "id": "exFHq6tt_Zct"
   },
   "outputs": [],
   "source": [
    "df = df.drop_duplicates() # удаление явных дубликатов"
   ]
  },
  {
   "cell_type": "markdown",
   "metadata": {
    "deletable": false,
    "editable": false,
    "id": "Im2YwBEG_Zct",
    "tags": [
     "start_task"
    ]
   },
   "source": [
    "**Задание 14**\n",
    "\n",
    "Ещё раз посчитайте явные дубликаты в таблице — убедитесь, что полностью от них избавились:"
   ]
  },
  {
   "cell_type": "code",
   "execution_count": 14,
   "metadata": {
    "deletable": false,
    "id": "-8PuNWQ0_Zct"
   },
   "outputs": [
    {
     "name": "stdout",
     "output_type": "stream",
     "text": [
      "0\n"
     ]
    }
   ],
   "source": [
    "print(df.duplicated().sum())\n",
    "\n",
    "\n"
   ]
  },
  {
   "cell_type": "markdown",
   "metadata": {
    "deletable": false,
    "editable": false,
    "id": "QlFBsxAr_Zct"
   },
   "source": [
    "Теперь избавьтесь от неявных дубликатов в колонке `genre`. Например, название одного и того же жанра может быть записано немного по-разному. Такие ошибки тоже повлияют на результат исследования."
   ]
  },
  {
   "cell_type": "markdown",
   "metadata": {
    "deletable": false,
    "editable": false,
    "id": "eSjWwsOh_Zct",
    "tags": [
     "start_task"
    ]
   },
   "source": [
    "**Задание 15**\n",
    "\n",
    "Выведите на экран список уникальных названий жанров, отсортированный в алфавитном порядке. Для этого:\n",
    "1. извлеките нужный столбец датафрейма; \n",
    "2. примените к нему метод сортировки;\n",
    "3. для отсортированного столбца вызовите метод, который вернёт уникальные значения из столбца."
   ]
  },
  {
   "cell_type": "code",
   "execution_count": 15,
   "metadata": {
    "deletable": false,
    "id": "JIUcqzZN_Zct"
   },
   "outputs": [
    {
     "name": "stdout",
     "output_type": "stream",
     "text": [
      "['acid' 'acoustic' 'action' 'adult' 'africa' 'afrikaans' 'alternative'\n",
      " 'alternativepunk' 'ambient' 'americana' 'animated' 'anime' 'arabesk'\n",
      " 'arabic' 'arena' 'argentinetango' 'art' 'audiobook' 'author' 'avantgarde'\n",
      " 'axé' 'baile' 'balkan' 'beats' 'bigroom' 'black' 'bluegrass' 'blues'\n",
      " 'bollywood' 'bossa' 'brazilian' 'breakbeat' 'breaks' 'broadway'\n",
      " 'cantautori' 'cantopop' 'canzone' 'caribbean' 'caucasian' 'celtic'\n",
      " 'chamber' 'chanson' 'children' 'chill' 'chinese' 'choral' 'christian'\n",
      " 'christmas' 'classical' 'classicmetal' 'club' 'colombian' 'comedy'\n",
      " 'conjazz' 'contemporary' 'country' 'cuban' 'dance' 'dancehall' 'dancepop'\n",
      " 'dark' 'death' 'deep' 'deutschrock' 'deutschspr' 'dirty' 'disco' 'dnb'\n",
      " 'documentary' 'downbeat' 'downtempo' 'drum' 'dub' 'dubstep' 'eastern'\n",
      " 'easy' 'electronic' 'electropop' 'emo' 'entehno' 'epicmetal' 'estrada'\n",
      " 'ethnic' 'eurofolk' 'european' 'experimental' 'extrememetal' 'fado'\n",
      " 'fairytail' 'film' 'fitness' 'flamenco' 'folk' 'folklore' 'folkmetal'\n",
      " 'folkrock' 'folktronica' 'forró' 'frankreich' 'französisch' 'french'\n",
      " 'funk' 'future' 'gangsta' 'garage' 'german' 'ghazal' 'gitarre' 'glitch'\n",
      " 'gospel' 'gothic' 'grime' 'grunge' 'gypsy' 'handsup' \"hard'n'heavy\"\n",
      " 'hardcore' 'hardstyle' 'hardtechno' 'hip' 'hip-hop' 'hiphop' 'historisch'\n",
      " 'holiday' 'hop' 'horror' 'house' 'hymn' 'idm' 'independent' 'indian'\n",
      " 'indie' 'indipop' 'industrial' 'inspirational' 'instrumental'\n",
      " 'international' 'irish' 'jam' 'japanese' 'jazz' 'jewish' 'jpop' 'jungle'\n",
      " 'k-pop' 'karadeniz' 'karaoke' 'kayokyoku' 'korean' 'laiko' 'latin'\n",
      " 'latino' 'leftfield' 'local' 'lounge' 'loungeelectronic' 'lovers'\n",
      " 'malaysian' 'mandopop' 'marschmusik' 'meditative' 'mediterranean'\n",
      " 'melodic' 'metal' 'metalcore' 'mexican' 'middle' 'minimal'\n",
      " 'miscellaneous' 'modern' 'mood' 'mpb' 'muslim' 'native' 'neoklassik'\n",
      " 'neue' 'new' 'newage' 'newwave' 'nu' 'nujazz' 'numetal' 'oceania' 'old'\n",
      " 'opera' 'orchestral' 'other' 'piano' 'podcasts' 'pop' 'popdance'\n",
      " 'popelectronic' 'popeurodance' 'poprussian' 'post' 'posthardcore'\n",
      " 'postrock' 'power' 'progmetal' 'progressive' 'psychedelic' 'punjabi'\n",
      " 'punk' 'quebecois' 'ragga' 'ram' 'rancheras' 'rap' 'rave' 'reggae'\n",
      " 'reggaeton' 'regional' 'relax' 'religious' 'retro' 'rhythm' 'rnb' 'rnr'\n",
      " 'rock' 'rockabilly' 'rockalternative' 'rockindie' 'rockother' 'romance'\n",
      " 'roots' 'ruspop' 'rusrap' 'rusrock' 'russian' 'salsa' 'samba' 'scenic'\n",
      " 'schlager' 'self' 'sertanejo' 'shanson' 'shoegazing' 'showtunes' 'singer'\n",
      " 'ska' 'skarock' 'slow' 'smooth' 'soft' 'soul' 'soulful' 'sound'\n",
      " 'soundtrack' 'southern' 'specialty' 'speech' 'spiritual' 'sport'\n",
      " 'stonerrock' 'surf' 'swing' 'synthpop' 'synthrock' 'sängerportrait'\n",
      " 'tango' 'tanzorchester' 'taraftar' 'tatar' 'tech' 'techno' 'teen'\n",
      " 'thrash' 'top' 'traditional' 'tradjazz' 'trance' 'tribal' 'trip'\n",
      " 'triphop' 'tropical' 'türk' 'türkçe' 'ukrrock' 'unknown' 'urban' 'uzbek'\n",
      " 'variété' 'vi' 'videogame' 'vocal' 'western' 'world' 'worldbeat' 'ïîï'\n",
      " 'электроника']\n"
     ]
    }
   ],
   "source": [
    "print(df['genre'].sort_values().unique())\n",
    "# Просмотр уникальных названий жанров"
   ]
  },
  {
   "cell_type": "markdown",
   "metadata": {
    "deletable": false,
    "editable": false,
    "id": "qej-Qmuo_Zct",
    "tags": [
     "start_task"
    ]
   },
   "source": [
    "**Задание 16**\n",
    "\n",
    "Просмотрите список и найдите неявные дубликаты названия `hiphop`. Это могут быть названия с ошибками или альтернативные названия того же жанра.\n",
    "\n",
    "Вы увидите следующие неявные дубликаты:\n",
    "* *hip*,\n",
    "* *hop*,\n",
    "* *hip-hop*.\n",
    "\n",
    "Чтобы очистить от них таблицу используйте метод `replace()` с двумя аргументами: списком строк-дубликатов (включащий *hip*, *hop* и *hip-hop*) и строкой с правильным значением. Вам нужно исправить колонку `genre` в таблице `df`: заменить каждое значение из списка дубликатов на верное. Вместо `hip`, `hop` и `hip-hop` в таблице должно быть значение `hiphop`:"
   ]
  },
  {
   "cell_type": "code",
   "execution_count": 16,
   "metadata": {
    "deletable": false,
    "id": "ErNDkmns_Zct"
   },
   "outputs": [],
   "source": [
    "duplicates = ['hip', 'hop', 'hip-hop'] # список неправильных имён\n",
    "genre = 'hiphop' # правильное имя\n",
    "df['genre'] = df['genre'].replace(duplicates, genre) \n",
    " "
   ]
  },
  {
   "cell_type": "markdown",
   "metadata": {
    "deletable": false,
    "editable": false,
    "id": "zQKF16_RG15m",
    "tags": [
     "start_task"
    ]
   },
   "source": [
    "**Задание 17**\n",
    "\n",
    "Проверьте, что заменили неправильные названия:\n",
    "\n",
    "*   hip,\n",
    "*   hop,\n",
    "*   hip-hop.\n",
    "\n",
    "Выведите отсортированный список уникальных значений столбца `genre`:"
   ]
  },
  {
   "cell_type": "code",
   "execution_count": 17,
   "metadata": {
    "deletable": false,
    "id": "wvixALnFG15m"
   },
   "outputs": [
    {
     "data": {
      "text/plain": [
       "array(['acid', 'acoustic', 'action', 'adult', 'africa', 'afrikaans',\n",
       "       'alternative', 'alternativepunk', 'ambient', 'americana',\n",
       "       'animated', 'anime', 'arabesk', 'arabic', 'arena',\n",
       "       'argentinetango', 'art', 'audiobook', 'author', 'avantgarde',\n",
       "       'axé', 'baile', 'balkan', 'beats', 'bigroom', 'black', 'bluegrass',\n",
       "       'blues', 'bollywood', 'bossa', 'brazilian', 'breakbeat', 'breaks',\n",
       "       'broadway', 'cantautori', 'cantopop', 'canzone', 'caribbean',\n",
       "       'caucasian', 'celtic', 'chamber', 'chanson', 'children', 'chill',\n",
       "       'chinese', 'choral', 'christian', 'christmas', 'classical',\n",
       "       'classicmetal', 'club', 'colombian', 'comedy', 'conjazz',\n",
       "       'contemporary', 'country', 'cuban', 'dance', 'dancehall',\n",
       "       'dancepop', 'dark', 'death', 'deep', 'deutschrock', 'deutschspr',\n",
       "       'dirty', 'disco', 'dnb', 'documentary', 'downbeat', 'downtempo',\n",
       "       'drum', 'dub', 'dubstep', 'eastern', 'easy', 'electronic',\n",
       "       'electropop', 'emo', 'entehno', 'epicmetal', 'estrada', 'ethnic',\n",
       "       'eurofolk', 'european', 'experimental', 'extrememetal', 'fado',\n",
       "       'fairytail', 'film', 'fitness', 'flamenco', 'folk', 'folklore',\n",
       "       'folkmetal', 'folkrock', 'folktronica', 'forró', 'frankreich',\n",
       "       'französisch', 'french', 'funk', 'future', 'gangsta', 'garage',\n",
       "       'german', 'ghazal', 'gitarre', 'glitch', 'gospel', 'gothic',\n",
       "       'grime', 'grunge', 'gypsy', 'handsup', \"hard'n'heavy\", 'hardcore',\n",
       "       'hardstyle', 'hardtechno', 'hiphop', 'historisch', 'holiday',\n",
       "       'horror', 'house', 'hymn', 'idm', 'independent', 'indian', 'indie',\n",
       "       'indipop', 'industrial', 'inspirational', 'instrumental',\n",
       "       'international', 'irish', 'jam', 'japanese', 'jazz', 'jewish',\n",
       "       'jpop', 'jungle', 'k-pop', 'karadeniz', 'karaoke', 'kayokyoku',\n",
       "       'korean', 'laiko', 'latin', 'latino', 'leftfield', 'local',\n",
       "       'lounge', 'loungeelectronic', 'lovers', 'malaysian', 'mandopop',\n",
       "       'marschmusik', 'meditative', 'mediterranean', 'melodic', 'metal',\n",
       "       'metalcore', 'mexican', 'middle', 'minimal', 'miscellaneous',\n",
       "       'modern', 'mood', 'mpb', 'muslim', 'native', 'neoklassik', 'neue',\n",
       "       'new', 'newage', 'newwave', 'nu', 'nujazz', 'numetal', 'oceania',\n",
       "       'old', 'opera', 'orchestral', 'other', 'piano', 'podcasts', 'pop',\n",
       "       'popdance', 'popelectronic', 'popeurodance', 'poprussian', 'post',\n",
       "       'posthardcore', 'postrock', 'power', 'progmetal', 'progressive',\n",
       "       'psychedelic', 'punjabi', 'punk', 'quebecois', 'ragga', 'ram',\n",
       "       'rancheras', 'rap', 'rave', 'reggae', 'reggaeton', 'regional',\n",
       "       'relax', 'religious', 'retro', 'rhythm', 'rnb', 'rnr', 'rock',\n",
       "       'rockabilly', 'rockalternative', 'rockindie', 'rockother',\n",
       "       'romance', 'roots', 'ruspop', 'rusrap', 'rusrock', 'russian',\n",
       "       'salsa', 'samba', 'scenic', 'schlager', 'self', 'sertanejo',\n",
       "       'shanson', 'shoegazing', 'showtunes', 'singer', 'ska', 'skarock',\n",
       "       'slow', 'smooth', 'soft', 'soul', 'soulful', 'sound', 'soundtrack',\n",
       "       'southern', 'specialty', 'speech', 'spiritual', 'sport',\n",
       "       'stonerrock', 'surf', 'swing', 'synthpop', 'synthrock',\n",
       "       'sängerportrait', 'tango', 'tanzorchester', 'taraftar', 'tatar',\n",
       "       'tech', 'techno', 'teen', 'thrash', 'top', 'traditional',\n",
       "       'tradjazz', 'trance', 'tribal', 'trip', 'triphop', 'tropical',\n",
       "       'türk', 'türkçe', 'ukrrock', 'unknown', 'urban', 'uzbek',\n",
       "       'variété', 'vi', 'videogame', 'vocal', 'western', 'world',\n",
       "       'worldbeat', 'ïîï', 'электроника'], dtype=object)"
      ]
     },
     "execution_count": 17,
     "metadata": {},
     "output_type": "execute_result"
    }
   ],
   "source": [
    "df['genre'].sort_values().unique() # Проверка на неявные дубликаты "
   ]
  },
  {
   "cell_type": "markdown",
   "metadata": {
    "deletable": false,
    "editable": false,
    "id": "jz6a9-7HQUDd"
   },
   "source": [
    "**Выводы**\n",
    "\n",
    "Предобработка обнаружила три проблемы в данных:\n",
    "\n",
    "- нарушения в стиле заголовков,\n",
    "- пропущенные значения,\n",
    "- дубликаты — явные и неявные.\n",
    "\n",
    "Вы исправили заголовки, чтобы упростить работу с таблицей. Без дубликатов исследование станет более точным.\n",
    "\n",
    "Пропущенные значения вы заменили на `'unknown'`. Ещё предстоит увидеть, не повредят ли исследованию пропуски в колонке `genre`.\n",
    "\n",
    "Теперь можно перейти к проверке гипотез. "
   ]
  },
  {
   "cell_type": "markdown",
   "metadata": {
    "deletable": false,
    "editable": false,
    "id": "WttZHXH0SqKk"
   },
   "source": [
    "## Проверка гипотез"
   ]
  },
  {
   "cell_type": "markdown",
   "metadata": {
    "deletable": false,
    "editable": false,
    "id": "Im936VVi_Zcu"
   },
   "source": [
    "### Сравнение поведения пользователей двух столиц"
   ]
  },
  {
   "cell_type": "markdown",
   "metadata": {
    "deletable": false,
    "editable": false,
    "id": "nwt_MuaL_Zcu"
   },
   "source": [
    "Первая гипотеза утверждает, что пользователи по-разному слушают музыку в Москве и Санкт-Петербурге. Проверьте это предположение по данным о трёх днях недели — понедельнике, среде и пятнице. Для этого:\n",
    "\n",
    "* Разделите пользователей Москвы и Санкт-Петербурга.\n",
    "* Сравните, сколько треков послушала каждая группа пользователей в понедельник, среду и пятницу.\n"
   ]
  },
  {
   "cell_type": "markdown",
   "metadata": {
    "deletable": false,
    "editable": false,
    "id": "8Dw_YMmT_Zcu",
    "tags": [
     "start_task"
    ]
   },
   "source": [
    "**Задание 18**\n",
    "\n",
    "Для тренировки сначала выполните каждый из расчётов по отдельности. \n",
    "\n",
    "Оцените активность пользователей в каждом городе. Сгруппируйте данные по городу и посчитайте прослушивания в каждой группе.\n",
    "\n"
   ]
  },
  {
   "cell_type": "code",
   "execution_count": 18,
   "metadata": {
    "deletable": false,
    "id": "0_Qs96oh_Zcu"
   },
   "outputs": [
    {
     "name": "stdout",
     "output_type": "stream",
     "text": [
      "city\n",
      "Moscow              42741\n",
      "Saint-Petersburg    18512\n",
      "Name: city, dtype: int64\n"
     ]
    }
   ],
   "source": [
    "city_df = df.groupby('city')['city'].count()\n",
    "print(city_df)\n",
    "# Подсчёт прослушиваний в каждом городе"
   ]
  },
  {
   "cell_type": "markdown",
   "metadata": {
    "deletable": false,
    "editable": false,
    "id": "dzli3w8o_Zcu",
    "tags": [
     "start_task"
    ]
   },
   "source": [
    "В Москве прослушиваний больше, чем в Петербурге. Из этого не следует, что московские пользователи чаще слушают музыку. Просто самих пользователей в Москве больше.\n",
    "\n",
    "**Задание 19**\n",
    "\n",
    "Теперь сгруппируйте данные по дню недели и посчитайте прослушивания в понедельник, среду и пятницу. Учтите, что в данных есть информация о прослушиваниях только за эти дни.\n"
   ]
  },
  {
   "cell_type": "code",
   "execution_count": 19,
   "metadata": {
    "deletable": false,
    "id": "uZMKjiJz_Zcu"
   },
   "outputs": [
    {
     "name": "stdout",
     "output_type": "stream",
     "text": [
      "day\n",
      "Friday       21840\n",
      "Monday       21354\n",
      "Wednesday    18059\n",
      "Name: day, dtype: int64\n"
     ]
    }
   ],
   "source": [
    "day_df = df.groupby('day')['day'].count()\n",
    "print(day_df)# Подсчёт прослушиваний в каждый из трёх дней"
   ]
  },
  {
   "cell_type": "markdown",
   "metadata": {
    "deletable": false,
    "editable": false,
    "id": "cC2tNrlL_Zcu"
   },
   "source": [
    "В среднем пользователи из двух городов менее активны по средам. Но картина может измениться, если рассмотреть каждый город в отдельности."
   ]
  },
  {
   "cell_type": "markdown",
   "metadata": {
    "deletable": false,
    "editable": false,
    "id": "POzs8bGa_Zcu",
    "tags": [
     "start_task"
    ]
   },
   "source": [
    "**Задание 20**\n",
    "\n",
    "\n",
    "Вы видели, как работает группировка по городу и по дням недели. Теперь напишите функцию, которая объединит два эти расчёта.\n",
    "\n",
    "Создайте функцию `number_tracks()`, которая посчитает прослушивания для заданного дня и города. Ей понадобятся два параметра:\n",
    "* день недели,\n",
    "* название города.\n",
    "\n",
    "В функции сохраните в переменную строки исходной таблицы, у которых значение:\n",
    "  * в колонке `day` равно параметру `day`,\n",
    "  * в колонке `city` равно параметру `city`.\n",
    "\n",
    "Для этого примените последовательную фильтрацию с логической индексацией (или сложные логические выражения в одну строку, если вы уже знакомы с ними).\n",
    "\n",
    "Затем посчитайте значения в столбце `user_id` получившейся таблицы. Результат сохраните в новую переменную. Верните эту переменную из функции."
   ]
  },
  {
   "cell_type": "code",
   "execution_count": 20,
   "metadata": {
    "deletable": false,
    "id": "Nz3GdQB1_Zcu"
   },
   "outputs": [],
   "source": [
    "def number_tracks(day, city): # <создание функции number_tracks()>\n",
    "# Объявляется функция с двумя параметрами: day, city.\n",
    "    track_list = df[df['day']== day]# В переменной track_list сохраняются те строки таблицы df, для которых\n",
    "    track_list = track_list[track_list['city']== city]#значение в столбце 'day' равно параметру day и одновременно значение\n",
    "# в столбце 'city' равно параметру city (используйте последовательную фильтрацию#\n",
    "#с помощью логической индексации или сложные логические выражения в одну строку, если вы уже знакомы с ними).\n",
    "#для дальнейшего использования отсортированного датафрейма придётся сохранить результат sort_values() в переменную, например, ту же самую:\n",
    "    track_list_count = (track_list['user_id']).count()# В переменной track_list_count сохраняется число значений столбца 'user_id',\n",
    "# рассчитанное методом count() для таблицы track_list.\n",
    "    return track_list_count # Функция возвращает число - значение track_list_count.\n",
    "\n",
    "\n",
    "\n",
    "\n",
    "\n",
    "\n",
    "# Функция для подсчёта прослушиваний для конкретного города и дня.\n",
    "# С помощью последовательной фильтрации с логической индексацией она \n",
    "# сначала получит из исходной таблицы строки с нужным днём,\n",
    "# затем из результата отфильтрует строки с нужным городом,\n",
    "# методом count() посчитает количество значений в колонке user_id. \n",
    "# Это количество функция вернёт в качестве результата"
   ]
  },
  {
   "cell_type": "markdown",
   "metadata": {
    "deletable": false,
    "editable": false,
    "id": "ytf7xFrFJQ2r",
    "tags": [
     "start_task"
    ]
   },
   "source": [
    "**Задание 21**\n",
    "\n",
    "Вызовите `number_tracks()` шесть раз, меняя значение параметров — так, чтобы получить данные для каждого города в каждый из трёх дней."
   ]
  },
  {
   "cell_type": "code",
   "execution_count": 21,
   "metadata": {
    "deletable": false,
    "id": "rJcRATNQ_Zcu"
   },
   "outputs": [
    {
     "data": {
      "text/plain": [
       "15740"
      ]
     },
     "execution_count": 21,
     "metadata": {},
     "output_type": "execute_result"
    }
   ],
   "source": [
    "number_tracks('Monday', 'Moscow')# количество прослушиваний в Москве по понедельникам"
   ]
  },
  {
   "cell_type": "code",
   "execution_count": 22,
   "metadata": {
    "deletable": false,
    "id": "hq_ncZ5T_Zcu"
   },
   "outputs": [
    {
     "data": {
      "text/plain": [
       "5614"
      ]
     },
     "execution_count": 22,
     "metadata": {},
     "output_type": "execute_result"
    }
   ],
   "source": [
    "number_tracks('Monday', 'Saint-Petersburg')# количество прослушиваний в Санкт-Петербурге по понедельникам"
   ]
  },
  {
   "cell_type": "code",
   "execution_count": 23,
   "metadata": {
    "deletable": false,
    "id": "_NTy2VPU_Zcu"
   },
   "outputs": [
    {
     "data": {
      "text/plain": [
       "11056"
      ]
     },
     "execution_count": 23,
     "metadata": {},
     "output_type": "execute_result"
    }
   ],
   "source": [
    "number_tracks('Wednesday', 'Moscow')# количество прослушиваний в Москве по средам"
   ]
  },
  {
   "cell_type": "code",
   "execution_count": 24,
   "metadata": {
    "deletable": false,
    "id": "j2y3TAwo_Zcu"
   },
   "outputs": [
    {
     "data": {
      "text/plain": [
       "7003"
      ]
     },
     "execution_count": 24,
     "metadata": {},
     "output_type": "execute_result"
    }
   ],
   "source": [
    "number_tracks('Wednesday', 'Saint-Petersburg')# количество прослушиваний в Санкт-Петербурге по средам"
   ]
  },
  {
   "cell_type": "code",
   "execution_count": 25,
   "metadata": {
    "deletable": false,
    "id": "vYDw5u_K_Zcu"
   },
   "outputs": [
    {
     "data": {
      "text/plain": [
       "15945"
      ]
     },
     "execution_count": 25,
     "metadata": {},
     "output_type": "execute_result"
    }
   ],
   "source": [
    "number_tracks('Friday', 'Moscow')# количество прослушиваний в Москве по пятницам"
   ]
  },
  {
   "cell_type": "code",
   "execution_count": 26,
   "metadata": {
    "deletable": false,
    "id": "8_yzFtW3_Zcu"
   },
   "outputs": [
    {
     "data": {
      "text/plain": [
       "5895"
      ]
     },
     "execution_count": 26,
     "metadata": {},
     "output_type": "execute_result"
    }
   ],
   "source": [
    "number_tracks('Friday', 'Saint-Petersburg')# количество прослушиваний в Санкт-Петербурге по пятницам"
   ]
  },
  {
   "cell_type": "markdown",
   "metadata": {
    "deletable": false,
    "editable": false,
    "id": "7QXffbO-_Zcu",
    "tags": [
     "start_task"
    ]
   },
   "source": [
    "**Задание 22**\n",
    "\n",
    "Создайте c помощью конструктора `pd.DataFrame` таблицу, где\n",
    "* названия колонок — `['city', 'monday', 'wednesday', 'friday']`;\n",
    "* данные — результаты, которые вы получили с помощью `number_tracks`."
   ]
  },
  {
   "cell_type": "code",
   "execution_count": 27,
   "metadata": {
    "deletable": false,
    "id": "APAcLpOr_Zcu"
   },
   "outputs": [
    {
     "name": "stdout",
     "output_type": "stream",
     "text": [
      "               city  monday  wednesday  friday\n",
      "0            Moscow   15740      11056   15945\n",
      "1  Saint-Petersburg    5614       7003    5895\n"
     ]
    }
   ],
   "source": [
    "data = [['Moscow', 15740, 11056, 15945],\n",
    "    ['Saint-Petersburg', 5614, 7003, 5895]]\n",
    "\n",
    "columns = ['city', 'monday', 'wednesday', 'friday']\n",
    "\n",
    "number_tracks = pd.DataFrame(\n",
    "    data=data, columns=columns\n",
    ")\n",
    "print(number_tracks)\n",
    "\n",
    "# Таблица с результатами"
   ]
  },
  {
   "cell_type": "markdown",
   "metadata": {
    "deletable": false,
    "editable": false,
    "id": "-EgPIHYu_Zcu"
   },
   "source": [
    "**Выводы**\n",
    "\n",
    "Данные показывают разницу поведения пользователей:\n",
    "\n",
    "- В Москве пик прослушиваний приходится на понедельник и пятницу, а в среду заметен спад.\n",
    "- В Петербурге, наоборот, больше слушают музыку по средам. Активность в понедельник и пятницу здесь почти в равной мере уступает среде.\n",
    "\n",
    "Значит, данные говорят в пользу первой гипотезы."
   ]
  },
  {
   "cell_type": "markdown",
   "metadata": {
    "deletable": false,
    "editable": false,
    "id": "atZAxtq4_Zcu"
   },
   "source": [
    "### Музыка в начале и в конце недели"
   ]
  },
  {
   "cell_type": "markdown",
   "metadata": {
    "deletable": false,
    "editable": false,
    "id": "eXrQqXFH_Zcu"
   },
   "source": [
    "Согласно второй гипотезе, утром в понедельник в Москве преобладают одни жанры, а в Петербурге — другие. Так же и вечером пятницы преобладают разные жанры — в зависимости от города."
   ]
  },
  {
   "cell_type": "markdown",
   "metadata": {
    "deletable": false,
    "editable": false,
    "id": "S8UcW6Hw_Zcu",
    "tags": [
     "start_task"
    ]
   },
   "source": [
    "**Задание 23**\n",
    "\n",
    "Сохраните таблицы с данными в две переменные:\n",
    "* по Москве — в `moscow_general`;\n",
    "* по Санкт-Петербургу — в `spb_general`."
   ]
  },
  {
   "cell_type": "code",
   "execution_count": 28,
   "metadata": {
    "deletable": false,
    "id": "qeaFfM_P_Zcu"
   },
   "outputs": [
    {
     "name": "stdout",
     "output_type": "stream",
     "text": [
      "        user_id                          track                   artist  \\\n",
      "1      55204538    Delayed Because of Accident         Andreas Rönnberg   \n",
      "4      E2DC1FAE                    Soul People               Space Echo   \n",
      "6      4CB90AA5                           True             Roman Messer   \n",
      "7      F03E1C1F               Feeling This Way          Polina Griffith   \n",
      "8      8FA1D3BE       И вновь продолжается бой                  unknown   \n",
      "...         ...                            ...                      ...   \n",
      "65073  83A474E7  I Worship Only What You Bleed  The Black Dahlia Murder   \n",
      "65074  729CBB09                        My Name                   McLean   \n",
      "65076  C5E3A0D5                      Jalopiina                  unknown   \n",
      "65077  321D0506                  Freight Train            Chas McDevitt   \n",
      "65078  3A64EF84      Tell Me Sweet Little Lies             Monica Lopez   \n",
      "\n",
      "              genre    city      time        day  \n",
      "1              rock  Moscow  14:07:09     Friday  \n",
      "4             dance  Moscow  08:34:34     Monday  \n",
      "6             dance  Moscow  13:00:07  Wednesday  \n",
      "7             dance  Moscow  20:47:49  Wednesday  \n",
      "8            ruspop  Moscow  09:17:40     Friday  \n",
      "...             ...     ...       ...        ...  \n",
      "65073  extrememetal  Moscow  21:07:12     Monday  \n",
      "65074           rnb  Moscow  13:32:28  Wednesday  \n",
      "65076    industrial  Moscow  20:09:26     Friday  \n",
      "65077          rock  Moscow  21:43:59     Friday  \n",
      "65078       country  Moscow  21:59:46     Friday  \n",
      "\n",
      "[42741 rows x 7 columns]\n"
     ]
    }
   ],
   "source": [
    "moscow_general = df[df['city'] == 'Moscow']\n",
    "# получение таблицы moscow_general из тех строк таблицы df, \n",
    "# для которых значение в столбце 'city' равно 'Moscow'\n",
    "print(moscow_general)\n"
   ]
  },
  {
   "cell_type": "code",
   "execution_count": 29,
   "metadata": {
    "deletable": false,
    "id": "ORaVRKto_Zcu"
   },
   "outputs": [
    {
     "name": "stdout",
     "output_type": "stream",
     "text": [
      "        user_id                              track              artist  \\\n",
      "0      FFB692EC                  Kamigata To Boots    The Mass Missile   \n",
      "2        20EC38                  Funiculì funiculà         Mario Lanza   \n",
      "3      A3DD03C9              Dragons in the Sunset          Fire + Ice   \n",
      "5      842029A1                          Преданная           IMPERVTOR   \n",
      "9      E772D5C0                          Pessimist             unknown   \n",
      "...         ...                                ...                 ...   \n",
      "65063  D94F810B        Theme from the Walking Dead  Proyecto Halloween   \n",
      "65064  BC8EC5CF       Red Lips: Gta (Rover Rework)               Rover   \n",
      "65065  29E04611                       Bre Petrunko       Perunika Trio   \n",
      "65066  1B91C621             (Hello) Cloud Mountain     sleepmakeswaves   \n",
      "65075  D08D4A55  Maybe One Day (feat. Black Spade)         Blu & Exile   \n",
      "\n",
      "            genre              city      time        day  \n",
      "0            rock  Saint-Petersburg  20:28:33  Wednesday  \n",
      "2             pop  Saint-Petersburg  20:58:07  Wednesday  \n",
      "3            folk  Saint-Petersburg  08:37:09     Monday  \n",
      "5          rusrap  Saint-Petersburg  13:09:41     Friday  \n",
      "9           dance  Saint-Petersburg  21:20:49  Wednesday  \n",
      "...           ...               ...       ...        ...  \n",
      "65063        film  Saint-Petersburg  21:14:40     Monday  \n",
      "65064  electronic  Saint-Petersburg  21:06:50     Monday  \n",
      "65065       world  Saint-Petersburg  13:56:00     Monday  \n",
      "65066    postrock  Saint-Petersburg  09:22:13     Monday  \n",
      "65075      hiphop  Saint-Petersburg  10:00:00     Monday  \n",
      "\n",
      "[18512 rows x 7 columns]\n"
     ]
    }
   ],
   "source": [
    "spb_general=df[df['city']=='Saint-Petersburg']\n",
    "# получение таблицы spb_general из тех строк таблицы df,\n",
    "# для которых значение в столбце 'city' равно 'Saint-Petersburg'\n",
    "print(spb_general)"
   ]
  },
  {
   "cell_type": "markdown",
   "metadata": {
    "deletable": false,
    "editable": false,
    "id": "MEJV-CX2_Zcu",
    "tags": [
     "start_task"
    ]
   },
   "source": [
    "**Задание 24**\n",
    "\n",
    "Создайте функцию `genre_weekday()` с четырьмя параметрами:\n",
    "* таблица (датафрейм) с данными,\n",
    "* день недели,\n",
    "* начальная временная метка в формате 'hh:mm', \n",
    "* последняя временная метка в формате 'hh:mm'.\n",
    "\n",
    "Функция должна вернуть информацию о топ-10 жанров тех треков, которые прослушивали в указанный день, в промежутке между двумя отметками времени."
   ]
  },
  {
   "cell_type": "code",
   "execution_count": 30,
   "metadata": {
    "deletable": false,
    "id": "laJT9BYl_Zcu",
    "scrolled": true
   },
   "outputs": [
    {
     "data": {
      "text/html": [
       "<div>\n",
       "<style scoped>\n",
       "    .dataframe tbody tr th:only-of-type {\n",
       "        vertical-align: middle;\n",
       "    }\n",
       "\n",
       "    .dataframe tbody tr th {\n",
       "        vertical-align: top;\n",
       "    }\n",
       "\n",
       "    .dataframe thead th {\n",
       "        text-align: right;\n",
       "    }\n",
       "</style>\n",
       "<table border=\"1\" class=\"dataframe\">\n",
       "  <thead>\n",
       "    <tr style=\"text-align: right;\">\n",
       "      <th></th>\n",
       "      <th>user_id</th>\n",
       "      <th>track</th>\n",
       "      <th>artist</th>\n",
       "      <th>genre</th>\n",
       "      <th>city</th>\n",
       "      <th>time</th>\n",
       "      <th>day</th>\n",
       "    </tr>\n",
       "  </thead>\n",
       "  <tbody>\n",
       "    <tr>\n",
       "      <th>0</th>\n",
       "      <td>FFB692EC</td>\n",
       "      <td>Kamigata To Boots</td>\n",
       "      <td>The Mass Missile</td>\n",
       "      <td>rock</td>\n",
       "      <td>Saint-Petersburg</td>\n",
       "      <td>20:28:33</td>\n",
       "      <td>Wednesday</td>\n",
       "    </tr>\n",
       "    <tr>\n",
       "      <th>1</th>\n",
       "      <td>55204538</td>\n",
       "      <td>Delayed Because of Accident</td>\n",
       "      <td>Andreas Rönnberg</td>\n",
       "      <td>rock</td>\n",
       "      <td>Moscow</td>\n",
       "      <td>14:07:09</td>\n",
       "      <td>Friday</td>\n",
       "    </tr>\n",
       "    <tr>\n",
       "      <th>2</th>\n",
       "      <td>20EC38</td>\n",
       "      <td>Funiculì funiculà</td>\n",
       "      <td>Mario Lanza</td>\n",
       "      <td>pop</td>\n",
       "      <td>Saint-Petersburg</td>\n",
       "      <td>20:58:07</td>\n",
       "      <td>Wednesday</td>\n",
       "    </tr>\n",
       "    <tr>\n",
       "      <th>3</th>\n",
       "      <td>A3DD03C9</td>\n",
       "      <td>Dragons in the Sunset</td>\n",
       "      <td>Fire + Ice</td>\n",
       "      <td>folk</td>\n",
       "      <td>Saint-Petersburg</td>\n",
       "      <td>08:37:09</td>\n",
       "      <td>Monday</td>\n",
       "    </tr>\n",
       "    <tr>\n",
       "      <th>4</th>\n",
       "      <td>E2DC1FAE</td>\n",
       "      <td>Soul People</td>\n",
       "      <td>Space Echo</td>\n",
       "      <td>dance</td>\n",
       "      <td>Moscow</td>\n",
       "      <td>08:34:34</td>\n",
       "      <td>Monday</td>\n",
       "    </tr>\n",
       "  </tbody>\n",
       "</table>\n",
       "</div>"
      ],
      "text/plain": [
       "    user_id                        track            artist  genre  \\\n",
       "0  FFB692EC            Kamigata To Boots  The Mass Missile   rock   \n",
       "1  55204538  Delayed Because of Accident  Andreas Rönnberg   rock   \n",
       "2    20EC38            Funiculì funiculà       Mario Lanza    pop   \n",
       "3  A3DD03C9        Dragons in the Sunset        Fire + Ice   folk   \n",
       "4  E2DC1FAE                  Soul People        Space Echo  dance   \n",
       "\n",
       "               city      time        day  \n",
       "0  Saint-Petersburg  20:28:33  Wednesday  \n",
       "1            Moscow  14:07:09     Friday  \n",
       "2  Saint-Petersburg  20:58:07  Wednesday  \n",
       "3  Saint-Petersburg  08:37:09     Monday  \n",
       "4            Moscow  08:34:34     Monday  "
      ]
     },
     "execution_count": 30,
     "metadata": {},
     "output_type": "execute_result"
    }
   ],
   "source": [
    "# Объявление функции genre_weekday() с параметрами table, day, time1, time2,\n",
    "# которая возвращает информацию о самых популярных жанрах в указанный день в\n",
    "# заданное время:\n",
    "# 1) в переменную genre_df сохраняются те строки переданного датафрейма table, для\n",
    "#    которых одновременно:\n",
    "#    - значение в столбце day равно значению аргумента day\n",
    "#    - значение в столбце time больше значения аргумента time1\n",
    "#    - значение в столбце time меньше значения аргумента time2\n",
    "#    Используйте последовательную фильтрацию с помощью логической индексации.\n",
    "# 2) сгруппировать датафрейм genre_df по столбцу genre, взять один из его\n",
    "#    столбцов и посчитать методом count() количество записей для каждого из\n",
    "#    присутствующих жанров, получившийся Series записать в переменную\n",
    "#    genre_df_count\n",
    "# 3) отсортировать genre_df_count по убыванию встречаемости и сохранить\n",
    "#    в переменную genre_df_sorted\n",
    "# 4) вернуть Series из 10 первых значений genre_df_sorted, это будут топ-10\n",
    "#    популярных жанров (в указанный день, в заданное время)\n",
    "\n",
    "def genre_weekday (df, day, time1, time2):\n",
    "    # последовательная фильтрация\n",
    "    # оставляем в genre_df только те строки df, у которых день равен day\n",
    "    genre_df = df[df['day'] == day]# ваш код здесь\n",
    "    # оставляем в genre_df только те строки genre_df, у которых время меньше time2\n",
    "    genre_df = genre_df[genre_df['time'] > time1] # ваш код здесь\n",
    "    # оставляем в genre_df только те строки genre_df, у которых время больше time1\n",
    "    genre_df = genre_df[genre_df['time'] < time2] # ваш код здесь\n",
    "    # сгруппируем отфильтрованный датафрейм по столбцу с названиями жанров, возьмём столбец genre и посчитаем кол-во строк для каждого жанра методом count()\n",
    "    genre_df_grouped = genre_df.groupby('genre')['genre'].count()# ваш код здесь\n",
    "    # отсортируем результат по убыванию (чтобы в начале Series оказались самые популярные жанры)\n",
    "    genre_df_sorted = genre_df_grouped.sort_values(ascending = False) # ваш код здесь\n",
    "    # вернём Series с 10 самыми популярными жанрами в указанный отрезок времени заданного дня\n",
    "    return genre_df_sorted[:10]\n",
    "(df.head(5))"
   ]
  },
  {
   "cell_type": "markdown",
   "metadata": {
    "deletable": false,
    "editable": false,
    "id": "la2s2_PF_Zcu",
    "tags": [
     "start_task"
    ]
   },
   "source": [
    "**Задание 25**\n",
    "\n",
    "\n",
    "Cравните результаты функции `genre_weekday()` для Москвы и Санкт-Петербурга в понедельник утром (с 7:00 до 11:00) и в пятницу вечером (с 17:00 до 23:00):"
   ]
  },
  {
   "cell_type": "code",
   "execution_count": 31,
   "metadata": {
    "deletable": false,
    "id": "yz7itPUQ_Zcu"
   },
   "outputs": [
    {
     "data": {
      "text/plain": [
       "genre\n",
       "pop            781\n",
       "dance          549\n",
       "electronic     480\n",
       "rock           474\n",
       "hiphop         286\n",
       "ruspop         186\n",
       "world          181\n",
       "rusrap         175\n",
       "alternative    164\n",
       "unknown        161\n",
       "Name: genre, dtype: int64"
      ]
     },
     "execution_count": 31,
     "metadata": {},
     "output_type": "execute_result"
    }
   ],
   "source": [
    "# вызов функции для утра понедельника в Москве (вместо df — таблица moscow_general)\n",
    "genre_weekday(moscow_general,'Monday','07:00','11:00')# объекты, хранящие время, являются строками и сравниваются как строки\n",
    "# пример вызова: genre_weekday(moscow_general, 'Monday', '07:00', '11:00')"
   ]
  },
  {
   "cell_type": "code",
   "execution_count": 32,
   "metadata": {
    "deletable": false,
    "id": "kwUcHPdy_Zcu"
   },
   "outputs": [
    {
     "data": {
      "text/plain": [
       "genre\n",
       "pop            218\n",
       "dance          182\n",
       "rock           162\n",
       "electronic     147\n",
       "hiphop          80\n",
       "ruspop          64\n",
       "alternative     58\n",
       "rusrap          55\n",
       "jazz            44\n",
       "classical       40\n",
       "Name: genre, dtype: int64"
      ]
     },
     "execution_count": 32,
     "metadata": {},
     "output_type": "execute_result"
    }
   ],
   "source": [
    "genre_weekday(spb_general, 'Monday', '07:00', '11:00')# вызов функции для утра понедельника в Петербурге (вместо df — таблица spb_general)"
   ]
  },
  {
   "cell_type": "code",
   "execution_count": 33,
   "metadata": {
    "deletable": false,
    "id": "EzXVRE1o_Zcu"
   },
   "outputs": [
    {
     "data": {
      "text/plain": [
       "genre\n",
       "pop            713\n",
       "rock           517\n",
       "dance          495\n",
       "electronic     482\n",
       "hiphop         273\n",
       "world          208\n",
       "ruspop         170\n",
       "alternative    163\n",
       "classical      163\n",
       "rusrap         142\n",
       "Name: genre, dtype: int64"
      ]
     },
     "execution_count": 33,
     "metadata": {},
     "output_type": "execute_result"
    }
   ],
   "source": [
    "genre_weekday(moscow_general,'Friday','17:00','23:00')# вызов функции для вечера пятницы в Москве"
   ]
  },
  {
   "cell_type": "code",
   "execution_count": 34,
   "metadata": {
    "deletable": false,
    "id": "JZaEKu5v_Zcu"
   },
   "outputs": [
    {
     "data": {
      "text/plain": [
       "genre\n",
       "pop            256\n",
       "electronic     216\n",
       "rock           216\n",
       "dance          210\n",
       "hiphop          97\n",
       "alternative     63\n",
       "jazz            61\n",
       "classical       60\n",
       "rusrap          59\n",
       "world           54\n",
       "Name: genre, dtype: int64"
      ]
     },
     "execution_count": 34,
     "metadata": {},
     "output_type": "execute_result"
    }
   ],
   "source": [
    "genre_weekday(spb_general,'Friday','17:00','23:00')# вызов функции для вечера пятницы в Петербурге"
   ]
  },
  {
   "cell_type": "markdown",
   "metadata": {
    "deletable": false,
    "editable": false,
    "id": "wrCe4MNX_Zcu"
   },
   "source": [
    "**Выводы**\n",
    "\n",
    "Если сравнить топ-10 жанров в понедельник утром, можно сделать такие выводы:\n",
    "\n",
    "1. В Москве и Петербурге слушают похожую музыку. Единственное отличие — в московский рейтинг вошёл жанр “world”, а в петербургский — джаз и классика.\n",
    "\n",
    "2. В Москве пропущенных значений оказалось так много, что значение `'unknown'` заняло десятое место среди самых популярных жанров. Значит, пропущенные значения занимают существенную долю в данных и угрожают достоверности исследования.\n",
    "\n",
    "Вечер пятницы не меняет эту картину. Некоторые жанры поднимаются немного выше, другие спускаются, но в целом топ-10 остаётся тем же самым.\n",
    "\n",
    "Таким образом, вторая гипотеза подтвердилась лишь частично:\n",
    "* Пользователи слушают похожую музыку в начале недели и в конце.\n",
    "* Разница между Москвой и Петербургом не слишком выражена. В Москве чаще слушают русскую популярную музыку, в Петербурге — джаз.\n",
    "\n",
    "Однако пропуски в данных ставят под сомнение этот результат. В Москве их так много, что рейтинг топ-10 мог бы выглядеть иначе, если бы не утерянные  данные о жанрах."
   ]
  },
  {
   "cell_type": "markdown",
   "metadata": {
    "deletable": false,
    "editable": false,
    "id": "JolODAqr_Zcu"
   },
   "source": [
    "### Жанровые предпочтения в Москве и Петербурге\n",
    "\n",
    "Гипотеза: Петербург — столица рэпа, музыку этого жанра там слушают чаще, чем в Москве.  А Москва — город контрастов, в котором, тем не менее, преобладает поп-музыка."
   ]
  },
  {
   "cell_type": "markdown",
   "metadata": {
    "deletable": false,
    "editable": false,
    "id": "DlegSvaT_Zcu",
    "tags": [
     "start_task"
    ]
   },
   "source": [
    "**Задание 26**\n",
    "\n",
    "Сгруппируйте таблицу `moscow_general` по жанру и посчитайте прослушивания треков каждого жанра методом `count()`. Затем отсортируйте результат в порядке убывания и сохраните его в таблице `moscow_genres`."
   ]
  },
  {
   "cell_type": "code",
   "execution_count": 35,
   "metadata": {
    "deletable": false,
    "id": "r19lIPke_Zcu"
   },
   "outputs": [],
   "source": [
    "moscow_genres = moscow_general.groupby('genre')['genre'].count().sort_values(ascending = False)\n",
    "\n",
    "# одной строкой: группировка таблицы moscow_general по столбцу 'genre', \n",
    "# подсчёт числа значений 'genre' в этой группировке методом count(), \n",
    "# сортировка получившегося Series в порядке убывания и сохранение в moscow_genres\n",
    "\n"
   ]
  },
  {
   "cell_type": "markdown",
   "metadata": {
    "deletable": false,
    "editable": false,
    "id": "6kMuomxTiIr8",
    "tags": [
     "start_task"
    ]
   },
   "source": [
    "**Задание 27**\n",
    "\n",
    "Выведите на экран первые десять строк `moscow_genres`:"
   ]
  },
  {
   "cell_type": "code",
   "execution_count": 36,
   "metadata": {
    "deletable": false,
    "id": "WhCSooF8_Zcv"
   },
   "outputs": [
    {
     "data": {
      "text/plain": [
       "genre\n",
       "pop            5892\n",
       "dance          4435\n",
       "rock           3965\n",
       "electronic     3786\n",
       "hiphop         2096\n",
       "classical      1616\n",
       "world          1432\n",
       "alternative    1379\n",
       "ruspop         1372\n",
       "rusrap         1161\n",
       "Name: genre, dtype: int64"
      ]
     },
     "execution_count": 36,
     "metadata": {},
     "output_type": "execute_result"
    }
   ],
   "source": [
    "moscow_genres.head(10) # просмотр первых 10 строк moscow_genres"
   ]
  },
  {
   "cell_type": "markdown",
   "metadata": {
    "deletable": false,
    "editable": false,
    "id": "cnPG2vnN_Zcv",
    "tags": [
     "start_task"
    ]
   },
   "source": [
    "**Задание 28**\n",
    "\n",
    "\n",
    "Теперь повторите то же и для Петербурга.\n",
    "\n",
    "Сгруппируйте таблицу `spb_general` по жанру. Посчитайте прослушивания треков каждого жанра. Результат отсортируйте в порядке убывания и сохраните в таблице `spb_genres`:\n"
   ]
  },
  {
   "cell_type": "code",
   "execution_count": 37,
   "metadata": {
    "deletable": false,
    "id": "gluLIpE7_Zcv"
   },
   "outputs": [],
   "source": [
    "spb_genres = spb_general.groupby('genre')['genre'].count().sort_values(ascending=False)\n",
    "\n",
    "# одной строкой: группировка таблицы spb_general по столбцу 'genre', \n",
    "# подсчёт числа значений 'genre' в этой группировке методом count(),\n",
    "# сортировка получившегося Series в порядке убывания и сохранение в spb_genres"
   ]
  },
  {
   "cell_type": "markdown",
   "metadata": {
    "deletable": false,
    "editable": false,
    "id": "5Doha_ODgyQ8",
    "tags": [
     "start_task"
    ]
   },
   "source": [
    "**Задание 29**\n",
    "\n",
    "Выведите на экран первые десять строк `spb_genres`:"
   ]
  },
  {
   "cell_type": "code",
   "execution_count": 38,
   "metadata": {
    "deletable": false,
    "id": "uaGJHjVU_Zcv"
   },
   "outputs": [
    {
     "data": {
      "text/plain": [
       "genre\n",
       "pop            2431\n",
       "dance          1932\n",
       "rock           1879\n",
       "electronic     1736\n",
       "hiphop          960\n",
       "alternative     649\n",
       "classical       646\n",
       "rusrap          564\n",
       "ruspop          538\n",
       "world           515\n",
       "Name: genre, dtype: int64"
      ]
     },
     "execution_count": 38,
     "metadata": {},
     "output_type": "execute_result"
    }
   ],
   "source": [
    "spb_genres.head(10) \n",
    "# просмотр первых 10 строк spb_genres"
   ]
  },
  {
   "cell_type": "markdown",
   "metadata": {
    "deletable": false,
    "editable": false,
    "id": "RY51YJYu_Zcv"
   },
   "source": [
    "**Выводы**"
   ]
  },
  {
   "cell_type": "markdown",
   "metadata": {
    "deletable": false,
    "editable": false,
    "id": "nVhnJEm__Zcv"
   },
   "source": [
    "Гипотеза частично подтвердилась:\n",
    "* Поп-музыка — самый популярный жанр в Москве, как и предполагала гипотеза. Более того, в топ-10 жанров встречается близкий жанр — русская популярная музыка.\n",
    "* Вопреки ожиданиям, рэп одинаково популярен в Москве и Петербурге. \n"
   ]
  },
  {
   "cell_type": "markdown",
   "metadata": {
    "deletable": false,
    "editable": false,
    "id": "ykKQ0N65_Zcv"
   },
   "source": [
    "## Итоги исследования"
   ]
  },
  {
   "cell_type": "markdown",
   "metadata": {
    "deletable": false,
    "editable": false,
    "id": "tjUwbHb3_Zcv"
   },
   "source": [
    "Вы проверили три гипотезы и установили:\n",
    "\n",
    "1. День недели по-разному влияет на активность пользователей в Москве и Петербурге. \n",
    "\n",
    "Первая гипотеза полностью подтвердилась.\n",
    "\n",
    "2. Музыкальные предпочтения не сильно меняются в течение недели — будь то Москва или Петербург. Небольшие различия заметны в начале недели, по понедельникам:\n",
    "* в Москве слушают музыку жанра “world”,\n",
    "* в Петербурге — джаз и классику.\n",
    "\n",
    "Таким образом, вторая гипотеза подтвердилась лишь отчасти. Этот результат мог оказаться иным, если бы не пропуски в данных.\n",
    "\n",
    "3. Во вкусах пользователей Москвы и Петербурга больше общего чем различий. Вопреки ожиданиям, предпочтения жанров в Петербурге напоминают московские.\n",
    "\n",
    "Третья гипотеза не подтвердилась. Если различия в предпочтениях и существуют, на основной массе пользователей они незаметны.\n",
    "\n",
    "**На практике исследования содержат проверки статистических гипотез.**\n",
    "Из данных одного сервиса не всегда можно сделать вывод о всех жителях города.\n",
    "Проверки статистических гипотез покажут, насколько они достоверны, исходя из имеющихся данных. \n",
    "С методами проверок гипотез вы ещё познакомитесь в следующих темах."
   ]
  },
  {
   "cell_type": "code",
   "execution_count": null,
   "metadata": {},
   "outputs": [],
   "source": []
  },
  {
   "cell_type": "code",
   "execution_count": null,
   "metadata": {},
   "outputs": [],
   "source": []
  }
 ],
 "metadata": {
  "ExecuteTimeLog": [
   {
    "duration": 46,
    "start_time": "2023-01-19T11:25:30.315Z"
   },
   {
    "duration": 391,
    "start_time": "2023-01-19T11:25:41.856Z"
   },
   {
    "duration": 2,
    "start_time": "2023-01-19T11:25:46.276Z"
   },
   {
    "duration": 3,
    "start_time": "2023-01-19T11:26:00.174Z"
   },
   {
    "duration": 2,
    "start_time": "2023-01-19T11:26:11.198Z"
   },
   {
    "duration": 37,
    "start_time": "2023-01-19T11:26:40.139Z"
   },
   {
    "duration": 7,
    "start_time": "2023-01-19T11:27:18.825Z"
   },
   {
    "duration": 59,
    "start_time": "2023-01-19T11:31:17.795Z"
   },
   {
    "duration": 234,
    "start_time": "2023-01-19T11:33:20.892Z"
   },
   {
    "duration": 6,
    "start_time": "2023-01-19T11:33:53.783Z"
   },
   {
    "duration": 29,
    "start_time": "2023-01-19T11:34:16.711Z"
   },
   {
    "duration": 2,
    "start_time": "2023-01-19T12:05:18.670Z"
   },
   {
    "duration": 3,
    "start_time": "2023-01-19T12:11:25.422Z"
   },
   {
    "duration": 11,
    "start_time": "2023-01-19T12:14:26.446Z"
   },
   {
    "duration": 14,
    "start_time": "2023-01-19T12:14:29.531Z"
   },
   {
    "duration": 4,
    "start_time": "2023-01-19T12:14:49.984Z"
   },
   {
    "duration": 24,
    "start_time": "2023-01-19T13:27:15.256Z"
   },
   {
    "duration": 23,
    "start_time": "2023-01-19T13:44:14.271Z"
   },
   {
    "duration": 16,
    "start_time": "2023-01-19T13:44:19.348Z"
   },
   {
    "duration": 23,
    "start_time": "2023-01-19T13:44:46.673Z"
   },
   {
    "duration": 65,
    "start_time": "2023-01-19T13:48:11.828Z"
   },
   {
    "duration": 67,
    "start_time": "2023-01-19T13:50:04.333Z"
   },
   {
    "duration": 67,
    "start_time": "2023-01-19T13:52:03.627Z"
   },
   {
    "duration": 63,
    "start_time": "2023-01-19T13:52:21.392Z"
   },
   {
    "duration": 60,
    "start_time": "2023-01-19T13:59:08.467Z"
   },
   {
    "duration": 84,
    "start_time": "2023-01-19T14:06:27.836Z"
   },
   {
    "duration": 58,
    "start_time": "2023-01-19T14:06:42.548Z"
   },
   {
    "duration": 65,
    "start_time": "2023-01-19T14:10:35.416Z"
   },
   {
    "duration": 66,
    "start_time": "2023-01-19T14:15:52.374Z"
   },
   {
    "duration": 54,
    "start_time": "2023-01-19T15:28:11.810Z"
   },
   {
    "duration": 8,
    "start_time": "2023-01-19T15:33:44.531Z"
   },
   {
    "duration": 5,
    "start_time": "2023-01-19T15:49:40.337Z"
   },
   {
    "duration": 2,
    "start_time": "2023-01-19T15:49:44.581Z"
   },
   {
    "duration": 7,
    "start_time": "2023-01-19T16:14:24.767Z"
   },
   {
    "duration": 45,
    "start_time": "2023-01-19T16:25:23.791Z"
   },
   {
    "duration": 51,
    "start_time": "2023-01-19T16:25:36.057Z"
   },
   {
    "duration": 52,
    "start_time": "2023-01-19T16:27:20.685Z"
   },
   {
    "duration": 3,
    "start_time": "2023-01-19T17:20:55.327Z"
   },
   {
    "duration": 7,
    "start_time": "2023-01-19T17:21:19.179Z"
   },
   {
    "duration": 6,
    "start_time": "2023-01-19T17:22:32.625Z"
   },
   {
    "duration": 872,
    "start_time": "2023-01-19T17:27:28.239Z"
   },
   {
    "duration": 129,
    "start_time": "2023-01-19T17:31:52.833Z"
   },
   {
    "duration": 81,
    "start_time": "2023-01-19T17:32:03.169Z"
   },
   {
    "duration": 6,
    "start_time": "2023-01-19T18:26:20.778Z"
   },
   {
    "duration": 41,
    "start_time": "2023-01-19T18:27:11.703Z"
   },
   {
    "duration": 7,
    "start_time": "2023-01-19T18:27:48.158Z"
   },
   {
    "duration": 33,
    "start_time": "2023-01-19T18:49:09.779Z"
   },
   {
    "duration": 9,
    "start_time": "2023-01-19T18:52:48.626Z"
   },
   {
    "duration": 9,
    "start_time": "2023-01-19T18:53:28.201Z"
   },
   {
    "duration": 2,
    "start_time": "2023-01-19T18:53:31.680Z"
   },
   {
    "duration": 7,
    "start_time": "2023-01-19T18:57:23.743Z"
   },
   {
    "duration": 10,
    "start_time": "2023-01-19T18:57:44.708Z"
   },
   {
    "duration": 10,
    "start_time": "2023-01-19T18:59:07.032Z"
   },
   {
    "duration": 3,
    "start_time": "2023-01-19T18:59:11.197Z"
   },
   {
    "duration": 14,
    "start_time": "2023-01-19T19:00:09.040Z"
   },
   {
    "duration": 12,
    "start_time": "2023-01-19T19:04:29.299Z"
   },
   {
    "duration": 8,
    "start_time": "2023-01-19T19:11:45.830Z"
   },
   {
    "duration": 713,
    "start_time": "2023-01-19T19:12:29.879Z"
   },
   {
    "duration": 761,
    "start_time": "2023-01-19T19:15:29.514Z"
   },
   {
    "duration": 9,
    "start_time": "2023-01-19T19:20:41.601Z"
   },
   {
    "duration": 11,
    "start_time": "2023-01-19T19:27:27.994Z"
   },
   {
    "duration": 3,
    "start_time": "2023-01-19T19:27:30.902Z"
   },
   {
    "duration": 45,
    "start_time": "2023-01-20T10:09:28.752Z"
   },
   {
    "duration": 807,
    "start_time": "2023-01-20T10:10:18.578Z"
   },
   {
    "duration": 180,
    "start_time": "2023-01-20T10:10:38.825Z"
   },
   {
    "duration": 182,
    "start_time": "2023-01-20T10:11:03.624Z"
   },
   {
    "duration": 174,
    "start_time": "2023-01-20T10:13:04.266Z"
   },
   {
    "duration": 196,
    "start_time": "2023-01-20T10:22:49.037Z"
   },
   {
    "duration": 170,
    "start_time": "2023-01-20T10:25:48.446Z"
   },
   {
    "duration": 10,
    "start_time": "2023-01-20T10:37:53.136Z"
   },
   {
    "duration": 1011,
    "start_time": "2023-01-20T10:43:18.269Z"
   },
   {
    "duration": 8,
    "start_time": "2023-01-20T10:49:08.449Z"
   },
   {
    "duration": 3,
    "start_time": "2023-01-20T10:49:11.129Z"
   },
   {
    "duration": 11,
    "start_time": "2023-01-20T10:49:23.003Z"
   },
   {
    "duration": 10,
    "start_time": "2023-01-20T10:49:50.051Z"
   },
   {
    "duration": 12,
    "start_time": "2023-01-20T10:50:24.996Z"
   },
   {
    "duration": 4,
    "start_time": "2023-01-20T10:50:27.539Z"
   },
   {
    "duration": 9,
    "start_time": "2023-01-20T11:08:56.879Z"
   },
   {
    "duration": 9,
    "start_time": "2023-01-20T11:12:01.787Z"
   },
   {
    "duration": 10,
    "start_time": "2023-01-20T11:12:24.620Z"
   },
   {
    "duration": 10,
    "start_time": "2023-01-20T11:15:01.228Z"
   },
   {
    "duration": 9,
    "start_time": "2023-01-20T11:15:47.517Z"
   },
   {
    "duration": 377,
    "start_time": "2023-01-20T11:23:49.534Z"
   },
   {
    "duration": 190,
    "start_time": "2023-01-20T11:23:49.913Z"
   },
   {
    "duration": 5,
    "start_time": "2023-01-20T11:23:50.105Z"
   },
   {
    "duration": 30,
    "start_time": "2023-01-20T11:23:50.113Z"
   },
   {
    "duration": 2,
    "start_time": "2023-01-20T11:23:50.145Z"
   },
   {
    "duration": 11,
    "start_time": "2023-01-20T11:23:50.166Z"
   },
   {
    "duration": 15,
    "start_time": "2023-01-20T11:23:50.186Z"
   },
   {
    "duration": 9,
    "start_time": "2023-01-20T11:23:50.202Z"
   },
   {
    "duration": 27,
    "start_time": "2023-01-20T11:23:50.213Z"
   },
   {
    "duration": 40,
    "start_time": "2023-01-20T11:23:50.243Z"
   },
   {
    "duration": 28,
    "start_time": "2023-01-20T11:23:50.285Z"
   },
   {
    "duration": 83,
    "start_time": "2023-01-20T11:23:50.314Z"
   },
   {
    "duration": 101,
    "start_time": "2023-01-20T11:23:50.399Z"
   },
   {
    "duration": 74,
    "start_time": "2023-01-20T11:23:50.502Z"
   },
   {
    "duration": 223,
    "start_time": "2023-01-20T11:23:50.578Z"
   },
   {
    "duration": 114,
    "start_time": "2023-01-20T11:23:50.803Z"
   },
   {
    "duration": 6,
    "start_time": "2023-01-20T11:23:50.919Z"
   },
   {
    "duration": 88,
    "start_time": "2023-01-20T11:23:50.927Z"
   },
   {
    "duration": 0,
    "start_time": "2023-01-20T11:23:51.017Z"
   },
   {
    "duration": 0,
    "start_time": "2023-01-20T11:23:51.019Z"
   },
   {
    "duration": 0,
    "start_time": "2023-01-20T11:23:51.021Z"
   },
   {
    "duration": 0,
    "start_time": "2023-01-20T11:23:51.022Z"
   },
   {
    "duration": 0,
    "start_time": "2023-01-20T11:23:51.024Z"
   },
   {
    "duration": 0,
    "start_time": "2023-01-20T11:23:51.026Z"
   },
   {
    "duration": 0,
    "start_time": "2023-01-20T11:23:51.027Z"
   },
   {
    "duration": 0,
    "start_time": "2023-01-20T11:23:51.028Z"
   },
   {
    "duration": 0,
    "start_time": "2023-01-20T11:23:51.030Z"
   },
   {
    "duration": 0,
    "start_time": "2023-01-20T11:23:51.031Z"
   },
   {
    "duration": 0,
    "start_time": "2023-01-20T11:23:51.033Z"
   },
   {
    "duration": 0,
    "start_time": "2023-01-20T11:23:51.034Z"
   },
   {
    "duration": 0,
    "start_time": "2023-01-20T11:23:51.067Z"
   },
   {
    "duration": 0,
    "start_time": "2023-01-20T11:23:51.068Z"
   },
   {
    "duration": 0,
    "start_time": "2023-01-20T11:23:51.071Z"
   },
   {
    "duration": 0,
    "start_time": "2023-01-20T11:23:51.071Z"
   },
   {
    "duration": 0,
    "start_time": "2023-01-20T11:23:51.072Z"
   },
   {
    "duration": 0,
    "start_time": "2023-01-20T11:23:51.072Z"
   },
   {
    "duration": 0,
    "start_time": "2023-01-20T11:23:51.073Z"
   },
   {
    "duration": 0,
    "start_time": "2023-01-20T11:23:51.074Z"
   },
   {
    "duration": 11,
    "start_time": "2023-01-20T11:24:03.679Z"
   },
   {
    "duration": 4,
    "start_time": "2023-01-20T11:24:13.577Z"
   },
   {
    "duration": 422,
    "start_time": "2023-01-20T11:24:53.648Z"
   },
   {
    "duration": 174,
    "start_time": "2023-01-20T11:24:54.072Z"
   },
   {
    "duration": 7,
    "start_time": "2023-01-20T11:24:54.248Z"
   },
   {
    "duration": 52,
    "start_time": "2023-01-20T11:24:54.257Z"
   },
   {
    "duration": 4,
    "start_time": "2023-01-20T11:24:54.310Z"
   },
   {
    "duration": 16,
    "start_time": "2023-01-20T11:24:54.315Z"
   },
   {
    "duration": 17,
    "start_time": "2023-01-20T11:24:54.332Z"
   },
   {
    "duration": 20,
    "start_time": "2023-01-20T11:24:54.350Z"
   },
   {
    "duration": 41,
    "start_time": "2023-01-20T11:24:54.372Z"
   },
   {
    "duration": 36,
    "start_time": "2023-01-20T11:24:54.418Z"
   },
   {
    "duration": 35,
    "start_time": "2023-01-20T11:24:54.456Z"
   },
   {
    "duration": 65,
    "start_time": "2023-01-20T11:24:54.493Z"
   },
   {
    "duration": 77,
    "start_time": "2023-01-20T11:24:54.559Z"
   },
   {
    "duration": 79,
    "start_time": "2023-01-20T11:24:54.637Z"
   },
   {
    "duration": 235,
    "start_time": "2023-01-20T11:24:54.718Z"
   },
   {
    "duration": 141,
    "start_time": "2023-01-20T11:24:54.956Z"
   },
   {
    "duration": 9,
    "start_time": "2023-01-20T11:24:55.099Z"
   },
   {
    "duration": 101,
    "start_time": "2023-01-20T11:24:55.110Z"
   },
   {
    "duration": 0,
    "start_time": "2023-01-20T11:24:55.213Z"
   },
   {
    "duration": 0,
    "start_time": "2023-01-20T11:24:55.215Z"
   },
   {
    "duration": 0,
    "start_time": "2023-01-20T11:24:55.215Z"
   },
   {
    "duration": 0,
    "start_time": "2023-01-20T11:24:55.217Z"
   },
   {
    "duration": 0,
    "start_time": "2023-01-20T11:24:55.218Z"
   },
   {
    "duration": 0,
    "start_time": "2023-01-20T11:24:55.218Z"
   },
   {
    "duration": 0,
    "start_time": "2023-01-20T11:24:55.220Z"
   },
   {
    "duration": 0,
    "start_time": "2023-01-20T11:24:55.221Z"
   },
   {
    "duration": 0,
    "start_time": "2023-01-20T11:24:55.222Z"
   },
   {
    "duration": 0,
    "start_time": "2023-01-20T11:24:55.223Z"
   },
   {
    "duration": 1,
    "start_time": "2023-01-20T11:24:55.223Z"
   },
   {
    "duration": 0,
    "start_time": "2023-01-20T11:24:55.224Z"
   },
   {
    "duration": 0,
    "start_time": "2023-01-20T11:24:55.226Z"
   },
   {
    "duration": 0,
    "start_time": "2023-01-20T11:24:55.226Z"
   },
   {
    "duration": 0,
    "start_time": "2023-01-20T11:24:55.227Z"
   },
   {
    "duration": 0,
    "start_time": "2023-01-20T11:24:55.228Z"
   },
   {
    "duration": 0,
    "start_time": "2023-01-20T11:24:55.229Z"
   },
   {
    "duration": 0,
    "start_time": "2023-01-20T11:24:55.230Z"
   },
   {
    "duration": 1,
    "start_time": "2023-01-20T11:24:55.231Z"
   },
   {
    "duration": 0,
    "start_time": "2023-01-20T11:24:55.232Z"
   },
   {
    "duration": 11,
    "start_time": "2023-01-20T11:25:04.277Z"
   },
   {
    "duration": 10,
    "start_time": "2023-01-20T11:25:15.384Z"
   },
   {
    "duration": 11,
    "start_time": "2023-01-20T12:16:18.041Z"
   },
   {
    "duration": 2,
    "start_time": "2023-01-20T12:16:23.672Z"
   },
   {
    "duration": 424,
    "start_time": "2023-01-20T12:16:35.700Z"
   },
   {
    "duration": 205,
    "start_time": "2023-01-20T12:16:36.126Z"
   },
   {
    "duration": 6,
    "start_time": "2023-01-20T12:16:36.334Z"
   },
   {
    "duration": 49,
    "start_time": "2023-01-20T12:16:36.342Z"
   },
   {
    "duration": 3,
    "start_time": "2023-01-20T12:16:36.393Z"
   },
   {
    "duration": 19,
    "start_time": "2023-01-20T12:16:36.398Z"
   },
   {
    "duration": 14,
    "start_time": "2023-01-20T12:16:36.419Z"
   },
   {
    "duration": 9,
    "start_time": "2023-01-20T12:16:36.434Z"
   },
   {
    "duration": 73,
    "start_time": "2023-01-20T12:16:36.444Z"
   },
   {
    "duration": 22,
    "start_time": "2023-01-20T12:16:36.520Z"
   },
   {
    "duration": 36,
    "start_time": "2023-01-20T12:16:36.544Z"
   },
   {
    "duration": 73,
    "start_time": "2023-01-20T12:16:36.582Z"
   },
   {
    "duration": 87,
    "start_time": "2023-01-20T12:16:36.657Z"
   },
   {
    "duration": 93,
    "start_time": "2023-01-20T12:16:36.746Z"
   },
   {
    "duration": 216,
    "start_time": "2023-01-20T12:16:36.841Z"
   },
   {
    "duration": 93,
    "start_time": "2023-01-20T12:16:37.059Z"
   },
   {
    "duration": 6,
    "start_time": "2023-01-20T12:16:37.153Z"
   },
   {
    "duration": 17,
    "start_time": "2023-01-20T12:16:37.160Z"
   },
   {
    "duration": 7,
    "start_time": "2023-01-20T12:16:37.179Z"
   },
   {
    "duration": 5,
    "start_time": "2023-01-20T12:16:37.187Z"
   },
   {
    "duration": 8,
    "start_time": "2023-01-20T12:16:37.194Z"
   },
   {
    "duration": 14,
    "start_time": "2023-01-20T12:16:37.203Z"
   },
   {
    "duration": 5,
    "start_time": "2023-01-20T12:16:37.218Z"
   },
   {
    "duration": 14,
    "start_time": "2023-01-20T12:16:37.224Z"
   },
   {
    "duration": 15,
    "start_time": "2023-01-20T12:16:37.239Z"
   },
   {
    "duration": 8,
    "start_time": "2023-01-20T12:16:37.255Z"
   },
   {
    "duration": 18,
    "start_time": "2023-01-20T12:16:37.264Z"
   },
   {
    "duration": 5,
    "start_time": "2023-01-20T12:16:37.285Z"
   },
   {
    "duration": 7,
    "start_time": "2023-01-20T12:16:37.292Z"
   },
   {
    "duration": 48,
    "start_time": "2023-01-20T12:16:37.300Z"
   },
   {
    "duration": 0,
    "start_time": "2023-01-20T12:16:37.350Z"
   },
   {
    "duration": 0,
    "start_time": "2023-01-20T12:16:37.351Z"
   },
   {
    "duration": 0,
    "start_time": "2023-01-20T12:16:37.352Z"
   },
   {
    "duration": 0,
    "start_time": "2023-01-20T12:16:37.353Z"
   },
   {
    "duration": 0,
    "start_time": "2023-01-20T12:16:37.354Z"
   },
   {
    "duration": 0,
    "start_time": "2023-01-20T12:16:37.355Z"
   },
   {
    "duration": 0,
    "start_time": "2023-01-20T12:16:37.356Z"
   },
   {
    "duration": 0,
    "start_time": "2023-01-20T12:16:37.357Z"
   },
   {
    "duration": 65,
    "start_time": "2023-01-20T12:16:59.377Z"
   },
   {
    "duration": 51,
    "start_time": "2023-01-20T12:41:52.436Z"
   },
   {
    "duration": 10,
    "start_time": "2023-01-20T12:42:13.182Z"
   },
   {
    "duration": 72,
    "start_time": "2023-01-20T12:45:09.944Z"
   },
   {
    "duration": 2,
    "start_time": "2023-01-20T12:45:35.355Z"
   },
   {
    "duration": 396,
    "start_time": "2023-01-20T12:45:49.033Z"
   },
   {
    "duration": 173,
    "start_time": "2023-01-20T12:45:49.432Z"
   },
   {
    "duration": 7,
    "start_time": "2023-01-20T12:45:49.607Z"
   },
   {
    "duration": 49,
    "start_time": "2023-01-20T12:45:49.616Z"
   },
   {
    "duration": 28,
    "start_time": "2023-01-20T12:45:49.667Z"
   },
   {
    "duration": 51,
    "start_time": "2023-01-20T12:45:49.697Z"
   },
   {
    "duration": 37,
    "start_time": "2023-01-20T12:45:49.750Z"
   },
   {
    "duration": 36,
    "start_time": "2023-01-20T12:45:49.789Z"
   },
   {
    "duration": 47,
    "start_time": "2023-01-20T12:45:49.827Z"
   },
   {
    "duration": 67,
    "start_time": "2023-01-20T12:45:49.877Z"
   },
   {
    "duration": 52,
    "start_time": "2023-01-20T12:45:49.945Z"
   },
   {
    "duration": 83,
    "start_time": "2023-01-20T12:45:49.998Z"
   },
   {
    "duration": 69,
    "start_time": "2023-01-20T12:45:50.082Z"
   },
   {
    "duration": 72,
    "start_time": "2023-01-20T12:45:50.153Z"
   },
   {
    "duration": 50,
    "start_time": "2023-01-20T12:45:50.227Z"
   },
   {
    "duration": 94,
    "start_time": "2023-01-20T12:45:50.278Z"
   },
   {
    "duration": 7,
    "start_time": "2023-01-20T12:45:50.374Z"
   },
   {
    "duration": 80,
    "start_time": "2023-01-20T12:45:50.382Z"
   },
   {
    "duration": 0,
    "start_time": "2023-01-20T12:45:50.464Z"
   },
   {
    "duration": 0,
    "start_time": "2023-01-20T12:45:50.466Z"
   },
   {
    "duration": 0,
    "start_time": "2023-01-20T12:45:50.467Z"
   },
   {
    "duration": 0,
    "start_time": "2023-01-20T12:45:50.468Z"
   },
   {
    "duration": 0,
    "start_time": "2023-01-20T12:45:50.470Z"
   },
   {
    "duration": 0,
    "start_time": "2023-01-20T12:45:50.471Z"
   },
   {
    "duration": 0,
    "start_time": "2023-01-20T12:45:50.473Z"
   },
   {
    "duration": 0,
    "start_time": "2023-01-20T12:45:50.474Z"
   },
   {
    "duration": 0,
    "start_time": "2023-01-20T12:45:50.475Z"
   },
   {
    "duration": 0,
    "start_time": "2023-01-20T12:45:50.477Z"
   },
   {
    "duration": 0,
    "start_time": "2023-01-20T12:45:50.478Z"
   },
   {
    "duration": 0,
    "start_time": "2023-01-20T12:45:50.480Z"
   },
   {
    "duration": 0,
    "start_time": "2023-01-20T12:45:50.482Z"
   },
   {
    "duration": 0,
    "start_time": "2023-01-20T12:45:50.483Z"
   },
   {
    "duration": 0,
    "start_time": "2023-01-20T12:45:50.485Z"
   },
   {
    "duration": 0,
    "start_time": "2023-01-20T12:45:50.486Z"
   },
   {
    "duration": 0,
    "start_time": "2023-01-20T12:45:50.488Z"
   },
   {
    "duration": 0,
    "start_time": "2023-01-20T12:45:50.489Z"
   },
   {
    "duration": 0,
    "start_time": "2023-01-20T12:45:50.492Z"
   },
   {
    "duration": 0,
    "start_time": "2023-01-20T12:45:50.493Z"
   },
   {
    "duration": 13,
    "start_time": "2023-01-20T12:52:26.599Z"
   },
   {
    "duration": 12,
    "start_time": "2023-01-20T12:52:36.488Z"
   },
   {
    "duration": 8,
    "start_time": "2023-01-20T12:53:27.906Z"
   },
   {
    "duration": 9,
    "start_time": "2023-01-20T12:53:58.819Z"
   },
   {
    "duration": 10,
    "start_time": "2023-01-20T13:03:56.377Z"
   },
   {
    "duration": 75,
    "start_time": "2023-01-20T18:14:43.032Z"
   },
   {
    "duration": 41,
    "start_time": "2023-01-20T18:16:27.093Z"
   },
   {
    "duration": 425,
    "start_time": "2023-01-20T18:21:16.549Z"
   },
   {
    "duration": 540,
    "start_time": "2023-01-20T18:21:16.976Z"
   },
   {
    "duration": 6,
    "start_time": "2023-01-20T18:21:17.517Z"
   },
   {
    "duration": 31,
    "start_time": "2023-01-20T18:21:17.525Z"
   },
   {
    "duration": 2,
    "start_time": "2023-01-20T18:21:17.558Z"
   },
   {
    "duration": 34,
    "start_time": "2023-01-20T18:21:17.561Z"
   },
   {
    "duration": 11,
    "start_time": "2023-01-20T18:21:17.597Z"
   },
   {
    "duration": 5,
    "start_time": "2023-01-20T18:21:17.610Z"
   },
   {
    "duration": 32,
    "start_time": "2023-01-20T18:21:17.617Z"
   },
   {
    "duration": 25,
    "start_time": "2023-01-20T18:21:17.651Z"
   },
   {
    "duration": 31,
    "start_time": "2023-01-20T18:21:17.678Z"
   },
   {
    "duration": 91,
    "start_time": "2023-01-20T18:21:17.711Z"
   },
   {
    "duration": 84,
    "start_time": "2023-01-20T18:21:17.803Z"
   },
   {
    "duration": 63,
    "start_time": "2023-01-20T18:21:17.892Z"
   },
   {
    "duration": 58,
    "start_time": "2023-01-20T18:21:17.957Z"
   },
   {
    "duration": 100,
    "start_time": "2023-01-20T18:21:18.016Z"
   },
   {
    "duration": 7,
    "start_time": "2023-01-20T18:21:18.117Z"
   },
   {
    "duration": 11,
    "start_time": "2023-01-20T18:21:18.125Z"
   },
   {
    "duration": 10,
    "start_time": "2023-01-20T18:21:18.138Z"
   },
   {
    "duration": 63,
    "start_time": "2023-01-20T18:21:18.167Z"
   },
   {
    "duration": 0,
    "start_time": "2023-01-20T18:21:18.231Z"
   },
   {
    "duration": 0,
    "start_time": "2023-01-20T18:21:18.232Z"
   },
   {
    "duration": 0,
    "start_time": "2023-01-20T18:21:18.234Z"
   },
   {
    "duration": 0,
    "start_time": "2023-01-20T18:21:18.235Z"
   },
   {
    "duration": 0,
    "start_time": "2023-01-20T18:21:18.236Z"
   },
   {
    "duration": 0,
    "start_time": "2023-01-20T18:21:18.237Z"
   },
   {
    "duration": 0,
    "start_time": "2023-01-20T18:21:18.238Z"
   },
   {
    "duration": 0,
    "start_time": "2023-01-20T18:21:18.239Z"
   },
   {
    "duration": 0,
    "start_time": "2023-01-20T18:21:18.240Z"
   },
   {
    "duration": 0,
    "start_time": "2023-01-20T18:21:18.242Z"
   },
   {
    "duration": 0,
    "start_time": "2023-01-20T18:21:18.242Z"
   },
   {
    "duration": 0,
    "start_time": "2023-01-20T18:21:18.244Z"
   },
   {
    "duration": 0,
    "start_time": "2023-01-20T18:21:18.245Z"
   },
   {
    "duration": 0,
    "start_time": "2023-01-20T18:21:18.246Z"
   },
   {
    "duration": 0,
    "start_time": "2023-01-20T18:21:18.247Z"
   },
   {
    "duration": 0,
    "start_time": "2023-01-20T18:21:18.248Z"
   },
   {
    "duration": 0,
    "start_time": "2023-01-20T18:21:18.249Z"
   },
   {
    "duration": 0,
    "start_time": "2023-01-20T18:21:18.250Z"
   },
   {
    "duration": 71,
    "start_time": "2023-01-20T18:21:31.048Z"
   },
   {
    "duration": 78,
    "start_time": "2023-01-20T18:23:32.624Z"
   },
   {
    "duration": 458,
    "start_time": "2023-01-20T18:23:43.656Z"
   },
   {
    "duration": 208,
    "start_time": "2023-01-20T18:23:44.118Z"
   },
   {
    "duration": 6,
    "start_time": "2023-01-20T18:23:44.329Z"
   },
   {
    "duration": 60,
    "start_time": "2023-01-20T18:23:44.337Z"
   },
   {
    "duration": 3,
    "start_time": "2023-01-20T18:23:44.400Z"
   },
   {
    "duration": 9,
    "start_time": "2023-01-20T18:23:44.404Z"
   },
   {
    "duration": 13,
    "start_time": "2023-01-20T18:23:44.415Z"
   },
   {
    "duration": 9,
    "start_time": "2023-01-20T18:23:44.429Z"
   },
   {
    "duration": 57,
    "start_time": "2023-01-20T18:23:44.441Z"
   },
   {
    "duration": 22,
    "start_time": "2023-01-20T18:23:44.500Z"
   },
   {
    "duration": 26,
    "start_time": "2023-01-20T18:23:44.524Z"
   },
   {
    "duration": 90,
    "start_time": "2023-01-20T18:23:44.551Z"
   },
   {
    "duration": 92,
    "start_time": "2023-01-20T18:23:44.642Z"
   },
   {
    "duration": 81,
    "start_time": "2023-01-20T18:23:44.736Z"
   },
   {
    "duration": 64,
    "start_time": "2023-01-20T18:23:44.819Z"
   },
   {
    "duration": 106,
    "start_time": "2023-01-20T18:23:44.894Z"
   },
   {
    "duration": 9,
    "start_time": "2023-01-20T18:23:45.001Z"
   },
   {
    "duration": 45,
    "start_time": "2023-01-20T18:23:45.011Z"
   },
   {
    "duration": 12,
    "start_time": "2023-01-20T18:23:45.059Z"
   },
   {
    "duration": 66,
    "start_time": "2023-01-20T18:23:45.073Z"
   },
   {
    "duration": 0,
    "start_time": "2023-01-20T18:23:45.142Z"
   },
   {
    "duration": 0,
    "start_time": "2023-01-20T18:23:45.143Z"
   },
   {
    "duration": 0,
    "start_time": "2023-01-20T18:23:45.145Z"
   },
   {
    "duration": 0,
    "start_time": "2023-01-20T18:23:45.146Z"
   },
   {
    "duration": 0,
    "start_time": "2023-01-20T18:23:45.148Z"
   },
   {
    "duration": 0,
    "start_time": "2023-01-20T18:23:45.149Z"
   },
   {
    "duration": 0,
    "start_time": "2023-01-20T18:23:45.151Z"
   },
   {
    "duration": 0,
    "start_time": "2023-01-20T18:23:45.152Z"
   },
   {
    "duration": 0,
    "start_time": "2023-01-20T18:23:45.154Z"
   },
   {
    "duration": 0,
    "start_time": "2023-01-20T18:23:45.155Z"
   },
   {
    "duration": 0,
    "start_time": "2023-01-20T18:23:45.156Z"
   },
   {
    "duration": 0,
    "start_time": "2023-01-20T18:23:45.158Z"
   },
   {
    "duration": 0,
    "start_time": "2023-01-20T18:23:45.159Z"
   },
   {
    "duration": 0,
    "start_time": "2023-01-20T18:23:45.161Z"
   },
   {
    "duration": 0,
    "start_time": "2023-01-20T18:23:45.162Z"
   },
   {
    "duration": 0,
    "start_time": "2023-01-20T18:23:45.164Z"
   },
   {
    "duration": 0,
    "start_time": "2023-01-20T18:23:45.165Z"
   },
   {
    "duration": 0,
    "start_time": "2023-01-20T18:23:45.167Z"
   },
   {
    "duration": 63,
    "start_time": "2023-01-20T18:35:21.947Z"
   },
   {
    "duration": 45,
    "start_time": "2023-01-20T18:35:34.619Z"
   },
   {
    "duration": 46,
    "start_time": "2023-01-20T18:38:44.195Z"
   },
   {
    "duration": 4,
    "start_time": "2023-01-20T18:39:02.941Z"
   },
   {
    "duration": 57,
    "start_time": "2023-01-21T08:36:35.086Z"
   },
   {
    "duration": 6,
    "start_time": "2023-01-21T08:40:25.370Z"
   },
   {
    "duration": 421,
    "start_time": "2023-01-21T08:48:34.768Z"
   },
   {
    "duration": 508,
    "start_time": "2023-01-21T08:48:35.191Z"
   },
   {
    "duration": 7,
    "start_time": "2023-01-21T08:48:35.701Z"
   },
   {
    "duration": 52,
    "start_time": "2023-01-21T08:48:35.710Z"
   },
   {
    "duration": 3,
    "start_time": "2023-01-21T08:48:35.763Z"
   },
   {
    "duration": 7,
    "start_time": "2023-01-21T08:48:35.767Z"
   },
   {
    "duration": 20,
    "start_time": "2023-01-21T08:48:35.776Z"
   },
   {
    "duration": 7,
    "start_time": "2023-01-21T08:48:35.797Z"
   },
   {
    "duration": 34,
    "start_time": "2023-01-21T08:48:35.806Z"
   },
   {
    "duration": 21,
    "start_time": "2023-01-21T08:48:35.844Z"
   },
   {
    "duration": 33,
    "start_time": "2023-01-21T08:48:35.867Z"
   },
   {
    "duration": 92,
    "start_time": "2023-01-21T08:48:35.902Z"
   },
   {
    "duration": 85,
    "start_time": "2023-01-21T08:48:35.996Z"
   },
   {
    "duration": 80,
    "start_time": "2023-01-21T08:48:36.083Z"
   },
   {
    "duration": 38,
    "start_time": "2023-01-21T08:48:36.165Z"
   },
   {
    "duration": 120,
    "start_time": "2023-01-21T08:48:36.205Z"
   },
   {
    "duration": 13,
    "start_time": "2023-01-21T08:48:36.327Z"
   },
   {
    "duration": 14,
    "start_time": "2023-01-21T08:48:36.342Z"
   },
   {
    "duration": 10,
    "start_time": "2023-01-21T08:48:36.358Z"
   },
   {
    "duration": 4,
    "start_time": "2023-01-21T08:48:36.370Z"
   },
   {
    "duration": 107,
    "start_time": "2023-01-21T08:48:36.375Z"
   },
   {
    "duration": 0,
    "start_time": "2023-01-21T08:48:36.484Z"
   },
   {
    "duration": 0,
    "start_time": "2023-01-21T08:48:36.484Z"
   },
   {
    "duration": 0,
    "start_time": "2023-01-21T08:48:36.486Z"
   },
   {
    "duration": 0,
    "start_time": "2023-01-21T08:48:36.487Z"
   },
   {
    "duration": 0,
    "start_time": "2023-01-21T08:48:36.488Z"
   },
   {
    "duration": 0,
    "start_time": "2023-01-21T08:48:36.489Z"
   },
   {
    "duration": 0,
    "start_time": "2023-01-21T08:48:36.490Z"
   },
   {
    "duration": 0,
    "start_time": "2023-01-21T08:48:36.491Z"
   },
   {
    "duration": 0,
    "start_time": "2023-01-21T08:48:36.493Z"
   },
   {
    "duration": 0,
    "start_time": "2023-01-21T08:48:36.494Z"
   },
   {
    "duration": 0,
    "start_time": "2023-01-21T08:48:36.495Z"
   },
   {
    "duration": 0,
    "start_time": "2023-01-21T08:48:36.496Z"
   },
   {
    "duration": 0,
    "start_time": "2023-01-21T08:48:36.497Z"
   },
   {
    "duration": 0,
    "start_time": "2023-01-21T08:48:36.498Z"
   },
   {
    "duration": 0,
    "start_time": "2023-01-21T08:48:36.499Z"
   },
   {
    "duration": 0,
    "start_time": "2023-01-21T08:48:36.500Z"
   },
   {
    "duration": 0,
    "start_time": "2023-01-21T08:48:36.502Z"
   },
   {
    "duration": 7,
    "start_time": "2023-01-21T08:57:43.635Z"
   },
   {
    "duration": 7,
    "start_time": "2023-01-21T08:59:02.241Z"
   },
   {
    "duration": 8,
    "start_time": "2023-01-21T08:59:04.938Z"
   },
   {
    "duration": 8,
    "start_time": "2023-01-21T08:59:07.488Z"
   },
   {
    "duration": 8,
    "start_time": "2023-01-21T08:59:11.001Z"
   },
   {
    "duration": 11,
    "start_time": "2023-01-21T08:59:22.246Z"
   },
   {
    "duration": 8,
    "start_time": "2023-01-21T09:03:37.174Z"
   },
   {
    "duration": 8,
    "start_time": "2023-01-21T09:03:56.646Z"
   },
   {
    "duration": 437,
    "start_time": "2023-01-21T09:07:18.280Z"
   },
   {
    "duration": 202,
    "start_time": "2023-01-21T09:07:18.720Z"
   },
   {
    "duration": 20,
    "start_time": "2023-01-21T09:07:18.924Z"
   },
   {
    "duration": 46,
    "start_time": "2023-01-21T09:07:18.947Z"
   },
   {
    "duration": 3,
    "start_time": "2023-01-21T09:07:18.995Z"
   },
   {
    "duration": 10,
    "start_time": "2023-01-21T09:07:18.999Z"
   },
   {
    "duration": 13,
    "start_time": "2023-01-21T09:07:19.011Z"
   },
   {
    "duration": 8,
    "start_time": "2023-01-21T09:07:19.026Z"
   },
   {
    "duration": 27,
    "start_time": "2023-01-21T09:07:19.036Z"
   },
   {
    "duration": 29,
    "start_time": "2023-01-21T09:07:19.066Z"
   },
   {
    "duration": 26,
    "start_time": "2023-01-21T09:07:19.096Z"
   },
   {
    "duration": 78,
    "start_time": "2023-01-21T09:07:19.124Z"
   },
   {
    "duration": 85,
    "start_time": "2023-01-21T09:07:19.203Z"
   },
   {
    "duration": 94,
    "start_time": "2023-01-21T09:07:19.291Z"
   },
   {
    "duration": 37,
    "start_time": "2023-01-21T09:07:19.387Z"
   },
   {
    "duration": 94,
    "start_time": "2023-01-21T09:07:19.436Z"
   },
   {
    "duration": 7,
    "start_time": "2023-01-21T09:07:19.538Z"
   },
   {
    "duration": 23,
    "start_time": "2023-01-21T09:07:19.546Z"
   },
   {
    "duration": 18,
    "start_time": "2023-01-21T09:07:19.571Z"
   },
   {
    "duration": 20,
    "start_time": "2023-01-21T09:07:19.591Z"
   },
   {
    "duration": 94,
    "start_time": "2023-01-21T09:07:19.612Z"
   },
   {
    "duration": 0,
    "start_time": "2023-01-21T09:07:19.708Z"
   },
   {
    "duration": 0,
    "start_time": "2023-01-21T09:07:19.710Z"
   },
   {
    "duration": 0,
    "start_time": "2023-01-21T09:07:19.711Z"
   },
   {
    "duration": 0,
    "start_time": "2023-01-21T09:07:19.712Z"
   },
   {
    "duration": 0,
    "start_time": "2023-01-21T09:07:19.713Z"
   },
   {
    "duration": 0,
    "start_time": "2023-01-21T09:07:19.714Z"
   },
   {
    "duration": 0,
    "start_time": "2023-01-21T09:07:19.715Z"
   },
   {
    "duration": 0,
    "start_time": "2023-01-21T09:07:19.716Z"
   },
   {
    "duration": 0,
    "start_time": "2023-01-21T09:07:19.718Z"
   },
   {
    "duration": 0,
    "start_time": "2023-01-21T09:07:19.736Z"
   },
   {
    "duration": 0,
    "start_time": "2023-01-21T09:07:19.737Z"
   },
   {
    "duration": 0,
    "start_time": "2023-01-21T09:07:19.738Z"
   },
   {
    "duration": 0,
    "start_time": "2023-01-21T09:07:19.739Z"
   },
   {
    "duration": 0,
    "start_time": "2023-01-21T09:07:19.741Z"
   },
   {
    "duration": 0,
    "start_time": "2023-01-21T09:07:19.742Z"
   },
   {
    "duration": 0,
    "start_time": "2023-01-21T09:07:19.743Z"
   },
   {
    "duration": 0,
    "start_time": "2023-01-21T09:07:19.744Z"
   },
   {
    "duration": 6,
    "start_time": "2023-01-21T09:17:23.357Z"
   },
   {
    "duration": 4,
    "start_time": "2023-01-21T09:17:27.761Z"
   },
   {
    "duration": 32,
    "start_time": "2023-01-21T09:18:59.321Z"
   },
   {
    "duration": 8,
    "start_time": "2023-01-21T09:22:12.757Z"
   },
   {
    "duration": 94,
    "start_time": "2023-01-21T09:23:22.598Z"
   },
   {
    "duration": 77,
    "start_time": "2023-01-21T09:23:40.134Z"
   },
   {
    "duration": 78,
    "start_time": "2023-01-21T09:24:20.748Z"
   },
   {
    "duration": 9,
    "start_time": "2023-01-21T09:24:26.799Z"
   },
   {
    "duration": 9,
    "start_time": "2023-01-21T09:24:28.903Z"
   },
   {
    "duration": 10,
    "start_time": "2023-01-21T09:24:49.151Z"
   },
   {
    "duration": 25,
    "start_time": "2023-01-21T09:26:33.642Z"
   },
   {
    "duration": 8,
    "start_time": "2023-01-21T09:34:52.140Z"
   },
   {
    "duration": 4,
    "start_time": "2023-01-21T09:35:00.506Z"
   },
   {
    "duration": 6,
    "start_time": "2023-01-21T09:48:13.658Z"
   },
   {
    "duration": 4,
    "start_time": "2023-01-21T09:49:13.509Z"
   },
   {
    "duration": 72,
    "start_time": "2023-01-21T09:49:22.525Z"
   },
   {
    "duration": 96,
    "start_time": "2023-01-21T09:50:33.854Z"
   },
   {
    "duration": 83,
    "start_time": "2023-01-21T09:51:58.007Z"
   },
   {
    "duration": 5,
    "start_time": "2023-01-21T09:54:57.173Z"
   },
   {
    "duration": 476,
    "start_time": "2023-01-21T09:55:50.443Z"
   },
   {
    "duration": 231,
    "start_time": "2023-01-21T09:55:50.922Z"
   },
   {
    "duration": 10,
    "start_time": "2023-01-21T09:55:51.159Z"
   },
   {
    "duration": 72,
    "start_time": "2023-01-21T09:55:51.172Z"
   },
   {
    "duration": 7,
    "start_time": "2023-01-21T09:55:51.247Z"
   },
   {
    "duration": 15,
    "start_time": "2023-01-21T09:55:51.256Z"
   },
   {
    "duration": 44,
    "start_time": "2023-01-21T09:55:51.273Z"
   },
   {
    "duration": 28,
    "start_time": "2023-01-21T09:55:51.320Z"
   },
   {
    "duration": 58,
    "start_time": "2023-01-21T09:55:51.352Z"
   },
   {
    "duration": 30,
    "start_time": "2023-01-21T09:55:51.412Z"
   },
   {
    "duration": 34,
    "start_time": "2023-01-21T09:55:51.445Z"
   },
   {
    "duration": 100,
    "start_time": "2023-01-21T09:55:51.481Z"
   },
   {
    "duration": 94,
    "start_time": "2023-01-21T09:55:51.582Z"
   },
   {
    "duration": 80,
    "start_time": "2023-01-21T09:55:51.679Z"
   },
   {
    "duration": 42,
    "start_time": "2023-01-21T09:55:51.761Z"
   },
   {
    "duration": 166,
    "start_time": "2023-01-21T09:55:51.807Z"
   },
   {
    "duration": 8,
    "start_time": "2023-01-21T09:55:51.975Z"
   },
   {
    "duration": 26,
    "start_time": "2023-01-21T09:55:51.985Z"
   },
   {
    "duration": 26,
    "start_time": "2023-01-21T09:55:52.013Z"
   },
   {
    "duration": 5,
    "start_time": "2023-01-21T09:55:52.041Z"
   },
   {
    "duration": 93,
    "start_time": "2023-01-21T09:55:52.049Z"
   },
   {
    "duration": 0,
    "start_time": "2023-01-21T09:55:52.145Z"
   },
   {
    "duration": 0,
    "start_time": "2023-01-21T09:55:52.147Z"
   },
   {
    "duration": 0,
    "start_time": "2023-01-21T09:55:52.149Z"
   },
   {
    "duration": 0,
    "start_time": "2023-01-21T09:55:52.151Z"
   },
   {
    "duration": 0,
    "start_time": "2023-01-21T09:55:52.152Z"
   },
   {
    "duration": 0,
    "start_time": "2023-01-21T09:55:52.154Z"
   },
   {
    "duration": 0,
    "start_time": "2023-01-21T09:55:52.155Z"
   },
   {
    "duration": 0,
    "start_time": "2023-01-21T09:55:52.157Z"
   },
   {
    "duration": 0,
    "start_time": "2023-01-21T09:55:52.158Z"
   },
   {
    "duration": 0,
    "start_time": "2023-01-21T09:55:52.160Z"
   },
   {
    "duration": 0,
    "start_time": "2023-01-21T09:55:52.162Z"
   },
   {
    "duration": 0,
    "start_time": "2023-01-21T09:55:52.163Z"
   },
   {
    "duration": 0,
    "start_time": "2023-01-21T09:55:52.165Z"
   },
   {
    "duration": 0,
    "start_time": "2023-01-21T09:55:52.167Z"
   },
   {
    "duration": 0,
    "start_time": "2023-01-21T09:55:52.168Z"
   },
   {
    "duration": 0,
    "start_time": "2023-01-21T09:55:52.170Z"
   },
   {
    "duration": 0,
    "start_time": "2023-01-21T09:55:52.171Z"
   },
   {
    "duration": 4,
    "start_time": "2023-01-21T09:58:44.957Z"
   },
   {
    "duration": 25,
    "start_time": "2023-01-21T09:58:48.864Z"
   },
   {
    "duration": 11,
    "start_time": "2023-01-21T09:58:51.543Z"
   },
   {
    "duration": 9,
    "start_time": "2023-01-21T09:59:03.384Z"
   },
   {
    "duration": 449,
    "start_time": "2023-01-21T09:59:15.624Z"
   },
   {
    "duration": 205,
    "start_time": "2023-01-21T09:59:16.076Z"
   },
   {
    "duration": 10,
    "start_time": "2023-01-21T09:59:16.283Z"
   },
   {
    "duration": 44,
    "start_time": "2023-01-21T09:59:16.296Z"
   },
   {
    "duration": 4,
    "start_time": "2023-01-21T09:59:16.342Z"
   },
   {
    "duration": 10,
    "start_time": "2023-01-21T09:59:16.347Z"
   },
   {
    "duration": 19,
    "start_time": "2023-01-21T09:59:16.358Z"
   },
   {
    "duration": 7,
    "start_time": "2023-01-21T09:59:16.380Z"
   },
   {
    "duration": 49,
    "start_time": "2023-01-21T09:59:16.389Z"
   },
   {
    "duration": 28,
    "start_time": "2023-01-21T09:59:16.441Z"
   },
   {
    "duration": 27,
    "start_time": "2023-01-21T09:59:16.471Z"
   },
   {
    "duration": 97,
    "start_time": "2023-01-21T09:59:16.500Z"
   },
   {
    "duration": 88,
    "start_time": "2023-01-21T09:59:16.600Z"
   },
   {
    "duration": 88,
    "start_time": "2023-01-21T09:59:16.690Z"
   },
   {
    "duration": 40,
    "start_time": "2023-01-21T09:59:16.780Z"
   },
   {
    "duration": 130,
    "start_time": "2023-01-21T09:59:16.822Z"
   },
   {
    "duration": 8,
    "start_time": "2023-01-21T09:59:16.954Z"
   },
   {
    "duration": 18,
    "start_time": "2023-01-21T09:59:16.964Z"
   },
   {
    "duration": 17,
    "start_time": "2023-01-21T09:59:16.984Z"
   },
   {
    "duration": 34,
    "start_time": "2023-01-21T09:59:17.003Z"
   },
   {
    "duration": 74,
    "start_time": "2023-01-21T09:59:17.039Z"
   },
   {
    "duration": 0,
    "start_time": "2023-01-21T09:59:17.115Z"
   },
   {
    "duration": 0,
    "start_time": "2023-01-21T09:59:17.117Z"
   },
   {
    "duration": 0,
    "start_time": "2023-01-21T09:59:17.118Z"
   },
   {
    "duration": 0,
    "start_time": "2023-01-21T09:59:17.119Z"
   },
   {
    "duration": 0,
    "start_time": "2023-01-21T09:59:17.120Z"
   },
   {
    "duration": 0,
    "start_time": "2023-01-21T09:59:17.121Z"
   },
   {
    "duration": 0,
    "start_time": "2023-01-21T09:59:17.121Z"
   },
   {
    "duration": 0,
    "start_time": "2023-01-21T09:59:17.138Z"
   },
   {
    "duration": 0,
    "start_time": "2023-01-21T09:59:17.140Z"
   },
   {
    "duration": 0,
    "start_time": "2023-01-21T09:59:17.141Z"
   },
   {
    "duration": 0,
    "start_time": "2023-01-21T09:59:17.142Z"
   },
   {
    "duration": 0,
    "start_time": "2023-01-21T09:59:17.144Z"
   },
   {
    "duration": 0,
    "start_time": "2023-01-21T09:59:17.145Z"
   },
   {
    "duration": 0,
    "start_time": "2023-01-21T09:59:17.146Z"
   },
   {
    "duration": 0,
    "start_time": "2023-01-21T09:59:17.148Z"
   },
   {
    "duration": 0,
    "start_time": "2023-01-21T09:59:17.149Z"
   },
   {
    "duration": 0,
    "start_time": "2023-01-21T09:59:17.150Z"
   },
   {
    "duration": 19,
    "start_time": "2023-01-21T09:59:23.225Z"
   },
   {
    "duration": 9,
    "start_time": "2023-01-21T09:59:25.176Z"
   },
   {
    "duration": 21,
    "start_time": "2023-01-21T10:00:15.198Z"
   },
   {
    "duration": 10,
    "start_time": "2023-01-21T10:00:18.418Z"
   },
   {
    "duration": 21,
    "start_time": "2023-01-21T10:03:55.003Z"
   },
   {
    "duration": 15,
    "start_time": "2023-01-21T10:03:58.112Z"
   },
   {
    "duration": 19,
    "start_time": "2023-01-21T10:03:59.942Z"
   },
   {
    "duration": 24,
    "start_time": "2023-01-21T10:04:01.681Z"
   },
   {
    "duration": 5,
    "start_time": "2023-01-21T10:12:37.164Z"
   },
   {
    "duration": 93,
    "start_time": "2023-01-21T10:12:54.094Z"
   },
   {
    "duration": 73,
    "start_time": "2023-01-21T10:13:14.250Z"
   },
   {
    "duration": 74,
    "start_time": "2023-01-21T10:13:34.373Z"
   },
   {
    "duration": 136,
    "start_time": "2023-01-21T10:13:52.080Z"
   },
   {
    "duration": 98,
    "start_time": "2023-01-21T10:13:57.094Z"
   },
   {
    "duration": 8,
    "start_time": "2023-01-21T10:14:21.599Z"
   },
   {
    "duration": 14,
    "start_time": "2023-01-21T10:30:12.710Z"
   },
   {
    "duration": 11,
    "start_time": "2023-01-21T10:30:16.871Z"
   },
   {
    "duration": 6,
    "start_time": "2023-01-21T10:53:41.377Z"
   },
   {
    "duration": 7,
    "start_time": "2023-01-21T10:54:28.935Z"
   },
   {
    "duration": 6,
    "start_time": "2023-01-21T11:03:34.668Z"
   },
   {
    "duration": 412,
    "start_time": "2023-01-21T11:04:49.218Z"
   },
   {
    "duration": 192,
    "start_time": "2023-01-21T11:04:49.632Z"
   },
   {
    "duration": 23,
    "start_time": "2023-01-21T11:04:49.826Z"
   },
   {
    "duration": 38,
    "start_time": "2023-01-21T11:04:49.852Z"
   },
   {
    "duration": 3,
    "start_time": "2023-01-21T11:04:49.892Z"
   },
   {
    "duration": 14,
    "start_time": "2023-01-21T11:04:49.896Z"
   },
   {
    "duration": 33,
    "start_time": "2023-01-21T11:04:49.912Z"
   },
   {
    "duration": 17,
    "start_time": "2023-01-21T11:04:49.947Z"
   },
   {
    "duration": 39,
    "start_time": "2023-01-21T11:04:49.966Z"
   },
   {
    "duration": 21,
    "start_time": "2023-01-21T11:04:50.008Z"
   },
   {
    "duration": 35,
    "start_time": "2023-01-21T11:04:50.031Z"
   },
   {
    "duration": 83,
    "start_time": "2023-01-21T11:04:50.068Z"
   },
   {
    "duration": 89,
    "start_time": "2023-01-21T11:04:50.152Z"
   },
   {
    "duration": 70,
    "start_time": "2023-01-21T11:04:50.242Z"
   },
   {
    "duration": 50,
    "start_time": "2023-01-21T11:04:50.314Z"
   },
   {
    "duration": 105,
    "start_time": "2023-01-21T11:04:50.366Z"
   },
   {
    "duration": 8,
    "start_time": "2023-01-21T11:04:50.473Z"
   },
   {
    "duration": 24,
    "start_time": "2023-01-21T11:04:50.483Z"
   },
   {
    "duration": 13,
    "start_time": "2023-01-21T11:04:50.509Z"
   },
   {
    "duration": 10,
    "start_time": "2023-01-21T11:04:50.540Z"
   },
   {
    "duration": 46,
    "start_time": "2023-01-21T11:04:50.551Z"
   },
   {
    "duration": 18,
    "start_time": "2023-01-21T11:04:50.599Z"
   },
   {
    "duration": 29,
    "start_time": "2023-01-21T11:04:50.619Z"
   },
   {
    "duration": 20,
    "start_time": "2023-01-21T11:04:50.652Z"
   },
   {
    "duration": 19,
    "start_time": "2023-01-21T11:04:50.674Z"
   },
   {
    "duration": 28,
    "start_time": "2023-01-21T11:04:50.696Z"
   },
   {
    "duration": 23,
    "start_time": "2023-01-21T11:04:50.727Z"
   },
   {
    "duration": 25,
    "start_time": "2023-01-21T11:04:50.754Z"
   },
   {
    "duration": 14,
    "start_time": "2023-01-21T11:04:50.781Z"
   },
   {
    "duration": 6,
    "start_time": "2023-01-21T11:04:50.798Z"
   },
   {
    "duration": 48,
    "start_time": "2023-01-21T11:04:50.806Z"
   },
   {
    "duration": 11,
    "start_time": "2023-01-21T11:04:50.856Z"
   },
   {
    "duration": 11,
    "start_time": "2023-01-21T11:04:50.868Z"
   },
   {
    "duration": 22,
    "start_time": "2023-01-21T11:04:50.880Z"
   },
   {
    "duration": 13,
    "start_time": "2023-01-21T11:04:50.904Z"
   },
   {
    "duration": 32,
    "start_time": "2023-01-21T11:04:50.919Z"
   },
   {
    "duration": 15,
    "start_time": "2023-01-21T11:04:50.953Z"
   },
   {
    "duration": 10,
    "start_time": "2023-01-21T11:04:50.969Z"
   },
   {
    "duration": 1309,
    "start_time": "2023-01-21T11:21:46.380Z"
   },
   {
    "duration": 1272,
    "start_time": "2023-01-21T11:22:42.693Z"
   },
   {
    "duration": 0,
    "start_time": "2023-01-21T11:22:43.967Z"
   },
   {
    "duration": 1336,
    "start_time": "2023-01-21T11:22:46.499Z"
   },
   {
    "duration": 0,
    "start_time": "2023-01-21T11:22:47.839Z"
   },
   {
    "duration": 6,
    "start_time": "2023-01-21T11:23:01.071Z"
   },
   {
    "duration": 1122,
    "start_time": "2023-01-21T11:23:25.796Z"
   },
   {
    "duration": 425,
    "start_time": "2023-01-21T11:24:19.907Z"
   },
   {
    "duration": 219,
    "start_time": "2023-01-21T11:24:20.334Z"
   },
   {
    "duration": 9,
    "start_time": "2023-01-21T11:24:20.555Z"
   },
   {
    "duration": 45,
    "start_time": "2023-01-21T11:24:20.567Z"
   },
   {
    "duration": 4,
    "start_time": "2023-01-21T11:24:20.614Z"
   },
   {
    "duration": 35,
    "start_time": "2023-01-21T11:24:20.619Z"
   },
   {
    "duration": 20,
    "start_time": "2023-01-21T11:24:20.655Z"
   },
   {
    "duration": 33,
    "start_time": "2023-01-21T11:24:20.677Z"
   },
   {
    "duration": 27,
    "start_time": "2023-01-21T11:24:20.712Z"
   },
   {
    "duration": 33,
    "start_time": "2023-01-21T11:24:20.742Z"
   },
   {
    "duration": 33,
    "start_time": "2023-01-21T11:24:20.777Z"
   },
   {
    "duration": 73,
    "start_time": "2023-01-21T11:24:20.812Z"
   },
   {
    "duration": 90,
    "start_time": "2023-01-21T11:24:20.886Z"
   },
   {
    "duration": 81,
    "start_time": "2023-01-21T11:24:20.978Z"
   },
   {
    "duration": 37,
    "start_time": "2023-01-21T11:24:21.061Z"
   },
   {
    "duration": 110,
    "start_time": "2023-01-21T11:24:21.099Z"
   },
   {
    "duration": 7,
    "start_time": "2023-01-21T11:24:21.211Z"
   },
   {
    "duration": 18,
    "start_time": "2023-01-21T11:24:21.220Z"
   },
   {
    "duration": 20,
    "start_time": "2023-01-21T11:24:21.239Z"
   },
   {
    "duration": 4,
    "start_time": "2023-01-21T11:24:21.261Z"
   },
   {
    "duration": 26,
    "start_time": "2023-01-21T11:24:21.266Z"
   },
   {
    "duration": 18,
    "start_time": "2023-01-21T11:24:21.294Z"
   },
   {
    "duration": 45,
    "start_time": "2023-01-21T11:24:21.314Z"
   },
   {
    "duration": 19,
    "start_time": "2023-01-21T11:24:21.361Z"
   },
   {
    "duration": 20,
    "start_time": "2023-01-21T11:24:21.382Z"
   },
   {
    "duration": 51,
    "start_time": "2023-01-21T11:24:21.404Z"
   },
   {
    "duration": 8,
    "start_time": "2023-01-21T11:24:21.457Z"
   },
   {
    "duration": 25,
    "start_time": "2023-01-21T11:24:21.469Z"
   },
   {
    "duration": 9,
    "start_time": "2023-01-21T11:24:21.496Z"
   },
   {
    "duration": 6,
    "start_time": "2023-01-21T11:24:21.507Z"
   },
   {
    "duration": 1269,
    "start_time": "2023-01-21T11:24:21.514Z"
   },
   {
    "duration": 0,
    "start_time": "2023-01-21T11:24:22.785Z"
   },
   {
    "duration": 0,
    "start_time": "2023-01-21T11:24:22.786Z"
   },
   {
    "duration": 0,
    "start_time": "2023-01-21T11:24:22.788Z"
   },
   {
    "duration": 0,
    "start_time": "2023-01-21T11:24:22.788Z"
   },
   {
    "duration": 0,
    "start_time": "2023-01-21T11:24:22.789Z"
   },
   {
    "duration": 0,
    "start_time": "2023-01-21T11:24:22.791Z"
   },
   {
    "duration": 0,
    "start_time": "2023-01-21T11:24:22.792Z"
   },
   {
    "duration": 419,
    "start_time": "2023-01-21T11:24:39.133Z"
   },
   {
    "duration": 196,
    "start_time": "2023-01-21T11:24:39.554Z"
   },
   {
    "duration": 7,
    "start_time": "2023-01-21T11:24:39.752Z"
   },
   {
    "duration": 51,
    "start_time": "2023-01-21T11:24:39.761Z"
   },
   {
    "duration": 12,
    "start_time": "2023-01-21T11:24:39.814Z"
   },
   {
    "duration": 39,
    "start_time": "2023-01-21T11:24:39.827Z"
   },
   {
    "duration": 32,
    "start_time": "2023-01-21T11:24:39.867Z"
   },
   {
    "duration": 13,
    "start_time": "2023-01-21T11:24:39.901Z"
   },
   {
    "duration": 53,
    "start_time": "2023-01-21T11:24:39.915Z"
   },
   {
    "duration": 35,
    "start_time": "2023-01-21T11:24:39.970Z"
   },
   {
    "duration": 23,
    "start_time": "2023-01-21T11:24:40.008Z"
   },
   {
    "duration": 105,
    "start_time": "2023-01-21T11:24:40.033Z"
   },
   {
    "duration": 86,
    "start_time": "2023-01-21T11:24:40.140Z"
   },
   {
    "duration": 75,
    "start_time": "2023-01-21T11:24:40.229Z"
   },
   {
    "duration": 59,
    "start_time": "2023-01-21T11:24:40.305Z"
   },
   {
    "duration": 102,
    "start_time": "2023-01-21T11:24:40.366Z"
   },
   {
    "duration": 8,
    "start_time": "2023-01-21T11:24:40.470Z"
   },
   {
    "duration": 21,
    "start_time": "2023-01-21T11:24:40.479Z"
   },
   {
    "duration": 22,
    "start_time": "2023-01-21T11:24:40.502Z"
   },
   {
    "duration": 5,
    "start_time": "2023-01-21T11:24:40.526Z"
   },
   {
    "duration": 52,
    "start_time": "2023-01-21T11:24:40.536Z"
   },
   {
    "duration": 21,
    "start_time": "2023-01-21T11:24:40.592Z"
   },
   {
    "duration": 24,
    "start_time": "2023-01-21T11:24:40.615Z"
   },
   {
    "duration": 26,
    "start_time": "2023-01-21T11:24:40.640Z"
   },
   {
    "duration": 23,
    "start_time": "2023-01-21T11:24:40.668Z"
   },
   {
    "duration": 21,
    "start_time": "2023-01-21T11:24:40.693Z"
   },
   {
    "duration": 15,
    "start_time": "2023-01-21T11:24:40.716Z"
   },
   {
    "duration": 60,
    "start_time": "2023-01-21T11:24:40.737Z"
   },
   {
    "duration": 38,
    "start_time": "2023-01-21T11:24:40.799Z"
   },
   {
    "duration": 25,
    "start_time": "2023-01-21T11:24:40.843Z"
   },
   {
    "duration": 1329,
    "start_time": "2023-01-21T11:24:40.870Z"
   },
   {
    "duration": 0,
    "start_time": "2023-01-21T11:24:42.200Z"
   },
   {
    "duration": 0,
    "start_time": "2023-01-21T11:24:42.202Z"
   },
   {
    "duration": 0,
    "start_time": "2023-01-21T11:24:42.203Z"
   },
   {
    "duration": 0,
    "start_time": "2023-01-21T11:24:42.204Z"
   },
   {
    "duration": 0,
    "start_time": "2023-01-21T11:24:42.205Z"
   },
   {
    "duration": 0,
    "start_time": "2023-01-21T11:24:42.207Z"
   },
   {
    "duration": 0,
    "start_time": "2023-01-21T11:24:42.207Z"
   },
   {
    "duration": 4,
    "start_time": "2023-01-21T11:26:29.224Z"
   },
   {
    "duration": 5,
    "start_time": "2023-01-21T11:26:52.023Z"
   },
   {
    "duration": 23,
    "start_time": "2023-01-21T11:26:59.297Z"
   },
   {
    "duration": 396,
    "start_time": "2023-01-21T11:29:16.509Z"
   },
   {
    "duration": 201,
    "start_time": "2023-01-21T11:29:16.907Z"
   },
   {
    "duration": 7,
    "start_time": "2023-01-21T11:29:17.109Z"
   },
   {
    "duration": 47,
    "start_time": "2023-01-21T11:29:17.118Z"
   },
   {
    "duration": 2,
    "start_time": "2023-01-21T11:29:17.167Z"
   },
   {
    "duration": 6,
    "start_time": "2023-01-21T11:29:17.171Z"
   },
   {
    "duration": 13,
    "start_time": "2023-01-21T11:29:17.178Z"
   },
   {
    "duration": 7,
    "start_time": "2023-01-21T11:29:17.193Z"
   },
   {
    "duration": 52,
    "start_time": "2023-01-21T11:29:17.202Z"
   },
   {
    "duration": 21,
    "start_time": "2023-01-21T11:29:17.257Z"
   },
   {
    "duration": 25,
    "start_time": "2023-01-21T11:29:17.280Z"
   },
   {
    "duration": 114,
    "start_time": "2023-01-21T11:29:17.307Z"
   },
   {
    "duration": 91,
    "start_time": "2023-01-21T11:29:17.423Z"
   },
   {
    "duration": 78,
    "start_time": "2023-01-21T11:29:17.515Z"
   },
   {
    "duration": 58,
    "start_time": "2023-01-21T11:29:17.595Z"
   },
   {
    "duration": 119,
    "start_time": "2023-01-21T11:29:17.656Z"
   },
   {
    "duration": 7,
    "start_time": "2023-01-21T11:29:17.777Z"
   },
   {
    "duration": 47,
    "start_time": "2023-01-21T11:29:17.785Z"
   },
   {
    "duration": 31,
    "start_time": "2023-01-21T11:29:17.834Z"
   },
   {
    "duration": 15,
    "start_time": "2023-01-21T11:29:17.867Z"
   },
   {
    "duration": 58,
    "start_time": "2023-01-21T11:29:17.884Z"
   },
   {
    "duration": 22,
    "start_time": "2023-01-21T11:29:17.943Z"
   },
   {
    "duration": 31,
    "start_time": "2023-01-21T11:29:17.966Z"
   },
   {
    "duration": 23,
    "start_time": "2023-01-21T11:29:17.999Z"
   },
   {
    "duration": 32,
    "start_time": "2023-01-21T11:29:18.023Z"
   },
   {
    "duration": 33,
    "start_time": "2023-01-21T11:29:18.056Z"
   },
   {
    "duration": 7,
    "start_time": "2023-01-21T11:29:18.091Z"
   },
   {
    "duration": 46,
    "start_time": "2023-01-21T11:29:18.100Z"
   },
   {
    "duration": 16,
    "start_time": "2023-01-21T11:29:18.149Z"
   },
   {
    "duration": 28,
    "start_time": "2023-01-21T11:29:18.167Z"
   },
   {
    "duration": 1366,
    "start_time": "2023-01-21T11:29:18.197Z"
   },
   {
    "duration": 0,
    "start_time": "2023-01-21T11:29:19.565Z"
   },
   {
    "duration": 0,
    "start_time": "2023-01-21T11:29:19.567Z"
   },
   {
    "duration": 0,
    "start_time": "2023-01-21T11:29:19.568Z"
   },
   {
    "duration": 0,
    "start_time": "2023-01-21T11:29:19.569Z"
   },
   {
    "duration": 0,
    "start_time": "2023-01-21T11:29:19.570Z"
   },
   {
    "duration": 0,
    "start_time": "2023-01-21T11:29:19.571Z"
   },
   {
    "duration": 0,
    "start_time": "2023-01-21T11:29:19.572Z"
   },
   {
    "duration": 5,
    "start_time": "2023-01-21T11:40:00.102Z"
   },
   {
    "duration": 1842,
    "start_time": "2023-01-21T11:40:03.761Z"
   },
   {
    "duration": 5,
    "start_time": "2023-01-21T11:41:36.057Z"
   },
   {
    "duration": 21,
    "start_time": "2023-01-21T11:41:41.668Z"
   },
   {
    "duration": 81,
    "start_time": "2023-01-21T11:45:19.886Z"
   },
   {
    "duration": 95,
    "start_time": "2023-01-21T11:46:05.367Z"
   },
   {
    "duration": 99,
    "start_time": "2023-01-21T11:46:41.050Z"
   },
   {
    "duration": 7,
    "start_time": "2023-01-21T11:52:02.363Z"
   },
   {
    "duration": 6,
    "start_time": "2023-01-21T11:53:11.606Z"
   },
   {
    "duration": 5,
    "start_time": "2023-01-21T11:53:37.270Z"
   },
   {
    "duration": 20,
    "start_time": "2023-01-21T11:53:46.361Z"
   },
   {
    "duration": 30,
    "start_time": "2023-01-21T11:54:24.400Z"
   },
   {
    "duration": 15,
    "start_time": "2023-01-21T11:54:25.156Z"
   },
   {
    "duration": 20,
    "start_time": "2023-01-21T11:54:29.343Z"
   },
   {
    "duration": 4,
    "start_time": "2023-01-21T11:55:32.223Z"
   },
   {
    "duration": 20,
    "start_time": "2023-01-21T11:55:35.806Z"
   },
   {
    "duration": 4,
    "start_time": "2023-01-21T11:57:28.175Z"
   },
   {
    "duration": 1458,
    "start_time": "2023-01-21T11:57:38.664Z"
   },
   {
    "duration": 412,
    "start_time": "2023-01-21T11:57:57.482Z"
   },
   {
    "duration": 217,
    "start_time": "2023-01-21T11:57:57.896Z"
   },
   {
    "duration": 7,
    "start_time": "2023-01-21T11:57:58.115Z"
   },
   {
    "duration": 55,
    "start_time": "2023-01-21T11:57:58.138Z"
   },
   {
    "duration": 2,
    "start_time": "2023-01-21T11:57:58.195Z"
   },
   {
    "duration": 42,
    "start_time": "2023-01-21T11:57:58.199Z"
   },
   {
    "duration": 52,
    "start_time": "2023-01-21T11:57:58.243Z"
   },
   {
    "duration": 17,
    "start_time": "2023-01-21T11:57:58.297Z"
   },
   {
    "duration": 49,
    "start_time": "2023-01-21T11:57:58.316Z"
   },
   {
    "duration": 32,
    "start_time": "2023-01-21T11:57:58.369Z"
   },
   {
    "duration": 28,
    "start_time": "2023-01-21T11:57:58.404Z"
   },
   {
    "duration": 129,
    "start_time": "2023-01-21T11:57:58.436Z"
   },
   {
    "duration": 95,
    "start_time": "2023-01-21T11:57:58.567Z"
   },
   {
    "duration": 68,
    "start_time": "2023-01-21T11:57:58.664Z"
   },
   {
    "duration": 54,
    "start_time": "2023-01-21T11:57:58.736Z"
   },
   {
    "duration": 119,
    "start_time": "2023-01-21T11:57:58.792Z"
   },
   {
    "duration": 8,
    "start_time": "2023-01-21T11:57:58.912Z"
   },
   {
    "duration": 32,
    "start_time": "2023-01-21T11:57:58.922Z"
   },
   {
    "duration": 20,
    "start_time": "2023-01-21T11:57:58.956Z"
   },
   {
    "duration": 4,
    "start_time": "2023-01-21T11:57:58.977Z"
   },
   {
    "duration": 24,
    "start_time": "2023-01-21T11:57:58.983Z"
   },
   {
    "duration": 14,
    "start_time": "2023-01-21T11:57:59.008Z"
   },
   {
    "duration": 28,
    "start_time": "2023-01-21T11:57:59.046Z"
   },
   {
    "duration": 14,
    "start_time": "2023-01-21T11:57:59.075Z"
   },
   {
    "duration": 17,
    "start_time": "2023-01-21T11:57:59.090Z"
   },
   {
    "duration": 50,
    "start_time": "2023-01-21T11:57:59.109Z"
   },
   {
    "duration": 7,
    "start_time": "2023-01-21T11:57:59.161Z"
   },
   {
    "duration": 16,
    "start_time": "2023-01-21T11:57:59.171Z"
   },
   {
    "duration": 10,
    "start_time": "2023-01-21T11:57:59.189Z"
   },
   {
    "duration": 7,
    "start_time": "2023-01-21T11:57:59.201Z"
   },
   {
    "duration": 1520,
    "start_time": "2023-01-21T11:57:59.209Z"
   },
   {
    "duration": 0,
    "start_time": "2023-01-21T11:58:00.731Z"
   },
   {
    "duration": 0,
    "start_time": "2023-01-21T11:58:00.732Z"
   },
   {
    "duration": 0,
    "start_time": "2023-01-21T11:58:00.734Z"
   },
   {
    "duration": 0,
    "start_time": "2023-01-21T11:58:00.735Z"
   },
   {
    "duration": 0,
    "start_time": "2023-01-21T11:58:00.736Z"
   },
   {
    "duration": 0,
    "start_time": "2023-01-21T11:58:00.738Z"
   },
   {
    "duration": 0,
    "start_time": "2023-01-21T11:58:00.740Z"
   },
   {
    "duration": 1375,
    "start_time": "2023-01-21T11:58:22.032Z"
   },
   {
    "duration": 5,
    "start_time": "2023-01-21T12:02:04.306Z"
   },
   {
    "duration": 40,
    "start_time": "2023-01-21T12:02:12.828Z"
   },
   {
    "duration": 20,
    "start_time": "2023-01-21T12:02:47.668Z"
   },
   {
    "duration": 4,
    "start_time": "2023-01-21T12:02:52.806Z"
   },
   {
    "duration": 1331,
    "start_time": "2023-01-21T12:02:56.463Z"
   },
   {
    "duration": 4,
    "start_time": "2023-01-21T12:06:02.271Z"
   },
   {
    "duration": 1362,
    "start_time": "2023-01-21T12:06:06.660Z"
   },
   {
    "duration": 9,
    "start_time": "2023-01-21T12:08:29.136Z"
   },
   {
    "duration": 1453,
    "start_time": "2023-01-21T12:08:34.868Z"
   },
   {
    "duration": 4,
    "start_time": "2023-01-21T12:12:32.811Z"
   },
   {
    "duration": 1382,
    "start_time": "2023-01-21T12:12:38.005Z"
   },
   {
    "duration": 13,
    "start_time": "2023-01-21T13:29:28.470Z"
   },
   {
    "duration": 58,
    "start_time": "2023-01-21T13:29:33.834Z"
   },
   {
    "duration": 11,
    "start_time": "2023-01-21T13:29:52.825Z"
   },
   {
    "duration": 4,
    "start_time": "2023-01-21T13:30:45.076Z"
   },
   {
    "duration": 5,
    "start_time": "2023-01-21T13:51:26.728Z"
   },
   {
    "duration": 437,
    "start_time": "2023-01-21T14:06:47.154Z"
   },
   {
    "duration": 231,
    "start_time": "2023-01-21T14:06:47.593Z"
   },
   {
    "duration": 16,
    "start_time": "2023-01-21T14:06:47.826Z"
   },
   {
    "duration": 33,
    "start_time": "2023-01-21T14:06:47.846Z"
   },
   {
    "duration": 4,
    "start_time": "2023-01-21T14:06:47.881Z"
   },
   {
    "duration": 7,
    "start_time": "2023-01-21T14:06:47.887Z"
   },
   {
    "duration": 17,
    "start_time": "2023-01-21T14:06:47.895Z"
   },
   {
    "duration": 4,
    "start_time": "2023-01-21T14:06:47.937Z"
   },
   {
    "duration": 38,
    "start_time": "2023-01-21T14:06:47.943Z"
   },
   {
    "duration": 48,
    "start_time": "2023-01-21T14:06:47.984Z"
   },
   {
    "duration": 26,
    "start_time": "2023-01-21T14:06:48.033Z"
   },
   {
    "duration": 98,
    "start_time": "2023-01-21T14:06:48.061Z"
   },
   {
    "duration": 89,
    "start_time": "2023-01-21T14:06:48.161Z"
   },
   {
    "duration": 89,
    "start_time": "2023-01-21T14:06:48.252Z"
   },
   {
    "duration": 41,
    "start_time": "2023-01-21T14:06:48.343Z"
   },
   {
    "duration": 131,
    "start_time": "2023-01-21T14:06:48.386Z"
   },
   {
    "duration": 17,
    "start_time": "2023-01-21T14:06:48.519Z"
   },
   {
    "duration": 30,
    "start_time": "2023-01-21T14:06:48.538Z"
   },
   {
    "duration": 36,
    "start_time": "2023-01-21T14:06:48.571Z"
   },
   {
    "duration": 45,
    "start_time": "2023-01-21T14:06:48.610Z"
   },
   {
    "duration": 85,
    "start_time": "2023-01-21T14:06:48.657Z"
   },
   {
    "duration": 71,
    "start_time": "2023-01-21T14:06:48.744Z"
   },
   {
    "duration": 40,
    "start_time": "2023-01-21T14:06:48.817Z"
   },
   {
    "duration": 45,
    "start_time": "2023-01-21T14:06:48.859Z"
   },
   {
    "duration": 52,
    "start_time": "2023-01-21T14:06:48.907Z"
   },
   {
    "duration": 43,
    "start_time": "2023-01-21T14:06:48.960Z"
   },
   {
    "duration": 30,
    "start_time": "2023-01-21T14:06:49.005Z"
   },
   {
    "duration": 57,
    "start_time": "2023-01-21T14:06:49.038Z"
   },
   {
    "duration": 40,
    "start_time": "2023-01-21T14:06:49.097Z"
   },
   {
    "duration": 53,
    "start_time": "2023-01-21T14:06:49.139Z"
   },
   {
    "duration": 1476,
    "start_time": "2023-01-21T14:06:49.194Z"
   },
   {
    "duration": 0,
    "start_time": "2023-01-21T14:06:50.672Z"
   },
   {
    "duration": 0,
    "start_time": "2023-01-21T14:06:50.674Z"
   },
   {
    "duration": 0,
    "start_time": "2023-01-21T14:06:50.675Z"
   },
   {
    "duration": 0,
    "start_time": "2023-01-21T14:06:50.676Z"
   },
   {
    "duration": 0,
    "start_time": "2023-01-21T14:06:50.678Z"
   },
   {
    "duration": 0,
    "start_time": "2023-01-21T14:06:50.680Z"
   },
   {
    "duration": 0,
    "start_time": "2023-01-21T14:06:50.681Z"
   },
   {
    "duration": 4,
    "start_time": "2023-01-21T14:14:27.415Z"
   },
   {
    "duration": 5,
    "start_time": "2023-01-21T14:24:59.020Z"
   },
   {
    "duration": 43,
    "start_time": "2023-01-21T14:25:01.004Z"
   },
   {
    "duration": 6,
    "start_time": "2023-01-21T14:29:36.014Z"
   },
   {
    "duration": 1157,
    "start_time": "2023-01-21T14:29:37.690Z"
   },
   {
    "duration": 78,
    "start_time": "2023-01-21T16:58:24.129Z"
   },
   {
    "duration": 4,
    "start_time": "2023-01-21T17:10:28.938Z"
   },
   {
    "duration": 1224,
    "start_time": "2023-01-21T17:10:35.036Z"
   },
   {
    "duration": 78,
    "start_time": "2023-01-21T17:12:21.884Z"
   },
   {
    "duration": 2,
    "start_time": "2023-01-21T17:12:49.735Z"
   },
   {
    "duration": 5,
    "start_time": "2023-01-21T17:15:14.140Z"
   },
   {
    "duration": 6,
    "start_time": "2023-01-21T17:15:45.610Z"
   },
   {
    "duration": 89,
    "start_time": "2023-01-21T17:47:14.453Z"
   },
   {
    "duration": 141,
    "start_time": "2023-01-21T17:47:23.024Z"
   },
   {
    "duration": 70,
    "start_time": "2023-01-21T17:47:31.575Z"
   },
   {
    "duration": 81,
    "start_time": "2023-01-21T17:47:36.840Z"
   },
   {
    "duration": 6,
    "start_time": "2023-01-21T17:47:53.551Z"
   },
   {
    "duration": 19,
    "start_time": "2023-01-21T17:47:58.008Z"
   },
   {
    "duration": 6,
    "start_time": "2023-01-21T17:48:01.712Z"
   },
   {
    "duration": 29,
    "start_time": "2023-01-21T17:48:07.918Z"
   },
   {
    "duration": 4,
    "start_time": "2023-01-21T17:53:23.847Z"
   },
   {
    "duration": 21,
    "start_time": "2023-01-21T17:53:27.088Z"
   },
   {
    "duration": 5,
    "start_time": "2023-01-21T17:54:45.087Z"
   },
   {
    "duration": 23,
    "start_time": "2023-01-21T17:54:47.651Z"
   },
   {
    "duration": 7,
    "start_time": "2023-01-21T17:55:01.869Z"
   },
   {
    "duration": 23,
    "start_time": "2023-01-21T17:55:04.900Z"
   },
   {
    "duration": 75,
    "start_time": "2023-01-21T17:55:44.167Z"
   },
   {
    "duration": 5,
    "start_time": "2023-01-21T17:55:58.079Z"
   },
   {
    "duration": 29,
    "start_time": "2023-01-21T17:56:01.423Z"
   },
   {
    "duration": 19,
    "start_time": "2023-01-21T17:56:23.439Z"
   },
   {
    "duration": 33,
    "start_time": "2023-01-21T17:56:26.376Z"
   },
   {
    "duration": 7,
    "start_time": "2023-01-21T17:56:28.919Z"
   },
   {
    "duration": 21,
    "start_time": "2023-01-21T17:57:05.095Z"
   },
   {
    "duration": 49,
    "start_time": "2023-01-22T16:51:34.884Z"
   },
   {
    "duration": 7,
    "start_time": "2023-01-22T16:52:42.235Z"
   },
   {
    "duration": 9,
    "start_time": "2023-01-22T16:52:45.925Z"
   },
   {
    "duration": 7,
    "start_time": "2023-01-22T17:02:13.554Z"
   },
   {
    "duration": 6,
    "start_time": "2023-01-22T17:02:30.559Z"
   },
   {
    "duration": 9,
    "start_time": "2023-01-22T17:07:05.982Z"
   },
   {
    "duration": 8,
    "start_time": "2023-01-22T17:07:53.045Z"
   },
   {
    "duration": 76,
    "start_time": "2023-01-22T17:16:39.265Z"
   },
   {
    "duration": 9,
    "start_time": "2023-01-22T17:16:46.652Z"
   },
   {
    "duration": 7,
    "start_time": "2023-01-22T17:19:52.502Z"
   },
   {
    "duration": 417,
    "start_time": "2023-01-22T17:22:57.196Z"
   },
   {
    "duration": 870,
    "start_time": "2023-01-22T17:22:57.615Z"
   },
   {
    "duration": 6,
    "start_time": "2023-01-22T17:22:58.486Z"
   },
   {
    "duration": 33,
    "start_time": "2023-01-22T17:22:58.494Z"
   },
   {
    "duration": 3,
    "start_time": "2023-01-22T17:22:58.528Z"
   },
   {
    "duration": 19,
    "start_time": "2023-01-22T17:22:58.532Z"
   },
   {
    "duration": 15,
    "start_time": "2023-01-22T17:22:58.553Z"
   },
   {
    "duration": 6,
    "start_time": "2023-01-22T17:22:58.570Z"
   },
   {
    "duration": 25,
    "start_time": "2023-01-22T17:22:58.578Z"
   },
   {
    "duration": 25,
    "start_time": "2023-01-22T17:22:58.606Z"
   },
   {
    "duration": 22,
    "start_time": "2023-01-22T17:22:58.633Z"
   },
   {
    "duration": 89,
    "start_time": "2023-01-22T17:22:58.657Z"
   },
   {
    "duration": 77,
    "start_time": "2023-01-22T17:22:58.749Z"
   },
   {
    "duration": 72,
    "start_time": "2023-01-22T17:22:58.828Z"
   },
   {
    "duration": 35,
    "start_time": "2023-01-22T17:22:58.902Z"
   },
   {
    "duration": 2,
    "start_time": "2023-01-22T17:22:58.939Z"
   },
   {
    "duration": 9,
    "start_time": "2023-01-22T17:22:58.943Z"
   },
   {
    "duration": 12,
    "start_time": "2023-01-22T17:22:58.953Z"
   },
   {
    "duration": 11,
    "start_time": "2023-01-22T17:22:58.992Z"
   },
   {
    "duration": 4,
    "start_time": "2023-01-22T17:22:59.005Z"
   },
   {
    "duration": 28,
    "start_time": "2023-01-22T17:22:59.011Z"
   },
   {
    "duration": 19,
    "start_time": "2023-01-22T17:22:59.040Z"
   },
   {
    "duration": 42,
    "start_time": "2023-01-22T17:22:59.061Z"
   },
   {
    "duration": 14,
    "start_time": "2023-01-22T17:22:59.105Z"
   },
   {
    "duration": 18,
    "start_time": "2023-01-22T17:22:59.120Z"
   },
   {
    "duration": 16,
    "start_time": "2023-01-22T17:22:59.139Z"
   },
   {
    "duration": 35,
    "start_time": "2023-01-22T17:22:59.157Z"
   },
   {
    "duration": 22,
    "start_time": "2023-01-22T17:22:59.197Z"
   },
   {
    "duration": 11,
    "start_time": "2023-01-22T17:22:59.221Z"
   },
   {
    "duration": 9,
    "start_time": "2023-01-22T17:22:59.234Z"
   },
   {
    "duration": 34,
    "start_time": "2023-01-22T17:22:59.245Z"
   },
   {
    "duration": 22,
    "start_time": "2023-01-22T17:22:59.280Z"
   },
   {
    "duration": 30,
    "start_time": "2023-01-22T17:22:59.304Z"
   },
   {
    "duration": 18,
    "start_time": "2023-01-22T17:22:59.336Z"
   },
   {
    "duration": 48,
    "start_time": "2023-01-22T17:22:59.356Z"
   },
   {
    "duration": 18,
    "start_time": "2023-01-22T17:22:59.406Z"
   },
   {
    "duration": 5,
    "start_time": "2023-01-22T17:22:59.426Z"
   },
   {
    "duration": 65,
    "start_time": "2023-01-22T17:22:59.432Z"
   },
   {
    "duration": 12,
    "start_time": "2023-01-22T17:24:34.895Z"
   },
   {
    "duration": 5,
    "start_time": "2023-01-22T17:24:44.672Z"
   },
   {
    "duration": 7,
    "start_time": "2023-01-22T17:25:52.634Z"
   },
   {
    "duration": 5,
    "start_time": "2023-01-22T17:26:02.354Z"
   },
   {
    "duration": 55,
    "start_time": "2023-01-22T17:55:13.477Z"
   },
   {
    "duration": 84,
    "start_time": "2023-01-22T17:58:51.131Z"
   },
   {
    "duration": 8,
    "start_time": "2023-01-22T18:03:57.107Z"
   },
   {
    "duration": 10,
    "start_time": "2023-01-22T18:04:12.756Z"
   },
   {
    "duration": 373,
    "start_time": "2023-01-22T18:04:22.454Z"
   },
   {
    "duration": 184,
    "start_time": "2023-01-22T18:04:22.830Z"
   },
   {
    "duration": 9,
    "start_time": "2023-01-22T18:04:23.016Z"
   },
   {
    "duration": 32,
    "start_time": "2023-01-22T18:04:23.027Z"
   },
   {
    "duration": 3,
    "start_time": "2023-01-22T18:04:23.061Z"
   },
   {
    "duration": 27,
    "start_time": "2023-01-22T18:04:23.065Z"
   },
   {
    "duration": 18,
    "start_time": "2023-01-22T18:04:23.094Z"
   },
   {
    "duration": 11,
    "start_time": "2023-01-22T18:04:23.114Z"
   },
   {
    "duration": 40,
    "start_time": "2023-01-22T18:04:23.127Z"
   },
   {
    "duration": 37,
    "start_time": "2023-01-22T18:04:23.171Z"
   },
   {
    "duration": 35,
    "start_time": "2023-01-22T18:04:23.210Z"
   },
   {
    "duration": 91,
    "start_time": "2023-01-22T18:04:23.247Z"
   },
   {
    "duration": 80,
    "start_time": "2023-01-22T18:04:23.340Z"
   },
   {
    "duration": 57,
    "start_time": "2023-01-22T18:04:23.422Z"
   },
   {
    "duration": 35,
    "start_time": "2023-01-22T18:04:23.491Z"
   },
   {
    "duration": 12,
    "start_time": "2023-01-22T18:04:23.528Z"
   },
   {
    "duration": 8,
    "start_time": "2023-01-22T18:04:23.542Z"
   },
   {
    "duration": 12,
    "start_time": "2023-01-22T18:04:23.551Z"
   },
   {
    "duration": 10,
    "start_time": "2023-01-22T18:04:23.592Z"
   },
   {
    "duration": 4,
    "start_time": "2023-01-22T18:04:23.603Z"
   },
   {
    "duration": 19,
    "start_time": "2023-01-22T18:04:23.608Z"
   },
   {
    "duration": 14,
    "start_time": "2023-01-22T18:04:23.628Z"
   },
   {
    "duration": 13,
    "start_time": "2023-01-22T18:04:23.644Z"
   },
   {
    "duration": 42,
    "start_time": "2023-01-22T18:04:23.659Z"
   },
   {
    "duration": 16,
    "start_time": "2023-01-22T18:04:23.703Z"
   },
   {
    "duration": 14,
    "start_time": "2023-01-22T18:04:23.721Z"
   },
   {
    "duration": 7,
    "start_time": "2023-01-22T18:04:23.736Z"
   },
   {
    "duration": 10,
    "start_time": "2023-01-22T18:04:23.746Z"
   },
   {
    "duration": 42,
    "start_time": "2023-01-22T18:04:23.758Z"
   },
   {
    "duration": 5,
    "start_time": "2023-01-22T18:04:23.802Z"
   },
   {
    "duration": 37,
    "start_time": "2023-01-22T18:04:23.809Z"
   },
   {
    "duration": 44,
    "start_time": "2023-01-22T18:04:23.848Z"
   },
   {
    "duration": 24,
    "start_time": "2023-01-22T18:04:23.893Z"
   },
   {
    "duration": 19,
    "start_time": "2023-01-22T18:04:23.918Z"
   },
   {
    "duration": 86,
    "start_time": "2023-01-22T18:04:23.938Z"
   },
   {
    "duration": 0,
    "start_time": "2023-01-22T18:04:24.025Z"
   },
   {
    "duration": 0,
    "start_time": "2023-01-22T18:04:24.026Z"
   },
   {
    "duration": 0,
    "start_time": "2023-01-22T18:04:24.027Z"
   },
   {
    "duration": 0,
    "start_time": "2023-01-22T18:04:24.028Z"
   },
   {
    "duration": 10,
    "start_time": "2023-01-22T18:07:24.287Z"
   },
   {
    "duration": 8,
    "start_time": "2023-01-22T18:10:06.233Z"
   },
   {
    "duration": 410,
    "start_time": "2023-01-22T18:10:16.617Z"
   },
   {
    "duration": 210,
    "start_time": "2023-01-22T18:10:17.029Z"
   },
   {
    "duration": 7,
    "start_time": "2023-01-22T18:10:17.241Z"
   },
   {
    "duration": 44,
    "start_time": "2023-01-22T18:10:17.250Z"
   },
   {
    "duration": 3,
    "start_time": "2023-01-22T18:10:17.298Z"
   },
   {
    "duration": 11,
    "start_time": "2023-01-22T18:10:17.302Z"
   },
   {
    "duration": 25,
    "start_time": "2023-01-22T18:10:17.316Z"
   },
   {
    "duration": 12,
    "start_time": "2023-01-22T18:10:17.344Z"
   },
   {
    "duration": 27,
    "start_time": "2023-01-22T18:10:17.358Z"
   },
   {
    "duration": 25,
    "start_time": "2023-01-22T18:10:17.386Z"
   },
   {
    "duration": 23,
    "start_time": "2023-01-22T18:10:17.413Z"
   },
   {
    "duration": 82,
    "start_time": "2023-01-22T18:10:17.438Z"
   },
   {
    "duration": 87,
    "start_time": "2023-01-22T18:10:17.521Z"
   },
   {
    "duration": 62,
    "start_time": "2023-01-22T18:10:17.612Z"
   },
   {
    "duration": 48,
    "start_time": "2023-01-22T18:10:17.675Z"
   },
   {
    "duration": 10,
    "start_time": "2023-01-22T18:10:17.725Z"
   },
   {
    "duration": 29,
    "start_time": "2023-01-22T18:10:17.737Z"
   },
   {
    "duration": 15,
    "start_time": "2023-01-22T18:10:17.767Z"
   },
   {
    "duration": 13,
    "start_time": "2023-01-22T18:10:17.784Z"
   },
   {
    "duration": 5,
    "start_time": "2023-01-22T18:10:17.798Z"
   },
   {
    "duration": 24,
    "start_time": "2023-01-22T18:10:17.805Z"
   },
   {
    "duration": 14,
    "start_time": "2023-01-22T18:10:17.830Z"
   },
   {
    "duration": 15,
    "start_time": "2023-01-22T18:10:17.845Z"
   },
   {
    "duration": 41,
    "start_time": "2023-01-22T18:10:17.862Z"
   },
   {
    "duration": 39,
    "start_time": "2023-01-22T18:10:17.905Z"
   },
   {
    "duration": 17,
    "start_time": "2023-01-22T18:10:17.946Z"
   },
   {
    "duration": 7,
    "start_time": "2023-01-22T18:10:17.966Z"
   },
   {
    "duration": 19,
    "start_time": "2023-01-22T18:10:17.976Z"
   },
   {
    "duration": 23,
    "start_time": "2023-01-22T18:10:17.997Z"
   },
   {
    "duration": 11,
    "start_time": "2023-01-22T18:10:18.021Z"
   },
   {
    "duration": 30,
    "start_time": "2023-01-22T18:10:18.034Z"
   },
   {
    "duration": 18,
    "start_time": "2023-01-22T18:10:18.066Z"
   },
   {
    "duration": 23,
    "start_time": "2023-01-22T18:10:18.092Z"
   },
   {
    "duration": 16,
    "start_time": "2023-01-22T18:10:18.117Z"
   },
   {
    "duration": 116,
    "start_time": "2023-01-22T18:10:18.135Z"
   },
   {
    "duration": 0,
    "start_time": "2023-01-22T18:10:18.254Z"
   },
   {
    "duration": 0,
    "start_time": "2023-01-22T18:10:18.255Z"
   },
   {
    "duration": 0,
    "start_time": "2023-01-22T18:10:18.256Z"
   },
   {
    "duration": 0,
    "start_time": "2023-01-22T18:10:18.258Z"
   },
   {
    "duration": 10,
    "start_time": "2023-01-22T18:13:06.747Z"
   },
   {
    "duration": 9,
    "start_time": "2023-01-22T18:18:20.070Z"
   },
   {
    "duration": 40,
    "start_time": "2023-01-22T18:23:17.054Z"
   },
   {
    "duration": 8,
    "start_time": "2023-01-22T18:25:00.242Z"
   },
   {
    "duration": 59,
    "start_time": "2023-01-22T18:29:42.065Z"
   },
   {
    "duration": 5,
    "start_time": "2023-01-22T18:35:23.197Z"
   },
   {
    "duration": 5,
    "start_time": "2023-01-22T18:35:28.380Z"
   },
   {
    "duration": 6,
    "start_time": "2023-01-22T18:38:08.296Z"
   },
   {
    "duration": 6,
    "start_time": "2023-01-22T18:39:37.707Z"
   },
   {
    "duration": 7,
    "start_time": "2023-01-22T18:40:39.690Z"
   },
   {
    "duration": 7,
    "start_time": "2023-01-22T18:41:29.171Z"
   },
   {
    "duration": 4,
    "start_time": "2023-01-22T18:44:51.071Z"
   },
   {
    "duration": 1235,
    "start_time": "2023-01-22T18:45:33.356Z"
   },
   {
    "duration": 5,
    "start_time": "2023-01-22T18:48:24.362Z"
   },
   {
    "duration": 7,
    "start_time": "2023-01-22T18:48:42.123Z"
   },
   {
    "duration": 4,
    "start_time": "2023-01-22T18:48:55.876Z"
   },
   {
    "duration": 11,
    "start_time": "2023-01-22T18:50:38.157Z"
   },
   {
    "duration": 1079,
    "start_time": "2023-01-22T18:50:40.726Z"
   },
   {
    "duration": 1127,
    "start_time": "2023-01-22T18:52:26.624Z"
   },
   {
    "duration": 415,
    "start_time": "2023-01-22T18:52:56.553Z"
   },
   {
    "duration": 200,
    "start_time": "2023-01-22T18:52:56.970Z"
   },
   {
    "duration": 10,
    "start_time": "2023-01-22T18:52:57.172Z"
   },
   {
    "duration": 49,
    "start_time": "2023-01-22T18:52:57.184Z"
   },
   {
    "duration": 6,
    "start_time": "2023-01-22T18:52:57.235Z"
   },
   {
    "duration": 6,
    "start_time": "2023-01-22T18:52:57.243Z"
   },
   {
    "duration": 16,
    "start_time": "2023-01-22T18:52:57.251Z"
   },
   {
    "duration": 44,
    "start_time": "2023-01-22T18:52:57.269Z"
   },
   {
    "duration": 26,
    "start_time": "2023-01-22T18:52:57.315Z"
   },
   {
    "duration": 20,
    "start_time": "2023-01-22T18:52:57.344Z"
   },
   {
    "duration": 48,
    "start_time": "2023-01-22T18:52:57.367Z"
   },
   {
    "duration": 95,
    "start_time": "2023-01-22T18:52:57.417Z"
   },
   {
    "duration": 105,
    "start_time": "2023-01-22T18:52:57.514Z"
   },
   {
    "duration": 59,
    "start_time": "2023-01-22T18:52:57.628Z"
   },
   {
    "duration": 52,
    "start_time": "2023-01-22T18:52:57.688Z"
   },
   {
    "duration": 10,
    "start_time": "2023-01-22T18:52:57.742Z"
   },
   {
    "duration": 50,
    "start_time": "2023-01-22T18:52:57.754Z"
   },
   {
    "duration": 19,
    "start_time": "2023-01-22T18:52:57.806Z"
   },
   {
    "duration": 20,
    "start_time": "2023-01-22T18:52:57.827Z"
   },
   {
    "duration": 5,
    "start_time": "2023-01-22T18:52:57.850Z"
   },
   {
    "duration": 31,
    "start_time": "2023-01-22T18:52:57.856Z"
   },
   {
    "duration": 22,
    "start_time": "2023-01-22T18:52:57.899Z"
   },
   {
    "duration": 27,
    "start_time": "2023-01-22T18:52:57.924Z"
   },
   {
    "duration": 17,
    "start_time": "2023-01-22T18:52:57.954Z"
   },
   {
    "duration": 44,
    "start_time": "2023-01-22T18:52:57.972Z"
   },
   {
    "duration": 17,
    "start_time": "2023-01-22T18:52:58.019Z"
   },
   {
    "duration": 8,
    "start_time": "2023-01-22T18:52:58.038Z"
   },
   {
    "duration": 18,
    "start_time": "2023-01-22T18:52:58.050Z"
   },
   {
    "duration": 30,
    "start_time": "2023-01-22T18:52:58.070Z"
   },
   {
    "duration": 35,
    "start_time": "2023-01-22T18:52:58.105Z"
   },
   {
    "duration": 29,
    "start_time": "2023-01-22T18:52:58.141Z"
   },
   {
    "duration": 14,
    "start_time": "2023-01-22T18:52:58.172Z"
   },
   {
    "duration": 30,
    "start_time": "2023-01-22T18:52:58.188Z"
   },
   {
    "duration": 28,
    "start_time": "2023-01-22T18:52:58.220Z"
   },
   {
    "duration": 110,
    "start_time": "2023-01-22T18:52:58.250Z"
   },
   {
    "duration": 0,
    "start_time": "2023-01-22T18:52:58.361Z"
   },
   {
    "duration": 0,
    "start_time": "2023-01-22T18:52:58.363Z"
   },
   {
    "duration": 0,
    "start_time": "2023-01-22T18:52:58.364Z"
   },
   {
    "duration": 0,
    "start_time": "2023-01-22T18:52:58.365Z"
   },
   {
    "duration": 1385,
    "start_time": "2023-01-22T18:53:36.547Z"
   },
   {
    "duration": 15,
    "start_time": "2023-01-22T18:53:46.744Z"
   },
   {
    "duration": 1317,
    "start_time": "2023-01-22T18:54:01.616Z"
   },
   {
    "duration": 374,
    "start_time": "2023-01-22T18:54:21.147Z"
   },
   {
    "duration": 196,
    "start_time": "2023-01-22T18:54:21.523Z"
   },
   {
    "duration": 7,
    "start_time": "2023-01-22T18:54:21.721Z"
   },
   {
    "duration": 44,
    "start_time": "2023-01-22T18:54:21.732Z"
   },
   {
    "duration": 24,
    "start_time": "2023-01-22T18:54:21.778Z"
   },
   {
    "duration": 4,
    "start_time": "2023-01-22T18:54:21.803Z"
   },
   {
    "duration": 16,
    "start_time": "2023-01-22T18:54:21.809Z"
   },
   {
    "duration": 5,
    "start_time": "2023-01-22T18:54:21.826Z"
   },
   {
    "duration": 23,
    "start_time": "2023-01-22T18:54:21.832Z"
   },
   {
    "duration": 21,
    "start_time": "2023-01-22T18:54:21.857Z"
   },
   {
    "duration": 26,
    "start_time": "2023-01-22T18:54:21.897Z"
   },
   {
    "duration": 87,
    "start_time": "2023-01-22T18:54:21.925Z"
   },
   {
    "duration": 67,
    "start_time": "2023-01-22T18:54:22.014Z"
   },
   {
    "duration": 74,
    "start_time": "2023-01-22T18:54:22.082Z"
   },
   {
    "duration": 54,
    "start_time": "2023-01-22T18:54:22.158Z"
   },
   {
    "duration": 12,
    "start_time": "2023-01-22T18:54:22.214Z"
   },
   {
    "duration": 36,
    "start_time": "2023-01-22T18:54:22.228Z"
   },
   {
    "duration": 36,
    "start_time": "2023-01-22T18:54:22.266Z"
   },
   {
    "duration": 17,
    "start_time": "2023-01-22T18:54:22.303Z"
   },
   {
    "duration": 7,
    "start_time": "2023-01-22T18:54:22.322Z"
   },
   {
    "duration": 20,
    "start_time": "2023-01-22T18:54:22.330Z"
   },
   {
    "duration": 18,
    "start_time": "2023-01-22T18:54:22.353Z"
   },
   {
    "duration": 33,
    "start_time": "2023-01-22T18:54:22.373Z"
   },
   {
    "duration": 17,
    "start_time": "2023-01-22T18:54:22.412Z"
   },
   {
    "duration": 16,
    "start_time": "2023-01-22T18:54:22.430Z"
   },
   {
    "duration": 15,
    "start_time": "2023-01-22T18:54:22.447Z"
   },
   {
    "duration": 33,
    "start_time": "2023-01-22T18:54:22.464Z"
   },
   {
    "duration": 12,
    "start_time": "2023-01-22T18:54:22.506Z"
   },
   {
    "duration": 9,
    "start_time": "2023-01-22T18:54:22.520Z"
   },
   {
    "duration": 5,
    "start_time": "2023-01-22T18:54:22.531Z"
   },
   {
    "duration": 19,
    "start_time": "2023-01-22T18:54:22.538Z"
   },
   {
    "duration": 40,
    "start_time": "2023-01-22T18:54:22.559Z"
   },
   {
    "duration": 25,
    "start_time": "2023-01-22T18:54:22.602Z"
   },
   {
    "duration": 13,
    "start_time": "2023-01-22T18:54:22.629Z"
   },
   {
    "duration": 105,
    "start_time": "2023-01-22T18:54:22.644Z"
   },
   {
    "duration": 0,
    "start_time": "2023-01-22T18:54:22.751Z"
   },
   {
    "duration": 0,
    "start_time": "2023-01-22T18:54:22.752Z"
   },
   {
    "duration": 0,
    "start_time": "2023-01-22T18:54:22.753Z"
   },
   {
    "duration": 0,
    "start_time": "2023-01-22T18:54:22.755Z"
   },
   {
    "duration": 1345,
    "start_time": "2023-01-22T18:57:42.365Z"
   },
   {
    "duration": 1325,
    "start_time": "2023-01-22T19:02:47.536Z"
   },
   {
    "duration": 75,
    "start_time": "2023-01-22T19:05:56.707Z"
   },
   {
    "duration": 6,
    "start_time": "2023-01-22T19:06:16.624Z"
   },
   {
    "duration": 1262,
    "start_time": "2023-01-22T19:06:21.158Z"
   },
   {
    "duration": 4,
    "start_time": "2023-01-22T19:06:31.036Z"
   },
   {
    "duration": 10,
    "start_time": "2023-01-22T19:12:35.274Z"
   },
   {
    "duration": 441,
    "start_time": "2023-01-23T05:45:16.520Z"
   },
   {
    "duration": 279,
    "start_time": "2023-01-23T05:45:16.963Z"
   },
   {
    "duration": 9,
    "start_time": "2023-01-23T05:45:17.244Z"
   },
   {
    "duration": 60,
    "start_time": "2023-01-23T05:45:17.255Z"
   },
   {
    "duration": 16,
    "start_time": "2023-01-23T05:45:17.317Z"
   },
   {
    "duration": 18,
    "start_time": "2023-01-23T05:45:17.335Z"
   },
   {
    "duration": 19,
    "start_time": "2023-01-23T05:45:17.355Z"
   },
   {
    "duration": 11,
    "start_time": "2023-01-23T05:45:17.376Z"
   },
   {
    "duration": 54,
    "start_time": "2023-01-23T05:45:17.389Z"
   },
   {
    "duration": 36,
    "start_time": "2023-01-23T05:45:17.447Z"
   },
   {
    "duration": 42,
    "start_time": "2023-01-23T05:45:17.486Z"
   },
   {
    "duration": 126,
    "start_time": "2023-01-23T05:45:17.530Z"
   },
   {
    "duration": 115,
    "start_time": "2023-01-23T05:45:17.660Z"
   },
   {
    "duration": 108,
    "start_time": "2023-01-23T05:45:17.777Z"
   },
   {
    "duration": 73,
    "start_time": "2023-01-23T05:45:17.887Z"
   },
   {
    "duration": 16,
    "start_time": "2023-01-23T05:45:17.963Z"
   },
   {
    "duration": 74,
    "start_time": "2023-01-23T05:45:17.981Z"
   },
   {
    "duration": 16,
    "start_time": "2023-01-23T05:45:18.057Z"
   },
   {
    "duration": 10,
    "start_time": "2023-01-23T05:45:18.075Z"
   },
   {
    "duration": 5,
    "start_time": "2023-01-23T05:45:18.087Z"
   },
   {
    "duration": 32,
    "start_time": "2023-01-23T05:45:18.094Z"
   },
   {
    "duration": 58,
    "start_time": "2023-01-23T05:45:18.128Z"
   },
   {
    "duration": 36,
    "start_time": "2023-01-23T05:45:18.188Z"
   },
   {
    "duration": 14,
    "start_time": "2023-01-23T05:45:18.226Z"
   },
   {
    "duration": 25,
    "start_time": "2023-01-23T05:45:18.242Z"
   },
   {
    "duration": 21,
    "start_time": "2023-01-23T05:45:18.269Z"
   },
   {
    "duration": 8,
    "start_time": "2023-01-23T05:45:18.293Z"
   },
   {
    "duration": 13,
    "start_time": "2023-01-23T05:45:18.305Z"
   },
   {
    "duration": 39,
    "start_time": "2023-01-23T05:45:18.319Z"
   },
   {
    "duration": 7,
    "start_time": "2023-01-23T05:45:18.362Z"
   },
   {
    "duration": 20,
    "start_time": "2023-01-23T05:45:18.371Z"
   },
   {
    "duration": 14,
    "start_time": "2023-01-23T05:45:18.392Z"
   },
   {
    "duration": 46,
    "start_time": "2023-01-23T05:45:18.408Z"
   },
   {
    "duration": 12,
    "start_time": "2023-01-23T05:45:18.456Z"
   },
   {
    "duration": 134,
    "start_time": "2023-01-23T05:45:18.470Z"
   },
   {
    "duration": 0,
    "start_time": "2023-01-23T05:45:18.606Z"
   },
   {
    "duration": 0,
    "start_time": "2023-01-23T05:45:18.608Z"
   },
   {
    "duration": 0,
    "start_time": "2023-01-23T05:45:18.609Z"
   },
   {
    "duration": 0,
    "start_time": "2023-01-23T05:45:18.611Z"
   },
   {
    "duration": 751,
    "start_time": "2023-01-23T05:45:40.617Z"
   },
   {
    "duration": 427,
    "start_time": "2023-01-23T05:47:52.474Z"
   },
   {
    "duration": 203,
    "start_time": "2023-01-23T05:47:52.903Z"
   },
   {
    "duration": 7,
    "start_time": "2023-01-23T05:47:53.108Z"
   },
   {
    "duration": 104,
    "start_time": "2023-01-23T05:47:53.117Z"
   },
   {
    "duration": 52,
    "start_time": "2023-01-23T05:47:53.223Z"
   },
   {
    "duration": 57,
    "start_time": "2023-01-23T05:47:53.277Z"
   },
   {
    "duration": 59,
    "start_time": "2023-01-23T05:47:53.336Z"
   },
   {
    "duration": 73,
    "start_time": "2023-01-23T05:47:53.396Z"
   },
   {
    "duration": 73,
    "start_time": "2023-01-23T05:47:53.471Z"
   },
   {
    "duration": 47,
    "start_time": "2023-01-23T05:47:53.548Z"
   },
   {
    "duration": 30,
    "start_time": "2023-01-23T05:47:53.597Z"
   },
   {
    "duration": 92,
    "start_time": "2023-01-23T05:47:53.629Z"
   },
   {
    "duration": 91,
    "start_time": "2023-01-23T05:47:53.723Z"
   },
   {
    "duration": 79,
    "start_time": "2023-01-23T05:47:53.815Z"
   },
   {
    "duration": 44,
    "start_time": "2023-01-23T05:47:53.896Z"
   },
   {
    "duration": 20,
    "start_time": "2023-01-23T05:47:53.956Z"
   },
   {
    "duration": 44,
    "start_time": "2023-01-23T05:47:53.978Z"
   },
   {
    "duration": 11,
    "start_time": "2023-01-23T05:47:54.024Z"
   },
   {
    "duration": 41,
    "start_time": "2023-01-23T05:47:54.037Z"
   },
   {
    "duration": 43,
    "start_time": "2023-01-23T05:47:54.080Z"
   },
   {
    "duration": 50,
    "start_time": "2023-01-23T05:47:54.125Z"
   },
   {
    "duration": 21,
    "start_time": "2023-01-23T05:47:54.177Z"
   },
   {
    "duration": 33,
    "start_time": "2023-01-23T05:47:54.200Z"
   },
   {
    "duration": 29,
    "start_time": "2023-01-23T05:47:54.235Z"
   },
   {
    "duration": 27,
    "start_time": "2023-01-23T05:47:54.266Z"
   },
   {
    "duration": 30,
    "start_time": "2023-01-23T05:47:54.294Z"
   },
   {
    "duration": 25,
    "start_time": "2023-01-23T05:47:54.325Z"
   },
   {
    "duration": 36,
    "start_time": "2023-01-23T05:47:54.353Z"
   },
   {
    "duration": 31,
    "start_time": "2023-01-23T05:47:54.391Z"
   },
   {
    "duration": 12,
    "start_time": "2023-01-23T05:47:54.424Z"
   },
   {
    "duration": 857,
    "start_time": "2023-01-23T05:47:54.438Z"
   },
   {
    "duration": 0,
    "start_time": "2023-01-23T05:47:55.297Z"
   },
   {
    "duration": 0,
    "start_time": "2023-01-23T05:47:55.298Z"
   },
   {
    "duration": 0,
    "start_time": "2023-01-23T05:47:55.300Z"
   },
   {
    "duration": 0,
    "start_time": "2023-01-23T05:47:55.301Z"
   },
   {
    "duration": 0,
    "start_time": "2023-01-23T05:47:55.302Z"
   },
   {
    "duration": 0,
    "start_time": "2023-01-23T05:47:55.302Z"
   },
   {
    "duration": 0,
    "start_time": "2023-01-23T05:47:55.303Z"
   },
   {
    "duration": 0,
    "start_time": "2023-01-23T05:47:55.304Z"
   },
   {
    "duration": 816,
    "start_time": "2023-01-23T05:48:11.105Z"
   },
   {
    "duration": 67,
    "start_time": "2023-01-23T05:50:26.621Z"
   },
   {
    "duration": 5,
    "start_time": "2023-01-23T05:50:43.725Z"
   },
   {
    "duration": 5,
    "start_time": "2023-01-23T05:51:19.917Z"
   },
   {
    "duration": 16,
    "start_time": "2023-01-23T05:51:24.126Z"
   },
   {
    "duration": 19,
    "start_time": "2023-01-23T05:51:33.471Z"
   },
   {
    "duration": 6,
    "start_time": "2023-01-23T05:51:47.415Z"
   },
   {
    "duration": 19,
    "start_time": "2023-01-23T05:51:50.484Z"
   },
   {
    "duration": 16,
    "start_time": "2023-01-23T05:51:54.525Z"
   },
   {
    "duration": 8,
    "start_time": "2023-01-23T05:52:17.863Z"
   },
   {
    "duration": 31,
    "start_time": "2023-01-23T05:52:20.342Z"
   },
   {
    "duration": 6,
    "start_time": "2023-01-23T05:52:32.988Z"
   },
   {
    "duration": 25,
    "start_time": "2023-01-23T05:52:35.167Z"
   },
   {
    "duration": 5,
    "start_time": "2023-01-23T05:52:55.895Z"
   },
   {
    "duration": 27,
    "start_time": "2023-01-23T05:52:58.392Z"
   },
   {
    "duration": 15,
    "start_time": "2023-01-23T05:54:18.728Z"
   },
   {
    "duration": 4,
    "start_time": "2023-01-23T05:57:39.971Z"
   },
   {
    "duration": 16,
    "start_time": "2023-01-23T05:57:48.526Z"
   },
   {
    "duration": 20,
    "start_time": "2023-01-23T05:57:54.044Z"
   },
   {
    "duration": 479,
    "start_time": "2023-01-23T05:58:06.879Z"
   },
   {
    "duration": 232,
    "start_time": "2023-01-23T05:58:07.361Z"
   },
   {
    "duration": 9,
    "start_time": "2023-01-23T05:58:07.595Z"
   },
   {
    "duration": 63,
    "start_time": "2023-01-23T05:58:07.607Z"
   },
   {
    "duration": 22,
    "start_time": "2023-01-23T05:58:07.672Z"
   },
   {
    "duration": 21,
    "start_time": "2023-01-23T05:58:07.697Z"
   },
   {
    "duration": 27,
    "start_time": "2023-01-23T05:58:07.720Z"
   },
   {
    "duration": 47,
    "start_time": "2023-01-23T05:58:07.749Z"
   },
   {
    "duration": 41,
    "start_time": "2023-01-23T05:58:07.798Z"
   },
   {
    "duration": 46,
    "start_time": "2023-01-23T05:58:07.842Z"
   },
   {
    "duration": 44,
    "start_time": "2023-01-23T05:58:07.890Z"
   },
   {
    "duration": 88,
    "start_time": "2023-01-23T05:58:07.935Z"
   },
   {
    "duration": 96,
    "start_time": "2023-01-23T05:58:08.024Z"
   },
   {
    "duration": 72,
    "start_time": "2023-01-23T05:58:08.122Z"
   },
   {
    "duration": 39,
    "start_time": "2023-01-23T05:58:08.196Z"
   },
   {
    "duration": 35,
    "start_time": "2023-01-23T05:58:08.237Z"
   },
   {
    "duration": 67,
    "start_time": "2023-01-23T05:58:08.274Z"
   },
   {
    "duration": 14,
    "start_time": "2023-01-23T05:58:08.342Z"
   },
   {
    "duration": 45,
    "start_time": "2023-01-23T05:58:08.360Z"
   },
   {
    "duration": 14,
    "start_time": "2023-01-23T05:58:08.407Z"
   },
   {
    "duration": 73,
    "start_time": "2023-01-23T05:58:08.423Z"
   },
   {
    "duration": 23,
    "start_time": "2023-01-23T05:58:08.497Z"
   },
   {
    "duration": 50,
    "start_time": "2023-01-23T05:58:08.521Z"
   },
   {
    "duration": 32,
    "start_time": "2023-01-23T05:58:08.573Z"
   },
   {
    "duration": 63,
    "start_time": "2023-01-23T05:58:08.607Z"
   },
   {
    "duration": 37,
    "start_time": "2023-01-23T05:58:08.672Z"
   },
   {
    "duration": 81,
    "start_time": "2023-01-23T05:58:08.711Z"
   },
   {
    "duration": 25,
    "start_time": "2023-01-23T05:58:08.796Z"
   },
   {
    "duration": 37,
    "start_time": "2023-01-23T05:58:08.823Z"
   },
   {
    "duration": 21,
    "start_time": "2023-01-23T05:58:08.867Z"
   },
   {
    "duration": 49,
    "start_time": "2023-01-23T05:58:08.890Z"
   },
   {
    "duration": 39,
    "start_time": "2023-01-23T05:58:08.940Z"
   },
   {
    "duration": 29,
    "start_time": "2023-01-23T05:58:08.981Z"
   },
   {
    "duration": 27,
    "start_time": "2023-01-23T05:58:09.011Z"
   },
   {
    "duration": 105,
    "start_time": "2023-01-23T05:58:09.039Z"
   },
   {
    "duration": 0,
    "start_time": "2023-01-23T05:58:09.146Z"
   },
   {
    "duration": 0,
    "start_time": "2023-01-23T05:58:09.147Z"
   },
   {
    "duration": 0,
    "start_time": "2023-01-23T05:58:09.148Z"
   },
   {
    "duration": 0,
    "start_time": "2023-01-23T05:58:09.150Z"
   },
   {
    "duration": 767,
    "start_time": "2023-01-23T05:58:32.316Z"
   },
   {
    "duration": 4,
    "start_time": "2023-01-23T05:58:44.037Z"
   },
   {
    "duration": 934,
    "start_time": "2023-01-23T05:58:46.838Z"
   },
   {
    "duration": 774,
    "start_time": "2023-01-23T05:58:51.773Z"
   },
   {
    "duration": 14,
    "start_time": "2023-01-23T05:58:53.877Z"
   },
   {
    "duration": 846,
    "start_time": "2023-01-23T05:59:10.406Z"
   },
   {
    "duration": 6,
    "start_time": "2023-01-23T05:59:47.387Z"
   },
   {
    "duration": 878,
    "start_time": "2023-01-23T05:59:51.688Z"
   },
   {
    "duration": 7,
    "start_time": "2023-01-23T06:00:10.465Z"
   },
   {
    "duration": 812,
    "start_time": "2023-01-23T06:00:13.056Z"
   },
   {
    "duration": 4,
    "start_time": "2023-01-23T06:00:36.911Z"
   },
   {
    "duration": 4,
    "start_time": "2023-01-23T06:01:05.144Z"
   },
   {
    "duration": 5,
    "start_time": "2023-01-23T06:01:19.104Z"
   },
   {
    "duration": 6,
    "start_time": "2023-01-23T06:13:14.876Z"
   },
   {
    "duration": 5,
    "start_time": "2023-01-23T06:13:20.883Z"
   },
   {
    "duration": 11,
    "start_time": "2023-01-23T06:13:25.207Z"
   },
   {
    "duration": 10,
    "start_time": "2023-01-23T06:13:59.367Z"
   },
   {
    "duration": 404,
    "start_time": "2023-01-23T07:43:36.787Z"
   },
   {
    "duration": 238,
    "start_time": "2023-01-23T07:43:37.193Z"
   },
   {
    "duration": 8,
    "start_time": "2023-01-23T07:43:37.433Z"
   },
   {
    "duration": 77,
    "start_time": "2023-01-23T07:43:37.461Z"
   },
   {
    "duration": 5,
    "start_time": "2023-01-23T07:43:37.540Z"
   },
   {
    "duration": 41,
    "start_time": "2023-01-23T07:43:37.547Z"
   },
   {
    "duration": 36,
    "start_time": "2023-01-23T07:43:37.590Z"
   },
   {
    "duration": 15,
    "start_time": "2023-01-23T07:43:37.628Z"
   },
   {
    "duration": 79,
    "start_time": "2023-01-23T07:43:37.646Z"
   },
   {
    "duration": 48,
    "start_time": "2023-01-23T07:43:37.731Z"
   },
   {
    "duration": 53,
    "start_time": "2023-01-23T07:43:37.781Z"
   },
   {
    "duration": 76,
    "start_time": "2023-01-23T07:43:37.836Z"
   },
   {
    "duration": 87,
    "start_time": "2023-01-23T07:43:37.914Z"
   },
   {
    "duration": 80,
    "start_time": "2023-01-23T07:43:38.002Z"
   },
   {
    "duration": 41,
    "start_time": "2023-01-23T07:43:38.084Z"
   },
   {
    "duration": 37,
    "start_time": "2023-01-23T07:43:38.127Z"
   },
   {
    "duration": 43,
    "start_time": "2023-01-23T07:43:38.169Z"
   },
   {
    "duration": 11,
    "start_time": "2023-01-23T07:43:38.214Z"
   },
   {
    "duration": 18,
    "start_time": "2023-01-23T07:43:38.227Z"
   },
   {
    "duration": 30,
    "start_time": "2023-01-23T07:43:38.247Z"
   },
   {
    "duration": 26,
    "start_time": "2023-01-23T07:43:38.279Z"
   },
   {
    "duration": 16,
    "start_time": "2023-01-23T07:43:38.306Z"
   },
   {
    "duration": 14,
    "start_time": "2023-01-23T07:43:38.324Z"
   },
   {
    "duration": 40,
    "start_time": "2023-01-23T07:43:38.340Z"
   },
   {
    "duration": 39,
    "start_time": "2023-01-23T07:43:38.382Z"
   },
   {
    "duration": 20,
    "start_time": "2023-01-23T07:43:38.423Z"
   },
   {
    "duration": 14,
    "start_time": "2023-01-23T07:43:38.445Z"
   },
   {
    "duration": 55,
    "start_time": "2023-01-23T07:43:38.464Z"
   },
   {
    "duration": 36,
    "start_time": "2023-01-23T07:43:38.521Z"
   },
   {
    "duration": 38,
    "start_time": "2023-01-23T07:43:38.559Z"
   },
   {
    "duration": 53,
    "start_time": "2023-01-23T07:43:38.599Z"
   },
   {
    "duration": 47,
    "start_time": "2023-01-23T07:43:38.655Z"
   },
   {
    "duration": 42,
    "start_time": "2023-01-23T07:43:38.704Z"
   },
   {
    "duration": 40,
    "start_time": "2023-01-23T07:43:38.747Z"
   },
   {
    "duration": 89,
    "start_time": "2023-01-23T07:43:38.789Z"
   },
   {
    "duration": 0,
    "start_time": "2023-01-23T07:43:38.879Z"
   },
   {
    "duration": 0,
    "start_time": "2023-01-23T07:43:38.881Z"
   },
   {
    "duration": 0,
    "start_time": "2023-01-23T07:43:38.882Z"
   },
   {
    "duration": 0,
    "start_time": "2023-01-23T07:43:38.883Z"
   },
   {
    "duration": 9,
    "start_time": "2023-01-23T07:44:09.328Z"
   },
   {
    "duration": 7,
    "start_time": "2023-01-23T07:58:54.167Z"
   },
   {
    "duration": 875,
    "start_time": "2023-01-23T07:58:57.464Z"
   },
   {
    "duration": 826,
    "start_time": "2023-01-23T07:59:07.802Z"
   },
   {
    "duration": 13,
    "start_time": "2023-01-23T07:59:14.131Z"
   },
   {
    "duration": 9,
    "start_time": "2023-01-23T07:59:30.708Z"
   },
   {
    "duration": 70,
    "start_time": "2023-01-23T08:00:04.437Z"
   },
   {
    "duration": 8,
    "start_time": "2023-01-23T08:00:22.908Z"
   },
   {
    "duration": 17,
    "start_time": "2023-01-23T08:00:40.452Z"
   },
   {
    "duration": 14,
    "start_time": "2023-01-23T08:01:34.531Z"
   },
   {
    "duration": 9,
    "start_time": "2023-01-23T08:06:21.849Z"
   },
   {
    "duration": 1149,
    "start_time": "2023-01-23T08:06:25.329Z"
   },
   {
    "duration": 477,
    "start_time": "2023-01-23T08:15:17.170Z"
   },
   {
    "duration": 185,
    "start_time": "2023-01-23T08:15:17.650Z"
   },
   {
    "duration": 7,
    "start_time": "2023-01-23T08:15:17.836Z"
   },
   {
    "duration": 57,
    "start_time": "2023-01-23T08:15:17.844Z"
   },
   {
    "duration": 2,
    "start_time": "2023-01-23T08:15:17.903Z"
   },
   {
    "duration": 7,
    "start_time": "2023-01-23T08:15:17.907Z"
   },
   {
    "duration": 13,
    "start_time": "2023-01-23T08:15:17.916Z"
   },
   {
    "duration": 9,
    "start_time": "2023-01-23T08:15:17.931Z"
   },
   {
    "duration": 40,
    "start_time": "2023-01-23T08:15:17.941Z"
   },
   {
    "duration": 25,
    "start_time": "2023-01-23T08:15:17.983Z"
   },
   {
    "duration": 26,
    "start_time": "2023-01-23T08:15:18.010Z"
   },
   {
    "duration": 114,
    "start_time": "2023-01-23T08:15:18.038Z"
   },
   {
    "duration": 72,
    "start_time": "2023-01-23T08:15:18.154Z"
   },
   {
    "duration": 75,
    "start_time": "2023-01-23T08:15:18.228Z"
   },
   {
    "duration": 41,
    "start_time": "2023-01-23T08:15:18.304Z"
   },
   {
    "duration": 21,
    "start_time": "2023-01-23T08:15:18.353Z"
   },
   {
    "duration": 44,
    "start_time": "2023-01-23T08:15:18.377Z"
   },
   {
    "duration": 11,
    "start_time": "2023-01-23T08:15:18.423Z"
   },
   {
    "duration": 35,
    "start_time": "2023-01-23T08:15:18.436Z"
   },
   {
    "duration": 5,
    "start_time": "2023-01-23T08:15:18.474Z"
   },
   {
    "duration": 22,
    "start_time": "2023-01-23T08:15:18.481Z"
   },
   {
    "duration": 14,
    "start_time": "2023-01-23T08:15:18.505Z"
   },
   {
    "duration": 15,
    "start_time": "2023-01-23T08:15:18.520Z"
   },
   {
    "duration": 20,
    "start_time": "2023-01-23T08:15:18.553Z"
   },
   {
    "duration": 20,
    "start_time": "2023-01-23T08:15:18.574Z"
   },
   {
    "duration": 15,
    "start_time": "2023-01-23T08:15:18.596Z"
   },
   {
    "duration": 7,
    "start_time": "2023-01-23T08:15:18.613Z"
   },
   {
    "duration": 33,
    "start_time": "2023-01-23T08:15:18.623Z"
   },
   {
    "duration": 14,
    "start_time": "2023-01-23T08:15:18.658Z"
   },
   {
    "duration": 10,
    "start_time": "2023-01-23T08:15:18.674Z"
   },
   {
    "duration": 20,
    "start_time": "2023-01-23T08:15:18.686Z"
   },
   {
    "duration": 14,
    "start_time": "2023-01-23T08:15:18.708Z"
   },
   {
    "duration": 13,
    "start_time": "2023-01-23T08:15:18.724Z"
   },
   {
    "duration": 26,
    "start_time": "2023-01-23T08:15:18.739Z"
   },
   {
    "duration": 82,
    "start_time": "2023-01-23T08:15:18.767Z"
   },
   {
    "duration": 0,
    "start_time": "2023-01-23T08:15:18.855Z"
   },
   {
    "duration": 0,
    "start_time": "2023-01-23T08:15:18.856Z"
   },
   {
    "duration": 0,
    "start_time": "2023-01-23T08:15:18.856Z"
   },
   {
    "duration": 0,
    "start_time": "2023-01-23T08:15:18.864Z"
   },
   {
    "duration": 6,
    "start_time": "2023-01-23T08:15:25.133Z"
   },
   {
    "duration": 6,
    "start_time": "2023-01-23T09:11:30.252Z"
   },
   {
    "duration": 836,
    "start_time": "2023-01-23T09:11:33.640Z"
   },
   {
    "duration": 15,
    "start_time": "2023-01-23T09:11:54.830Z"
   },
   {
    "duration": 14,
    "start_time": "2023-01-23T09:11:56.838Z"
   },
   {
    "duration": 16,
    "start_time": "2023-01-23T09:12:24.585Z"
   },
   {
    "duration": 13,
    "start_time": "2023-01-23T09:12:26.194Z"
   },
   {
    "duration": 10,
    "start_time": "2023-01-23T09:12:31.451Z"
   },
   {
    "duration": 14,
    "start_time": "2023-01-23T09:12:37.292Z"
   },
   {
    "duration": 12,
    "start_time": "2023-01-23T09:12:40.399Z"
   },
   {
    "duration": 9,
    "start_time": "2023-01-23T09:13:38.907Z"
   },
   {
    "duration": 13,
    "start_time": "2023-01-23T09:13:48.872Z"
   },
   {
    "duration": 5,
    "start_time": "2023-01-23T09:14:09.389Z"
   },
   {
    "duration": 13,
    "start_time": "2023-01-23T09:14:12.681Z"
   },
   {
    "duration": 21,
    "start_time": "2023-01-23T09:14:15.751Z"
   },
   {
    "duration": 14,
    "start_time": "2023-01-23T09:14:40.269Z"
   },
   {
    "duration": 12,
    "start_time": "2023-01-23T09:14:41.588Z"
   },
   {
    "duration": 6,
    "start_time": "2023-01-23T09:14:44.048Z"
   },
   {
    "duration": 10,
    "start_time": "2023-01-23T09:14:47.375Z"
   },
   {
    "duration": 19,
    "start_time": "2023-01-23T09:17:06.865Z"
   },
   {
    "duration": 22,
    "start_time": "2023-01-23T09:17:17.685Z"
   },
   {
    "duration": 9,
    "start_time": "2023-01-23T09:17:18.673Z"
   },
   {
    "duration": 12,
    "start_time": "2023-01-23T09:18:04.321Z"
   },
   {
    "duration": 16,
    "start_time": "2023-01-23T09:18:40.591Z"
   },
   {
    "duration": 5,
    "start_time": "2023-01-23T09:22:16.041Z"
   },
   {
    "duration": 28,
    "start_time": "2023-01-23T09:22:20.388Z"
   },
   {
    "duration": 487,
    "start_time": "2023-01-23T09:23:03.334Z"
   },
   {
    "duration": 203,
    "start_time": "2023-01-23T09:23:03.823Z"
   },
   {
    "duration": 7,
    "start_time": "2023-01-23T09:23:04.028Z"
   },
   {
    "duration": 50,
    "start_time": "2023-01-23T09:23:04.053Z"
   },
   {
    "duration": 3,
    "start_time": "2023-01-23T09:23:04.104Z"
   },
   {
    "duration": 17,
    "start_time": "2023-01-23T09:23:04.109Z"
   },
   {
    "duration": 29,
    "start_time": "2023-01-23T09:23:04.128Z"
   },
   {
    "duration": 26,
    "start_time": "2023-01-23T09:23:04.164Z"
   },
   {
    "duration": 45,
    "start_time": "2023-01-23T09:23:04.192Z"
   },
   {
    "duration": 35,
    "start_time": "2023-01-23T09:23:04.240Z"
   },
   {
    "duration": 32,
    "start_time": "2023-01-23T09:23:04.276Z"
   },
   {
    "duration": 95,
    "start_time": "2023-01-23T09:23:04.310Z"
   },
   {
    "duration": 96,
    "start_time": "2023-01-23T09:23:04.407Z"
   },
   {
    "duration": 83,
    "start_time": "2023-01-23T09:23:04.505Z"
   },
   {
    "duration": 42,
    "start_time": "2023-01-23T09:23:04.589Z"
   },
   {
    "duration": 22,
    "start_time": "2023-01-23T09:23:04.656Z"
   },
   {
    "duration": 46,
    "start_time": "2023-01-23T09:23:04.680Z"
   },
   {
    "duration": 11,
    "start_time": "2023-01-23T09:23:04.727Z"
   },
   {
    "duration": 49,
    "start_time": "2023-01-23T09:23:04.740Z"
   },
   {
    "duration": 9,
    "start_time": "2023-01-23T09:23:04.791Z"
   },
   {
    "duration": 33,
    "start_time": "2023-01-23T09:23:04.802Z"
   },
   {
    "duration": 26,
    "start_time": "2023-01-23T09:23:04.837Z"
   },
   {
    "duration": 32,
    "start_time": "2023-01-23T09:23:04.864Z"
   },
   {
    "duration": 24,
    "start_time": "2023-01-23T09:23:04.898Z"
   },
   {
    "duration": 41,
    "start_time": "2023-01-23T09:23:04.924Z"
   },
   {
    "duration": 20,
    "start_time": "2023-01-23T09:23:04.970Z"
   },
   {
    "duration": 15,
    "start_time": "2023-01-23T09:23:04.991Z"
   },
   {
    "duration": 30,
    "start_time": "2023-01-23T09:23:05.010Z"
   },
   {
    "duration": 23,
    "start_time": "2023-01-23T09:23:05.042Z"
   },
   {
    "duration": 25,
    "start_time": "2023-01-23T09:23:05.067Z"
   },
   {
    "duration": 65,
    "start_time": "2023-01-23T09:23:05.094Z"
   },
   {
    "duration": 18,
    "start_time": "2023-01-23T09:23:05.161Z"
   },
   {
    "duration": 22,
    "start_time": "2023-01-23T09:23:05.181Z"
   },
   {
    "duration": 14,
    "start_time": "2023-01-23T09:23:05.205Z"
   },
   {
    "duration": 123,
    "start_time": "2023-01-23T09:23:05.221Z"
   },
   {
    "duration": 0,
    "start_time": "2023-01-23T09:23:05.356Z"
   },
   {
    "duration": 0,
    "start_time": "2023-01-23T09:23:05.357Z"
   },
   {
    "duration": 0,
    "start_time": "2023-01-23T09:23:05.358Z"
   },
   {
    "duration": 0,
    "start_time": "2023-01-23T09:23:05.358Z"
   },
   {
    "duration": 415,
    "start_time": "2023-01-23T09:23:39.386Z"
   },
   {
    "duration": 200,
    "start_time": "2023-01-23T09:23:39.803Z"
   },
   {
    "duration": 7,
    "start_time": "2023-01-23T09:23:40.005Z"
   },
   {
    "duration": 69,
    "start_time": "2023-01-23T09:23:40.014Z"
   },
   {
    "duration": 3,
    "start_time": "2023-01-23T09:23:40.085Z"
   },
   {
    "duration": 8,
    "start_time": "2023-01-23T09:23:40.090Z"
   },
   {
    "duration": 16,
    "start_time": "2023-01-23T09:23:40.100Z"
   },
   {
    "duration": 7,
    "start_time": "2023-01-23T09:23:40.118Z"
   },
   {
    "duration": 60,
    "start_time": "2023-01-23T09:23:40.127Z"
   },
   {
    "duration": 28,
    "start_time": "2023-01-23T09:23:40.191Z"
   },
   {
    "duration": 48,
    "start_time": "2023-01-23T09:23:40.221Z"
   },
   {
    "duration": 106,
    "start_time": "2023-01-23T09:23:40.271Z"
   },
   {
    "duration": 91,
    "start_time": "2023-01-23T09:23:40.379Z"
   },
   {
    "duration": 71,
    "start_time": "2023-01-23T09:23:40.472Z"
   },
   {
    "duration": 67,
    "start_time": "2023-01-23T09:23:40.553Z"
   },
   {
    "duration": 50,
    "start_time": "2023-01-23T09:23:40.622Z"
   },
   {
    "duration": 55,
    "start_time": "2023-01-23T09:23:40.673Z"
   },
   {
    "duration": 11,
    "start_time": "2023-01-23T09:23:40.729Z"
   },
   {
    "duration": 25,
    "start_time": "2023-01-23T09:23:40.741Z"
   },
   {
    "duration": 17,
    "start_time": "2023-01-23T09:23:40.769Z"
   },
   {
    "duration": 54,
    "start_time": "2023-01-23T09:23:40.787Z"
   },
   {
    "duration": 25,
    "start_time": "2023-01-23T09:23:40.845Z"
   },
   {
    "duration": 20,
    "start_time": "2023-01-23T09:23:40.874Z"
   },
   {
    "duration": 14,
    "start_time": "2023-01-23T09:23:40.896Z"
   },
   {
    "duration": 34,
    "start_time": "2023-01-23T09:23:40.911Z"
   },
   {
    "duration": 29,
    "start_time": "2023-01-23T09:23:40.947Z"
   },
   {
    "duration": 14,
    "start_time": "2023-01-23T09:23:40.978Z"
   },
   {
    "duration": 33,
    "start_time": "2023-01-23T09:23:40.996Z"
   },
   {
    "duration": 32,
    "start_time": "2023-01-23T09:23:41.031Z"
   },
   {
    "duration": 7,
    "start_time": "2023-01-23T09:23:41.065Z"
   },
   {
    "duration": 41,
    "start_time": "2023-01-23T09:23:41.074Z"
   },
   {
    "duration": 12,
    "start_time": "2023-01-23T09:23:41.116Z"
   },
   {
    "duration": 28,
    "start_time": "2023-01-23T09:23:41.130Z"
   },
   {
    "duration": 21,
    "start_time": "2023-01-23T09:23:41.162Z"
   },
   {
    "duration": 83,
    "start_time": "2023-01-23T09:23:41.184Z"
   },
   {
    "duration": 0,
    "start_time": "2023-01-23T09:23:41.274Z"
   },
   {
    "duration": 0,
    "start_time": "2023-01-23T09:23:41.274Z"
   },
   {
    "duration": 0,
    "start_time": "2023-01-23T09:23:41.275Z"
   },
   {
    "duration": 0,
    "start_time": "2023-01-23T09:23:41.276Z"
   },
   {
    "duration": 772,
    "start_time": "2023-01-23T09:23:48.684Z"
   },
   {
    "duration": 13,
    "start_time": "2023-01-23T09:23:49.732Z"
   },
   {
    "duration": 843,
    "start_time": "2023-01-23T09:23:51.108Z"
   },
   {
    "duration": 0,
    "start_time": "2023-01-23T09:23:51.955Z"
   },
   {
    "duration": 449,
    "start_time": "2023-01-23T09:24:01.268Z"
   },
   {
    "duration": 200,
    "start_time": "2023-01-23T09:24:01.719Z"
   },
   {
    "duration": 7,
    "start_time": "2023-01-23T09:24:01.921Z"
   },
   {
    "duration": 78,
    "start_time": "2023-01-23T09:24:01.931Z"
   },
   {
    "duration": 31,
    "start_time": "2023-01-23T09:24:02.012Z"
   },
   {
    "duration": 62,
    "start_time": "2023-01-23T09:24:02.044Z"
   },
   {
    "duration": 52,
    "start_time": "2023-01-23T09:24:02.109Z"
   },
   {
    "duration": 53,
    "start_time": "2023-01-23T09:24:02.163Z"
   },
   {
    "duration": 87,
    "start_time": "2023-01-23T09:24:02.217Z"
   },
   {
    "duration": 34,
    "start_time": "2023-01-23T09:24:02.305Z"
   },
   {
    "duration": 54,
    "start_time": "2023-01-23T09:24:02.341Z"
   },
   {
    "duration": 78,
    "start_time": "2023-01-23T09:24:02.397Z"
   },
   {
    "duration": 93,
    "start_time": "2023-01-23T09:24:02.476Z"
   },
   {
    "duration": 62,
    "start_time": "2023-01-23T09:24:02.574Z"
   },
   {
    "duration": 91,
    "start_time": "2023-01-23T09:24:02.638Z"
   },
   {
    "duration": 13,
    "start_time": "2023-01-23T09:24:02.732Z"
   },
   {
    "duration": 78,
    "start_time": "2023-01-23T09:24:02.747Z"
   },
   {
    "duration": 14,
    "start_time": "2023-01-23T09:24:02.827Z"
   },
   {
    "duration": 40,
    "start_time": "2023-01-23T09:24:02.843Z"
   },
   {
    "duration": 8,
    "start_time": "2023-01-23T09:24:02.885Z"
   },
   {
    "duration": 69,
    "start_time": "2023-01-23T09:24:02.895Z"
   },
   {
    "duration": 35,
    "start_time": "2023-01-23T09:24:02.965Z"
   },
   {
    "duration": 17,
    "start_time": "2023-01-23T09:24:03.002Z"
   },
   {
    "duration": 17,
    "start_time": "2023-01-23T09:24:03.021Z"
   },
   {
    "duration": 38,
    "start_time": "2023-01-23T09:24:03.040Z"
   },
   {
    "duration": 21,
    "start_time": "2023-01-23T09:24:03.080Z"
   },
   {
    "duration": 7,
    "start_time": "2023-01-23T09:24:03.103Z"
   },
   {
    "duration": 54,
    "start_time": "2023-01-23T09:24:03.112Z"
   },
   {
    "duration": 14,
    "start_time": "2023-01-23T09:24:03.172Z"
   },
   {
    "duration": 6,
    "start_time": "2023-01-23T09:24:03.188Z"
   },
   {
    "duration": 33,
    "start_time": "2023-01-23T09:24:03.195Z"
   },
   {
    "duration": 13,
    "start_time": "2023-01-23T09:24:03.230Z"
   },
   {
    "duration": 37,
    "start_time": "2023-01-23T09:24:03.245Z"
   },
   {
    "duration": 15,
    "start_time": "2023-01-23T09:24:03.284Z"
   },
   {
    "duration": 116,
    "start_time": "2023-01-23T09:24:03.301Z"
   },
   {
    "duration": 0,
    "start_time": "2023-01-23T09:24:03.419Z"
   },
   {
    "duration": 0,
    "start_time": "2023-01-23T09:24:03.420Z"
   },
   {
    "duration": 0,
    "start_time": "2023-01-23T09:24:03.421Z"
   },
   {
    "duration": 0,
    "start_time": "2023-01-23T09:24:03.422Z"
   },
   {
    "duration": 874,
    "start_time": "2023-01-23T09:25:52.504Z"
   },
   {
    "duration": 854,
    "start_time": "2023-01-23T09:26:39.115Z"
   },
   {
    "duration": 779,
    "start_time": "2023-01-23T09:26:47.875Z"
   },
   {
    "duration": 13,
    "start_time": "2023-01-23T09:26:54.269Z"
   },
   {
    "duration": 14,
    "start_time": "2023-01-23T09:27:01.470Z"
   },
   {
    "duration": 803,
    "start_time": "2023-01-23T09:27:26.286Z"
   },
   {
    "duration": 6,
    "start_time": "2023-01-23T09:58:21.344Z"
   },
   {
    "duration": 887,
    "start_time": "2023-01-23T09:58:25.761Z"
   },
   {
    "duration": 9,
    "start_time": "2023-01-23T09:59:50.572Z"
   },
   {
    "duration": 836,
    "start_time": "2023-01-23T09:59:53.976Z"
   },
   {
    "duration": 5,
    "start_time": "2023-01-23T10:00:00.871Z"
   },
   {
    "duration": 17,
    "start_time": "2023-01-23T10:00:06.860Z"
   },
   {
    "duration": 815,
    "start_time": "2023-01-23T10:00:09.575Z"
   },
   {
    "duration": 20,
    "start_time": "2023-01-23T10:00:16.239Z"
   },
   {
    "duration": 410,
    "start_time": "2023-01-23T10:02:19.617Z"
   },
   {
    "duration": 186,
    "start_time": "2023-01-23T10:02:20.028Z"
   },
   {
    "duration": 6,
    "start_time": "2023-01-23T10:02:20.215Z"
   },
   {
    "duration": 55,
    "start_time": "2023-01-23T10:02:20.223Z"
   },
   {
    "duration": 3,
    "start_time": "2023-01-23T10:02:20.280Z"
   },
   {
    "duration": 16,
    "start_time": "2023-01-23T10:02:20.284Z"
   },
   {
    "duration": 17,
    "start_time": "2023-01-23T10:02:20.302Z"
   },
   {
    "duration": 6,
    "start_time": "2023-01-23T10:02:20.320Z"
   },
   {
    "duration": 49,
    "start_time": "2023-01-23T10:02:20.328Z"
   },
   {
    "duration": 33,
    "start_time": "2023-01-23T10:02:20.380Z"
   },
   {
    "duration": 59,
    "start_time": "2023-01-23T10:02:20.414Z"
   },
   {
    "duration": 91,
    "start_time": "2023-01-23T10:02:20.475Z"
   },
   {
    "duration": 92,
    "start_time": "2023-01-23T10:02:20.572Z"
   },
   {
    "duration": 61,
    "start_time": "2023-01-23T10:02:20.669Z"
   },
   {
    "duration": 55,
    "start_time": "2023-01-23T10:02:20.732Z"
   },
   {
    "duration": 11,
    "start_time": "2023-01-23T10:02:20.789Z"
   },
   {
    "duration": 64,
    "start_time": "2023-01-23T10:02:20.802Z"
   },
   {
    "duration": 14,
    "start_time": "2023-01-23T10:02:20.870Z"
   },
   {
    "duration": 11,
    "start_time": "2023-01-23T10:02:20.886Z"
   },
   {
    "duration": 3,
    "start_time": "2023-01-23T10:02:20.899Z"
   },
   {
    "duration": 26,
    "start_time": "2023-01-23T10:02:20.903Z"
   },
   {
    "duration": 39,
    "start_time": "2023-01-23T10:02:20.931Z"
   },
   {
    "duration": 17,
    "start_time": "2023-01-23T10:02:20.973Z"
   },
   {
    "duration": 17,
    "start_time": "2023-01-23T10:02:20.992Z"
   },
   {
    "duration": 52,
    "start_time": "2023-01-23T10:02:21.011Z"
   },
   {
    "duration": 20,
    "start_time": "2023-01-23T10:02:21.066Z"
   },
   {
    "duration": 8,
    "start_time": "2023-01-23T10:02:21.087Z"
   },
   {
    "duration": 26,
    "start_time": "2023-01-23T10:02:21.098Z"
   },
   {
    "duration": 46,
    "start_time": "2023-01-23T10:02:21.126Z"
   },
   {
    "duration": 17,
    "start_time": "2023-01-23T10:02:21.174Z"
   },
   {
    "duration": 37,
    "start_time": "2023-01-23T10:02:21.193Z"
   },
   {
    "duration": 27,
    "start_time": "2023-01-23T10:02:21.232Z"
   },
   {
    "duration": 20,
    "start_time": "2023-01-23T10:02:21.261Z"
   },
   {
    "duration": 13,
    "start_time": "2023-01-23T10:02:21.282Z"
   },
   {
    "duration": 101,
    "start_time": "2023-01-23T10:02:21.297Z"
   },
   {
    "duration": 0,
    "start_time": "2023-01-23T10:02:21.400Z"
   },
   {
    "duration": 0,
    "start_time": "2023-01-23T10:02:21.402Z"
   },
   {
    "duration": 0,
    "start_time": "2023-01-23T10:02:21.404Z"
   },
   {
    "duration": 0,
    "start_time": "2023-01-23T10:02:21.405Z"
   },
   {
    "duration": 791,
    "start_time": "2023-01-23T10:03:33.106Z"
   },
   {
    "duration": 14,
    "start_time": "2023-01-23T10:05:32.926Z"
   },
   {
    "duration": 834,
    "start_time": "2023-01-23T10:05:42.294Z"
   },
   {
    "duration": 14,
    "start_time": "2023-01-23T10:06:22.856Z"
   },
   {
    "duration": 13,
    "start_time": "2023-01-23T10:06:29.405Z"
   },
   {
    "duration": 416,
    "start_time": "2023-01-23T10:11:38.066Z"
   },
   {
    "duration": 204,
    "start_time": "2023-01-23T10:11:38.484Z"
   },
   {
    "duration": 8,
    "start_time": "2023-01-23T10:11:38.690Z"
   },
   {
    "duration": 70,
    "start_time": "2023-01-23T10:11:38.699Z"
   },
   {
    "duration": 10,
    "start_time": "2023-01-23T10:11:38.772Z"
   },
   {
    "duration": 8,
    "start_time": "2023-01-23T10:11:38.783Z"
   },
   {
    "duration": 13,
    "start_time": "2023-01-23T10:11:38.793Z"
   },
   {
    "duration": 8,
    "start_time": "2023-01-23T10:11:38.808Z"
   },
   {
    "duration": 49,
    "start_time": "2023-01-23T10:11:38.818Z"
   },
   {
    "duration": 27,
    "start_time": "2023-01-23T10:11:38.871Z"
   },
   {
    "duration": 25,
    "start_time": "2023-01-23T10:11:38.899Z"
   },
   {
    "duration": 93,
    "start_time": "2023-01-23T10:11:38.926Z"
   },
   {
    "duration": 96,
    "start_time": "2023-01-23T10:11:39.021Z"
   },
   {
    "duration": 76,
    "start_time": "2023-01-23T10:11:39.123Z"
   },
   {
    "duration": 72,
    "start_time": "2023-01-23T10:11:39.202Z"
   },
   {
    "duration": 18,
    "start_time": "2023-01-23T10:11:39.276Z"
   },
   {
    "duration": 80,
    "start_time": "2023-01-23T10:11:39.296Z"
   },
   {
    "duration": 11,
    "start_time": "2023-01-23T10:11:39.379Z"
   },
   {
    "duration": 30,
    "start_time": "2023-01-23T10:11:39.392Z"
   },
   {
    "duration": 10,
    "start_time": "2023-01-23T10:11:39.424Z"
   },
   {
    "duration": 83,
    "start_time": "2023-01-23T10:11:39.435Z"
   },
   {
    "duration": 80,
    "start_time": "2023-01-23T10:11:39.521Z"
   },
   {
    "duration": 42,
    "start_time": "2023-01-23T10:11:39.603Z"
   },
   {
    "duration": 52,
    "start_time": "2023-01-23T10:11:39.647Z"
   },
   {
    "duration": 25,
    "start_time": "2023-01-23T10:11:39.701Z"
   },
   {
    "duration": 36,
    "start_time": "2023-01-23T10:11:39.728Z"
   },
   {
    "duration": 45,
    "start_time": "2023-01-23T10:11:39.765Z"
   },
   {
    "duration": 62,
    "start_time": "2023-01-23T10:11:39.812Z"
   },
   {
    "duration": 41,
    "start_time": "2023-01-23T10:11:39.877Z"
   },
   {
    "duration": 31,
    "start_time": "2023-01-23T10:11:39.920Z"
   },
   {
    "duration": 61,
    "start_time": "2023-01-23T10:11:39.953Z"
   },
   {
    "duration": 16,
    "start_time": "2023-01-23T10:11:40.017Z"
   },
   {
    "duration": 34,
    "start_time": "2023-01-23T10:11:40.035Z"
   },
   {
    "duration": 21,
    "start_time": "2023-01-23T10:11:40.074Z"
   },
   {
    "duration": 104,
    "start_time": "2023-01-23T10:11:40.098Z"
   },
   {
    "duration": 0,
    "start_time": "2023-01-23T10:11:40.203Z"
   },
   {
    "duration": 0,
    "start_time": "2023-01-23T10:11:40.205Z"
   },
   {
    "duration": 0,
    "start_time": "2023-01-23T10:11:40.206Z"
   },
   {
    "duration": 0,
    "start_time": "2023-01-23T10:11:40.208Z"
   },
   {
    "duration": 745,
    "start_time": "2023-01-23T10:57:16.406Z"
   },
   {
    "duration": 11,
    "start_time": "2023-01-23T11:07:53.418Z"
   },
   {
    "duration": 416,
    "start_time": "2023-01-23T11:12:28.464Z"
   },
   {
    "duration": 201,
    "start_time": "2023-01-23T11:12:28.882Z"
   },
   {
    "duration": 8,
    "start_time": "2023-01-23T11:12:29.084Z"
   },
   {
    "duration": 72,
    "start_time": "2023-01-23T11:12:29.095Z"
   },
   {
    "duration": 3,
    "start_time": "2023-01-23T11:12:29.170Z"
   },
   {
    "duration": 8,
    "start_time": "2023-01-23T11:12:29.174Z"
   },
   {
    "duration": 33,
    "start_time": "2023-01-23T11:12:29.183Z"
   },
   {
    "duration": 11,
    "start_time": "2023-01-23T11:12:29.218Z"
   },
   {
    "duration": 46,
    "start_time": "2023-01-23T11:12:29.230Z"
   },
   {
    "duration": 22,
    "start_time": "2023-01-23T11:12:29.279Z"
   },
   {
    "duration": 25,
    "start_time": "2023-01-23T11:12:29.302Z"
   },
   {
    "duration": 96,
    "start_time": "2023-01-23T11:12:29.329Z"
   },
   {
    "duration": 96,
    "start_time": "2023-01-23T11:12:29.427Z"
   },
   {
    "duration": 104,
    "start_time": "2023-01-23T11:12:29.525Z"
   },
   {
    "duration": 62,
    "start_time": "2023-01-23T11:12:29.631Z"
   },
   {
    "duration": 11,
    "start_time": "2023-01-23T11:12:29.695Z"
   },
   {
    "duration": 64,
    "start_time": "2023-01-23T11:12:29.707Z"
   },
   {
    "duration": 13,
    "start_time": "2023-01-23T11:12:29.772Z"
   },
   {
    "duration": 17,
    "start_time": "2023-01-23T11:12:29.787Z"
   },
   {
    "duration": 10,
    "start_time": "2023-01-23T11:12:29.807Z"
   },
   {
    "duration": 39,
    "start_time": "2023-01-23T11:12:29.819Z"
   },
   {
    "duration": 27,
    "start_time": "2023-01-23T11:12:29.861Z"
   },
   {
    "duration": 16,
    "start_time": "2023-01-23T11:12:29.890Z"
   },
   {
    "duration": 16,
    "start_time": "2023-01-23T11:12:29.908Z"
   },
   {
    "duration": 51,
    "start_time": "2023-01-23T11:12:29.926Z"
   },
   {
    "duration": 19,
    "start_time": "2023-01-23T11:12:29.979Z"
   },
   {
    "duration": 9,
    "start_time": "2023-01-23T11:12:30.000Z"
   },
   {
    "duration": 17,
    "start_time": "2023-01-23T11:12:30.014Z"
   },
   {
    "duration": 45,
    "start_time": "2023-01-23T11:12:30.033Z"
   },
   {
    "duration": 21,
    "start_time": "2023-01-23T11:12:30.080Z"
   },
   {
    "duration": 46,
    "start_time": "2023-01-23T11:12:30.102Z"
   },
   {
    "duration": 24,
    "start_time": "2023-01-23T11:12:30.150Z"
   },
   {
    "duration": 38,
    "start_time": "2023-01-23T11:12:30.176Z"
   },
   {
    "duration": 12,
    "start_time": "2023-01-23T11:12:30.216Z"
   },
   {
    "duration": 61,
    "start_time": "2023-01-23T11:12:30.230Z"
   },
   {
    "duration": 83,
    "start_time": "2023-01-23T11:12:30.293Z"
   },
   {
    "duration": 0,
    "start_time": "2023-01-23T11:12:30.378Z"
   },
   {
    "duration": 0,
    "start_time": "2023-01-23T11:12:30.379Z"
   },
   {
    "duration": 0,
    "start_time": "2023-01-23T11:12:30.380Z"
   },
   {
    "duration": 50,
    "start_time": "2023-01-23T11:13:05.788Z"
   },
   {
    "duration": 884,
    "start_time": "2023-01-23T11:13:15.701Z"
   },
   {
    "duration": 12,
    "start_time": "2023-01-23T11:20:36.078Z"
   },
   {
    "duration": 442,
    "start_time": "2023-01-23T11:20:50.761Z"
   },
   {
    "duration": 228,
    "start_time": "2023-01-23T11:20:51.204Z"
   },
   {
    "duration": 7,
    "start_time": "2023-01-23T11:20:51.433Z"
   },
   {
    "duration": 42,
    "start_time": "2023-01-23T11:20:51.454Z"
   },
   {
    "duration": 4,
    "start_time": "2023-01-23T11:20:51.498Z"
   },
   {
    "duration": 18,
    "start_time": "2023-01-23T11:20:51.504Z"
   },
   {
    "duration": 21,
    "start_time": "2023-01-23T11:20:51.523Z"
   },
   {
    "duration": 46,
    "start_time": "2023-01-23T11:20:51.546Z"
   },
   {
    "duration": 37,
    "start_time": "2023-01-23T11:20:51.595Z"
   },
   {
    "duration": 25,
    "start_time": "2023-01-23T11:20:51.635Z"
   },
   {
    "duration": 51,
    "start_time": "2023-01-23T11:20:51.662Z"
   },
   {
    "duration": 87,
    "start_time": "2023-01-23T11:20:51.716Z"
   },
   {
    "duration": 93,
    "start_time": "2023-01-23T11:20:51.806Z"
   },
   {
    "duration": 71,
    "start_time": "2023-01-23T11:20:51.901Z"
   },
   {
    "duration": 42,
    "start_time": "2023-01-23T11:20:51.973Z"
   },
   {
    "duration": 12,
    "start_time": "2023-01-23T11:20:52.017Z"
   },
   {
    "duration": 77,
    "start_time": "2023-01-23T11:20:52.031Z"
   },
   {
    "duration": 17,
    "start_time": "2023-01-23T11:20:52.110Z"
   },
   {
    "duration": 36,
    "start_time": "2023-01-23T11:20:52.130Z"
   },
   {
    "duration": 5,
    "start_time": "2023-01-23T11:20:52.167Z"
   },
   {
    "duration": 30,
    "start_time": "2023-01-23T11:20:52.175Z"
   },
   {
    "duration": 18,
    "start_time": "2023-01-23T11:20:52.207Z"
   },
   {
    "duration": 36,
    "start_time": "2023-01-23T11:20:52.227Z"
   },
   {
    "duration": 28,
    "start_time": "2023-01-23T11:20:52.265Z"
   },
   {
    "duration": 25,
    "start_time": "2023-01-23T11:20:52.295Z"
   },
   {
    "duration": 50,
    "start_time": "2023-01-23T11:20:52.322Z"
   },
   {
    "duration": 7,
    "start_time": "2023-01-23T11:20:52.375Z"
   },
   {
    "duration": 31,
    "start_time": "2023-01-23T11:20:52.387Z"
   },
   {
    "duration": 17,
    "start_time": "2023-01-23T11:20:52.420Z"
   },
   {
    "duration": 34,
    "start_time": "2023-01-23T11:20:52.440Z"
   },
   {
    "duration": 37,
    "start_time": "2023-01-23T11:20:52.476Z"
   },
   {
    "duration": 18,
    "start_time": "2023-01-23T11:20:52.515Z"
   },
   {
    "duration": 40,
    "start_time": "2023-01-23T11:20:52.535Z"
   },
   {
    "duration": 18,
    "start_time": "2023-01-23T11:20:52.577Z"
   },
   {
    "duration": 13,
    "start_time": "2023-01-23T11:20:52.597Z"
   },
   {
    "duration": 13,
    "start_time": "2023-01-23T11:20:52.612Z"
   },
   {
    "duration": 29,
    "start_time": "2023-01-23T11:20:52.627Z"
   },
   {
    "duration": 50,
    "start_time": "2023-01-23T11:20:52.657Z"
   },
   {
    "duration": 60,
    "start_time": "2023-01-23T11:20:52.710Z"
   },
   {
    "duration": 394,
    "start_time": "2023-01-23T11:22:25.287Z"
   },
   {
    "duration": 250,
    "start_time": "2023-01-23T11:22:25.684Z"
   },
   {
    "duration": 9,
    "start_time": "2023-01-23T11:22:25.936Z"
   },
   {
    "duration": 51,
    "start_time": "2023-01-23T11:22:25.957Z"
   },
   {
    "duration": 3,
    "start_time": "2023-01-23T11:22:26.010Z"
   },
   {
    "duration": 26,
    "start_time": "2023-01-23T11:22:26.014Z"
   },
   {
    "duration": 53,
    "start_time": "2023-01-23T11:22:26.042Z"
   },
   {
    "duration": 35,
    "start_time": "2023-01-23T11:22:26.098Z"
   },
   {
    "duration": 87,
    "start_time": "2023-01-23T11:22:26.135Z"
   },
   {
    "duration": 42,
    "start_time": "2023-01-23T11:22:26.225Z"
   },
   {
    "duration": 31,
    "start_time": "2023-01-23T11:22:26.273Z"
   },
   {
    "duration": 83,
    "start_time": "2023-01-23T11:22:26.305Z"
   },
   {
    "duration": 86,
    "start_time": "2023-01-23T11:22:26.390Z"
   },
   {
    "duration": 81,
    "start_time": "2023-01-23T11:22:26.479Z"
   },
   {
    "duration": 46,
    "start_time": "2023-01-23T11:22:26.570Z"
   },
   {
    "duration": 14,
    "start_time": "2023-01-23T11:22:26.618Z"
   },
   {
    "duration": 77,
    "start_time": "2023-01-23T11:22:26.634Z"
   },
   {
    "duration": 17,
    "start_time": "2023-01-23T11:22:26.713Z"
   },
   {
    "duration": 36,
    "start_time": "2023-01-23T11:22:26.732Z"
   },
   {
    "duration": 5,
    "start_time": "2023-01-23T11:22:26.769Z"
   },
   {
    "duration": 25,
    "start_time": "2023-01-23T11:22:26.776Z"
   },
   {
    "duration": 19,
    "start_time": "2023-01-23T11:22:26.802Z"
   },
   {
    "duration": 45,
    "start_time": "2023-01-23T11:22:26.823Z"
   },
   {
    "duration": 17,
    "start_time": "2023-01-23T11:22:26.870Z"
   },
   {
    "duration": 20,
    "start_time": "2023-01-23T11:22:26.888Z"
   },
   {
    "duration": 17,
    "start_time": "2023-01-23T11:22:26.910Z"
   },
   {
    "duration": 36,
    "start_time": "2023-01-23T11:22:26.928Z"
   },
   {
    "duration": 24,
    "start_time": "2023-01-23T11:22:26.968Z"
   },
   {
    "duration": 21,
    "start_time": "2023-01-23T11:22:26.994Z"
   },
   {
    "duration": 16,
    "start_time": "2023-01-23T11:22:27.018Z"
   },
   {
    "duration": 48,
    "start_time": "2023-01-23T11:22:27.035Z"
   },
   {
    "duration": 14,
    "start_time": "2023-01-23T11:22:27.085Z"
   },
   {
    "duration": 21,
    "start_time": "2023-01-23T11:22:27.101Z"
   },
   {
    "duration": 44,
    "start_time": "2023-01-23T11:22:27.124Z"
   },
   {
    "duration": 4,
    "start_time": "2023-01-23T11:22:27.170Z"
   },
   {
    "duration": 6,
    "start_time": "2023-01-23T11:22:27.176Z"
   },
   {
    "duration": 6,
    "start_time": "2023-01-23T11:22:27.183Z"
   },
   {
    "duration": 31,
    "start_time": "2023-01-23T11:23:14.251Z"
   },
   {
    "duration": 28,
    "start_time": "2023-01-23T11:23:16.050Z"
   },
   {
    "duration": 24,
    "start_time": "2023-01-23T11:23:16.987Z"
   },
   {
    "duration": 18,
    "start_time": "2023-01-23T11:23:17.432Z"
   },
   {
    "duration": 402,
    "start_time": "2023-01-23T11:25:01.412Z"
   },
   {
    "duration": 222,
    "start_time": "2023-01-23T11:25:01.817Z"
   },
   {
    "duration": 6,
    "start_time": "2023-01-23T11:25:02.041Z"
   },
   {
    "duration": 70,
    "start_time": "2023-01-23T11:25:02.056Z"
   },
   {
    "duration": 8,
    "start_time": "2023-01-23T11:25:02.127Z"
   },
   {
    "duration": 9,
    "start_time": "2023-01-23T11:25:02.137Z"
   },
   {
    "duration": 28,
    "start_time": "2023-01-23T11:25:02.147Z"
   },
   {
    "duration": 17,
    "start_time": "2023-01-23T11:25:02.177Z"
   },
   {
    "duration": 50,
    "start_time": "2023-01-23T11:25:02.195Z"
   },
   {
    "duration": 50,
    "start_time": "2023-01-23T11:25:02.248Z"
   },
   {
    "duration": 35,
    "start_time": "2023-01-23T11:25:02.300Z"
   },
   {
    "duration": 74,
    "start_time": "2023-01-23T11:25:02.337Z"
   },
   {
    "duration": 82,
    "start_time": "2023-01-23T11:25:02.412Z"
   },
   {
    "duration": 167,
    "start_time": "2023-01-23T11:25:02.496Z"
   },
   {
    "duration": 51,
    "start_time": "2023-01-23T11:25:02.665Z"
   },
   {
    "duration": 48,
    "start_time": "2023-01-23T11:25:02.718Z"
   },
   {
    "duration": 92,
    "start_time": "2023-01-23T11:25:02.777Z"
   },
   {
    "duration": 11,
    "start_time": "2023-01-23T11:25:02.871Z"
   },
   {
    "duration": 28,
    "start_time": "2023-01-23T11:25:02.883Z"
   },
   {
    "duration": 40,
    "start_time": "2023-01-23T11:25:02.914Z"
   },
   {
    "duration": 61,
    "start_time": "2023-01-23T11:25:02.958Z"
   },
   {
    "duration": 16,
    "start_time": "2023-01-23T11:25:03.021Z"
   },
   {
    "duration": 62,
    "start_time": "2023-01-23T11:25:03.038Z"
   },
   {
    "duration": 43,
    "start_time": "2023-01-23T11:25:03.102Z"
   },
   {
    "duration": 52,
    "start_time": "2023-01-23T11:25:03.146Z"
   },
   {
    "duration": 48,
    "start_time": "2023-01-23T11:25:03.199Z"
   },
   {
    "duration": 47,
    "start_time": "2023-01-23T11:25:03.249Z"
   },
   {
    "duration": 39,
    "start_time": "2023-01-23T11:25:03.299Z"
   },
   {
    "duration": 67,
    "start_time": "2023-01-23T11:25:03.340Z"
   },
   {
    "duration": 27,
    "start_time": "2023-01-23T11:25:03.409Z"
   },
   {
    "duration": 76,
    "start_time": "2023-01-23T11:25:03.438Z"
   },
   {
    "duration": 33,
    "start_time": "2023-01-23T11:25:03.515Z"
   },
   {
    "duration": 46,
    "start_time": "2023-01-23T11:25:03.550Z"
   },
   {
    "duration": 30,
    "start_time": "2023-01-23T11:25:03.597Z"
   },
   {
    "duration": 23,
    "start_time": "2023-01-23T11:25:03.629Z"
   },
   {
    "duration": 46,
    "start_time": "2023-01-23T11:25:03.660Z"
   },
   {
    "duration": 26,
    "start_time": "2023-01-23T11:25:03.708Z"
   },
   {
    "duration": 50,
    "start_time": "2023-01-23T11:53:31.978Z"
   },
   {
    "duration": 7,
    "start_time": "2023-01-23T11:53:37.070Z"
   },
   {
    "duration": 6,
    "start_time": "2023-01-23T11:53:39.992Z"
   },
   {
    "duration": 7,
    "start_time": "2023-01-23T11:53:42.265Z"
   },
   {
    "duration": 6,
    "start_time": "2023-01-23T11:54:10.019Z"
   },
   {
    "duration": 431,
    "start_time": "2023-01-23T11:55:36.768Z"
   },
   {
    "duration": 472,
    "start_time": "2023-01-23T11:55:37.201Z"
   },
   {
    "duration": 7,
    "start_time": "2023-01-23T11:55:37.675Z"
   },
   {
    "duration": 55,
    "start_time": "2023-01-23T11:55:37.685Z"
   },
   {
    "duration": 8,
    "start_time": "2023-01-23T11:55:37.742Z"
   },
   {
    "duration": 27,
    "start_time": "2023-01-23T11:55:37.752Z"
   },
   {
    "duration": 31,
    "start_time": "2023-01-23T11:55:37.781Z"
   },
   {
    "duration": 29,
    "start_time": "2023-01-23T11:55:37.813Z"
   },
   {
    "duration": 45,
    "start_time": "2023-01-23T11:55:37.844Z"
   },
   {
    "duration": 33,
    "start_time": "2023-01-23T11:55:37.893Z"
   },
   {
    "duration": 24,
    "start_time": "2023-01-23T11:55:37.927Z"
   },
   {
    "duration": 88,
    "start_time": "2023-01-23T11:55:37.953Z"
   },
   {
    "duration": 77,
    "start_time": "2023-01-23T11:55:38.042Z"
   },
   {
    "duration": 76,
    "start_time": "2023-01-23T11:55:38.121Z"
   },
   {
    "duration": 38,
    "start_time": "2023-01-23T11:55:38.199Z"
   },
   {
    "duration": 10,
    "start_time": "2023-01-23T11:55:38.238Z"
   },
   {
    "duration": 64,
    "start_time": "2023-01-23T11:55:38.250Z"
   },
   {
    "duration": 11,
    "start_time": "2023-01-23T11:55:38.316Z"
   },
   {
    "duration": 31,
    "start_time": "2023-01-23T11:55:38.329Z"
   },
   {
    "duration": 11,
    "start_time": "2023-01-23T11:55:38.361Z"
   },
   {
    "duration": 53,
    "start_time": "2023-01-23T11:55:38.373Z"
   },
   {
    "duration": 19,
    "start_time": "2023-01-23T11:55:38.428Z"
   },
   {
    "duration": 38,
    "start_time": "2023-01-23T11:55:38.449Z"
   },
   {
    "duration": 39,
    "start_time": "2023-01-23T11:55:38.488Z"
   },
   {
    "duration": 31,
    "start_time": "2023-01-23T11:55:38.529Z"
   },
   {
    "duration": 30,
    "start_time": "2023-01-23T11:55:38.561Z"
   },
   {
    "duration": 17,
    "start_time": "2023-01-23T11:55:38.593Z"
   },
   {
    "duration": 40,
    "start_time": "2023-01-23T11:55:38.613Z"
   },
   {
    "duration": 43,
    "start_time": "2023-01-23T11:55:38.655Z"
   },
   {
    "duration": 21,
    "start_time": "2023-01-23T11:55:38.700Z"
   },
   {
    "duration": 51,
    "start_time": "2023-01-23T11:55:38.722Z"
   },
   {
    "duration": 20,
    "start_time": "2023-01-23T11:55:38.774Z"
   },
   {
    "duration": 15,
    "start_time": "2023-01-23T11:55:38.796Z"
   },
   {
    "duration": 27,
    "start_time": "2023-01-23T11:55:38.813Z"
   },
   {
    "duration": 45,
    "start_time": "2023-01-23T11:55:38.842Z"
   },
   {
    "duration": 25,
    "start_time": "2023-01-23T11:55:38.890Z"
   },
   {
    "duration": 30,
    "start_time": "2023-01-23T11:55:38.917Z"
   },
   {
    "duration": 29,
    "start_time": "2023-01-23T11:55:38.948Z"
   }
  ],
  "colab": {
   "collapsed_sections": [
    "E0vqbgi9ay0H",
    "VUC88oWjTJw2"
   ],
   "name": "automatization_template_upd4.ipynb",
   "provenance": []
  },
  "kernelspec": {
   "display_name": "Python 3 (ipykernel)",
   "language": "python",
   "name": "python3"
  },
  "language_info": {
   "codemirror_mode": {
    "name": "ipython",
    "version": 3
   },
   "file_extension": ".py",
   "mimetype": "text/x-python",
   "name": "python",
   "nbconvert_exporter": "python",
   "pygments_lexer": "ipython3",
   "version": "3.9.5"
  },
  "toc": {
   "base_numbering": 1,
   "nav_menu": {
    "height": "215px",
    "width": "403px"
   },
   "number_sections": true,
   "sideBar": true,
   "skip_h1_title": true,
   "title_cell": "Table of Contents",
   "title_sidebar": "Contents",
   "toc_cell": false,
   "toc_position": {
    "height": "calc(100% - 180px)",
    "left": "10px",
    "top": "150px",
    "width": "285.825px"
   },
   "toc_section_display": true,
   "toc_window_display": false
  }
 },
 "nbformat": 4,
 "nbformat_minor": 4
}
