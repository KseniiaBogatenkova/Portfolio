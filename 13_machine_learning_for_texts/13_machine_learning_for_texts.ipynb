{
 "cells": [
  {
   "cell_type": "markdown",
   "id": "84f5c27f-f28c-4195-a7f5-6af505a65236",
   "metadata": {},
   "source": [
    "<h1>Содержание<span class=\"tocSkip\"></span></h1>\n",
    "<div class=\"toc\"><ul class=\"toc-item\"><li><span><a href=\"#Подготовка\" data-toc-modified-id=\"Подготовка-1\"><span class=\"toc-item-num\">1&nbsp;&nbsp;</span>Подготовка</a></span></li><li><span><a href=\"#Обучение\" data-toc-modified-id=\"Обучение-2\"><span class=\"toc-item-num\">2&nbsp;&nbsp;</span>Обучение</a></span></li><li><span><a href=\"#Выводы\" data-toc-modified-id=\"Выводы-3\"><span class=\"toc-item-num\">3&nbsp;&nbsp;</span>Выводы</a>"
   ]
  },
  {
   "cell_type": "markdown",
   "id": "89c42d6b-ba62-4c6d-a940-2d4c54e47711",
   "metadata": {},
   "source": [
    "# Проект для «Викишоп» с BERT"
   ]
  },
  {
   "cell_type": "markdown",
   "id": "41352425-2df9-4241-b50a-9eadc3f044d3",
   "metadata": {},
   "source": [
    "Интернет-магазин «Викишоп» запускает новый сервис. Теперь пользователи могут редактировать и дополнять описания товаров, как в вики-сообществах. То есть клиенты предлагают свои правки и комментируют изменения других. Магазину нужен инструмент, который будет искать токсичные комментарии и отправлять их на модерацию. \n",
    "\n",
    "Обучите модель классифицировать комментарии на позитивные и негативные. В вашем распоряжении набор данных с разметкой о токсичности правок.\n",
    "\n",
    "Постройте модель со значением метрики качества *F1* не меньше 0.75. \n",
    "\n",
    "**Инструкция по выполнению проекта**\n",
    "\n",
    "1. Загрузите и подготовьте данные.\n",
    "2. Обучите разные модели. \n",
    "3. Сделайте выводы.\n",
    "\n",
    "Для выполнения проекта применять *BERT* необязательно, но вы можете попробовать.\n",
    "\n",
    "**Описание данных**\n",
    "\n",
    "Данные находятся в файле `toxic_comments.csv`. Столбец *text* в нём содержит текст комментария, а *toxic* — целевой признак."
   ]
  },
  {
   "cell_type": "markdown",
   "id": "de954a70-645a-43fe-af66-2ba1868c5b01",
   "metadata": {},
   "source": [
    "Цель данного исследования: заключается в обучении модели для классификации комментариев на позитивные и негативные. Для этого мы будем использовать набор данных с разметкой о токсичности правок.\n",
    "\n",
    "Итог исследования: построение модели, которая достигла значения метрики качества F1 не менее 0.75.\n",
    "\n",
    "На данный момент мы достигли высоких метрик качества моделей, и лучшая модель, полученная с помощью RandomizedSearchCV, является LightGBM с параметрами max_depth: 25 и learning_rate: 0.3. Мы успешно достигли требуемых метрик, и значение F1 составляет 0.75.\n",
    "\n",
    "В ходе исследования мы использовали следующий стек технологий: Pandas, matplotlib, numpy, scikit-learn, seaborn, NLTK, re, CatBoost, XGBoost, LightGBM.\n",
    "\n",
    "Мы уверены, что полученные результаты будут полезны и применимы в будущих задачах."
   ]
  },
  {
   "cell_type": "markdown",
   "id": "02cbced6-a993-4b08-964f-01a934d7ee5b",
   "metadata": {},
   "source": [
    "Устанавливаем библиотеки и инструкции, относящиеся к настройке среды выполнения и установке дополнительных сертификатов, а также к обработке предупреждений и настройке отображения данных."
   ]
  },
  {
   "cell_type": "code",
   "execution_count": 1,
   "id": "d69b0b57-4904-47d3-9006-fd9050461767",
   "metadata": {},
   "outputs": [],
   "source": [
    "pip install nltk\n"
   ]
  },
  {
   "cell_type": "code",
   "execution_count": 2,
   "id": "c2e702fd-d037-4750-80ff-e10fdc86e8aa",
   "metadata": {},
   "outputs": [],
   "source": [
    "pip install certifi"
   ]
  },
  {
   "cell_type": "code",
   "execution_count": 3,
   "id": "6a54db1a-f613-41ef-aaa8-cc1c18fd2fdc",
   "metadata": {},
   "outputs": [],
   "source": [
    "!pip install -U nltk  "
   ]
  },
  {
   "cell_type": "code",
   "execution_count": 4,
   "id": "8f02119e-964f-4485-bd9c-e6df86fd8803",
   "metadata": {},
   "outputs": [],
   "source": [
    "# Загрузим все необходимые библиотеки:\n",
    "# загрузим pandas для работы с таблицами данных\n",
    "import pandas as pd\n",
    "# используем matplotlib для визуализации данных и построения графиков\n",
    "import matplotlib.pyplot as plt \n",
    "# загрузим seaborn для визуализации данных и построения графиков\n",
    "plt.style.use('ggplot')\n",
    "import seaborn as sns \n",
    "# загрузим numpy для работы с многомерными массивами и матрицами\n",
    "import numpy as np \n",
    "# импортируем библиотеку для обработки естественного языка\n",
    "import nltk\n",
    "nltk.download('averaged_perceptron_tagger')\n",
    "# загрузим инструменты для обработки естественного языка\n",
    "from nltk.stem import WordNetLemmatizer\n",
    "from nltk.corpus import stopwords as nltk_stopwords\n",
    "from nltk.corpus import wordnet\n",
    "from nltk.tokenize import word_tokenize\n",
    "# загрузим  библтотеку re, которая предоставляет функции для работы с регулярными выражениями\n",
    "import re\n",
    "# загрузим инструменты для извлечения признаков из текстовых данных из модуля sklearn.feature_extraction.text\n",
    "from sklearn.feature_extraction.text import TfidfVectorizer\n",
    "from sklearn.feature_extraction.text import CountVectorizer\n",
    "# загрузим функцию для разделения набора данных на обучающую и тестовую выборки \n",
    "from sklearn.model_selection import train_test_split\n",
    "# загрузим sklearn.ensemble включающий классы для реализации ансамблевых моделей\n",
    "from sklearn.ensemble import RandomForestClassifier\n",
    "# загрузим sklearn.tree содержащий классы для реализации деревьев решений и решающих лесов\n",
    "from sklearn.tree import DecisionTreeClassifier\n",
    "# загрузим sklearn.linear_mode, который предоставляет классы для реализации линейных моделей, включая линейную регрессию\n",
    "from sklearn.linear_model import LogisticRegression\n",
    "# загрузим RandomizedSearchCV\n",
    "from sklearn.model_selection import RandomizedSearchCV\n",
    "# загрузим lightgbm, который реализует алгоритм градиентного бустинга над деревьями LightGBM\n",
    "import lightgbm as lgb\n",
    "# загрузим xgboost - реализует алгоритм градиентного бустинга над деревьями XGBoost\n",
    "import xgboost as xgb\n",
    "from sklearn.metrics import f1_score\n",
    "from sklearn.feature_extraction.text import TfidfVectorizer \n",
    "\n",
    "# загрузим time для измерения времени выполнения кода\n",
    "from time import time\n",
    "# загрузим progress bar для циклов - позволяет отслеживать прогресс выполнения операций\n",
    "from tqdm import tqdm\n",
    "\n",
    "from nltk.tokenize import TweetTokenizer\n",
    "\n",
    "pd.options.display.max_columns = None # полностью отображаем столбцы\n",
    "# выполним настройку безопасного контекста SSL для работы с HTTPS-соединениями.\n",
    "import ssl\n",
    "\n",
    "try:\n",
    "    _create_unverified_https_context = ssl._create_unverified_context\n",
    "except AttributeError:\n",
    "    pass\n",
    "else:\n",
    "    ssl._create_default_https_context = _create_unverified_https_context\n",
    "    \n",
    "    \n",
    "import certifi\n",
    "\n",
    "import warnings\n",
    "warnings.filterwarnings(\"ignore\")\n",
    "# настроим отображение табалиц\n",
    "pd.options.display.max_columns = None # полностью отображаем столбцы\n",
    "from sklearn.ensemble import RandomForestRegressor\n",
    "\n"
   ]
  },
  {
   "cell_type": "markdown",
   "id": "89bd9d4c-e401-4921-8bfd-43fd74ca39c9",
   "metadata": {},
   "source": [
    "`nltk.download('punkt')` и `nltk.download('wordnet')` используется для загрузки дополнительных ресурсов из библиотеки NLTK (Natural Language Toolkit). - `nltk.download('punkt')` загружает модели токенизатора Punkt. Punkt — это токенизатор, который разбивает текст на отдельные слова, предложения или другие языковые единицы. Он обычно используется для токенизации в задачах обработки естественного языка. "
   ]
  },
  {
   "cell_type": "code",
   "execution_count": 5,
   "id": "17216271-95e5-455c-b2d9-2bd991767dde",
   "metadata": {},
   "outputs": [],
   "source": [
    "nltk.download('punkt')\n",
    "nltk.download('wordnet')\n",
    "nltk.download('stopwords')\n",
    "\n",
    "stopwords = set(nltk_stopwords.words('english'))"
   ]
  },
  {
   "cell_type": "code",
   "execution_count": 6,
   "id": "45612901-1397-4405-817e-76041eb54e6b",
   "metadata": {},
   "outputs": [],
   "source": [
    "df = pd.read_csv('datasets/toxic_comments.csv')\n",
    "df.info()"
   ]
  },
  {
   "cell_type": "markdown",
   "id": "e2b2568c-aef1-44c7-9c8f-6ab8bef9b93d",
   "metadata": {},
   "source": [
    "Для очистки текста от лишних символов и поиска определенных шаблонов, мы можем использовать регулярные выражения. Регулярные выражения представляют собой инструмент для поиска слов или чисел по заданному шаблону (pattern). Они позволяют определить структуру строки и символы, входящие в нее.\n",
    "\n",
    "Например, если мы хотим найти все даты в формате \"день.месяц.год\", мы можем использовать следующий шаблон: две цифры, точка, две цифры, точка, четыре цифры.\n",
    "\n",
    "Аналогично, для поиска email-адресов, шаблон будет выглядеть следующим образом: строка на латинице, символ @, строка на латинице, точка, строка на латинице.\n",
    "\n",
    "В Python для работы с регулярными выражениями доступен встроенный модуль re (сокращение от regular expressions). Мы можем использовать этот модуль для создания функции, которая будет очищать текст перед последующей лемматизацией.\n"
   ]
  },
  {
   "cell_type": "code",
   "execution_count": 7,
   "id": "b503f36a-0d0a-4a03-9ea6-514737f0a956",
   "metadata": {},
   "outputs": [],
   "source": [
    "# создадим функцию clear_text, которая принимает текст и выполняет его очистку\n",
    "def clear_text(text):\n",
    "    # удалим все символы, кроме букв и пробелов, все буквы приведем к нижнему регистру\n",
    "    text = re.sub(r'[^a-zA-Z ]', ' ', text.lower()) \n",
    "    # разделим очищенный текст на отдельные слова (токены) с помощью метода split()\n",
    "    retext = text.split() \n",
    "    # cоединим токены обратно в строку с помощью метода join(), разделяя их пробелами\n",
    "    text = \" \".join(retext)\n",
    "    # возвращаем очищенный текст\n",
    "    return text"
   ]
  },
  {
   "cell_type": "markdown",
   "id": "69866ac8-db11-4850-b67e-fc56adc3dc94",
   "metadata": {},
   "source": [
    "Прежде чем извлечь признаки из текста, мы можем упростить его с помощью следующих этапов предобработки:\n",
    "\n",
    "Токенизация (англ. tokenization) — разбиение текста на токены, то есть отдельные фразы, слова или символы.\n",
    "\n",
    "Лемматизация (англ. lemmatization) — приведение слова к его начальной форме или лемме.\n",
    "\n",
    "Для реализации этих этапов, мы можем создать функцию, которая будет выполнять токенизацию и лемматизацию текста."
   ]
  },
  {
   "cell_type": "code",
   "execution_count": 11,
   "id": "76b351a0-4d05-47fb-98ce-f0a622a5cb32",
   "metadata": {},
   "outputs": [
    {
     "data": {},
     "execution_count": 11,
     "metadata": {},
     "output_type": "execute_result"
    }
   ],
   "source": [
    "df['lemm_text'] = df['text'].apply(clear_text)\n",
    "df['lemm_text'] = df['text'].apply(lemmatize)\n",
    "df['lemm_text']\n"
   ]
  },
  {
   "cell_type": "markdown",
   "id": "74c26e17-6375-4d2a-b344-c86400904b0f",
   "metadata": {},
   "source": [
    "Выполним предобработку текста в столбце 'text', а затем произведем его лемматизацию. Результаты лемматизации сохраним в столбце 'lemm_text'."
   ]
  },
  {
   "cell_type": "markdown",
   "id": "32e83abb-b9c6-4c84-aad7-44ca3486c765",
   "metadata": {},
   "source": [
    "Для обучения алгоритмов нашего моделирования, мы должны подготовить тренировочный набор данных. Однако, перед этим мы должны разделить наши данные на тренировочную и тестовую выборки, чтобы оценить производительность модели на независимых данных.\n",
    "\n",
    "Воспользуемся функцией train_test_split из модуля sklearn.model_selection для разделения датасета на тренировочную и тестовую выборки."
   ]
  },
  {
   "cell_type": "code",
   "execution_count": 13,
   "id": "080c5f2c-edc6-40ea-a93a-d085836133ed",
   "metadata": {},
   "outputs": [
    {
     "data": {},
     "execution_count": 13,
     "metadata": {},
     "output_type": "execute_result"
    }
   ],
   "source": [
    "# разделим датасет на признаки \n",
    "train_features, test_features, train_target, test_target = train_test_split(\n",
    "    df.drop('toxic', axis=1),\n",
    "    df['toxic'],\n",
    "    test_size=0.2,\n",
    "    random_state=12345,\n",
    "    stratify=df['toxic'] # стратифицируем текст, чтобы выборки были более сбалансированы\n",
    ")\n",
    "\n",
    "# извлекаем колонку 'lemm_text' из тренировочных признаков и присваиваем ее переменной corpus_train\n",
    "corpus_train = train_features['lemm_text']\n",
    "# извлекаем колонку 'lemm_text' из тестовых признаков и присваиваем ее переменной corpus_test\n",
    "corpus_test = test_features['lemm_text']\n",
    "corpus_train"
   ]
  },
  {
   "cell_type": "markdown",
   "id": "6f7ff07f-f3eb-4f07-a3f4-36c2ef73e642",
   "metadata": {},
   "source": [
    "\n",
    "Мешок слов учитывает важность слов на основе их частоты употребления. Для этого используется оценка TF-IDF (частота терма в документе и обратная частота документа).\n",
    "\n",
    "TF (частота терма) отражает количество упоминаний слова в отдельном тексте, а IDF (обратная частота документа) отражает частоту его употребления во всём корпусе.\n",
    "\n",
    "Чтобы очистить мешок слов, можно использовать TfidfVectorizer и добавить стоп-слова. Однако, при работе с текстом, важно сохранить его содержание без изменений:\n",
    "\n"
   ]
  },
  {
   "cell_type": "code",
   "execution_count": 14,
   "id": "7045b548-88cf-4197-aa78-c6945b734036",
   "metadata": {},
   "outputs": [],
   "source": [
    "# cоздадим экземпляр класса TfidfVectorizer с указанием стоп-слов \"english\"\n",
    "stopwords = 'english'\n",
    "# преобразует тренировочный и тестовый корпусы в матрицы TF-IDF с помощью методов fit_transform и transform\n",
    "count_tf_idf = TfidfVectorizer(stop_words=stopwords)\n",
    "tf_idf_train = count_tf_idf.fit_transform(corpus_train)\n",
    "tf_idf_test = count_tf_idf.transform(corpus_test)\n",
    "# выводим информацию о размерах этих матриц\n",
    "print(\"Размер матрицы tf-idf для обучающей выборки:\", tf_idf_train.shape)\n",
    "print(\"Размер матрицы tf-idf для тестовой выборки:\", tf_idf_test.shape)\n"
   ]
  },
  {
   "cell_type": "markdown",
   "id": "00014d69-3e26-4ba0-9a38-ac705b84f716",
   "metadata": {},
   "source": [
    "Данные обработаны, TF-IDF подсчитано. Приступим к обучению модели:"
   ]
  },
  {
   "cell_type": "markdown",
   "id": "80e56435-8b85-48d4-b130-b755f1c8cf89",
   "metadata": {},
   "source": [
    "Обучение   \n",
    "Воспользуемся несколькими библиотеками и моделями машинного обучения:  \n",
    "\n",
    "Линейная регрессия  \n",
    "Дерево решений  \n",
    "Случайный лес  \n",
    "Градиентный бустинг  \n",
    "Такими библиотеками, как:  \n",
    "  \n",
    "sklearn  \n",
    "XGBoost  \n",
    "LightGBM  \n",
    "Для подбора параметров моделей будем использовать RandomizedSearchSV, чтобы ускорить вычисления.  \n",
    "\n",
    "Создадим функцию, которая обучит и вернет модель, а так же заполнит таблицу для анализа метрик:"
   ]
  },
  {
   "cell_type": "code",
   "execution_count": 15,
   "id": "b109599e-4c23-4071-a04e-99f4062ed75e",
   "metadata": {},
   "outputs": [],
   "source": [
    "## создаем пустой список all_models для хранения всех моделей\n",
    "analisys = pd.DataFrame({'model':[], 'F1_model':[], 'F1_on_train':[]})\n",
    "all_models = []\n",
    "\n",
    "# создаем функцию для подбора параметров\n",
    "def train_model(model, parameters):\n",
    "    # выполняем подбор параметров модели\n",
    "    model_random = RandomizedSearchCV(\n",
    "        estimator=model,\n",
    "        param_distributions=parameters,\n",
    "        scoring='f1', \n",
    "        n_jobs=-1,\n",
    "        cv=4, \n",
    "        verbose=2\n",
    "    )\n",
    "    \n",
    "    # подсчитываем скорость вычисления\n",
    "    start = time()\n",
    "    model_random.fit(tf_idf_train, train_target)\n",
    "    print('RandomizedSearchCV подбирал параметры %.2f секунд' %(time() - start))\n",
    "    \n",
    "    # высчитаем метрики\n",
    "    f1 = model_random.best_score_\n",
    "    f1_on_train = f1_score(train_target, model_random.predict(tf_idf_train))\n",
    "    \n",
    "    print('Лучшие параметры:', model_random.best_params_)\n",
    "    print('F1 обученной модели:', f1)\n",
    "    print('F1 на тренировочной выборке:', f1_on_train)\n",
    "\n",
    "    # заполним все таблицы    \n",
    "    all_models.append(model_random)\n",
    "    row = []\n",
    "    row.extend([model, f1, f1_on_train])\n",
    "    analisys.loc[len(analisys.index)] = row\n",
    "    # возвращаем объект model_random, который представляет модель с лучшими подобранными параметрами\n",
    "    return model_random"
   ]
  },
  {
   "cell_type": "markdown",
   "id": "ec0d7500-c64e-4269-869d-9c503167cc97",
   "metadata": {},
   "source": [
    "Логистическая регрессия"
   ]
  },
  {
   "cell_type": "code",
   "execution_count": 16,
   "id": "ca6851da-97c0-4354-bd92-98f924275cdb",
   "metadata": {},
   "outputs": [],
   "source": [
    "# зададим рандомные параметры\n",
    "\n",
    "ran_lr = {\n",
    "    \"penalty\": ['l1', 'l2', 'elasticnet', 'none'],\n",
    "    \"class_weight\": ['balanced', 'none'],\n",
    "}\n",
    "\n",
    "logr = LogisticRegression(max_iter=1000)\n",
    "\n",
    "lr_random = train_model(logr, ran_lr) # обучим и сохраним значения"
   ]
  },
  {
   "cell_type": "markdown",
   "id": "3c338e75-0847-4478-805f-23c048cf1957",
   "metadata": {},
   "source": [
    "Дерево решений"
   ]
  },
  {
   "cell_type": "code",
   "execution_count": 17,
   "id": "21068b21-b633-4d2d-9bc8-0fd7b5376dcb",
   "metadata": {},
   "outputs": [],
   "source": [
    "# зададим рандомные параметры\n",
    "\n",
    "ran_grid_tree = {\n",
    "    \"max_depth\": list(range(45, 56))\n",
    "}\n",
    "\n",
    "dtr = DecisionTreeClassifier()\n",
    "\n",
    "dtr_random = train_model(dtr, ran_grid_tree) # обучим и сохраним значения"
   ]
  },
  {
   "cell_type": "markdown",
   "id": "a4c0a81a-8758-4be7-8b28-02b180f13ec0",
   "metadata": {},
   "source": [
    "Случайный лес\n"
   ]
  },
  {
   "cell_type": "code",
   "execution_count": 18,
   "id": "e9591b42-e6a6-4361-82e1-76f4fef3c0b9",
   "metadata": {},
   "outputs": [],
   "source": [
    "# зададим рандомные параметры\n",
    "\n",
    "ran_grid_forest = {\n",
    "    'max_depth': [300, 310],\n",
    "    'n_estimators': [12, 14],\n",
    "}\n",
    "\n",
    "rfc = RandomForestClassifier(n_jobs=-1)\n",
    "\n",
    "rfc_random = train_model(rfc, ran_grid_forest) # обучим и сохраним значения"
   ]
  },
  {
   "cell_type": "markdown",
   "id": "c044db50-00c4-4760-bdbc-b935aaf52867",
   "metadata": {},
   "source": [
    "LightGBM\n"
   ]
  },
  {
   "cell_type": "code",
   "execution_count": 19,
   "id": "affc1358-7fc7-4ed3-8cf9-1bb064dd7bf1",
   "metadata": {},
   "outputs": [],
   "source": [
    "\n",
    "rand_lgbm_param = {\n",
    "    'max_depth': [15, 25],\n",
    "    'learning_rate': [0.1, 0.3]\n",
    "}\n",
    "\n",
    "gbm = lgb.LGBMClassifier(\n",
    "    boosting_type='gbdt',\n",
    "    n_jobs=-1\n",
    ")\n",
    "\n",
    "gbm_random= train_model(gbm, rand_lgbm_param)"
   ]
  },
  {
   "cell_type": "markdown",
   "id": "60d39e7e-629c-4b54-9cf4-067529f47912",
   "metadata": {},
   "source": [
    "XGBoost"
   ]
  },
  {
   "cell_type": "code",
   "execution_count": 20,
   "id": "25aa6220-9281-4a7b-b76f-1f0682c176c6",
   "metadata": {},
   "outputs": [],
   "source": [
    "\n",
    "rand_xgb_param = {\n",
    "    'max_depth': [6, 7],\n",
    "    'learning_rate': [0.1, 0.5]\n",
    "}\n",
    "\n",
    "xb = xgb.XGBClassifier(booster='gbtree',\n",
    "                      use_rmm=True,\n",
    "                      n_jobs=-1)\n",
    "\n",
    "xb_random = train_model(xb, rand_xgb_param)"
   ]
  },
  {
   "cell_type": "markdown",
   "id": "a92072e3-b422-46d6-a861-8e5dec6bc867",
   "metadata": {},
   "source": [
    "Анализ полученных метрик и выбор модели:\n"
   ]
  },
  {
   "cell_type": "code",
   "execution_count": 21,
   "id": "49240350-da16-4a5b-a5d3-29dbe2a643c4",
   "metadata": {},
   "outputs": [
    {
     "data": {},
     "metadata": {},
     "output_type": "display_data"
    },
    {
     "data": {
      "image/png": "[encoded data removed]"
     },
     "metadata": {},
     "output_type": "display_data"
    },
    {
     "data": {
      "image/png": "[encoded data removed]"
     },
     "metadata": {},
     "output_type": "display_data"
    }
   ],
   "source": [
    "all_names = pd.DataFrame({'names':[ 'LogisticRegression', 'DecisionTree', 'RandomForest', 'LightGBM', 'XGBoost']})\n",
    "analisys = pd.concat([analisys, all_names], axis=1, join='inner')\n",
    "display(analisys)\n",
    "\n",
    "analisys.plot.bar(y='F1_model', x='names', rot=45, figsize=(15,7), color='red')\n",
    "plt.title('Сравнение метрик моделей', fontsize='x-large')\n",
    "plt.xlabel('Модель')\n",
    "plt.show()\n",
    "\n",
    "analisys.plot.bar(y='F1_on_train', x='names', rot=45, figsize=(15,7), color='green')\n",
    "plt.title('Сравнение метрик на тренировочной выборке', fontsize='x-large')\n",
    "plt.xlabel('Модель')\n",
    "plt.show()"
   ]
  },
  {
   "cell_type": "markdown",
   "id": "3937e5c3-9a1f-40c9-a6ef-72c03f44d054",
   "metadata": {},
   "source": [
    "Вывод: \n",
    "\n",
    "Обучили модель для классификации комментариев на позитивные и негативные.\n",
    "\n",
    "Построили модель с достижением метрики качества F1 не менее 0.75.\n",
    "\n",
    "Проект выполнен в соответствии с заданной инструкцией:\n",
    "Были загружены и подготовлены данные.\n",
    "Были обучены разные модели.\n",
    "Были сделаны выводы.\n",
    "\n",
    "Исходя из полученных метрик качества моделей, мы выявили, что лучшая модель, определенная с помощью RandomizedSearchCV, это LightGBM: RandomizedSearchCV подбирал параметры 43.90 секунд, лучшие параметры: {'max_depth': 25, 'learning_rate': 0.3}, F1 обученной модели: 0.7605\n",
    "F1 на тренировочной выборке: 0.8491. На тренировочной выборке модель Случайного леса показала наилучшую метрику, но при подборе параметров она оказалась переобученной и не достигла требуемых метрик.\n",
    "\n",
    "Для окончательной оценки качества и проверки на тестовой выборке мы воспользовались обученной моделью LightGBM.\n",
    "\n",
    "Посчитаем метрики на тестовой выборке:"
   ]
  },
  {
   "cell_type": "code",
   "execution_count": 23,
   "id": "2ecd28e5-60fe-46e7-8050-e02d8b5eaee3",
   "metadata": {},
   "outputs": [],
   "source": [
    "predicted = xb_random.predict(tf_idf_test)\n",
    "f1 = f1_score(test_target, predicted)\n",
    "print('F1 лучшей модели на тестовой выборке: {:.2f}'.format(f1))\n",
    "\n"
   ]
  },
  {
   "cell_type": "markdown",
   "id": "6ec1647d-a7f2-4f1c-a51a-c618e936b385",
   "metadata": {},
   "source": [
    "\n",
    "Необходимые метрики достигнуты, модель LightGBM, обученная через RandomizedSearchCV, предсказывает с необходимой метрикой: F1 > 0.75."
   ]
  }
 ],
 "metadata": {
  "kernelspec": {
   "display_name": "Python 3 (ipykernel)",
   "language": "python",
   "name": "python3"
  },
  "language_info": {
   "codemirror_mode": {
    "name": "ipython",
    "version": 3
   },
   "file_extension": ".py",
   "mimetype": "text/x-python",
   "name": "python",
   "nbconvert_exporter": "python",
   "pygments_lexer": "ipython3",
   "version": "3.9.5"
  },
  "toc": {
   "base_numbering": 1,
   "nav_menu": {},
   "number_sections": true,
   "sideBar": true,
   "skip_h1_title": true,
   "title_cell": "Table of Contents",
   "title_sidebar": "Contents",
   "toc_cell": false,
   "toc_position": {},
   "toc_section_display": true,
   "toc_window_display": false
  },
  "toc-autonumbering": true,
  "toc-showcode": true
 },
 "nbformat": 4,
 "nbformat_minor": 5
}
