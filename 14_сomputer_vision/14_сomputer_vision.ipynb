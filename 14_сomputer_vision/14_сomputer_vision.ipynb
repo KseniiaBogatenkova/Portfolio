{
 "cells": [
  {
   "cell_type": "markdown",
   "metadata": {},
   "source": [
    "<div style=\"border-radius: 15px; border: 3px solid navy; padding: 15px; \">\n",
    "<b> Привет, Ксения! Меня зовут Денис Иванов. </b> \n",
    "<br> Сегодня я буду проверять твой проект. Попробую помочь тебе сделать его еще лучше!\n",
    "<br> Если не против, то дальнейшее общение будет проходить на «ты». Если это неприемлемо, то обязательно напиши мне в комментариях — мы перейдем на «вы».\n",
    "<br> Также сразу хочу обратить внимание на цветовую разметку.\n",
    "    \n",
    "<div class=\"alert alert-success\" style=\"border-radius: 15px; box-shadow: 4px 4px 4px; border: 1px solid \">\n",
    "<b>Комментарий ревьюера:</b>\n",
    "\n",
    "✔️ Так обозначены отличные решения и идеи, которые можно использовать в будущем.\n",
    "</div>\n",
    "    \n",
    "<div class=\"alert alert-warning\" style=\"border-radius: 15px; box-shadow: 4px 4px 4px; border: 1px solid \">\n",
    "<b>Комментарий ревьюера:</b>\n",
    "    \n",
    "⚠️ Так обозначено то, что можно сделать лучше или оптимизировать.\n",
    "</div>    \n",
    "    \n",
    "<div class=\"alert alert-danger\" style=\"border-radius: 15px; box-shadow: 4px 4px 4px; border: 1px solid \">\n",
    "<b>Комментарий ревьюера:</b>\n",
    "    \n",
    "❌ Так  обозначено то, что требует исправления. Работа не может быть принята с красными комментариями.\n",
    "</div>\n",
    "    \n",
    "<br> Пожалуйста, не перемещай, не изменяй и не удаляй мои коментарии, так как они повышают качество повторного ревью.\n",
    "<br> Желательно реагировать на каждый мой комментарий ('исправил', 'не понятно как исправить ошибку', ...)\n",
    "    \n",
    "<br> Также будет очень хорошо, если ты будешь помечать свои действия следующим образом.\n",
    "    \n",
    "<div class=\"alert alert-info\" style=\"border-radius: 15px; box-shadow: 4px 4px 4px; border: 1px solid \">\n",
    "<b>Добрый день, Денис! Рада знакомству и благодарю за ревью!</b> ...\n",
    "</div>\n",
    "    \n",
    "<hr style=\"border-width: 3px;\">\n",
    "    \n",
    "<b>Полезные ссылки:</b>\n",
    "\n",
    "* Если тебя заинтересовал процесс создания и применения нейронных сетей, то могу предложить обратить внимание на следующие курсы: \n",
    "    - <a href='https://stepik.org/course/401/info'>Нейронные сети</a> — математика и  алгоритмы, лежащие в основе обучения нейронных сетей,\n",
    "    - <a href='https://dls.samcs.ru'>DLS</a> — теория и практика глубокого обучения и нейронных сетей на PyTorch.\n",
    "* Если удобнее читать, то вот довольно познавательная книга <a href='https://vk.com/wall-203365865_1152'>«PyTorch. Освещая глубокое обучение»</a>.\n",
    "    \n",
    "<hr style=\"border-width: 3px;\">\n",
    "    \n",
    "<b>Общее впечатление</b>\n",
    "* Большое спасибо за проделанную работу.\n",
    "* Радует, что проект хорошо структурирован.\n",
    "* Я оставил несколько советов. Пожалуйста, обрати на них внимание.\n",
    "* Проект принят.\n",
    "</div>"
   ]
  },
  {
   "cell_type": "markdown",
   "metadata": {},
   "source": [
    "# Определение возраста покупателей"
   ]
  },
  {
   "cell_type": "markdown",
   "metadata": {},
   "source": [
    "***Описание проекта***   \n",
    "Сетевой супермаркет «Хлеб-Соль» внедряет систему компьютерного зрения для обработки фотографий покупателей. Фотофиксация в прикассовой зоне поможет определять возраст клиентов, чтобы:  \n",
    "\n",
    "Анализировать покупки и предлагать товары, которые могут заинтересовать покупателей этой возрастной группы;\n",
    "Контролировать добросовестность кассиров при продаже алкоголя.\n",
    "Постройте модель, которая по фотографии определит приблизительный возраст человека. В вашем распоряжении набор фотографий людей с указанием возраста.  \n",
    "\n",
    "***План работы над проектом***    \n",
    "Провести исследовательский анализ набора фотографий.  \n",
    "Подготовить данные к обучению.  \n",
    "Обучить нейронную сеть и рассчитайте её качество.  "
   ]
  },
  {
   "cell_type": "markdown",
   "metadata": {},
   "source": [
    "<div class=\"alert alert-success\" style=\"border-radius: 15px; box-shadow: 4px 4px 4px; border: 1px solid \">\n",
    "<b>Комментарий ревьюера:</b>\n",
    "\n",
    "✔️ Давать в начале работы описание проекта и исходных данных — хорошая практика.\n",
    "</div>"
   ]
  },
  {
   "cell_type": "markdown",
   "metadata": {},
   "source": [
    "## Исследовательский анализ данных"
   ]
  },
  {
   "cell_type": "code",
   "execution_count": 1,
   "metadata": {},
   "outputs": [],
   "source": [
    "from PIL import Image\n",
    "import matplotlib.pyplot as plt\n",
    "import numpy as np\n",
    "import pandas as pd\n",
    "from tensorflow.keras.preprocessing.image import ImageDataGenerator\n"
   ]
  },
  {
   "cell_type": "markdown",
   "metadata": {},
   "source": [
    "<div class=\"alert alert-warning\" style=\"border-radius: 15px; box-shadow: 4px 4px 4px; border: 1px solid \">\n",
    "<b>Комментарий ревьюера:</b>\n",
    "    \n",
    "⚠️ Обрати внимание на импорты. Если какой-то модуль/библиотеку ты не используешь в дальнейшем, то из импорта ее стоит убрать.\n",
    "</div>"
   ]
  },
  {
   "cell_type": "code",
   "execution_count": null,
   "metadata": {},
   "outputs": [],
   "source": [
    "labels = pd.read_csv('/datasets/faces/labels.csv')\n",
    "train_datagen = ImageDataGenerator(rescale=1./255)\n",
    "train_gen_flow = train_datagen.flow_from_dataframe(\n",
    "        dataframe=labels,\n",
    "        directory='/datasets/faces/final_files/',\n",
    "        x_col='file_name',\n",
    "        y_col='real_age',\n",
    "        target_size=(224, 224),\n",
    "        batch_size=32,\n",
    "        class_mode='raw',\n",
    "        seed=12345)"
   ]
  },
  {
   "cell_type": "markdown",
   "metadata": {},
   "source": [
    "<div class=\"alert alert-warning\" style=\"border-radius: 15px; box-shadow: 4px 4px 4px; border: 1px solid \">\n",
    "<b>Комментарий ревьюера:</b>\n",
    "    \n",
    "⚠️ `ImageDataGenerator` инициализирован верно, однако обрати внимание на наименование переменных:\n",
    "- `train_gen_flow` — данное название наводит на мысль о тренировочной выборке, что в дальнейшем может запутать как и тебя, так и читающего твой код коллегу. Не стоит забывать, что основной принцип хорошего именования — имена должны быть содержательными (полностью отражать своё назначение).\n",
    "</div>"
   ]
  },
  {
   "cell_type": "code",
   "execution_count": null,
   "metadata": {},
   "outputs": [],
   "source": [
    "labels.shape"
   ]
  },
  {
   "cell_type": "code",
   "execution_count": null,
   "metadata": {},
   "outputs": [],
   "source": [
    "labels.hist(bins=100)\n",
    "plt.show()"
   ]
  },
  {
   "cell_type": "markdown",
   "metadata": {},
   "source": [
    "<div class=\"alert alert-warning\" style=\"border-radius: 15px; box-shadow: 4px 4px 4px; border: 1px solid \">\n",
    "<b>Комментарий ревьюера:</b>\n",
    "\n",
    "⚠️ Рекомендую добавить на график подписи осей. Так будет понятно какой параметр располагается по оси `X`, а какой по оси `Y`.\n",
    "</div> "
   ]
  },
  {
   "cell_type": "code",
   "execution_count": null,
   "metadata": {},
   "outputs": [],
   "source": [
    "print(labels.describe())"
   ]
  },
  {
   "cell_type": "markdown",
   "metadata": {},
   "source": [
    "<div class=\"alert alert-success\" style=\"border-radius: 15px; box-shadow: 4px 4px 4px; border: 1px solid \">\n",
    "<b>Комментарий ревьюера:</b>\n",
    "\n",
    "✔️ Молодец, что не забываешь о методах первичного анализа данных. Знание статистик данных позволяет работать с ними более продуктивно.\n",
    "</div>"
   ]
  },
  {
   "cell_type": "code",
   "execution_count": null,
   "metadata": {},
   "outputs": [],
   "source": [
    "features, target = next(train_gen_flow)\n",
    "\n",
    "fig = plt.figure(figsize=(10,10))\n",
    "for i in range(12):\n",
    "    fig.add_subplot(4, 4, i+1)\n",
    "    plt.imshow(features[i])\n",
    "    plt.xticks([])\n",
    "    plt.yticks([])\n",
    "    plt.tight_layout()"
   ]
  },
  {
   "cell_type": "markdown",
   "metadata": {},
   "source": [
    "<div class=\"alert alert-success\" style=\"border-radius: 15px; box-shadow: 4px 4px 4px; border: 1px solid \">\n",
    "<b>Комментарий ревьюера:</b>\n",
    "\n",
    "✔️ Отлично, что выведены изображения.\n",
    "</div>"
   ]
  },
  {
   "cell_type": "markdown",
   "metadata": {},
   "source": [
    "<div class=\"alert alert-warning\" style=\"border-radius: 15px; box-shadow: 4px 4px 4px; border: 1px solid \">\n",
    "<b>Комментарий ревьюера:</b>\n",
    "\n",
    "⚠️ Имеет смысл указать в `title` возраст, так сразу можно оценить корректность разметки.  \n",
    "</div> "
   ]
  },
  {
   "cell_type": "markdown",
   "metadata": {},
   "source": [
    "***Вывод***    \n",
    "Набор данных включает 7591 фотографию, что представляет собой небольшую выборку для оценки возраста.\n",
    "\n",
    "Большинство фотографий попадают в возрастной диапазон от 20 до 41 года. Кроме того, набор данных включает аннотации для детей и пожилых людей.\n",
    "\n",
    "Учитывая наличие вложенных фотографий, оценить возраст моделей будет непросто. На изображениях присутствуют предметы, закрывающие лицо, например руки, жевательная резинка, очки, головные уборы и т. д."
   ]
  },
  {
   "cell_type": "markdown",
   "metadata": {},
   "source": [
    "<div class=\"alert alert-warning\" style=\"border-radius: 15px; box-shadow: 4px 4px 4px; border: 1px solid \">\n",
    "<b>Комментарий ревьюера:</b>\n",
    "\n",
    "⚠️ Радует, что оставляешь выводы. Подумай, как текущее распределение возраста может сказаться на качестве обучения?   \n",
    "</div>   "
   ]
  },
  {
   "cell_type": "markdown",
   "metadata": {},
   "source": [
    "## Обучение модели"
   ]
  },
  {
   "cell_type": "markdown",
   "metadata": {},
   "source": [
    "Перенесите сюда код обучения модели и её результат вывода на экран.\n",
    "\n",
    "\n",
    "(Код в этом разделе запускается в отдельном GPU-тренажёре, поэтому оформлен не как ячейка с кодом, а как код в текстовой ячейке)"
   ]
  },
  {
   "cell_type": "markdown",
   "metadata": {},
   "source": [
    "```python\n",
    "\n",
    "# <Код модели\n",
    "from tensorflow.keras.applications.resnet import ResNet50\n",
    "from tensorflow.keras.preprocessing.image import ImageDataGenerator\n",
    "from tensorflow.keras.layers import GlobalAveragePooling2D, Dense\n",
    "from tensorflow.keras.models import Sequential\n",
    "from tensorflow.keras.optimizers import Adam\n",
    "import numpy as np\n",
    "import pandas as pd\n",
    "import tensorflow as tf\n",
    "\n",
    "\n",
    "def load_train(path):\n",
    "    labels = pd.read_csv(path + 'labels.csv')\n",
    "    datagen = ImageDataGenerator(validation_split=0.25, horizontal_flip=True, rescale=1./255)\n",
    "    train_gen_flow = datagen.flow_from_dataframe(\n",
    "        dataframe=labels,\n",
    "        directory=path + 'final_files/',\n",
    "        x_col='file_name',\n",
    "        y_col='real_age',\n",
    "        target_size=(224, 224),\n",
    "        batch_size=16,\n",
    "        class_mode='raw',\n",
    "        subset='training',\n",
    "        seed=12345)\n",
    "\n",
    "    return train_gen_flow\n",
    "\n",
    "def load_test(path):\n",
    "    labels = pd.read_csv(path + 'labels.csv')\n",
    "    datagen = ImageDataGenerator(validation_split=0.25, rescale=1./255)\n",
    "    test_gen_flow = datagen.flow_from_dataframe(\n",
    "        dataframe=labels,\n",
    "        directory=path + 'final_files/',\n",
    "        x_col='file_name',\n",
    "        y_col='real_age',\n",
    "        target_size=(224, 224),\n",
    "        batch_size=16,\n",
    "        class_mode='raw',\n",
    "        subset='validation',\n",
    "        seed=12345)\n",
    "\n",
    "    return test_gen_flow\n",
    "\n",
    "\n",
    "def create_model(input_shape):\n",
    "\n",
    "    backbone = ResNet50(input_shape=input_shape,\n",
    "                    weights='imagenet', \n",
    "                    include_top=False)\n",
    "    model = Sequential()\n",
    "    model.add(backbone)\n",
    "    model.add(GlobalAveragePooling2D())\n",
    "    model.add(Dense(1, activation='relu'))\n",
    "\n",
    "    optimizer = Adam(lr=0.0001)\n",
    "    model.compile(optimizer=optimizer, loss='mean_squared_error',\n",
    "                  metrics=['mae'])\n",
    "\n",
    "\n",
    "    return model\n",
    "\n",
    "\n",
    "def train_model(model, train_data, test_data, batch_size=None, epochs=10,\n",
    "                steps_per_epoch=None, validation_steps=None):\n",
    "\n",
    "    if steps_per_epoch is None:\n",
    "        steps_per_epoch = len(train_data)\n",
    "    if validation_steps is None:\n",
    "        validation_steps = len(test_data)\n",
    "\n",
    "    model.fit(train_data,\n",
    "              validation_data=test_data,\n",
    "              batch_size=batch_size, \n",
    "              epochs=epochs,\n",
    "              steps_per_epoch=steps_per_epoch,\n",
    "              validation_steps=validation_steps,\n",
    "              verbose=2)\n",
    "\n",
    "    return model >\n",
    "\n",
    "```"
   ]
  },
  {
   "cell_type": "markdown",
   "metadata": {},
   "source": [
    "<div class=\"alert alert-success\" style=\"border-radius: 15px; box-shadow: 4px 4px 4px; border: 1px solid \">\n",
    "<b>Комментарий ревьюера:</b>\n",
    "\n",
    "✔️ Архитектура сети и функция обучения определены верно.\n",
    "</div>"
   ]
  },
  {
   "cell_type": "markdown",
   "metadata": {},
   "source": [
    "```\n",
    "\n",
    "# < Found 5694 validated image filenames.\n",
    "Found 1897 validated image filenames.\n",
    "\n",
    "<class 'tensorflow.python.keras.engine.sequential.Sequential'>\n",
    "WARNING:tensorflow:sample_weight modes were coerced from\n",
    "  ...\n",
    "    to  \n",
    "  ['...']\n",
    "WARNING:tensorflow:sample_weight modes were coerced from\n",
    "  ...\n",
    "    to  \n",
    "  ['...']\n",
    "Train for 356 steps, validate for 119 steps\n",
    "Epoch 1/10\n",
    "2023-08-23 17:27:25.514109: I tensorflow/stream_executor/platform/default/dso_loader.cc:44] Successfully opened dynamic library libcublas.so.10\n",
    "2023-08-23 17:27:25.915925: I tensorflow/stream_executor/platform/default/dso_loader.cc:44] Successfully opened dynamic library libcudnn.so.7\n",
    "356/356 - 52s - loss: 207.9160 - mae: 10.4607 - val_loss: 434.4070 - val_mae: 15.6134\n",
    "Epoch 2/10\n",
    "356/356 - 43s - loss: 87.1638 - mae: 7.0480 - val_loss: 113.0580 - val_mae: 8.2503\n",
    "Epoch 3/10\n",
    "356/356 - 43s - loss: 58.7303 - mae: 5.8235 - val_loss: 92.6808 - val_mae: 7.4397\n",
    "Epoch 4/10\n",
    "356/356 - 43s - loss: 40.9481 - mae: 4.9370 - val_loss: 67.9666 - val_mae: 6.0543\n",
    "Epoch 5/10\n",
    "356/356 - 44s - loss: 32.1568 - mae: 4.3472 - val_loss: 71.6548 - val_mae: 6.4892\n",
    "Epoch 6/10\n",
    "356/356 - 71s - loss: 27.1837 - mae: 4.0074 - val_loss: 107.4730 - val_mae: 8.3191\n",
    "Epoch 7/10\n",
    "356/356 - 65s - loss: 20.0870 - mae: 3.4116 - val_loss: 67.1939 - val_mae: 6.1766\n",
    "Epoch 8/10\n",
    "356/356 - 69s - loss: 16.7014 - mae: 3.1496 - val_loss: 89.3059 - val_mae: 7.3904\n",
    "Epoch 9/10\n",
    "356/356 - 70s - loss: 14.6178 - mae: 2.9173 - val_loss: 69.7169 - val_mae: 6.3712\n",
    "Epoch 10/10\n",
    "356/356 - 70s - loss: 12.5354 - mae: 2.7217 - val_loss: 62.7269 - val_mae: 5.8523\n",
    "WARNING:tensorflow:sample_weight modes were coerced from\n",
    "  ...\n",
    "    to  \n",
    "  ['...']\n",
    "119/119 - 12s - loss: 62.7269 - mae: 5.8523\n",
    "Test MAE: 5.8523 >\n",
    "\n",
    "```"
   ]
  },
  {
   "cell_type": "markdown",
   "metadata": {},
   "source": [
    "Модель сверточной нейронной сети была построена с использованием архитектуры ResNet50.\n",
    "\n",
    "После прохождения 10 периодов обучения в наборе обучающих данных было достигнуто заметное снижение средней абсолютной ошибки (MAE) с 10 до 2,8. Продолжение обучения обещает дальнейшее улучшение этих результатов."
   ]
  },
  {
   "cell_type": "markdown",
   "metadata": {},
   "source": [
    "<div class=\"alert alert-success\" style=\"border-radius: 15px; box-shadow: 4px 4px 4px; border: 1px solid \">\n",
    "<b>Комментарий ревьюера:</b>\n",
    "\n",
    "✔️ Цель достигнута. В статье о датасете, с которым мы работаем, значение MAE равно 5.4, поэтому тобой получены достаточно хорошие результаты.\n",
    "</div>"
   ]
  },
  {
   "cell_type": "markdown",
   "metadata": {},
   "source": [
    "## Анализ обученной модели"
   ]
  },
  {
   "cell_type": "markdown",
   "metadata": {},
   "source": [
    "***Вывод***    \n",
    "Обученная модель демонстрирует впечатляющую способность точно предсказывать возраст клиентов. Достижение значения средней абсолютной ошибки (MAE), равного 5,85 считается весьма похвальным, особенно из-за того, что данное расхождение приемлемо в пределах возрастных категорий пользователей. Такое признание обусловлено, главным образом, практикой группировки возрастных категорий клиентов по интервалам 8–12 лет.\n",
    "\n",
    "Использование графических процессоров и нейронных сетей способствует быстрой и эффективной обработке больших объемов данных, сохраняя при этом высокую степень точности."
   ]
  },
  {
   "cell_type": "markdown",
   "metadata": {},
   "source": [
    "<div class=\"alert alert-warning\" style=\"border-radius: 15px; box-shadow: 4px 4px 4px; border: 1px solid \">\n",
    "<b>Комментарий ревьюера:</b>\n",
    "    \n",
    "⚠️ Можно было еще сказать несколько слов о бизнесе. Позволяет ли полученная модель решить поставленные бизнесом задачи?\n",
    "</div>"
   ]
  },
  {
   "cell_type": "markdown",
   "metadata": {},
   "source": [
    "<div class=\"alert alert-success\" style=\"border-radius: 15px; box-shadow: 4px 4px 4px; border: 1px solid \">\n",
    "<b>Комментарий ревьюера:</b>\n",
    "\n",
    "✔️ Спасибо за работу, у тебя получился отличный проект. Если есть вопросы, то можешь задать их, если нет, то присылай назад и я его приму.\n",
    "</div>"
   ]
  },
  {
   "cell_type": "markdown",
   "metadata": {},
   "source": [
    "<div class=\"alert alert-success\" style=\"border-radius: 15px; box-shadow: 4px 4px 4px; border: 1px solid \">\n",
    "<b>Комментарий ревьюера 2:</b>\n",
    "\n",
    "✔️ Проект принят. Удачи в дальнейшей учебе!\n",
    "</div>"
   ]
  },
  {
   "cell_type": "markdown",
   "metadata": {},
   "source": [
    "## Чек-лист"
   ]
  },
  {
   "cell_type": "markdown",
   "metadata": {},
   "source": [
    "- [x]  Jupyter Notebook открыт\n",
    "- [ ]  Весь код выполняется без ошибок\n",
    "- [ ]  Ячейки с кодом расположены в порядке исполнения\n",
    "- [ ]  Исследовательский анализ данных выполнен\n",
    "- [ ]  Результаты исследовательского анализа данных перенесены в финальную тетрадь\n",
    "- [ ]  MAE модели не больше 8\n",
    "- [ ]  Код обучения модели скопирован в финальную тетрадь\n",
    "- [ ]  Результат вывода модели на экран перенесён в финальную тетрадь\n",
    "- [ ]  По итогам обучения модели сделаны выводы"
   ]
  },
  {
   "cell_type": "code",
   "execution_count": null,
   "metadata": {},
   "outputs": [],
   "source": []
  }
 ],
 "metadata": {
  "ExecuteTimeLog": [
   {
    "duration": 73,
    "start_time": "2023-08-24T07:45:35.874Z"
   },
   {
    "duration": 2494,
    "start_time": "2023-08-24T07:45:38.444Z"
   },
   {
    "duration": 127846,
    "start_time": "2023-08-24T07:45:40.940Z"
   },
   {
    "duration": 5,
    "start_time": "2023-08-24T07:47:48.787Z"
   },
   {
    "duration": 356,
    "start_time": "2023-08-24T07:48:06.639Z"
   },
   {
    "duration": 26,
    "start_time": "2023-08-24T07:48:07.514Z"
   },
   {
    "duration": 2104,
    "start_time": "2023-08-24T07:48:08.634Z"
   },
   {
    "duration": 6,
    "start_time": "2023-08-24T07:48:10.742Z"
   },
   {
    "duration": 392,
    "start_time": "2023-08-24T09:28:01.870Z"
   },
   {
    "duration": 2793,
    "start_time": "2023-08-24T12:27:57.364Z"
   },
   {
    "duration": 89088,
    "start_time": "2023-08-24T12:28:00.159Z"
   },
   {
    "duration": 5,
    "start_time": "2023-08-24T12:29:29.249Z"
   },
   {
    "duration": 249,
    "start_time": "2023-08-24T12:29:29.256Z"
   },
   {
    "duration": 13,
    "start_time": "2023-08-24T12:29:29.506Z"
   },
   {
    "duration": 2656,
    "start_time": "2023-08-24T12:29:29.521Z"
   },
   {
    "duration": 52,
    "start_time": "2023-08-24T15:28:11.583Z"
   },
   {
    "duration": 652,
    "start_time": "2023-08-24T15:28:28.868Z"
   },
   {
    "duration": 2207,
    "start_time": "2023-08-24T15:28:36.522Z"
   },
   {
    "duration": 2653,
    "start_time": "2023-08-24T15:29:01.128Z"
   },
   {
    "duration": 2636,
    "start_time": "2023-08-24T15:29:17.757Z"
   },
   {
    "duration": 3,
    "start_time": "2023-08-24T15:32:31.131Z"
   },
   {
    "duration": 83708,
    "start_time": "2023-08-24T15:32:31.215Z"
   },
   {
    "duration": 4340,
    "start_time": "2023-10-19T13:51:58.867Z"
   },
   {
    "duration": 2517,
    "start_time": "2023-10-19T13:52:26.235Z"
   }
  ],
  "kernelspec": {
   "display_name": "Python 3 (ipykernel)",
   "language": "python",
   "name": "python3"
  },
  "language_info": {
   "codemirror_mode": {
    "name": "ipython",
    "version": 3
   },
   "file_extension": ".py",
   "mimetype": "text/x-python",
   "name": "python",
   "nbconvert_exporter": "python",
   "pygments_lexer": "ipython3",
   "version": "3.9.5"
  },
  "toc": {
   "base_numbering": 1,
   "nav_menu": {},
   "number_sections": true,
   "sideBar": true,
   "skip_h1_title": true,
   "title_cell": "Table of Contents",
   "title_sidebar": "Contents",
   "toc_cell": false,
   "toc_position": {},
   "toc_section_display": true,
   "toc_window_display": false
  }
 },
 "nbformat": 4,
 "nbformat_minor": 2
}
