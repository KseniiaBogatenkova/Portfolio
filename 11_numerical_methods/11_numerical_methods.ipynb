{
 "cells": [
  {
   "cell_type": "markdown",
   "metadata": {},
   "source": [
    "# Определение стоимости автомобилей"
   ]
  },
  {
   "cell_type": "markdown",
   "metadata": {},
   "source": [
    "# Содержание\n",
    "\n",
    "**[1. Загрузка и изучение данных](#step1)**\n",
    "\n",
    "**[2. Подготовка данных](#step2)**\n",
    "\n",
    "**[3. Анализ модели](#step3)**\n",
    "\n",
    "**[4. Вывод](#step4)**\n",
    "\n"
   ]
  },
  {
   "cell_type": "markdown",
   "metadata": {},
   "source": [
    "Сервис по продаже автомобилей с пробегом «Не бит, не крашен» разрабатывает приложение для привлечения новых клиентов. В нём можно быстро узнать рыночную стоимость своего автомобиля. В вашем распоряжении исторические данные: технические характеристики, комплектации и цены автомобилей. Вам нужно построить модель для определения стоимости. \n",
    "\n",
    "Заказчику важны:\n",
    "\n",
    "- качество предсказания;\n",
    "- скорость предсказания;\n",
    "- время обучения."
   ]
  },
  {
   "cell_type": "markdown",
   "metadata": {},
   "source": [
    "## Загрузка и изучение данных"
   ]
  },
  {
   "cell_type": "markdown",
   "metadata": {},
   "source": [
    "<div style=\"border:solid green 3px; padding: 20px\">\n",
    "\n",
    "<b>\n",
    "Загрузим и изучим данные.</b>\n",
    "\n"
   ]
  },
  {
   "cell_type": "code",
   "execution_count": 1,
   "metadata": {},
   "outputs": [],
   "source": [
    "!pip install category_encoders"
   ]
  },
  {
   "cell_type": "code",
   "execution_count": 2,
   "metadata": {},
   "outputs": [],
   "source": [
    "!pip install --upgrade pip"
   ]
  },
  {
   "cell_type": "code",
   "execution_count": 3,
   "metadata": {},
   "outputs": [],
   "source": [
    "!pip install --upgrade catboost"
   ]
  },
  {
   "cell_type": "code",
   "execution_count": 4,
   "metadata": {},
   "outputs": [],
   "source": [
    "# Установка необходимых библиотек\n",
    "import pandas as pd\n",
    "import matplotlib.pyplot as plt\n",
    "import seaborn as sns\n",
    "import numpy as np\n",
    "from sklearn.model_selection import train_test_split\n",
    "from sklearn.ensemble import RandomForestRegressor\n",
    "from sklearn.tree import DecisionTreeRegressor\n",
    "from sklearn.linear_model import LinearRegression\n",
    "from sklearn.metrics import mean_squared_error\n",
    "from sklearn.preprocessing import StandardScaler\n",
    "from sklearn.preprocessing import MinMaxScaler\n",
    "from sklearn.preprocessing import OrdinalEncoder\n",
    "from sklearn.model_selection import RandomizedSearchCV\n",
    "import lightgbm as lgb\n",
    "import xgboost as xgb\n",
    "from catboost import CatBoostRegressor\n",
    "from category_encoders import *\n",
    "from time import time\n",
    "from tqdm import tqdm\n",
    "from sklearn.model_selection import GridSearchCV\n",
    "from sklearn.metrics import make_scorer"
   ]
  },
  {
   "cell_type": "code",
   "execution_count": 5,
   "metadata": {},
   "outputs": [
    {
     "data": {},
     "metadata": {},
     "output_type": "display_data"
    }
   ],
   "source": [
    "from IPython.core.display import display, HTML\n",
    "display(HTML(\"<style>.container { width:90% !important; }</style>\"))"
   ]
  },
  {
   "cell_type": "code",
   "execution_count": 6,
   "metadata": {
    "scrolled": true
   },
   "outputs": [
    {
     "data": {},
     "metadata": {},
     "output_type": "display_data"
    },
    {
     "data": {},
     "execution_count": 6,
     "metadata": {},
     "output_type": "execute_result"
    }
   ],
   "source": [
    "df = pd.read_csv('datasets/autos.csv')\n",
    "display(df.info())\n",
    "df.head()"
   ]
  },
  {
   "cell_type": "markdown",
   "metadata": {},
   "source": [
    "Признаки   \n",
    "DateCrawled — дата скачивания анкеты из базы  \n",
    "VehicleType — тип автомобильного кузова  \n",
    "RegistrationYear — год регистрации автомобиля  \n",
    "Gearbox — тип коробки передач  \n",
    "Power — мощность (л. с.)  \n",
    "Model — модель автомобиля  \n",
    "Kilometer — пробег (км)  \n",
    "RegistrationMonth — месяц регистрации автомобиля  \n",
    "FuelType — тип топлива  \n",
    "Brand — марка автомобиля  \n",
    "Repaired — была машина в ремонте или нет  \n",
    "DateCreated — дата создания анкеты  \n",
    "NumberOfPictures — количество фотографий автомобиля  \n",
    "PostalCode — почтовый индекс владельца анкеты (пользователя)  \n",
    "LastSeen — дата последней активности пользователя  \n",
    "Целевой признак  \n",
    "Price — цена (евро)  \n"
   ]
  },
  {
   "cell_type": "code",
   "execution_count": 7,
   "metadata": {},
   "outputs": [
    {
     "data": {},
     "execution_count": 7,
     "metadata": {},
     "output_type": "execute_result"
    }
   ],
   "source": [
    "# Смотрим дубликаты\n",
    "df.duplicated().sum()"
   ]
  },
  {
   "cell_type": "markdown",
   "metadata": {},
   "source": [
    "<div style=\"border:solid green 3px; padding: 20px\">\n",
    "\n",
    "<b>\n",
    "Изучим данные. Заполним пропущенные значения и обработаем аномалии в столбцах. Если среди признаков имеются неинформативные, удалим их.  \n",
    "Подготовим выборки для обучения моделей. </b>\n",
    "\n"
   ]
  },
  {
   "cell_type": "code",
   "execution_count": 8,
   "metadata": {},
   "outputs": [],
   "source": [
    "# Удаляем дубликаты\n",
    "df = df.drop_duplicates().reset_index(drop=True) "
   ]
  },
  {
   "cell_type": "markdown",
   "metadata": {},
   "source": [
    "Преобразуем столбцы 'DateCrawled', 'DateCreated' и 'LastSeen' в формат datetime.\n",
    "\n",
    "Пройдем по каждому столбцу и используем функцию pd.to_datetime() для преобразования значений в формат datetime. Указанный формат '%Y-%m-%d %H:%M:%S' соответствует шаблону даты и времени в столбцах, которые нужно преобразовать."
   ]
  },
  {
   "cell_type": "code",
   "execution_count": 9,
   "metadata": {},
   "outputs": [],
   "source": [
    "for col in ['DateCrawled', 'DateCreated', 'LastSeen']:\n",
    "    df[col] = pd.to_datetime(df[col], format='%Y-%m-%d %H:%M:%S')\n"
   ]
  },
  {
   "cell_type": "markdown",
   "metadata": {},
   "source": [
    "Мы изменили тип колонок, связанные со временем, но колонки RegistrationMonth и RegistrationYear мы отнесем к численным признакам, которые могут помочь модели обучения.\n",
    "\n",
    "Создадим списки колонок, чтобы рассмотреть все характеристики столбцов:"
   ]
  },
  {
   "cell_type": "code",
   "execution_count": 10,
   "metadata": {},
   "outputs": [],
   "source": [
    "num_cols = []\n",
    "date_cols = []\n",
    "cat_cols = []\n",
    "\n",
    "for i in range(len(df.columns)):\n",
    "    if df.dtypes[i] == 'int64':\n",
    "        num_cols.append(df.columns[i])\n",
    "    elif df.dtypes[i] == 'datetime64[ns]':\n",
    "        date_cols.append(df.columns[i])\n",
    "    else:\n",
    "        cat_cols.append(df.columns[i])\n",
    "        \n",
    "print(num_cols, '\\n',date_cols, '\\n', cat_cols)"
   ]
  },
  {
   "cell_type": "code",
   "execution_count": 11,
   "metadata": {},
   "outputs": [
    {
     "data": {
      "image/png": "[encoded data removed]"
     },
     "metadata": {},
     "output_type": "display_data"
    }
   ],
   "source": [
    "# Создадим гистограммы столбцов\n",
    "fig, axes = plt.subplots(len(num_cols), 1, figsize=(15, 5 * len(num_cols)))\n",
    "\n",
    "for i, column in enumerate(num_cols):\n",
    "    axes[i].hist(df[column], bins=100)\n",
    "    axes[i].set_title(column)\n",
    "\n",
    "plt.tight_layout()\n",
    "plt.show()"
   ]
  },
  {
   "cell_type": "markdown",
   "metadata": {},
   "source": [
    "Используем цикл для получения индекса и значения столбцов num_cols. Также используем subplots для создания сетки графиков, что позволит отображать все графики в одном окне.\n"
   ]
  },
  {
   "cell_type": "code",
   "execution_count": 12,
   "metadata": {},
   "outputs": [
    {
     "data": {
      "image/png": "[encoded data removed]"
     },
     "metadata": {},
     "output_type": "display_data"
    }
   ],
   "source": [
    "fig, axes = plt.subplots(len(num_cols), 1, figsize=(15, 3 * len(num_cols)))\n",
    "\n",
    "for i, col in enumerate(num_cols):\n",
    "    axes[i].boxplot(df[col], vert=False)\n",
    "    axes[i].set_title(col, fontsize='x-large')\n",
    "\n",
    "plt.tight_layout()\n",
    "plt.show()"
   ]
  },
  {
   "cell_type": "markdown",
   "metadata": {},
   "source": [
    "Оценим распределение категориальных столбцов."
   ]
  },
  {
   "cell_type": "code",
   "execution_count": 13,
   "metadata": {},
   "outputs": [
    {
     "data": {
      "image/png": "[encoded data removed]"
     },
     "metadata": {},
     "output_type": "display_data"
    },
    {
     "data": {
      "image/png": "[encoded data removed]"
     },
     "metadata": {},
     "output_type": "display_data"
    },
    {
     "data": {
      "image/png": "[encoded data removed]"
     },
     "metadata": {},
     "output_type": "display_data"
    },
    {
     "data": {
      "image/png": "[encoded data removed]"
     },
     "metadata": {},
     "output_type": "display_data"
    },
    {
     "data": {
      "image/png": "[encoded data removed]"
     },
     "metadata": {},
     "output_type": "display_data"
    },
    {
     "data": {
      "image/png": "[encoded data removed]"
     },
     "metadata": {},
     "output_type": "display_data"
    }
   ],
   "source": [
    "for column in cat_cols:\n",
    "    plt.figure(figsize=(15, 5))\n",
    "    sns.countplot(data=df, x=column, color='lightblue')\n",
    "    plt.title(f'Распределение столбца {column}', fontsize='x-large')\n",
    "    plt.xticks(rotation=90)\n",
    "    plt.show()"
   ]
  },
  {
   "cell_type": "code",
   "execution_count": 14,
   "metadata": {},
   "outputs": [],
   "source": [
    "def show_rows(data_frame):\n",
    "    for column in data_frame.columns:\n",
    "        print('Уникальные значения столбца', column)\n",
    "        print(data_frame[column].unique())\n",
    "    print('Количество пропусков в каждом столбце')    \n",
    "    print(data_frame.isna().mean()*100)\n",
    "show_rows(df)"
   ]
  },
  {
   "cell_type": "markdown",
   "metadata": {},
   "source": [
    "Выводы:  \n",
    "В данных наблюдаются выбросы в некоторых столбцах, которые имеют очень странный характер. Вероятно, это является артефактами или ошибками в данных. \n",
    "\n",
    "Также обнаружены пропуски значений в категориальных столбцах, в то время как численные столбцы не содержат пропусков.  \n",
    "\n",
    "Столбец, отражающий количество фотографий, содержит только нулевые значения. Возможно, в данных произошла ошибка, и значения не были правильно заполнены.  \n",
    "\n",
    "Чтобы избежать удаления большого количества строк с пропущенными значениями, предлагается заполнить все пропущенные значения в категориальных столбцах значением \"unknown\". Это позволит сохранить данные и избежать потери информации.  "
   ]
  },
  {
   "cell_type": "code",
   "execution_count": 15,
   "metadata": {},
   "outputs": [],
   "source": [
    "df = df.fillna('unknown')"
   ]
  },
  {
   "cell_type": "code",
   "execution_count": 16,
   "metadata": {},
   "outputs": [
    {
     "data": {},
     "execution_count": 16,
     "metadata": {},
     "output_type": "execute_result"
    }
   ],
   "source": [
    "df.head(5)"
   ]
  },
  {
   "cell_type": "markdown",
   "metadata": {},
   "source": [
    "Рассмотрим артефакты:"
   ]
  },
  {
   "cell_type": "markdown",
   "metadata": {},
   "source": [
    "Benz Patent-Motorwagen (с нем. «патентованный автомобиль Бенца») — первый в мире автомобиль с двигателем внутреннего сгорания (как и автомобиль Даймлера), построенный в 1885 году немецким изобретателем Карлом Бенцем. 29 января 1886 года на него официально был получен патент №37435.\n",
    " Допустим, у нас в датафрейме присутствуют автомобили класса ретро. Все, что ниже этой даты, будем считать артефактами."
   ]
  },
  {
   "cell_type": "code",
   "execution_count": 17,
   "metadata": {},
   "outputs": [
    {
     "data": {},
     "metadata": {},
     "output_type": "display_data"
    },
    {
     "data": {},
     "metadata": {},
     "output_type": "display_data"
    }
   ],
   "source": [
    "# С помощью метода query(), применим условие фильтрации к столбцу RegistrationYear\n",
    "filtered_df = df.query('RegistrationYear < 1885 or RegistrationYear >= 2022')\n",
    "# Используем функцию display() для вывода на экран двух частей df\n",
    "display(filtered_df.head(), filtered_df.tail())\n",
    "# Выводим кол-во строк\n",
    "print(f\"Количество строк: {filtered_df.shape[0]}\")"
   ]
  },
  {
   "cell_type": "markdown",
   "metadata": {},
   "source": [
    "На сегодняшний день самым мощным легковым автомобилем в мире назван Dagger GT компании TranStar Racing LLC. Только представьте: мощность его двигателя превышает 2000 лошадиных сил (2028 л. с.). Допустим, что у нас есть такого класса автомобили. Фильтруем!"
   ]
  },
  {
   "cell_type": "code",
   "execution_count": 18,
   "metadata": {},
   "outputs": [],
   "source": [
    "filtered_df_2 = df.query('Power >= 2000')\n",
    "\n",
    "print(f\"Количество строк: {filtered_df_2.shape[0]}\")\n"
   ]
  },
  {
   "cell_type": "markdown",
   "metadata": {},
   "source": [
    "В двух столбцах замечены выбросы, которые могут повлиять на модель при обучении.\n",
    "\n",
    "Соотвественно, удалим лишние строки с выбросами в годах. Их всего 171.\n",
    "\n",
    "И также очистим строки с мощностью машин более 2000 л.с - 124 строки.\n",
    "\n"
   ]
  },
  {
   "cell_type": "code",
   "execution_count": 19,
   "metadata": {},
   "outputs": [],
   "source": [
    "df = df.drop(df.query('Power >= 2000').index).reset_index(drop=True)\n",
    "df = df.drop(df.query('RegistrationYear < 1885 or RegistrationYear >= 2022').index).reset_index(drop=True)\n"
   ]
  },
  {
   "cell_type": "markdown",
   "metadata": {},
   "source": [
    "\n",
    "df.info()"
   ]
  },
  {
   "cell_type": "markdown",
   "metadata": {},
   "source": [
    "Эти признаки удалим, они нам не понадобятся:  \n",
    "DateCrawled — дата скачивания анкеты из базы    \n",
    "DateCreated — дата создания анкеты  \n",
    "PostalCode — почтовый индекс владельца анкеты (пользователя)  \n",
    "NumberOfPictures — количество фотографий автомобиля   \n",
    "LastSeen — дата последней активности пользователя  "
   ]
  },
  {
   "cell_type": "code",
   "execution_count": 20,
   "metadata": {},
   "outputs": [
    {
     "data": {},
     "execution_count": 20,
     "metadata": {},
     "output_type": "execute_result"
    }
   ],
   "source": [
    "#Удалим столбцы которые нам не понадобятся\n",
    "df=df.drop(['DateCrawled','DateCreated','PostalCode','LastSeen','NumberOfPictures'], axis=1)\n",
    "df.head(5)\n",
    "\n"
   ]
  },
  {
   "cell_type": "markdown",
   "metadata": {},
   "source": [
    "Прежде чем приступить к обучению моделей, необходимо подготовить данные для обработки. Для этого выполним следующие шаги:  \n",
    "- Применим метод OHE (One-Hot Encoding) только к признакам, где имеется небольшое количество уникальных значений. Признак Model не будет включен в этот процесс.\n",
    "- Разделим выборку на тренировочную и тестовую части.\n",
    "- Заменим значения 0 в целевом признаке на тренировочной выборке.\n",
    "- Обучим модель TargetEncoder на признаке Model, используя тренировочную выборку, а затем применим эту модель как для тренировочной, так и для тестовой выборок.\n",
    "- Применим стандартизацию к признакам.\n",
    "- Добавим в тренировочную и тестовую выборки столбцы, полученные в результате OHE, чтобы количество признаков было согласовано."
   ]
  },
  {
   "cell_type": "markdown",
   "metadata": {},
   "source": [
    "## Подготовка данных"
   ]
  },
  {
   "cell_type": "markdown",
   "metadata": {},
   "source": [
    "<div style=\"border:solid green 3px; padding: 20px\">\n",
    "\n",
    "<b>\n",
    "Подготовим выборки для обучения моделей. </b>\n"
   ]
  },
  {
   "cell_type": "markdown",
   "metadata": {},
   "source": [
    "Наша задача сейчас, создать новый датафрейм df_ohe, содержащий исходные столбцы из df, а также новые столбцы, представляющие фиктивные переменные для категориальных столбцов. В итоге, количество столбцов в df_ohe будет больше, чем в исходном датафрейме df, поскольку каждая категория будет представлена отдельным столбцом с бинарными значениями.\n"
   ]
  },
  {
   "cell_type": "code",
   "execution_count": 21,
   "metadata": {},
   "outputs": [],
   "source": [
    "# Удаляем нужный столбец из категорий для обработки\n",
    "cat_cols.remove('Model')"
   ]
  },
  {
   "cell_type": "code",
   "execution_count": 22,
   "metadata": {},
   "outputs": [],
   "source": [
    "# Создаем при помощи one-hot encoding фиктивные переменные для категориальных столбцов cat_cols в DataFrame.\n",
    "df_ohe = pd.get_dummies(df, columns=cat_cols, drop_first=True)\n",
    "\n",
    "df_ohe.info()"
   ]
  },
  {
   "cell_type": "markdown",
   "metadata": {},
   "source": [
    "Так как мы будем заменять нули на тренировочной выборке, стоит разделить на начальном датасете и выполнить предобработку:"
   ]
  },
  {
   "cell_type": "code",
   "execution_count": 23,
   "metadata": {},
   "outputs": [],
   "source": [
    "train, test = train_test_split(df,\n",
    "                               test_size=0.20,\n",
    "                               random_state=12345)\n",
    "\n",
    "print('Размер тренировочной выборки:', train.shape,\n",
    "      '\\nРазмер тестовой выборки:', test.shape)"
   ]
  },
  {
   "cell_type": "markdown",
   "metadata": {},
   "source": [
    "Заменим нули на трейне на пустые значения для заполнения:"
   ]
  },
  {
   "cell_type": "code",
   "execution_count": 24,
   "metadata": {},
   "outputs": [
    {
     "data": {},
     "execution_count": 24,
     "metadata": {},
     "output_type": "execute_result"
    }
   ],
   "source": [
    "train['Price'] = train['Price'].replace(0, np.nan)\n",
    "\n",
    "train['Price'].isna().sum()\n"
   ]
  },
  {
   "cell_type": "markdown",
   "metadata": {},
   "source": [
    "Выполним заполнение пропущенных значений в столбце 'Price' медианными значениями для каждой группы, сгруппированной по 'RegistrationYear' и 'Brand'. Затем выводем строки, в которых значение столбца 'Price' остается пропущенным. Это может быть полезно для идентификации строк с пропущенными значениями после выполнения заполнения."
   ]
  },
  {
   "cell_type": "code",
   "execution_count": 26,
   "metadata": {},
   "outputs": [],
   "source": [
    "train = train.dropna(subset=['Price'])\n",
    "\n",
    "print(train[train['Price'].isna()])"
   ]
  },
  {
   "cell_type": "markdown",
   "metadata": {},
   "source": [
    "Видим три раритетных машины, где цена была указана 0, удаляем"
   ]
  },
  {
   "cell_type": "code",
   "execution_count": 28,
   "metadata": {},
   "outputs": [],
   "source": [
    "train = train.dropna()"
   ]
  },
  {
   "cell_type": "markdown",
   "metadata": {},
   "source": [
    "Выполним кодирование категориальной переменной 'Model' с использованием TargetEncoder, обученного на данных обучающего набора. Кодированные значения заменяют исходные значения в столбцах 'Model' в обучающем и тестовом наборах. Это позволит использовать информацию о целевой переменной при кодировании категориальной переменной, что может может помочь модели лучше улавливать зависимости и улучшить предсказания."
   ]
  },
  {
   "cell_type": "code",
   "execution_count": 29,
   "metadata": {},
   "outputs": [],
   "source": [
    "# Создаем переменную класса TargetEncoder()\n",
    "target_en = TargetEncoder()\n",
    "# Вызываем метод fit() на объекте target_en, чтобы выполнить обучение кодировщика на основе данных обучающего набора\n",
    "target_en.fit(train['Model'], train['Price'])\n",
    "train['Model'] = target_en.transform(train['Model'])\n",
    "test['Model'] = target_en.transform(test['Model'])"
   ]
  },
  {
   "cell_type": "markdown",
   "metadata": {},
   "source": [
    "Объединим данные, чтобы приступить к обучению модели:\n"
   ]
  },
  {
   "cell_type": "code",
   "execution_count": 30,
   "metadata": {},
   "outputs": [],
   "source": [
    "# С помощью функции pd.concat() объединяем train и df_ohe.drop(train.columns.drop(cat_cols), axis=1)\n",
    "train = pd.concat([train, df_ohe.drop(train.columns.drop(cat_cols), axis=1)], \n",
    "                  join='inner', \n",
    "                  axis=1)\n",
    "# С помощью функции pd.concat() объединяются test и df_ohe.drop(test.columns.drop(cat_cols), axis=1)\n",
    "test = pd.concat([test, df_ohe.drop(test.columns.drop(cat_cols), axis=1)], \n",
    "                 join='inner', \n",
    "                 axis=1)\n",
    "# C помощью метода drop() удаляем из датафрейма test все столбцы, которые не являются категориальными переменными (cat_cols)\n",
    "train = train.drop(cat_cols, axis=1)\n",
    "test = test.drop(cat_cols, axis=1)\n",
    "\n",
    "print('Размер тренировочной выборки:', train.shape,\n",
    "      '\\nРазмер тестовой выборки:', test.shape)"
   ]
  },
  {
   "cell_type": "markdown",
   "metadata": {},
   "source": [
    "Применим стандартизацию:    \n",
    "Только применять мы ее будем исключительно к числовым признакам. Это предотвратит возможные ошибки, если столбцы уже имеют тип данных float или были предварительно обработаны.\n",
    "\n",
    "Хорошей практикой является разделение предварительной обработки данных на обучающую и тестовую выборки, чтобы избежать влияния информации из тестовой выборки на процесс обучения. Поэтому мы будем выполнять обучение StandardScaler на обучающей выборке и применять его на обучающей и тестовой выборках отдельно.\n",
    "\n"
   ]
  },
  {
   "cell_type": "code",
   "execution_count": 31,
   "metadata": {},
   "outputs": [],
   "source": [
    "train_features = train.drop('Price', axis=1)\n",
    "train_target = train['Price']\n",
    "\n",
    "test_features = test.drop('Price', axis=1)\n",
    "test_target = test['Price']\n",
    "\n",
    "num_cols = ['Kilometer', 'Power', 'RegistrationYear', 'RegistrationMonth']\n",
    "\n",
    "# Применяем стандартизацию только к числовым признакам\n",
    "num_train_features = train_features[num_cols]\n",
    "num_test_features = test_features[num_cols]\n",
    "\n",
    "scaler = StandardScaler()\n",
    "scaler.fit(num_train_features)\n",
    "\n",
    "train_features[num_cols] = scaler.transform(num_train_features)\n",
    "test_features[num_cols] = scaler.transform(num_test_features)"
   ]
  },
  {
   "cell_type": "code",
   "execution_count": 32,
   "metadata": {},
   "outputs": [],
   "source": [
    "df.info()\n"
   ]
  },
  {
   "cell_type": "markdown",
   "metadata": {},
   "source": [
    "**Вывод:**\n",
    "\n",
    "\n",
    "Мы провели обширную предобработку данных, которая включила в себя заполнение пропущенных значений, удаление неинформативных признаков и подготовку выборок для обучения моделей.  \n",
    "В процессе заполнения пропусков в данных мы использовали различные методы.  \n",
    "Для столбца 'Price' мы удалили записи с пропущенными значениями, так как эти записи не могут быть использованы для обучения моделей.   \n",
    "Категориальный признак 'Model' мы закодировали с помощью TargetEncoder, обученного на данных обучающего набора. Это позволит моделям использовать информацию о целевой переменной при обучении.   \n",
    "Также мы применили стандартизацию StandardScaler к числовым признакам, чтобы привести их к одному масштабу перед обучением моделей.\n",
    "\n",
    "Теперь данные готовы для обучения моделей и дальнейшего анализа.    "
   ]
  },
  {
   "cell_type": "markdown",
   "metadata": {},
   "source": [
    "## Обучение моделей"
   ]
  },
  {
   "cell_type": "markdown",
   "metadata": {},
   "source": [
    "<div style=\"border:solid green 3px; padding: 20px\">\n",
    "\n",
    "<b>\n",
    "Обучим разные модели, одна из которых — LightGBM. Для каждой модели попробуем разные гиперпараметры.\n",
    "Проанализируем время обучения, время предсказания и качество моделей.  \n",
    "Опираясь на критерии заказчика, выберем лучшую модель, проверем её качество на тестовой выборке.  \n",
    "Примечания:  \n",
    "Для оценки качества моделей применим метрику RMSE.   </b>\n"
   ]
  },
  {
   "cell_type": "markdown",
   "metadata": {},
   "source": [
    "Воспользуемся несколькими библиотеками и моделями машинного обучения:  \n",
    "\n",
    "Линейная регрессия  \n",
    "Дерево решений  \n",
    "Случайный лес  \n",
    "Градиентный бустинг  \n",
    "Такими библиотеками, как:  \n",
    "\n",
    "sklearn  \n",
    "XGBoost  \n",
    "LightGBM  \n",
    "CatBoost  "
   ]
  },
  {
   "cell_type": "markdown",
   "metadata": {},
   "source": [
    "Делим выборки:"
   ]
  },
  {
   "cell_type": "code",
   "execution_count": 33,
   "metadata": {},
   "outputs": [],
   "source": [
    "train_features, valid_features, train_target, valid_target = train_test_split(train_features, \n",
    "                                                                              train_target,\n",
    "                                                                              test_size=0.25,\n",
    "                                                                              random_state=12345)\n"
   ]
  },
  {
   "cell_type": "markdown",
   "metadata": {},
   "source": [
    "Приступим к обучению модели:"
   ]
  },
  {
   "cell_type": "code",
   "execution_count": 34,
   "metadata": {},
   "outputs": [],
   "source": [
    "lnr = LinearRegression()\n",
    "\n",
    "start = time()\n",
    "lnr.fit(train_features, train_target)\n",
    "predicted = lnr.predict(valid_features)\n",
    "lnr_time_fit = time() - start\n",
    "\n",
    "print('Время обучения модели: {:0.2f} секунд'.format(lnr_time_fit),\n",
    "      '\\nRMSE на валидационной выборке:', mean_squared_error(valid_target, predicted, squared=False))"
   ]
  },
  {
   "cell_type": "markdown",
   "metadata": {},
   "source": [
    "Вывод:\n",
    "\n",
    "После обработки данных, метрика качества на RMSE на валидационной выборке: 2820.20.\n",
    "\n",
    "Время предсказания модели: 0.19 секунд.\n",
    "\n",
    "Сравним деревянные модели и сделаем вывод\n",
    "\n",
    "Удалим заранее переменные, которые нам больше не понадобятся:"
   ]
  },
  {
   "cell_type": "code",
   "execution_count": 35,
   "metadata": {},
   "outputs": [],
   "source": [
    "del df_ohe"
   ]
  },
  {
   "cell_type": "markdown",
   "metadata": {},
   "source": [
    "Для использования RandomizedSearchCV - объединим назад наши выборки. RandomizedSearchCV - это инструмент для подбора оптимальных гиперпараметров модели машинного обучения с использованием случайного поиска. Он является частью библиотеки scikit-learn и предоставляет функциональность для автоматизации процесса подбора гиперпараметров.\n",
    "\n",
    "RandomizedSearchCV выполняет случайное исследование пространства гиперпараметров модели, выбирая случайным образом комбинации значений гиперпараметров из заданного набора. Затем он оценивает модель с использованием выбранной комбинации гиперпараметров и сохраняет результаты оценки. После выполнения определенного числа итераций (заданного пользователем) он возвращает лучшие найденные значения гиперпараметров, основываясь на заданной метрике оценки.\n",
    "\n",
    "Это позволяет автоматизировать и упростить процесс подбора гиперпараметров, исследуя широкий диапазон значений с использованием случайных комбинаций. Это особенно полезно, когда пространство гиперпараметров большое или неизвестно, какие значения будут наиболее эффективными для модели."
   ]
  },
  {
   "cell_type": "code",
   "execution_count": 36,
   "metadata": {},
   "outputs": [],
   "source": [
    "train_features = pd.concat([train_features, valid_features])\n",
    "train_target = pd.concat([train_target, valid_target])"
   ]
  },
  {
   "cell_type": "markdown",
   "metadata": {},
   "source": [
    "\n",
    "Для подбора параметров деревянных моделей будем использовать RandomizedSearchCV, чтобы ускорить вычисления.  \n",
    "\n",
    "Создадим функцию, которая обучит и вернет модель и метрику:  "
   ]
  },
  {
   "cell_type": "code",
   "execution_count": 37,
   "metadata": {},
   "outputs": [],
   "source": [
    "# Создаем пустой DataFrame analisys с колонками 'model', 'RMSE' и 'time_to_predict' для результатов анализа моделей\n",
    "analisys = pd.DataFrame({'model':[], 'RMSE':[], 'time_to_predict':[]})\n",
    "# Создаем пустой список all_models, в котором будут храниться все обученные модели\n",
    "all_models = []\n",
    "# Определяем функцию train_model, которая принимает модель и ее параметры в качестве аргументов\n",
    "def train_model(model, parameters):\n",
    "# Внутри функции train_model выполним случайный поиск наилучших параметров модели с помощью RandomizedSearchCV    \n",
    "    model_random = RandomizedSearchCV(estimator=model,\n",
    "                                      param_distributions=parameters, # используем параметры\n",
    "                                      n_iter=100, \n",
    "                                      scoring='neg_mean_absolute_error', # используем необходимую метрику\n",
    "                                      cv=3, \n",
    "                                      verbose=1, \n",
    "                                      random_state=12345)\n",
    "    \n",
    "    # Посмотрим время обучения с помощью функции time()\n",
    "    start = time()\n",
    "    model_random.fit(train_features, train_target)\n",
    "    print('RandomizedSearchCV подбирал параметры %.2f секунд' %(time() - start))\n",
    "    # замеряем и выводим время, затраченное на предсказание модели\n",
    "    start = time()\n",
    "    model_random.predict(train_features)\n",
    "    time_to_predict = time() - start\n",
    "    print('Модель предсказывает за %.2f секунд' %time_to_predict)\n",
    "    \n",
    "    # Вычислим значение RMSE модели с помощью атрибута best_score_ модели model_random\n",
    "    rmse = model_random.best_score_ * -1 ** 0.5\n",
    "    # Выводим лучшие параметры модели и значение RMSE обученной модели\n",
    "    print('Лучшие параметры:', model_random.best_params_)\n",
    "    print('RMSE обученной модели:', rmse)\n",
    "    \n",
    "    # Обученная модель model_random и значение RMSE сохраняем в списке all_models и добавляем в DataFrame analisys\n",
    "    all_models.append(model_random)\n",
    "    row = []\n",
    "    row.extend([model, rmse, time_to_predict])\n",
    "    analisys.loc[len(analisys.index)] = row\n",
    "    # Функция train_model возвращает обученную модель model_random и значение RMSE модели\n",
    "    return model_random, rmse"
   ]
  },
  {
   "cell_type": "markdown",
   "metadata": {},
   "source": [
    "Выполним обучение модели Дерево решений и оценим ее производительность. "
   ]
  },
  {
   "cell_type": "code",
   "execution_count": 38,
   "metadata": {},
   "outputs": [],
   "source": [
    "# Создаем словарь ran_grid_tree \n",
    "ran_grid_tree = {\n",
    "    'max_depth': [15]\n",
    "}\n",
    "# Инициализируем модель DecisionTreeRegressor \n",
    "dtr = DecisionTreeRegressor()\n",
    "# Возвращаем два значения: dtr_random - обученную модель DecisionTreeRegressor и rmse_dtr - значение метрики RMSE\n",
    "dtr_random, rmse_dtr = train_model(dtr, ran_grid_tree)"
   ]
  },
  {
   "cell_type": "markdown",
   "metadata": {},
   "source": [
    "Случайный лес"
   ]
  },
  {
   "cell_type": "code",
   "execution_count": 39,
   "metadata": {},
   "outputs": [],
   "source": [
    "# Создаем словарь ran_grid_forest\n",
    "\n",
    "ran_grid_forest = {\n",
    "    'max_depth': [11, 12, 13],\n",
    "    'n_estimators': [100, 200, 300]\n",
    "}\n",
    "# Инициализируем модель RandomForestRegressor\n",
    "rfr = RandomForestRegressor(n_jobs=-1)\n",
    "\n",
    "rfr_random, rmse_rfr = train_model(rfr, ran_grid_forest) # обучим и сохраним значения\n",
    "\n",
    "ran_grid_forest = {\n",
    "    'max_depth': [11, 12, 13],\n",
    "    'n_estimators': [100, 200, 300]\n",
    "}\n",
    "\n",
    "rfr = RandomForestRegressor(n_jobs=-1)\n",
    "# Возвращаем два значения\n",
    "rfr_random, rmse_rfr = train_model(rfr, ran_grid_forest)"
   ]
  },
  {
   "cell_type": "markdown",
   "metadata": {},
   "source": [
    "LightGBM:"
   ]
  },
  {
   "cell_type": "code",
   "execution_count": 40,
   "metadata": {},
   "outputs": [],
   "source": [
    "# Создаем словарь \n",
    "rand_lgbm_param = {\n",
    "    'max_depth': [5, 10, 15, 25, 35],\n",
    "    'learning_rate': [0.01, 0.1, 0.15]\n",
    "}\n",
    "\n",
    "gbm = lgb.LGBMRegressor(boosting_type='gbdt',\n",
    "                         objective = 'regression',\n",
    "                         metric = 'RMSE')\n",
    "# Возвращаем два значения\n",
    "gbm_random, rmse_gbm = train_model(gbm, rand_lgbm_param)"
   ]
  },
  {
   "cell_type": "markdown",
   "metadata": {},
   "source": [
    "XGBoost:\n",
    "\n"
   ]
  },
  {
   "cell_type": "code",
   "execution_count": 41,
   "metadata": {},
   "outputs": [],
   "source": [
    "# Создаем словарь \n",
    "rand_xgb_param = {\n",
    "    'max_depth': [12, 13, 14, 15],\n",
    "    'learning_rate': [0.1, 0.15, 0.3]\n",
    "}\n",
    "\n",
    "xb = xgb.XGBRegressor(booster='gbtree', \n",
    "                      eval_metric='rmse', \n",
    "                      use_rmm=True)\n",
    "# Возвращаем два значения\n",
    "xb_random, rmse_xb = train_model(xb, rand_xgb_param)"
   ]
  },
  {
   "cell_type": "markdown",
   "metadata": {},
   "source": [
    "CatBoost:"
   ]
  },
  {
   "cell_type": "code",
   "execution_count": 42,
   "metadata": {},
   "outputs": [],
   "source": [
    "# Создаем словарь \n",
    "rand_cat_param = {\n",
    "    'max_depth': [8, 9, 10, 11],\n",
    "    'learning_rate': [0.01, 0.1, 0.2]\n",
    "}\n",
    "\n",
    "cat = CatBoostRegressor(verbose=False, \n",
    "                        task_type='CPU') \n",
    "# Возвращаем два значения\n",
    "cat_random, rmse_cat = train_model(cat, rand_cat_param)"
   ]
  },
  {
   "cell_type": "markdown",
   "metadata": {},
   "source": [
    "## Анализ моделей\n",
    "\n",
    "Создадим списки для заполнения нашей итоговой таблицы и рассмотрим полученные метрики:"
   ]
  },
  {
   "cell_type": "code",
   "execution_count": 43,
   "metadata": {},
   "outputs": [
    {
     "data": {},
     "metadata": {},
     "output_type": "display_data"
    },
    {
     "data": {
      "image/png": "[encoded data removed]"
     },
     "metadata": {},
     "output_type": "display_data"
    },
    {
     "data": {
      "image/png": "[encoded data removed]"
     },
     "metadata": {},
     "output_type": "display_data"
    }
   ],
   "source": [
    "# Задаем пастельность графикам\n",
    "sns.set_palette(\"pastel\")\n",
    "\n",
    "all_names = pd.DataFrame({'names':['DecisionTree', 'RandomForest', 'LightGBM', 'XGBoost', 'CatBoost']})\n",
    "analisys = pd.concat([analisys, all_names], axis=1, join='inner')\n",
    "# Вывод таблицы анализа моделей\n",
    "display(analisys)\n",
    "\n",
    "# График сравнения метрик моделей\n",
    "plt.figure(figsize=(15, 7))\n",
    "sns.barplot(data=analisys, x='names', y='RMSE')\n",
    "plt.title('Сравнение метрик моделей', fontsize='x-large')\n",
    "plt.xlabel('Модель')\n",
    "plt.xticks(rotation=45)\n",
    "plt.show()\n",
    "\n",
    "# График сравнения скорости предсказания моделей\n",
    "plt.figure(figsize=(15, 7))\n",
    "sns.barplot(data=analisys.sort_values(by='time_to_predict', ascending=False), x='names', y='time_to_predict')\n",
    "plt.title('Сравнение скорости предсказания моделей', fontsize='x-large')\n",
    "plt.xlabel('Модель')\n",
    "plt.xticks(rotation=45)\n",
    "plt.show()\n"
   ]
  },
  {
   "cell_type": "markdown",
   "metadata": {},
   "source": [
    "Из проведенного анализа моделей следует следующее:\n",
    "\n",
    "Среди всех деревянных моделей с рандомными параметрами LightGBM обучается быстрее всех. Самой низкой производительностью обладает линейная регрессия.\n",
    "Модели CatBoost и XGBoost демонстрируют наилучшие метрики качества. Разница между ними незначительна. Однако время обучения этих моделей является самым длительным.\n",
    "Наиболее оптимальное сочетание времени предсказания и качества модели наблюдается у модели XGBoost.\n",
    "В результате анализа наиболее рекомендуется выбрать обученную модель XGBoost для дальнейшего использования."
   ]
  },
  {
   "cell_type": "markdown",
   "metadata": {},
   "source": [
    "Необходимо измерить время предсказания модели на тестовой выборке и вычисляет RMSE для оценки точности модели на тестовых данных."
   ]
  },
  {
   "cell_type": "code",
   "execution_count": 44,
   "metadata": {},
   "outputs": [],
   "source": [
    "# Засекаем текущее время с помощью функции time() и сохраняем его в переменную start\n",
    "start = time()\n",
    "# Используем обученную модель xb_random для предсказания на тестовой выборке test_features\n",
    "predicted = xb_random.predict(test_features)\n",
    "# Вычислим время и выводим время, затраченное на предсказания на тесте\n",
    "print('Модель предсказывает не тестовой выборке за %.2f секунд' %(time() - start))\n",
    "# Вычисляем значение RMSE\n",
    "rmse_on_test = mean_squared_error(test_target, predicted, squared=False)\n",
    "# Выводим итоговое значение RMSE на тестовой выборке\n",
    "print('Итоговый RMSE на тестовой выборке:', rmse_on_test)"
   ]
  },
  {
   "cell_type": "markdown",
   "metadata": {},
   "source": [
    "Вывод:  \n",
    "\n",
    "\n",
    "Мы загрузили данные из файла /datasets/autos.csv и изучили их. В процессе обработки данных мы заполнили пропущенные значения и обработали аномалии в столбцах. Неинформативные признаки были удалены из датасета.\n",
    "\n",
    "Далее мы подготовили выборки для обучения моделей. Мы использовали различные модели, включая LightGBM, а также несколько других моделей, не относящихся к бустингу. Для каждой модели мы экспериментировали с разными гиперпараметрами, чтобы найти наилучшие значения.\n",
    "\n",
    "Мы проанализировали время обучения, время предсказания и качество моделей. Для оценки качества моделей мы использовали метрику RMSE. Критерием выбора лучшей модели были требования заказчика, и мы выбрали модель, удовлетворяющую этим требованиям. Затем мы проверили качество выбранной модели на тестовой выборке.\n",
    "\n",
    "\n",
    "\n",
    "В целом, все модели предсказывают довольно быстро, но все же для заказчика важна скорость предсказания и метрика, потому лучшая модель - XGBoost, для которого RandomizedSearchCV подбирал параметры 866.26 секунд, модель предсказывает за 0.88 секунд, лучшие параметры: {'max_depth': 15, 'learning_rate': 0.1}, RMSE обученной модели: 964.1324596613126."
   ]
  }
 ],
 "metadata": {
  "ExecuteTimeLog": [
   {
    "duration": 5721,
    "start_time": "2023-06-27T11:40:41.396Z"
   },
   {
    "duration": 14,
    "start_time": "2023-06-27T11:42:44.751Z"
   },
   {
    "duration": 5,
    "start_time": "2023-06-27T11:44:02.599Z"
   },
   {
    "duration": 13,
    "start_time": "2023-06-27T11:44:13.202Z"
   },
   {
    "duration": 10,
    "start_time": "2023-06-27T11:44:28.463Z"
   },
   {
    "duration": 1192,
    "start_time": "2023-06-27T11:45:33.110Z"
   },
   {
    "duration": 1086,
    "start_time": "2023-06-27T11:46:25.343Z"
   },
   {
    "duration": 126,
    "start_time": "2023-06-27T11:48:32.199Z"
   },
   {
    "duration": 123,
    "start_time": "2023-06-27T11:49:01.299Z"
   },
   {
    "duration": 127,
    "start_time": "2023-06-27T11:49:16.008Z"
   },
   {
    "duration": 520,
    "start_time": "2023-06-27T12:06:50.321Z"
   },
   {
    "duration": 372,
    "start_time": "2023-06-27T12:06:56.318Z"
   },
   {
    "duration": 542,
    "start_time": "2023-06-27T12:07:01.922Z"
   },
   {
    "duration": 644,
    "start_time": "2023-06-27T12:07:10.709Z"
   },
   {
    "duration": 450,
    "start_time": "2023-06-27T12:25:24.334Z"
   },
   {
    "duration": 540,
    "start_time": "2023-06-27T12:26:09.622Z"
   },
   {
    "duration": 1210,
    "start_time": "2023-06-27T12:26:31.531Z"
   },
   {
    "duration": 14,
    "start_time": "2023-06-27T12:27:14.235Z"
   },
   {
    "duration": 243,
    "start_time": "2023-06-27T12:28:24.138Z"
   },
   {
    "duration": 9,
    "start_time": "2023-06-27T12:29:12.212Z"
   },
   {
    "duration": 1883,
    "start_time": "2023-06-27T12:29:31.120Z"
   },
   {
    "duration": 2088,
    "start_time": "2023-06-27T12:29:50.322Z"
   },
   {
    "duration": 1768,
    "start_time": "2023-06-27T12:30:14.465Z"
   },
   {
    "duration": 1822,
    "start_time": "2023-06-27T12:30:33.671Z"
   },
   {
    "duration": 2111,
    "start_time": "2023-06-27T12:30:42.749Z"
   },
   {
    "duration": 2141,
    "start_time": "2023-06-27T12:30:55.561Z"
   },
   {
    "duration": 2807,
    "start_time": "2023-06-27T12:31:04.510Z"
   },
   {
    "duration": 2745,
    "start_time": "2023-06-27T12:31:31.951Z"
   },
   {
    "duration": 3200,
    "start_time": "2023-06-27T12:31:45.729Z"
   },
   {
    "duration": 2277,
    "start_time": "2023-06-27T12:32:36.666Z"
   },
   {
    "duration": 2601,
    "start_time": "2023-06-27T12:33:03.535Z"
   },
   {
    "duration": 2614,
    "start_time": "2023-06-27T12:33:17.224Z"
   },
   {
    "duration": 2768,
    "start_time": "2023-06-27T12:33:38.926Z"
   },
   {
    "duration": 2034,
    "start_time": "2023-06-27T12:36:04.237Z"
   },
   {
    "duration": 1080,
    "start_time": "2023-06-27T12:36:33.308Z"
   },
   {
    "duration": 2005,
    "start_time": "2023-06-27T12:36:46.033Z"
   },
   {
    "duration": 1942,
    "start_time": "2023-06-27T12:37:10.608Z"
   },
   {
    "duration": 2012,
    "start_time": "2023-06-27T12:37:28.267Z"
   },
   {
    "duration": 2236,
    "start_time": "2023-06-27T12:37:47.735Z"
   },
   {
    "duration": 2221,
    "start_time": "2023-06-27T12:38:09.814Z"
   },
   {
    "duration": 1107,
    "start_time": "2023-06-27T12:38:12.037Z"
   },
   {
    "duration": 557,
    "start_time": "2023-06-27T12:38:13.146Z"
   },
   {
    "duration": 648,
    "start_time": "2023-06-27T12:38:13.705Z"
   },
   {
    "duration": 479,
    "start_time": "2023-06-27T12:38:14.356Z"
   },
   {
    "duration": 262,
    "start_time": "2023-06-27T12:38:14.837Z"
   },
   {
    "duration": 22,
    "start_time": "2023-06-27T12:38:15.100Z"
   },
   {
    "duration": 2446,
    "start_time": "2023-06-27T12:38:15.124Z"
   },
   {
    "duration": 925,
    "start_time": "2023-06-27T12:42:28.376Z"
   },
   {
    "duration": 3138,
    "start_time": "2023-06-27T12:44:27.118Z"
   },
   {
    "duration": 958,
    "start_time": "2023-06-27T12:50:05.645Z"
   },
   {
    "duration": 3223,
    "start_time": "2023-06-27T12:51:02.215Z"
   },
   {
    "duration": 3120,
    "start_time": "2023-06-27T12:51:13.422Z"
   },
   {
    "duration": 3308,
    "start_time": "2023-06-27T12:51:27.926Z"
   },
   {
    "duration": 1168,
    "start_time": "2023-06-27T12:56:20.052Z"
   },
   {
    "duration": 157,
    "start_time": "2023-06-27T12:57:20.652Z"
   },
   {
    "duration": 1051,
    "start_time": "2023-06-27T12:57:45.618Z"
   },
   {
    "duration": 1000,
    "start_time": "2023-06-27T12:58:14.743Z"
   },
   {
    "duration": 6189,
    "start_time": "2023-06-27T13:02:40.930Z"
   },
   {
    "duration": 6290,
    "start_time": "2023-06-27T13:04:07.223Z"
   },
   {
    "duration": 6357,
    "start_time": "2023-06-27T13:04:17.223Z"
   },
   {
    "duration": 395,
    "start_time": "2023-06-27T13:06:33.757Z"
   },
   {
    "duration": 237,
    "start_time": "2023-06-27T13:06:59.622Z"
   },
   {
    "duration": 258,
    "start_time": "2023-06-27T13:07:46.730Z"
   },
   {
    "duration": 373,
    "start_time": "2023-06-27T13:09:57.207Z"
   },
   {
    "duration": 591,
    "start_time": "2023-06-27T13:11:18.118Z"
   },
   {
    "duration": 354,
    "start_time": "2023-06-27T13:11:28.644Z"
   },
   {
    "duration": 374,
    "start_time": "2023-06-27T13:12:01.823Z"
   },
   {
    "duration": 266,
    "start_time": "2023-06-27T13:13:02.356Z"
   },
   {
    "duration": 269,
    "start_time": "2023-06-27T13:13:40.124Z"
   },
   {
    "duration": 194,
    "start_time": "2023-06-27T13:19:08.572Z"
   },
   {
    "duration": 178,
    "start_time": "2023-06-27T13:24:39.143Z"
   },
   {
    "duration": 210,
    "start_time": "2023-06-27T13:24:54.647Z"
   },
   {
    "duration": 160,
    "start_time": "2023-06-27T13:26:07.831Z"
   },
   {
    "duration": 1859,
    "start_time": "2023-06-27T13:50:33.131Z"
   },
   {
    "duration": 1330,
    "start_time": "2023-06-27T13:50:34.992Z"
   },
   {
    "duration": 589,
    "start_time": "2023-06-27T13:50:36.325Z"
   },
   {
    "duration": 696,
    "start_time": "2023-06-27T13:50:36.922Z"
   },
   {
    "duration": 279,
    "start_time": "2023-06-27T13:50:37.627Z"
   },
   {
    "duration": 16,
    "start_time": "2023-06-27T13:50:37.908Z"
   },
   {
    "duration": 2659,
    "start_time": "2023-06-27T13:50:37.926Z"
   },
   {
    "duration": 1107,
    "start_time": "2023-06-27T13:50:40.586Z"
   },
   {
    "duration": 7177,
    "start_time": "2023-06-27T13:50:41.695Z"
   },
   {
    "duration": 288,
    "start_time": "2023-06-27T13:50:48.874Z"
   },
   {
    "duration": 139,
    "start_time": "2023-06-27T13:50:49.164Z"
   },
   {
    "duration": 102,
    "start_time": "2023-06-28T07:47:49.425Z"
   },
   {
    "duration": 194,
    "start_time": "2023-06-28T07:49:25.352Z"
   },
   {
    "duration": 71,
    "start_time": "2023-06-28T07:57:42.330Z"
   },
   {
    "duration": 2062,
    "start_time": "2023-06-28T07:57:54.428Z"
   },
   {
    "duration": 83,
    "start_time": "2023-06-28T07:57:56.495Z"
   },
   {
    "duration": 3839,
    "start_time": "2023-06-28T07:57:56.582Z"
   },
   {
    "duration": 650,
    "start_time": "2023-06-28T07:58:00.424Z"
   },
   {
    "duration": 740,
    "start_time": "2023-06-28T07:58:01.079Z"
   },
   {
    "duration": 327,
    "start_time": "2023-06-28T07:58:01.821Z"
   },
   {
    "duration": 26,
    "start_time": "2023-06-28T07:58:02.151Z"
   },
   {
    "duration": 2844,
    "start_time": "2023-06-28T07:58:02.183Z"
   },
   {
    "duration": 1195,
    "start_time": "2023-06-28T07:58:05.030Z"
   },
   {
    "duration": 6691,
    "start_time": "2023-06-28T07:58:06.227Z"
   },
   {
    "duration": 322,
    "start_time": "2023-06-28T07:58:12.920Z"
   },
   {
    "duration": 164,
    "start_time": "2023-06-28T07:58:13.244Z"
   },
   {
    "duration": 8751,
    "start_time": "2023-06-28T08:00:29.244Z"
   },
   {
    "duration": 319,
    "start_time": "2023-06-28T08:50:05.282Z"
   },
   {
    "duration": 326,
    "start_time": "2023-06-28T08:50:17.076Z"
   },
   {
    "duration": 193,
    "start_time": "2023-06-28T08:52:27.870Z"
   },
   {
    "duration": 56,
    "start_time": "2023-06-28T08:52:28.338Z"
   },
   {
    "duration": 19,
    "start_time": "2023-06-28T08:52:50.476Z"
   },
   {
    "duration": 57,
    "start_time": "2023-06-28T08:53:22.877Z"
   },
   {
    "duration": 39,
    "start_time": "2023-06-28T08:53:41.539Z"
   },
   {
    "duration": 62,
    "start_time": "2023-06-28T08:53:41.697Z"
   },
   {
    "duration": 12,
    "start_time": "2023-06-28T08:53:41.970Z"
   },
   {
    "duration": 408,
    "start_time": "2023-06-28T08:53:50.571Z"
   },
   {
    "duration": 2057,
    "start_time": "2023-06-28T09:21:02.358Z"
   },
   {
    "duration": 91,
    "start_time": "2023-06-28T09:21:04.419Z"
   },
   {
    "duration": 1290,
    "start_time": "2023-06-28T09:21:04.512Z"
   },
   {
    "duration": 641,
    "start_time": "2023-06-28T09:21:05.804Z"
   },
   {
    "duration": 770,
    "start_time": "2023-06-28T09:21:06.448Z"
   },
   {
    "duration": 398,
    "start_time": "2023-06-28T09:21:07.220Z"
   },
   {
    "duration": 14,
    "start_time": "2023-06-28T09:21:07.620Z"
   },
   {
    "duration": 3055,
    "start_time": "2023-06-28T09:21:07.636Z"
   },
   {
    "duration": 1336,
    "start_time": "2023-06-28T09:21:10.693Z"
   },
   {
    "duration": 7589,
    "start_time": "2023-06-28T09:21:12.031Z"
   },
   {
    "duration": 449,
    "start_time": "2023-06-28T09:21:19.622Z"
   },
   {
    "duration": 198,
    "start_time": "2023-06-28T09:21:20.080Z"
   },
   {
    "duration": 66,
    "start_time": "2023-06-28T09:21:20.285Z"
   },
   {
    "duration": 34,
    "start_time": "2023-06-28T09:21:20.353Z"
   },
   {
    "duration": 49,
    "start_time": "2023-06-28T09:21:20.398Z"
   },
   {
    "duration": 27,
    "start_time": "2023-06-28T09:21:20.449Z"
   },
   {
    "duration": 331,
    "start_time": "2023-06-28T09:21:20.487Z"
   },
   {
    "duration": 196,
    "start_time": "2023-06-28T09:21:22.828Z"
   },
   {
    "duration": 31,
    "start_time": "2023-06-28T09:21:23.345Z"
   },
   {
    "duration": 196,
    "start_time": "2023-06-28T09:21:28.506Z"
   },
   {
    "duration": 19,
    "start_time": "2023-06-28T09:21:29.105Z"
   },
   {
    "duration": 35,
    "start_time": "2023-06-28T09:21:40.383Z"
   },
   {
    "duration": 12,
    "start_time": "2023-06-28T09:21:47.181Z"
   },
   {
    "duration": 63,
    "start_time": "2023-06-28T09:21:47.310Z"
   },
   {
    "duration": 1335,
    "start_time": "2023-06-28T09:21:48.428Z"
   },
   {
    "duration": 584,
    "start_time": "2023-06-28T09:21:49.765Z"
   },
   {
    "duration": 721,
    "start_time": "2023-06-28T09:21:50.365Z"
   },
   {
    "duration": 355,
    "start_time": "2023-06-28T09:21:51.089Z"
   },
   {
    "duration": 7,
    "start_time": "2023-06-28T09:21:52.138Z"
   },
   {
    "duration": 3193,
    "start_time": "2023-06-28T09:21:52.624Z"
   },
   {
    "duration": 1375,
    "start_time": "2023-06-28T09:21:55.827Z"
   },
   {
    "duration": 8524,
    "start_time": "2023-06-28T09:21:57.204Z"
   },
   {
    "duration": 435,
    "start_time": "2023-06-28T09:22:05.731Z"
   },
   {
    "duration": 19,
    "start_time": "2023-06-28T09:22:06.436Z"
   },
   {
    "duration": 0,
    "start_time": "2023-06-28T09:22:06.504Z"
   },
   {
    "duration": 0,
    "start_time": "2023-06-28T09:22:06.506Z"
   },
   {
    "duration": 17,
    "start_time": "2023-06-28T09:22:12.509Z"
   },
   {
    "duration": 183,
    "start_time": "2023-06-28T09:22:34.440Z"
   },
   {
    "duration": 21,
    "start_time": "2023-06-28T09:22:35.206Z"
   },
   {
    "duration": 79,
    "start_time": "2023-06-28T09:22:41.384Z"
   },
   {
    "duration": 21,
    "start_time": "2023-06-28T09:22:46.941Z"
   },
   {
    "duration": 2345,
    "start_time": "2023-06-28T09:22:55.338Z"
   },
   {
    "duration": 95,
    "start_time": "2023-06-28T09:22:57.685Z"
   },
   {
    "duration": 1678,
    "start_time": "2023-06-28T09:22:57.782Z"
   },
   {
    "duration": 667,
    "start_time": "2023-06-28T09:22:59.465Z"
   },
   {
    "duration": 912,
    "start_time": "2023-06-28T09:23:00.135Z"
   },
   {
    "duration": 453,
    "start_time": "2023-06-28T09:23:01.050Z"
   },
   {
    "duration": 17,
    "start_time": "2023-06-28T09:23:01.506Z"
   },
   {
    "duration": 3695,
    "start_time": "2023-06-28T09:23:01.526Z"
   },
   {
    "duration": 2244,
    "start_time": "2023-06-28T09:23:09.782Z"
   },
   {
    "duration": 89,
    "start_time": "2023-06-28T09:23:12.028Z"
   },
   {
    "duration": 1521,
    "start_time": "2023-06-28T09:23:12.120Z"
   },
   {
    "duration": 674,
    "start_time": "2023-06-28T09:23:13.642Z"
   },
   {
    "duration": 841,
    "start_time": "2023-06-28T09:23:14.319Z"
   },
   {
    "duration": 420,
    "start_time": "2023-06-28T09:23:15.162Z"
   },
   {
    "duration": 21,
    "start_time": "2023-06-28T09:23:15.597Z"
   },
   {
    "duration": 3277,
    "start_time": "2023-06-28T09:23:15.620Z"
   },
   {
    "duration": 1359,
    "start_time": "2023-06-28T09:23:18.906Z"
   },
   {
    "duration": 7969,
    "start_time": "2023-06-28T09:23:20.273Z"
   },
   {
    "duration": 431,
    "start_time": "2023-06-28T09:23:28.245Z"
   },
   {
    "duration": 225,
    "start_time": "2023-06-28T09:23:28.679Z"
   },
   {
    "duration": 96,
    "start_time": "2023-06-28T09:23:28.914Z"
   },
   {
    "duration": 16,
    "start_time": "2023-06-28T09:23:29.016Z"
   },
   {
    "duration": 92,
    "start_time": "2023-06-28T09:23:29.034Z"
   },
   {
    "duration": 13,
    "start_time": "2023-06-28T09:23:29.130Z"
   },
   {
    "duration": 387,
    "start_time": "2023-06-28T09:23:29.145Z"
   },
   {
    "duration": 147,
    "start_time": "2023-06-28T09:30:43.385Z"
   },
   {
    "duration": 29,
    "start_time": "2023-06-28T09:33:31.793Z"
   },
   {
    "duration": 330,
    "start_time": "2023-06-28T09:36:00.699Z"
   },
   {
    "duration": 21,
    "start_time": "2023-06-28T10:27:40.606Z"
   },
   {
    "duration": 22,
    "start_time": "2023-06-28T10:29:30.208Z"
   },
   {
    "duration": 24,
    "start_time": "2023-06-28T10:29:55.798Z"
   },
   {
    "duration": 38,
    "start_time": "2023-06-28T10:34:36.982Z"
   },
   {
    "duration": 62,
    "start_time": "2023-06-28T10:35:07.671Z"
   },
   {
    "duration": 8,
    "start_time": "2023-06-28T10:35:19.111Z"
   },
   {
    "duration": 22,
    "start_time": "2023-06-28T10:35:33.999Z"
   },
   {
    "duration": 22,
    "start_time": "2023-06-28T10:36:35.227Z"
   },
   {
    "duration": 29,
    "start_time": "2023-06-28T10:37:22.199Z"
   },
   {
    "duration": 41,
    "start_time": "2023-06-28T10:37:53.977Z"
   },
   {
    "duration": 35,
    "start_time": "2023-06-28T10:38:13.379Z"
   },
   {
    "duration": 11,
    "start_time": "2023-06-28T10:39:29.446Z"
   },
   {
    "duration": 33,
    "start_time": "2023-06-28T10:40:09.782Z"
   },
   {
    "duration": 2427,
    "start_time": "2023-06-28T10:47:52.580Z"
   },
   {
    "duration": 273,
    "start_time": "2023-06-28T10:48:50.400Z"
   },
   {
    "duration": 167,
    "start_time": "2023-06-28T10:50:09.430Z"
   },
   {
    "duration": 1957,
    "start_time": "2023-06-28T10:50:42.361Z"
   },
   {
    "duration": 83,
    "start_time": "2023-06-28T10:50:44.321Z"
   },
   {
    "duration": 1276,
    "start_time": "2023-06-28T10:50:44.406Z"
   },
   {
    "duration": 611,
    "start_time": "2023-06-28T10:50:45.683Z"
   },
   {
    "duration": 733,
    "start_time": "2023-06-28T10:50:46.297Z"
   },
   {
    "duration": 353,
    "start_time": "2023-06-28T10:50:47.032Z"
   },
   {
    "duration": 12,
    "start_time": "2023-06-28T10:50:47.387Z"
   },
   {
    "duration": 2898,
    "start_time": "2023-06-28T10:50:47.401Z"
   },
   {
    "duration": 1221,
    "start_time": "2023-06-28T10:50:50.301Z"
   },
   {
    "duration": 7104,
    "start_time": "2023-06-28T10:50:51.523Z"
   },
   {
    "duration": 361,
    "start_time": "2023-06-28T10:50:58.629Z"
   },
   {
    "duration": 178,
    "start_time": "2023-06-28T10:50:58.992Z"
   },
   {
    "duration": 54,
    "start_time": "2023-06-28T10:50:59.174Z"
   },
   {
    "duration": 12,
    "start_time": "2023-06-28T10:50:59.231Z"
   },
   {
    "duration": 41,
    "start_time": "2023-06-28T10:50:59.245Z"
   },
   {
    "duration": 10,
    "start_time": "2023-06-28T10:50:59.289Z"
   },
   {
    "duration": 2258,
    "start_time": "2023-06-28T10:50:59.301Z"
   },
   {
    "duration": 214,
    "start_time": "2023-06-28T10:51:01.561Z"
   },
   {
    "duration": 158,
    "start_time": "2023-06-28T10:51:01.778Z"
   },
   {
    "duration": 0,
    "start_time": "2023-06-28T10:51:01.938Z"
   },
   {
    "duration": 19,
    "start_time": "2023-06-28T10:51:35.714Z"
   },
   {
    "duration": 2195,
    "start_time": "2023-06-28T10:51:44.443Z"
   },
   {
    "duration": 105,
    "start_time": "2023-06-28T10:51:46.643Z"
   },
   {
    "duration": 1437,
    "start_time": "2023-06-28T10:51:46.750Z"
   },
   {
    "duration": 694,
    "start_time": "2023-06-28T10:51:48.193Z"
   },
   {
    "duration": 700,
    "start_time": "2023-06-28T10:51:48.889Z"
   },
   {
    "duration": 329,
    "start_time": "2023-06-28T10:51:49.591Z"
   },
   {
    "duration": 10,
    "start_time": "2023-06-28T10:51:49.924Z"
   },
   {
    "duration": 2979,
    "start_time": "2023-06-28T10:51:49.936Z"
   },
   {
    "duration": 1277,
    "start_time": "2023-06-28T10:51:52.917Z"
   },
   {
    "duration": 7571,
    "start_time": "2023-06-28T10:51:54.196Z"
   },
   {
    "duration": 410,
    "start_time": "2023-06-28T10:52:01.778Z"
   },
   {
    "duration": 174,
    "start_time": "2023-06-28T10:52:02.196Z"
   },
   {
    "duration": 62,
    "start_time": "2023-06-28T10:52:02.374Z"
   },
   {
    "duration": 18,
    "start_time": "2023-06-28T10:52:02.440Z"
   },
   {
    "duration": 64,
    "start_time": "2023-06-28T10:52:02.460Z"
   },
   {
    "duration": 9,
    "start_time": "2023-06-28T10:52:02.526Z"
   },
   {
    "duration": 2296,
    "start_time": "2023-06-28T10:52:02.537Z"
   },
   {
    "duration": 225,
    "start_time": "2023-06-28T10:52:04.836Z"
   },
   {
    "duration": 165,
    "start_time": "2023-06-28T10:52:05.063Z"
   },
   {
    "duration": 0,
    "start_time": "2023-06-28T10:52:05.230Z"
   },
   {
    "duration": 16,
    "start_time": "2023-06-28T10:54:22.008Z"
   },
   {
    "duration": 14,
    "start_time": "2023-06-28T10:54:29.111Z"
   },
   {
    "duration": 62,
    "start_time": "2023-06-28T10:54:34.151Z"
   },
   {
    "duration": 62,
    "start_time": "2023-06-28T10:54:47.246Z"
   },
   {
    "duration": 2212,
    "start_time": "2023-06-28T10:55:47.205Z"
   },
   {
    "duration": 104,
    "start_time": "2023-06-28T10:55:49.419Z"
   },
   {
    "duration": 1315,
    "start_time": "2023-06-28T10:55:49.524Z"
   },
   {
    "duration": 656,
    "start_time": "2023-06-28T10:55:50.840Z"
   },
   {
    "duration": 726,
    "start_time": "2023-06-28T10:55:51.498Z"
   },
   {
    "duration": 341,
    "start_time": "2023-06-28T10:55:52.226Z"
   },
   {
    "duration": 19,
    "start_time": "2023-06-28T10:55:52.569Z"
   },
   {
    "duration": 2895,
    "start_time": "2023-06-28T10:55:52.597Z"
   },
   {
    "duration": 1242,
    "start_time": "2023-06-28T10:55:55.494Z"
   },
   {
    "duration": 7196,
    "start_time": "2023-06-28T10:55:56.738Z"
   },
   {
    "duration": 381,
    "start_time": "2023-06-28T10:56:03.935Z"
   },
   {
    "duration": 197,
    "start_time": "2023-06-28T10:56:04.318Z"
   },
   {
    "duration": 16,
    "start_time": "2023-06-28T10:56:04.516Z"
   },
   {
    "duration": 103,
    "start_time": "2023-06-28T10:56:04.535Z"
   },
   {
    "duration": 8,
    "start_time": "2023-06-28T10:56:04.639Z"
   },
   {
    "duration": 2445,
    "start_time": "2023-06-28T10:56:04.649Z"
   },
   {
    "duration": 359,
    "start_time": "2023-06-28T10:56:07.102Z"
   },
   {
    "duration": 30,
    "start_time": "2023-06-28T10:56:07.463Z"
   },
   {
    "duration": 2809,
    "start_time": "2023-06-28T10:56:07.501Z"
   },
   {
    "duration": 30,
    "start_time": "2023-06-28T10:56:26.799Z"
   },
   {
    "duration": 20,
    "start_time": "2023-06-28T10:56:32.310Z"
   },
   {
    "duration": 282,
    "start_time": "2023-06-28T10:57:20.653Z"
   },
   {
    "duration": 2630,
    "start_time": "2023-06-28T10:57:25.306Z"
   },
   {
    "duration": 0,
    "start_time": "2023-06-28T10:57:27.938Z"
   },
   {
    "duration": 0,
    "start_time": "2023-06-28T10:57:27.941Z"
   },
   {
    "duration": 3577,
    "start_time": "2023-06-28T10:57:32.205Z"
   },
   {
    "duration": 0,
    "start_time": "2023-06-28T10:57:35.788Z"
   },
   {
    "duration": 0,
    "start_time": "2023-06-28T10:57:35.793Z"
   },
   {
    "duration": 0,
    "start_time": "2023-06-28T10:57:35.794Z"
   },
   {
    "duration": 29,
    "start_time": "2023-06-28T10:57:59.056Z"
   },
   {
    "duration": 3377,
    "start_time": "2023-06-28T10:58:13.210Z"
   },
   {
    "duration": 0,
    "start_time": "2023-06-28T10:58:16.590Z"
   },
   {
    "duration": 1892,
    "start_time": "2023-06-28T10:58:22.513Z"
   },
   {
    "duration": 125,
    "start_time": "2023-06-28T10:58:24.408Z"
   },
   {
    "duration": 1259,
    "start_time": "2023-06-28T10:58:24.535Z"
   },
   {
    "duration": 617,
    "start_time": "2023-06-28T10:58:25.798Z"
   },
   {
    "duration": 764,
    "start_time": "2023-06-28T10:58:26.418Z"
   },
   {
    "duration": 378,
    "start_time": "2023-06-28T10:58:27.184Z"
   },
   {
    "duration": 15,
    "start_time": "2023-06-28T10:58:27.565Z"
   },
   {
    "duration": 2985,
    "start_time": "2023-06-28T10:58:27.583Z"
   },
   {
    "duration": 1274,
    "start_time": "2023-06-28T10:58:30.569Z"
   },
   {
    "duration": 7794,
    "start_time": "2023-06-28T10:58:31.846Z"
   },
   {
    "duration": 391,
    "start_time": "2023-06-28T10:58:39.642Z"
   },
   {
    "duration": 202,
    "start_time": "2023-06-28T10:58:40.035Z"
   },
   {
    "duration": 27,
    "start_time": "2023-06-28T10:58:40.239Z"
   },
   {
    "duration": 92,
    "start_time": "2023-06-28T10:58:40.283Z"
   },
   {
    "duration": 16,
    "start_time": "2023-06-28T10:58:40.377Z"
   },
   {
    "duration": 2481,
    "start_time": "2023-06-28T10:58:40.397Z"
   },
   {
    "duration": 362,
    "start_time": "2023-06-28T10:58:42.887Z"
   },
   {
    "duration": 40,
    "start_time": "2023-06-28T10:58:43.252Z"
   },
   {
    "duration": 347,
    "start_time": "2023-06-28T11:03:16.759Z"
   },
   {
    "duration": 284,
    "start_time": "2023-06-28T11:03:32.906Z"
   },
   {
    "duration": 253,
    "start_time": "2023-06-28T11:03:42.984Z"
   },
   {
    "duration": 227,
    "start_time": "2023-06-28T11:03:46.340Z"
   },
   {
    "duration": 15,
    "start_time": "2023-06-28T11:05:06.929Z"
   },
   {
    "duration": 16,
    "start_time": "2023-06-28T11:06:52.943Z"
   },
   {
    "duration": 26,
    "start_time": "2023-06-28T11:06:56.993Z"
   },
   {
    "duration": 17,
    "start_time": "2023-06-28T11:09:11.599Z"
   },
   {
    "duration": 48,
    "start_time": "2023-06-28T11:09:13.454Z"
   },
   {
    "duration": 21,
    "start_time": "2023-06-28T11:09:27.078Z"
   },
   {
    "duration": 14,
    "start_time": "2023-06-28T11:09:54.207Z"
   },
   {
    "duration": 191,
    "start_time": "2023-06-28T11:12:40.444Z"
   },
   {
    "duration": 300,
    "start_time": "2023-06-28T11:14:51.005Z"
   },
   {
    "duration": 2806,
    "start_time": "2023-06-28T11:20:26.351Z"
   },
   {
    "duration": 15,
    "start_time": "2023-06-28T11:21:52.006Z"
   },
   {
    "duration": 28,
    "start_time": "2023-06-28T11:21:59.186Z"
   },
   {
    "duration": 13,
    "start_time": "2023-06-28T11:28:52.405Z"
   },
   {
    "duration": 18,
    "start_time": "2023-06-28T11:30:25.481Z"
   },
   {
    "duration": 14,
    "start_time": "2023-06-28T11:30:31.186Z"
   },
   {
    "duration": 79,
    "start_time": "2023-06-28T11:31:06.153Z"
   },
   {
    "duration": 13,
    "start_time": "2023-06-28T11:31:07.898Z"
   },
   {
    "duration": 79,
    "start_time": "2023-06-28T11:54:59.494Z"
   },
   {
    "duration": 2317,
    "start_time": "2023-06-28T11:55:15.113Z"
   },
   {
    "duration": 131,
    "start_time": "2023-06-28T11:55:17.433Z"
   },
   {
    "duration": 1501,
    "start_time": "2023-06-28T11:55:17.569Z"
   },
   {
    "duration": 682,
    "start_time": "2023-06-28T11:55:19.073Z"
   },
   {
    "duration": 779,
    "start_time": "2023-06-28T11:55:19.758Z"
   },
   {
    "duration": 382,
    "start_time": "2023-06-28T11:55:20.539Z"
   },
   {
    "duration": 12,
    "start_time": "2023-06-28T11:55:20.923Z"
   },
   {
    "duration": 3080,
    "start_time": "2023-06-28T11:55:20.937Z"
   },
   {
    "duration": 1369,
    "start_time": "2023-06-28T11:55:24.021Z"
   },
   {
    "duration": 7804,
    "start_time": "2023-06-28T11:55:25.401Z"
   },
   {
    "duration": 406,
    "start_time": "2023-06-28T11:55:33.211Z"
   },
   {
    "duration": 194,
    "start_time": "2023-06-28T11:55:33.619Z"
   },
   {
    "duration": 17,
    "start_time": "2023-06-28T11:55:33.814Z"
   },
   {
    "duration": 94,
    "start_time": "2023-06-28T11:55:33.834Z"
   },
   {
    "duration": 8,
    "start_time": "2023-06-28T11:55:33.930Z"
   },
   {
    "duration": 332,
    "start_time": "2023-06-28T11:55:33.940Z"
   },
   {
    "duration": 49,
    "start_time": "2023-06-28T11:55:34.286Z"
   },
   {
    "duration": 30,
    "start_time": "2023-06-28T11:55:34.338Z"
   },
   {
    "duration": 94,
    "start_time": "2023-06-28T11:55:34.375Z"
   },
   {
    "duration": 34,
    "start_time": "2023-06-28T11:55:34.471Z"
   },
   {
    "duration": 518,
    "start_time": "2023-06-28T11:55:34.518Z"
   },
   {
    "duration": 4,
    "start_time": "2023-06-28T12:09:11.635Z"
   },
   {
    "duration": 263,
    "start_time": "2023-06-28T12:09:29.345Z"
   },
   {
    "duration": 9,
    "start_time": "2023-06-28T12:11:50.998Z"
   },
   {
    "duration": 91,
    "start_time": "2023-06-28T12:11:51.335Z"
   },
   {
    "duration": 1436,
    "start_time": "2023-06-28T12:11:52.432Z"
   },
   {
    "duration": 670,
    "start_time": "2023-06-28T12:11:53.870Z"
   },
   {
    "duration": 803,
    "start_time": "2023-06-28T12:11:54.543Z"
   },
   {
    "duration": 405,
    "start_time": "2023-06-28T12:11:56.618Z"
   },
   {
    "duration": 15,
    "start_time": "2023-06-28T12:11:58.142Z"
   },
   {
    "duration": 3351,
    "start_time": "2023-06-28T12:11:59.191Z"
   },
   {
    "duration": 1568,
    "start_time": "2023-06-28T12:12:02.544Z"
   },
   {
    "duration": 8954,
    "start_time": "2023-06-28T12:12:04.119Z"
   },
   {
    "duration": 497,
    "start_time": "2023-06-28T12:12:13.079Z"
   },
   {
    "duration": 203,
    "start_time": "2023-06-28T12:12:13.577Z"
   },
   {
    "duration": 26,
    "start_time": "2023-06-28T12:12:13.782Z"
   },
   {
    "duration": 82,
    "start_time": "2023-06-28T12:12:13.814Z"
   },
   {
    "duration": 16,
    "start_time": "2023-06-28T12:12:13.901Z"
   },
   {
    "duration": 498,
    "start_time": "2023-06-28T12:12:13.922Z"
   },
   {
    "duration": 79,
    "start_time": "2023-06-28T12:12:14.431Z"
   },
   {
    "duration": 31,
    "start_time": "2023-06-28T12:12:14.520Z"
   },
   {
    "duration": 128,
    "start_time": "2023-06-28T12:12:14.553Z"
   },
   {
    "duration": 38,
    "start_time": "2023-06-28T12:12:14.687Z"
   },
   {
    "duration": 4,
    "start_time": "2023-06-28T12:12:14.732Z"
   },
   {
    "duration": 29,
    "start_time": "2023-06-28T12:12:14.739Z"
   },
   {
    "duration": 19,
    "start_time": "2023-06-28T12:14:18.431Z"
   },
   {
    "duration": 14,
    "start_time": "2023-06-28T12:14:22.004Z"
   },
   {
    "duration": 1,
    "start_time": "2023-06-28T12:14:22.019Z"
   },
   {
    "duration": 35,
    "start_time": "2023-06-28T12:14:54.304Z"
   },
   {
    "duration": 16,
    "start_time": "2023-06-28T12:15:53.102Z"
   },
   {
    "duration": 2226,
    "start_time": "2023-06-28T12:16:21.882Z"
   },
   {
    "duration": 100,
    "start_time": "2023-06-28T12:16:24.115Z"
   },
   {
    "duration": 1398,
    "start_time": "2023-06-28T12:16:24.217Z"
   },
   {
    "duration": 661,
    "start_time": "2023-06-28T12:16:25.617Z"
   },
   {
    "duration": 895,
    "start_time": "2023-06-28T12:16:26.280Z"
   },
   {
    "duration": 370,
    "start_time": "2023-06-28T12:16:27.178Z"
   },
   {
    "duration": 16,
    "start_time": "2023-06-28T12:16:27.553Z"
   },
   {
    "duration": 3122,
    "start_time": "2023-06-28T12:16:27.571Z"
   },
   {
    "duration": 1375,
    "start_time": "2023-06-28T12:16:30.703Z"
   },
   {
    "duration": 7844,
    "start_time": "2023-06-28T12:16:32.085Z"
   },
   {
    "duration": 2121,
    "start_time": "2023-06-28T12:16:42.823Z"
   },
   {
    "duration": 103,
    "start_time": "2023-06-28T12:16:44.946Z"
   },
   {
    "duration": 1388,
    "start_time": "2023-06-28T12:16:45.051Z"
   },
   {
    "duration": 707,
    "start_time": "2023-06-28T12:16:46.441Z"
   },
   {
    "duration": 777,
    "start_time": "2023-06-28T12:16:47.160Z"
   },
   {
    "duration": 408,
    "start_time": "2023-06-28T12:16:47.939Z"
   },
   {
    "duration": 26,
    "start_time": "2023-06-28T12:16:48.350Z"
   },
   {
    "duration": 3038,
    "start_time": "2023-06-28T12:16:48.393Z"
   },
   {
    "duration": 1374,
    "start_time": "2023-06-28T12:16:51.432Z"
   },
   {
    "duration": 7943,
    "start_time": "2023-06-28T12:16:52.811Z"
   },
   {
    "duration": 454,
    "start_time": "2023-06-28T12:17:00.758Z"
   },
   {
    "duration": 188,
    "start_time": "2023-06-28T12:17:01.214Z"
   },
   {
    "duration": 19,
    "start_time": "2023-06-28T12:17:01.404Z"
   },
   {
    "duration": 127,
    "start_time": "2023-06-28T12:17:01.426Z"
   },
   {
    "duration": 21,
    "start_time": "2023-06-28T12:17:01.562Z"
   },
   {
    "duration": 350,
    "start_time": "2023-06-28T12:17:01.586Z"
   },
   {
    "duration": 44,
    "start_time": "2023-06-28T12:17:01.939Z"
   },
   {
    "duration": 20,
    "start_time": "2023-06-28T12:17:01.985Z"
   },
   {
    "duration": 11,
    "start_time": "2023-06-28T12:17:02.008Z"
   },
   {
    "duration": 336,
    "start_time": "2023-06-28T12:17:36.906Z"
   },
   {
    "duration": 212,
    "start_time": "2023-06-28T12:23:03.728Z"
   },
   {
    "duration": 11,
    "start_time": "2023-06-28T12:23:18.656Z"
   },
   {
    "duration": 88,
    "start_time": "2023-06-28T12:23:19.218Z"
   },
   {
    "duration": 1462,
    "start_time": "2023-06-28T12:23:20.523Z"
   },
   {
    "duration": 678,
    "start_time": "2023-06-28T12:23:21.992Z"
   },
   {
    "duration": 690,
    "start_time": "2023-06-28T12:23:22.672Z"
   },
   {
    "duration": 372,
    "start_time": "2023-06-28T12:23:23.364Z"
   },
   {
    "duration": 7,
    "start_time": "2023-06-28T12:23:23.738Z"
   },
   {
    "duration": 3491,
    "start_time": "2023-06-28T12:23:23.747Z"
   },
   {
    "duration": 1380,
    "start_time": "2023-06-28T12:23:27.240Z"
   },
   {
    "duration": 7977,
    "start_time": "2023-06-28T12:23:28.622Z"
   },
   {
    "duration": 482,
    "start_time": "2023-06-28T12:23:36.609Z"
   },
   {
    "duration": 187,
    "start_time": "2023-06-28T12:23:37.100Z"
   },
   {
    "duration": 22,
    "start_time": "2023-06-28T12:23:37.293Z"
   },
   {
    "duration": 98,
    "start_time": "2023-06-28T12:23:37.324Z"
   },
   {
    "duration": 13,
    "start_time": "2023-06-28T12:23:37.428Z"
   },
   {
    "duration": 396,
    "start_time": "2023-06-28T12:23:37.444Z"
   },
   {
    "duration": 51,
    "start_time": "2023-06-28T12:23:37.843Z"
   },
   {
    "duration": 12,
    "start_time": "2023-06-28T12:24:30.327Z"
   },
   {
    "duration": 93,
    "start_time": "2023-06-28T12:25:05.076Z"
   },
   {
    "duration": 136,
    "start_time": "2023-06-28T12:25:16.309Z"
   },
   {
    "duration": 7,
    "start_time": "2023-06-28T12:25:54.452Z"
   },
   {
    "duration": 101,
    "start_time": "2023-06-28T12:25:55.001Z"
   },
   {
    "duration": 1456,
    "start_time": "2023-06-28T12:25:55.929Z"
   },
   {
    "duration": 801,
    "start_time": "2023-06-28T12:25:57.388Z"
   },
   {
    "duration": 727,
    "start_time": "2023-06-28T12:25:58.191Z"
   },
   {
    "duration": 360,
    "start_time": "2023-06-28T12:25:58.929Z"
   },
   {
    "duration": 15,
    "start_time": "2023-06-28T12:25:59.291Z"
   },
   {
    "duration": 2377,
    "start_time": "2023-06-28T12:26:04.015Z"
   },
   {
    "duration": 76,
    "start_time": "2023-06-28T12:26:06.395Z"
   },
   {
    "duration": 1823,
    "start_time": "2023-06-28T12:26:06.473Z"
   },
   {
    "duration": 823,
    "start_time": "2023-06-28T12:26:08.299Z"
   },
   {
    "duration": 847,
    "start_time": "2023-06-28T12:26:09.125Z"
   },
   {
    "duration": 419,
    "start_time": "2023-06-28T12:26:09.976Z"
   },
   {
    "duration": 29,
    "start_time": "2023-06-28T12:26:10.402Z"
   },
   {
    "duration": 3363,
    "start_time": "2023-06-28T12:26:10.437Z"
   },
   {
    "duration": 1436,
    "start_time": "2023-06-28T12:26:13.802Z"
   },
   {
    "duration": 7989,
    "start_time": "2023-06-28T12:26:15.240Z"
   },
   {
    "duration": 438,
    "start_time": "2023-06-28T12:26:23.235Z"
   },
   {
    "duration": 199,
    "start_time": "2023-06-28T12:26:23.675Z"
   },
   {
    "duration": 22,
    "start_time": "2023-06-28T12:26:23.876Z"
   },
   {
    "duration": 88,
    "start_time": "2023-06-28T12:26:23.905Z"
   },
   {
    "duration": 11,
    "start_time": "2023-06-28T12:26:23.995Z"
   },
   {
    "duration": 362,
    "start_time": "2023-06-28T12:26:24.008Z"
   },
   {
    "duration": 58,
    "start_time": "2023-06-28T12:26:24.372Z"
   },
   {
    "duration": 3,
    "start_time": "2023-06-28T12:26:24.432Z"
   },
   {
    "duration": 346,
    "start_time": "2023-06-28T12:26:24.437Z"
   },
   {
    "duration": 124,
    "start_time": "2023-06-28T12:26:24.903Z"
   },
   {
    "duration": 121,
    "start_time": "2023-06-28T12:26:25.030Z"
   },
   {
    "duration": 90,
    "start_time": "2023-06-28T12:26:40.145Z"
   },
   {
    "duration": 57,
    "start_time": "2023-06-28T12:27:07.214Z"
   },
   {
    "duration": 37,
    "start_time": "2023-06-28T12:29:16.806Z"
   },
   {
    "duration": 356,
    "start_time": "2023-06-28T12:32:45.572Z"
   },
   {
    "duration": 403,
    "start_time": "2023-06-28T12:35:44.641Z"
   },
   {
    "duration": 24,
    "start_time": "2023-06-28T12:35:57.427Z"
   },
   {
    "duration": 20,
    "start_time": "2023-06-28T12:36:13.824Z"
   },
   {
    "duration": 22,
    "start_time": "2023-06-28T12:39:03.303Z"
   },
   {
    "duration": 10,
    "start_time": "2023-06-28T12:39:09.304Z"
   },
   {
    "duration": 2345,
    "start_time": "2023-06-28T12:39:17.716Z"
   },
   {
    "duration": 89,
    "start_time": "2023-06-28T12:39:20.064Z"
   },
   {
    "duration": 1502,
    "start_time": "2023-06-28T12:39:20.155Z"
   },
   {
    "duration": 727,
    "start_time": "2023-06-28T12:39:21.663Z"
   },
   {
    "duration": 805,
    "start_time": "2023-06-28T12:39:22.393Z"
   },
   {
    "duration": 367,
    "start_time": "2023-06-28T12:39:23.200Z"
   },
   {
    "duration": 15,
    "start_time": "2023-06-28T12:39:23.569Z"
   },
   {
    "duration": 3438,
    "start_time": "2023-06-28T12:39:23.586Z"
   },
   {
    "duration": 1590,
    "start_time": "2023-06-28T12:39:27.028Z"
   },
   {
    "duration": 7879,
    "start_time": "2023-06-28T12:39:28.620Z"
   },
   {
    "duration": 468,
    "start_time": "2023-06-28T12:39:36.503Z"
   },
   {
    "duration": 212,
    "start_time": "2023-06-28T12:39:36.977Z"
   },
   {
    "duration": 29,
    "start_time": "2023-06-28T12:39:37.194Z"
   },
   {
    "duration": 94,
    "start_time": "2023-06-28T12:39:37.227Z"
   },
   {
    "duration": 17,
    "start_time": "2023-06-28T12:39:37.324Z"
   },
   {
    "duration": 394,
    "start_time": "2023-06-28T12:39:37.344Z"
   },
   {
    "duration": 58,
    "start_time": "2023-06-28T12:39:37.740Z"
   },
   {
    "duration": 10,
    "start_time": "2023-06-28T12:39:37.800Z"
   },
   {
    "duration": 435,
    "start_time": "2023-06-28T12:39:37.813Z"
   },
   {
    "duration": 140,
    "start_time": "2023-06-28T12:39:38.265Z"
   },
   {
    "duration": 156,
    "start_time": "2023-06-28T12:39:38.407Z"
   },
   {
    "duration": 106,
    "start_time": "2023-06-28T12:39:38.567Z"
   },
   {
    "duration": 427,
    "start_time": "2023-06-28T12:41:01.891Z"
   },
   {
    "duration": 19,
    "start_time": "2023-06-28T12:41:20.917Z"
   },
   {
    "duration": 40,
    "start_time": "2023-06-28T12:41:38.291Z"
   },
   {
    "duration": 2159,
    "start_time": "2023-06-28T12:41:45.427Z"
   },
   {
    "duration": 119,
    "start_time": "2023-06-28T12:41:47.588Z"
   },
   {
    "duration": 1529,
    "start_time": "2023-06-28T12:41:47.713Z"
   },
   {
    "duration": 738,
    "start_time": "2023-06-28T12:41:49.244Z"
   },
   {
    "duration": 801,
    "start_time": "2023-06-28T12:41:49.984Z"
   },
   {
    "duration": 364,
    "start_time": "2023-06-28T12:41:50.793Z"
   },
   {
    "duration": 20,
    "start_time": "2023-06-28T12:41:51.164Z"
   },
   {
    "duration": 3310,
    "start_time": "2023-06-28T12:41:51.193Z"
   },
   {
    "duration": 1419,
    "start_time": "2023-06-28T12:41:54.506Z"
   },
   {
    "duration": 8331,
    "start_time": "2023-06-28T12:41:55.927Z"
   },
   {
    "duration": 441,
    "start_time": "2023-06-28T12:42:04.260Z"
   },
   {
    "duration": 206,
    "start_time": "2023-06-28T12:42:04.703Z"
   },
   {
    "duration": 19,
    "start_time": "2023-06-28T12:42:04.916Z"
   },
   {
    "duration": 186,
    "start_time": "2023-06-28T12:42:04.938Z"
   },
   {
    "duration": 9,
    "start_time": "2023-06-28T12:42:05.126Z"
   },
   {
    "duration": 400,
    "start_time": "2023-06-28T12:42:05.136Z"
   },
   {
    "duration": 78,
    "start_time": "2023-06-28T12:42:05.538Z"
   },
   {
    "duration": 5,
    "start_time": "2023-06-28T12:42:05.618Z"
   },
   {
    "duration": 417,
    "start_time": "2023-06-28T12:42:05.625Z"
   },
   {
    "duration": 102,
    "start_time": "2023-06-28T12:42:06.043Z"
   },
   {
    "duration": 137,
    "start_time": "2023-06-28T12:42:06.147Z"
   },
   {
    "duration": 106,
    "start_time": "2023-06-28T12:42:06.287Z"
   },
   {
    "duration": 23,
    "start_time": "2023-06-28T12:59:24.525Z"
   },
   {
    "duration": 203,
    "start_time": "2023-06-28T13:01:07.710Z"
   },
   {
    "duration": 154,
    "start_time": "2023-06-28T13:28:58.781Z"
   },
   {
    "duration": 171,
    "start_time": "2023-06-28T13:29:27.930Z"
   },
   {
    "duration": 26,
    "start_time": "2023-06-28T13:32:06.389Z"
   },
   {
    "duration": 143,
    "start_time": "2023-06-28T13:33:59.121Z"
   },
   {
    "duration": 15892,
    "start_time": "2023-06-28T13:39:19.723Z"
   },
   {
    "duration": 18,
    "start_time": "2023-06-28T13:39:35.617Z"
   },
   {
    "duration": 11,
    "start_time": "2023-06-28T13:39:39.534Z"
   },
   {
    "duration": 24,
    "start_time": "2023-06-28T13:40:07.141Z"
   },
   {
    "duration": 13,
    "start_time": "2023-06-28T13:44:34.625Z"
   },
   {
    "duration": 9,
    "start_time": "2023-06-28T13:44:49.374Z"
   },
   {
    "duration": 89,
    "start_time": "2023-06-28T13:44:49.926Z"
   },
   {
    "duration": 1215,
    "start_time": "2023-06-28T13:44:50.992Z"
   },
   {
    "duration": 567,
    "start_time": "2023-06-28T13:44:52.209Z"
   },
   {
    "duration": 662,
    "start_time": "2023-06-28T13:44:52.777Z"
   },
   {
    "duration": 327,
    "start_time": "2023-06-28T13:44:53.441Z"
   },
   {
    "duration": 18,
    "start_time": "2023-06-28T13:44:53.777Z"
   },
   {
    "duration": 2938,
    "start_time": "2023-06-28T13:44:53.803Z"
   },
   {
    "duration": 1166,
    "start_time": "2023-06-28T13:44:56.743Z"
   },
   {
    "duration": 7405,
    "start_time": "2023-06-28T13:44:57.916Z"
   },
   {
    "duration": 389,
    "start_time": "2023-06-28T13:45:05.324Z"
   },
   {
    "duration": 182,
    "start_time": "2023-06-28T13:45:05.715Z"
   },
   {
    "duration": 20,
    "start_time": "2023-06-28T13:45:05.899Z"
   },
   {
    "duration": 107,
    "start_time": "2023-06-28T13:45:05.921Z"
   },
   {
    "duration": 8,
    "start_time": "2023-06-28T13:45:06.031Z"
   },
   {
    "duration": 302,
    "start_time": "2023-06-28T13:45:06.040Z"
   },
   {
    "duration": 64,
    "start_time": "2023-06-28T13:45:06.344Z"
   },
   {
    "duration": 5,
    "start_time": "2023-06-28T13:45:06.411Z"
   },
   {
    "duration": 332,
    "start_time": "2023-06-28T13:45:06.419Z"
   },
   {
    "duration": 106,
    "start_time": "2023-06-28T13:45:06.753Z"
   },
   {
    "duration": 114,
    "start_time": "2023-06-28T13:45:06.862Z"
   },
   {
    "duration": 71,
    "start_time": "2023-06-28T13:45:06.978Z"
   },
   {
    "duration": 46,
    "start_time": "2023-06-28T13:45:07.050Z"
   },
   {
    "duration": 124,
    "start_time": "2023-06-28T13:45:07.098Z"
   },
   {
    "duration": 220,
    "start_time": "2023-06-28T13:47:11.227Z"
   },
   {
    "duration": 161,
    "start_time": "2023-06-28T13:47:33.315Z"
   },
   {
    "duration": 22,
    "start_time": "2023-06-28T13:48:54.582Z"
   },
   {
    "duration": 157,
    "start_time": "2023-06-28T13:49:04.009Z"
   },
   {
    "duration": 27,
    "start_time": "2023-06-28T13:49:36.553Z"
   },
   {
    "duration": 3766,
    "start_time": "2023-06-28T13:50:20.383Z"
   },
   {
    "duration": 388,
    "start_time": "2023-06-28T13:50:24.152Z"
   },
   {
    "duration": 90,
    "start_time": "2023-06-28T13:50:24.544Z"
   },
   {
    "duration": 6,
    "start_time": "2023-06-28T13:50:29.806Z"
   },
   {
    "duration": 97,
    "start_time": "2023-06-28T13:50:30.844Z"
   },
   {
    "duration": 519,
    "start_time": "2023-06-28T13:50:52.350Z"
   },
   {
    "duration": 303,
    "start_time": "2023-06-28T14:09:19.886Z"
   },
   {
    "duration": 453,
    "start_time": "2023-06-28T14:09:37.928Z"
   },
   {
    "duration": 544,
    "start_time": "2023-06-29T06:10:06.638Z"
   },
   {
    "duration": 460,
    "start_time": "2023-06-29T06:13:49.727Z"
   },
   {
    "duration": 477,
    "start_time": "2023-06-29T06:15:06.777Z"
   },
   {
    "duration": 303,
    "start_time": "2023-06-29T06:26:06.803Z"
   },
   {
    "duration": 308,
    "start_time": "2023-06-29T06:38:42.925Z"
   },
   {
    "duration": 95,
    "start_time": "2023-06-29T06:40:02.170Z"
   },
   {
    "duration": 371,
    "start_time": "2023-06-29T06:40:22.532Z"
   },
   {
    "duration": 105,
    "start_time": "2023-06-29T06:40:23.672Z"
   },
   {
    "duration": 8,
    "start_time": "2023-06-29T06:40:53.315Z"
   },
   {
    "duration": 2277,
    "start_time": "2023-06-29T06:40:53.898Z"
   },
   {
    "duration": 1124,
    "start_time": "2023-06-29T06:40:56.177Z"
   },
   {
    "duration": 2615,
    "start_time": "2023-06-29T06:41:03.319Z"
   },
   {
    "duration": 2200,
    "start_time": "2023-06-29T06:41:05.936Z"
   },
   {
    "duration": 64,
    "start_time": "2023-06-29T06:41:08.137Z"
   },
   {
    "duration": 1134,
    "start_time": "2023-06-29T06:41:08.202Z"
   },
   {
    "duration": 570,
    "start_time": "2023-06-29T06:41:09.339Z"
   },
   {
    "duration": 698,
    "start_time": "2023-06-29T06:41:09.911Z"
   },
   {
    "duration": 325,
    "start_time": "2023-06-29T06:41:10.610Z"
   },
   {
    "duration": 8,
    "start_time": "2023-06-29T06:41:10.937Z"
   },
   {
    "duration": 2785,
    "start_time": "2023-06-29T06:41:10.946Z"
   },
   {
    "duration": 1097,
    "start_time": "2023-06-29T06:41:13.733Z"
   },
   {
    "duration": 6655,
    "start_time": "2023-06-29T06:41:14.832Z"
   },
   {
    "duration": 304,
    "start_time": "2023-06-29T06:41:21.489Z"
   },
   {
    "duration": 154,
    "start_time": "2023-06-29T06:41:21.795Z"
   },
   {
    "duration": 23,
    "start_time": "2023-06-29T06:41:21.953Z"
   },
   {
    "duration": 82,
    "start_time": "2023-06-29T06:41:21.978Z"
   },
   {
    "duration": 11,
    "start_time": "2023-06-29T06:41:22.062Z"
   },
   {
    "duration": 289,
    "start_time": "2023-06-29T06:41:22.075Z"
   },
   {
    "duration": 33,
    "start_time": "2023-06-29T06:41:22.367Z"
   },
   {
    "duration": 513,
    "start_time": "2023-06-29T06:41:22.403Z"
   },
   {
    "duration": 3,
    "start_time": "2023-06-29T06:41:22.918Z"
   },
   {
    "duration": 282,
    "start_time": "2023-06-29T06:41:22.924Z"
   },
   {
    "duration": 88,
    "start_time": "2023-06-29T06:41:23.209Z"
   },
   {
    "duration": 84,
    "start_time": "2023-06-29T06:41:23.299Z"
   },
   {
    "duration": 72,
    "start_time": "2023-06-29T06:41:23.385Z"
   },
   {
    "duration": 32,
    "start_time": "2023-06-29T06:41:23.459Z"
   },
   {
    "duration": 119,
    "start_time": "2023-06-29T06:41:23.492Z"
   },
   {
    "duration": 399,
    "start_time": "2023-06-29T06:41:23.612Z"
   },
   {
    "duration": 261,
    "start_time": "2023-06-29T06:41:24.013Z"
   },
   {
    "duration": 178,
    "start_time": "2023-06-29T06:41:24.276Z"
   },
   {
    "duration": 0,
    "start_time": "2023-06-29T06:41:24.456Z"
   },
   {
    "duration": 291,
    "start_time": "2023-06-29T06:48:52.640Z"
   },
   {
    "duration": 91,
    "start_time": "2023-06-29T06:48:56.252Z"
   },
   {
    "duration": 306,
    "start_time": "2023-06-29T11:25:11.119Z"
   },
   {
    "duration": 119,
    "start_time": "2023-06-29T11:25:13.628Z"
   },
   {
    "duration": 277,
    "start_time": "2023-06-29T11:25:25.477Z"
   },
   {
    "duration": 157,
    "start_time": "2023-06-29T11:25:26.352Z"
   },
   {
    "duration": 3205,
    "start_time": "2023-06-29T11:25:34.175Z"
   },
   {
    "duration": 3968,
    "start_time": "2023-06-29T11:25:37.383Z"
   },
   {
    "duration": 132,
    "start_time": "2023-06-29T11:25:41.353Z"
   },
   {
    "duration": 3804,
    "start_time": "2023-06-29T11:25:41.487Z"
   },
   {
    "duration": 644,
    "start_time": "2023-06-29T11:25:45.294Z"
   },
   {
    "duration": 780,
    "start_time": "2023-06-29T11:25:45.940Z"
   },
   {
    "duration": 344,
    "start_time": "2023-06-29T11:25:46.722Z"
   },
   {
    "duration": 15,
    "start_time": "2023-06-29T11:25:47.071Z"
   },
   {
    "duration": 2946,
    "start_time": "2023-06-29T11:25:47.089Z"
   },
   {
    "duration": 1147,
    "start_time": "2023-06-29T11:25:50.037Z"
   },
   {
    "duration": 7113,
    "start_time": "2023-06-29T11:25:51.186Z"
   },
   {
    "duration": 364,
    "start_time": "2023-06-29T11:25:58.301Z"
   },
   {
    "duration": 180,
    "start_time": "2023-06-29T11:25:58.684Z"
   },
   {
    "duration": 23,
    "start_time": "2023-06-29T11:25:58.873Z"
   },
   {
    "duration": 85,
    "start_time": "2023-06-29T11:25:58.898Z"
   },
   {
    "duration": 10,
    "start_time": "2023-06-29T11:25:58.986Z"
   },
   {
    "duration": 308,
    "start_time": "2023-06-29T11:25:58.998Z"
   },
   {
    "duration": 31,
    "start_time": "2023-06-29T11:25:59.308Z"
   },
   {
    "duration": 537,
    "start_time": "2023-06-29T11:25:59.341Z"
   },
   {
    "duration": 4,
    "start_time": "2023-06-29T11:25:59.880Z"
   },
   {
    "duration": 296,
    "start_time": "2023-06-29T11:25:59.886Z"
   },
   {
    "duration": 98,
    "start_time": "2023-06-29T11:26:00.185Z"
   },
   {
    "duration": 105,
    "start_time": "2023-06-29T11:26:00.287Z"
   },
   {
    "duration": 81,
    "start_time": "2023-06-29T11:26:00.394Z"
   },
   {
    "duration": 32,
    "start_time": "2023-06-29T11:26:00.477Z"
   },
   {
    "duration": 150,
    "start_time": "2023-06-29T11:26:00.512Z"
   },
   {
    "duration": 452,
    "start_time": "2023-06-29T11:26:00.665Z"
   },
   {
    "duration": 267,
    "start_time": "2023-06-29T11:26:01.119Z"
   },
   {
    "duration": 183,
    "start_time": "2023-06-29T11:26:01.388Z"
   },
   {
    "duration": 0,
    "start_time": "2023-06-29T11:26:01.573Z"
   },
   {
    "duration": 292,
    "start_time": "2023-06-29T11:26:11.821Z"
   },
   {
    "duration": 110,
    "start_time": "2023-06-29T11:26:12.777Z"
   },
   {
    "duration": 559,
    "start_time": "2023-06-29T11:28:00.179Z"
   },
   {
    "duration": 124,
    "start_time": "2023-06-29T11:51:32.312Z"
   },
   {
    "duration": 4978,
    "start_time": "2023-06-29T11:51:49.096Z"
   },
   {
    "duration": 4,
    "start_time": "2023-06-29T11:53:28.443Z"
   },
   {
    "duration": 17,
    "start_time": "2023-06-29T11:54:00.722Z"
   },
   {
    "duration": 14,
    "start_time": "2023-06-29T12:00:47.405Z"
   },
   {
    "duration": 11,
    "start_time": "2023-06-29T12:00:58.216Z"
   },
   {
    "duration": 10096,
    "start_time": "2023-06-29T12:01:15.425Z"
   },
   {
    "duration": 7854,
    "start_time": "2023-06-29T12:01:25.527Z"
   },
   {
    "duration": 169,
    "start_time": "2023-06-29T12:01:33.383Z"
   },
   {
    "duration": 4167,
    "start_time": "2023-06-29T12:01:33.562Z"
   },
   {
    "duration": 882,
    "start_time": "2023-06-29T12:01:37.732Z"
   },
   {
    "duration": 949,
    "start_time": "2023-06-29T12:01:38.616Z"
   },
   {
    "duration": 377,
    "start_time": "2023-06-29T12:01:39.568Z"
   },
   {
    "duration": 26,
    "start_time": "2023-06-29T12:01:39.947Z"
   },
   {
    "duration": 4058,
    "start_time": "2023-06-29T12:01:39.987Z"
   },
   {
    "duration": 1851,
    "start_time": "2023-06-29T12:01:44.050Z"
   },
   {
    "duration": 10615,
    "start_time": "2023-06-29T12:01:45.904Z"
   },
   {
    "duration": 658,
    "start_time": "2023-06-29T12:01:56.526Z"
   },
   {
    "duration": 339,
    "start_time": "2023-06-29T12:01:57.187Z"
   },
   {
    "duration": 75,
    "start_time": "2023-06-29T12:01:57.531Z"
   },
   {
    "duration": 140,
    "start_time": "2023-06-29T12:01:57.615Z"
   },
   {
    "duration": 15,
    "start_time": "2023-06-29T12:01:57.758Z"
   },
   {
    "duration": 435,
    "start_time": "2023-06-29T12:01:57.776Z"
   },
   {
    "duration": 46,
    "start_time": "2023-06-29T12:01:58.214Z"
   },
   {
    "duration": 949,
    "start_time": "2023-06-29T12:01:58.262Z"
   },
   {
    "duration": 3,
    "start_time": "2023-06-29T12:01:59.214Z"
   },
   {
    "duration": 539,
    "start_time": "2023-06-29T12:01:59.220Z"
   },
   {
    "duration": 178,
    "start_time": "2023-06-29T12:01:59.771Z"
   },
   {
    "duration": 246,
    "start_time": "2023-06-29T12:01:59.966Z"
   },
   {
    "duration": 103,
    "start_time": "2023-06-29T12:02:00.215Z"
   },
   {
    "duration": 52,
    "start_time": "2023-06-29T12:02:00.321Z"
   },
   {
    "duration": 221,
    "start_time": "2023-06-29T12:02:00.376Z"
   },
   {
    "duration": 944,
    "start_time": "2023-06-29T12:02:00.610Z"
   },
   {
    "duration": 434,
    "start_time": "2023-06-29T12:02:01.570Z"
   },
   {
    "duration": 627,
    "start_time": "2023-06-29T12:02:02.013Z"
   },
   {
    "duration": 223,
    "start_time": "2023-06-29T12:02:02.646Z"
   },
   {
    "duration": 189,
    "start_time": "2023-06-29T12:02:02.880Z"
   },
   {
    "duration": 3498,
    "start_time": "2023-06-29T12:02:03.083Z"
   },
   {
    "duration": 71,
    "start_time": "2023-06-29T12:02:06.613Z"
   },
   {
    "duration": 32,
    "start_time": "2023-06-29T12:02:06.687Z"
   },
   {
    "duration": 27,
    "start_time": "2023-06-29T12:02:06.727Z"
   },
   {
    "duration": 8057,
    "start_time": "2023-06-29T12:04:18.385Z"
   },
   {
    "duration": 8082,
    "start_time": "2023-06-29T12:04:26.445Z"
   },
   {
    "duration": 65,
    "start_time": "2023-06-29T12:04:34.530Z"
   },
   {
    "duration": 4796,
    "start_time": "2023-06-29T12:04:34.599Z"
   },
   {
    "duration": 830,
    "start_time": "2023-06-29T12:04:39.418Z"
   },
   {
    "duration": 959,
    "start_time": "2023-06-29T12:04:40.250Z"
   },
   {
    "duration": 457,
    "start_time": "2023-06-29T12:04:41.212Z"
   },
   {
    "duration": 14,
    "start_time": "2023-06-29T12:04:41.675Z"
   },
   {
    "duration": 4008,
    "start_time": "2023-06-29T12:04:41.695Z"
   },
   {
    "duration": 1476,
    "start_time": "2023-06-29T12:04:45.706Z"
   },
   {
    "duration": 9140,
    "start_time": "2023-06-29T12:04:47.185Z"
   },
   {
    "duration": 518,
    "start_time": "2023-06-29T12:04:56.328Z"
   },
   {
    "duration": 237,
    "start_time": "2023-06-29T12:04:56.854Z"
   },
   {
    "duration": 24,
    "start_time": "2023-06-29T12:04:57.096Z"
   },
   {
    "duration": 91,
    "start_time": "2023-06-29T12:04:57.123Z"
   },
   {
    "duration": 11,
    "start_time": "2023-06-29T12:04:57.217Z"
   },
   {
    "duration": 411,
    "start_time": "2023-06-29T12:04:57.231Z"
   },
   {
    "duration": 46,
    "start_time": "2023-06-29T12:04:57.645Z"
   },
   {
    "duration": 639,
    "start_time": "2023-06-29T12:04:57.695Z"
   },
   {
    "duration": 4,
    "start_time": "2023-06-29T12:04:58.337Z"
   },
   {
    "duration": 411,
    "start_time": "2023-06-29T12:04:58.343Z"
   },
   {
    "duration": 144,
    "start_time": "2023-06-29T12:04:58.756Z"
   },
   {
    "duration": 154,
    "start_time": "2023-06-29T12:04:58.903Z"
   },
   {
    "duration": 118,
    "start_time": "2023-06-29T12:04:59.067Z"
   },
   {
    "duration": 41,
    "start_time": "2023-06-29T12:04:59.192Z"
   },
   {
    "duration": 168,
    "start_time": "2023-06-29T12:04:59.235Z"
   },
   {
    "duration": 520,
    "start_time": "2023-06-29T12:04:59.406Z"
   },
   {
    "duration": 305,
    "start_time": "2023-06-29T12:04:59.928Z"
   },
   {
    "duration": 343,
    "start_time": "2023-06-29T12:05:00.235Z"
   },
   {
    "duration": 139,
    "start_time": "2023-06-29T12:05:00.580Z"
   },
   {
    "duration": 129,
    "start_time": "2023-06-29T12:05:00.722Z"
   },
   {
    "duration": 3700,
    "start_time": "2023-06-29T12:05:00.853Z"
   },
   {
    "duration": 9,
    "start_time": "2023-06-29T12:05:04.556Z"
   },
   {
    "duration": 27,
    "start_time": "2023-06-29T12:05:04.574Z"
   },
   {
    "duration": 38,
    "start_time": "2023-06-29T12:05:04.621Z"
   },
   {
    "duration": 106460,
    "start_time": "2023-06-29T12:05:04.661Z"
   },
   {
    "duration": 5475,
    "start_time": "2023-06-29T12:09:46.701Z"
   },
   {
    "duration": 4262,
    "start_time": "2023-06-29T12:09:52.184Z"
   },
   {
    "duration": 85,
    "start_time": "2023-06-29T12:09:56.454Z"
   },
   {
    "duration": 5084,
    "start_time": "2023-06-29T12:09:56.541Z"
   },
   {
    "duration": 817,
    "start_time": "2023-06-29T12:10:01.629Z"
   },
   {
    "duration": 924,
    "start_time": "2023-06-29T12:10:02.449Z"
   },
   {
    "duration": 448,
    "start_time": "2023-06-29T12:10:03.375Z"
   },
   {
    "duration": 17,
    "start_time": "2023-06-29T12:10:03.825Z"
   },
   {
    "duration": 4198,
    "start_time": "2023-06-29T12:10:03.845Z"
   },
   {
    "duration": 1467,
    "start_time": "2023-06-29T12:10:08.046Z"
   },
   {
    "duration": 9016,
    "start_time": "2023-06-29T12:10:09.520Z"
   },
   {
    "duration": 485,
    "start_time": "2023-06-29T12:10:18.538Z"
   },
   {
    "duration": 239,
    "start_time": "2023-06-29T12:10:19.032Z"
   },
   {
    "duration": 23,
    "start_time": "2023-06-29T12:10:19.275Z"
   },
   {
    "duration": 87,
    "start_time": "2023-06-29T12:10:19.301Z"
   },
   {
    "duration": 20,
    "start_time": "2023-06-29T12:10:19.390Z"
   },
   {
    "duration": 315,
    "start_time": "2023-06-29T12:10:19.416Z"
   },
   {
    "duration": 63,
    "start_time": "2023-06-29T12:10:19.733Z"
   },
   {
    "duration": 687,
    "start_time": "2023-06-29T12:10:19.798Z"
   },
   {
    "duration": 5,
    "start_time": "2023-06-29T12:10:20.490Z"
   },
   {
    "duration": 402,
    "start_time": "2023-06-29T12:10:20.498Z"
   },
   {
    "duration": 123,
    "start_time": "2023-06-29T12:10:20.903Z"
   },
   {
    "duration": 164,
    "start_time": "2023-06-29T12:10:21.029Z"
   },
   {
    "duration": 110,
    "start_time": "2023-06-29T12:10:21.200Z"
   },
   {
    "duration": 46,
    "start_time": "2023-06-29T12:10:21.313Z"
   },
   {
    "duration": 166,
    "start_time": "2023-06-29T12:10:21.363Z"
   },
   {
    "duration": 696,
    "start_time": "2023-06-29T12:10:21.531Z"
   },
   {
    "duration": 338,
    "start_time": "2023-06-29T12:10:22.229Z"
   },
   {
    "duration": 392,
    "start_time": "2023-06-29T12:10:22.569Z"
   },
   {
    "duration": 177,
    "start_time": "2023-06-29T12:10:22.966Z"
   },
   {
    "duration": 126,
    "start_time": "2023-06-29T12:10:23.146Z"
   },
   {
    "duration": 3731,
    "start_time": "2023-06-29T12:10:23.278Z"
   },
   {
    "duration": 14,
    "start_time": "2023-06-29T12:10:27.021Z"
   },
   {
    "duration": 52,
    "start_time": "2023-06-29T12:10:27.048Z"
   },
   {
    "duration": 11,
    "start_time": "2023-06-29T12:10:27.110Z"
   },
   {
    "duration": 106944,
    "start_time": "2023-06-29T12:10:27.128Z"
   },
   {
    "duration": 2836,
    "start_time": "2023-06-29T13:39:08.767Z"
   },
   {
    "duration": 3200,
    "start_time": "2023-06-29T13:39:11.607Z"
   },
   {
    "duration": 68,
    "start_time": "2023-06-29T13:39:14.810Z"
   },
   {
    "duration": 4024,
    "start_time": "2023-06-29T13:39:14.882Z"
   },
   {
    "duration": 625,
    "start_time": "2023-06-29T13:39:18.910Z"
   },
   {
    "duration": 692,
    "start_time": "2023-06-29T13:39:19.537Z"
   },
   {
    "duration": 366,
    "start_time": "2023-06-29T13:39:20.231Z"
   },
   {
    "duration": 12,
    "start_time": "2023-06-29T13:39:20.599Z"
   },
   {
    "duration": 3574,
    "start_time": "2023-06-29T13:39:20.613Z"
   },
   {
    "duration": 1156,
    "start_time": "2023-06-29T13:39:24.189Z"
   },
   {
    "duration": 8148,
    "start_time": "2023-06-29T13:39:25.354Z"
   },
   {
    "duration": 497,
    "start_time": "2023-06-29T13:39:33.505Z"
   },
   {
    "duration": 233,
    "start_time": "2023-06-29T13:39:34.005Z"
   },
   {
    "duration": 29,
    "start_time": "2023-06-29T13:39:34.245Z"
   },
   {
    "duration": 111,
    "start_time": "2023-06-29T13:39:34.277Z"
   },
   {
    "duration": 14,
    "start_time": "2023-06-29T13:39:34.390Z"
   },
   {
    "duration": 404,
    "start_time": "2023-06-29T13:39:34.406Z"
   },
   {
    "duration": 60,
    "start_time": "2023-06-29T13:39:34.814Z"
   },
   {
    "duration": 717,
    "start_time": "2023-06-29T13:39:34.878Z"
   },
   {
    "duration": 3,
    "start_time": "2023-06-29T13:39:35.598Z"
   },
   {
    "duration": 299,
    "start_time": "2023-06-29T13:39:35.603Z"
   },
   {
    "duration": 92,
    "start_time": "2023-06-29T13:39:35.904Z"
   },
   {
    "duration": 126,
    "start_time": "2023-06-29T13:39:35.999Z"
   },
   {
    "duration": 115,
    "start_time": "2023-06-29T13:39:36.128Z"
   },
   {
    "duration": 36,
    "start_time": "2023-06-29T13:39:36.245Z"
   },
   {
    "duration": 198,
    "start_time": "2023-06-29T13:39:36.284Z"
   },
   {
    "duration": 612,
    "start_time": "2023-06-29T13:39:36.487Z"
   },
   {
    "duration": 339,
    "start_time": "2023-06-29T13:39:37.102Z"
   },
   {
    "duration": 374,
    "start_time": "2023-06-29T13:39:37.445Z"
   },
   {
    "duration": 174,
    "start_time": "2023-06-29T13:39:37.822Z"
   },
   {
    "duration": 126,
    "start_time": "2023-06-29T13:39:37.998Z"
   },
   {
    "duration": 5629,
    "start_time": "2023-06-29T13:39:38.127Z"
   },
   {
    "duration": 6,
    "start_time": "2023-06-29T13:39:43.758Z"
   },
   {
    "duration": 38,
    "start_time": "2023-06-29T13:39:43.767Z"
   },
   {
    "duration": 10,
    "start_time": "2023-06-29T13:39:43.808Z"
   },
   {
    "duration": 86975,
    "start_time": "2023-06-29T13:39:43.820Z"
   },
   {
    "duration": 3110,
    "start_time": "2023-06-29T16:13:04.728Z"
   },
   {
    "duration": 2795,
    "start_time": "2023-06-29T16:13:07.841Z"
   },
   {
    "duration": 70,
    "start_time": "2023-06-29T16:13:10.638Z"
   },
   {
    "duration": 3294,
    "start_time": "2023-06-29T16:13:10.710Z"
   },
   {
    "duration": 662,
    "start_time": "2023-06-29T16:13:14.007Z"
   },
   {
    "duration": 755,
    "start_time": "2023-06-29T16:13:14.677Z"
   },
   {
    "duration": 340,
    "start_time": "2023-06-29T16:13:15.434Z"
   },
   {
    "duration": 12,
    "start_time": "2023-06-29T16:13:15.776Z"
   },
   {
    "duration": 3045,
    "start_time": "2023-06-29T16:13:15.790Z"
   },
   {
    "duration": 1111,
    "start_time": "2023-06-29T16:13:18.838Z"
   },
   {
    "duration": 7071,
    "start_time": "2023-06-29T16:13:19.959Z"
   },
   {
    "duration": 361,
    "start_time": "2023-06-29T16:13:27.032Z"
   },
   {
    "duration": 154,
    "start_time": "2023-06-29T16:13:27.398Z"
   },
   {
    "duration": 31,
    "start_time": "2023-06-29T16:13:27.557Z"
   },
   {
    "duration": 83,
    "start_time": "2023-06-29T16:13:27.590Z"
   },
   {
    "duration": 13,
    "start_time": "2023-06-29T16:13:27.676Z"
   },
   {
    "duration": 349,
    "start_time": "2023-06-29T16:13:27.694Z"
   },
   {
    "duration": 66,
    "start_time": "2023-06-29T16:13:28.046Z"
   },
   {
    "duration": 520,
    "start_time": "2023-06-29T16:13:28.114Z"
   },
   {
    "duration": 4,
    "start_time": "2023-06-29T16:13:28.636Z"
   },
   {
    "duration": 318,
    "start_time": "2023-06-29T16:13:28.642Z"
   },
   {
    "duration": 94,
    "start_time": "2023-06-29T16:13:28.966Z"
   },
   {
    "duration": 90,
    "start_time": "2023-06-29T16:13:29.062Z"
   },
   {
    "duration": 75,
    "start_time": "2023-06-29T16:13:29.154Z"
   },
   {
    "duration": 50,
    "start_time": "2023-06-29T16:13:29.231Z"
   },
   {
    "duration": 111,
    "start_time": "2023-06-29T16:13:29.282Z"
   },
   {
    "duration": 498,
    "start_time": "2023-06-29T16:13:29.395Z"
   },
   {
    "duration": 272,
    "start_time": "2023-06-29T16:13:29.895Z"
   },
   {
    "duration": 302,
    "start_time": "2023-06-29T16:13:30.178Z"
   },
   {
    "duration": 126,
    "start_time": "2023-06-29T16:13:30.482Z"
   },
   {
    "duration": 102,
    "start_time": "2023-06-29T16:13:30.610Z"
   },
   {
    "duration": 4979,
    "start_time": "2023-06-29T16:13:30.714Z"
   },
   {
    "duration": 6,
    "start_time": "2023-06-29T16:13:35.703Z"
   },
   {
    "duration": 69,
    "start_time": "2023-06-29T16:13:35.713Z"
   },
   {
    "duration": 15,
    "start_time": "2023-06-29T16:13:35.784Z"
   },
   {
    "duration": 11,
    "start_time": "2023-06-29T16:13:35.801Z"
   },
   {
    "duration": 174,
    "start_time": "2023-06-29T16:13:35.815Z"
   },
   {
    "duration": 0,
    "start_time": "2023-06-29T16:13:35.991Z"
   },
   {
    "duration": 0,
    "start_time": "2023-06-29T16:13:35.992Z"
   },
   {
    "duration": 0,
    "start_time": "2023-06-29T16:13:35.993Z"
   },
   {
    "duration": 2934,
    "start_time": "2023-06-29T16:15:19.394Z"
   },
   {
    "duration": 2045,
    "start_time": "2023-06-29T16:15:22.330Z"
   },
   {
    "duration": 61,
    "start_time": "2023-06-29T16:15:24.377Z"
   },
   {
    "duration": 1199,
    "start_time": "2023-06-29T16:15:24.440Z"
   },
   {
    "duration": 569,
    "start_time": "2023-06-29T16:15:25.642Z"
   },
   {
    "duration": 719,
    "start_time": "2023-06-29T16:15:26.213Z"
   },
   {
    "duration": 332,
    "start_time": "2023-06-29T16:15:26.934Z"
   },
   {
    "duration": 26,
    "start_time": "2023-06-29T16:15:27.275Z"
   },
   {
    "duration": 2863,
    "start_time": "2023-06-29T16:15:27.303Z"
   },
   {
    "duration": 1114,
    "start_time": "2023-06-29T16:15:30.171Z"
   },
   {
    "duration": 6895,
    "start_time": "2023-06-29T16:15:31.288Z"
   },
   {
    "duration": 336,
    "start_time": "2023-06-29T16:15:38.187Z"
   },
   {
    "duration": 167,
    "start_time": "2023-06-29T16:15:38.525Z"
   },
   {
    "duration": 18,
    "start_time": "2023-06-29T16:15:38.696Z"
   },
   {
    "duration": 86,
    "start_time": "2023-06-29T16:15:38.715Z"
   },
   {
    "duration": 8,
    "start_time": "2023-06-29T16:15:38.803Z"
   },
   {
    "duration": 297,
    "start_time": "2023-06-29T16:15:38.812Z"
   },
   {
    "duration": 31,
    "start_time": "2023-06-29T16:15:39.111Z"
   },
   {
    "duration": 492,
    "start_time": "2023-06-29T16:15:39.156Z"
   },
   {
    "duration": 9,
    "start_time": "2023-06-29T16:15:39.650Z"
   },
   {
    "duration": 277,
    "start_time": "2023-06-29T16:15:39.663Z"
   },
   {
    "duration": 86,
    "start_time": "2023-06-29T16:15:39.942Z"
   },
   {
    "duration": 100,
    "start_time": "2023-06-29T16:15:40.030Z"
   },
   {
    "duration": 70,
    "start_time": "2023-06-29T16:15:40.132Z"
   },
   {
    "duration": 24,
    "start_time": "2023-06-29T16:15:40.204Z"
   },
   {
    "duration": 140,
    "start_time": "2023-06-29T16:15:40.229Z"
   },
   {
    "duration": 438,
    "start_time": "2023-06-29T16:15:40.377Z"
   },
   {
    "duration": 251,
    "start_time": "2023-06-29T16:15:40.818Z"
   },
   {
    "duration": 272,
    "start_time": "2023-06-29T16:15:41.070Z"
   },
   {
    "duration": 125,
    "start_time": "2023-06-29T16:15:41.344Z"
   },
   {
    "duration": 86,
    "start_time": "2023-06-29T16:15:41.471Z"
   },
   {
    "duration": 5002,
    "start_time": "2023-06-29T16:15:41.560Z"
   },
   {
    "duration": 6,
    "start_time": "2023-06-29T16:15:46.566Z"
   },
   {
    "duration": 107,
    "start_time": "2023-06-29T16:15:46.574Z"
   },
   {
    "duration": 9,
    "start_time": "2023-06-29T16:15:46.685Z"
   },
   {
    "duration": 30,
    "start_time": "2023-06-29T16:15:46.697Z"
   },
   {
    "duration": 195,
    "start_time": "2023-06-29T16:15:46.729Z"
   },
   {
    "duration": 0,
    "start_time": "2023-06-29T16:15:46.926Z"
   },
   {
    "duration": 0,
    "start_time": "2023-06-29T16:15:46.927Z"
   },
   {
    "duration": 0,
    "start_time": "2023-06-29T16:15:46.928Z"
   },
   {
    "duration": 3060,
    "start_time": "2023-06-29T16:18:44.728Z"
   },
   {
    "duration": 2347,
    "start_time": "2023-06-29T16:18:47.791Z"
   },
   {
    "duration": 90,
    "start_time": "2023-06-29T16:18:50.140Z"
   },
   {
    "duration": 1436,
    "start_time": "2023-06-29T16:18:50.233Z"
   },
   {
    "duration": 724,
    "start_time": "2023-06-29T16:18:51.671Z"
   },
   {
    "duration": 828,
    "start_time": "2023-06-29T16:18:52.404Z"
   },
   {
    "duration": 358,
    "start_time": "2023-06-29T16:18:53.234Z"
   },
   {
    "duration": 11,
    "start_time": "2023-06-29T16:18:53.594Z"
   },
   {
    "duration": 3232,
    "start_time": "2023-06-29T16:18:53.608Z"
   },
   {
    "duration": 1303,
    "start_time": "2023-06-29T16:18:56.844Z"
   },
   {
    "duration": 7888,
    "start_time": "2023-06-29T16:18:58.150Z"
   },
   {
    "duration": 386,
    "start_time": "2023-06-29T16:19:06.041Z"
   },
   {
    "duration": 222,
    "start_time": "2023-06-29T16:19:06.429Z"
   },
   {
    "duration": 28,
    "start_time": "2023-06-29T16:19:06.663Z"
   },
   {
    "duration": 87,
    "start_time": "2023-06-29T16:19:06.694Z"
   },
   {
    "duration": 20,
    "start_time": "2023-06-29T16:19:06.789Z"
   },
   {
    "duration": 328,
    "start_time": "2023-06-29T16:19:06.814Z"
   },
   {
    "duration": 61,
    "start_time": "2023-06-29T16:19:07.144Z"
   },
   {
    "duration": 599,
    "start_time": "2023-06-29T16:19:07.208Z"
   },
   {
    "duration": 3,
    "start_time": "2023-06-29T16:19:07.809Z"
   },
   {
    "duration": 328,
    "start_time": "2023-06-29T16:19:07.815Z"
   },
   {
    "duration": 83,
    "start_time": "2023-06-29T16:19:08.153Z"
   },
   {
    "duration": 97,
    "start_time": "2023-06-29T16:19:08.238Z"
   },
   {
    "duration": 96,
    "start_time": "2023-06-29T16:19:08.337Z"
   },
   {
    "duration": 52,
    "start_time": "2023-06-29T16:19:08.435Z"
   },
   {
    "duration": 128,
    "start_time": "2023-06-29T16:19:08.495Z"
   },
   {
    "duration": 470,
    "start_time": "2023-06-29T16:19:08.625Z"
   },
   {
    "duration": 261,
    "start_time": "2023-06-29T16:19:09.099Z"
   },
   {
    "duration": 323,
    "start_time": "2023-06-29T16:19:09.366Z"
   },
   {
    "duration": 129,
    "start_time": "2023-06-29T16:19:09.691Z"
   },
   {
    "duration": 104,
    "start_time": "2023-06-29T16:19:09.822Z"
   },
   {
    "duration": 4872,
    "start_time": "2023-06-29T16:19:09.928Z"
   },
   {
    "duration": 8,
    "start_time": "2023-06-29T16:19:14.867Z"
   },
   {
    "duration": 76,
    "start_time": "2023-06-29T16:19:14.895Z"
   },
   {
    "duration": 13,
    "start_time": "2023-06-29T16:19:14.974Z"
   },
   {
    "duration": 9,
    "start_time": "2023-06-29T16:19:14.990Z"
   },
   {
    "duration": 3559,
    "start_time": "2023-06-29T16:26:27.117Z"
   },
   {
    "duration": 4216,
    "start_time": "2023-06-29T16:26:30.679Z"
   },
   {
    "duration": 86,
    "start_time": "2023-06-29T16:26:34.904Z"
   },
   {
    "duration": 5604,
    "start_time": "2023-06-29T16:26:34.991Z"
   },
   {
    "duration": 727,
    "start_time": "2023-06-29T16:26:40.602Z"
   },
   {
    "duration": 830,
    "start_time": "2023-06-29T16:26:41.334Z"
   },
   {
    "duration": 388,
    "start_time": "2023-06-29T16:26:42.170Z"
   },
   {
    "duration": 22,
    "start_time": "2023-06-29T16:26:42.564Z"
   },
   {
    "duration": 3316,
    "start_time": "2023-06-29T16:26:42.600Z"
   },
   {
    "duration": 1428,
    "start_time": "2023-06-29T16:26:45.921Z"
   },
   {
    "duration": 9311,
    "start_time": "2023-06-29T16:26:47.358Z"
   },
   {
    "duration": 503,
    "start_time": "2023-06-29T16:26:56.671Z"
   },
   {
    "duration": 227,
    "start_time": "2023-06-29T16:26:57.182Z"
   },
   {
    "duration": 48,
    "start_time": "2023-06-29T16:26:57.415Z"
   },
   {
    "duration": 122,
    "start_time": "2023-06-29T16:26:57.465Z"
   },
   {
    "duration": 24,
    "start_time": "2023-06-29T16:26:57.600Z"
   },
   {
    "duration": 390,
    "start_time": "2023-06-29T16:26:57.632Z"
   },
   {
    "duration": 49,
    "start_time": "2023-06-29T16:26:58.028Z"
   },
   {
    "duration": 590,
    "start_time": "2023-06-29T16:26:58.082Z"
   },
   {
    "duration": 5,
    "start_time": "2023-06-29T16:26:58.678Z"
   },
   {
    "duration": 378,
    "start_time": "2023-06-29T16:26:58.694Z"
   },
   {
    "duration": 118,
    "start_time": "2023-06-29T16:26:59.075Z"
   },
   {
    "duration": 142,
    "start_time": "2023-06-29T16:26:59.196Z"
   },
   {
    "duration": 86,
    "start_time": "2023-06-29T16:26:59.340Z"
   },
   {
    "duration": 42,
    "start_time": "2023-06-29T16:26:59.433Z"
   },
   {
    "duration": 157,
    "start_time": "2023-06-29T16:26:59.480Z"
   },
   {
    "duration": 595,
    "start_time": "2023-06-29T16:26:59.639Z"
   },
   {
    "duration": 347,
    "start_time": "2023-06-29T16:27:00.237Z"
   },
   {
    "duration": 392,
    "start_time": "2023-06-29T16:27:00.590Z"
   },
   {
    "duration": 189,
    "start_time": "2023-06-29T16:27:00.989Z"
   },
   {
    "duration": 153,
    "start_time": "2023-06-29T16:27:01.186Z"
   },
   {
    "duration": 3715,
    "start_time": "2023-06-29T16:27:01.341Z"
   },
   {
    "duration": 18,
    "start_time": "2023-06-29T16:27:05.068Z"
   },
   {
    "duration": 22,
    "start_time": "2023-06-29T16:27:05.170Z"
   },
   {
    "duration": 13,
    "start_time": "2023-06-29T16:27:05.200Z"
   },
   {
    "duration": 192,
    "start_time": "2023-06-29T16:27:05.220Z"
   },
   {
    "duration": 0,
    "start_time": "2023-06-29T16:27:05.414Z"
   },
   {
    "duration": 0,
    "start_time": "2023-06-29T16:27:05.415Z"
   },
   {
    "duration": 0,
    "start_time": "2023-06-29T16:27:05.416Z"
   },
   {
    "duration": 0,
    "start_time": "2023-06-29T16:27:05.417Z"
   },
   {
    "duration": 3506,
    "start_time": "2023-06-29T16:31:25.197Z"
   },
   {
    "duration": 3124,
    "start_time": "2023-06-29T16:31:28.707Z"
   },
   {
    "duration": 100,
    "start_time": "2023-06-29T16:31:31.833Z"
   },
   {
    "duration": 1543,
    "start_time": "2023-06-29T16:31:31.935Z"
   },
   {
    "duration": 700,
    "start_time": "2023-06-29T16:31:33.480Z"
   },
   {
    "duration": 845,
    "start_time": "2023-06-29T16:31:34.182Z"
   },
   {
    "duration": 413,
    "start_time": "2023-06-29T16:31:35.030Z"
   },
   {
    "duration": 13,
    "start_time": "2023-06-29T16:31:35.444Z"
   },
   {
    "duration": 3846,
    "start_time": "2023-06-29T16:31:35.459Z"
   },
   {
    "duration": 1586,
    "start_time": "2023-06-29T16:31:39.307Z"
   },
   {
    "duration": 9846,
    "start_time": "2023-06-29T16:31:40.899Z"
   },
   {
    "duration": 484,
    "start_time": "2023-06-29T16:31:50.753Z"
   },
   {
    "duration": 233,
    "start_time": "2023-06-29T16:31:51.242Z"
   },
   {
    "duration": 30,
    "start_time": "2023-06-29T16:31:51.484Z"
   },
   {
    "duration": 126,
    "start_time": "2023-06-29T16:31:51.523Z"
   },
   {
    "duration": 18,
    "start_time": "2023-06-29T16:31:51.651Z"
   },
   {
    "duration": 404,
    "start_time": "2023-06-29T16:31:51.673Z"
   },
   {
    "duration": 53,
    "start_time": "2023-06-29T16:31:52.088Z"
   },
   {
    "duration": 548,
    "start_time": "2023-06-29T16:31:52.143Z"
   },
   {
    "duration": 8,
    "start_time": "2023-06-29T16:31:52.693Z"
   },
   {
    "duration": 377,
    "start_time": "2023-06-29T16:31:52.703Z"
   },
   {
    "duration": 118,
    "start_time": "2023-06-29T16:31:53.082Z"
   },
   {
    "duration": 131,
    "start_time": "2023-06-29T16:31:53.202Z"
   },
   {
    "duration": 98,
    "start_time": "2023-06-29T16:31:53.335Z"
   },
   {
    "duration": 37,
    "start_time": "2023-06-29T16:31:53.435Z"
   },
   {
    "duration": 204,
    "start_time": "2023-06-29T16:31:53.474Z"
   },
   {
    "duration": 648,
    "start_time": "2023-06-29T16:31:53.684Z"
   },
   {
    "duration": 318,
    "start_time": "2023-06-29T16:31:54.334Z"
   },
   {
    "duration": 393,
    "start_time": "2023-06-29T16:31:54.658Z"
   },
   {
    "duration": 191,
    "start_time": "2023-06-29T16:31:55.054Z"
   },
   {
    "duration": 135,
    "start_time": "2023-06-29T16:31:55.250Z"
   },
   {
    "duration": 4467,
    "start_time": "2023-06-29T16:31:55.396Z"
   },
   {
    "duration": 12,
    "start_time": "2023-06-29T16:31:59.871Z"
   },
   {
    "duration": 72,
    "start_time": "2023-06-29T16:31:59.893Z"
   },
   {
    "duration": 16,
    "start_time": "2023-06-29T16:31:59.977Z"
   },
   {
    "duration": 277,
    "start_time": "2023-06-29T16:32:00.004Z"
   },
   {
    "duration": 0,
    "start_time": "2023-06-29T16:32:00.284Z"
   },
   {
    "duration": 0,
    "start_time": "2023-06-29T16:32:00.287Z"
   },
   {
    "duration": 0,
    "start_time": "2023-06-29T16:32:00.288Z"
   },
   {
    "duration": 0,
    "start_time": "2023-06-29T16:32:00.290Z"
   },
   {
    "duration": 4312,
    "start_time": "2023-06-29T16:33:29.027Z"
   },
   {
    "duration": 2637,
    "start_time": "2023-06-29T16:33:33.346Z"
   },
   {
    "duration": 133,
    "start_time": "2023-06-29T16:33:35.985Z"
   },
   {
    "duration": 1576,
    "start_time": "2023-06-29T16:33:36.119Z"
   },
   {
    "duration": 770,
    "start_time": "2023-06-29T16:33:37.698Z"
   },
   {
    "duration": 874,
    "start_time": "2023-06-29T16:33:38.474Z"
   },
   {
    "duration": 400,
    "start_time": "2023-06-29T16:33:39.350Z"
   },
   {
    "duration": 10,
    "start_time": "2023-06-29T16:33:39.755Z"
   },
   {
    "duration": 3508,
    "start_time": "2023-06-29T16:33:39.768Z"
   },
   {
    "duration": 1260,
    "start_time": "2023-06-29T16:33:43.282Z"
   },
   {
    "duration": 9277,
    "start_time": "2023-06-29T16:33:44.547Z"
   },
   {
    "duration": 540,
    "start_time": "2023-06-29T16:33:53.832Z"
   },
   {
    "duration": 231,
    "start_time": "2023-06-29T16:33:54.378Z"
   },
   {
    "duration": 31,
    "start_time": "2023-06-29T16:33:54.617Z"
   },
   {
    "duration": 78,
    "start_time": "2023-06-29T16:33:54.650Z"
   },
   {
    "duration": 13,
    "start_time": "2023-06-29T16:33:54.730Z"
   },
   {
    "duration": 437,
    "start_time": "2023-06-29T16:33:54.755Z"
   },
   {
    "duration": 60,
    "start_time": "2023-06-29T16:33:55.205Z"
   },
   {
    "duration": 628,
    "start_time": "2023-06-29T16:33:55.268Z"
   },
   {
    "duration": 11,
    "start_time": "2023-06-29T16:33:55.905Z"
   },
   {
    "duration": 434,
    "start_time": "2023-06-29T16:33:55.918Z"
   },
   {
    "duration": 117,
    "start_time": "2023-06-29T16:33:56.362Z"
   },
   {
    "duration": 179,
    "start_time": "2023-06-29T16:33:56.490Z"
   },
   {
    "duration": 157,
    "start_time": "2023-06-29T16:33:56.676Z"
   },
   {
    "duration": 68,
    "start_time": "2023-06-29T16:33:56.853Z"
   },
   {
    "duration": 204,
    "start_time": "2023-06-29T16:33:56.928Z"
   },
   {
    "duration": 712,
    "start_time": "2023-06-29T16:33:57.141Z"
   },
   {
    "duration": 344,
    "start_time": "2023-06-29T16:33:57.865Z"
   },
   {
    "duration": 383,
    "start_time": "2023-06-29T16:33:58.216Z"
   },
   {
    "duration": 175,
    "start_time": "2023-06-29T16:33:58.606Z"
   },
   {
    "duration": 115,
    "start_time": "2023-06-29T16:33:58.788Z"
   },
   {
    "duration": 2808,
    "start_time": "2023-06-29T16:33:58.910Z"
   },
   {
    "duration": 48,
    "start_time": "2023-06-29T16:34:01.754Z"
   },
   {
    "duration": 31,
    "start_time": "2023-06-29T16:34:01.815Z"
   },
   {
    "duration": 29,
    "start_time": "2023-06-29T16:34:01.848Z"
   },
   {
    "duration": 4622,
    "start_time": "2023-06-29T16:34:01.882Z"
   },
   {
    "duration": 0,
    "start_time": "2023-06-29T16:34:06.507Z"
   },
   {
    "duration": 0,
    "start_time": "2023-06-29T16:34:06.508Z"
   },
   {
    "duration": 0,
    "start_time": "2023-06-29T16:34:06.509Z"
   },
   {
    "duration": 0,
    "start_time": "2023-06-29T16:34:06.510Z"
   },
   {
    "duration": 191,
    "start_time": "2023-06-29T16:36:19.219Z"
   },
   {
    "duration": 4156,
    "start_time": "2023-06-29T16:36:30.498Z"
   },
   {
    "duration": 4084,
    "start_time": "2023-06-29T16:36:35.104Z"
   },
   {
    "duration": 3560,
    "start_time": "2023-06-29T16:41:42.445Z"
   },
   {
    "duration": 4445,
    "start_time": "2023-06-29T16:41:46.007Z"
   },
   {
    "duration": 88,
    "start_time": "2023-06-29T16:41:50.463Z"
   },
   {
    "duration": 2458,
    "start_time": "2023-06-29T16:41:50.553Z"
   },
   {
    "duration": 829,
    "start_time": "2023-06-29T16:41:53.020Z"
   },
   {
    "duration": 1002,
    "start_time": "2023-06-29T16:41:53.851Z"
   },
   {
    "duration": 503,
    "start_time": "2023-06-29T16:41:54.870Z"
   },
   {
    "duration": 32,
    "start_time": "2023-06-29T16:41:55.375Z"
   },
   {
    "duration": 3566,
    "start_time": "2023-06-29T16:41:55.417Z"
   },
   {
    "duration": 1338,
    "start_time": "2023-06-29T16:41:58.985Z"
   },
   {
    "duration": 8689,
    "start_time": "2023-06-29T16:42:00.330Z"
   },
   {
    "duration": 473,
    "start_time": "2023-06-29T16:42:09.025Z"
   },
   {
    "duration": 231,
    "start_time": "2023-06-29T16:42:09.507Z"
   },
   {
    "duration": 38,
    "start_time": "2023-06-29T16:42:09.742Z"
   },
   {
    "duration": 90,
    "start_time": "2023-06-29T16:42:09.786Z"
   },
   {
    "duration": 14,
    "start_time": "2023-06-29T16:42:09.882Z"
   },
   {
    "duration": 376,
    "start_time": "2023-06-29T16:42:09.901Z"
   },
   {
    "duration": 57,
    "start_time": "2023-06-29T16:42:10.287Z"
   },
   {
    "duration": 634,
    "start_time": "2023-06-29T16:42:10.346Z"
   },
   {
    "duration": 6,
    "start_time": "2023-06-29T16:42:10.985Z"
   },
   {
    "duration": 361,
    "start_time": "2023-06-29T16:42:10.994Z"
   },
   {
    "duration": 135,
    "start_time": "2023-06-29T16:42:11.363Z"
   },
   {
    "duration": 128,
    "start_time": "2023-06-29T16:42:11.509Z"
   },
   {
    "duration": 91,
    "start_time": "2023-06-29T16:42:11.639Z"
   },
   {
    "duration": 29,
    "start_time": "2023-06-29T16:42:11.734Z"
   },
   {
    "duration": 168,
    "start_time": "2023-06-29T16:42:11.765Z"
   },
   {
    "duration": 577,
    "start_time": "2023-06-29T16:42:11.935Z"
   },
   {
    "duration": 290,
    "start_time": "2023-06-29T16:42:12.514Z"
   },
   {
    "duration": 372,
    "start_time": "2023-06-29T16:42:12.809Z"
   },
   {
    "duration": 201,
    "start_time": "2023-06-29T16:42:13.183Z"
   },
   {
    "duration": 119,
    "start_time": "2023-06-29T16:42:13.398Z"
   },
   {
    "duration": 4598,
    "start_time": "2023-06-29T16:42:13.527Z"
   },
   {
    "duration": 23,
    "start_time": "2023-06-29T16:42:18.133Z"
   },
   {
    "duration": 50,
    "start_time": "2023-06-29T16:42:18.163Z"
   },
   {
    "duration": 17,
    "start_time": "2023-06-29T16:42:18.227Z"
   },
   {
    "duration": 4260,
    "start_time": "2023-06-29T16:42:18.245Z"
   },
   {
    "duration": 4209,
    "start_time": "2023-06-29T16:42:22.507Z"
   },
   {
    "duration": 2974,
    "start_time": "2023-06-29T16:45:40.228Z"
   },
   {
    "duration": 2201,
    "start_time": "2023-06-29T16:45:43.212Z"
   },
   {
    "duration": 73,
    "start_time": "2023-06-29T16:45:45.422Z"
   },
   {
    "duration": 1423,
    "start_time": "2023-06-29T16:45:45.498Z"
   },
   {
    "duration": 653,
    "start_time": "2023-06-29T16:45:46.924Z"
   },
   {
    "duration": 871,
    "start_time": "2023-06-29T16:45:47.579Z"
   },
   {
    "duration": 405,
    "start_time": "2023-06-29T16:45:48.453Z"
   },
   {
    "duration": 16,
    "start_time": "2023-06-29T16:45:48.870Z"
   },
   {
    "duration": 2932,
    "start_time": "2023-06-29T16:45:48.891Z"
   },
   {
    "duration": 1154,
    "start_time": "2023-06-29T16:45:51.825Z"
   },
   {
    "duration": 7661,
    "start_time": "2023-06-29T16:45:52.984Z"
   },
   {
    "duration": 403,
    "start_time": "2023-06-29T16:46:00.647Z"
   },
   {
    "duration": 217,
    "start_time": "2023-06-29T16:46:01.062Z"
   },
   {
    "duration": 27,
    "start_time": "2023-06-29T16:46:01.290Z"
   },
   {
    "duration": 126,
    "start_time": "2023-06-29T16:46:01.319Z"
   },
   {
    "duration": 13,
    "start_time": "2023-06-29T16:46:01.447Z"
   },
   {
    "duration": 379,
    "start_time": "2023-06-29T16:46:01.462Z"
   },
   {
    "duration": 72,
    "start_time": "2023-06-29T16:46:01.844Z"
   },
   {
    "duration": 563,
    "start_time": "2023-06-29T16:46:01.919Z"
   },
   {
    "duration": 4,
    "start_time": "2023-06-29T16:46:02.484Z"
   },
   {
    "duration": 356,
    "start_time": "2023-06-29T16:46:02.494Z"
   },
   {
    "duration": 111,
    "start_time": "2023-06-29T16:46:02.852Z"
   },
   {
    "duration": 108,
    "start_time": "2023-06-29T16:46:02.964Z"
   },
   {
    "duration": 96,
    "start_time": "2023-06-29T16:46:03.077Z"
   },
   {
    "duration": 44,
    "start_time": "2023-06-29T16:46:03.179Z"
   },
   {
    "duration": 147,
    "start_time": "2023-06-29T16:46:03.229Z"
   },
   {
    "duration": 537,
    "start_time": "2023-06-29T16:46:03.390Z"
   },
   {
    "duration": 287,
    "start_time": "2023-06-29T16:46:03.929Z"
   },
   {
    "duration": 364,
    "start_time": "2023-06-29T16:46:04.221Z"
   },
   {
    "duration": 152,
    "start_time": "2023-06-29T16:46:04.587Z"
   },
   {
    "duration": 107,
    "start_time": "2023-06-29T16:46:04.740Z"
   },
   {
    "duration": 4316,
    "start_time": "2023-06-29T16:46:04.850Z"
   },
   {
    "duration": 14,
    "start_time": "2023-06-29T16:46:09.168Z"
   },
   {
    "duration": 85,
    "start_time": "2023-06-29T16:46:09.192Z"
   },
   {
    "duration": 19,
    "start_time": "2023-06-29T16:46:09.294Z"
   },
   {
    "duration": 3792,
    "start_time": "2023-06-29T16:46:09.316Z"
   },
   {
    "duration": 4129,
    "start_time": "2023-06-29T16:46:13.117Z"
   },
   {
    "duration": 2828,
    "start_time": "2023-06-29T16:50:40.798Z"
   },
   {
    "duration": 2312,
    "start_time": "2023-06-29T16:50:43.629Z"
   },
   {
    "duration": 104,
    "start_time": "2023-06-29T16:50:45.943Z"
   },
   {
    "duration": 1367,
    "start_time": "2023-06-29T16:50:46.049Z"
   },
   {
    "duration": 692,
    "start_time": "2023-06-29T16:50:47.418Z"
   },
   {
    "duration": 758,
    "start_time": "2023-06-29T16:50:48.113Z"
   },
   {
    "duration": 381,
    "start_time": "2023-06-29T16:50:48.873Z"
   },
   {
    "duration": 11,
    "start_time": "2023-06-29T16:50:49.256Z"
   },
   {
    "duration": 2848,
    "start_time": "2023-06-29T16:50:49.275Z"
   },
   {
    "duration": 1169,
    "start_time": "2023-06-29T16:50:52.126Z"
   },
   {
    "duration": 7010,
    "start_time": "2023-06-29T16:50:53.296Z"
   },
   {
    "duration": 380,
    "start_time": "2023-06-29T16:51:00.310Z"
   },
   {
    "duration": 182,
    "start_time": "2023-06-29T16:51:00.699Z"
   },
   {
    "duration": 23,
    "start_time": "2023-06-29T16:51:00.892Z"
   },
   {
    "duration": 107,
    "start_time": "2023-06-29T16:51:00.917Z"
   },
   {
    "duration": 9,
    "start_time": "2023-06-29T16:51:01.025Z"
   },
   {
    "duration": 340,
    "start_time": "2023-06-29T16:51:01.055Z"
   },
   {
    "duration": 37,
    "start_time": "2023-06-29T16:51:01.397Z"
   },
   {
    "duration": 589,
    "start_time": "2023-06-29T16:51:01.436Z"
   },
   {
    "duration": 2,
    "start_time": "2023-06-29T16:51:02.027Z"
   },
   {
    "duration": 335,
    "start_time": "2023-06-29T16:51:02.031Z"
   },
   {
    "duration": 108,
    "start_time": "2023-06-29T16:51:02.372Z"
   },
   {
    "duration": 99,
    "start_time": "2023-06-29T16:51:02.491Z"
   },
   {
    "duration": 89,
    "start_time": "2023-06-29T16:51:02.596Z"
   },
   {
    "duration": 36,
    "start_time": "2023-06-29T16:51:02.686Z"
   },
   {
    "duration": 159,
    "start_time": "2023-06-29T16:51:02.727Z"
   },
   {
    "duration": 600,
    "start_time": "2023-06-29T16:51:02.896Z"
   },
   {
    "duration": 268,
    "start_time": "2023-06-29T16:51:03.505Z"
   },
   {
    "duration": 333,
    "start_time": "2023-06-29T16:51:03.775Z"
   },
   {
    "duration": 122,
    "start_time": "2023-06-29T16:51:04.109Z"
   },
   {
    "duration": 103,
    "start_time": "2023-06-29T16:51:04.233Z"
   },
   {
    "duration": 4751,
    "start_time": "2023-06-29T16:51:04.338Z"
   },
   {
    "duration": 9,
    "start_time": "2023-06-29T16:51:09.097Z"
   },
   {
    "duration": 26,
    "start_time": "2023-06-29T16:51:09.175Z"
   },
   {
    "duration": 185,
    "start_time": "2023-06-29T16:51:09.203Z"
   },
   {
    "duration": 0,
    "start_time": "2023-06-29T16:51:09.390Z"
   },
   {
    "duration": 0,
    "start_time": "2023-06-29T16:51:09.391Z"
   },
   {
    "duration": 0,
    "start_time": "2023-06-29T16:51:09.392Z"
   },
   {
    "duration": 0,
    "start_time": "2023-06-29T16:51:09.393Z"
   },
   {
    "duration": 5147,
    "start_time": "2023-06-29T16:53:43.782Z"
   },
   {
    "duration": 6179,
    "start_time": "2023-06-29T16:53:48.932Z"
   },
   {
    "duration": 73,
    "start_time": "2023-06-29T16:53:55.112Z"
   },
   {
    "duration": 4264,
    "start_time": "2023-06-29T16:53:55.187Z"
   },
   {
    "duration": 694,
    "start_time": "2023-06-29T16:53:59.462Z"
   },
   {
    "duration": 811,
    "start_time": "2023-06-29T16:54:00.158Z"
   },
   {
    "duration": 392,
    "start_time": "2023-06-29T16:54:00.971Z"
   },
   {
    "duration": 13,
    "start_time": "2023-06-29T16:54:01.365Z"
   },
   {
    "duration": 3029,
    "start_time": "2023-06-29T16:54:01.390Z"
   },
   {
    "duration": 1152,
    "start_time": "2023-06-29T16:54:04.421Z"
   },
   {
    "duration": 7449,
    "start_time": "2023-06-29T16:54:05.582Z"
   },
   {
    "duration": 412,
    "start_time": "2023-06-29T16:54:13.033Z"
   },
   {
    "duration": 184,
    "start_time": "2023-06-29T16:54:13.447Z"
   },
   {
    "duration": 17,
    "start_time": "2023-06-29T16:54:13.634Z"
   },
   {
    "duration": 83,
    "start_time": "2023-06-29T16:54:13.656Z"
   },
   {
    "duration": 35,
    "start_time": "2023-06-29T16:54:13.741Z"
   },
   {
    "duration": 326,
    "start_time": "2023-06-29T16:54:13.782Z"
   },
   {
    "duration": 74,
    "start_time": "2023-06-29T16:54:14.110Z"
   },
   {
    "duration": 552,
    "start_time": "2023-06-29T16:54:14.186Z"
   },
   {
    "duration": 3,
    "start_time": "2023-06-29T16:54:14.740Z"
   },
   {
    "duration": 330,
    "start_time": "2023-06-29T16:54:14.745Z"
   },
   {
    "duration": 90,
    "start_time": "2023-06-29T16:54:15.077Z"
   },
   {
    "duration": 103,
    "start_time": "2023-06-29T16:54:15.169Z"
   },
   {
    "duration": 83,
    "start_time": "2023-06-29T16:54:15.274Z"
   },
   {
    "duration": 55,
    "start_time": "2023-06-29T16:54:15.359Z"
   },
   {
    "duration": 139,
    "start_time": "2023-06-29T16:54:15.416Z"
   },
   {
    "duration": 456,
    "start_time": "2023-06-29T16:54:15.565Z"
   },
   {
    "duration": 273,
    "start_time": "2023-06-29T16:54:16.023Z"
   },
   {
    "duration": 329,
    "start_time": "2023-06-29T16:54:16.303Z"
   },
   {
    "duration": 148,
    "start_time": "2023-06-29T16:54:16.633Z"
   },
   {
    "duration": 84,
    "start_time": "2023-06-29T16:54:16.783Z"
   },
   {
    "duration": 160,
    "start_time": "2023-06-29T16:54:16.870Z"
   },
   {
    "duration": 0,
    "start_time": "2023-06-29T16:54:17.031Z"
   },
   {
    "duration": 0,
    "start_time": "2023-06-29T16:54:17.032Z"
   },
   {
    "duration": 0,
    "start_time": "2023-06-29T16:54:17.034Z"
   },
   {
    "duration": 0,
    "start_time": "2023-06-29T16:54:17.036Z"
   },
   {
    "duration": 0,
    "start_time": "2023-06-29T16:54:17.038Z"
   },
   {
    "duration": 0,
    "start_time": "2023-06-29T16:54:17.039Z"
   },
   {
    "duration": 0,
    "start_time": "2023-06-29T16:54:17.058Z"
   },
   {
    "duration": 14,
    "start_time": "2023-06-29T17:00:57.941Z"
   },
   {
    "duration": 2882,
    "start_time": "2023-06-29T17:03:08.252Z"
   },
   {
    "duration": 2091,
    "start_time": "2023-06-29T17:03:11.136Z"
   },
   {
    "duration": 89,
    "start_time": "2023-06-29T17:03:13.229Z"
   },
   {
    "duration": 1300,
    "start_time": "2023-06-29T17:03:13.320Z"
   },
   {
    "duration": 658,
    "start_time": "2023-06-29T17:03:14.621Z"
   },
   {
    "duration": 787,
    "start_time": "2023-06-29T17:03:15.281Z"
   },
   {
    "duration": 455,
    "start_time": "2023-06-29T17:03:16.070Z"
   },
   {
    "duration": 9,
    "start_time": "2023-06-29T17:03:16.529Z"
   },
   {
    "duration": 3021,
    "start_time": "2023-06-29T17:03:16.541Z"
   },
   {
    "duration": 1125,
    "start_time": "2023-06-29T17:03:19.565Z"
   },
   {
    "duration": 7209,
    "start_time": "2023-06-29T17:03:20.692Z"
   },
   {
    "duration": 361,
    "start_time": "2023-06-29T17:03:27.903Z"
   },
   {
    "duration": 196,
    "start_time": "2023-06-29T17:03:28.274Z"
   },
   {
    "duration": 25,
    "start_time": "2023-06-29T17:03:28.477Z"
   },
   {
    "duration": 82,
    "start_time": "2023-06-29T17:03:28.507Z"
   },
   {
    "duration": 10,
    "start_time": "2023-06-29T17:03:28.599Z"
   },
   {
    "duration": 305,
    "start_time": "2023-06-29T17:03:28.611Z"
   },
   {
    "duration": 66,
    "start_time": "2023-06-29T17:03:28.918Z"
   },
   {
    "duration": 525,
    "start_time": "2023-06-29T17:03:28.988Z"
   },
   {
    "duration": 3,
    "start_time": "2023-06-29T17:03:29.514Z"
   },
   {
    "duration": 318,
    "start_time": "2023-06-29T17:03:29.519Z"
   },
   {
    "duration": 102,
    "start_time": "2023-06-29T17:03:29.839Z"
   },
   {
    "duration": 105,
    "start_time": "2023-06-29T17:03:29.943Z"
   },
   {
    "duration": 81,
    "start_time": "2023-06-29T17:03:30.050Z"
   },
   {
    "duration": 49,
    "start_time": "2023-06-29T17:03:30.133Z"
   },
   {
    "duration": 128,
    "start_time": "2023-06-29T17:03:30.183Z"
   },
   {
    "duration": 491,
    "start_time": "2023-06-29T17:03:30.313Z"
   },
   {
    "duration": 274,
    "start_time": "2023-06-29T17:03:30.808Z"
   },
   {
    "duration": 325,
    "start_time": "2023-06-29T17:03:31.083Z"
   },
   {
    "duration": 134,
    "start_time": "2023-06-29T17:03:31.411Z"
   },
   {
    "duration": 105,
    "start_time": "2023-06-29T17:03:31.555Z"
   },
   {
    "duration": 3927,
    "start_time": "2023-06-29T17:03:31.666Z"
   },
   {
    "duration": 11,
    "start_time": "2023-06-29T17:03:35.657Z"
   },
   {
    "duration": 23,
    "start_time": "2023-06-29T17:03:35.672Z"
   },
   {
    "duration": 197,
    "start_time": "2023-06-29T17:03:35.699Z"
   },
   {
    "duration": 0,
    "start_time": "2023-06-29T17:03:35.900Z"
   },
   {
    "duration": 0,
    "start_time": "2023-06-29T17:03:35.902Z"
   },
   {
    "duration": 0,
    "start_time": "2023-06-29T17:03:35.904Z"
   },
   {
    "duration": 1,
    "start_time": "2023-06-29T17:03:35.907Z"
   },
   {
    "duration": 24,
    "start_time": "2023-06-29T17:04:23.749Z"
   },
   {
    "duration": 8804,
    "start_time": "2023-06-29T17:04:46.542Z"
   },
   {
    "duration": 3215,
    "start_time": "2023-06-29T17:06:24.033Z"
   },
   {
    "duration": 2323,
    "start_time": "2023-06-29T17:06:27.250Z"
   },
   {
    "duration": 60,
    "start_time": "2023-06-29T17:06:29.587Z"
   },
   {
    "duration": 1431,
    "start_time": "2023-06-29T17:06:29.649Z"
   },
   {
    "duration": 667,
    "start_time": "2023-06-29T17:06:31.083Z"
   },
   {
    "duration": 762,
    "start_time": "2023-06-29T17:06:31.751Z"
   },
   {
    "duration": 397,
    "start_time": "2023-06-29T17:06:32.515Z"
   },
   {
    "duration": 8,
    "start_time": "2023-06-29T17:06:32.915Z"
   },
   {
    "duration": 3010,
    "start_time": "2023-06-29T17:06:32.925Z"
   },
   {
    "duration": 1231,
    "start_time": "2023-06-29T17:06:35.938Z"
   },
   {
    "duration": 7599,
    "start_time": "2023-06-29T17:06:37.172Z"
   },
   {
    "duration": 378,
    "start_time": "2023-06-29T17:06:44.773Z"
   },
   {
    "duration": 193,
    "start_time": "2023-06-29T17:06:45.159Z"
   },
   {
    "duration": 41,
    "start_time": "2023-06-29T17:06:45.358Z"
   },
   {
    "duration": 97,
    "start_time": "2023-06-29T17:06:45.403Z"
   },
   {
    "duration": 11,
    "start_time": "2023-06-29T17:06:45.503Z"
   },
   {
    "duration": 322,
    "start_time": "2023-06-29T17:06:45.515Z"
   },
   {
    "duration": 70,
    "start_time": "2023-06-29T17:06:45.840Z"
   },
   {
    "duration": 526,
    "start_time": "2023-06-29T17:06:45.912Z"
   },
   {
    "duration": 3,
    "start_time": "2023-06-29T17:06:46.440Z"
   },
   {
    "duration": 339,
    "start_time": "2023-06-29T17:06:46.459Z"
   },
   {
    "duration": 97,
    "start_time": "2023-06-29T17:06:46.800Z"
   },
   {
    "duration": 107,
    "start_time": "2023-06-29T17:06:46.902Z"
   },
   {
    "duration": 90,
    "start_time": "2023-06-29T17:06:47.010Z"
   },
   {
    "duration": 28,
    "start_time": "2023-06-29T17:06:47.109Z"
   },
   {
    "duration": 158,
    "start_time": "2023-06-29T17:06:47.139Z"
   },
   {
    "duration": 567,
    "start_time": "2023-06-29T17:06:47.303Z"
   },
   {
    "duration": 294,
    "start_time": "2023-06-29T17:06:47.874Z"
   },
   {
    "duration": 342,
    "start_time": "2023-06-29T17:06:48.170Z"
   },
   {
    "duration": 134,
    "start_time": "2023-06-29T17:06:48.514Z"
   },
   {
    "duration": 97,
    "start_time": "2023-06-29T17:06:48.655Z"
   },
   {
    "duration": 4644,
    "start_time": "2023-06-29T17:06:48.753Z"
   },
   {
    "duration": 18,
    "start_time": "2023-06-29T17:06:53.483Z"
   },
   {
    "duration": 15,
    "start_time": "2023-06-29T17:06:53.504Z"
   },
   {
    "duration": 13,
    "start_time": "2023-06-29T17:06:53.521Z"
   },
   {
    "duration": 9777,
    "start_time": "2023-06-29T17:06:53.536Z"
   },
   {
    "duration": 3999,
    "start_time": "2023-06-29T17:25:37.346Z"
   },
   {
    "duration": 2887,
    "start_time": "2023-06-29T17:25:41.348Z"
   },
   {
    "duration": 102,
    "start_time": "2023-06-29T17:25:44.247Z"
   },
   {
    "duration": 1759,
    "start_time": "2023-06-29T17:25:44.351Z"
   },
   {
    "duration": 920,
    "start_time": "2023-06-29T17:25:46.112Z"
   },
   {
    "duration": 1106,
    "start_time": "2023-06-29T17:25:47.035Z"
   },
   {
    "duration": 564,
    "start_time": "2023-06-29T17:25:48.143Z"
   },
   {
    "duration": 15,
    "start_time": "2023-06-29T17:25:48.713Z"
   },
   {
    "duration": 3715,
    "start_time": "2023-06-29T17:25:48.734Z"
   },
   {
    "duration": 1419,
    "start_time": "2023-06-29T17:25:52.472Z"
   },
   {
    "duration": 9538,
    "start_time": "2023-06-29T17:25:53.893Z"
   },
   {
    "duration": 554,
    "start_time": "2023-06-29T17:26:03.434Z"
   },
   {
    "duration": 245,
    "start_time": "2023-06-29T17:26:03.991Z"
   },
   {
    "duration": 40,
    "start_time": "2023-06-29T17:26:04.239Z"
   },
   {
    "duration": 115,
    "start_time": "2023-06-29T17:26:04.296Z"
   },
   {
    "duration": 16,
    "start_time": "2023-06-29T17:26:04.417Z"
   },
   {
    "duration": 443,
    "start_time": "2023-06-29T17:26:04.440Z"
   },
   {
    "duration": 51,
    "start_time": "2023-06-29T17:26:04.885Z"
   },
   {
    "duration": 787,
    "start_time": "2023-06-29T17:26:04.939Z"
   },
   {
    "duration": 12,
    "start_time": "2023-06-29T17:26:05.730Z"
   },
   {
    "duration": 452,
    "start_time": "2023-06-29T17:26:05.745Z"
   },
   {
    "duration": 142,
    "start_time": "2023-06-29T17:26:06.209Z"
   },
   {
    "duration": 187,
    "start_time": "2023-06-29T17:26:06.353Z"
   },
   {
    "duration": 121,
    "start_time": "2023-06-29T17:26:06.542Z"
   },
   {
    "duration": 56,
    "start_time": "2023-06-29T17:26:06.666Z"
   },
   {
    "duration": 221,
    "start_time": "2023-06-29T17:26:06.724Z"
   },
   {
    "duration": 746,
    "start_time": "2023-06-29T17:26:06.947Z"
   },
   {
    "duration": 371,
    "start_time": "2023-06-29T17:26:07.698Z"
   },
   {
    "duration": 485,
    "start_time": "2023-06-29T17:26:08.072Z"
   },
   {
    "duration": 249,
    "start_time": "2023-06-29T17:26:08.560Z"
   },
   {
    "duration": 129,
    "start_time": "2023-06-29T17:26:08.819Z"
   },
   {
    "duration": 3551,
    "start_time": "2023-06-29T17:26:08.953Z"
   },
   {
    "duration": 15,
    "start_time": "2023-06-29T17:26:12.523Z"
   },
   {
    "duration": 33,
    "start_time": "2023-06-29T17:26:12.549Z"
   },
   {
    "duration": 21,
    "start_time": "2023-06-29T17:26:12.597Z"
   },
   {
    "duration": 12361,
    "start_time": "2023-06-29T17:26:12.628Z"
   },
   {
    "duration": 3511,
    "start_time": "2023-06-29T18:13:26.002Z"
   },
   {
    "duration": 2508,
    "start_time": "2023-06-29T18:13:29.516Z"
   },
   {
    "duration": 98,
    "start_time": "2023-06-29T18:13:32.026Z"
   },
   {
    "duration": 1840,
    "start_time": "2023-06-29T18:13:32.126Z"
   },
   {
    "duration": 909,
    "start_time": "2023-06-29T18:13:33.969Z"
   },
   {
    "duration": 939,
    "start_time": "2023-06-29T18:13:34.884Z"
   },
   {
    "duration": 430,
    "start_time": "2023-06-29T18:13:35.825Z"
   },
   {
    "duration": 12,
    "start_time": "2023-06-29T18:13:36.262Z"
   },
   {
    "duration": 3575,
    "start_time": "2023-06-29T18:13:36.276Z"
   },
   {
    "duration": 1355,
    "start_time": "2023-06-29T18:13:39.861Z"
   },
   {
    "duration": 8642,
    "start_time": "2023-06-29T18:13:41.222Z"
   },
   {
    "duration": 518,
    "start_time": "2023-06-29T18:13:49.869Z"
   },
   {
    "duration": 231,
    "start_time": "2023-06-29T18:13:50.394Z"
   },
   {
    "duration": 33,
    "start_time": "2023-06-29T18:13:50.632Z"
   },
   {
    "duration": 107,
    "start_time": "2023-06-29T18:13:50.667Z"
   },
   {
    "duration": 28,
    "start_time": "2023-06-29T18:13:50.781Z"
   },
   {
    "duration": 416,
    "start_time": "2023-06-29T18:13:50.816Z"
   },
   {
    "duration": 48,
    "start_time": "2023-06-29T18:13:51.236Z"
   },
   {
    "duration": 659,
    "start_time": "2023-06-29T18:13:51.286Z"
   },
   {
    "duration": 19,
    "start_time": "2023-06-29T18:13:51.948Z"
   },
   {
    "duration": 383,
    "start_time": "2023-06-29T18:13:51.969Z"
   },
   {
    "duration": 129,
    "start_time": "2023-06-29T18:13:52.354Z"
   },
   {
    "duration": 136,
    "start_time": "2023-06-29T18:13:52.485Z"
   },
   {
    "duration": 86,
    "start_time": "2023-06-29T18:13:52.623Z"
   },
   {
    "duration": 47,
    "start_time": "2023-06-29T18:13:52.711Z"
   },
   {
    "duration": 160,
    "start_time": "2023-06-29T18:13:52.760Z"
   },
   {
    "duration": 604,
    "start_time": "2023-06-29T18:13:52.923Z"
   },
   {
    "duration": 324,
    "start_time": "2023-06-29T18:13:53.531Z"
   },
   {
    "duration": 360,
    "start_time": "2023-06-29T18:13:53.857Z"
   },
   {
    "duration": 147,
    "start_time": "2023-06-29T18:13:54.222Z"
   },
   {
    "duration": 113,
    "start_time": "2023-06-29T18:13:54.374Z"
   },
   {
    "duration": 3765,
    "start_time": "2023-06-29T18:13:54.491Z"
   },
   {
    "duration": 13,
    "start_time": "2023-06-29T18:13:58.274Z"
   },
   {
    "duration": 27,
    "start_time": "2023-06-29T18:13:58.302Z"
   },
   {
    "duration": 10,
    "start_time": "2023-06-29T18:13:58.337Z"
   },
   {
    "duration": 11241,
    "start_time": "2023-06-29T18:13:58.349Z"
   },
   {
    "duration": 3237,
    "start_time": "2023-06-29T18:53:30.798Z"
   },
   {
    "duration": 2590,
    "start_time": "2023-06-29T18:53:34.037Z"
   },
   {
    "duration": 96,
    "start_time": "2023-06-29T18:53:36.629Z"
   },
   {
    "duration": 1574,
    "start_time": "2023-06-29T18:53:36.727Z"
   },
   {
    "duration": 725,
    "start_time": "2023-06-29T18:53:38.304Z"
   },
   {
    "duration": 865,
    "start_time": "2023-06-29T18:53:39.031Z"
   },
   {
    "duration": 419,
    "start_time": "2023-06-29T18:53:39.898Z"
   },
   {
    "duration": 11,
    "start_time": "2023-06-29T18:53:40.320Z"
   },
   {
    "duration": 3274,
    "start_time": "2023-06-29T18:53:40.333Z"
   },
   {
    "duration": 1419,
    "start_time": "2023-06-29T18:53:43.610Z"
   },
   {
    "duration": 8196,
    "start_time": "2023-06-29T18:53:45.032Z"
   },
   {
    "duration": 404,
    "start_time": "2023-06-29T18:53:53.230Z"
   },
   {
    "duration": 178,
    "start_time": "2023-06-29T18:53:53.637Z"
   },
   {
    "duration": 20,
    "start_time": "2023-06-29T18:53:53.818Z"
   },
   {
    "duration": 110,
    "start_time": "2023-06-29T18:53:53.840Z"
   },
   {
    "duration": 41,
    "start_time": "2023-06-29T18:53:53.952Z"
   },
   {
    "duration": 384,
    "start_time": "2023-06-29T18:53:53.998Z"
   },
   {
    "duration": 48,
    "start_time": "2023-06-29T18:53:54.396Z"
   },
   {
    "duration": 643,
    "start_time": "2023-06-29T18:53:54.458Z"
   },
   {
    "duration": 4,
    "start_time": "2023-06-29T18:53:55.104Z"
   },
   {
    "duration": 373,
    "start_time": "2023-06-29T18:53:55.110Z"
   },
   {
    "duration": 92,
    "start_time": "2023-06-29T18:53:55.485Z"
   },
   {
    "duration": 78,
    "start_time": "2023-06-29T18:53:55.583Z"
   },
   {
    "duration": 79,
    "start_time": "2023-06-29T18:53:55.663Z"
   },
   {
    "duration": 30,
    "start_time": "2023-06-29T18:53:55.743Z"
   },
   {
    "duration": 186,
    "start_time": "2023-06-29T18:53:55.775Z"
   },
   {
    "duration": 551,
    "start_time": "2023-06-29T18:53:55.965Z"
   },
   {
    "duration": 309,
    "start_time": "2023-06-29T18:53:56.519Z"
   },
   {
    "duration": 374,
    "start_time": "2023-06-29T18:53:56.832Z"
   },
   {
    "duration": 155,
    "start_time": "2023-06-29T18:53:57.208Z"
   },
   {
    "duration": 112,
    "start_time": "2023-06-29T18:53:57.365Z"
   },
   {
    "duration": 4881,
    "start_time": "2023-06-29T18:53:57.489Z"
   },
   {
    "duration": 13,
    "start_time": "2023-06-29T18:54:02.394Z"
   },
   {
    "duration": 40,
    "start_time": "2023-06-29T18:54:02.469Z"
   },
   {
    "duration": 13,
    "start_time": "2023-06-29T18:54:02.512Z"
   },
   {
    "duration": 10438,
    "start_time": "2023-06-29T18:54:02.531Z"
   },
   {
    "duration": 2939,
    "start_time": "2023-06-29T19:40:51.804Z"
   },
   {
    "duration": 2157,
    "start_time": "2023-06-29T19:40:54.746Z"
   },
   {
    "duration": 73,
    "start_time": "2023-06-29T19:40:56.909Z"
   },
   {
    "duration": 1527,
    "start_time": "2023-06-29T19:40:56.990Z"
   },
   {
    "duration": 670,
    "start_time": "2023-06-29T19:40:58.520Z"
   },
   {
    "duration": 777,
    "start_time": "2023-06-29T19:40:59.192Z"
   },
   {
    "duration": 356,
    "start_time": "2023-06-29T19:40:59.980Z"
   },
   {
    "duration": 8,
    "start_time": "2023-06-29T19:41:00.339Z"
   },
   {
    "duration": 3233,
    "start_time": "2023-06-29T19:41:00.348Z"
   },
   {
    "duration": 1151,
    "start_time": "2023-06-29T19:41:03.584Z"
   },
   {
    "duration": 7379,
    "start_time": "2023-06-29T19:41:04.738Z"
   },
   {
    "duration": 344,
    "start_time": "2023-06-29T19:41:12.119Z"
   },
   {
    "duration": 186,
    "start_time": "2023-06-29T19:41:12.465Z"
   },
   {
    "duration": 19,
    "start_time": "2023-06-29T19:41:12.655Z"
   },
   {
    "duration": 109,
    "start_time": "2023-06-29T19:41:12.676Z"
   },
   {
    "duration": 26,
    "start_time": "2023-06-29T19:41:12.799Z"
   },
   {
    "duration": 340,
    "start_time": "2023-06-29T19:41:12.828Z"
   },
   {
    "duration": 51,
    "start_time": "2023-06-29T19:41:13.170Z"
   },
   {
    "duration": 504,
    "start_time": "2023-06-29T19:41:13.223Z"
   },
   {
    "duration": 3,
    "start_time": "2023-06-29T19:41:13.729Z"
   },
   {
    "duration": 332,
    "start_time": "2023-06-29T19:41:13.734Z"
   },
   {
    "duration": 78,
    "start_time": "2023-06-29T19:41:14.068Z"
   },
   {
    "duration": 148,
    "start_time": "2023-06-29T19:41:14.148Z"
   },
   {
    "duration": 104,
    "start_time": "2023-06-29T19:41:14.306Z"
   },
   {
    "duration": 32,
    "start_time": "2023-06-29T19:41:14.415Z"
   },
   {
    "duration": 153,
    "start_time": "2023-06-29T19:41:14.450Z"
   },
   {
    "duration": 512,
    "start_time": "2023-06-29T19:41:14.609Z"
   },
   {
    "duration": 282,
    "start_time": "2023-06-29T19:41:15.123Z"
   },
   {
    "duration": 306,
    "start_time": "2023-06-29T19:41:15.407Z"
   },
   {
    "duration": 124,
    "start_time": "2023-06-29T19:41:15.715Z"
   },
   {
    "duration": 105,
    "start_time": "2023-06-29T19:41:15.841Z"
   },
   {
    "duration": 5026,
    "start_time": "2023-06-29T19:41:15.948Z"
   },
   {
    "duration": 20,
    "start_time": "2023-06-29T19:41:20.989Z"
   },
   {
    "duration": 27,
    "start_time": "2023-06-29T19:41:21.065Z"
   },
   {
    "duration": 14,
    "start_time": "2023-06-29T19:41:21.094Z"
   },
   {
    "duration": 9561,
    "start_time": "2023-06-29T19:41:21.110Z"
   },
   {
    "duration": 12641796,
    "start_time": "2023-06-29T19:41:30.673Z"
   },
   {
    "duration": 11515354,
    "start_time": "2023-06-29T23:12:12.471Z"
   },
   {
    "duration": 20695,
    "start_time": "2023-06-30T02:24:07.827Z"
   },
   {
    "duration": 2732,
    "start_time": "2023-06-30T06:25:47.994Z"
   },
   {
    "duration": 2536,
    "start_time": "2023-06-30T06:25:50.728Z"
   },
   {
    "duration": 64,
    "start_time": "2023-06-30T06:25:53.266Z"
   },
   {
    "duration": 1539,
    "start_time": "2023-06-30T06:25:53.332Z"
   },
   {
    "duration": 553,
    "start_time": "2023-06-30T06:25:54.874Z"
   },
   {
    "duration": 701,
    "start_time": "2023-06-30T06:25:55.429Z"
   },
   {
    "duration": 322,
    "start_time": "2023-06-30T06:25:56.132Z"
   },
   {
    "duration": 13,
    "start_time": "2023-06-30T06:25:56.456Z"
   },
   {
    "duration": 2868,
    "start_time": "2023-06-30T06:25:56.479Z"
   },
   {
    "duration": 1155,
    "start_time": "2023-06-30T06:25:59.349Z"
   },
   {
    "duration": 6723,
    "start_time": "2023-06-30T06:26:00.506Z"
   },
   {
    "duration": 405,
    "start_time": "2023-06-30T06:26:07.231Z"
   },
   {
    "duration": 183,
    "start_time": "2023-06-30T06:26:07.638Z"
   },
   {
    "duration": 17,
    "start_time": "2023-06-30T06:26:07.824Z"
   },
   {
    "duration": 70,
    "start_time": "2023-06-30T06:26:07.854Z"
   },
   {
    "duration": 8,
    "start_time": "2023-06-30T06:26:07.926Z"
   },
   {
    "duration": 325,
    "start_time": "2023-06-30T06:26:07.936Z"
   },
   {
    "duration": 40,
    "start_time": "2023-06-30T06:26:08.264Z"
   },
   {
    "duration": 532,
    "start_time": "2023-06-30T06:26:08.306Z"
   },
   {
    "duration": 3,
    "start_time": "2023-06-30T06:26:08.840Z"
   },
   {
    "duration": 291,
    "start_time": "2023-06-30T06:26:08.845Z"
   },
   {
    "duration": 91,
    "start_time": "2023-06-30T06:26:09.139Z"
   },
   {
    "duration": 92,
    "start_time": "2023-06-30T06:26:09.232Z"
   },
   {
    "duration": 76,
    "start_time": "2023-06-30T06:26:09.326Z"
   },
   {
    "duration": 24,
    "start_time": "2023-06-30T06:26:09.404Z"
   },
   {
    "duration": 107,
    "start_time": "2023-06-30T06:26:09.430Z"
   },
   {
    "duration": 393,
    "start_time": "2023-06-30T06:26:09.539Z"
   },
   {
    "duration": 253,
    "start_time": "2023-06-30T06:26:09.934Z"
   },
   {
    "duration": 302,
    "start_time": "2023-06-30T06:26:10.190Z"
   },
   {
    "duration": 112,
    "start_time": "2023-06-30T06:26:10.494Z"
   },
   {
    "duration": 99,
    "start_time": "2023-06-30T06:26:10.609Z"
   },
   {
    "duration": 4666,
    "start_time": "2023-06-30T06:26:10.710Z"
   },
   {
    "duration": 12,
    "start_time": "2023-06-30T06:26:15.462Z"
   },
   {
    "duration": 84,
    "start_time": "2023-06-30T06:26:15.481Z"
   },
   {
    "duration": 10,
    "start_time": "2023-06-30T06:26:15.567Z"
   },
   {
    "duration": 8773,
    "start_time": "2023-06-30T06:26:15.581Z"
   },
   {
    "duration": 2870,
    "start_time": "2023-06-30T10:39:44.488Z"
   },
   {
    "duration": 3888,
    "start_time": "2023-06-30T10:39:47.360Z"
   },
   {
    "duration": 141,
    "start_time": "2023-06-30T10:39:51.250Z"
   },
   {
    "duration": 3694,
    "start_time": "2023-06-30T10:39:51.393Z"
   },
   {
    "duration": 583,
    "start_time": "2023-06-30T10:39:55.090Z"
   },
   {
    "duration": 686,
    "start_time": "2023-06-30T10:39:55.676Z"
   },
   {
    "duration": 371,
    "start_time": "2023-06-30T10:39:56.366Z"
   },
   {
    "duration": 20,
    "start_time": "2023-06-30T10:39:56.739Z"
   },
   {
    "duration": 3033,
    "start_time": "2023-06-30T10:39:56.766Z"
   },
   {
    "duration": 1191,
    "start_time": "2023-06-30T10:39:59.824Z"
   },
   {
    "duration": 7737,
    "start_time": "2023-06-30T10:40:01.018Z"
   },
   {
    "duration": 381,
    "start_time": "2023-06-30T10:40:08.758Z"
   },
   {
    "duration": 207,
    "start_time": "2023-06-30T10:40:09.141Z"
   },
   {
    "duration": 34,
    "start_time": "2023-06-30T10:40:09.353Z"
   },
   {
    "duration": 100,
    "start_time": "2023-06-30T10:40:09.389Z"
   },
   {
    "duration": 13,
    "start_time": "2023-06-30T10:40:09.493Z"
   },
   {
    "duration": 335,
    "start_time": "2023-06-30T10:40:09.511Z"
   },
   {
    "duration": 48,
    "start_time": "2023-06-30T10:40:09.848Z"
   },
   {
    "duration": 636,
    "start_time": "2023-06-30T10:40:09.900Z"
   },
   {
    "duration": 5,
    "start_time": "2023-06-30T10:40:10.538Z"
   },
   {
    "duration": 357,
    "start_time": "2023-06-30T10:40:10.545Z"
   },
   {
    "duration": 104,
    "start_time": "2023-06-30T10:40:10.903Z"
   },
   {
    "duration": 113,
    "start_time": "2023-06-30T10:40:11.009Z"
   },
   {
    "duration": 77,
    "start_time": "2023-06-30T10:40:11.131Z"
   },
   {
    "duration": 31,
    "start_time": "2023-06-30T10:40:11.211Z"
   },
   {
    "duration": 172,
    "start_time": "2023-06-30T10:40:11.244Z"
   },
   {
    "duration": 521,
    "start_time": "2023-06-30T10:40:11.418Z"
   },
   {
    "duration": 303,
    "start_time": "2023-06-30T10:40:11.941Z"
   },
   {
    "duration": 297,
    "start_time": "2023-06-30T10:40:12.246Z"
   },
   {
    "duration": 131,
    "start_time": "2023-06-30T10:40:12.546Z"
   },
   {
    "duration": 110,
    "start_time": "2023-06-30T10:40:12.680Z"
   },
   {
    "duration": 4264,
    "start_time": "2023-06-30T10:40:12.793Z"
   },
   {
    "duration": 5,
    "start_time": "2023-06-30T10:40:17.060Z"
   },
   {
    "duration": 87,
    "start_time": "2023-06-30T10:40:17.069Z"
   },
   {
    "duration": 12,
    "start_time": "2023-06-30T10:40:17.164Z"
   },
   {
    "duration": 9041,
    "start_time": "2023-06-30T10:40:17.178Z"
   },
   {
    "duration": 117,
    "start_time": "2023-06-30T11:22:08.569Z"
   },
   {
    "duration": 0,
    "start_time": "2023-06-30T11:22:08.689Z"
   },
   {
    "duration": 0,
    "start_time": "2023-06-30T11:22:08.692Z"
   },
   {
    "duration": 0,
    "start_time": "2023-06-30T11:22:08.693Z"
   },
   {
    "duration": 0,
    "start_time": "2023-06-30T11:22:08.696Z"
   },
   {
    "duration": 0,
    "start_time": "2023-06-30T11:22:08.697Z"
   },
   {
    "duration": 0,
    "start_time": "2023-06-30T11:22:08.699Z"
   },
   {
    "duration": 0,
    "start_time": "2023-06-30T11:22:08.700Z"
   },
   {
    "duration": 0,
    "start_time": "2023-06-30T11:22:08.702Z"
   },
   {
    "duration": 0,
    "start_time": "2023-06-30T11:22:08.703Z"
   },
   {
    "duration": 0,
    "start_time": "2023-06-30T11:22:08.705Z"
   },
   {
    "duration": 0,
    "start_time": "2023-06-30T11:22:08.706Z"
   },
   {
    "duration": 0,
    "start_time": "2023-06-30T11:22:08.706Z"
   },
   {
    "duration": 0,
    "start_time": "2023-06-30T11:22:08.707Z"
   },
   {
    "duration": 0,
    "start_time": "2023-06-30T11:22:08.707Z"
   },
   {
    "duration": 0,
    "start_time": "2023-06-30T11:22:08.708Z"
   },
   {
    "duration": 0,
    "start_time": "2023-06-30T11:22:08.709Z"
   },
   {
    "duration": 0,
    "start_time": "2023-06-30T11:22:08.709Z"
   },
   {
    "duration": 0,
    "start_time": "2023-06-30T11:22:08.710Z"
   },
   {
    "duration": 0,
    "start_time": "2023-06-30T11:22:08.710Z"
   },
   {
    "duration": 0,
    "start_time": "2023-06-30T11:22:08.711Z"
   },
   {
    "duration": 0,
    "start_time": "2023-06-30T11:22:08.712Z"
   },
   {
    "duration": 0,
    "start_time": "2023-06-30T11:22:08.715Z"
   },
   {
    "duration": 0,
    "start_time": "2023-06-30T11:22:08.717Z"
   },
   {
    "duration": 0,
    "start_time": "2023-06-30T11:22:08.718Z"
   },
   {
    "duration": 0,
    "start_time": "2023-06-30T11:22:08.720Z"
   },
   {
    "duration": 0,
    "start_time": "2023-06-30T11:22:08.721Z"
   },
   {
    "duration": 0,
    "start_time": "2023-06-30T11:22:08.723Z"
   },
   {
    "duration": 0,
    "start_time": "2023-06-30T11:22:08.724Z"
   },
   {
    "duration": 0,
    "start_time": "2023-06-30T11:22:08.725Z"
   },
   {
    "duration": 0,
    "start_time": "2023-06-30T11:22:08.756Z"
   },
   {
    "duration": 0,
    "start_time": "2023-06-30T11:22:08.757Z"
   },
   {
    "duration": 0,
    "start_time": "2023-06-30T11:22:08.760Z"
   },
   {
    "duration": 0,
    "start_time": "2023-06-30T11:22:08.761Z"
   },
   {
    "duration": 0,
    "start_time": "2023-06-30T11:22:08.762Z"
   },
   {
    "duration": 0,
    "start_time": "2023-06-30T11:22:08.762Z"
   },
   {
    "duration": 0,
    "start_time": "2023-06-30T11:22:08.763Z"
   },
   {
    "duration": 0,
    "start_time": "2023-06-30T11:22:08.770Z"
   },
   {
    "duration": 0,
    "start_time": "2023-06-30T11:22:08.771Z"
   },
   {
    "duration": 0,
    "start_time": "2023-06-30T11:22:08.772Z"
   },
   {
    "duration": 2705,
    "start_time": "2023-06-30T11:22:53.682Z"
   },
   {
    "duration": 2208,
    "start_time": "2023-06-30T11:23:00.226Z"
   },
   {
    "duration": 63,
    "start_time": "2023-06-30T11:23:02.463Z"
   },
   {
    "duration": 146,
    "start_time": "2023-06-30T11:23:08.042Z"
   },
   {
    "duration": 2763,
    "start_time": "2023-06-30T11:23:16.847Z"
   },
   {
    "duration": 1974,
    "start_time": "2023-06-30T11:23:19.614Z"
   },
   {
    "duration": 75,
    "start_time": "2023-06-30T11:23:21.590Z"
   },
   {
    "duration": 1197,
    "start_time": "2023-06-30T11:23:21.667Z"
   },
   {
    "duration": 590,
    "start_time": "2023-06-30T11:23:22.871Z"
   },
   {
    "duration": 683,
    "start_time": "2023-06-30T11:23:23.463Z"
   },
   {
    "duration": 344,
    "start_time": "2023-06-30T11:23:24.147Z"
   },
   {
    "duration": 12,
    "start_time": "2023-06-30T11:23:24.493Z"
   },
   {
    "duration": 2744,
    "start_time": "2023-06-30T11:23:24.507Z"
   },
   {
    "duration": 1174,
    "start_time": "2023-06-30T11:23:27.253Z"
   },
   {
    "duration": 6696,
    "start_time": "2023-06-30T11:23:28.429Z"
   },
   {
    "duration": 320,
    "start_time": "2023-06-30T11:23:35.126Z"
   },
   {
    "duration": 155,
    "start_time": "2023-06-30T11:23:35.448Z"
   },
   {
    "duration": 16,
    "start_time": "2023-06-30T11:23:35.607Z"
   },
   {
    "duration": 87,
    "start_time": "2023-06-30T11:23:35.626Z"
   },
   {
    "duration": 9,
    "start_time": "2023-06-30T11:23:35.716Z"
   },
   {
    "duration": 301,
    "start_time": "2023-06-30T11:23:35.727Z"
   },
   {
    "duration": 58,
    "start_time": "2023-06-30T11:23:36.030Z"
   },
   {
    "duration": 549,
    "start_time": "2023-06-30T11:23:36.090Z"
   },
   {
    "duration": 3,
    "start_time": "2023-06-30T11:23:36.642Z"
   },
   {
    "duration": 307,
    "start_time": "2023-06-30T11:23:36.654Z"
   },
   {
    "duration": 77,
    "start_time": "2023-06-30T11:23:36.966Z"
   },
   {
    "duration": 98,
    "start_time": "2023-06-30T11:23:37.045Z"
   },
   {
    "duration": 86,
    "start_time": "2023-06-30T11:23:37.144Z"
   },
   {
    "duration": 39,
    "start_time": "2023-06-30T11:23:37.232Z"
   },
   {
    "duration": 154,
    "start_time": "2023-06-30T11:23:37.273Z"
   },
   {
    "duration": 519,
    "start_time": "2023-06-30T11:23:37.430Z"
   },
   {
    "duration": 266,
    "start_time": "2023-06-30T11:23:37.951Z"
   },
   {
    "duration": 304,
    "start_time": "2023-06-30T11:23:38.220Z"
   },
   {
    "duration": 117,
    "start_time": "2023-06-30T11:23:38.526Z"
   },
   {
    "duration": 100,
    "start_time": "2023-06-30T11:23:38.654Z"
   },
   {
    "duration": 3805,
    "start_time": "2023-06-30T11:23:38.756Z"
   },
   {
    "duration": 83,
    "start_time": "2023-06-30T11:23:42.574Z"
   },
   {
    "duration": 15,
    "start_time": "2023-06-30T11:23:42.680Z"
   },
   {
    "duration": 7,
    "start_time": "2023-06-30T11:23:42.697Z"
   },
   {
    "duration": 9239,
    "start_time": "2023-06-30T11:23:42.706Z"
   },
   {
    "duration": 334693,
    "start_time": "2023-06-30T11:23:51.954Z"
   },
   {
    "duration": 0,
    "start_time": "2023-06-30T11:29:26.650Z"
   },
   {
    "duration": 0,
    "start_time": "2023-06-30T11:29:26.657Z"
   },
   {
    "duration": 0,
    "start_time": "2023-06-30T11:29:26.659Z"
   },
   {
    "duration": 0,
    "start_time": "2023-06-30T11:29:26.668Z"
   },
   {
    "duration": 0,
    "start_time": "2023-06-30T11:29:26.669Z"
   },
   {
    "duration": 103,
    "start_time": "2023-06-30T11:29:29.427Z"
   },
   {
    "duration": 131,
    "start_time": "2023-06-30T11:31:29.387Z"
   },
   {
    "duration": 10,
    "start_time": "2023-06-30T11:40:30.304Z"
   },
   {
    "duration": 286,
    "start_time": "2023-06-30T11:40:30.891Z"
   },
   {
    "duration": 11,
    "start_time": "2023-06-30T11:40:37.108Z"
   },
   {
    "duration": 2663,
    "start_time": "2023-06-30T11:41:03.721Z"
   },
   {
    "duration": 2161,
    "start_time": "2023-06-30T11:41:06.388Z"
   },
   {
    "duration": 71,
    "start_time": "2023-06-30T11:41:08.550Z"
   },
   {
    "duration": 1198,
    "start_time": "2023-06-30T11:41:08.624Z"
   },
   {
    "duration": 553,
    "start_time": "2023-06-30T11:41:09.824Z"
   },
   {
    "duration": 694,
    "start_time": "2023-06-30T11:41:10.379Z"
   },
   {
    "duration": 295,
    "start_time": "2023-06-30T11:41:11.075Z"
   },
   {
    "duration": 10,
    "start_time": "2023-06-30T11:41:11.372Z"
   },
   {
    "duration": 2911,
    "start_time": "2023-06-30T11:41:11.384Z"
   },
   {
    "duration": 1122,
    "start_time": "2023-06-30T11:41:14.299Z"
   },
   {
    "duration": 6803,
    "start_time": "2023-06-30T11:41:15.423Z"
   },
   {
    "duration": 339,
    "start_time": "2023-06-30T11:41:22.228Z"
   },
   {
    "duration": 144,
    "start_time": "2023-06-30T11:41:22.568Z"
   },
   {
    "duration": 17,
    "start_time": "2023-06-30T11:41:22.714Z"
   },
   {
    "duration": 96,
    "start_time": "2023-06-30T11:41:22.733Z"
   },
   {
    "duration": 8,
    "start_time": "2023-06-30T11:41:22.831Z"
   },
   {
    "duration": 211,
    "start_time": "2023-06-30T11:41:22.841Z"
   },
   {
    "duration": 123,
    "start_time": "2023-06-30T11:41:23.054Z"
   },
   {
    "duration": 37,
    "start_time": "2023-06-30T11:41:23.179Z"
   },
   {
    "duration": 499,
    "start_time": "2023-06-30T11:41:23.218Z"
   },
   {
    "duration": 3,
    "start_time": "2023-06-30T11:41:23.719Z"
   },
   {
    "duration": 296,
    "start_time": "2023-06-30T11:41:23.723Z"
   },
   {
    "duration": 84,
    "start_time": "2023-06-30T11:41:24.021Z"
   },
   {
    "duration": 85,
    "start_time": "2023-06-30T11:41:24.107Z"
   },
   {
    "duration": 81,
    "start_time": "2023-06-30T11:41:24.194Z"
   },
   {
    "duration": 28,
    "start_time": "2023-06-30T11:41:24.279Z"
   },
   {
    "duration": 126,
    "start_time": "2023-06-30T11:41:24.309Z"
   },
   {
    "duration": 408,
    "start_time": "2023-06-30T11:41:24.439Z"
   },
   {
    "duration": 262,
    "start_time": "2023-06-30T11:41:24.848Z"
   },
   {
    "duration": 279,
    "start_time": "2023-06-30T11:41:25.112Z"
   },
   {
    "duration": 109,
    "start_time": "2023-06-30T11:41:25.393Z"
   },
   {
    "duration": 93,
    "start_time": "2023-06-30T11:41:25.504Z"
   },
   {
    "duration": 5479,
    "start_time": "2023-06-30T11:41:25.599Z"
   },
   {
    "duration": 4,
    "start_time": "2023-06-30T11:41:31.156Z"
   },
   {
    "duration": 35,
    "start_time": "2023-06-30T11:41:31.165Z"
   },
   {
    "duration": 13,
    "start_time": "2023-06-30T11:41:31.202Z"
   },
   {
    "duration": 8647,
    "start_time": "2023-06-30T11:41:31.217Z"
   },
   {
    "duration": 2586,
    "start_time": "2023-06-30T12:20:26.294Z"
   },
   {
    "duration": 1961,
    "start_time": "2023-06-30T12:20:28.883Z"
   },
   {
    "duration": 70,
    "start_time": "2023-06-30T12:20:30.846Z"
   },
   {
    "duration": 1124,
    "start_time": "2023-06-30T12:20:30.918Z"
   },
   {
    "duration": 604,
    "start_time": "2023-06-30T12:20:32.045Z"
   },
   {
    "duration": 685,
    "start_time": "2023-06-30T12:20:32.651Z"
   },
   {
    "duration": 307,
    "start_time": "2023-06-30T12:20:33.338Z"
   },
   {
    "duration": 17,
    "start_time": "2023-06-30T12:20:33.647Z"
   },
   {
    "duration": 2600,
    "start_time": "2023-06-30T12:20:33.665Z"
   },
   {
    "duration": 1095,
    "start_time": "2023-06-30T12:20:36.268Z"
   },
   {
    "duration": 6179,
    "start_time": "2023-06-30T12:20:37.370Z"
   },
   {
    "duration": 288,
    "start_time": "2023-06-30T12:20:43.553Z"
   },
   {
    "duration": 165,
    "start_time": "2023-06-30T12:20:43.843Z"
   },
   {
    "duration": 15,
    "start_time": "2023-06-30T12:20:44.012Z"
   },
   {
    "duration": 83,
    "start_time": "2023-06-30T12:20:44.029Z"
   },
   {
    "duration": 9,
    "start_time": "2023-06-30T12:20:44.114Z"
   },
   {
    "duration": 191,
    "start_time": "2023-06-30T12:20:44.125Z"
   },
   {
    "duration": 122,
    "start_time": "2023-06-30T12:20:44.317Z"
   },
   {
    "duration": 46,
    "start_time": "2023-06-30T12:20:44.441Z"
   },
   {
    "duration": 500,
    "start_time": "2023-06-30T12:20:44.489Z"
   },
   {
    "duration": 3,
    "start_time": "2023-06-30T12:20:44.991Z"
   },
   {
    "duration": 300,
    "start_time": "2023-06-30T12:20:44.996Z"
   },
   {
    "duration": 88,
    "start_time": "2023-06-30T12:20:45.298Z"
   },
   {
    "duration": 83,
    "start_time": "2023-06-30T12:20:45.388Z"
   },
   {
    "duration": 62,
    "start_time": "2023-06-30T12:20:45.474Z"
   },
   {
    "duration": 29,
    "start_time": "2023-06-30T12:20:45.554Z"
   },
   {
    "duration": 113,
    "start_time": "2023-06-30T12:20:45.585Z"
   },
   {
    "duration": 388,
    "start_time": "2023-06-30T12:20:45.700Z"
   },
   {
    "duration": 249,
    "start_time": "2023-06-30T12:20:46.090Z"
   },
   {
    "duration": 274,
    "start_time": "2023-06-30T12:20:46.341Z"
   },
   {
    "duration": 114,
    "start_time": "2023-06-30T12:20:46.617Z"
   },
   {
    "duration": 93,
    "start_time": "2023-06-30T12:20:46.734Z"
   },
   {
    "duration": 4044,
    "start_time": "2023-06-30T12:20:46.829Z"
   },
   {
    "duration": 92,
    "start_time": "2023-06-30T12:20:50.875Z"
   },
   {
    "duration": 14,
    "start_time": "2023-06-30T12:20:51.054Z"
   },
   {
    "duration": 6,
    "start_time": "2023-06-30T12:20:51.071Z"
   },
   {
    "duration": 121,
    "start_time": "2023-06-30T12:20:51.079Z"
   },
   {
    "duration": 0,
    "start_time": "2023-06-30T12:20:51.203Z"
   },
   {
    "duration": 0,
    "start_time": "2023-06-30T12:20:51.205Z"
   },
   {
    "duration": 0,
    "start_time": "2023-06-30T12:20:51.206Z"
   },
   {
    "duration": 0,
    "start_time": "2023-06-30T12:20:51.208Z"
   },
   {
    "duration": 2536,
    "start_time": "2023-06-30T12:20:58.013Z"
   },
   {
    "duration": 2011,
    "start_time": "2023-06-30T12:21:00.554Z"
   },
   {
    "duration": 58,
    "start_time": "2023-06-30T12:21:02.568Z"
   },
   {
    "duration": 1206,
    "start_time": "2023-06-30T12:21:02.627Z"
   },
   {
    "duration": 554,
    "start_time": "2023-06-30T12:21:03.835Z"
   },
   {
    "duration": 686,
    "start_time": "2023-06-30T12:21:04.391Z"
   },
   {
    "duration": 292,
    "start_time": "2023-06-30T12:21:05.080Z"
   },
   {
    "duration": 8,
    "start_time": "2023-06-30T12:21:05.374Z"
   },
   {
    "duration": 2747,
    "start_time": "2023-06-30T12:21:05.384Z"
   },
   {
    "duration": 1042,
    "start_time": "2023-06-30T12:21:08.133Z"
   },
   {
    "duration": 6392,
    "start_time": "2023-06-30T12:21:09.177Z"
   },
   {
    "duration": 289,
    "start_time": "2023-06-30T12:21:15.571Z"
   },
   {
    "duration": 147,
    "start_time": "2023-06-30T12:21:15.862Z"
   },
   {
    "duration": 16,
    "start_time": "2023-06-30T12:21:16.012Z"
   },
   {
    "duration": 84,
    "start_time": "2023-06-30T12:21:16.030Z"
   },
   {
    "duration": 9,
    "start_time": "2023-06-30T12:21:16.116Z"
   },
   {
    "duration": 186,
    "start_time": "2023-06-30T12:21:16.127Z"
   },
   {
    "duration": 109,
    "start_time": "2023-06-30T12:21:16.315Z"
   },
   {
    "duration": 61,
    "start_time": "2023-06-30T12:21:16.426Z"
   },
   {
    "duration": 505,
    "start_time": "2023-06-30T12:21:16.489Z"
   },
   {
    "duration": 2,
    "start_time": "2023-06-30T12:21:16.996Z"
   },
   {
    "duration": 277,
    "start_time": "2023-06-30T12:21:17.000Z"
   },
   {
    "duration": 78,
    "start_time": "2023-06-30T12:21:17.279Z"
   },
   {
    "duration": 76,
    "start_time": "2023-06-30T12:21:17.359Z"
   },
   {
    "duration": 77,
    "start_time": "2023-06-30T12:21:17.437Z"
   },
   {
    "duration": 25,
    "start_time": "2023-06-30T12:21:17.515Z"
   },
   {
    "duration": 107,
    "start_time": "2023-06-30T12:21:17.562Z"
   },
   {
    "duration": 461,
    "start_time": "2023-06-30T12:21:17.671Z"
   },
   {
    "duration": 245,
    "start_time": "2023-06-30T12:21:18.133Z"
   },
   {
    "duration": 259,
    "start_time": "2023-06-30T12:21:18.380Z"
   },
   {
    "duration": 104,
    "start_time": "2023-06-30T12:21:18.640Z"
   },
   {
    "duration": 77,
    "start_time": "2023-06-30T12:21:18.753Z"
   },
   {
    "duration": 3740,
    "start_time": "2023-06-30T12:21:18.832Z"
   },
   {
    "duration": 80,
    "start_time": "2023-06-30T12:21:22.575Z"
   },
   {
    "duration": 114,
    "start_time": "2023-06-30T12:21:22.663Z"
   },
   {
    "duration": 15,
    "start_time": "2023-06-30T12:21:22.780Z"
   },
   {
    "duration": 37,
    "start_time": "2023-06-30T12:21:22.796Z"
   },
   {
    "duration": 16,
    "start_time": "2023-06-30T12:21:22.835Z"
   },
   {
    "duration": 25,
    "start_time": "2023-06-30T12:21:22.855Z"
   },
   {
    "duration": 21,
    "start_time": "2023-06-30T12:21:22.882Z"
   },
   {
    "duration": 2486,
    "start_time": "2023-06-30T12:38:47.682Z"
   },
   {
    "duration": 1848,
    "start_time": "2023-06-30T12:38:50.171Z"
   },
   {
    "duration": 65,
    "start_time": "2023-06-30T12:38:52.020Z"
   },
   {
    "duration": 1117,
    "start_time": "2023-06-30T12:38:52.087Z"
   },
   {
    "duration": 566,
    "start_time": "2023-06-30T12:38:53.206Z"
   },
   {
    "duration": 661,
    "start_time": "2023-06-30T12:38:53.774Z"
   },
   {
    "duration": 308,
    "start_time": "2023-06-30T12:38:54.437Z"
   },
   {
    "duration": 9,
    "start_time": "2023-06-30T12:38:54.747Z"
   },
   {
    "duration": 2642,
    "start_time": "2023-06-30T12:38:54.757Z"
   },
   {
    "duration": 1077,
    "start_time": "2023-06-30T12:38:57.401Z"
   }
  ],
  "kernelspec": {
   "display_name": "Python 3 (ipykernel)",
   "language": "python",
   "name": "python3"
  },
  "language_info": {
   "codemirror_mode": {
    "name": "ipython",
    "version": 3
   },
   "file_extension": ".py",
   "mimetype": "text/x-python",
   "name": "python",
   "nbconvert_exporter": "python",
   "pygments_lexer": "ipython3",
   "version": "3.9.5"
  },
  "toc": {
   "base_numbering": 1,
   "nav_menu": {},
   "number_sections": true,
   "sideBar": true,
   "skip_h1_title": true,
   "title_cell": "Table of Contents",
   "title_sidebar": "Contents",
   "toc_cell": false,
   "toc_position": {},
   "toc_section_display": true,
   "toc_window_display": false
  }
 },
 "nbformat": 4,
 "nbformat_minor": 4
}
