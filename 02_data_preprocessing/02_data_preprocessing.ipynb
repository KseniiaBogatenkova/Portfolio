{
 "cells": [
  {
   "cell_type": "markdown",
   "id": "e4db770b",
   "metadata": {
    "deletable": false,
    "editable": false,
    "id": "c81daeeb"
   },
   "source": [
    "# Исследование надежности заемщиков\n"
   ]
  },
  {
   "cell_type": "markdown",
   "id": "b9849e7a-e537-465c-a9c2-9fca600c6bf0",
   "metadata": {
    "deletable": false,
    "editable": false,
    "id": "827c20bf"
   },
   "source": [
    "## Описание задачи\n",
    "\n",
    "Заказчик — кредитный отдел банка. Нужно разобраться, влияет ли семейное положение и количество детей клиента на факт погашения кредита в срок. Входные данные от банка — статистика о платёжеспособности клиентов.\n",
    "\n",
    "Результаты исследования будут учтены при построении модели кредитного скоринга — специальной системы, которая оценивает способность потенциального заёмщика вернуть кредит банку.\n",
    "\n",
    "## Описание данных\n",
    "\n",
    "Для проведения анализа доступны следующие данные:\n",
    "\n",
    "- `children` — количество детей в семье\n",
    "- `days_employed` — общий трудовой стаж в днях\n",
    "- `dob_years` — возраст клиента в годах\n",
    "- `education` — уровень образования клиента\n",
    "- `education_id` — идентификатор уровня образования\n",
    "- `family_status` — семейное положение\n",
    "- `family_status_id` — идентификатор семейного положения\n",
    "- `gender` — пол клиента\n",
    "- `income_type` — тип занятости\n",
    "- `debt` — имел ли задолженность по возврату кредитов\n",
    "- `total_income` — ежемесячный доход\n",
    "- `purpose` — цель получения кредита\n",
    "\n",
    "## Цель исследования\n",
    "\n",
    "Целью исследования является выяснить, какие факторы, такие как семейное положение и количество детей, влияют на факт погашения кредита в срок.\n",
    "\n",
    "\n"
   ]
  },
  {
   "cell_type": "markdown",
   "id": "025dc7a6",
   "metadata": {
    "deletable": false,
    "editable": false,
    "id": "744d7639"
   },
   "source": [
    "## Откройте таблицу и изучите общую информацию о данных"
   ]
  },
  {
   "cell_type": "markdown",
   "id": "b7c19e43",
   "metadata": {
    "deletable": false,
    "editable": false,
    "id": "e7a14c31"
   },
   "source": [
    "**Задание 1. Импортируйте библиотеку pandas. Считайте данные из csv-файла в датафрейм и сохраните в переменную `data`. Путь к файлу:**\n",
    "\n",
    "`/datasets/data.csv`"
   ]
  },
  {
   "cell_type": "code",
   "execution_count": 1,
   "id": "470c66cd",
   "metadata": {
    "deletable": false,
    "id": "7bcf75c9"
   },
   "outputs": [],
   "source": [
    "import pandas as pd\n",
    "\n",
    "try:\n",
    "    data = pd.read_csv('/datasets/data.csv')\n",
    "except:\n",
    "    data = pd.read_csv('https://code.s3.yandex.net/datasets/data.csv')"
   ]
  },
  {
   "cell_type": "markdown",
   "id": "f2e80798",
   "metadata": {
    "deletable": false,
    "editable": false,
    "id": "b8038fe3"
   },
   "source": [
    "**Задание 2. Выведите первые 20 строчек датафрейма `data` на экран.**"
   ]
  },
  {
   "cell_type": "code",
   "execution_count": 2,
   "id": "f318bcfe",
   "metadata": {
    "deletable": false,
    "id": "2a7cab99",
    "outputId": "1a8f3ef2-d323-4ec2-ddf7-89670b5944c4"
   },
   "outputs": [
    {
     "data": {
      "text/html": [
       "<div>\n",
       "<style scoped>\n",
       "    .dataframe tbody tr th:only-of-type {\n",
       "        vertical-align: middle;\n",
       "    }\n",
       "\n",
       "    .dataframe tbody tr th {\n",
       "        vertical-align: top;\n",
       "    }\n",
       "\n",
       "    .dataframe thead th {\n",
       "        text-align: right;\n",
       "    }\n",
       "</style>\n",
       "<table border=\"1\" class=\"dataframe\">\n",
       "  <thead>\n",
       "    <tr style=\"text-align: right;\">\n",
       "      <th></th>\n",
       "      <th>children</th>\n",
       "      <th>days_employed</th>\n",
       "      <th>dob_years</th>\n",
       "      <th>education</th>\n",
       "      <th>education_id</th>\n",
       "      <th>family_status</th>\n",
       "      <th>family_status_id</th>\n",
       "      <th>gender</th>\n",
       "      <th>income_type</th>\n",
       "      <th>debt</th>\n",
       "      <th>total_income</th>\n",
       "      <th>purpose</th>\n",
       "    </tr>\n",
       "  </thead>\n",
       "  <tbody>\n",
       "    <tr>\n",
       "      <th>0</th>\n",
       "      <td>1</td>\n",
       "      <td>-8437.673028</td>\n",
       "      <td>42</td>\n",
       "      <td>высшее</td>\n",
       "      <td>0</td>\n",
       "      <td>женат / замужем</td>\n",
       "      <td>0</td>\n",
       "      <td>F</td>\n",
       "      <td>сотрудник</td>\n",
       "      <td>0</td>\n",
       "      <td>253875.639453</td>\n",
       "      <td>покупка жилья</td>\n",
       "    </tr>\n",
       "    <tr>\n",
       "      <th>1</th>\n",
       "      <td>1</td>\n",
       "      <td>-4024.803754</td>\n",
       "      <td>36</td>\n",
       "      <td>среднее</td>\n",
       "      <td>1</td>\n",
       "      <td>женат / замужем</td>\n",
       "      <td>0</td>\n",
       "      <td>F</td>\n",
       "      <td>сотрудник</td>\n",
       "      <td>0</td>\n",
       "      <td>112080.014102</td>\n",
       "      <td>приобретение автомобиля</td>\n",
       "    </tr>\n",
       "    <tr>\n",
       "      <th>2</th>\n",
       "      <td>0</td>\n",
       "      <td>-5623.422610</td>\n",
       "      <td>33</td>\n",
       "      <td>Среднее</td>\n",
       "      <td>1</td>\n",
       "      <td>женат / замужем</td>\n",
       "      <td>0</td>\n",
       "      <td>M</td>\n",
       "      <td>сотрудник</td>\n",
       "      <td>0</td>\n",
       "      <td>145885.952297</td>\n",
       "      <td>покупка жилья</td>\n",
       "    </tr>\n",
       "    <tr>\n",
       "      <th>3</th>\n",
       "      <td>3</td>\n",
       "      <td>-4124.747207</td>\n",
       "      <td>32</td>\n",
       "      <td>среднее</td>\n",
       "      <td>1</td>\n",
       "      <td>женат / замужем</td>\n",
       "      <td>0</td>\n",
       "      <td>M</td>\n",
       "      <td>сотрудник</td>\n",
       "      <td>0</td>\n",
       "      <td>267628.550329</td>\n",
       "      <td>дополнительное образование</td>\n",
       "    </tr>\n",
       "    <tr>\n",
       "      <th>4</th>\n",
       "      <td>0</td>\n",
       "      <td>340266.072047</td>\n",
       "      <td>53</td>\n",
       "      <td>среднее</td>\n",
       "      <td>1</td>\n",
       "      <td>гражданский брак</td>\n",
       "      <td>1</td>\n",
       "      <td>F</td>\n",
       "      <td>пенсионер</td>\n",
       "      <td>0</td>\n",
       "      <td>158616.077870</td>\n",
       "      <td>сыграть свадьбу</td>\n",
       "    </tr>\n",
       "    <tr>\n",
       "      <th>5</th>\n",
       "      <td>0</td>\n",
       "      <td>-926.185831</td>\n",
       "      <td>27</td>\n",
       "      <td>высшее</td>\n",
       "      <td>0</td>\n",
       "      <td>гражданский брак</td>\n",
       "      <td>1</td>\n",
       "      <td>M</td>\n",
       "      <td>компаньон</td>\n",
       "      <td>0</td>\n",
       "      <td>255763.565419</td>\n",
       "      <td>покупка жилья</td>\n",
       "    </tr>\n",
       "    <tr>\n",
       "      <th>6</th>\n",
       "      <td>0</td>\n",
       "      <td>-2879.202052</td>\n",
       "      <td>43</td>\n",
       "      <td>высшее</td>\n",
       "      <td>0</td>\n",
       "      <td>женат / замужем</td>\n",
       "      <td>0</td>\n",
       "      <td>F</td>\n",
       "      <td>компаньон</td>\n",
       "      <td>0</td>\n",
       "      <td>240525.971920</td>\n",
       "      <td>операции с жильем</td>\n",
       "    </tr>\n",
       "    <tr>\n",
       "      <th>7</th>\n",
       "      <td>0</td>\n",
       "      <td>-152.779569</td>\n",
       "      <td>50</td>\n",
       "      <td>СРЕДНЕЕ</td>\n",
       "      <td>1</td>\n",
       "      <td>женат / замужем</td>\n",
       "      <td>0</td>\n",
       "      <td>M</td>\n",
       "      <td>сотрудник</td>\n",
       "      <td>0</td>\n",
       "      <td>135823.934197</td>\n",
       "      <td>образование</td>\n",
       "    </tr>\n",
       "    <tr>\n",
       "      <th>8</th>\n",
       "      <td>2</td>\n",
       "      <td>-6929.865299</td>\n",
       "      <td>35</td>\n",
       "      <td>ВЫСШЕЕ</td>\n",
       "      <td>0</td>\n",
       "      <td>гражданский брак</td>\n",
       "      <td>1</td>\n",
       "      <td>F</td>\n",
       "      <td>сотрудник</td>\n",
       "      <td>0</td>\n",
       "      <td>95856.832424</td>\n",
       "      <td>на проведение свадьбы</td>\n",
       "    </tr>\n",
       "    <tr>\n",
       "      <th>9</th>\n",
       "      <td>0</td>\n",
       "      <td>-2188.756445</td>\n",
       "      <td>41</td>\n",
       "      <td>среднее</td>\n",
       "      <td>1</td>\n",
       "      <td>женат / замужем</td>\n",
       "      <td>0</td>\n",
       "      <td>M</td>\n",
       "      <td>сотрудник</td>\n",
       "      <td>0</td>\n",
       "      <td>144425.938277</td>\n",
       "      <td>покупка жилья для семьи</td>\n",
       "    </tr>\n",
       "    <tr>\n",
       "      <th>10</th>\n",
       "      <td>2</td>\n",
       "      <td>-4171.483647</td>\n",
       "      <td>36</td>\n",
       "      <td>высшее</td>\n",
       "      <td>0</td>\n",
       "      <td>женат / замужем</td>\n",
       "      <td>0</td>\n",
       "      <td>M</td>\n",
       "      <td>компаньон</td>\n",
       "      <td>0</td>\n",
       "      <td>113943.491460</td>\n",
       "      <td>покупка недвижимости</td>\n",
       "    </tr>\n",
       "    <tr>\n",
       "      <th>11</th>\n",
       "      <td>0</td>\n",
       "      <td>-792.701887</td>\n",
       "      <td>40</td>\n",
       "      <td>среднее</td>\n",
       "      <td>1</td>\n",
       "      <td>женат / замужем</td>\n",
       "      <td>0</td>\n",
       "      <td>F</td>\n",
       "      <td>сотрудник</td>\n",
       "      <td>0</td>\n",
       "      <td>77069.234271</td>\n",
       "      <td>покупка коммерческой недвижимости</td>\n",
       "    </tr>\n",
       "    <tr>\n",
       "      <th>12</th>\n",
       "      <td>0</td>\n",
       "      <td>NaN</td>\n",
       "      <td>65</td>\n",
       "      <td>среднее</td>\n",
       "      <td>1</td>\n",
       "      <td>гражданский брак</td>\n",
       "      <td>1</td>\n",
       "      <td>M</td>\n",
       "      <td>пенсионер</td>\n",
       "      <td>0</td>\n",
       "      <td>NaN</td>\n",
       "      <td>сыграть свадьбу</td>\n",
       "    </tr>\n",
       "    <tr>\n",
       "      <th>13</th>\n",
       "      <td>0</td>\n",
       "      <td>-1846.641941</td>\n",
       "      <td>54</td>\n",
       "      <td>неоконченное высшее</td>\n",
       "      <td>2</td>\n",
       "      <td>женат / замужем</td>\n",
       "      <td>0</td>\n",
       "      <td>F</td>\n",
       "      <td>сотрудник</td>\n",
       "      <td>0</td>\n",
       "      <td>130458.228857</td>\n",
       "      <td>приобретение автомобиля</td>\n",
       "    </tr>\n",
       "    <tr>\n",
       "      <th>14</th>\n",
       "      <td>0</td>\n",
       "      <td>-1844.956182</td>\n",
       "      <td>56</td>\n",
       "      <td>высшее</td>\n",
       "      <td>0</td>\n",
       "      <td>гражданский брак</td>\n",
       "      <td>1</td>\n",
       "      <td>F</td>\n",
       "      <td>компаньон</td>\n",
       "      <td>1</td>\n",
       "      <td>165127.911772</td>\n",
       "      <td>покупка жилой недвижимости</td>\n",
       "    </tr>\n",
       "    <tr>\n",
       "      <th>15</th>\n",
       "      <td>1</td>\n",
       "      <td>-972.364419</td>\n",
       "      <td>26</td>\n",
       "      <td>среднее</td>\n",
       "      <td>1</td>\n",
       "      <td>женат / замужем</td>\n",
       "      <td>0</td>\n",
       "      <td>F</td>\n",
       "      <td>сотрудник</td>\n",
       "      <td>0</td>\n",
       "      <td>116820.904450</td>\n",
       "      <td>строительство собственной недвижимости</td>\n",
       "    </tr>\n",
       "    <tr>\n",
       "      <th>16</th>\n",
       "      <td>0</td>\n",
       "      <td>-1719.934226</td>\n",
       "      <td>35</td>\n",
       "      <td>среднее</td>\n",
       "      <td>1</td>\n",
       "      <td>женат / замужем</td>\n",
       "      <td>0</td>\n",
       "      <td>F</td>\n",
       "      <td>сотрудник</td>\n",
       "      <td>0</td>\n",
       "      <td>289202.704229</td>\n",
       "      <td>недвижимость</td>\n",
       "    </tr>\n",
       "    <tr>\n",
       "      <th>17</th>\n",
       "      <td>0</td>\n",
       "      <td>-2369.999720</td>\n",
       "      <td>33</td>\n",
       "      <td>высшее</td>\n",
       "      <td>0</td>\n",
       "      <td>гражданский брак</td>\n",
       "      <td>1</td>\n",
       "      <td>M</td>\n",
       "      <td>сотрудник</td>\n",
       "      <td>0</td>\n",
       "      <td>90410.586745</td>\n",
       "      <td>строительство недвижимости</td>\n",
       "    </tr>\n",
       "    <tr>\n",
       "      <th>18</th>\n",
       "      <td>0</td>\n",
       "      <td>400281.136913</td>\n",
       "      <td>53</td>\n",
       "      <td>среднее</td>\n",
       "      <td>1</td>\n",
       "      <td>вдовец / вдова</td>\n",
       "      <td>2</td>\n",
       "      <td>F</td>\n",
       "      <td>пенсионер</td>\n",
       "      <td>0</td>\n",
       "      <td>56823.777243</td>\n",
       "      <td>на покупку подержанного автомобиля</td>\n",
       "    </tr>\n",
       "    <tr>\n",
       "      <th>19</th>\n",
       "      <td>0</td>\n",
       "      <td>-10038.818549</td>\n",
       "      <td>48</td>\n",
       "      <td>СРЕДНЕЕ</td>\n",
       "      <td>1</td>\n",
       "      <td>в разводе</td>\n",
       "      <td>3</td>\n",
       "      <td>F</td>\n",
       "      <td>сотрудник</td>\n",
       "      <td>0</td>\n",
       "      <td>242831.107982</td>\n",
       "      <td>на покупку своего автомобиля</td>\n",
       "    </tr>\n",
       "  </tbody>\n",
       "</table>\n",
       "</div>"
      ],
      "text/plain": [
       "    children  days_employed  dob_years            education  education_id  \\\n",
       "0          1   -8437.673028         42               высшее             0   \n",
       "1          1   -4024.803754         36              среднее             1   \n",
       "2          0   -5623.422610         33              Среднее             1   \n",
       "3          3   -4124.747207         32              среднее             1   \n",
       "4          0  340266.072047         53              среднее             1   \n",
       "5          0    -926.185831         27               высшее             0   \n",
       "6          0   -2879.202052         43               высшее             0   \n",
       "7          0    -152.779569         50              СРЕДНЕЕ             1   \n",
       "8          2   -6929.865299         35               ВЫСШЕЕ             0   \n",
       "9          0   -2188.756445         41              среднее             1   \n",
       "10         2   -4171.483647         36               высшее             0   \n",
       "11         0    -792.701887         40              среднее             1   \n",
       "12         0            NaN         65              среднее             1   \n",
       "13         0   -1846.641941         54  неоконченное высшее             2   \n",
       "14         0   -1844.956182         56               высшее             0   \n",
       "15         1    -972.364419         26              среднее             1   \n",
       "16         0   -1719.934226         35              среднее             1   \n",
       "17         0   -2369.999720         33               высшее             0   \n",
       "18         0  400281.136913         53              среднее             1   \n",
       "19         0  -10038.818549         48              СРЕДНЕЕ             1   \n",
       "\n",
       "       family_status  family_status_id gender income_type  debt  \\\n",
       "0    женат / замужем                 0      F   сотрудник     0   \n",
       "1    женат / замужем                 0      F   сотрудник     0   \n",
       "2    женат / замужем                 0      M   сотрудник     0   \n",
       "3    женат / замужем                 0      M   сотрудник     0   \n",
       "4   гражданский брак                 1      F   пенсионер     0   \n",
       "5   гражданский брак                 1      M   компаньон     0   \n",
       "6    женат / замужем                 0      F   компаньон     0   \n",
       "7    женат / замужем                 0      M   сотрудник     0   \n",
       "8   гражданский брак                 1      F   сотрудник     0   \n",
       "9    женат / замужем                 0      M   сотрудник     0   \n",
       "10   женат / замужем                 0      M   компаньон     0   \n",
       "11   женат / замужем                 0      F   сотрудник     0   \n",
       "12  гражданский брак                 1      M   пенсионер     0   \n",
       "13   женат / замужем                 0      F   сотрудник     0   \n",
       "14  гражданский брак                 1      F   компаньон     1   \n",
       "15   женат / замужем                 0      F   сотрудник     0   \n",
       "16   женат / замужем                 0      F   сотрудник     0   \n",
       "17  гражданский брак                 1      M   сотрудник     0   \n",
       "18    вдовец / вдова                 2      F   пенсионер     0   \n",
       "19         в разводе                 3      F   сотрудник     0   \n",
       "\n",
       "     total_income                                 purpose  \n",
       "0   253875.639453                           покупка жилья  \n",
       "1   112080.014102                 приобретение автомобиля  \n",
       "2   145885.952297                           покупка жилья  \n",
       "3   267628.550329              дополнительное образование  \n",
       "4   158616.077870                         сыграть свадьбу  \n",
       "5   255763.565419                           покупка жилья  \n",
       "6   240525.971920                       операции с жильем  \n",
       "7   135823.934197                             образование  \n",
       "8    95856.832424                   на проведение свадьбы  \n",
       "9   144425.938277                 покупка жилья для семьи  \n",
       "10  113943.491460                    покупка недвижимости  \n",
       "11   77069.234271       покупка коммерческой недвижимости  \n",
       "12            NaN                         сыграть свадьбу  \n",
       "13  130458.228857                 приобретение автомобиля  \n",
       "14  165127.911772              покупка жилой недвижимости  \n",
       "15  116820.904450  строительство собственной недвижимости  \n",
       "16  289202.704229                            недвижимость  \n",
       "17   90410.586745              строительство недвижимости  \n",
       "18   56823.777243      на покупку подержанного автомобиля  \n",
       "19  242831.107982            на покупку своего автомобиля  "
      ]
     },
     "execution_count": 2,
     "metadata": {},
     "output_type": "execute_result"
    }
   ],
   "source": [
    "data.head(20)"
   ]
  },
  {
   "cell_type": "markdown",
   "id": "49e6b5e3",
   "metadata": {
    "deletable": false,
    "editable": false,
    "id": "1c12e233"
   },
   "source": [
    "**Задание 3. Выведите основную информацию о датафрейме с помощью метода `info()`.**"
   ]
  },
  {
   "cell_type": "code",
   "execution_count": 3,
   "id": "cbd6e8de",
   "metadata": {
    "deletable": false,
    "id": "2b757bca",
    "outputId": "15376089-8dad-46c9-b520-c05248d43158"
   },
   "outputs": [
    {
     "name": "stdout",
     "output_type": "stream",
     "text": [
      "<class 'pandas.core.frame.DataFrame'>\n",
      "RangeIndex: 21525 entries, 0 to 21524\n",
      "Data columns (total 12 columns):\n",
      " #   Column            Non-Null Count  Dtype  \n",
      "---  ------            --------------  -----  \n",
      " 0   children          21525 non-null  int64  \n",
      " 1   days_employed     19351 non-null  float64\n",
      " 2   dob_years         21525 non-null  int64  \n",
      " 3   education         21525 non-null  object \n",
      " 4   education_id      21525 non-null  int64  \n",
      " 5   family_status     21525 non-null  object \n",
      " 6   family_status_id  21525 non-null  int64  \n",
      " 7   gender            21525 non-null  object \n",
      " 8   income_type       21525 non-null  object \n",
      " 9   debt              21525 non-null  int64  \n",
      " 10  total_income      19351 non-null  float64\n",
      " 11  purpose           21525 non-null  object \n",
      "dtypes: float64(2), int64(5), object(5)\n",
      "memory usage: 2.0+ MB\n"
     ]
    }
   ],
   "source": [
    "data.info()"
   ]
  },
  {
   "cell_type": "markdown",
   "id": "93171e87",
   "metadata": {
    "deletable": false,
    "editable": false,
    "id": "333ec665"
   },
   "source": [
    "## Предобработка данных"
   ]
  },
  {
   "cell_type": "markdown",
   "id": "944afbe1",
   "metadata": {
    "deletable": false,
    "editable": false,
    "id": "02d92d53"
   },
   "source": [
    "### Удаление пропусков"
   ]
  },
  {
   "cell_type": "markdown",
   "id": "bba40ab8",
   "metadata": {
    "deletable": false,
    "editable": false,
    "id": "cd84967c"
   },
   "source": [
    "**Задание 4. Выведите количество пропущенных значений для каждого столбца. Используйте комбинацию двух методов.**"
   ]
  },
  {
   "cell_type": "code",
   "execution_count": 4,
   "id": "b3f20d21",
   "metadata": {
    "deletable": false,
    "id": "7f9b2309",
    "outputId": "81f4d817-781c-465c-ed15-91ce4446810d"
   },
   "outputs": [
    {
     "data": {
      "text/plain": [
       "children               0\n",
       "days_employed       2174\n",
       "dob_years              0\n",
       "education              0\n",
       "education_id           0\n",
       "family_status          0\n",
       "family_status_id       0\n",
       "gender                 0\n",
       "income_type            0\n",
       "debt                   0\n",
       "total_income        2174\n",
       "purpose                0\n",
       "dtype: int64"
      ]
     },
     "execution_count": 4,
     "metadata": {},
     "output_type": "execute_result"
    }
   ],
   "source": [
    "data.isna().sum()"
   ]
  },
  {
   "cell_type": "markdown",
   "id": "467b1584",
   "metadata": {
    "deletable": false,
    "editable": false,
    "id": "db86e27b"
   },
   "source": [
    "**Задание 5. В двух столбцах есть пропущенные значения. Один из них — `days_employed`. Пропуски в этом столбце вы обработаете на следующем этапе. Другой столбец с пропущенными значениями — `total_income` — хранит данные о доходах. На сумму дохода сильнее всего влияет тип занятости, поэтому заполнить пропуски в этом столбце нужно медианным значением по каждому типу из столбца `income_type`. Например, у человека с типом занятости `сотрудник` пропуск в столбце `total_income` должен быть заполнен медианным доходом среди всех записей с тем же типом.**"
   ]
  },
  {
   "cell_type": "code",
   "execution_count": 5,
   "id": "5a477a27",
   "metadata": {
    "deletable": false,
    "id": "42006a93"
   },
   "outputs": [],
   "source": [
    "for t in data['income_type'].unique():\n",
    "    data.loc[(data['income_type'] == t) & (data['total_income'].isna()), 'total_income'] = \\\n",
    "    data.loc[(data['income_type'] == t), 'total_income'].median()"
   ]
  },
  {
   "cell_type": "markdown",
   "id": "3cf578ee",
   "metadata": {
    "deletable": false,
    "editable": false,
    "id": "89da5ece"
   },
   "source": [
    "### Обработка аномальных значений"
   ]
  },
  {
   "cell_type": "markdown",
   "id": "c0b6b569",
   "metadata": {
    "deletable": false,
    "editable": false,
    "id": "57964554"
   },
   "source": [
    "**Задание 6. В данных могут встречаться артефакты (аномалии) — значения, которые не отражают действительность и появились по какой-то ошибке. таким артефактом будет отрицательное количество дней трудового стажа в столбце `days_employed`. Для реальных данных это нормально. Обработайте значения в этом столбце: замените все отрицательные значения положительными с помощью метода `abs()`.**"
   ]
  },
  {
   "cell_type": "code",
   "execution_count": 6,
   "id": "4fd7ac0f",
   "metadata": {
    "deletable": false,
    "id": "f6f055bf"
   },
   "outputs": [],
   "source": [
    "data['days_employed'] = data['days_employed'].abs()"
   ]
  },
  {
   "cell_type": "markdown",
   "id": "6fa51505",
   "metadata": {
    "deletable": false,
    "editable": false,
    "id": "6107dd2f"
   },
   "source": [
    "**Задание 7. Для каждого типа занятости выведите медианное значение трудового стажа `days_employed` в днях.**"
   ]
  },
  {
   "cell_type": "code",
   "execution_count": 7,
   "id": "4e1e1e1b",
   "metadata": {
    "deletable": false,
    "id": "85a5faf6",
    "outputId": "801ef80e-522b-4668-f34e-565af7432bcf"
   },
   "outputs": [
    {
     "data": {
      "text/plain": [
       "income_type\n",
       "безработный        366413.652744\n",
       "в декрете            3296.759962\n",
       "госслужащий          2689.368353\n",
       "компаньон            1547.382223\n",
       "пенсионер          365213.306266\n",
       "предприниматель       520.848083\n",
       "сотрудник            1574.202821\n",
       "студент               578.751554\n",
       "Name: days_employed, dtype: float64"
      ]
     },
     "execution_count": 7,
     "metadata": {},
     "output_type": "execute_result"
    }
   ],
   "source": [
    "data.groupby('income_type')['days_employed'].agg('median')"
   ]
  },
  {
   "cell_type": "markdown",
   "id": "73cc2b22",
   "metadata": {
    "deletable": false,
    "editable": false,
    "id": "38d1a030"
   },
   "source": [
    "У двух типов (безработные и пенсионеры) получатся аномально большие значения. Исправить такие значения сложно, поэтому оставьте их как есть. Тем более этот столбец не понадобится вам для исследования."
   ]
  },
  {
   "cell_type": "markdown",
   "id": "671097c4",
   "metadata": {
    "deletable": false,
    "editable": false,
    "id": "d8a9f147"
   },
   "source": [
    "**Задание 8. Выведите перечень уникальных значений столбца `children`.**"
   ]
  },
  {
   "cell_type": "code",
   "execution_count": 8,
   "id": "6b9d8d41",
   "metadata": {
    "deletable": false,
    "id": "ef5056eb",
    "outputId": "6975b15c-7f95-4697-d16d-a0c79b657b03"
   },
   "outputs": [
    {
     "data": {
      "text/plain": [
       "array([ 1,  0,  3,  2, -1,  4, 20,  5])"
      ]
     },
     "execution_count": 8,
     "metadata": {},
     "output_type": "execute_result"
    }
   ],
   "source": [
    "data['children'].unique()"
   ]
  },
  {
   "cell_type": "markdown",
   "id": "998ecef0",
   "metadata": {
    "deletable": false,
    "editable": false,
    "id": "40b9ebf2"
   },
   "source": [
    "**Задание 9. В столбце `children` есть два аномальных значения. Удалите строки, в которых встречаются такие аномальные значения из датафрейма `data`.**"
   ]
  },
  {
   "cell_type": "code",
   "execution_count": 9,
   "id": "d4966b0e",
   "metadata": {
    "deletable": false,
    "id": "3ff9801d"
   },
   "outputs": [],
   "source": [
    "data = data[(data['children'] != -1) & (data['children'] != 20)]"
   ]
  },
  {
   "cell_type": "markdown",
   "id": "0a14d8ca",
   "metadata": {
    "deletable": false,
    "editable": false,
    "id": "bbc4d0ce"
   },
   "source": [
    "**Задание 10. Ещё раз выведите перечень уникальных значений столбца `children`, чтобы убедиться, что артефакты удалены.**"
   ]
  },
  {
   "cell_type": "code",
   "execution_count": 10,
   "id": "6ebbae5c",
   "metadata": {
    "deletable": false,
    "id": "ad4fa8b7",
    "outputId": "b2097101-d49d-44d9-901b-32a65c9463d1"
   },
   "outputs": [
    {
     "data": {
      "text/plain": [
       "array([1, 0, 3, 2, 4, 5])"
      ]
     },
     "execution_count": 10,
     "metadata": {},
     "output_type": "execute_result"
    }
   ],
   "source": [
    "data['children'].unique()"
   ]
  },
  {
   "cell_type": "markdown",
   "id": "3e95a6b6",
   "metadata": {
    "deletable": false,
    "editable": false,
    "id": "75440b63"
   },
   "source": [
    "### Удаление пропусков (продолжение)"
   ]
  },
  {
   "cell_type": "markdown",
   "id": "ce5a743f",
   "metadata": {
    "deletable": false,
    "editable": false,
    "id": "f4ea573f"
   },
   "source": [
    "**Задание 11. Заполните пропуски в столбце `days_employed` медианными значениями по каждого типа занятости `income_type`.**"
   ]
  },
  {
   "cell_type": "code",
   "execution_count": 11,
   "id": "34595cb6",
   "metadata": {
    "deletable": false,
    "id": "af6b1a7e"
   },
   "outputs": [],
   "source": [
    "for t in data['income_type'].unique():\n",
    "    data.loc[(data['income_type'] == t) & (data['days_employed'].isna()), 'days_employed'] = \\\n",
    "    data.loc[(data['income_type'] == t), 'days_employed'].median()"
   ]
  },
  {
   "cell_type": "markdown",
   "id": "ac3e3659",
   "metadata": {
    "deletable": false,
    "editable": false,
    "id": "2753f40d"
   },
   "source": [
    "**Задание 12. Убедитесь, что все пропуски заполнены. Проверьте себя и ещё раз выведите количество пропущенных значений для каждого столбца с помощью двух методов.**"
   ]
  },
  {
   "cell_type": "code",
   "execution_count": 12,
   "id": "a52f171b",
   "metadata": {
    "deletable": false,
    "id": "55f78bc2",
    "outputId": "8da1e4e1-358e-4e87-98c9-f261bce0a7b2"
   },
   "outputs": [
    {
     "data": {
      "text/plain": [
       "children            0\n",
       "days_employed       0\n",
       "dob_years           0\n",
       "education           0\n",
       "education_id        0\n",
       "family_status       0\n",
       "family_status_id    0\n",
       "gender              0\n",
       "income_type         0\n",
       "debt                0\n",
       "total_income        0\n",
       "purpose             0\n",
       "dtype: int64"
      ]
     },
     "execution_count": 12,
     "metadata": {},
     "output_type": "execute_result"
    }
   ],
   "source": [
    "data.isna().sum()"
   ]
  },
  {
   "cell_type": "markdown",
   "id": "3a6cf1c9",
   "metadata": {
    "deletable": false,
    "editable": false,
    "id": "ddc81e43"
   },
   "source": [
    "### Изменение типов данных"
   ]
  },
  {
   "cell_type": "markdown",
   "id": "98186519",
   "metadata": {
    "deletable": false,
    "editable": false,
    "id": "42d19d24"
   },
   "source": [
    "**Задание 13. Замените вещественный тип данных в столбце `total_income` на целочисленный с помощью метода `astype()`.**"
   ]
  },
  {
   "cell_type": "code",
   "execution_count": 13,
   "id": "85b54f45",
   "metadata": {
    "deletable": false,
    "id": "920b65ad"
   },
   "outputs": [],
   "source": [
    "data['total_income'] = data['total_income'].astype(int)"
   ]
  },
  {
   "cell_type": "markdown",
   "id": "75b77bde",
   "metadata": {
    "deletable": false,
    "editable": false,
    "id": "80c420ba"
   },
   "source": [
    "### Обработка дубликатов"
   ]
  },
  {
   "cell_type": "markdown",
   "id": "2b7be478",
   "metadata": {
    "deletable": false,
    "editable": false
   },
   "source": [
    "**Задание 14. Обработайте неявные дубликаты в столбце `education`. В этом столбце есть одни и те же значения, но записанные по-разному: с использованием заглавных и строчных букв. Приведите их к нижнему регистру. Проверьте остальные столбцы.**"
   ]
  },
  {
   "cell_type": "code",
   "execution_count": 14,
   "id": "5689280f",
   "metadata": {
    "deletable": false
   },
   "outputs": [],
   "source": [
    "data['education'] = data['education'].str.lower()"
   ]
  },
  {
   "cell_type": "markdown",
   "id": "59bc31ea",
   "metadata": {
    "deletable": false,
    "editable": false,
    "id": "dc587695"
   },
   "source": [
    "**Задание 15. Выведите на экран количество строк-дубликатов в данных. Если такие строки присутствуют, удалите их.**"
   ]
  },
  {
   "cell_type": "code",
   "execution_count": 15,
   "id": "16c686dd",
   "metadata": {
    "deletable": false,
    "id": "3ee445e4",
    "outputId": "9684deba-1934-42d1-99e1-cda61740f822"
   },
   "outputs": [
    {
     "data": {
      "text/plain": [
       "71"
      ]
     },
     "execution_count": 15,
     "metadata": {},
     "output_type": "execute_result"
    }
   ],
   "source": [
    "data.duplicated().sum()"
   ]
  },
  {
   "cell_type": "code",
   "execution_count": 16,
   "id": "9e595067",
   "metadata": {
    "deletable": false,
    "id": "8575fe05"
   },
   "outputs": [],
   "source": [
    "data = data.drop_duplicates()"
   ]
  },
  {
   "cell_type": "markdown",
   "id": "3910ee49",
   "metadata": {
    "deletable": false,
    "editable": false,
    "id": "9904cf55"
   },
   "source": [
    "### Категоризация данных"
   ]
  },
  {
   "cell_type": "markdown",
   "id": "efaf9042",
   "metadata": {
    "deletable": false,
    "editable": false,
    "id": "72fcc8a2"
   },
   "source": [
    "**Задание 16. На основании диапазонов, указанных ниже, создайте в датафрейме `data` столбец `total_income_category` с категориями:**\n",
    "\n",
    "- 0–30000 — `'E'`;\n",
    "- 30001–50000 — `'D'`;\n",
    "- 50001–200000 — `'C'`;\n",
    "- 200001–1000000 — `'B'`;\n",
    "- 1000001 и выше — `'A'`.\n",
    "\n",
    "\n",
    "**Например, кредитополучателю с доходом 25000 нужно назначить категорию `'E'`, а клиенту, получающему 235000, — `'B'`. Используйте собственную функцию с именем `categorize_income()` и метод `apply()`.**"
   ]
  },
  {
   "cell_type": "code",
   "execution_count": 17,
   "id": "96d7028f",
   "metadata": {
    "deletable": false,
    "id": "e1771346"
   },
   "outputs": [],
   "source": [
    "def categorize_income(income):\n",
    "    try:\n",
    "        if 0 <= income <= 30000:\n",
    "            return 'E'\n",
    "        elif 30001 <= income <= 50000:\n",
    "            return 'D'\n",
    "        elif 50001 <= income <= 200000:\n",
    "            return 'C'\n",
    "        elif 200001 <= income <= 1000000:\n",
    "            return 'B'\n",
    "        elif income >= 1000001:\n",
    "            return 'A'\n",
    "    except:\n",
    "        pass"
   ]
  },
  {
   "cell_type": "code",
   "execution_count": 18,
   "id": "60d44ca1",
   "metadata": {
    "deletable": false,
    "id": "d5f3586d"
   },
   "outputs": [],
   "source": [
    "data['total_income_category'] = data['total_income'].apply(categorize_income)"
   ]
  },
  {
   "cell_type": "markdown",
   "id": "048b7cf6",
   "metadata": {
    "deletable": false,
    "editable": false,
    "id": "dde49b5c"
   },
   "source": [
    "**Задание 17. Выведите на экран перечень уникальных целей взятия кредита из столбца `purpose`.**"
   ]
  },
  {
   "cell_type": "code",
   "execution_count": 19,
   "id": "c3bbd46c",
   "metadata": {
    "deletable": false,
    "id": "f67ce9b3",
    "outputId": "673c12d9-7d7e-4ae0-9812-c622c89dd244"
   },
   "outputs": [
    {
     "data": {
      "text/plain": [
       "array(['покупка жилья', 'приобретение автомобиля',\n",
       "       'дополнительное образование', 'сыграть свадьбу',\n",
       "       'операции с жильем', 'образование', 'на проведение свадьбы',\n",
       "       'покупка жилья для семьи', 'покупка недвижимости',\n",
       "       'покупка коммерческой недвижимости', 'покупка жилой недвижимости',\n",
       "       'строительство собственной недвижимости', 'недвижимость',\n",
       "       'строительство недвижимости', 'на покупку подержанного автомобиля',\n",
       "       'на покупку своего автомобиля',\n",
       "       'операции с коммерческой недвижимостью',\n",
       "       'строительство жилой недвижимости', 'жилье',\n",
       "       'операции со своей недвижимостью', 'автомобили',\n",
       "       'заняться образованием', 'сделка с подержанным автомобилем',\n",
       "       'получение образования', 'автомобиль', 'свадьба',\n",
       "       'получение дополнительного образования', 'покупка своего жилья',\n",
       "       'операции с недвижимостью', 'получение высшего образования',\n",
       "       'свой автомобиль', 'сделка с автомобилем',\n",
       "       'профильное образование', 'высшее образование',\n",
       "       'покупка жилья для сдачи', 'на покупку автомобиля', 'ремонт жилью',\n",
       "       'заняться высшим образованием'], dtype=object)"
      ]
     },
     "execution_count": 19,
     "metadata": {},
     "output_type": "execute_result"
    }
   ],
   "source": [
    "data['purpose'].unique()"
   ]
  },
  {
   "cell_type": "markdown",
   "id": "cc0789f2",
   "metadata": {
    "deletable": false,
    "editable": false,
    "id": "85d0aef0"
   },
   "source": [
    "**Задание 18. Создайте функцию, которая на основании данных из столбца `purpose` сформирует новый столбец `purpose_category`, в который войдут следующие категории:**\n",
    "\n",
    "- `'операции с автомобилем'`,\n",
    "- `'операции с недвижимостью'`,\n",
    "- `'проведение свадьбы'`,\n",
    "- `'получение образования'`.\n",
    "\n",
    "**Например, если в столбце `purpose` находится подстрока `'на покупку автомобиля'`, то в столбце `purpose_category` должна появиться строка `'операции с автомобилем'`.**\n",
    "\n",
    "**Используйте собственную функцию с именем `categorize_purpose()` и метод `apply()`. Изучите данные в столбце `purpose` и определите, какие подстроки помогут вам правильно определить категорию.**"
   ]
  },
  {
   "cell_type": "code",
   "execution_count": 20,
   "id": "d2f5d770",
   "metadata": {
    "deletable": false,
    "id": "e149fab4"
   },
   "outputs": [],
   "source": [
    "def categorize_purpose(row):\n",
    "    try:\n",
    "        if 'автом' in row:\n",
    "            return 'операции с автомобилем'\n",
    "        elif 'жил' in row or 'недвиж' in row:\n",
    "            return 'операции с недвижимостью'\n",
    "        elif 'свад' in row:\n",
    "            return 'проведение свадьбы'\n",
    "        elif 'образов' in row:\n",
    "            return 'получение образования'\n",
    "    except:\n",
    "        return 'нет категории'"
   ]
  },
  {
   "cell_type": "code",
   "execution_count": 21,
   "id": "942b8a0a",
   "metadata": {
    "deletable": false,
    "id": "bf36e69b"
   },
   "outputs": [],
   "source": [
    "data['purpose_category'] = data['purpose'].apply(categorize_purpose)\n"
   ]
  },
  {
   "cell_type": "markdown",
   "id": "d66d01e5",
   "metadata": {
    "deletable": false,
    "editable": false,
    "id": "09b242bf"
   },
   "source": [
    "### Шаг 3. Исследуйте данные и ответьте на вопросы"
   ]
  },
  {
   "cell_type": "markdown",
   "id": "f5fa3336",
   "metadata": {
    "deletable": false,
    "editable": false,
    "id": "c5d66278"
   },
   "source": [
    "#### 3.1 Есть ли зависимость между количеством детей и возвратом кредита в срок?"
   ]
  },
  {
   "cell_type": "code",
   "execution_count": 22,
   "id": "2ddcd13d",
   "metadata": {
    "deletable": false,
    "id": "2cacfc4a"
   },
   "outputs": [
    {
     "data": {
      "text/html": [
       "<div>\n",
       "<style scoped>\n",
       "    .dataframe tbody tr th:only-of-type {\n",
       "        vertical-align: middle;\n",
       "    }\n",
       "\n",
       "    .dataframe tbody tr th {\n",
       "        vertical-align: top;\n",
       "    }\n",
       "\n",
       "    .dataframe thead th {\n",
       "        text-align: right;\n",
       "    }\n",
       "</style>\n",
       "<table border=\"1\" class=\"dataframe\">\n",
       "  <thead>\n",
       "    <tr style=\"text-align: right;\">\n",
       "      <th>debt</th>\n",
       "      <th>children</th>\n",
       "      <th>0</th>\n",
       "      <th>1</th>\n",
       "      <th>percent</th>\n",
       "    </tr>\n",
       "  </thead>\n",
       "  <tbody>\n",
       "    <tr>\n",
       "      <th>5</th>\n",
       "      <td>5</td>\n",
       "      <td>9</td>\n",
       "      <td>0</td>\n",
       "      <td>0.000000</td>\n",
       "    </tr>\n",
       "    <tr>\n",
       "      <th>0</th>\n",
       "      <td>0</td>\n",
       "      <td>13028</td>\n",
       "      <td>1063</td>\n",
       "      <td>7.543822</td>\n",
       "    </tr>\n",
       "    <tr>\n",
       "      <th>3</th>\n",
       "      <td>3</td>\n",
       "      <td>303</td>\n",
       "      <td>27</td>\n",
       "      <td>8.181818</td>\n",
       "    </tr>\n",
       "    <tr>\n",
       "      <th>1</th>\n",
       "      <td>1</td>\n",
       "      <td>4364</td>\n",
       "      <td>444</td>\n",
       "      <td>9.234609</td>\n",
       "    </tr>\n",
       "    <tr>\n",
       "      <th>2</th>\n",
       "      <td>2</td>\n",
       "      <td>1858</td>\n",
       "      <td>194</td>\n",
       "      <td>9.454191</td>\n",
       "    </tr>\n",
       "    <tr>\n",
       "      <th>4</th>\n",
       "      <td>4</td>\n",
       "      <td>37</td>\n",
       "      <td>4</td>\n",
       "      <td>9.756098</td>\n",
       "    </tr>\n",
       "  </tbody>\n",
       "</table>\n",
       "</div>"
      ],
      "text/plain": [
       "debt  children      0     1   percent\n",
       "5            5      9     0  0.000000\n",
       "0            0  13028  1063  7.543822\n",
       "3            3    303    27  8.181818\n",
       "1            1   4364   444  9.234609\n",
       "2            2   1858   194  9.454191\n",
       "4            4     37     4  9.756098"
      ]
     },
     "execution_count": 22,
     "metadata": {},
     "output_type": "execute_result"
    }
   ],
   "source": [
    "# В Pandas есть функция DataFrame.pivot_table(), которая позволяет быстро преобразовать DataFrame в сводную таблицу.\n",
    "# В данном случае грех не воспользоваться этой функцией\n",
    "# значения возьмем из созданного нами столбца purpose_category\n",
    "\n",
    "children_percent = data.pivot_table(index=['children'], columns='debt', values='purpose_category', aggfunc='count')\n",
    "# pivot_table - это клад \n",
    "children_percent = children_percent.fillna(0) #замена нулевого значения позволяет нам заменить значения NaN новым значением,\n",
    "#которое мы предоставим для заполнения\n",
    "\n",
    "children_percent = children_percent.reset_index()    # сбросим индексы в сводной таблице\n",
    "children_percent['percent'] = (children_percent[1] / (children_percent[1] + children_percent[0])) * 100\n",
    "children_percent[1] = children_percent[1].astype('int')    #переводим в цельночисленный формат \n",
    "children_percent[0] = children_percent[0].astype('int')\n",
    "children_percent.sort_values('percent')\n"
   ]
  },
  {
   "cell_type": "markdown",
   "id": "aabd71f7",
   "metadata": {
    "deletable": false,
    "id": "3a6b99ec"
   },
   "source": [
    "**Вывод:** Наша таблица показывает рост процента просроченной задолженности в зависимости от количества детей. Процент считали от общего количества заёмщиков в каждой категории. \n",
    "Самыми ответственными заемщиками оказались те, у кого пятеро детей. На мой взгляд, будь выборка больше, цифра была бы другой. \n",
    "Наименьший процент просроченной задолженности у бездетных(7.54%), в других группах результат больше на 1-2%."
   ]
  },
  {
   "cell_type": "markdown",
   "id": "8dc79aba",
   "metadata": {
    "deletable": false,
    "editable": false,
    "id": "97be82ca"
   },
   "source": [
    "#### 3.2 Есть ли зависимость между семейным положением и возвратом кредита в срок?"
   ]
  },
  {
   "cell_type": "code",
   "execution_count": 23,
   "id": "a5ea14b8",
   "metadata": {
    "deletable": false,
    "id": "dc3f7ee8"
   },
   "outputs": [
    {
     "data": {
      "text/html": [
       "<div>\n",
       "<style scoped>\n",
       "    .dataframe tbody tr th:only-of-type {\n",
       "        vertical-align: middle;\n",
       "    }\n",
       "\n",
       "    .dataframe tbody tr th {\n",
       "        vertical-align: top;\n",
       "    }\n",
       "\n",
       "    .dataframe thead th {\n",
       "        text-align: right;\n",
       "    }\n",
       "</style>\n",
       "<table border=\"1\" class=\"dataframe\">\n",
       "  <thead>\n",
       "    <tr style=\"text-align: right;\">\n",
       "      <th>debt</th>\n",
       "      <th>0</th>\n",
       "      <th>1</th>\n",
       "      <th>percent</th>\n",
       "    </tr>\n",
       "    <tr>\n",
       "      <th>family_status</th>\n",
       "      <th></th>\n",
       "      <th></th>\n",
       "      <th></th>\n",
       "    </tr>\n",
       "  </thead>\n",
       "  <tbody>\n",
       "    <tr>\n",
       "      <th>вдовец / вдова</th>\n",
       "      <td>888</td>\n",
       "      <td>63</td>\n",
       "      <td>7.094595</td>\n",
       "    </tr>\n",
       "    <tr>\n",
       "      <th>в разводе</th>\n",
       "      <td>1105</td>\n",
       "      <td>84</td>\n",
       "      <td>7.601810</td>\n",
       "    </tr>\n",
       "    <tr>\n",
       "      <th>женат / замужем</th>\n",
       "      <td>11334</td>\n",
       "      <td>927</td>\n",
       "      <td>8.178931</td>\n",
       "    </tr>\n",
       "    <tr>\n",
       "      <th>гражданский брак</th>\n",
       "      <td>3749</td>\n",
       "      <td>385</td>\n",
       "      <td>10.269405</td>\n",
       "    </tr>\n",
       "    <tr>\n",
       "      <th>Не женат / не замужем</th>\n",
       "      <td>2523</td>\n",
       "      <td>273</td>\n",
       "      <td>10.820452</td>\n",
       "    </tr>\n",
       "  </tbody>\n",
       "</table>\n",
       "</div>"
      ],
      "text/plain": [
       "debt                       0    1    percent\n",
       "family_status                               \n",
       "вдовец / вдова           888   63   7.094595\n",
       "в разводе               1105   84   7.601810\n",
       "женат / замужем        11334  927   8.178931\n",
       "гражданский брак        3749  385  10.269405\n",
       "Не женат / не замужем   2523  273  10.820452"
      ]
     },
     "execution_count": 23,
     "metadata": {},
     "output_type": "execute_result"
    }
   ],
   "source": [
    "# формируем сводную таблицу и добавляем дополнительный столбец с % случаев просрочки относительно всех заёмщиков\n",
    "family_status_percent = data.pivot_table(index=['family_status'], columns=['debt'], values='purpose_category', aggfunc='count')\n",
    "# значения возьмем из созданного нами столбца purpose_category\n",
    "family_status_percent['percent'] = family_status_percent[1] / family_status_percent[0] * 100\n",
    "family_status_percent.sort_values('percent') # сортируем строки по столбцу 'percent' в порядке возрастания\n"
   ]
  },
  {
   "cell_type": "markdown",
   "id": "5e69b564",
   "metadata": {
    "deletable": false,
    "id": "1cef7837"
   },
   "source": [
    "**Вывод:** Более ответственными заёмщиками являются те люди, кто имел опыт официальных семейных отношений. Причем совсем не важно, существуют ли эти отношения по сей день, речь идет о самом опыте (возможно он формирует более ответственную личность?). Показатели заемщиков, которые не имели опыта семейных отношений - выше на 2-3%."
   ]
  },
  {
   "cell_type": "markdown",
   "id": "d67be34e",
   "metadata": {
    "deletable": false,
    "editable": false,
    "id": "1e8b2fca"
   },
   "source": [
    "#### 3.3 Есть ли зависимость между уровнем дохода и возвратом кредита в срок?"
   ]
  },
  {
   "cell_type": "code",
   "execution_count": 24,
   "id": "7d18af2a",
   "metadata": {
    "deletable": false,
    "id": "cd7e3720"
   },
   "outputs": [
    {
     "data": {
      "text/html": [
       "<div>\n",
       "<style scoped>\n",
       "    .dataframe tbody tr th:only-of-type {\n",
       "        vertical-align: middle;\n",
       "    }\n",
       "\n",
       "    .dataframe tbody tr th {\n",
       "        vertical-align: top;\n",
       "    }\n",
       "\n",
       "    .dataframe thead th {\n",
       "        text-align: right;\n",
       "    }\n",
       "</style>\n",
       "<table border=\"1\" class=\"dataframe\">\n",
       "  <thead>\n",
       "    <tr style=\"text-align: right;\">\n",
       "      <th>debt</th>\n",
       "      <th>total_income_category</th>\n",
       "      <th>0</th>\n",
       "      <th>1</th>\n",
       "      <th>percent</th>\n",
       "    </tr>\n",
       "  </thead>\n",
       "  <tbody>\n",
       "    <tr>\n",
       "      <th>3</th>\n",
       "      <td>D</td>\n",
       "      <td>328</td>\n",
       "      <td>21</td>\n",
       "      <td>6.017192</td>\n",
       "    </tr>\n",
       "    <tr>\n",
       "      <th>1</th>\n",
       "      <td>B</td>\n",
       "      <td>4660</td>\n",
       "      <td>354</td>\n",
       "      <td>7.060231</td>\n",
       "    </tr>\n",
       "    <tr>\n",
       "      <th>0</th>\n",
       "      <td>A</td>\n",
       "      <td>23</td>\n",
       "      <td>2</td>\n",
       "      <td>8.000000</td>\n",
       "    </tr>\n",
       "    <tr>\n",
       "      <th>2</th>\n",
       "      <td>C</td>\n",
       "      <td>14568</td>\n",
       "      <td>1353</td>\n",
       "      <td>8.498210</td>\n",
       "    </tr>\n",
       "    <tr>\n",
       "      <th>4</th>\n",
       "      <td>E</td>\n",
       "      <td>20</td>\n",
       "      <td>2</td>\n",
       "      <td>9.090909</td>\n",
       "    </tr>\n",
       "  </tbody>\n",
       "</table>\n",
       "</div>"
      ],
      "text/plain": [
       "debt total_income_category      0     1   percent\n",
       "3                        D    328    21  6.017192\n",
       "1                        B   4660   354  7.060231\n",
       "0                        A     23     2  8.000000\n",
       "2                        C  14568  1353  8.498210\n",
       "4                        E     20     2  9.090909"
      ]
     },
     "execution_count": 24,
     "metadata": {},
     "output_type": "execute_result"
    }
   ],
   "source": [
    "# сформируем сводную таблицу и добавим дополнительный столбец с % случаев просрочки относительно \n",
    "# всех заёмщиков в данной категории, исходный DataFrame - столбец total_income_category\n",
    "income_data_percent = data.pivot_table(index=['total_income_category'], columns='debt', values='gender', aggfunc='count')\n",
    "income_data_percent['percent'] = (income_data_percent[1] / (income_data_percent[1] + income_data_percent[0])) *100\n",
    "income_data_percent = income_data_percent.reset_index() # сбросим индексы в сводной таблице\n",
    "income_data_percent.sort_values('percent') # красиво сортируем методом sort_values"
   ]
  },
  {
   "cell_type": "markdown",
   "id": "3714e313",
   "metadata": {
    "deletable": false,
    "id": "e8593def"
   },
   "source": [
    "**Вывод:** \n",
    "Категории:\n",
    "30001–50000 — 'D' стремятся самыми первыми погасить задолженность, самый низкий процент просрочки. \n",
    "Далее следуют заемщики со средним доходом 200001–1000000 — 'B',\n",
    "доходом выше среднего 1000001 выше — 'A' и 50001–200000 — 'C'.\n",
    "Самыми неисполнительными заёмщиками являются лица с самым низким уровнем дохода 0–30000 — 'E'. \n"
   ]
  },
  {
   "cell_type": "markdown",
   "id": "89777fe4",
   "metadata": {
    "deletable": false,
    "editable": false,
    "id": "99ecbd1f"
   },
   "source": [
    "#### 3.4 Как разные цели кредита влияют на его возврат в срок?"
   ]
  },
  {
   "cell_type": "code",
   "execution_count": 25,
   "id": "e4e13751",
   "metadata": {
    "deletable": false,
    "id": "2b687290"
   },
   "outputs": [
    {
     "data": {
      "text/html": [
       "<div>\n",
       "<style scoped>\n",
       "    .dataframe tbody tr th:only-of-type {\n",
       "        vertical-align: middle;\n",
       "    }\n",
       "\n",
       "    .dataframe tbody tr th {\n",
       "        vertical-align: top;\n",
       "    }\n",
       "\n",
       "    .dataframe thead th {\n",
       "        text-align: right;\n",
       "    }\n",
       "</style>\n",
       "<table border=\"1\" class=\"dataframe\">\n",
       "  <thead>\n",
       "    <tr style=\"text-align: right;\">\n",
       "      <th>debt</th>\n",
       "      <th>purpose_category</th>\n",
       "      <th>0</th>\n",
       "      <th>1</th>\n",
       "      <th>percent</th>\n",
       "    </tr>\n",
       "  </thead>\n",
       "  <tbody>\n",
       "    <tr>\n",
       "      <th>1</th>\n",
       "      <td>операции с недвижимостью</td>\n",
       "      <td>9971</td>\n",
       "      <td>780</td>\n",
       "      <td>7.255139</td>\n",
       "    </tr>\n",
       "    <tr>\n",
       "      <th>3</th>\n",
       "      <td>проведение свадьбы</td>\n",
       "      <td>2130</td>\n",
       "      <td>183</td>\n",
       "      <td>7.911803</td>\n",
       "    </tr>\n",
       "    <tr>\n",
       "      <th>2</th>\n",
       "      <td>получение образования</td>\n",
       "      <td>3619</td>\n",
       "      <td>369</td>\n",
       "      <td>9.252758</td>\n",
       "    </tr>\n",
       "    <tr>\n",
       "      <th>0</th>\n",
       "      <td>операции с автомобилем</td>\n",
       "      <td>3879</td>\n",
       "      <td>400</td>\n",
       "      <td>9.347978</td>\n",
       "    </tr>\n",
       "  </tbody>\n",
       "</table>\n",
       "</div>"
      ],
      "text/plain": [
       "debt          purpose_category     0    1   percent\n",
       "1     операции с недвижимостью  9971  780  7.255139\n",
       "3           проведение свадьбы  2130  183  7.911803\n",
       "2        получение образования  3619  369  9.252758\n",
       "0       операции с автомобилем  3879  400  9.347978"
      ]
     },
     "execution_count": 25,
     "metadata": {},
     "output_type": "execute_result"
    }
   ],
   "source": [
    "# преобразуем  DataFrame в сводную таблицу\n",
    "purpose_data_pivot = data.pivot_table(index=['purpose_category'], columns='debt', values='gender', aggfunc='count')\n",
    "# исходный DataFrame - purpose_category, значения логично агрегировать из столбца 'gender'\n",
    "purpose_data_pivot['percent'] = (purpose_data_pivot[1] / (purpose_data_pivot[1] + purpose_data_pivot[0])) *100\n",
    "purpose_data_pivot = purpose_data_pivot.reset_index()    # сбросим мультииндексы в сводной таблице\n",
    "purpose_data_pivot.sort_values('percent')"
   ]
  },
  {
   "cell_type": "markdown",
   "id": "35407d8b",
   "metadata": {
    "deletable": false,
    "id": "b4bb2ce6"
   },
   "source": [
    "**Вывод:** Операции с автомобилем, с точки зрения возврата, являются самой проблемной целью кредита.\n",
    "Кредиты на операции с недвижимостью и на проведение свадьбы берут самые надежные заемщики."
   ]
  },
  {
   "cell_type": "markdown",
   "id": "bef782e0",
   "metadata": {
    "deletable": false,
    "editable": false,
    "id": "09c3ac4c"
   },
   "source": [
    "#### 3.5 Приведите возможные причины появления пропусков в исходных данных."
   ]
  },
  {
   "cell_type": "markdown",
   "id": "a52cfc44",
   "metadata": {
    "deletable": false,
    "id": "9da2ceda"
   },
   "source": [
    "*Ответ:* Например, пользователь не указал о себе какие-нибудь сведения или автоматизированная система сбора информации дала сбой. Иногда пропуски оставляют умышленно, рассчитывая на автозаполнение спецсимволами, а иногда имеет место быть просто человеческий фактор."
   ]
  },
  {
   "cell_type": "markdown",
   "id": "509c7e8f",
   "metadata": {
    "deletable": false,
    "editable": false,
    "id": "7b0487d6"
   },
   "source": [
    "#### 3.6 Объясните, почему заполнить пропуски медианным значением — лучшее решение для количественных переменных."
   ]
  },
  {
   "cell_type": "markdown",
   "id": "9b230967",
   "metadata": {
    "deletable": false,
    "id": "7ecf2b8e"
   },
   "source": [
    "*Ответ:*  Если тех, чье значение огромное, столько же, сколько тех, чье значение ничтожно мало, — среднее подойдет. С точки зрения математики или геометрии это нормально. Но когда есть оторванные от основной массы значения, их результаты сильно смещают значение среднего вверх. Вот почему оценивать значения большой выборки лучше медианой.\n",
    "<p></p>\n",
    " Медиана делит выборку пополам: в одной половине значения меньше медианного, в другой — больше.  Логично, что для определения медианы список обязательно должен быть отсортирован — либо по возрастанию, либо по убыванию.\n",
    "<p></p>\n",
    " Когда количество значений нечётное, медиана будет равна тому значению, которое оказалось ровно посередине отсортированного набора. Если же количество данных чётное, то медиана рассчитывается как среднее арифметическое двух соседних чисел в середине набора.\n"
   ]
  },
  {
   "cell_type": "markdown",
   "id": "dbec11a8",
   "metadata": {
    "deletable": false,
    "editable": false,
    "id": "6db5255a"
   },
   "source": [
    "### Шаг 4: общий вывод."
   ]
  },
  {
   "cell_type": "markdown",
   "id": "394a3c64",
   "metadata": {
    "deletable": false,
    "id": "bad65432"
   },
   "source": [
    "Напишите ваш общий вывод."
   ]
  },
  {
   "cell_type": "markdown",
   "id": "d016339f",
   "metadata": {},
   "source": [
    "Бездетные заемщики, с доходом средним или выше среднего, которые берут кредит с целью улучшения жилищных условий или на другие операции с недвижимостью, наиболее надежная часть заёмщиков.\n",
    "Кредиторы, не состоящие в официальном браке, с двумя или более детьми, с средним и низким доходом, имеющие цель потратить заёмные средства на покупку автомобиля, наиболее склонны к нарушению договорных обязательств и погашению кредита в срок."
   ]
  },
  {
   "cell_type": "code",
   "execution_count": null,
   "id": "78493c7c",
   "metadata": {},
   "outputs": [],
   "source": []
  }
 ],
 "metadata": {
  "ExecuteTimeLog": [
   {
    "duration": 48,
    "start_time": "2023-02-10T10:43:11.853Z"
   },
   {
    "duration": 8,
    "start_time": "2023-02-10T10:44:18.734Z"
   },
   {
    "duration": 9,
    "start_time": "2023-02-10T10:44:44.570Z"
   },
   {
    "duration": 10,
    "start_time": "2023-02-10T10:44:51.929Z"
   },
   {
    "duration": 10,
    "start_time": "2023-02-10T10:54:44.205Z"
   },
   {
    "duration": 9,
    "start_time": "2023-02-10T10:54:54.451Z"
   },
   {
    "duration": 20,
    "start_time": "2023-02-10T10:57:30.191Z"
   },
   {
    "duration": 15,
    "start_time": "2023-02-10T11:01:22.228Z"
   },
   {
    "duration": 8,
    "start_time": "2023-02-10T11:10:40.164Z"
   },
   {
    "duration": 11,
    "start_time": "2023-02-10T11:10:45.074Z"
   },
   {
    "duration": 9,
    "start_time": "2023-02-10T11:18:14.586Z"
   },
   {
    "duration": 604,
    "start_time": "2023-02-10T11:18:28.283Z"
   },
   {
    "duration": 33,
    "start_time": "2023-02-10T11:18:28.888Z"
   },
   {
    "duration": 20,
    "start_time": "2023-02-10T11:18:28.923Z"
   },
   {
    "duration": 10,
    "start_time": "2023-02-10T11:18:28.945Z"
   },
   {
    "duration": 38,
    "start_time": "2023-02-10T11:18:28.957Z"
   },
   {
    "duration": 12,
    "start_time": "2023-02-10T11:18:28.997Z"
   },
   {
    "duration": 26,
    "start_time": "2023-02-10T11:18:29.014Z"
   },
   {
    "duration": 5,
    "start_time": "2023-02-10T11:18:29.042Z"
   },
   {
    "duration": 6,
    "start_time": "2023-02-10T11:18:29.049Z"
   },
   {
    "duration": 5,
    "start_time": "2023-02-10T11:18:29.059Z"
   },
   {
    "duration": 63,
    "start_time": "2023-02-10T11:18:29.065Z"
   },
   {
    "duration": 10,
    "start_time": "2023-02-10T11:18:29.130Z"
   },
   {
    "duration": 11,
    "start_time": "2023-02-10T11:18:29.142Z"
   },
   {
    "duration": 12,
    "start_time": "2023-02-10T11:18:29.155Z"
   },
   {
    "duration": 38,
    "start_time": "2023-02-10T11:18:29.169Z"
   },
   {
    "duration": 25,
    "start_time": "2023-02-10T11:18:29.216Z"
   },
   {
    "duration": 4,
    "start_time": "2023-02-10T11:18:29.244Z"
   },
   {
    "duration": 20,
    "start_time": "2023-02-10T11:18:29.250Z"
   },
   {
    "duration": 8,
    "start_time": "2023-02-10T11:18:29.272Z"
   },
   {
    "duration": 22,
    "start_time": "2023-02-10T11:18:29.282Z"
   },
   {
    "duration": 32,
    "start_time": "2023-02-10T11:18:29.305Z"
   },
   {
    "duration": 79,
    "start_time": "2023-02-10T11:18:29.338Z"
   },
   {
    "duration": 0,
    "start_time": "2023-02-10T11:18:29.418Z"
   },
   {
    "duration": 0,
    "start_time": "2023-02-10T11:18:29.419Z"
   },
   {
    "duration": 0,
    "start_time": "2023-02-10T11:18:29.420Z"
   },
   {
    "duration": 8,
    "start_time": "2023-02-10T11:19:17.877Z"
   },
   {
    "duration": 8,
    "start_time": "2023-02-10T11:35:38.718Z"
   },
   {
    "duration": 37,
    "start_time": "2023-02-10T11:36:43.772Z"
   },
   {
    "duration": 26,
    "start_time": "2023-02-10T11:39:19.783Z"
   },
   {
    "duration": 24,
    "start_time": "2023-02-10T11:39:31.669Z"
   },
   {
    "duration": 19,
    "start_time": "2023-02-10T11:51:56.606Z"
   },
   {
    "duration": 27,
    "start_time": "2023-02-10T11:52:16.110Z"
   },
   {
    "duration": 29,
    "start_time": "2023-02-10T11:52:47.185Z"
   },
   {
    "duration": 9,
    "start_time": "2023-02-10T11:53:03.018Z"
   },
   {
    "duration": 24,
    "start_time": "2023-02-10T11:53:20.777Z"
   },
   {
    "duration": 26,
    "start_time": "2023-02-10T11:57:32.009Z"
   },
   {
    "duration": 48,
    "start_time": "2023-02-10T14:51:43.540Z"
   },
   {
    "duration": 8,
    "start_time": "2023-02-10T14:51:56.564Z"
   },
   {
    "duration": 8,
    "start_time": "2023-02-10T14:52:14.360Z"
   },
   {
    "duration": 11,
    "start_time": "2023-02-10T14:55:58.482Z"
   },
   {
    "duration": 744,
    "start_time": "2023-02-10T14:56:11.075Z"
   },
   {
    "duration": 21,
    "start_time": "2023-02-10T14:56:11.821Z"
   },
   {
    "duration": 17,
    "start_time": "2023-02-10T14:56:11.844Z"
   },
   {
    "duration": 9,
    "start_time": "2023-02-10T14:56:11.863Z"
   },
   {
    "duration": 46,
    "start_time": "2023-02-10T14:56:11.873Z"
   },
   {
    "duration": 4,
    "start_time": "2023-02-10T14:56:11.920Z"
   },
   {
    "duration": 12,
    "start_time": "2023-02-10T14:56:11.926Z"
   },
   {
    "duration": 4,
    "start_time": "2023-02-10T14:56:11.939Z"
   },
   {
    "duration": 26,
    "start_time": "2023-02-10T14:56:11.945Z"
   },
   {
    "duration": 5,
    "start_time": "2023-02-10T14:56:11.975Z"
   },
   {
    "duration": 35,
    "start_time": "2023-02-10T14:56:11.981Z"
   },
   {
    "duration": 10,
    "start_time": "2023-02-10T14:56:12.017Z"
   },
   {
    "duration": 6,
    "start_time": "2023-02-10T14:56:12.028Z"
   },
   {
    "duration": 13,
    "start_time": "2023-02-10T14:56:12.067Z"
   },
   {
    "duration": 23,
    "start_time": "2023-02-10T14:56:12.081Z"
   },
   {
    "duration": 17,
    "start_time": "2023-02-10T14:56:12.106Z"
   },
   {
    "duration": 5,
    "start_time": "2023-02-10T14:56:12.124Z"
   },
   {
    "duration": 42,
    "start_time": "2023-02-10T14:56:12.131Z"
   },
   {
    "duration": 6,
    "start_time": "2023-02-10T14:56:12.174Z"
   },
   {
    "duration": 5,
    "start_time": "2023-02-10T14:56:12.181Z"
   },
   {
    "duration": 12,
    "start_time": "2023-02-10T14:56:12.188Z"
   },
   {
    "duration": 102,
    "start_time": "2023-02-10T14:56:12.201Z"
   },
   {
    "duration": 0,
    "start_time": "2023-02-10T14:56:12.305Z"
   },
   {
    "duration": 0,
    "start_time": "2023-02-10T14:56:12.306Z"
   },
   {
    "duration": 0,
    "start_time": "2023-02-10T14:56:12.307Z"
   },
   {
    "duration": 20,
    "start_time": "2023-02-10T14:56:15.863Z"
   },
   {
    "duration": 21,
    "start_time": "2023-02-10T14:57:21.426Z"
   },
   {
    "duration": 21,
    "start_time": "2023-02-10T14:58:02.468Z"
   },
   {
    "duration": 12,
    "start_time": "2023-02-10T15:24:11.971Z"
   },
   {
    "duration": 30,
    "start_time": "2023-02-10T15:25:12.107Z"
   },
   {
    "duration": 22,
    "start_time": "2023-02-10T15:25:32.468Z"
   },
   {
    "duration": 8,
    "start_time": "2023-02-10T16:27:57.700Z"
   },
   {
    "duration": 48,
    "start_time": "2023-02-12T08:11:07.934Z"
   },
   {
    "duration": 8,
    "start_time": "2023-02-12T08:12:52.175Z"
   },
   {
    "duration": 9,
    "start_time": "2023-02-12T08:14:11.626Z"
   },
   {
    "duration": 9,
    "start_time": "2023-02-12T08:14:26.400Z"
   },
   {
    "duration": 601,
    "start_time": "2023-02-12T08:14:38.987Z"
   },
   {
    "duration": 39,
    "start_time": "2023-02-12T08:14:39.590Z"
   },
   {
    "duration": 15,
    "start_time": "2023-02-12T08:14:39.631Z"
   },
   {
    "duration": 10,
    "start_time": "2023-02-12T08:14:39.649Z"
   },
   {
    "duration": 72,
    "start_time": "2023-02-12T08:14:39.661Z"
   },
   {
    "duration": 4,
    "start_time": "2023-02-12T08:14:39.736Z"
   },
   {
    "duration": 14,
    "start_time": "2023-02-12T08:14:39.743Z"
   },
   {
    "duration": 5,
    "start_time": "2023-02-12T08:14:39.759Z"
   },
   {
    "duration": 9,
    "start_time": "2023-02-12T08:14:39.766Z"
   },
   {
    "duration": 27,
    "start_time": "2023-02-12T08:14:39.803Z"
   },
   {
    "duration": 38,
    "start_time": "2023-02-12T08:14:39.833Z"
   },
   {
    "duration": 9,
    "start_time": "2023-02-12T08:14:39.873Z"
   },
   {
    "duration": 8,
    "start_time": "2023-02-12T08:14:39.884Z"
   },
   {
    "duration": 26,
    "start_time": "2023-02-12T08:14:39.894Z"
   },
   {
    "duration": 42,
    "start_time": "2023-02-12T08:14:39.922Z"
   },
   {
    "duration": 30,
    "start_time": "2023-02-12T08:14:39.967Z"
   },
   {
    "duration": 15,
    "start_time": "2023-02-12T08:14:40.003Z"
   },
   {
    "duration": 23,
    "start_time": "2023-02-12T08:14:40.023Z"
   },
   {
    "duration": 14,
    "start_time": "2023-02-12T08:14:40.047Z"
   },
   {
    "duration": 5,
    "start_time": "2023-02-12T08:14:40.063Z"
   },
   {
    "duration": 15,
    "start_time": "2023-02-12T08:14:40.069Z"
   },
   {
    "duration": 33,
    "start_time": "2023-02-12T08:14:40.086Z"
   },
   {
    "duration": 88,
    "start_time": "2023-02-12T08:14:40.121Z"
   },
   {
    "duration": 0,
    "start_time": "2023-02-12T08:14:40.218Z"
   },
   {
    "duration": 0,
    "start_time": "2023-02-12T08:14:40.219Z"
   },
   {
    "duration": 11,
    "start_time": "2023-02-12T08:15:10.944Z"
   },
   {
    "duration": 41,
    "start_time": "2023-02-12T08:15:24.696Z"
   },
   {
    "duration": 27,
    "start_time": "2023-02-12T08:56:41.882Z"
   },
   {
    "duration": 29,
    "start_time": "2023-02-12T08:57:04.496Z"
   },
   {
    "duration": 66,
    "start_time": "2023-02-12T09:01:40.032Z"
   },
   {
    "duration": 33,
    "start_time": "2023-02-12T09:02:14.925Z"
   },
   {
    "duration": 43,
    "start_time": "2023-02-12T09:03:04.043Z"
   },
   {
    "duration": 25,
    "start_time": "2023-02-12T09:03:42.334Z"
   },
   {
    "duration": 26,
    "start_time": "2023-02-12T09:05:00.124Z"
   },
   {
    "duration": 21,
    "start_time": "2023-02-12T09:05:38.128Z"
   },
   {
    "duration": 32,
    "start_time": "2023-02-12T09:06:10.704Z"
   },
   {
    "duration": 22,
    "start_time": "2023-02-12T09:07:09.456Z"
   },
   {
    "duration": 13,
    "start_time": "2023-02-12T09:09:47.232Z"
   },
   {
    "duration": 10,
    "start_time": "2023-02-12T09:09:58.642Z"
   },
   {
    "duration": 19,
    "start_time": "2023-02-12T09:10:31.034Z"
   },
   {
    "duration": 41,
    "start_time": "2023-02-12T09:12:05.100Z"
   },
   {
    "duration": 46,
    "start_time": "2023-02-12T09:12:16.852Z"
   },
   {
    "duration": 34,
    "start_time": "2023-02-12T09:12:29.075Z"
   },
   {
    "duration": 23,
    "start_time": "2023-02-12T09:15:22.839Z"
   },
   {
    "duration": 38,
    "start_time": "2023-02-12T09:19:16.801Z"
   },
   {
    "duration": 30,
    "start_time": "2023-02-12T09:23:14.790Z"
   },
   {
    "duration": 46,
    "start_time": "2023-02-12T09:29:20.754Z"
   },
   {
    "duration": 44,
    "start_time": "2023-02-12T09:29:52.860Z"
   },
   {
    "duration": 25,
    "start_time": "2023-02-12T09:38:07.642Z"
   },
   {
    "duration": 46,
    "start_time": "2023-02-12T09:38:25.850Z"
   },
   {
    "duration": 58,
    "start_time": "2023-02-12T09:38:47.501Z"
   },
   {
    "duration": 501,
    "start_time": "2023-02-12T09:38:47.613Z"
   },
   {
    "duration": 26,
    "start_time": "2023-02-12T09:38:48.118Z"
   },
   {
    "duration": 17,
    "start_time": "2023-02-12T09:38:48.146Z"
   },
   {
    "duration": 9,
    "start_time": "2023-02-12T09:38:48.165Z"
   },
   {
    "duration": 63,
    "start_time": "2023-02-12T09:38:48.177Z"
   },
   {
    "duration": 4,
    "start_time": "2023-02-12T09:38:48.242Z"
   },
   {
    "duration": 10,
    "start_time": "2023-02-12T09:38:48.248Z"
   },
   {
    "duration": 6,
    "start_time": "2023-02-12T09:38:48.260Z"
   },
   {
    "duration": 10,
    "start_time": "2023-02-12T09:38:48.268Z"
   },
   {
    "duration": 17,
    "start_time": "2023-02-12T09:38:48.304Z"
   },
   {
    "duration": 35,
    "start_time": "2023-02-12T09:38:48.323Z"
   },
   {
    "duration": 10,
    "start_time": "2023-02-12T09:38:48.360Z"
   },
   {
    "duration": 9,
    "start_time": "2023-02-12T09:38:48.372Z"
   },
   {
    "duration": 35,
    "start_time": "2023-02-12T09:38:48.384Z"
   },
   {
    "duration": 23,
    "start_time": "2023-02-12T09:38:48.420Z"
   },
   {
    "duration": 19,
    "start_time": "2023-02-12T09:38:48.445Z"
   },
   {
    "duration": 4,
    "start_time": "2023-02-12T09:38:48.465Z"
   },
   {
    "duration": 34,
    "start_time": "2023-02-12T09:38:48.471Z"
   },
   {
    "duration": 18,
    "start_time": "2023-02-12T09:38:48.508Z"
   },
   {
    "duration": 4,
    "start_time": "2023-02-12T09:38:48.528Z"
   },
   {
    "duration": 17,
    "start_time": "2023-02-12T09:38:48.533Z"
   },
   {
    "duration": 27,
    "start_time": "2023-02-12T09:38:48.552Z"
   },
   {
    "duration": 57,
    "start_time": "2023-02-12T09:38:48.580Z"
   },
   {
    "duration": 0,
    "start_time": "2023-02-12T09:38:48.638Z"
   },
   {
    "duration": 0,
    "start_time": "2023-02-12T09:38:48.640Z"
   },
   {
    "duration": 52,
    "start_time": "2023-02-12T09:38:52.385Z"
   },
   {
    "duration": 54,
    "start_time": "2023-02-12T09:39:08.588Z"
   },
   {
    "duration": 83,
    "start_time": "2023-02-12T09:39:14.415Z"
   },
   {
    "duration": 29,
    "start_time": "2023-02-12T09:39:50.669Z"
   },
   {
    "duration": 20,
    "start_time": "2023-02-12T09:40:00.333Z"
   },
   {
    "duration": 25,
    "start_time": "2023-02-12T09:40:06.868Z"
   },
   {
    "duration": 27,
    "start_time": "2023-02-12T09:40:24.590Z"
   },
   {
    "duration": 23,
    "start_time": "2023-02-12T09:41:41.981Z"
   },
   {
    "duration": 22,
    "start_time": "2023-02-12T09:41:56.653Z"
   },
   {
    "duration": 35,
    "start_time": "2023-02-12T09:42:03.447Z"
   },
   {
    "duration": 27,
    "start_time": "2023-02-12T09:48:24.684Z"
   },
   {
    "duration": 24,
    "start_time": "2023-02-12T09:51:38.474Z"
   },
   {
    "duration": 9,
    "start_time": "2023-02-12T10:08:32.340Z"
   },
   {
    "duration": 488,
    "start_time": "2023-02-12T10:08:46.236Z"
   },
   {
    "duration": 22,
    "start_time": "2023-02-12T10:08:46.728Z"
   },
   {
    "duration": 20,
    "start_time": "2023-02-12T10:08:46.753Z"
   },
   {
    "duration": 32,
    "start_time": "2023-02-12T10:08:46.775Z"
   },
   {
    "duration": 37,
    "start_time": "2023-02-12T10:08:46.809Z"
   },
   {
    "duration": 4,
    "start_time": "2023-02-12T10:08:46.848Z"
   },
   {
    "duration": 13,
    "start_time": "2023-02-12T10:08:46.853Z"
   },
   {
    "duration": 4,
    "start_time": "2023-02-12T10:08:46.868Z"
   },
   {
    "duration": 8,
    "start_time": "2023-02-12T10:08:46.903Z"
   },
   {
    "duration": 8,
    "start_time": "2023-02-12T10:08:46.912Z"
   },
   {
    "duration": 40,
    "start_time": "2023-02-12T10:08:46.922Z"
   },
   {
    "duration": 10,
    "start_time": "2023-02-12T10:08:46.964Z"
   },
   {
    "duration": 28,
    "start_time": "2023-02-12T10:08:46.975Z"
   },
   {
    "duration": 15,
    "start_time": "2023-02-12T10:08:47.005Z"
   },
   {
    "duration": 24,
    "start_time": "2023-02-12T10:08:47.021Z"
   },
   {
    "duration": 18,
    "start_time": "2023-02-12T10:08:47.047Z"
   },
   {
    "duration": 4,
    "start_time": "2023-02-12T10:08:47.066Z"
   },
   {
    "duration": 10,
    "start_time": "2023-02-12T10:08:47.103Z"
   },
   {
    "duration": 10,
    "start_time": "2023-02-12T10:08:47.115Z"
   },
   {
    "duration": 3,
    "start_time": "2023-02-12T10:08:47.127Z"
   },
   {
    "duration": 11,
    "start_time": "2023-02-12T10:08:47.132Z"
   },
   {
    "duration": 60,
    "start_time": "2023-02-12T10:08:47.145Z"
   },
   {
    "duration": 24,
    "start_time": "2023-02-12T10:08:47.207Z"
   },
   {
    "duration": 25,
    "start_time": "2023-02-12T10:08:47.233Z"
   },
   {
    "duration": 99,
    "start_time": "2023-02-12T10:09:19.216Z"
   },
   {
    "duration": 31,
    "start_time": "2023-02-12T10:10:01.774Z"
   },
   {
    "duration": 22,
    "start_time": "2023-02-12T10:20:34.359Z"
   },
   {
    "duration": 24,
    "start_time": "2023-02-12T10:21:14.720Z"
   },
   {
    "duration": 41,
    "start_time": "2023-02-12T10:39:19.104Z"
   },
   {
    "duration": 461,
    "start_time": "2023-02-12T22:24:21.571Z"
   },
   {
    "duration": 26,
    "start_time": "2023-02-12T22:24:22.034Z"
   },
   {
    "duration": 29,
    "start_time": "2023-02-12T22:24:22.062Z"
   },
   {
    "duration": 9,
    "start_time": "2023-02-12T22:24:22.094Z"
   },
   {
    "duration": 48,
    "start_time": "2023-02-12T22:24:22.105Z"
   },
   {
    "duration": 4,
    "start_time": "2023-02-12T22:24:22.154Z"
   },
   {
    "duration": 18,
    "start_time": "2023-02-12T22:24:22.159Z"
   },
   {
    "duration": 5,
    "start_time": "2023-02-12T22:24:22.180Z"
   },
   {
    "duration": 11,
    "start_time": "2023-02-12T22:24:22.187Z"
   },
   {
    "duration": 9,
    "start_time": "2023-02-12T22:24:22.202Z"
   },
   {
    "duration": 59,
    "start_time": "2023-02-12T22:24:22.213Z"
   },
   {
    "duration": 9,
    "start_time": "2023-02-12T22:24:22.274Z"
   },
   {
    "duration": 11,
    "start_time": "2023-02-12T22:24:22.285Z"
   },
   {
    "duration": 23,
    "start_time": "2023-02-12T22:24:22.298Z"
   },
   {
    "duration": 37,
    "start_time": "2023-02-12T22:24:22.323Z"
   },
   {
    "duration": 20,
    "start_time": "2023-02-12T22:24:22.362Z"
   },
   {
    "duration": 10,
    "start_time": "2023-02-12T22:24:22.384Z"
   },
   {
    "duration": 31,
    "start_time": "2023-02-12T22:24:22.396Z"
   },
   {
    "duration": 27,
    "start_time": "2023-02-12T22:24:22.429Z"
   },
   {
    "duration": 12,
    "start_time": "2023-02-12T22:24:22.458Z"
   },
   {
    "duration": 21,
    "start_time": "2023-02-12T22:24:22.472Z"
   },
   {
    "duration": 39,
    "start_time": "2023-02-12T22:24:22.495Z"
   },
   {
    "duration": 32,
    "start_time": "2023-02-12T22:24:22.536Z"
   },
   {
    "duration": 35,
    "start_time": "2023-02-12T22:24:22.570Z"
   },
   {
    "duration": 40,
    "start_time": "2023-02-12T22:24:22.607Z"
   },
   {
    "duration": 448,
    "start_time": "2023-02-13T19:58:40.472Z"
   },
   {
    "duration": 21,
    "start_time": "2023-02-13T19:58:40.922Z"
   },
   {
    "duration": 15,
    "start_time": "2023-02-13T19:58:40.945Z"
   },
   {
    "duration": 12,
    "start_time": "2023-02-13T19:58:40.962Z"
   },
   {
    "duration": 33,
    "start_time": "2023-02-13T19:58:40.976Z"
   },
   {
    "duration": 3,
    "start_time": "2023-02-13T19:58:41.011Z"
   },
   {
    "duration": 34,
    "start_time": "2023-02-13T19:58:41.015Z"
   },
   {
    "duration": 4,
    "start_time": "2023-02-13T19:58:41.051Z"
   },
   {
    "duration": 13,
    "start_time": "2023-02-13T19:58:41.057Z"
   },
   {
    "duration": 5,
    "start_time": "2023-02-13T19:58:41.072Z"
   },
   {
    "duration": 35,
    "start_time": "2023-02-13T19:58:41.078Z"
   },
   {
    "duration": 12,
    "start_time": "2023-02-13T19:58:41.115Z"
   },
   {
    "duration": 4,
    "start_time": "2023-02-13T19:58:41.148Z"
   },
   {
    "duration": 15,
    "start_time": "2023-02-13T19:58:41.154Z"
   },
   {
    "duration": 21,
    "start_time": "2023-02-13T19:58:41.171Z"
   },
   {
    "duration": 17,
    "start_time": "2023-02-13T19:58:41.194Z"
   },
   {
    "duration": 4,
    "start_time": "2023-02-13T19:58:41.213Z"
   },
   {
    "duration": 36,
    "start_time": "2023-02-13T19:58:41.219Z"
   },
   {
    "duration": 6,
    "start_time": "2023-02-13T19:58:41.257Z"
   },
   {
    "duration": 5,
    "start_time": "2023-02-13T19:58:41.264Z"
   },
   {
    "duration": 13,
    "start_time": "2023-02-13T19:58:41.271Z"
   },
   {
    "duration": 40,
    "start_time": "2023-02-13T19:58:41.286Z"
   },
   {
    "duration": 39,
    "start_time": "2023-02-13T19:58:41.328Z"
   },
   {
    "duration": 21,
    "start_time": "2023-02-13T19:58:41.369Z"
   },
   {
    "duration": 23,
    "start_time": "2023-02-13T19:58:41.392Z"
   }
  ],
  "colab": {
   "name": "dpp_template_part2.ipynb",
   "provenance": []
  },
  "kernelspec": {
   "display_name": "Python 3 (ipykernel)",
   "language": "python",
   "name": "python3"
  },
  "language_info": {
   "codemirror_mode": {
    "name": "ipython",
    "version": 3
   },
   "file_extension": ".py",
   "mimetype": "text/x-python",
   "name": "python",
   "nbconvert_exporter": "python",
   "pygments_lexer": "ipython3",
   "version": "3.9.5"
  },
  "toc": {
   "base_numbering": 1,
   "nav_menu": {},
   "number_sections": true,
   "sideBar": true,
   "skip_h1_title": true,
   "title_cell": "Table of Contents",
   "title_sidebar": "Contents",
   "toc_cell": false,
   "toc_position": {},
   "toc_section_display": true,
   "toc_window_display": true
  }
 },
 "nbformat": 4,
 "nbformat_minor": 5
}
