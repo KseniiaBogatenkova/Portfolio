{
 "cells": [
  {
   "cell_type": "markdown",
   "metadata": {},
   "source": [
    "# Выбор локации для скважины"
   ]
  },
  {
   "cell_type": "markdown",
   "metadata": {},
   "source": [
    "# Содержание\n",
    "\n",
    "**[1. Загрузка и подготовка данных](#step1)**\n",
    "\n",
    "**[2. Обучение и проверка модели](#step2)**\n",
    "\n",
    "**[3. Подготовка к расчёту прибыли](#step3)**\n",
    "\n",
    "**[4. Расчёт прибыли и рисков](#step4)**\n",
    "\n",
    "**[5. Вывод](#step5)**\n",
    "\n"
   ]
  },
  {
   "cell_type": "markdown",
   "metadata": {},
   "source": [
    "Допустим, вы работаете в добывающей компании «ГлавРосГосНефть». Нужно решить, где бурить новую скважину.\n",
    "\n",
    "Вам предоставлены пробы нефти в трёх регионах: в каждом 10 000 месторождений, где измерили качество нефти и объём её запасов. Постройте модель машинного обучения, которая поможет определить регион, где добыча принесёт наибольшую прибыль. Проанализируйте возможную прибыль и риски техникой *Bootstrap.*\n",
    "\n",
    "Шаги для выбора локации:\n",
    "\n",
    "- В избранном регионе ищут месторождения, для каждого определяют значения признаков;\n",
    "- Строят модель и оценивают объём запасов;\n",
    "- Выбирают месторождения с самым высокими оценками значений. Количество месторождений зависит от бюджета компании и стоимости разработки одной скважины;\n",
    "- Прибыль равна суммарной прибыли отобранных месторождений."
   ]
  },
  {
   "cell_type": "markdown",
   "metadata": {},
   "source": [
    "<a id='step1'></a>  **Загрузка и подготовка данных**"
   ]
  },
  {
   "cell_type": "code",
   "execution_count": null,
   "metadata": {},
   "outputs": [
    {
     "name": "stderr",
     "output_type": "stream",
     "text": [
      "/var/folders/w8/whz827qx38v0ln9s213kypp00000gp/T/ipykernel_9532/3786944614.py:3: MatplotlibDeprecationWarning: The seaborn styles shipped by Matplotlib are deprecated since 3.6, as they no longer correspond to the styles shipped by seaborn. However, they will remain available as 'seaborn-v0_8-<style>'. Alternatively, directly use the seaborn API instead.\n",
      "  plt.style.use('seaborn-pastel')\n"
     ]
    }
   ],
   "source": [
    "import pandas as pd # импорт библиотеки pandas \n",
    "import matplotlib.pyplot as plt # импорт библиотеки matplotlib\n",
    "plt.style.use('seaborn-pastel')\n",
    "import seaborn as sns # импорт библиотеки seaborn\n",
    "import numpy as np # импорт библиотеки nump\n",
    "from scipy import stats as st # импорт библиотеки scipy\n",
    "from sklearn.linear_model import LinearRegression # импорт линейной регрессии\n",
    "from sklearn.metrics import mean_squared_error \n",
    "from sklearn.model_selection import train_test_split # импорт разделителя\n",
    "from sklearn.utils import shuffle # импорт шаффла для перемешивания\n",
    "\n",
    "%matplotlib inline"
   ]
  },
  {
   "cell_type": "code",
   "execution_count": 1,
   "metadata": {},
   "outputs": [
    {
     "name": "stderr",
     "output_type": "stream",
     "text": [
      "/var/folders/w8/whz827qx38v0ln9s213kypp00000gp/T/ipykernel_9532/912229180.py:1: DeprecationWarning: Importing display from IPython.core.display is deprecated since IPython 7.14, please import from IPython display\n",
      "  from IPython.core.display import display, HTML\n"
     ]
    },
    {
     "data": {
      "text/html": [
       "<style>.container { width:90% !important; }</style>"
      ],
      "text/plain": [
       "<IPython.core.display.HTML object>"
      ]
     },
     "metadata": {},
     "output_type": "display_data"
    }
   ],
   "source": [
    "from IPython.core.display import display, HTML\n",
    "display(HTML(\"<style>.container { width:90% !important; }</style>\"))"
   ]
  },
  {
   "cell_type": "markdown",
   "metadata": {},
   "source": [
    "Для обхода ключей создаётся представление ключей словаря, по сути являющееся генератором. Копия данных не создаётся.\n",
    "Загрузим данные и создадим список ключей."
   ]
  },
  {
   "cell_type": "code",
   "execution_count": 2,
   "metadata": {},
   "outputs": [],
   "source": [
    "geo_data_0 = pd.read_csv('datasets/geo_data_0.csv')\n",
    "geo_data_1 = pd.read_csv('datasets/geo_data_1.csv')\n",
    "geo_data_2 = pd.read_csv('datasets/geo_data_2.csv')\n",
    "\n",
    "geo_data = {'geo_0': geo_data_0,\n",
    "               'geo_1': geo_data_1,\n",
    "               'geo_2': geo_data_2,}"
   ]
  },
  {
   "cell_type": "markdown",
   "metadata": {},
   "source": [
    "Посмотрим дубликаты. Для этого напишем функцию для подсчета и вывода дубликатов на экран."
   ]
  },
  {
   "cell_type": "code",
   "execution_count": 3,
   "metadata": {},
   "outputs": [
    {
     "name": "stdout",
     "output_type": "stream",
     "text": [
      "<class 'pandas.core.frame.DataFrame'>\n",
      "RangeIndex: 100000 entries, 0 to 99999\n",
      "Data columns (total 5 columns):\n",
      " #   Column   Non-Null Count   Dtype  \n",
      "---  ------   --------------   -----  \n",
      " 0   id       100000 non-null  object \n",
      " 1   f0       100000 non-null  float64\n",
      " 2   f1       100000 non-null  float64\n",
      " 3   f2       100000 non-null  float64\n",
      " 4   product  100000 non-null  float64\n",
      "dtypes: float64(4), object(1)\n",
      "memory usage: 3.8+ MB\n",
      "<class 'pandas.core.frame.DataFrame'>\n",
      "RangeIndex: 100000 entries, 0 to 99999\n",
      "Data columns (total 5 columns):\n",
      " #   Column   Non-Null Count   Dtype  \n",
      "---  ------   --------------   -----  \n",
      " 0   id       100000 non-null  object \n",
      " 1   f0       100000 non-null  float64\n",
      " 2   f1       100000 non-null  float64\n",
      " 3   f2       100000 non-null  float64\n",
      " 4   product  100000 non-null  float64\n",
      "dtypes: float64(4), object(1)\n",
      "memory usage: 3.8+ MB\n",
      "<class 'pandas.core.frame.DataFrame'>\n",
      "RangeIndex: 100000 entries, 0 to 99999\n",
      "Data columns (total 5 columns):\n",
      " #   Column   Non-Null Count   Dtype  \n",
      "---  ------   --------------   -----  \n",
      " 0   id       100000 non-null  object \n",
      " 1   f0       100000 non-null  float64\n",
      " 2   f1       100000 non-null  float64\n",
      " 3   f2       100000 non-null  float64\n",
      " 4   product  100000 non-null  float64\n",
      "dtypes: float64(4), object(1)\n",
      "memory usage: 3.8+ MB\n"
     ]
    }
   ],
   "source": [
    "for geo in geo_data:\n",
    "    geo_data[geo].info()"
   ]
  },
  {
   "cell_type": "markdown",
   "metadata": {},
   "source": [
    "Пропусков нет ни в одном из датасетов.\n",
    "\n",
    "Напишем функцию для оценки дубликатов. "
   ]
  },
  {
   "cell_type": "code",
   "execution_count": 4,
   "metadata": {},
   "outputs": [
    {
     "data": {
      "text/plain": [
       "'geo_0'"
      ]
     },
     "metadata": {},
     "output_type": "display_data"
    },
    {
     "data": {
      "text/html": [
       "<div>\n",
       "<style scoped>\n",
       "    .dataframe tbody tr th:only-of-type {\n",
       "        vertical-align: middle;\n",
       "    }\n",
       "\n",
       "    .dataframe tbody tr th {\n",
       "        vertical-align: top;\n",
       "    }\n",
       "\n",
       "    .dataframe thead th {\n",
       "        text-align: right;\n",
       "    }\n",
       "</style>\n",
       "<table border=\"1\" class=\"dataframe\">\n",
       "  <thead>\n",
       "    <tr style=\"text-align: right;\">\n",
       "      <th></th>\n",
       "      <th>id</th>\n",
       "      <th>f0</th>\n",
       "      <th>f1</th>\n",
       "      <th>f2</th>\n",
       "      <th>product</th>\n",
       "    </tr>\n",
       "  </thead>\n",
       "  <tbody>\n",
       "    <tr>\n",
       "      <th>931</th>\n",
       "      <td>HZww2</td>\n",
       "      <td>0.755284</td>\n",
       "      <td>0.368511</td>\n",
       "      <td>1.863211</td>\n",
       "      <td>30.681774</td>\n",
       "    </tr>\n",
       "    <tr>\n",
       "      <th>7530</th>\n",
       "      <td>HZww2</td>\n",
       "      <td>1.061194</td>\n",
       "      <td>-0.373969</td>\n",
       "      <td>10.430210</td>\n",
       "      <td>158.828695</td>\n",
       "    </tr>\n",
       "    <tr>\n",
       "      <th>1364</th>\n",
       "      <td>bxg6G</td>\n",
       "      <td>0.411645</td>\n",
       "      <td>0.856830</td>\n",
       "      <td>-3.653440</td>\n",
       "      <td>73.604260</td>\n",
       "    </tr>\n",
       "    <tr>\n",
       "      <th>41724</th>\n",
       "      <td>bxg6G</td>\n",
       "      <td>-0.823752</td>\n",
       "      <td>0.546319</td>\n",
       "      <td>3.630479</td>\n",
       "      <td>93.007798</td>\n",
       "    </tr>\n",
       "    <tr>\n",
       "      <th>3389</th>\n",
       "      <td>A5aEY</td>\n",
       "      <td>-0.039949</td>\n",
       "      <td>0.156872</td>\n",
       "      <td>0.209861</td>\n",
       "      <td>89.249364</td>\n",
       "    </tr>\n",
       "    <tr>\n",
       "      <th>51970</th>\n",
       "      <td>A5aEY</td>\n",
       "      <td>-0.180335</td>\n",
       "      <td>0.935548</td>\n",
       "      <td>-2.094773</td>\n",
       "      <td>33.020205</td>\n",
       "    </tr>\n",
       "    <tr>\n",
       "      <th>1949</th>\n",
       "      <td>QcMuo</td>\n",
       "      <td>0.506563</td>\n",
       "      <td>-0.323775</td>\n",
       "      <td>-2.215583</td>\n",
       "      <td>75.496502</td>\n",
       "    </tr>\n",
       "    <tr>\n",
       "      <th>63593</th>\n",
       "      <td>QcMuo</td>\n",
       "      <td>0.635635</td>\n",
       "      <td>-0.473422</td>\n",
       "      <td>0.862670</td>\n",
       "      <td>64.578675</td>\n",
       "    </tr>\n",
       "    <tr>\n",
       "      <th>64022</th>\n",
       "      <td>74z30</td>\n",
       "      <td>0.741456</td>\n",
       "      <td>0.459229</td>\n",
       "      <td>5.153109</td>\n",
       "      <td>140.771492</td>\n",
       "    </tr>\n",
       "    <tr>\n",
       "      <th>66136</th>\n",
       "      <td>74z30</td>\n",
       "      <td>1.084962</td>\n",
       "      <td>-0.312358</td>\n",
       "      <td>6.990771</td>\n",
       "      <td>127.643327</td>\n",
       "    </tr>\n",
       "    <tr>\n",
       "      <th>42529</th>\n",
       "      <td>AGS9W</td>\n",
       "      <td>1.454747</td>\n",
       "      <td>-0.479651</td>\n",
       "      <td>0.683380</td>\n",
       "      <td>126.370504</td>\n",
       "    </tr>\n",
       "    <tr>\n",
       "      <th>69163</th>\n",
       "      <td>AGS9W</td>\n",
       "      <td>-0.933795</td>\n",
       "      <td>0.116194</td>\n",
       "      <td>-3.655896</td>\n",
       "      <td>19.230453</td>\n",
       "    </tr>\n",
       "    <tr>\n",
       "      <th>21426</th>\n",
       "      <td>Tdehs</td>\n",
       "      <td>0.829407</td>\n",
       "      <td>0.298807</td>\n",
       "      <td>-0.049563</td>\n",
       "      <td>96.035308</td>\n",
       "    </tr>\n",
       "    <tr>\n",
       "      <th>75715</th>\n",
       "      <td>Tdehs</td>\n",
       "      <td>0.112079</td>\n",
       "      <td>0.430296</td>\n",
       "      <td>3.218993</td>\n",
       "      <td>60.964018</td>\n",
       "    </tr>\n",
       "    <tr>\n",
       "      <th>16633</th>\n",
       "      <td>fiKDv</td>\n",
       "      <td>0.157341</td>\n",
       "      <td>1.028359</td>\n",
       "      <td>5.585586</td>\n",
       "      <td>95.817889</td>\n",
       "    </tr>\n",
       "    <tr>\n",
       "      <th>90815</th>\n",
       "      <td>fiKDv</td>\n",
       "      <td>0.049883</td>\n",
       "      <td>0.841313</td>\n",
       "      <td>6.394613</td>\n",
       "      <td>137.346586</td>\n",
       "    </tr>\n",
       "    <tr>\n",
       "      <th>60140</th>\n",
       "      <td>TtcGQ</td>\n",
       "      <td>0.569276</td>\n",
       "      <td>-0.104876</td>\n",
       "      <td>6.440215</td>\n",
       "      <td>85.350186</td>\n",
       "    </tr>\n",
       "    <tr>\n",
       "      <th>92341</th>\n",
       "      <td>TtcGQ</td>\n",
       "      <td>0.110711</td>\n",
       "      <td>1.022689</td>\n",
       "      <td>0.911381</td>\n",
       "      <td>101.318008</td>\n",
       "    </tr>\n",
       "    <tr>\n",
       "      <th>89582</th>\n",
       "      <td>bsk9y</td>\n",
       "      <td>0.398908</td>\n",
       "      <td>-0.400253</td>\n",
       "      <td>10.122376</td>\n",
       "      <td>163.433078</td>\n",
       "    </tr>\n",
       "    <tr>\n",
       "      <th>97785</th>\n",
       "      <td>bsk9y</td>\n",
       "      <td>0.378429</td>\n",
       "      <td>0.005837</td>\n",
       "      <td>0.160827</td>\n",
       "      <td>160.637302</td>\n",
       "    </tr>\n",
       "  </tbody>\n",
       "</table>\n",
       "</div>"
      ],
      "text/plain": [
       "          id        f0        f1         f2     product\n",
       "931    HZww2  0.755284  0.368511   1.863211   30.681774\n",
       "7530   HZww2  1.061194 -0.373969  10.430210  158.828695\n",
       "1364   bxg6G  0.411645  0.856830  -3.653440   73.604260\n",
       "41724  bxg6G -0.823752  0.546319   3.630479   93.007798\n",
       "3389   A5aEY -0.039949  0.156872   0.209861   89.249364\n",
       "51970  A5aEY -0.180335  0.935548  -2.094773   33.020205\n",
       "1949   QcMuo  0.506563 -0.323775  -2.215583   75.496502\n",
       "63593  QcMuo  0.635635 -0.473422   0.862670   64.578675\n",
       "64022  74z30  0.741456  0.459229   5.153109  140.771492\n",
       "66136  74z30  1.084962 -0.312358   6.990771  127.643327\n",
       "42529  AGS9W  1.454747 -0.479651   0.683380  126.370504\n",
       "69163  AGS9W -0.933795  0.116194  -3.655896   19.230453\n",
       "21426  Tdehs  0.829407  0.298807  -0.049563   96.035308\n",
       "75715  Tdehs  0.112079  0.430296   3.218993   60.964018\n",
       "16633  fiKDv  0.157341  1.028359   5.585586   95.817889\n",
       "90815  fiKDv  0.049883  0.841313   6.394613  137.346586\n",
       "60140  TtcGQ  0.569276 -0.104876   6.440215   85.350186\n",
       "92341  TtcGQ  0.110711  1.022689   0.911381  101.318008\n",
       "89582  bsk9y  0.398908 -0.400253  10.122376  163.433078\n",
       "97785  bsk9y  0.378429  0.005837   0.160827  160.637302"
      ]
     },
     "metadata": {},
     "output_type": "display_data"
    },
    {
     "data": {
      "text/plain": [
       "'geo_1'"
      ]
     },
     "metadata": {},
     "output_type": "display_data"
    },
    {
     "data": {
      "text/html": [
       "<div>\n",
       "<style scoped>\n",
       "    .dataframe tbody tr th:only-of-type {\n",
       "        vertical-align: middle;\n",
       "    }\n",
       "\n",
       "    .dataframe tbody tr th {\n",
       "        vertical-align: top;\n",
       "    }\n",
       "\n",
       "    .dataframe thead th {\n",
       "        text-align: right;\n",
       "    }\n",
       "</style>\n",
       "<table border=\"1\" class=\"dataframe\">\n",
       "  <thead>\n",
       "    <tr style=\"text-align: right;\">\n",
       "      <th></th>\n",
       "      <th>id</th>\n",
       "      <th>f0</th>\n",
       "      <th>f1</th>\n",
       "      <th>f2</th>\n",
       "      <th>product</th>\n",
       "    </tr>\n",
       "  </thead>\n",
       "  <tbody>\n",
       "    <tr>\n",
       "      <th>1305</th>\n",
       "      <td>LHZR0</td>\n",
       "      <td>11.170835</td>\n",
       "      <td>-1.945066</td>\n",
       "      <td>3.002872</td>\n",
       "      <td>80.859783</td>\n",
       "    </tr>\n",
       "    <tr>\n",
       "      <th>41906</th>\n",
       "      <td>LHZR0</td>\n",
       "      <td>-8.989672</td>\n",
       "      <td>-4.286607</td>\n",
       "      <td>2.009139</td>\n",
       "      <td>57.085625</td>\n",
       "    </tr>\n",
       "    <tr>\n",
       "      <th>2721</th>\n",
       "      <td>bfPNe</td>\n",
       "      <td>-9.494442</td>\n",
       "      <td>-5.463692</td>\n",
       "      <td>4.006042</td>\n",
       "      <td>110.992147</td>\n",
       "    </tr>\n",
       "    <tr>\n",
       "      <th>82178</th>\n",
       "      <td>bfPNe</td>\n",
       "      <td>-6.202799</td>\n",
       "      <td>-4.820045</td>\n",
       "      <td>2.995107</td>\n",
       "      <td>84.038886</td>\n",
       "    </tr>\n",
       "    <tr>\n",
       "      <th>47591</th>\n",
       "      <td>wt4Uk</td>\n",
       "      <td>-9.091098</td>\n",
       "      <td>-8.109279</td>\n",
       "      <td>-0.002314</td>\n",
       "      <td>3.179103</td>\n",
       "    </tr>\n",
       "    <tr>\n",
       "      <th>82873</th>\n",
       "      <td>wt4Uk</td>\n",
       "      <td>10.259972</td>\n",
       "      <td>-9.376355</td>\n",
       "      <td>4.994297</td>\n",
       "      <td>134.766305</td>\n",
       "    </tr>\n",
       "    <tr>\n",
       "      <th>5849</th>\n",
       "      <td>5ltQ6</td>\n",
       "      <td>-3.435401</td>\n",
       "      <td>-12.296043</td>\n",
       "      <td>1.999796</td>\n",
       "      <td>57.085625</td>\n",
       "    </tr>\n",
       "    <tr>\n",
       "      <th>84461</th>\n",
       "      <td>5ltQ6</td>\n",
       "      <td>18.213839</td>\n",
       "      <td>2.191999</td>\n",
       "      <td>3.993869</td>\n",
       "      <td>107.813044</td>\n",
       "    </tr>\n",
       "  </tbody>\n",
       "</table>\n",
       "</div>"
      ],
      "text/plain": [
       "          id         f0         f1        f2     product\n",
       "1305   LHZR0  11.170835  -1.945066  3.002872   80.859783\n",
       "41906  LHZR0  -8.989672  -4.286607  2.009139   57.085625\n",
       "2721   bfPNe  -9.494442  -5.463692  4.006042  110.992147\n",
       "82178  bfPNe  -6.202799  -4.820045  2.995107   84.038886\n",
       "47591  wt4Uk  -9.091098  -8.109279 -0.002314    3.179103\n",
       "82873  wt4Uk  10.259972  -9.376355  4.994297  134.766305\n",
       "5849   5ltQ6  -3.435401 -12.296043  1.999796   57.085625\n",
       "84461  5ltQ6  18.213839   2.191999  3.993869  107.813044"
      ]
     },
     "metadata": {},
     "output_type": "display_data"
    },
    {
     "data": {
      "text/plain": [
       "'geo_2'"
      ]
     },
     "metadata": {},
     "output_type": "display_data"
    },
    {
     "data": {
      "text/html": [
       "<div>\n",
       "<style scoped>\n",
       "    .dataframe tbody tr th:only-of-type {\n",
       "        vertical-align: middle;\n",
       "    }\n",
       "\n",
       "    .dataframe tbody tr th {\n",
       "        vertical-align: top;\n",
       "    }\n",
       "\n",
       "    .dataframe thead th {\n",
       "        text-align: right;\n",
       "    }\n",
       "</style>\n",
       "<table border=\"1\" class=\"dataframe\">\n",
       "  <thead>\n",
       "    <tr style=\"text-align: right;\">\n",
       "      <th></th>\n",
       "      <th>id</th>\n",
       "      <th>f0</th>\n",
       "      <th>f1</th>\n",
       "      <th>f2</th>\n",
       "      <th>product</th>\n",
       "    </tr>\n",
       "  </thead>\n",
       "  <tbody>\n",
       "    <tr>\n",
       "      <th>28039</th>\n",
       "      <td>xCHr8</td>\n",
       "      <td>1.633027</td>\n",
       "      <td>0.368135</td>\n",
       "      <td>-2.378367</td>\n",
       "      <td>6.120525</td>\n",
       "    </tr>\n",
       "    <tr>\n",
       "      <th>43233</th>\n",
       "      <td>xCHr8</td>\n",
       "      <td>-0.847066</td>\n",
       "      <td>2.101796</td>\n",
       "      <td>5.597130</td>\n",
       "      <td>184.388641</td>\n",
       "    </tr>\n",
       "    <tr>\n",
       "      <th>11449</th>\n",
       "      <td>VF7Jo</td>\n",
       "      <td>2.122656</td>\n",
       "      <td>-0.858275</td>\n",
       "      <td>5.746001</td>\n",
       "      <td>181.716817</td>\n",
       "    </tr>\n",
       "    <tr>\n",
       "      <th>49564</th>\n",
       "      <td>VF7Jo</td>\n",
       "      <td>-0.883115</td>\n",
       "      <td>0.560537</td>\n",
       "      <td>0.723601</td>\n",
       "      <td>136.233420</td>\n",
       "    </tr>\n",
       "    <tr>\n",
       "      <th>45404</th>\n",
       "      <td>KUPhW</td>\n",
       "      <td>0.231846</td>\n",
       "      <td>-1.698941</td>\n",
       "      <td>4.990775</td>\n",
       "      <td>11.716299</td>\n",
       "    </tr>\n",
       "    <tr>\n",
       "      <th>55967</th>\n",
       "      <td>KUPhW</td>\n",
       "      <td>1.211150</td>\n",
       "      <td>3.176408</td>\n",
       "      <td>5.543540</td>\n",
       "      <td>132.831802</td>\n",
       "    </tr>\n",
       "    <tr>\n",
       "      <th>44378</th>\n",
       "      <td>Vcm5J</td>\n",
       "      <td>-1.229484</td>\n",
       "      <td>-2.439204</td>\n",
       "      <td>1.222909</td>\n",
       "      <td>137.968290</td>\n",
       "    </tr>\n",
       "    <tr>\n",
       "      <th>95090</th>\n",
       "      <td>Vcm5J</td>\n",
       "      <td>2.587702</td>\n",
       "      <td>1.986875</td>\n",
       "      <td>2.482245</td>\n",
       "      <td>92.327572</td>\n",
       "    </tr>\n",
       "  </tbody>\n",
       "</table>\n",
       "</div>"
      ],
      "text/plain": [
       "          id        f0        f1        f2     product\n",
       "28039  xCHr8  1.633027  0.368135 -2.378367    6.120525\n",
       "43233  xCHr8 -0.847066  2.101796  5.597130  184.388641\n",
       "11449  VF7Jo  2.122656 -0.858275  5.746001  181.716817\n",
       "49564  VF7Jo -0.883115  0.560537  0.723601  136.233420\n",
       "45404  KUPhW  0.231846 -1.698941  4.990775   11.716299\n",
       "55967  KUPhW  1.211150  3.176408  5.543540  132.831802\n",
       "44378  Vcm5J -1.229484 -2.439204  1.222909  137.968290\n",
       "95090  Vcm5J  2.587702  1.986875  2.482245   92.327572"
      ]
     },
     "metadata": {},
     "output_type": "display_data"
    }
   ],
   "source": [
    "for geo in geo_data:\n",
    "    duplicated_id = pd.DataFrame(columns=geo_data_0.columns)\n",
    "    display(geo)\n",
    "    for i in geo_data[geo][geo_data[geo]['id'].duplicated()]['id'].values:\n",
    "        duplicated_id = pd.concat([duplicated_id] \n",
    "                                  + [geo_data[geo][geo_data[geo]['id'] == i]])\n",
    "    display(duplicated_id)"
   ]
  },
  {
   "cell_type": "markdown",
   "metadata": {},
   "source": [
    "Ну чтож!\n",
    "\n",
    "В регионах дубликаты в параметрах id не влияют на остальные параметры. Быть может, что одинаковый id значит лишь то, что использовали иной метод добычи или иную технологию. Возможно, что это ошибка при зaполнении датасета.\n",
    "\n",
    "Удалим столбец id, для комфортного обучения будущей модели:"
   ]
  },
  {
   "cell_type": "code",
   "execution_count": 5,
   "metadata": {},
   "outputs": [],
   "source": [
    "geo_data_0 = geo_data_0.drop(['id'], axis=1)\n",
    "geo_data_1 = geo_data_1.drop(['id'], axis=1)\n",
    "geo_data_2 = geo_data_2.drop(['id'], axis=1)"
   ]
  },
  {
   "cell_type": "code",
   "execution_count": 6,
   "metadata": {},
   "outputs": [],
   "source": [
    "def distributed_features(seria, bins, xlim_max, ylim_max):\n",
    "    plt.figure(figsize=[15,5])\n",
    "    plt.hist(seria, bins=bins)\n",
    "    plt.xlim([0,xlim_max])\n",
    "    plt.ylim([0,ylim_max])\n",
    "    plt.xlabel(\"Объем нефти на одну скважину, тыс. барелей\")\n",
    "    plt.ylabel(\"Кол-во скважин\")\n",
    "    plt.title(\"Гистограмма распределений признаков\")\n",
    "    plt.show()"
   ]
  },
  {
   "cell_type": "code",
   "execution_count": 7,
   "metadata": {},
   "outputs": [
    {
     "data": {
      "image/png": "[encoded data removed]",
      "text/plain": [
       "<Figure size 1500x500 with 1 Axes>"
      ]
     },
     "metadata": {},
     "output_type": "display_data"
    }
   ],
   "source": [
    "\n",
    "distributed_features(geo_data_0['product'], 200, 190, 1000)\n"
   ]
  },
  {
   "cell_type": "code",
   "execution_count": 8,
   "metadata": {},
   "outputs": [
    {
     "data": {
      "image/png": "[encoded data removed]",
      "text/plain": [
       "<Figure size 1500x500 with 1 Axes>"
      ]
     },
     "metadata": {},
     "output_type": "display_data"
    }
   ],
   "source": [
    "\n",
    "distributed_features(geo_data_1['product'], 200, 190, 1000)"
   ]
  },
  {
   "cell_type": "code",
   "execution_count": 9,
   "metadata": {},
   "outputs": [
    {
     "data": {
      "image/png": "[encoded data removed]",
      "text/plain": [
       "<Figure size 1500x500 with 1 Axes>"
      ]
     },
     "metadata": {},
     "output_type": "display_data"
    }
   ],
   "source": [
    "distributed_features(geo_data_2['product'], 200, 190, 1000)"
   ]
  },
  {
   "cell_type": "markdown",
   "metadata": {},
   "source": [
    "Похоже, что второй регион странным образом распределен, то ли у них стратегия по запуску работ какая-то специфическая, то ли данные, которые мы наблюдаем, искуственно созданы. По первому и третьему региону вопросов нет."
   ]
  },
  {
   "cell_type": "code",
   "execution_count": 10,
   "metadata": {},
   "outputs": [
    {
     "data": {
      "text/html": [
       "<div>\n",
       "<style scoped>\n",
       "    .dataframe tbody tr th:only-of-type {\n",
       "        vertical-align: middle;\n",
       "    }\n",
       "\n",
       "    .dataframe tbody tr th {\n",
       "        vertical-align: top;\n",
       "    }\n",
       "\n",
       "    .dataframe thead th {\n",
       "        text-align: right;\n",
       "    }\n",
       "</style>\n",
       "<table border=\"1\" class=\"dataframe\">\n",
       "  <thead>\n",
       "    <tr style=\"text-align: right;\">\n",
       "      <th></th>\n",
       "      <th>f0</th>\n",
       "      <th>f1</th>\n",
       "      <th>f2</th>\n",
       "      <th>product</th>\n",
       "    </tr>\n",
       "  </thead>\n",
       "  <tbody>\n",
       "    <tr>\n",
       "      <th>f0</th>\n",
       "      <td>1.000000</td>\n",
       "      <td>-0.440723</td>\n",
       "      <td>-0.003153</td>\n",
       "      <td>0.143536</td>\n",
       "    </tr>\n",
       "    <tr>\n",
       "      <th>f1</th>\n",
       "      <td>-0.440723</td>\n",
       "      <td>1.000000</td>\n",
       "      <td>0.001724</td>\n",
       "      <td>-0.192356</td>\n",
       "    </tr>\n",
       "    <tr>\n",
       "      <th>f2</th>\n",
       "      <td>-0.003153</td>\n",
       "      <td>0.001724</td>\n",
       "      <td>1.000000</td>\n",
       "      <td>0.483663</td>\n",
       "    </tr>\n",
       "    <tr>\n",
       "      <th>product</th>\n",
       "      <td>0.143536</td>\n",
       "      <td>-0.192356</td>\n",
       "      <td>0.483663</td>\n",
       "      <td>1.000000</td>\n",
       "    </tr>\n",
       "  </tbody>\n",
       "</table>\n",
       "</div>"
      ],
      "text/plain": [
       "               f0        f1        f2   product\n",
       "f0       1.000000 -0.440723 -0.003153  0.143536\n",
       "f1      -0.440723  1.000000  0.001724 -0.192356\n",
       "f2      -0.003153  0.001724  1.000000  0.483663\n",
       "product  0.143536 -0.192356  0.483663  1.000000"
      ]
     },
     "execution_count": 10,
     "metadata": {},
     "output_type": "execute_result"
    }
   ],
   "source": [
    "corr_data = geo_data_0.corr()\n",
    "corr_data"
   ]
  },
  {
   "cell_type": "code",
   "execution_count": 11,
   "metadata": {},
   "outputs": [
    {
     "data": {
      "text/html": [
       "<div>\n",
       "<style scoped>\n",
       "    .dataframe tbody tr th:only-of-type {\n",
       "        vertical-align: middle;\n",
       "    }\n",
       "\n",
       "    .dataframe tbody tr th {\n",
       "        vertical-align: top;\n",
       "    }\n",
       "\n",
       "    .dataframe thead th {\n",
       "        text-align: right;\n",
       "    }\n",
       "</style>\n",
       "<table border=\"1\" class=\"dataframe\">\n",
       "  <thead>\n",
       "    <tr style=\"text-align: right;\">\n",
       "      <th></th>\n",
       "      <th>f0</th>\n",
       "      <th>f1</th>\n",
       "      <th>f2</th>\n",
       "      <th>product</th>\n",
       "    </tr>\n",
       "  </thead>\n",
       "  <tbody>\n",
       "    <tr>\n",
       "      <th>f0</th>\n",
       "      <td>1.000000</td>\n",
       "      <td>0.182287</td>\n",
       "      <td>-0.001777</td>\n",
       "      <td>-0.030491</td>\n",
       "    </tr>\n",
       "    <tr>\n",
       "      <th>f1</th>\n",
       "      <td>0.182287</td>\n",
       "      <td>1.000000</td>\n",
       "      <td>-0.002595</td>\n",
       "      <td>-0.010155</td>\n",
       "    </tr>\n",
       "    <tr>\n",
       "      <th>f2</th>\n",
       "      <td>-0.001777</td>\n",
       "      <td>-0.002595</td>\n",
       "      <td>1.000000</td>\n",
       "      <td>0.999397</td>\n",
       "    </tr>\n",
       "    <tr>\n",
       "      <th>product</th>\n",
       "      <td>-0.030491</td>\n",
       "      <td>-0.010155</td>\n",
       "      <td>0.999397</td>\n",
       "      <td>1.000000</td>\n",
       "    </tr>\n",
       "  </tbody>\n",
       "</table>\n",
       "</div>"
      ],
      "text/plain": [
       "               f0        f1        f2   product\n",
       "f0       1.000000  0.182287 -0.001777 -0.030491\n",
       "f1       0.182287  1.000000 -0.002595 -0.010155\n",
       "f2      -0.001777 -0.002595  1.000000  0.999397\n",
       "product -0.030491 -0.010155  0.999397  1.000000"
      ]
     },
     "execution_count": 11,
     "metadata": {},
     "output_type": "execute_result"
    }
   ],
   "source": [
    "corr_data = geo_data_1.corr()\n",
    "corr_data"
   ]
  },
  {
   "cell_type": "code",
   "execution_count": 12,
   "metadata": {},
   "outputs": [
    {
     "data": {
      "text/html": [
       "<div>\n",
       "<style scoped>\n",
       "    .dataframe tbody tr th:only-of-type {\n",
       "        vertical-align: middle;\n",
       "    }\n",
       "\n",
       "    .dataframe tbody tr th {\n",
       "        vertical-align: top;\n",
       "    }\n",
       "\n",
       "    .dataframe thead th {\n",
       "        text-align: right;\n",
       "    }\n",
       "</style>\n",
       "<table border=\"1\" class=\"dataframe\">\n",
       "  <thead>\n",
       "    <tr style=\"text-align: right;\">\n",
       "      <th></th>\n",
       "      <th>f0</th>\n",
       "      <th>f1</th>\n",
       "      <th>f2</th>\n",
       "      <th>product</th>\n",
       "    </tr>\n",
       "  </thead>\n",
       "  <tbody>\n",
       "    <tr>\n",
       "      <th>f0</th>\n",
       "      <td>1.000000</td>\n",
       "      <td>0.000528</td>\n",
       "      <td>-0.000448</td>\n",
       "      <td>-0.001987</td>\n",
       "    </tr>\n",
       "    <tr>\n",
       "      <th>f1</th>\n",
       "      <td>0.000528</td>\n",
       "      <td>1.000000</td>\n",
       "      <td>0.000779</td>\n",
       "      <td>-0.001012</td>\n",
       "    </tr>\n",
       "    <tr>\n",
       "      <th>f2</th>\n",
       "      <td>-0.000448</td>\n",
       "      <td>0.000779</td>\n",
       "      <td>1.000000</td>\n",
       "      <td>0.445871</td>\n",
       "    </tr>\n",
       "    <tr>\n",
       "      <th>product</th>\n",
       "      <td>-0.001987</td>\n",
       "      <td>-0.001012</td>\n",
       "      <td>0.445871</td>\n",
       "      <td>1.000000</td>\n",
       "    </tr>\n",
       "  </tbody>\n",
       "</table>\n",
       "</div>"
      ],
      "text/plain": [
       "               f0        f1        f2   product\n",
       "f0       1.000000  0.000528 -0.000448 -0.001987\n",
       "f1       0.000528  1.000000  0.000779 -0.001012\n",
       "f2      -0.000448  0.000779  1.000000  0.445871\n",
       "product -0.001987 -0.001012  0.445871  1.000000"
      ]
     },
     "execution_count": 12,
     "metadata": {},
     "output_type": "execute_result"
    }
   ],
   "source": [
    "corr_data = geo_data_2.corr()\n",
    "corr_data"
   ]
  },
  {
   "cell_type": "markdown",
   "metadata": {},
   "source": [
    "В нулевом датафрейме признаки f0 и f1 имеют отрицательную корреляцию, f2 слабо положительно коррелирует с целевым признаком. В первом датафрейме очень сильно коррелирует целевой признак и f2. Во втором датафрейме есть коррелирующие признаки - f2 и product.\n",
    "\n",
    "Я бы указала заказчику на корреляцию."
   ]
  },
  {
   "cell_type": "markdown",
   "metadata": {},
   "source": [
    "<a id='step2'></a>  **Обучение и проверка модели**"
   ]
  },
  {
   "cell_type": "markdown",
   "metadata": {},
   "source": [
    "\n",
    "Обучите и проверьте модель для каждого региона:  \n",
    "Разбейте данные на обучающую и валидационную выборки в соотношении 75:25.  \n",
    "Обучите модель и сделайте предсказания на валидационной выборке.  \n",
    "Сохраните предсказания и правильные ответы на валидационной выборке.  \n",
    "Напечатайте на экране средний запас предсказанного сырья и RMSE модели.  \n",
    "Проанализируйте результаты.  \n"
   ]
  },
  {
   "cell_type": "markdown",
   "metadata": {},
   "source": [
    "MSE – одна из самых популярных метрик в задаче регрессии. Она уже знакома нам, т.к. применялась в качестве функции потерь в тренажере Яндекс-Практикума во многих ранее рассмотренных методах.  \n",
    "\n",
    "Иногда для того, чтобы показатель эффективности MSE имел размерность исходных данных, из него извлекают квадратный корень и получают показатель эффективности RMSE.  \n",
    "\n",
    "Создадим функцию для подсчета метрики RMSE.\n",
    "\n"
   ]
  },
  {
   "cell_type": "code",
   "execution_count": 13,
   "metadata": {},
   "outputs": [],
   "source": [
    "# используем sklearn метрику mean_squared_error\n",
    "def rmse(target_valid, predictions_valid):\n",
    "    x = mean_squared_error(target_valid, predictions_valid)**0.5\n",
    "    return x"
   ]
  },
  {
   "cell_type": "markdown",
   "metadata": {},
   "source": [
    "Поскольку мы имеем три датасета, то нам будет удобно выполнить функцию в которой:  \n",
    " - выделяем параметры и таргет    \n",
    " - делим на валидационную и обучающую   \n",
    " - обучаем модель и сохраняем результат  \n",
    " - считаем RMSE  "
   ]
  },
  {
   "cell_type": "code",
   "execution_count": 14,
   "metadata": {},
   "outputs": [],
   "source": [
    "def all_regions(data):\n",
    "    # выделяем features и target\n",
    "    features = data.drop('product', axis=1)\n",
    "    target = data['product']\n",
    "    # делим на валидационную и обучающую выборки\n",
    "    features_train, features_valid, target_train, target_valid = train_test_split(features,\n",
    "    target, test_size=0.25, random_state=12345)\n",
    "    # обучаем модель Linear Regression\n",
    "    model = LinearRegression()\n",
    "    model.fit(features_train, target_train)\n",
    "    predictions = model.predict(features_valid)\n",
    "    # записываем в переменную rmse_data результат функции rmse \n",
    "    rmse_data = rmse(target_valid, predictions)\n",
    "    return target_valid, predictions, rmse_data"
   ]
  },
  {
   "cell_type": "code",
   "execution_count": 15,
   "metadata": {},
   "outputs": [],
   "source": [
    "# применяем функцию all_regions для трех регионов\n",
    "geo_data_0_tt_valid, predictions_0_valid, rmse_0 = all_regions(geo_data_0)\n",
    "geo_data_1_tt_valid, predictions_1_valid, rmse_1 = all_regions(geo_data_1)\n",
    "geo_data_2_tt_valid, predictions_2_valid, rmse_2 = all_regions(geo_data_2)"
   ]
  },
  {
   "cell_type": "code",
   "execution_count": 16,
   "metadata": {},
   "outputs": [
    {
     "name": "stdout",
     "output_type": "stream",
     "text": [
      "RMSE: 37.5794217150813\n",
      "RMSE: 0.8930992867756165\n",
      "RMSE: 40.02970873393434\n"
     ]
    }
   ],
   "source": [
    "print('RMSE:', rmse_0)\n",
    "print('RMSE:', rmse_1)\n",
    "print('RMSE:', rmse_2)"
   ]
  },
  {
   "cell_type": "code",
   "execution_count": 17,
   "metadata": {},
   "outputs": [],
   "source": [
    "mean_product_0 = predictions_0_valid.mean()\n",
    "mean_product_1 = predictions_1_valid.mean()\n",
    "mean_product_2 = predictions_2_valid.mean()"
   ]
  },
  {
   "cell_type": "code",
   "execution_count": 18,
   "metadata": {},
   "outputs": [
    {
     "name": "stdout",
     "output_type": "stream",
     "text": [
      "Cредний запас предсказанного сырья 1 региона:  92.59\n",
      "Cредний запас предсказанного сырья 2 региона:  68.73\n",
      "Cредний запас предсказанного сырья 3 региона:  94.97\n"
     ]
    }
   ],
   "source": [
    "print('Cредний запас предсказанного сырья 1 региона: ', round(mean_product_0, 2))\n",
    "print('Cредний запас предсказанного сырья 2 региона: ', round(mean_product_1, 2))\n",
    "print('Cредний запас предсказанного сырья 3 региона: ', round(mean_product_2, 2))"
   ]
  },
  {
   "cell_type": "markdown",
   "metadata": {},
   "source": [
    "Самый лучший показатель эффективности получается у модели второго региона. Это тот, который geo_data_1 с RMSE равным 0.893099286775617. "
   ]
  },
  {
   "cell_type": "markdown",
   "metadata": {},
   "source": [
    "<a id='step3'></a>  **Подготовка к расчёту прибыли**"
   ]
  },
  {
   "cell_type": "markdown",
   "metadata": {},
   "source": [
    "Все ключевые значения для расчётов сохраните в отдельных переменных.  \n",
    "Рассчитайте достаточный объём сырья для безубыточной разработки новой скважины. Сравните полученный объём сырья со средним запасом в каждом регионе.   \n",
    "Напишите выводы по этапу подготовки расчёта прибыли.  "
   ]
  },
  {
   "cell_type": "markdown",
   "metadata": {},
   "source": [
    "При разведке региона исследуют 500 точек, из которых с помощью машинного обучения выбирают 200 лучших для разработки. \n",
    "\n",
    "Бюджет на разработку скважин в регионе — 10 млрд рублей.  \n",
    "\n",
    "При нынешних ценах один баррель сырья приносит 450 рублей дохода. Доход с каждой единицы продукта составляет 450 тыс. рублей,   поскольку объём указан в тысячах баррелей.  \n",
    "\n",
    "После оценки рисков нужно оставить лишь те регионы, в которых вероятность убытков меньше 2.5%. Среди них выбирают регион с наибольшей средней прибылью.   \n",
    "\n",
    "Данные синтетические: детали контрактов и характеристики месторождений не разглашаются.    "
   ]
  },
  {
   "cell_type": "code",
   "execution_count": 19,
   "metadata": {},
   "outputs": [],
   "source": [
    "bores_number = 500 \n",
    "bores_needed = 200\n",
    "budget = 10000000000 / 1000000 # в млн. руб.\n",
    "barrel_price = 450000 / 1000000 # в млн. руб.\n",
    "risk = 2.5 "
   ]
  },
  {
   "cell_type": "markdown",
   "metadata": {},
   "source": [
    "Рассчитаем достаточный объём сырья для безубыточной разработки новой скважины.\n",
    "\n",
    "Выведем на экран среднее значение и проанализируем результат:"
   ]
  },
  {
   "cell_type": "code",
   "execution_count": 20,
   "metadata": {},
   "outputs": [
    {
     "name": "stdout",
     "output_type": "stream",
     "text": [
      "Средняя прибыль на лучшую точку: 50.0 тыс.руб.\n",
      "\n"
     ]
    }
   ],
   "source": [
    "# считаем среднюю прибыль на лучшую точку\n",
    "average_profit_per_point = budget / bores_needed\n",
    "print(f'Средняя прибыль на лучшую точку: {average_profit_per_point} тыс.руб.')\n",
    "print('')"
   ]
  },
  {
   "cell_type": "code",
   "execution_count": 21,
   "metadata": {},
   "outputs": [
    {
     "name": "stdout",
     "output_type": "stream",
     "text": [
      "Средний объем нефти на регион: 22222.222222222223 тыс.барелей\n",
      "\n"
     ]
    }
   ],
   "source": [
    "# считаем средний объем нефти на регион\n",
    "average_barrels = budget / barrel_price\n",
    "\n",
    "print(f'Средний объем нефти на регион: {average_barrels} тыс.барелей')\n",
    "print('')"
   ]
  },
  {
   "cell_type": "code",
   "execution_count": 22,
   "metadata": {},
   "outputs": [
    {
     "name": "stdout",
     "output_type": "stream",
     "text": [
      "Необходимый средний объём одной скважины, чтобы она была не убыточна: 111.11111111111111\n",
      "\n"
     ]
    }
   ],
   "source": [
    "product_needed = budget / bores_needed / barrel_price\n",
    "\n",
    "print(f'Необходимый средний объём одной скважины, чтобы она была не убыточна: {product_needed}')\n",
    "print('')\n"
   ]
  },
  {
   "cell_type": "code",
   "execution_count": 23,
   "metadata": {},
   "outputs": [
    {
     "name": "stdout",
     "output_type": "stream",
     "text": [
      "Средний объём сырья в geo_0 убыточен: 92.5\n",
      "Средний объём сырья в geo_1 убыточен: 68.825\n",
      "Средний объём сырья в geo_2 убыточен: 95.0\n"
     ]
    }
   ],
   "source": [
    "for geo in geo_data:\n",
    "    x = geo_data[geo]['product'].mean()\n",
    "    if x > product_needed:\n",
    "        print(f'Средний объём сырья в {geo} не убыточный: {round(x, 3)}')\n",
    "    else: \n",
    "        print(f'Средний объём сырья в {geo} убыточен: {round(x, 3)}')"
   ]
  },
  {
   "cell_type": "markdown",
   "metadata": {},
   "source": [
    "Вывод:  \n",
    "\n",
    "Анализ средних объемов на скважину для каждого региона показал, что для первого и третьего - высокая вероятность окупить затраты.\n",
    "Рaзброс знaчений вокруг среднего 92.5 и 95 говорит нaм о том, что существует достаточно много сквaжин, где зaпасы больше необходимого среднего.\n",
    "\n",
    "Во вторых дaнных возможно есть определенный смысл - значений больше 111 достаточно много и при определенной доли везения можно выбрать только лучшие в этой выбoрке, хотя и среднее знaчение 68.8."
   ]
  },
  {
   "cell_type": "markdown",
   "metadata": {},
   "source": [
    "<a id='step4'></a>  **Расчёт прибыли и рисков** "
   ]
  },
  {
   "cell_type": "markdown",
   "metadata": {},
   "source": [
    "Напишите функцию для расчёта прибыли по выбранным скважинам и предсказаниям модели:  \n",
    "Выберите скважины с максимальными значениями предсказаний.   \n",
    "Просуммируйте целевое значение объёма сырья, соответствующее этим предсказаниям.  \n",
    "Рассчитайте прибыль для полученного объёма сырья.  \n",
    "Посчитайте риски и прибыль для каждого региона:  \n",
    "Примените технику Bootstrap с 1000 выборок, чтобы найти распределение прибыли.  \n",
    "Найдите среднюю прибыль, 95%-й доверительный интервал и риск убытков. Убыток — это отрицательная прибыль.  \n",
    "Напишите выводы: предложите регион для разработки скважин и обоснуйте выбор.  "
   ]
  },
  {
   "cell_type": "code",
   "execution_count": 24,
   "metadata": {},
   "outputs": [],
   "source": [
    "# преобразуем результаты предсказаний в Pandas Series\n",
    "predictions_0_valid = pd.Series(predictions_0_valid)\n",
    "predictions_1_valid = pd.Series(predictions_1_valid)\n",
    "predictions_2_valid = pd.Series(predictions_2_valid)"
   ]
  },
  {
   "cell_type": "code",
   "execution_count": 25,
   "metadata": {},
   "outputs": [],
   "source": [
    "# создаём функцию для подсчета прибыли в трех регионах\n",
    "def revenue_profit(target, bores, count, budget):\n",
    "     # сортируем по предсказанию\n",
    "    bores_sorted = bores.sort_values(ascending=False)\n",
    "     # выбираем лучшие по индексам\n",
    "    selected = target[bores_sorted.index][:count]\n",
    "     # считаем заработок с выбранных скважин\n",
    "    revenue = barrel_price * selected.sum()\n",
    "    # считаем прибыль\n",
    "    profit = revenue - budget \n",
    "    return profit"
   ]
  },
  {
   "cell_type": "markdown",
   "metadata": {},
   "source": [
    "Посчитаем риски и прибыль для каждого региона.  \n",
    "\n",
    "Вычислить сложные величины, не прибегая к формулам, поможет техника Bootstrap (англ. «самовытягивание»).\n",
    "Разберём, как она работает.\n",
    "Чтобы получить нужную величину, например, среднее, из исходного набора данных формируют подвыборки (псевдовыборки). На каждой из них и вычисляют среднее.  \n",
    "Теоретически формировать подвыборки и рассчитывать по ним нужную величину можно многократно. Так мы получим несколько значений интересующего показателя и оценим распределение.  \n",
    "\n",
    "Применим технику Bootstrap с 1000 выборок, чтобы найти распределение прибыли.   \n",
    "\n",
    "Найдём среднюю прибыль, 95%-й доверительный интервал и риск убытков. Убыток — это отрицательная прибыль.  \n",
    "Напишем выводы: предложим регион для разработки скважин и обоснуем выбор.   \n",
    "\n",
    "Создаём функцию для подсчета результатов:    "
   ]
  },
  {
   "cell_type": "code",
   "execution_count": 26,
   "metadata": {},
   "outputs": [],
   "source": [
    "def total_region(target, predictions):\n",
    "    # создаём список\n",
    "    values = []\n",
    "\n",
    "    # применяем Bootstrap\n",
    "    state = np.random.RandomState(12345)\n",
    "    for i in range(1000): \n",
    "        target_subsample = target.reset_index(drop=True).sample(n=bores_number, replace=True, random_state=state)\n",
    "        pred_subsample = predictions[target_subsample.index]\n",
    "        # выбираем 200 скважин\n",
    "        value = revenue_profit(target_subsample, pred_subsample, bores_needed, budget) \n",
    "        values.append(value)\n",
    "\n",
    "    # считаем количество убытков\n",
    "    values = pd.Series(values)\n",
    "    risk = (values < 0).mean()\n",
    "\n",
    "    # считаем доверительный интервал\n",
    "    lower = values.quantile(0.025)\n",
    "    upper = values.quantile(0.975)\n",
    "\n",
    "    # выводим результат на экран\n",
    "    print('Средняя прибыль в регионе:', round(values.mean(), 2), 'млн. руб')\n",
    "    print(f'95% доверительный интервал: ({lower}, {upper})')\n",
    "    print('Риск убытков: {:.1%}'.format((values < 0).mean()))\n",
    "\n",
    "    # сравниваем с необходимым риском\n",
    "    if (risk * 100) <= 2.5:\n",
    "          print('Риск убытков меньше необходимого значения. Оставляем регион.')\n",
    "    else:\n",
    "          print('Риск убытков больше необходимого значения.')      \n",
    "\n"
   ]
  },
  {
   "cell_type": "code",
   "execution_count": 27,
   "metadata": {},
   "outputs": [
    {
     "name": "stdout",
     "output_type": "stream",
     "text": [
      "Средняя прибыль в регионе: 425.94 млн. руб\n",
      "95% доверительный интервал: (-102.09009483793592, 947.976353358369)\n",
      "Риск убытков: 6.0%\n",
      "Риск убытков больше необходимого значения.\n"
     ]
    }
   ],
   "source": [
    "total_region(geo_data_0_tt_valid, predictions_0_valid)"
   ]
  },
  {
   "cell_type": "code",
   "execution_count": 28,
   "metadata": {},
   "outputs": [
    {
     "name": "stdout",
     "output_type": "stream",
     "text": [
      "Средняя прибыль в регионе: 515.22 млн. руб\n",
      "95% доверительный интервал: (68.87322537050254, 931.547591257049)\n",
      "Риск убытков: 1.0%\n",
      "Риск убытков меньше необходимого значения. Оставляем регион.\n"
     ]
    }
   ],
   "source": [
    "total_region(geo_data_1_tt_valid, predictions_1_valid)"
   ]
  },
  {
   "cell_type": "code",
   "execution_count": 29,
   "metadata": {},
   "outputs": [
    {
     "name": "stdout",
     "output_type": "stream",
     "text": [
      "Средняя прибыль в регионе: 435.01 млн. руб\n",
      "95% доверительный интервал: (-128.88054732978893, 969.7069541802657)\n",
      "Риск убытков: 6.4%\n",
      "Риск убытков больше необходимого значения.\n"
     ]
    }
   ],
   "source": [
    "total_region(geo_data_2_tt_valid, predictions_2_valid)"
   ]
  },
  {
   "cell_type": "markdown",
   "metadata": {},
   "source": [
    "<a id='step5'></a>  **Вывод:**\n",
    "\n",
    "При выполнении следующего проекта было выполнено:  \n",
    "\n",
    "Изучены данные. Проведена подготовкa данных к моделировaнию.  \n",
    "Обучена модель для кaждого региона geo_data_0, geo_data_1 и geo_data_2.  \n",
    "Составлена функция расчета прибыли в регионе.  \n",
    "Посчитана прибыль и риски за каждый регион и обоснован выбор региона.  \n",
    "Второй регион получился одним из лучших по показателям предсказания.    \n",
    "\n",
    "\n",
    "Самый лучший показатель эффективности rmse получился у модели второго региона.  \n",
    "По двум регионам из трех средняя прибыль меньше, а так же вероятность убытков выше.   \n",
    "Мы не будем рассматривать их для разработки.  \n",
    "\n",
    "Второй регион нам вполне подходит, так как риск убытков ниже и средняя прибыль выше, чем у остальных регионов.   \n",
    "Тем более доверительный интервал показывает, что даже при не очень удачном выборе разработка скважин окупится.\n",
    "\n"
   ]
  },
  {
   "cell_type": "code",
   "execution_count": null,
   "metadata": {},
   "outputs": [],
   "source": []
  }
 ],
 "metadata": {
  "ExecuteTimeLog": [
   {
    "duration": 1915,
    "start_time": "2023-05-16T07:36:07.982Z"
   },
   {
    "duration": 13,
    "start_time": "2023-05-16T07:36:26.698Z"
   },
   {
    "duration": 5,
    "start_time": "2023-05-16T07:36:39.294Z"
   },
   {
    "duration": 2367,
    "start_time": "2023-05-16T07:45:04.825Z"
   },
   {
    "duration": 11,
    "start_time": "2023-05-16T07:46:48.993Z"
   },
   {
    "duration": 398,
    "start_time": "2023-05-16T07:47:26.974Z"
   },
   {
    "duration": 35,
    "start_time": "2023-05-16T07:47:27.394Z"
   },
   {
    "duration": 18,
    "start_time": "2023-05-16T09:43:37.021Z"
   },
   {
    "duration": 9,
    "start_time": "2023-05-16T09:46:57.331Z"
   },
   {
    "duration": 3,
    "start_time": "2023-05-16T09:48:36.516Z"
   },
   {
    "duration": 12,
    "start_time": "2023-05-16T10:12:52.190Z"
   },
   {
    "duration": 27,
    "start_time": "2023-05-16T10:15:41.852Z"
   },
   {
    "duration": 12,
    "start_time": "2023-05-16T10:29:15.084Z"
   },
   {
    "duration": 9,
    "start_time": "2023-05-16T10:29:25.190Z"
   },
   {
    "duration": 11,
    "start_time": "2023-05-16T10:29:38.923Z"
   },
   {
    "duration": 15,
    "start_time": "2023-05-16T10:29:42.403Z"
   },
   {
    "duration": 5,
    "start_time": "2023-05-16T10:31:38.607Z"
   },
   {
    "duration": 428,
    "start_time": "2023-05-16T10:31:39.094Z"
   },
   {
    "duration": 46,
    "start_time": "2023-05-16T10:31:39.903Z"
   },
   {
    "duration": 9,
    "start_time": "2023-05-16T10:31:40.494Z"
   },
   {
    "duration": 8,
    "start_time": "2023-05-16T10:31:41.594Z"
   },
   {
    "duration": 12,
    "start_time": "2023-05-16T10:31:41.954Z"
   },
   {
    "duration": 54,
    "start_time": "2023-05-16T10:31:49.756Z"
   },
   {
    "duration": 54,
    "start_time": "2023-05-16T10:32:30.759Z"
   },
   {
    "duration": 44,
    "start_time": "2023-05-16T10:32:41.025Z"
   },
   {
    "duration": 15,
    "start_time": "2023-05-16T10:34:44.373Z"
   },
   {
    "duration": 37,
    "start_time": "2023-05-16T10:47:01.060Z"
   },
   {
    "duration": 26,
    "start_time": "2023-05-16T10:47:21.662Z"
   },
   {
    "duration": 17,
    "start_time": "2023-05-16T10:47:33.498Z"
   },
   {
    "duration": 15,
    "start_time": "2023-05-16T12:23:30.987Z"
   },
   {
    "duration": 23,
    "start_time": "2023-05-16T15:25:09.011Z"
   },
   {
    "duration": 13,
    "start_time": "2023-05-16T15:26:28.327Z"
   },
   {
    "duration": 28,
    "start_time": "2023-05-16T15:26:42.052Z"
   },
   {
    "duration": 2852,
    "start_time": "2023-05-16T15:29:43.699Z"
   },
   {
    "duration": 0,
    "start_time": "2023-05-16T15:29:46.552Z"
   },
   {
    "duration": 9,
    "start_time": "2023-05-16T15:29:47.139Z"
   },
   {
    "duration": 27,
    "start_time": "2023-05-16T15:29:47.592Z"
   },
   {
    "duration": 20,
    "start_time": "2023-05-16T15:29:48.099Z"
   },
   {
    "duration": 88,
    "start_time": "2023-05-16T15:29:49.424Z"
   },
   {
    "duration": 79,
    "start_time": "2023-05-16T15:29:50.662Z"
   },
   {
    "duration": 71,
    "start_time": "2023-05-16T15:29:51.274Z"
   },
   {
    "duration": 9,
    "start_time": "2023-05-16T15:29:53.642Z"
   },
   {
    "duration": 11,
    "start_time": "2023-05-16T15:29:55.642Z"
   },
   {
    "duration": 11,
    "start_time": "2023-05-16T15:30:48.917Z"
   },
   {
    "duration": 566,
    "start_time": "2023-05-16T15:30:49.942Z"
   },
   {
    "duration": 530,
    "start_time": "2023-05-16T15:31:00.303Z"
   },
   {
    "duration": 50,
    "start_time": "2023-05-16T15:32:05.372Z"
   },
   {
    "duration": 26,
    "start_time": "2023-05-16T15:32:17.384Z"
   },
   {
    "duration": 547,
    "start_time": "2023-05-16T15:32:17.909Z"
   },
   {
    "duration": 587,
    "start_time": "2023-05-16T15:32:18.747Z"
   },
   {
    "duration": 544,
    "start_time": "2023-05-16T15:32:25.660Z"
   },
   {
    "duration": 641,
    "start_time": "2023-05-16T15:35:36.500Z"
   },
   {
    "duration": 534,
    "start_time": "2023-05-16T15:36:22.954Z"
   },
   {
    "duration": 50,
    "start_time": "2023-05-16T15:36:52.793Z"
   },
   {
    "duration": 9,
    "start_time": "2023-05-16T15:36:54.376Z"
   },
   {
    "duration": 17,
    "start_time": "2023-05-16T15:36:54.922Z"
   },
   {
    "duration": 3,
    "start_time": "2023-05-16T15:37:00.852Z"
   },
   {
    "duration": 6,
    "start_time": "2023-05-16T15:37:13.110Z"
   },
   {
    "duration": 10,
    "start_time": "2023-05-16T15:37:19.724Z"
   },
   {
    "duration": 10,
    "start_time": "2023-05-16T15:37:20.123Z"
   },
   {
    "duration": 37,
    "start_time": "2023-05-16T15:37:21.119Z"
   },
   {
    "duration": 12,
    "start_time": "2023-05-16T15:37:39.715Z"
   },
   {
    "duration": 307,
    "start_time": "2023-05-16T15:45:52.342Z"
   },
   {
    "duration": 286,
    "start_time": "2023-05-16T15:49:32.687Z"
   },
   {
    "duration": 1309,
    "start_time": "2023-05-16T15:49:33.559Z"
   },
   {
    "duration": 1706,
    "start_time": "2023-05-16T15:53:20.026Z"
   },
   {
    "duration": 484,
    "start_time": "2023-05-16T15:53:21.735Z"
   },
   {
    "duration": 125,
    "start_time": "2023-05-16T15:53:22.221Z"
   },
   {
    "duration": 0,
    "start_time": "2023-05-16T15:53:22.349Z"
   },
   {
    "duration": 0,
    "start_time": "2023-05-16T15:53:22.351Z"
   },
   {
    "duration": 0,
    "start_time": "2023-05-16T15:53:22.353Z"
   },
   {
    "duration": 453,
    "start_time": "2023-05-16T15:54:21.818Z"
   },
   {
    "duration": 285,
    "start_time": "2023-05-16T15:54:23.489Z"
   },
   {
    "duration": 57,
    "start_time": "2023-05-16T15:55:35.161Z"
   },
   {
    "duration": 300,
    "start_time": "2023-05-16T15:55:38.116Z"
   },
   {
    "duration": 13,
    "start_time": "2023-05-17T11:11:53.028Z"
   },
   {
    "duration": 3,
    "start_time": "2023-05-17T11:26:27.890Z"
   },
   {
    "duration": 5,
    "start_time": "2023-05-17T11:43:08.047Z"
   },
   {
    "duration": 2735,
    "start_time": "2023-05-17T11:49:38.515Z"
   },
   {
    "duration": 61,
    "start_time": "2023-05-17T11:49:52.994Z"
   },
   {
    "duration": 1623,
    "start_time": "2023-05-17T11:51:23.595Z"
   },
   {
    "duration": 435,
    "start_time": "2023-05-17T11:51:25.220Z"
   },
   {
    "duration": 45,
    "start_time": "2023-05-17T11:51:25.666Z"
   },
   {
    "duration": 246,
    "start_time": "2023-05-17T11:51:25.713Z"
   },
   {
    "duration": 25,
    "start_time": "2023-05-17T11:51:25.961Z"
   },
   {
    "duration": 6,
    "start_time": "2023-05-17T11:51:25.990Z"
   },
   {
    "duration": 5,
    "start_time": "2023-05-17T11:51:26.000Z"
   },
   {
    "duration": 264,
    "start_time": "2023-05-17T11:51:26.007Z"
   },
   {
    "duration": 943,
    "start_time": "2023-05-17T11:51:26.274Z"
   },
   {
    "duration": 175,
    "start_time": "2023-05-17T11:51:29.786Z"
   },
   {
    "duration": 10,
    "start_time": "2023-05-17T11:51:38.729Z"
   },
   {
    "duration": 514,
    "start_time": "2023-05-17T11:51:39.439Z"
   },
   {
    "duration": 45,
    "start_time": "2023-05-17T11:51:41.703Z"
   },
   {
    "duration": 316,
    "start_time": "2023-05-17T11:51:42.906Z"
   },
   {
    "duration": 19,
    "start_time": "2023-05-17T11:51:44.895Z"
   },
   {
    "duration": 4,
    "start_time": "2023-05-17T11:51:47.935Z"
   },
   {
    "duration": 6,
    "start_time": "2023-05-17T11:51:50.099Z"
   },
   {
    "duration": 272,
    "start_time": "2023-05-17T11:51:52.695Z"
   },
   {
    "duration": 242,
    "start_time": "2023-05-17T11:51:56.920Z"
   },
   {
    "duration": 19,
    "start_time": "2023-05-17T11:52:13.056Z"
   },
   {
    "duration": 506,
    "start_time": "2023-05-17T11:52:14.010Z"
   },
   {
    "duration": 32,
    "start_time": "2023-05-17T11:52:14.612Z"
   },
   {
    "duration": 219,
    "start_time": "2023-05-17T11:52:15.228Z"
   },
   {
    "duration": 11,
    "start_time": "2023-05-17T11:52:16.689Z"
   },
   {
    "duration": 3,
    "start_time": "2023-05-17T11:52:19.108Z"
   },
   {
    "duration": 5,
    "start_time": "2023-05-17T11:52:20.401Z"
   },
   {
    "duration": 358,
    "start_time": "2023-05-17T11:52:21.140Z"
   },
   {
    "duration": 3,
    "start_time": "2023-05-17T11:53:23.190Z"
   },
   {
    "duration": 19,
    "start_time": "2023-05-17T11:54:14.140Z"
   },
   {
    "duration": 19,
    "start_time": "2023-05-17T11:55:21.205Z"
   },
   {
    "duration": 6,
    "start_time": "2023-05-17T11:55:50.525Z"
   },
   {
    "duration": 17,
    "start_time": "2023-05-17T11:56:55.907Z"
   },
   {
    "duration": 9,
    "start_time": "2023-05-17T11:58:02.075Z"
   },
   {
    "duration": 10,
    "start_time": "2023-05-17T12:00:08.420Z"
   },
   {
    "duration": 6,
    "start_time": "2023-05-17T12:00:12.094Z"
   },
   {
    "duration": 448,
    "start_time": "2023-05-17T12:00:12.550Z"
   },
   {
    "duration": 7,
    "start_time": "2023-05-17T12:00:13.486Z"
   },
   {
    "duration": 6,
    "start_time": "2023-05-17T12:00:13.871Z"
   },
   {
    "duration": 5,
    "start_time": "2023-05-17T12:00:15.099Z"
   },
   {
    "duration": 1750,
    "start_time": "2023-05-17T15:11:36.832Z"
   },
   {
    "duration": 2631,
    "start_time": "2023-05-17T15:11:38.590Z"
   },
   {
    "duration": 47,
    "start_time": "2023-05-17T15:11:41.223Z"
   },
   {
    "duration": 282,
    "start_time": "2023-05-17T15:11:41.278Z"
   },
   {
    "duration": 23,
    "start_time": "2023-05-17T15:11:41.565Z"
   },
   {
    "duration": 4,
    "start_time": "2023-05-17T15:11:41.595Z"
   },
   {
    "duration": 19,
    "start_time": "2023-05-17T15:11:41.601Z"
   },
   {
    "duration": 407,
    "start_time": "2023-05-17T15:11:41.625Z"
   },
   {
    "duration": 42,
    "start_time": "2023-05-17T15:11:42.064Z"
   },
   {
    "duration": 25,
    "start_time": "2023-05-17T15:11:42.158Z"
   },
   {
    "duration": 22,
    "start_time": "2023-05-17T15:11:42.199Z"
   },
   {
    "duration": 941,
    "start_time": "2023-05-17T15:11:42.225Z"
   },
   {
    "duration": 62,
    "start_time": "2023-05-18T07:15:31.466Z"
   },
   {
    "duration": 4,
    "start_time": "2023-05-18T07:38:04.087Z"
   },
   {
    "duration": 3,
    "start_time": "2023-05-18T07:43:52.953Z"
   },
   {
    "duration": 5,
    "start_time": "2023-05-18T07:44:20.300Z"
   },
   {
    "duration": 3,
    "start_time": "2023-05-18T07:47:14.427Z"
   },
   {
    "duration": 4,
    "start_time": "2023-05-18T07:52:28.079Z"
   },
   {
    "duration": 7,
    "start_time": "2023-05-18T07:52:32.827Z"
   },
   {
    "duration": 3,
    "start_time": "2023-05-18T10:21:11.768Z"
   },
   {
    "duration": 3,
    "start_time": "2023-05-18T10:21:12.594Z"
   },
   {
    "duration": 3,
    "start_time": "2023-05-18T10:21:13.575Z"
   },
   {
    "duration": 77,
    "start_time": "2023-05-18T10:22:27.750Z"
   },
   {
    "duration": 4,
    "start_time": "2023-05-18T10:22:53.106Z"
   },
   {
    "duration": 3,
    "start_time": "2023-05-18T10:23:04.494Z"
   },
   {
    "duration": 3,
    "start_time": "2023-05-18T10:23:49.804Z"
   },
   {
    "duration": 1471,
    "start_time": "2023-05-18T10:27:03.555Z"
   },
   {
    "duration": 1965,
    "start_time": "2023-05-18T10:27:05.028Z"
   },
   {
    "duration": 32,
    "start_time": "2023-05-18T10:27:06.995Z"
   },
   {
    "duration": 192,
    "start_time": "2023-05-18T10:27:07.028Z"
   },
   {
    "duration": 12,
    "start_time": "2023-05-18T10:27:07.222Z"
   },
   {
    "duration": 8,
    "start_time": "2023-05-18T10:27:07.236Z"
   },
   {
    "duration": 7,
    "start_time": "2023-05-18T10:27:07.262Z"
   },
   {
    "duration": 314,
    "start_time": "2023-05-18T10:27:07.273Z"
   },
   {
    "duration": 3,
    "start_time": "2023-05-18T10:27:07.589Z"
   },
   {
    "duration": 66,
    "start_time": "2023-05-18T10:27:07.594Z"
   },
   {
    "duration": 99,
    "start_time": "2023-05-18T10:27:07.662Z"
   },
   {
    "duration": 6,
    "start_time": "2023-05-18T10:27:07.764Z"
   },
   {
    "duration": 14,
    "start_time": "2023-05-18T10:27:07.772Z"
   },
   {
    "duration": 17,
    "start_time": "2023-05-18T10:27:07.789Z"
   },
   {
    "duration": 16,
    "start_time": "2023-05-18T10:27:07.808Z"
   },
   {
    "duration": 141,
    "start_time": "2023-05-18T10:27:07.826Z"
   },
   {
    "duration": 0,
    "start_time": "2023-05-18T10:27:07.969Z"
   },
   {
    "duration": 6,
    "start_time": "2023-05-18T10:28:43.420Z"
   },
   {
    "duration": 451,
    "start_time": "2023-05-18T10:29:04.379Z"
   },
   {
    "duration": 33,
    "start_time": "2023-05-18T10:29:06.816Z"
   },
   {
    "duration": 218,
    "start_time": "2023-05-18T10:29:07.087Z"
   },
   {
    "duration": 11,
    "start_time": "2023-05-18T10:29:07.516Z"
   },
   {
    "duration": 4,
    "start_time": "2023-05-18T10:29:08.481Z"
   },
   {
    "duration": 4,
    "start_time": "2023-05-18T10:29:09.383Z"
   },
   {
    "duration": 240,
    "start_time": "2023-05-18T10:29:09.822Z"
   },
   {
    "duration": 10,
    "start_time": "2023-05-18T10:29:10.064Z"
   },
   {
    "duration": 4,
    "start_time": "2023-05-18T10:29:10.084Z"
   },
   {
    "duration": 5,
    "start_time": "2023-05-18T10:29:10.175Z"
   },
   {
    "duration": 2,
    "start_time": "2023-05-18T10:29:11.592Z"
   },
   {
    "duration": 3,
    "start_time": "2023-05-18T10:29:12.587Z"
   },
   {
    "duration": 4,
    "start_time": "2023-05-18T10:29:13.115Z"
   },
   {
    "duration": 4,
    "start_time": "2023-05-18T10:29:13.524Z"
   },
   {
    "duration": 7,
    "start_time": "2023-05-18T10:29:13.988Z"
   },
   {
    "duration": 73,
    "start_time": "2023-05-19T08:50:41.310Z"
   },
   {
    "duration": 1670,
    "start_time": "2023-05-19T08:51:34.507Z"
   },
   {
    "duration": 1683,
    "start_time": "2023-05-19T08:51:36.179Z"
   },
   {
    "duration": 38,
    "start_time": "2023-05-19T08:51:37.863Z"
   },
   {
    "duration": 259,
    "start_time": "2023-05-19T08:51:37.904Z"
   },
   {
    "duration": 12,
    "start_time": "2023-05-19T08:51:38.166Z"
   },
   {
    "duration": 9,
    "start_time": "2023-05-19T08:51:38.181Z"
   },
   {
    "duration": 10,
    "start_time": "2023-05-19T08:51:38.192Z"
   },
   {
    "duration": 411,
    "start_time": "2023-05-19T08:51:38.366Z"
   },
   {
    "duration": 7,
    "start_time": "2023-05-19T08:51:38.779Z"
   },
   {
    "duration": 20,
    "start_time": "2023-05-19T08:51:38.858Z"
   },
   {
    "duration": 5,
    "start_time": "2023-05-19T08:51:39.041Z"
   },
   {
    "duration": 5,
    "start_time": "2023-05-19T08:51:40.205Z"
   },
   {
    "duration": 5,
    "start_time": "2023-05-19T08:51:40.669Z"
   },
   {
    "duration": 4,
    "start_time": "2023-05-19T08:51:41.084Z"
   },
   {
    "duration": 5,
    "start_time": "2023-05-19T08:51:41.339Z"
   },
   {
    "duration": 7,
    "start_time": "2023-05-19T08:51:41.606Z"
   },
   {
    "duration": 5,
    "start_time": "2023-05-19T08:51:42.554Z"
   },
   {
    "duration": 82,
    "start_time": "2023-05-19T08:52:12.608Z"
   },
   {
    "duration": 4,
    "start_time": "2023-05-19T09:13:16.523Z"
   },
   {
    "duration": 4,
    "start_time": "2023-05-19T09:13:41.277Z"
   },
   {
    "duration": 10,
    "start_time": "2023-05-19T09:14:37.974Z"
   },
   {
    "duration": 26,
    "start_time": "2023-05-19T09:15:23.217Z"
   },
   {
    "duration": 2110,
    "start_time": "2023-05-19T09:16:26.228Z"
   },
   {
    "duration": 34,
    "start_time": "2023-05-19T09:18:25.915Z"
   },
   {
    "duration": 2469,
    "start_time": "2023-05-19T09:18:30.387Z"
   },
   {
    "duration": 2549,
    "start_time": "2023-05-19T09:18:48.963Z"
   },
   {
    "duration": 2173,
    "start_time": "2023-05-19T09:39:33.337Z"
   },
   {
    "duration": 498,
    "start_time": "2023-05-19T09:39:35.513Z"
   },
   {
    "duration": 57,
    "start_time": "2023-05-19T09:39:36.014Z"
   },
   {
    "duration": 344,
    "start_time": "2023-05-19T09:39:36.081Z"
   },
   {
    "duration": 18,
    "start_time": "2023-05-19T09:39:36.428Z"
   },
   {
    "duration": 18,
    "start_time": "2023-05-19T09:39:36.460Z"
   },
   {
    "duration": 17,
    "start_time": "2023-05-19T09:39:36.487Z"
   },
   {
    "duration": 263,
    "start_time": "2023-05-19T09:39:36.508Z"
   },
   {
    "duration": 16,
    "start_time": "2023-05-19T09:39:36.782Z"
   },
   {
    "duration": 76,
    "start_time": "2023-05-19T09:39:36.809Z"
   },
   {
    "duration": 6,
    "start_time": "2023-05-19T09:39:36.892Z"
   },
   {
    "duration": 5,
    "start_time": "2023-05-19T09:39:36.901Z"
   },
   {
    "duration": 7,
    "start_time": "2023-05-19T09:39:36.908Z"
   },
   {
    "duration": 41,
    "start_time": "2023-05-19T09:39:36.917Z"
   },
   {
    "duration": 10,
    "start_time": "2023-05-19T09:39:36.961Z"
   },
   {
    "duration": 21,
    "start_time": "2023-05-19T09:39:36.974Z"
   },
   {
    "duration": 5,
    "start_time": "2023-05-19T09:39:36.998Z"
   },
   {
    "duration": 8,
    "start_time": "2023-05-19T09:39:37.005Z"
   },
   {
    "duration": 10,
    "start_time": "2023-05-19T09:39:37.016Z"
   },
   {
    "duration": 2662,
    "start_time": "2023-05-19T09:39:37.028Z"
   },
   {
    "duration": 1976,
    "start_time": "2023-05-19T09:39:39.693Z"
   },
   {
    "duration": 1739,
    "start_time": "2023-05-19T09:39:41.673Z"
   },
   {
    "duration": 7,
    "start_time": "2023-05-19T10:16:04.963Z"
   },
   {
    "duration": 5,
    "start_time": "2023-05-19T10:18:03.333Z"
   },
   {
    "duration": 5,
    "start_time": "2023-05-19T10:31:31.794Z"
   },
   {
    "duration": 5,
    "start_time": "2023-05-19T10:31:32.260Z"
   },
   {
    "duration": 4,
    "start_time": "2023-05-19T10:31:32.978Z"
   },
   {
    "duration": 154,
    "start_time": "2023-05-19T10:32:50.609Z"
   },
   {
    "duration": 5,
    "start_time": "2023-05-19T10:32:59.470Z"
   },
   {
    "duration": 3,
    "start_time": "2023-05-19T10:33:12.230Z"
   },
   {
    "duration": 170,
    "start_time": "2023-05-19T10:44:06.694Z"
   },
   {
    "duration": 1514,
    "start_time": "2023-05-19T10:44:15.513Z"
   },
   {
    "duration": 392,
    "start_time": "2023-05-19T10:44:17.029Z"
   },
   {
    "duration": 58,
    "start_time": "2023-05-19T10:44:17.423Z"
   },
   {
    "duration": 257,
    "start_time": "2023-05-19T10:44:17.483Z"
   },
   {
    "duration": 23,
    "start_time": "2023-05-19T10:44:17.743Z"
   },
   {
    "duration": 5,
    "start_time": "2023-05-19T10:44:17.768Z"
   },
   {
    "duration": 5,
    "start_time": "2023-05-19T10:44:17.774Z"
   },
   {
    "duration": 375,
    "start_time": "2023-05-19T10:44:17.781Z"
   },
   {
    "duration": 8,
    "start_time": "2023-05-19T10:44:18.159Z"
   },
   {
    "duration": 7,
    "start_time": "2023-05-19T10:44:18.169Z"
   },
   {
    "duration": 6,
    "start_time": "2023-05-19T10:44:18.257Z"
   },
   {
    "duration": 7,
    "start_time": "2023-05-19T10:44:18.266Z"
   },
   {
    "duration": 13,
    "start_time": "2023-05-19T10:44:18.274Z"
   },
   {
    "duration": 9,
    "start_time": "2023-05-19T10:44:18.290Z"
   },
   {
    "duration": 7,
    "start_time": "2023-05-19T10:44:18.300Z"
   },
   {
    "duration": 12,
    "start_time": "2023-05-19T10:44:18.309Z"
   },
   {
    "duration": 4,
    "start_time": "2023-05-19T10:44:18.322Z"
   },
   {
    "duration": 5,
    "start_time": "2023-05-19T10:44:18.355Z"
   },
   {
    "duration": 6,
    "start_time": "2023-05-19T10:44:18.362Z"
   },
   {
    "duration": 1722,
    "start_time": "2023-05-19T10:44:18.370Z"
   },
   {
    "duration": 1577,
    "start_time": "2023-05-19T10:44:20.094Z"
   },
   {
    "duration": 1634,
    "start_time": "2023-05-19T10:44:21.673Z"
   },
   {
    "duration": 5,
    "start_time": "2023-05-19T11:07:59.278Z"
   },
   {
    "duration": 5,
    "start_time": "2023-05-19T11:08:00.692Z"
   },
   {
    "duration": 5,
    "start_time": "2023-05-19T11:08:01.535Z"
   },
   {
    "duration": 10,
    "start_time": "2023-05-19T11:08:02.390Z"
   },
   {
    "duration": 13,
    "start_time": "2023-05-19T11:08:03.382Z"
   },
   {
    "duration": 8,
    "start_time": "2023-05-19T11:08:06.174Z"
   },
   {
    "duration": 6,
    "start_time": "2023-05-19T11:08:06.922Z"
   },
   {
    "duration": 8,
    "start_time": "2023-05-19T11:08:08.446Z"
   },
   {
    "duration": 1683,
    "start_time": "2023-05-19T11:08:09.407Z"
   },
   {
    "duration": 1819,
    "start_time": "2023-05-19T11:08:11.094Z"
   },
   {
    "duration": 1776,
    "start_time": "2023-05-19T11:08:12.915Z"
   },
   {
    "duration": 3,
    "start_time": "2023-05-19T11:13:34.458Z"
   },
   {
    "duration": 4,
    "start_time": "2023-05-19T11:13:35.190Z"
   },
   {
    "duration": 5,
    "start_time": "2023-05-19T11:23:51.317Z"
   },
   {
    "duration": 6,
    "start_time": "2023-05-19T11:23:52.987Z"
   },
   {
    "duration": 1658,
    "start_time": "2023-05-19T11:24:02.367Z"
   },
   {
    "duration": 1668,
    "start_time": "2023-05-19T11:24:04.027Z"
   },
   {
    "duration": 1676,
    "start_time": "2023-05-19T11:24:05.697Z"
   },
   {
    "duration": 6,
    "start_time": "2023-05-19T11:24:27.828Z"
   },
   {
    "duration": 6,
    "start_time": "2023-05-19T11:24:41.543Z"
   },
   {
    "duration": 5,
    "start_time": "2023-05-19T11:25:56.065Z"
   },
   {
    "duration": 10,
    "start_time": "2023-05-19T11:30:29.817Z"
   },
   {
    "duration": 1620,
    "start_time": "2023-05-19T11:30:32.179Z"
   },
   {
    "duration": 1645,
    "start_time": "2023-05-19T11:30:33.802Z"
   },
   {
    "duration": 1615,
    "start_time": "2023-05-19T11:30:35.449Z"
   },
   {
    "duration": 6,
    "start_time": "2023-05-19T11:31:28.329Z"
   },
   {
    "duration": 1749,
    "start_time": "2023-05-19T11:31:29.293Z"
   },
   {
    "duration": 1673,
    "start_time": "2023-05-19T11:31:31.044Z"
   },
   {
    "duration": 1655,
    "start_time": "2023-05-19T11:31:32.719Z"
   },
   {
    "duration": 6,
    "start_time": "2023-05-19T11:31:53.315Z"
   },
   {
    "duration": 1678,
    "start_time": "2023-05-19T11:31:56.819Z"
   },
   {
    "duration": 1722,
    "start_time": "2023-05-19T11:31:58.499Z"
   },
   {
    "duration": 1721,
    "start_time": "2023-05-19T11:32:00.223Z"
   },
   {
    "duration": 6,
    "start_time": "2023-05-19T11:32:16.395Z"
   },
   {
    "duration": 1721,
    "start_time": "2023-05-19T11:32:17.511Z"
   },
   {
    "duration": 1656,
    "start_time": "2023-05-19T11:32:19.235Z"
   },
   {
    "duration": 1677,
    "start_time": "2023-05-19T11:32:20.892Z"
   },
   {
    "duration": 6,
    "start_time": "2023-05-19T11:37:19.979Z"
   },
   {
    "duration": 9,
    "start_time": "2023-05-19T12:05:46.715Z"
   },
   {
    "duration": 1709,
    "start_time": "2023-05-19T12:05:47.358Z"
   },
   {
    "duration": 1620,
    "start_time": "2023-05-19T12:05:49.070Z"
   },
   {
    "duration": 1580,
    "start_time": "2023-05-19T12:05:50.692Z"
   },
   {
    "duration": 1442,
    "start_time": "2023-05-19T12:07:18.266Z"
   },
   {
    "duration": 409,
    "start_time": "2023-05-19T12:07:19.710Z"
   },
   {
    "duration": 46,
    "start_time": "2023-05-19T12:07:20.121Z"
   },
   {
    "duration": 220,
    "start_time": "2023-05-19T12:07:20.169Z"
   },
   {
    "duration": 14,
    "start_time": "2023-05-19T12:07:20.391Z"
   },
   {
    "duration": 10,
    "start_time": "2023-05-19T12:07:20.408Z"
   },
   {
    "duration": 9,
    "start_time": "2023-05-19T12:07:20.420Z"
   },
   {
    "duration": 438,
    "start_time": "2023-05-19T12:07:20.430Z"
   },
   {
    "duration": 5,
    "start_time": "2023-05-19T12:07:20.870Z"
   },
   {
    "duration": 10,
    "start_time": "2023-05-19T12:07:20.958Z"
   },
   {
    "duration": 10,
    "start_time": "2023-05-19T12:07:21.057Z"
   },
   {
    "duration": 24,
    "start_time": "2023-05-19T12:07:21.068Z"
   },
   {
    "duration": 15,
    "start_time": "2023-05-19T12:07:21.094Z"
   },
   {
    "duration": 13,
    "start_time": "2023-05-19T12:07:21.111Z"
   },
   {
    "duration": 7,
    "start_time": "2023-05-19T12:07:21.126Z"
   },
   {
    "duration": 25,
    "start_time": "2023-05-19T12:07:21.134Z"
   },
   {
    "duration": 7,
    "start_time": "2023-05-19T12:07:21.160Z"
   },
   {
    "duration": 13,
    "start_time": "2023-05-19T12:07:21.169Z"
   },
   {
    "duration": 9,
    "start_time": "2023-05-19T12:07:21.185Z"
   },
   {
    "duration": 1577,
    "start_time": "2023-05-19T12:07:21.196Z"
   },
   {
    "duration": 1617,
    "start_time": "2023-05-19T12:07:22.774Z"
   },
   {
    "duration": 1546,
    "start_time": "2023-05-19T12:07:24.393Z"
   },
   {
    "duration": 9,
    "start_time": "2023-05-19T12:07:35.717Z"
   },
   {
    "duration": 6,
    "start_time": "2023-05-19T12:07:48.750Z"
   },
   {
    "duration": 427,
    "start_time": "2023-05-19T12:07:50.962Z"
   },
   {
    "duration": 37,
    "start_time": "2023-05-19T12:07:52.142Z"
   },
   {
    "duration": 219,
    "start_time": "2023-05-19T12:07:53.542Z"
   },
   {
    "duration": 12,
    "start_time": "2023-05-19T12:07:55.506Z"
   },
   {
    "duration": 3,
    "start_time": "2023-05-19T12:07:58.006Z"
   },
   {
    "duration": 4,
    "start_time": "2023-05-19T12:07:59.581Z"
   },
   {
    "duration": 378,
    "start_time": "2023-05-19T12:08:00.481Z"
   },
   {
    "duration": 5,
    "start_time": "2023-05-19T12:08:01.677Z"
   },
   {
    "duration": 4,
    "start_time": "2023-05-19T12:08:02.594Z"
   },
   {
    "duration": 6,
    "start_time": "2023-05-19T12:08:06.355Z"
   },
   {
    "duration": 2054,
    "start_time": "2023-05-19T15:45:03.663Z"
   },
   {
    "duration": 363,
    "start_time": "2023-05-19T15:45:05.719Z"
   },
   {
    "duration": 35,
    "start_time": "2023-05-19T15:45:06.084Z"
   },
   {
    "duration": 196,
    "start_time": "2023-05-19T15:45:06.121Z"
   },
   {
    "duration": 12,
    "start_time": "2023-05-19T15:45:06.318Z"
   },
   {
    "duration": 8,
    "start_time": "2023-05-19T15:45:06.331Z"
   },
   {
    "duration": 13,
    "start_time": "2023-05-19T15:45:06.340Z"
   },
   {
    "duration": 347,
    "start_time": "2023-05-19T15:45:06.354Z"
   },
   {
    "duration": 91,
    "start_time": "2023-05-19T15:45:06.703Z"
   },
   {
    "duration": 91,
    "start_time": "2023-05-19T15:45:06.804Z"
   },
   {
    "duration": 7,
    "start_time": "2023-05-19T15:45:06.897Z"
   },
   {
    "duration": 7,
    "start_time": "2023-05-19T15:45:06.906Z"
   },
   {
    "duration": 6,
    "start_time": "2023-05-19T15:45:06.914Z"
   },
   {
    "duration": 5,
    "start_time": "2023-05-19T15:45:06.921Z"
   },
   {
    "duration": 5,
    "start_time": "2023-05-19T15:45:06.928Z"
   },
   {
    "duration": 12,
    "start_time": "2023-05-19T15:45:06.935Z"
   },
   {
    "duration": 6,
    "start_time": "2023-05-19T15:45:06.948Z"
   },
   {
    "duration": 11,
    "start_time": "2023-05-19T15:45:06.956Z"
   },
   {
    "duration": 7,
    "start_time": "2023-05-19T15:45:06.968Z"
   },
   {
    "duration": 1327,
    "start_time": "2023-05-19T15:45:06.995Z"
   },
   {
    "duration": 1324,
    "start_time": "2023-05-19T15:45:08.323Z"
   },
   {
    "duration": 1329,
    "start_time": "2023-05-19T15:45:09.648Z"
   },
   {
    "duration": 9,
    "start_time": "2023-05-22T09:53:28.963Z"
   },
   {
    "duration": 69,
    "start_time": "2023-05-22T09:53:30.203Z"
   },
   {
    "duration": 1664,
    "start_time": "2023-05-22T09:53:39.345Z"
   },
   {
    "duration": 1623,
    "start_time": "2023-05-22T09:53:41.012Z"
   },
   {
    "duration": 37,
    "start_time": "2023-05-22T09:53:42.637Z"
   },
   {
    "duration": 210,
    "start_time": "2023-05-22T09:53:42.676Z"
   },
   {
    "duration": 12,
    "start_time": "2023-05-22T09:53:42.888Z"
   },
   {
    "duration": 23,
    "start_time": "2023-05-22T09:53:42.902Z"
   },
   {
    "duration": 433,
    "start_time": "2023-05-22T09:53:42.927Z"
   },
   {
    "duration": 3,
    "start_time": "2023-05-22T09:53:43.362Z"
   },
   {
    "duration": 6,
    "start_time": "2023-05-22T09:53:43.367Z"
   },
   {
    "duration": 355,
    "start_time": "2023-05-22T09:53:43.375Z"
   },
   {
    "duration": 5,
    "start_time": "2023-05-22T09:53:43.733Z"
   },
   {
    "duration": 97,
    "start_time": "2023-05-22T09:53:43.740Z"
   },
   {
    "duration": 6,
    "start_time": "2023-05-22T09:53:43.926Z"
   },
   {
    "duration": 15,
    "start_time": "2023-05-22T09:53:43.936Z"
   },
   {
    "duration": 10,
    "start_time": "2023-05-22T09:53:43.953Z"
   },
   {
    "duration": 9,
    "start_time": "2023-05-22T09:53:43.965Z"
   },
   {
    "duration": 18,
    "start_time": "2023-05-22T09:53:43.976Z"
   },
   {
    "duration": 14,
    "start_time": "2023-05-22T09:53:43.996Z"
   },
   {
    "duration": 4,
    "start_time": "2023-05-22T09:53:44.011Z"
   },
   {
    "duration": 9,
    "start_time": "2023-05-22T09:53:44.017Z"
   },
   {
    "duration": 11,
    "start_time": "2023-05-22T09:53:44.027Z"
   },
   {
    "duration": 1568,
    "start_time": "2023-05-22T09:53:44.040Z"
   },
   {
    "duration": 1500,
    "start_time": "2023-05-22T09:53:45.609Z"
   },
   {
    "duration": 1472,
    "start_time": "2023-05-22T09:53:47.111Z"
   },
   {
    "duration": 484,
    "start_time": "2023-05-22T09:54:03.595Z"
   },
   {
    "duration": 398,
    "start_time": "2023-05-22T09:54:11.398Z"
   },
   {
    "duration": 4,
    "start_time": "2023-05-22T09:56:41.405Z"
   },
   {
    "duration": 51,
    "start_time": "2023-05-22T09:56:41.944Z"
   },
   {
    "duration": 4,
    "start_time": "2023-05-22T09:56:48.944Z"
   },
   {
    "duration": 45,
    "start_time": "2023-05-22T09:56:49.780Z"
   },
   {
    "duration": 395,
    "start_time": "2023-05-22T09:56:54.280Z"
   },
   {
    "duration": 491,
    "start_time": "2023-05-22T09:57:22.106Z"
   },
   {
    "duration": 395,
    "start_time": "2023-05-22T09:57:38.811Z"
   },
   {
    "duration": 4,
    "start_time": "2023-05-22T09:59:04.100Z"
   },
   {
    "duration": 441,
    "start_time": "2023-05-22T09:59:05.621Z"
   },
   {
    "duration": 394,
    "start_time": "2023-05-22T09:59:16.158Z"
   },
   {
    "duration": 562,
    "start_time": "2023-05-22T09:59:16.722Z"
   },
   {
    "duration": 413,
    "start_time": "2023-05-22T09:59:20.321Z"
   },
   {
    "duration": 22,
    "start_time": "2023-05-22T10:07:08.443Z"
   },
   {
    "duration": 13,
    "start_time": "2023-05-22T10:07:18.503Z"
   },
   {
    "duration": 15,
    "start_time": "2023-05-22T10:07:38.402Z"
   },
   {
    "duration": 125,
    "start_time": "2023-05-22T10:07:56.965Z"
   },
   {
    "duration": 66,
    "start_time": "2023-05-22T10:08:09.785Z"
   },
   {
    "duration": 18,
    "start_time": "2023-05-22T10:08:17.643Z"
   },
   {
    "duration": 13,
    "start_time": "2023-05-22T10:09:52.040Z"
   },
   {
    "duration": 13,
    "start_time": "2023-05-22T10:10:27.596Z"
   },
   {
    "duration": 11,
    "start_time": "2023-05-22T10:10:46.576Z"
   },
   {
    "duration": 20,
    "start_time": "2023-05-22T10:10:56.748Z"
   },
   {
    "duration": 19,
    "start_time": "2023-05-22T10:11:45.742Z"
   },
   {
    "duration": 18,
    "start_time": "2023-05-22T10:11:53.162Z"
   },
   {
    "duration": 14,
    "start_time": "2023-05-22T10:13:45.591Z"
   },
   {
    "duration": 10,
    "start_time": "2023-05-22T10:13:52.044Z"
   },
   {
    "duration": 19,
    "start_time": "2023-05-22T10:14:24.150Z"
   },
   {
    "duration": 16,
    "start_time": "2023-05-22T10:18:37.243Z"
   },
   {
    "duration": 18,
    "start_time": "2023-05-22T10:18:46.717Z"
   },
   {
    "duration": 21,
    "start_time": "2023-05-22T10:20:01.732Z"
   },
   {
    "duration": 16,
    "start_time": "2023-05-22T10:20:03.562Z"
   },
   {
    "duration": 15,
    "start_time": "2023-05-22T10:20:29.991Z"
   },
   {
    "duration": 15,
    "start_time": "2023-05-22T10:20:30.809Z"
   },
   {
    "duration": 25,
    "start_time": "2023-05-22T10:20:31.917Z"
   },
   {
    "duration": 22,
    "start_time": "2023-05-22T10:32:28.843Z"
   },
   {
    "duration": 8,
    "start_time": "2023-05-22T10:47:00.225Z"
   },
   {
    "duration": 4,
    "start_time": "2023-05-22T10:47:01.512Z"
   },
   {
    "duration": 3,
    "start_time": "2023-05-22T10:47:02.440Z"
   },
   {
    "duration": 4,
    "start_time": "2023-05-22T10:47:03.272Z"
   },
   {
    "duration": 7,
    "start_time": "2023-05-22T10:47:04.218Z"
   },
   {
    "duration": 4,
    "start_time": "2023-05-22T10:47:07.582Z"
   },
   {
    "duration": 4,
    "start_time": "2023-05-22T10:47:08.165Z"
   },
   {
    "duration": 5,
    "start_time": "2023-05-22T10:47:11.448Z"
   },
   {
    "duration": 1563,
    "start_time": "2023-05-22T10:47:13.170Z"
   },
   {
    "duration": 1601,
    "start_time": "2023-05-22T10:47:14.735Z"
   },
   {
    "duration": 1522,
    "start_time": "2023-05-22T10:47:16.338Z"
   },
   {
    "duration": 1436,
    "start_time": "2023-05-22T10:47:21.278Z"
   },
   {
    "duration": 39,
    "start_time": "2023-05-22T10:47:22.716Z"
   },
   {
    "duration": 421,
    "start_time": "2023-05-22T10:47:22.756Z"
   },
   {
    "duration": 36,
    "start_time": "2023-05-22T10:47:23.179Z"
   },
   {
    "duration": 223,
    "start_time": "2023-05-22T10:47:23.229Z"
   },
   {
    "duration": 13,
    "start_time": "2023-05-22T10:47:23.455Z"
   },
   {
    "duration": 5,
    "start_time": "2023-05-22T10:47:23.470Z"
   },
   {
    "duration": 435,
    "start_time": "2023-05-22T10:47:23.476Z"
   },
   {
    "duration": 502,
    "start_time": "2023-05-22T10:47:23.913Z"
   },
   {
    "duration": 412,
    "start_time": "2023-05-22T10:47:24.417Z"
   },
   {
    "duration": 24,
    "start_time": "2023-05-22T10:47:24.831Z"
   },
   {
    "duration": 21,
    "start_time": "2023-05-22T10:47:24.858Z"
   },
   {
    "duration": 16,
    "start_time": "2023-05-22T10:47:24.880Z"
   },
   {
    "duration": 30,
    "start_time": "2023-05-22T10:47:24.899Z"
   },
   {
    "duration": 39,
    "start_time": "2023-05-22T10:47:24.932Z"
   },
   {
    "duration": 355,
    "start_time": "2023-05-22T10:47:24.973Z"
   },
   {
    "duration": 5,
    "start_time": "2023-05-22T10:47:25.330Z"
   },
   {
    "duration": 100,
    "start_time": "2023-05-22T10:47:25.337Z"
   },
   {
    "duration": 6,
    "start_time": "2023-05-22T10:47:25.526Z"
   },
   {
    "duration": 11,
    "start_time": "2023-05-22T10:47:25.533Z"
   },
   {
    "duration": 5,
    "start_time": "2023-05-22T10:47:25.546Z"
   },
   {
    "duration": 133,
    "start_time": "2023-05-22T10:47:25.553Z"
   },
   {
    "duration": 0,
    "start_time": "2023-05-22T10:47:25.688Z"
   },
   {
    "duration": 0,
    "start_time": "2023-05-22T10:47:25.690Z"
   },
   {
    "duration": 0,
    "start_time": "2023-05-22T10:47:25.692Z"
   },
   {
    "duration": 0,
    "start_time": "2023-05-22T10:47:25.693Z"
   },
   {
    "duration": 0,
    "start_time": "2023-05-22T10:47:25.695Z"
   },
   {
    "duration": 0,
    "start_time": "2023-05-22T10:47:25.696Z"
   },
   {
    "duration": 0,
    "start_time": "2023-05-22T10:47:25.698Z"
   },
   {
    "duration": 0,
    "start_time": "2023-05-22T10:47:25.699Z"
   },
   {
    "duration": 0,
    "start_time": "2023-05-22T10:47:25.700Z"
   },
   {
    "duration": 5,
    "start_time": "2023-05-22T10:48:56.672Z"
   },
   {
    "duration": 4,
    "start_time": "2023-05-22T10:49:24.335Z"
   },
   {
    "duration": 4,
    "start_time": "2023-05-22T10:50:04.182Z"
   },
   {
    "duration": 6,
    "start_time": "2023-05-22T10:50:05.505Z"
   },
   {
    "duration": 3,
    "start_time": "2023-05-22T10:50:29.069Z"
   },
   {
    "duration": 4,
    "start_time": "2023-05-22T10:50:31.216Z"
   },
   {
    "duration": 6,
    "start_time": "2023-05-22T10:50:41.249Z"
   },
   {
    "duration": 5,
    "start_time": "2023-05-22T10:50:55.362Z"
   },
   {
    "duration": 1456,
    "start_time": "2023-05-22T10:51:03.915Z"
   },
   {
    "duration": 27,
    "start_time": "2023-05-22T10:51:05.374Z"
   },
   {
    "duration": 418,
    "start_time": "2023-05-22T10:51:05.403Z"
   },
   {
    "duration": 48,
    "start_time": "2023-05-22T10:51:05.823Z"
   },
   {
    "duration": 227,
    "start_time": "2023-05-22T10:51:05.873Z"
   },
   {
    "duration": 33,
    "start_time": "2023-05-22T10:51:06.102Z"
   },
   {
    "duration": 11,
    "start_time": "2023-05-22T10:51:06.137Z"
   },
   {
    "duration": 424,
    "start_time": "2023-05-22T10:51:06.150Z"
   },
   {
    "duration": 496,
    "start_time": "2023-05-22T10:51:06.576Z"
   },
   {
    "duration": 440,
    "start_time": "2023-05-22T10:51:07.075Z"
   },
   {
    "duration": 30,
    "start_time": "2023-05-22T10:51:07.516Z"
   },
   {
    "duration": 17,
    "start_time": "2023-05-22T10:51:07.548Z"
   },
   {
    "duration": 17,
    "start_time": "2023-05-22T10:51:07.567Z"
   },
   {
    "duration": 3,
    "start_time": "2023-05-22T10:51:07.586Z"
   },
   {
    "duration": 45,
    "start_time": "2023-05-22T10:51:07.591Z"
   },
   {
    "duration": 209,
    "start_time": "2023-05-22T10:51:07.638Z"
   },
   {
    "duration": 4,
    "start_time": "2023-05-22T10:51:07.928Z"
   },
   {
    "duration": 8,
    "start_time": "2023-05-22T10:51:07.935Z"
   },
   {
    "duration": 94,
    "start_time": "2023-05-22T10:51:07.947Z"
   },
   {
    "duration": 3,
    "start_time": "2023-05-22T10:51:08.043Z"
   },
   {
    "duration": 8,
    "start_time": "2023-05-22T10:51:08.047Z"
   },
   {
    "duration": 8,
    "start_time": "2023-05-22T10:51:08.056Z"
   },
   {
    "duration": 5,
    "start_time": "2023-05-22T10:51:08.065Z"
   },
   {
    "duration": 6,
    "start_time": "2023-05-22T10:51:08.072Z"
   },
   {
    "duration": 8,
    "start_time": "2023-05-22T10:51:08.080Z"
   },
   {
    "duration": 6,
    "start_time": "2023-05-22T10:51:08.090Z"
   },
   {
    "duration": 11,
    "start_time": "2023-05-22T10:51:08.098Z"
   },
   {
    "duration": 15,
    "start_time": "2023-05-22T10:51:08.125Z"
   },
   {
    "duration": 123,
    "start_time": "2023-05-22T10:51:08.142Z"
   },
   {
    "duration": 0,
    "start_time": "2023-05-22T10:51:08.267Z"
   },
   {
    "duration": 0,
    "start_time": "2023-05-22T10:51:08.268Z"
   },
   {
    "duration": 13,
    "start_time": "2023-05-22T10:53:35.140Z"
   },
   {
    "duration": 5,
    "start_time": "2023-05-22T10:54:59.213Z"
   },
   {
    "duration": 18,
    "start_time": "2023-05-22T10:55:02.076Z"
   },
   {
    "duration": 4,
    "start_time": "2023-05-22T10:55:18.966Z"
   },
   {
    "duration": 6,
    "start_time": "2023-05-22T10:55:21.470Z"
   },
   {
    "duration": 4,
    "start_time": "2023-05-22T10:56:30.293Z"
   },
   {
    "duration": 6,
    "start_time": "2023-05-22T10:56:32.040Z"
   },
   {
    "duration": 18,
    "start_time": "2023-05-22T10:56:33.763Z"
   },
   {
    "duration": 6,
    "start_time": "2023-05-22T10:56:48.507Z"
   },
   {
    "duration": 4,
    "start_time": "2023-05-22T10:57:00.086Z"
   },
   {
    "duration": 4,
    "start_time": "2023-05-22T10:57:34.893Z"
   },
   {
    "duration": 4,
    "start_time": "2023-05-22T10:57:36.040Z"
   },
   {
    "duration": 4,
    "start_time": "2023-05-22T10:57:36.412Z"
   },
   {
    "duration": 4,
    "start_time": "2023-05-22T10:57:36.809Z"
   },
   {
    "duration": 6,
    "start_time": "2023-05-22T10:57:37.260Z"
   },
   {
    "duration": 3,
    "start_time": "2023-05-22T10:57:38.775Z"
   },
   {
    "duration": 3,
    "start_time": "2023-05-22T10:57:39.206Z"
   },
   {
    "duration": 6,
    "start_time": "2023-05-22T10:57:41.165Z"
   },
   {
    "duration": 1606,
    "start_time": "2023-05-22T10:57:42.508Z"
   },
   {
    "duration": 1567,
    "start_time": "2023-05-22T10:57:44.117Z"
   },
   {
    "duration": 1553,
    "start_time": "2023-05-22T10:57:45.686Z"
   }
  ],
  "kernelspec": {
   "display_name": "Python 3 (ipykernel)",
   "language": "python",
   "name": "python3"
  },
  "language_info": {
   "codemirror_mode": {
    "name": "ipython",
    "version": 3
   },
   "file_extension": ".py",
   "mimetype": "text/x-python",
   "name": "python",
   "nbconvert_exporter": "python",
   "pygments_lexer": "ipython3",
   "version": "3.9.5"
  },
  "toc": {
   "base_numbering": 1,
   "nav_menu": {},
   "number_sections": true,
   "sideBar": true,
   "skip_h1_title": true,
   "title_cell": "Table of Contents",
   "title_sidebar": "Contents",
   "toc_cell": false,
   "toc_position": {},
   "toc_section_display": true,
   "toc_window_display": false
  }
 },
 "nbformat": 4,
 "nbformat_minor": 4
}
