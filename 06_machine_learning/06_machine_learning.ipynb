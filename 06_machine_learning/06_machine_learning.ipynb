{
 "cells": [
  {
   "cell_type": "markdown",
   "metadata": {},
   "source": [
    "# Рекомендация тарифов"
   ]
  },
  {
   "cell_type": "markdown",
   "metadata": {},
   "source": [
    "В вашем распоряжении данные о поведении клиентов, которые уже перешли на эти тарифы (из проекта курса «Статистический анализ данных»). Нужно построить модель для задачи классификации, которая выберет подходящий тариф. Предобработка данных не понадобится — вы её уже сделали.\n",
    "\n",
    "Постройте модель с максимально большим значением *accuracy*. Чтобы сдать проект успешно, нужно довести долю правильных ответов по крайней мере до 0.75. Проверьте *accuracy* на тестовой выборке самостоятельно."
   ]
  },
  {
   "cell_type": "markdown",
   "metadata": {},
   "source": [
    "Инструкция по выполнению проекта    \n",
    "1.\tОткройте файл с данными и изучите его. Путь к файлу: /datasets/users_behavior.csv. Скачать датасет    \n",
    "2.\tРазделите исходные данные на обучающую, валидационную и тестовую выборки.    \n",
    "3.\tИсследуйте качество разных моделей, меняя гиперпараметры. Кратко напишите выводы исследования.    \n",
    "4.\tПроверьте качество модели на тестовой выборке.    \n",
    "5.\tДополнительное задание: проверьте модели на вменяемость. Ничего страшного, если не получится: эти данные сложнее тех, с которыми вы работали раньше. В следующем курсе подробнее об этом расскажем.    \n",
    "\n",
    "***Описание данных***  \n",
    "Каждый объект в наборе данных — это информация о поведении одного пользователя за месяц. Известно:   \n",
    "•\tсalls — количество звонков,  \n",
    "•\tminutes — суммарная длительность звонков в минутах,  \n",
    "•\tmessages — количество sms-сообщений,  \n",
    "•\tmb_used — израсходованный интернет-трафик в Мб,  \n",
    "•\tis_ultra — каким тарифом пользовался в течение месяца («Ультра» — 1, «Смарт» — 0).  \n"
   ]
  },
  {
   "cell_type": "markdown",
   "metadata": {},
   "source": [
    "## Откроем и изучим файл"
   ]
  },
  {
   "cell_type": "code",
   "execution_count": 28,
   "metadata": {},
   "outputs": [],
   "source": [
    "import pandas as pd # импортируем библиотеку pandas \n",
    "from sklearn.model_selection import train_test_split # импорт метрики из библиотеки sklearn \n",
    "from sklearn.tree import DecisionTreeClassifier # импорт дерева решений\n",
    "from sklearn.ensemble import RandomForestClassifier #  импорт классификатора случайного леса\n",
    "from sklearn.linear_model import LogisticRegression # импорт логистической регрессии \n",
    "from sklearn.metrics import accuracy_score # импорт метрики из библиотеки sklearn\n",
    "from sklearn.metrics import precision_score # импорт метрики из библиотеки sklearn\n",
    "from sklearn.metrics import recall_score # импорт метрики из библиотеки sklearn\n",
    "import warnings  # импорт правление предупреждениями\n",
    "import matplotlib.pyplot as plt # импорт библиотеки matplotlib\n",
    "import seaborn as sns # импорт библиотеки seaborn\n",
    "from tqdm import tqdm # импорт библиотеки tqdm для просмотра прогресса обучения модели\n",
    "from sklearn import tree # импорт библиотеки tqdm для просмотра прогресса обучения модели\n",
    "warnings.filterwarnings('ignore')\n",
    "from sklearn.dummy import DummyClassifier # испорт Dummy для проверки адекватности\n",
    "import numpy as np # импорт библиотеки nump\n",
    "warnings.filterwarnings('ignore')\n",
    "from sklearn.dummy import DummyClassifier"
   ]
  },
  {
   "cell_type": "code",
   "execution_count": 2,
   "metadata": {},
   "outputs": [
    {
     "name": "stdout",
     "output_type": "stream",
     "text": [
      "<class 'pandas.core.frame.DataFrame'>\n",
      "RangeIndex: 3214 entries, 0 to 3213\n",
      "Data columns (total 5 columns):\n",
      " #   Column    Non-Null Count  Dtype  \n",
      "---  ------    --------------  -----  \n",
      " 0   calls     3214 non-null   float64\n",
      " 1   minutes   3214 non-null   float64\n",
      " 2   messages  3214 non-null   float64\n",
      " 3   mb_used   3214 non-null   float64\n",
      " 4   is_ultra  3214 non-null   int64  \n",
      "dtypes: float64(4), int64(1)\n",
      "memory usage: 125.7 KB\n"
     ]
    }
   ],
   "source": [
    "df = pd.read_csv('datasets/users_behavior.csv')\n",
    "df.info() # # читаем csv-файл и записываем его в переменную df"
   ]
  },
  {
   "cell_type": "code",
   "execution_count": 3,
   "metadata": {},
   "outputs": [
    {
     "data": {
      "text/html": [
       "<div>\n",
       "<style scoped>\n",
       "    .dataframe tbody tr th:only-of-type {\n",
       "        vertical-align: middle;\n",
       "    }\n",
       "\n",
       "    .dataframe tbody tr th {\n",
       "        vertical-align: top;\n",
       "    }\n",
       "\n",
       "    .dataframe thead th {\n",
       "        text-align: right;\n",
       "    }\n",
       "</style>\n",
       "<table border=\"1\" class=\"dataframe\">\n",
       "  <thead>\n",
       "    <tr style=\"text-align: right;\">\n",
       "      <th></th>\n",
       "      <th>calls</th>\n",
       "      <th>minutes</th>\n",
       "      <th>messages</th>\n",
       "      <th>mb_used</th>\n",
       "      <th>is_ultra</th>\n",
       "    </tr>\n",
       "  </thead>\n",
       "  <tbody>\n",
       "    <tr>\n",
       "      <th>0</th>\n",
       "      <td>40.0</td>\n",
       "      <td>311.90</td>\n",
       "      <td>83.0</td>\n",
       "      <td>19915.42</td>\n",
       "      <td>0</td>\n",
       "    </tr>\n",
       "    <tr>\n",
       "      <th>1</th>\n",
       "      <td>85.0</td>\n",
       "      <td>516.75</td>\n",
       "      <td>56.0</td>\n",
       "      <td>22696.96</td>\n",
       "      <td>0</td>\n",
       "    </tr>\n",
       "    <tr>\n",
       "      <th>2</th>\n",
       "      <td>77.0</td>\n",
       "      <td>467.66</td>\n",
       "      <td>86.0</td>\n",
       "      <td>21060.45</td>\n",
       "      <td>0</td>\n",
       "    </tr>\n",
       "    <tr>\n",
       "      <th>3</th>\n",
       "      <td>106.0</td>\n",
       "      <td>745.53</td>\n",
       "      <td>81.0</td>\n",
       "      <td>8437.39</td>\n",
       "      <td>1</td>\n",
       "    </tr>\n",
       "    <tr>\n",
       "      <th>4</th>\n",
       "      <td>66.0</td>\n",
       "      <td>418.74</td>\n",
       "      <td>1.0</td>\n",
       "      <td>14502.75</td>\n",
       "      <td>0</td>\n",
       "    </tr>\n",
       "  </tbody>\n",
       "</table>\n",
       "</div>"
      ],
      "text/plain": [
       "   calls  minutes  messages   mb_used  is_ultra\n",
       "0   40.0   311.90      83.0  19915.42         0\n",
       "1   85.0   516.75      56.0  22696.96         0\n",
       "2   77.0   467.66      86.0  21060.45         0\n",
       "3  106.0   745.53      81.0   8437.39         1\n",
       "4   66.0   418.74       1.0  14502.75         0"
      ]
     },
     "execution_count": 3,
     "metadata": {},
     "output_type": "execute_result"
    }
   ],
   "source": [
    "df.head() # смотрим, как выглядит файл, с помощью метода .head()"
   ]
  },
  {
   "cell_type": "markdown",
   "metadata": {},
   "source": [
    "## Разобьем данные на выборки"
   ]
  },
  {
   "cell_type": "markdown",
   "metadata": {},
   "source": [
    "У нас есть два варианта развития событий. Первый - создать двухкомпонентный датасет, где разбиение на две части, на тренировочные данные и тестовые данные. Это уместно в том случае, когда тестовая выборка спрятана. В такой момент рекомендуется 75% данных отвести под обучающую, а 25% — под валидационную. Соотношение 3:1.  \n",
    "\n",
    "Второй путь - это  создать трехкомпонентный датасет, где тренировочные, валидационные и тестовые данные.   \n",
    "На тренировочной части модель учится видеть, на тестовой проверяет качество. Когда модель пытается улучшится, то подыскивает оптимальное значение гиперпараметров. В этом случае есть вероятность переобучения (модель слишком подробно учитывает особенности, из-за чего становится малоэффективна).\n",
    "\n",
    "Чтобы избежать переобучения, мы можем создать валидационную выборку и проверять все этапы на ней.\n",
    "\n",
    "Разобъем данные на три части: обучающую, валидационную и тестовую. Размеры тестового и валидационного наборов обычно равны. Исходные данные рекомендуется разбить в соотношении 3:1:1.\n",
    "\n",
    "Выведем нужные нам столбцы и и присвоим их к новым переменным:"
   ]
  },
  {
   "cell_type": "code",
   "execution_count": 4,
   "metadata": {},
   "outputs": [
    {
     "data": {
      "text/plain": [
       "((3214, 4), (3214,))"
      ]
     },
     "execution_count": 4,
     "metadata": {},
     "output_type": "execute_result"
    }
   ],
   "source": [
    "df_features = df.drop('is_ultra', axis=1) # датасет без target \n",
    "df_target = df['is_ultra'] # датасет с target\n",
    "df_features.shape, df_target.shape # контролируем разбиение, выводим на экран размеры таблиц, которые хранятся в переменных"
   ]
  },
  {
   "cell_type": "markdown",
   "metadata": {},
   "source": [
    "Таргет - это целевой столбец, который мы предсказываем. Мы можем проверить сбалансированность значений, посмотрев распределение значений в этом столбце."
   ]
  },
  {
   "cell_type": "code",
   "execution_count": 5,
   "metadata": {},
   "outputs": [
    {
     "data": {
      "text/plain": [
       "is_ultra\n",
       "0    2229\n",
       "1     985\n",
       "Name: count, dtype: int64"
      ]
     },
     "execution_count": 5,
     "metadata": {},
     "output_type": "execute_result"
    }
   ],
   "source": [
    "df_target.value_counts()"
   ]
  },
  {
   "cell_type": "markdown",
   "metadata": {},
   "source": [
    "Делим агрегированный и тестовый DF с коэффицентом 0,2. Добавим параметр stratify, который позволяет сохранить в выборках то же распределение целевого признака, что и в исходном датасете."
   ]
  },
  {
   "cell_type": "code",
   "execution_count": 6,
   "metadata": {},
   "outputs": [],
   "source": [
    "df_features_train, df_features_test, df_target_train, df_target_test = train_test_split(df_features,\n",
    "                                                                df_target,\n",
    "                                                                test_size=0.2,\n",
    "                                                                random_state=12345, \n",
    "                                                                stratify=df_target)"
   ]
  },
  {
   "cell_type": "markdown",
   "metadata": {},
   "source": [
    "Делим агрегированный на обучающий и валидационный с коэффицентом 0,25."
   ]
  },
  {
   "cell_type": "code",
   "execution_count": 7,
   "metadata": {},
   "outputs": [],
   "source": [
    "df_features_train, df_features_valid, df_target_train, df_target_valid = train_test_split(df_features_train,\n",
    "                                                                df_target_train,\n",
    "                                                                test_size=0.25,\n",
    "                                                                random_state=12345, \n",
    "                                                                stratify=df_target_train)"
   ]
  },
  {
   "cell_type": "code",
   "execution_count": 8,
   "metadata": {},
   "outputs": [
    {
     "name": "stdout",
     "output_type": "stream",
     "text": [
      "Размер тренировочной выборки 1928\n",
      "Размер валидационной выборки 643\n",
      "Размер тестовой выборки 643\n"
     ]
    }
   ],
   "source": [
    "print('Размер тренировочной выборки', df_target_train.shape[0])\n",
    "print('Размер валидационной выборки', df_target_valid.shape[0])\n",
    "print('Размер тестовой выборки', df_target_test.shape[0])"
   ]
  },
  {
   "cell_type": "markdown",
   "metadata": {},
   "source": [
    "## Исследуем модели"
   ]
  },
  {
   "cell_type": "markdown",
   "metadata": {},
   "source": [
    "В sklearn много инструментов работы с данными и моделей, поэтому они разложены по подразделам. В модуле tree (англ. «дерево») находится решающее дерево.\n",
    "Каждой модели в sklearn соответствует отдельная структура данных. DecisionTreeClassifier (англ. «классификатор дерева решений») — это структура данных для классификации деревом решений. \n",
    "\n",
    "Для сравнения гиперпараметров, сразу создадим отдельную таблицу, где будем смотреть наши параметры и точность:"
   ]
  },
  {
   "cell_type": "code",
   "execution_count": 9,
   "metadata": {
    "scrolled": true
   },
   "outputs": [
    {
     "name": "stderr",
     "output_type": "stream",
     "text": [
      "100%|████████████████████████████████████████████████████████████| 10/10 [00:00<00:00, 241.67it/s]\n"
     ]
    }
   ],
   "source": [
    "table_tree = pd.DataFrame({'max_depth':[], 'accuracy':[]})\n",
    "\n",
    "# запускаем цикл с перебором глубины дерева от 1 до 10\n",
    "for depth in tqdm(range(1, 11)):\n",
    "    row = [] # строка для заполнения таблицы\n",
    "    model = DecisionTreeClassifier(random_state=12345, max_depth=depth) # задаём параметры\n",
    "    model.fit(df_features_train, df_target_train) # учим модель \n",
    "    predictions_valid = model.predict(df_features_valid) # предсказываем\n",
    "    accuracy = accuracy_score(df_target_valid, predictions_valid) # смотрим точность\n",
    "    row.extend([depth, accuracy]) # добавляем к строке данные\n",
    "    table_tree.loc[len(table_tree.index)] = row # заполняем таблицу"
   ]
  },
  {
   "cell_type": "code",
   "execution_count": 10,
   "metadata": {},
   "outputs": [
    {
     "data": {
      "text/html": [
       "<div>\n",
       "<style scoped>\n",
       "    .dataframe tbody tr th:only-of-type {\n",
       "        vertical-align: middle;\n",
       "    }\n",
       "\n",
       "    .dataframe tbody tr th {\n",
       "        vertical-align: top;\n",
       "    }\n",
       "\n",
       "    .dataframe thead th {\n",
       "        text-align: right;\n",
       "    }\n",
       "</style>\n",
       "<table border=\"1\" class=\"dataframe\">\n",
       "  <thead>\n",
       "    <tr style=\"text-align: right;\">\n",
       "      <th></th>\n",
       "      <th>max_depth</th>\n",
       "      <th>accuracy</th>\n",
       "    </tr>\n",
       "  </thead>\n",
       "  <tbody>\n",
       "    <tr>\n",
       "      <th>0</th>\n",
       "      <td>1.0</td>\n",
       "      <td>0.758942</td>\n",
       "    </tr>\n",
       "    <tr>\n",
       "      <th>1</th>\n",
       "      <td>2.0</td>\n",
       "      <td>0.783826</td>\n",
       "    </tr>\n",
       "    <tr>\n",
       "      <th>2</th>\n",
       "      <td>3.0</td>\n",
       "      <td>0.804044</td>\n",
       "    </tr>\n",
       "    <tr>\n",
       "      <th>3</th>\n",
       "      <td>4.0</td>\n",
       "      <td>0.804044</td>\n",
       "    </tr>\n",
       "    <tr>\n",
       "      <th>4</th>\n",
       "      <td>5.0</td>\n",
       "      <td>0.816485</td>\n",
       "    </tr>\n",
       "    <tr>\n",
       "      <th>5</th>\n",
       "      <td>6.0</td>\n",
       "      <td>0.802488</td>\n",
       "    </tr>\n",
       "    <tr>\n",
       "      <th>6</th>\n",
       "      <td>7.0</td>\n",
       "      <td>0.807154</td>\n",
       "    </tr>\n",
       "    <tr>\n",
       "      <th>7</th>\n",
       "      <td>8.0</td>\n",
       "      <td>0.805599</td>\n",
       "    </tr>\n",
       "    <tr>\n",
       "      <th>8</th>\n",
       "      <td>9.0</td>\n",
       "      <td>0.811820</td>\n",
       "    </tr>\n",
       "    <tr>\n",
       "      <th>9</th>\n",
       "      <td>10.0</td>\n",
       "      <td>0.805599</td>\n",
       "    </tr>\n",
       "  </tbody>\n",
       "</table>\n",
       "</div>"
      ],
      "text/plain": [
       "   max_depth  accuracy\n",
       "0        1.0  0.758942\n",
       "1        2.0  0.783826\n",
       "2        3.0  0.804044\n",
       "3        4.0  0.804044\n",
       "4        5.0  0.816485\n",
       "5        6.0  0.802488\n",
       "6        7.0  0.807154\n",
       "7        8.0  0.805599\n",
       "8        9.0  0.811820\n",
       "9       10.0  0.805599"
      ]
     },
     "execution_count": 10,
     "metadata": {},
     "output_type": "execute_result"
    }
   ],
   "source": [
    "table_tree.head(10)"
   ]
  },
  {
   "cell_type": "markdown",
   "metadata": {},
   "source": [
    "Попробуем нарисовать дерево, глубиной 3, методом plot_tree"
   ]
  },
  {
   "cell_type": "code",
   "execution_count": 11,
   "metadata": {},
   "outputs": [
    {
     "data": {
      "image/png": "[encoded data removed]",
      "text/plain": [
       "<Figure size 2000x1000 with 1 Axes>"
      ]
     },
     "metadata": {},
     "output_type": "display_data"
    }
   ],
   "source": [
    "model = DecisionTreeClassifier(random_state=123, max_depth=3)  \n",
    "model.fit(df_features_train, df_target_train) \n",
    "fig, axe = plt.subplots(figsize=(20,10))\n",
    "tree.plot_tree(model, ax = axe, fontsize=10);"
   ]
  },
  {
   "cell_type": "code",
   "execution_count": 12,
   "metadata": {},
   "outputs": [
    {
     "data": {
      "text/html": [
       "<div>\n",
       "<style scoped>\n",
       "    .dataframe tbody tr th:only-of-type {\n",
       "        vertical-align: middle;\n",
       "    }\n",
       "\n",
       "    .dataframe tbody tr th {\n",
       "        vertical-align: top;\n",
       "    }\n",
       "\n",
       "    .dataframe thead th {\n",
       "        text-align: right;\n",
       "    }\n",
       "</style>\n",
       "<table border=\"1\" class=\"dataframe\">\n",
       "  <thead>\n",
       "    <tr style=\"text-align: right;\">\n",
       "      <th></th>\n",
       "      <th>max_depth</th>\n",
       "      <th>accuracy</th>\n",
       "      <th>model</th>\n",
       "    </tr>\n",
       "  </thead>\n",
       "  <tbody>\n",
       "    <tr>\n",
       "      <th>4</th>\n",
       "      <td>5.0</td>\n",
       "      <td>0.816485</td>\n",
       "      <td>decision tree</td>\n",
       "    </tr>\n",
       "  </tbody>\n",
       "</table>\n",
       "</div>"
      ],
      "text/plain": [
       "   max_depth  accuracy          model\n",
       "4        5.0  0.816485  decision tree"
      ]
     },
     "execution_count": 12,
     "metadata": {},
     "output_type": "execute_result"
    }
   ],
   "source": [
    "# выдергиваем максимальное значение из таблицы table_tree\n",
    "best_tree = table_tree[table_tree['accuracy'] == table_tree['accuracy'].max()]\n",
    "best_tree['model'] = ['decision tree']\n",
    "best_tree"
   ]
  },
  {
   "cell_type": "markdown",
   "metadata": {},
   "source": [
    "Попробуем следующий алгоритм классификации — случайный лес (англ. random forest). Алгоритм обучает большое количество независимых друг от друга деревьев, а потом принимает решение на основе голосования. Случайный лес помогает улучшить результат предсказания и избежать переобучения.\n",
    "\n",
    "Для сравнения гиперпараметров, создадим отдельную таблицу, где будем смотреть наши параметры и точность:"
   ]
  },
  {
   "cell_type": "code",
   "execution_count": 13,
   "metadata": {},
   "outputs": [
    {
     "name": "stderr",
     "output_type": "stream",
     "text": [
      "100%|███████████████████████████████████████████████████████████████| 5/5 [00:01<00:00,  2.57it/s]\n"
     ]
    }
   ],
   "source": [
    "# запустим цикл с перебором количества деревьев от 10 до 50 с шагом 10\n",
    "table_forest = pd.DataFrame({'n_estimators':[], 'max_depth':[], 'accuracy':[]})\n",
    "for est in tqdm(range(10, 51, 10)):\n",
    "    # и глубины дерева от 1 до 10\n",
    "    for depth in range (1, 11):\n",
    "        row = []\n",
    "        model = RandomForestClassifier(random_state=12345, n_estimators=est, max_depth=depth)\n",
    "        model.fit(df_features_train, df_target_train)\n",
    "        predictions_valid = model.predict(df_features_valid)\n",
    "        accuracy = accuracy_score(df_target_valid, predictions_valid)\n",
    "        row.extend([est, depth, accuracy])\n",
    "        table_forest.loc[len(table_forest.index)] = row"
   ]
  },
  {
   "cell_type": "code",
   "execution_count": 14,
   "metadata": {},
   "outputs": [
    {
     "data": {
      "text/html": [
       "<div>\n",
       "<style scoped>\n",
       "    .dataframe tbody tr th:only-of-type {\n",
       "        vertical-align: middle;\n",
       "    }\n",
       "\n",
       "    .dataframe tbody tr th {\n",
       "        vertical-align: top;\n",
       "    }\n",
       "\n",
       "    .dataframe thead th {\n",
       "        text-align: right;\n",
       "    }\n",
       "</style>\n",
       "<table border=\"1\" class=\"dataframe\">\n",
       "  <thead>\n",
       "    <tr style=\"text-align: right;\">\n",
       "      <th></th>\n",
       "      <th>n_estimators</th>\n",
       "      <th>max_depth</th>\n",
       "      <th>accuracy</th>\n",
       "    </tr>\n",
       "  </thead>\n",
       "  <tbody>\n",
       "    <tr>\n",
       "      <th>0</th>\n",
       "      <td>10.0</td>\n",
       "      <td>1.0</td>\n",
       "      <td>0.751166</td>\n",
       "    </tr>\n",
       "    <tr>\n",
       "      <th>1</th>\n",
       "      <td>10.0</td>\n",
       "      <td>2.0</td>\n",
       "      <td>0.782271</td>\n",
       "    </tr>\n",
       "    <tr>\n",
       "      <th>2</th>\n",
       "      <td>10.0</td>\n",
       "      <td>3.0</td>\n",
       "      <td>0.793157</td>\n",
       "    </tr>\n",
       "    <tr>\n",
       "      <th>3</th>\n",
       "      <td>10.0</td>\n",
       "      <td>4.0</td>\n",
       "      <td>0.821151</td>\n",
       "    </tr>\n",
       "    <tr>\n",
       "      <th>4</th>\n",
       "      <td>10.0</td>\n",
       "      <td>5.0</td>\n",
       "      <td>0.814930</td>\n",
       "    </tr>\n",
       "    <tr>\n",
       "      <th>5</th>\n",
       "      <td>10.0</td>\n",
       "      <td>6.0</td>\n",
       "      <td>0.814930</td>\n",
       "    </tr>\n",
       "    <tr>\n",
       "      <th>6</th>\n",
       "      <td>10.0</td>\n",
       "      <td>7.0</td>\n",
       "      <td>0.819596</td>\n",
       "    </tr>\n",
       "    <tr>\n",
       "      <th>7</th>\n",
       "      <td>10.0</td>\n",
       "      <td>8.0</td>\n",
       "      <td>0.832037</td>\n",
       "    </tr>\n",
       "    <tr>\n",
       "      <th>8</th>\n",
       "      <td>10.0</td>\n",
       "      <td>9.0</td>\n",
       "      <td>0.821151</td>\n",
       "    </tr>\n",
       "    <tr>\n",
       "      <th>9</th>\n",
       "      <td>10.0</td>\n",
       "      <td>10.0</td>\n",
       "      <td>0.810264</td>\n",
       "    </tr>\n",
       "    <tr>\n",
       "      <th>10</th>\n",
       "      <td>20.0</td>\n",
       "      <td>1.0</td>\n",
       "      <td>0.760498</td>\n",
       "    </tr>\n",
       "    <tr>\n",
       "      <th>11</th>\n",
       "      <td>20.0</td>\n",
       "      <td>2.0</td>\n",
       "      <td>0.796267</td>\n",
       "    </tr>\n",
       "    <tr>\n",
       "      <th>12</th>\n",
       "      <td>20.0</td>\n",
       "      <td>3.0</td>\n",
       "      <td>0.818040</td>\n",
       "    </tr>\n",
       "    <tr>\n",
       "      <th>13</th>\n",
       "      <td>20.0</td>\n",
       "      <td>4.0</td>\n",
       "      <td>0.816485</td>\n",
       "    </tr>\n",
       "    <tr>\n",
       "      <th>14</th>\n",
       "      <td>20.0</td>\n",
       "      <td>5.0</td>\n",
       "      <td>0.818040</td>\n",
       "    </tr>\n",
       "    <tr>\n",
       "      <th>15</th>\n",
       "      <td>20.0</td>\n",
       "      <td>6.0</td>\n",
       "      <td>0.819596</td>\n",
       "    </tr>\n",
       "    <tr>\n",
       "      <th>16</th>\n",
       "      <td>20.0</td>\n",
       "      <td>7.0</td>\n",
       "      <td>0.827372</td>\n",
       "    </tr>\n",
       "    <tr>\n",
       "      <th>17</th>\n",
       "      <td>20.0</td>\n",
       "      <td>8.0</td>\n",
       "      <td>0.824261</td>\n",
       "    </tr>\n",
       "    <tr>\n",
       "      <th>18</th>\n",
       "      <td>20.0</td>\n",
       "      <td>9.0</td>\n",
       "      <td>0.824261</td>\n",
       "    </tr>\n",
       "    <tr>\n",
       "      <th>19</th>\n",
       "      <td>20.0</td>\n",
       "      <td>10.0</td>\n",
       "      <td>0.811820</td>\n",
       "    </tr>\n",
       "    <tr>\n",
       "      <th>20</th>\n",
       "      <td>30.0</td>\n",
       "      <td>1.0</td>\n",
       "      <td>0.758942</td>\n",
       "    </tr>\n",
       "    <tr>\n",
       "      <th>21</th>\n",
       "      <td>30.0</td>\n",
       "      <td>2.0</td>\n",
       "      <td>0.793157</td>\n",
       "    </tr>\n",
       "    <tr>\n",
       "      <th>22</th>\n",
       "      <td>30.0</td>\n",
       "      <td>3.0</td>\n",
       "      <td>0.816485</td>\n",
       "    </tr>\n",
       "    <tr>\n",
       "      <th>23</th>\n",
       "      <td>30.0</td>\n",
       "      <td>4.0</td>\n",
       "      <td>0.814930</td>\n",
       "    </tr>\n",
       "    <tr>\n",
       "      <th>24</th>\n",
       "      <td>30.0</td>\n",
       "      <td>5.0</td>\n",
       "      <td>0.821151</td>\n",
       "    </tr>\n",
       "    <tr>\n",
       "      <th>25</th>\n",
       "      <td>30.0</td>\n",
       "      <td>6.0</td>\n",
       "      <td>0.822706</td>\n",
       "    </tr>\n",
       "    <tr>\n",
       "      <th>26</th>\n",
       "      <td>30.0</td>\n",
       "      <td>7.0</td>\n",
       "      <td>0.819596</td>\n",
       "    </tr>\n",
       "    <tr>\n",
       "      <th>27</th>\n",
       "      <td>30.0</td>\n",
       "      <td>8.0</td>\n",
       "      <td>0.830482</td>\n",
       "    </tr>\n",
       "    <tr>\n",
       "      <th>28</th>\n",
       "      <td>30.0</td>\n",
       "      <td>9.0</td>\n",
       "      <td>0.818040</td>\n",
       "    </tr>\n",
       "    <tr>\n",
       "      <th>29</th>\n",
       "      <td>30.0</td>\n",
       "      <td>10.0</td>\n",
       "      <td>0.813375</td>\n",
       "    </tr>\n",
       "    <tr>\n",
       "      <th>30</th>\n",
       "      <td>40.0</td>\n",
       "      <td>1.0</td>\n",
       "      <td>0.758942</td>\n",
       "    </tr>\n",
       "    <tr>\n",
       "      <th>31</th>\n",
       "      <td>40.0</td>\n",
       "      <td>2.0</td>\n",
       "      <td>0.796267</td>\n",
       "    </tr>\n",
       "    <tr>\n",
       "      <th>32</th>\n",
       "      <td>40.0</td>\n",
       "      <td>3.0</td>\n",
       "      <td>0.814930</td>\n",
       "    </tr>\n",
       "    <tr>\n",
       "      <th>33</th>\n",
       "      <td>40.0</td>\n",
       "      <td>4.0</td>\n",
       "      <td>0.816485</td>\n",
       "    </tr>\n",
       "    <tr>\n",
       "      <th>34</th>\n",
       "      <td>40.0</td>\n",
       "      <td>5.0</td>\n",
       "      <td>0.814930</td>\n",
       "    </tr>\n",
       "    <tr>\n",
       "      <th>35</th>\n",
       "      <td>40.0</td>\n",
       "      <td>6.0</td>\n",
       "      <td>0.824261</td>\n",
       "    </tr>\n",
       "    <tr>\n",
       "      <th>36</th>\n",
       "      <td>40.0</td>\n",
       "      <td>7.0</td>\n",
       "      <td>0.818040</td>\n",
       "    </tr>\n",
       "    <tr>\n",
       "      <th>37</th>\n",
       "      <td>40.0</td>\n",
       "      <td>8.0</td>\n",
       "      <td>0.822706</td>\n",
       "    </tr>\n",
       "    <tr>\n",
       "      <th>38</th>\n",
       "      <td>40.0</td>\n",
       "      <td>9.0</td>\n",
       "      <td>0.813375</td>\n",
       "    </tr>\n",
       "    <tr>\n",
       "      <th>39</th>\n",
       "      <td>40.0</td>\n",
       "      <td>10.0</td>\n",
       "      <td>0.822706</td>\n",
       "    </tr>\n",
       "    <tr>\n",
       "      <th>40</th>\n",
       "      <td>50.0</td>\n",
       "      <td>1.0</td>\n",
       "      <td>0.796267</td>\n",
       "    </tr>\n",
       "    <tr>\n",
       "      <th>41</th>\n",
       "      <td>50.0</td>\n",
       "      <td>2.0</td>\n",
       "      <td>0.788491</td>\n",
       "    </tr>\n",
       "    <tr>\n",
       "      <th>42</th>\n",
       "      <td>50.0</td>\n",
       "      <td>3.0</td>\n",
       "      <td>0.813375</td>\n",
       "    </tr>\n",
       "    <tr>\n",
       "      <th>43</th>\n",
       "      <td>50.0</td>\n",
       "      <td>4.0</td>\n",
       "      <td>0.818040</td>\n",
       "    </tr>\n",
       "    <tr>\n",
       "      <th>44</th>\n",
       "      <td>50.0</td>\n",
       "      <td>5.0</td>\n",
       "      <td>0.816485</td>\n",
       "    </tr>\n",
       "    <tr>\n",
       "      <th>45</th>\n",
       "      <td>50.0</td>\n",
       "      <td>6.0</td>\n",
       "      <td>0.824261</td>\n",
       "    </tr>\n",
       "    <tr>\n",
       "      <th>46</th>\n",
       "      <td>50.0</td>\n",
       "      <td>7.0</td>\n",
       "      <td>0.824261</td>\n",
       "    </tr>\n",
       "    <tr>\n",
       "      <th>47</th>\n",
       "      <td>50.0</td>\n",
       "      <td>8.0</td>\n",
       "      <td>0.821151</td>\n",
       "    </tr>\n",
       "    <tr>\n",
       "      <th>48</th>\n",
       "      <td>50.0</td>\n",
       "      <td>9.0</td>\n",
       "      <td>0.821151</td>\n",
       "    </tr>\n",
       "    <tr>\n",
       "      <th>49</th>\n",
       "      <td>50.0</td>\n",
       "      <td>10.0</td>\n",
       "      <td>0.819596</td>\n",
       "    </tr>\n",
       "  </tbody>\n",
       "</table>\n",
       "</div>"
      ],
      "text/plain": [
       "    n_estimators  max_depth  accuracy\n",
       "0           10.0        1.0  0.751166\n",
       "1           10.0        2.0  0.782271\n",
       "2           10.0        3.0  0.793157\n",
       "3           10.0        4.0  0.821151\n",
       "4           10.0        5.0  0.814930\n",
       "5           10.0        6.0  0.814930\n",
       "6           10.0        7.0  0.819596\n",
       "7           10.0        8.0  0.832037\n",
       "8           10.0        9.0  0.821151\n",
       "9           10.0       10.0  0.810264\n",
       "10          20.0        1.0  0.760498\n",
       "11          20.0        2.0  0.796267\n",
       "12          20.0        3.0  0.818040\n",
       "13          20.0        4.0  0.816485\n",
       "14          20.0        5.0  0.818040\n",
       "15          20.0        6.0  0.819596\n",
       "16          20.0        7.0  0.827372\n",
       "17          20.0        8.0  0.824261\n",
       "18          20.0        9.0  0.824261\n",
       "19          20.0       10.0  0.811820\n",
       "20          30.0        1.0  0.758942\n",
       "21          30.0        2.0  0.793157\n",
       "22          30.0        3.0  0.816485\n",
       "23          30.0        4.0  0.814930\n",
       "24          30.0        5.0  0.821151\n",
       "25          30.0        6.0  0.822706\n",
       "26          30.0        7.0  0.819596\n",
       "27          30.0        8.0  0.830482\n",
       "28          30.0        9.0  0.818040\n",
       "29          30.0       10.0  0.813375\n",
       "30          40.0        1.0  0.758942\n",
       "31          40.0        2.0  0.796267\n",
       "32          40.0        3.0  0.814930\n",
       "33          40.0        4.0  0.816485\n",
       "34          40.0        5.0  0.814930\n",
       "35          40.0        6.0  0.824261\n",
       "36          40.0        7.0  0.818040\n",
       "37          40.0        8.0  0.822706\n",
       "38          40.0        9.0  0.813375\n",
       "39          40.0       10.0  0.822706\n",
       "40          50.0        1.0  0.796267\n",
       "41          50.0        2.0  0.788491\n",
       "42          50.0        3.0  0.813375\n",
       "43          50.0        4.0  0.818040\n",
       "44          50.0        5.0  0.816485\n",
       "45          50.0        6.0  0.824261\n",
       "46          50.0        7.0  0.824261\n",
       "47          50.0        8.0  0.821151\n",
       "48          50.0        9.0  0.821151\n",
       "49          50.0       10.0  0.819596"
      ]
     },
     "execution_count": 14,
     "metadata": {},
     "output_type": "execute_result"
    }
   ],
   "source": [
    "table_forest.head(50)"
   ]
  },
  {
   "cell_type": "code",
   "execution_count": 15,
   "metadata": {},
   "outputs": [
    {
     "data": {
      "text/html": [
       "<div>\n",
       "<style scoped>\n",
       "    .dataframe tbody tr th:only-of-type {\n",
       "        vertical-align: middle;\n",
       "    }\n",
       "\n",
       "    .dataframe tbody tr th {\n",
       "        vertical-align: top;\n",
       "    }\n",
       "\n",
       "    .dataframe thead th {\n",
       "        text-align: right;\n",
       "    }\n",
       "</style>\n",
       "<table border=\"1\" class=\"dataframe\">\n",
       "  <thead>\n",
       "    <tr style=\"text-align: right;\">\n",
       "      <th></th>\n",
       "      <th>n_estimators</th>\n",
       "      <th>max_depth</th>\n",
       "      <th>accuracy</th>\n",
       "      <th>model</th>\n",
       "    </tr>\n",
       "  </thead>\n",
       "  <tbody>\n",
       "    <tr>\n",
       "      <th>7</th>\n",
       "      <td>10.0</td>\n",
       "      <td>8.0</td>\n",
       "      <td>0.832037</td>\n",
       "      <td>random forest</td>\n",
       "    </tr>\n",
       "  </tbody>\n",
       "</table>\n",
       "</div>"
      ],
      "text/plain": [
       "   n_estimators  max_depth  accuracy          model\n",
       "7          10.0        8.0  0.832037  random forest"
      ]
     },
     "execution_count": 15,
     "metadata": {},
     "output_type": "execute_result"
    }
   ],
   "source": [
    "# выдергиваем максимальное значение из таблицы best_forest\n",
    "best_forest = table_forest[table_forest['accuracy'] == table_forest['accuracy'].max()]\n",
    "best_forest['model'] = 'random forest'\n",
    "best_forest"
   ]
  },
  {
   "cell_type": "markdown",
   "metadata": {},
   "source": [
    "Попробуем поэксперименторовать с гиперпараметрами, которые отвечают прежде всего за сложность модели.\n",
    "\n",
    "— criterion='gini' — критерий Джини, который показывает меру сходства двух наборов данных. Обучаясь, дерево в каждом узле (на каждой развилке) из возможных вопросов задаёт наилучший. Сейчас оно выбирает тот вопрос, для которого критерий Джини показывает, что отнесённые к левой ветке данные меньше всего похожи на те, что в правой.  \n",
    "— min_samples_leaf (от англ. «минимальное количество объектов в листе»). Листья — это нижние узлы с ответами. А гиперпараметр не разрешает создавать лист, в котором слишком мало объектов обучающей выборки.  \n",
    "— bootstrap — это метод статистической повторной выборки, который включает случайную выборку набора данных с заменой.   "
   ]
  },
  {
   "cell_type": "code",
   "execution_count": 16,
   "metadata": {},
   "outputs": [
    {
     "name": "stdout",
     "output_type": "stream",
     "text": [
      "Количество деревьев 50 Точность 0.8227060653188181\n"
     ]
    }
   ],
   "source": [
    "model = RandomForestClassifier(random_state=12345, n_estimators=est, criterion='entropy', max_depth=8)\n",
    "model.fit(df_features_train, df_target_train)\n",
    "predictions_valid = model.predict(df_features_valid)\n",
    "accuracy = accuracy_score(df_target_valid, predictions_valid)\n",
    "print('Количество деревьев', est,'Точность',accuracy)\n"
   ]
  },
  {
   "cell_type": "code",
   "execution_count": 17,
   "metadata": {},
   "outputs": [
    {
     "name": "stdout",
     "output_type": "stream",
     "text": [
      "Количество деревьев 50 Точность 0.807153965785381\n"
     ]
    }
   ],
   "source": [
    "model = RandomForestClassifier(random_state=12345, n_estimators=est, bootstrap=False)\n",
    "model.fit(df_features_train, df_target_train)\n",
    "predictions_valid = model.predict(df_features_valid)\n",
    "accuracy = accuracy_score(df_target_valid, predictions_valid)\n",
    "print('Количество деревьев', est,'Точность',accuracy)"
   ]
  },
  {
   "cell_type": "code",
   "execution_count": 18,
   "metadata": {},
   "outputs": [
    {
     "name": "stdout",
     "output_type": "stream",
     "text": [
      "Количество деревьев 50 Точность 0.8195956454121306\n"
     ]
    }
   ],
   "source": [
    "model = RandomForestClassifier(n_estimators=est, min_samples_leaf=5)\n",
    "model.fit(df_features_train, df_target_train)\n",
    "predictions_valid = model.predict(df_features_valid)\n",
    "accuracy = accuracy_score(df_target_valid, predictions_valid)\n",
    "print('Количество деревьев', est,'Точность',accuracy)\n"
   ]
  },
  {
   "cell_type": "markdown",
   "metadata": {},
   "source": [
    "Гиперпараметры, которые я взяла, в данной ситуации не дали результата, который превзошел бы параметры по умолчанию."
   ]
  },
  {
   "cell_type": "markdown",
   "metadata": {},
   "source": [
    "Посмотрим на графики с разной глубиной:"
   ]
  },
  {
   "cell_type": "code",
   "execution_count": 19,
   "metadata": {},
   "outputs": [
    {
     "data": {
      "image/png": "[encoded data removed]",
      "text/plain": [
       "<Figure size 800x800 with 1 Axes>"
      ]
     },
     "metadata": {},
     "output_type": "display_data"
    },
    {
     "data": {
      "image/png": "[encoded data removed]",
      "text/plain": [
       "<Figure size 800x800 with 1 Axes>"
      ]
     },
     "metadata": {},
     "output_type": "display_data"
    },
    {
     "data": {
      "image/png": "[encoded data removed]",
      "text/plain": [
       "<Figure size 800x800 with 1 Axes>"
      ]
     },
     "metadata": {},
     "output_type": "display_data"
    },
    {
     "data": {
      "image/png": "[encoded data removed]",
      "text/plain": [
       "<Figure size 800x800 with 1 Axes>"
      ]
     },
     "metadata": {},
     "output_type": "display_data"
    },
    {
     "data": {
      "image/png": "[encoded data removed]",
      "text/plain": [
       "<Figure size 800x800 with 1 Axes>"
      ]
     },
     "metadata": {},
     "output_type": "display_data"
    }
   ],
   "source": [
    "for est in range(10, 51, 10):\n",
    "    table_forest\n",
    "    table_forest[table_forest['n_estimators'] == est].plot.bar(x='max_depth', \n",
    "    y='accuracy', ylim=(0.75, 0.84), figsize=(8,8), color=('blue'))\n",
    "    plt.ylabel('Точность', fontsize=10)\n",
    "    plt.xlabel('Глубина', fontsize=10)\n",
    "    plt.title(f'Для {est} деревьев', fontsize=10)\n",
    "    plt.show()"
   ]
  },
  {
   "cell_type": "markdown",
   "metadata": {},
   "source": [
    "Максимальная точность с количеством деревьев - 10 и глубиной - 8.\n",
    "\n"
   ]
  },
  {
   "cell_type": "markdown",
   "metadata": {},
   "source": [
    "Рассмотрим следующий алгоритм машинного обучения — логистическая регрессия.\n",
    "\n",
    "Если название и «мимикрирует» под задачу регрессии, всё-таки это алгоритм классификации. \n",
    "Логистическая регрессия:\n",
    "Сначала считает, к какому классу близок объект.  \n",
    "В зависимости от ответа выбирает нужный класс: если результат вычисления положительный, то — «1»; отрицательный — «0».  \n",
    "В логистической регрессии параметров мало. Что-либо вызубрить по признакам в формуле не выйдет, поэтому и вероятность переобучения невелика.  \n"
   ]
  },
  {
   "cell_type": "code",
   "execution_count": 20,
   "metadata": {},
   "outputs": [
    {
     "data": {
      "text/plain": [
       "0.7558320373250389"
      ]
     },
     "execution_count": 20,
     "metadata": {},
     "output_type": "execute_result"
    }
   ],
   "source": [
    "model_log = LogisticRegression(random_state=12345, solver='lbfgs', max_iter=1000)\n",
    "model_log.fit(df_features_train, df_target_train)\n",
    "answers_log = model_log.predict(df_features_valid)\n",
    "accuracy_log = accuracy_score(df_target_valid, answers_log)\n",
    "\n",
    "accuracy_log"
   ]
  },
  {
   "cell_type": "code",
   "execution_count": 21,
   "metadata": {},
   "outputs": [
    {
     "data": {
      "text/html": [
       "<div>\n",
       "<style scoped>\n",
       "    .dataframe tbody tr th:only-of-type {\n",
       "        vertical-align: middle;\n",
       "    }\n",
       "\n",
       "    .dataframe tbody tr th {\n",
       "        vertical-align: top;\n",
       "    }\n",
       "\n",
       "    .dataframe thead th {\n",
       "        text-align: right;\n",
       "    }\n",
       "</style>\n",
       "<table border=\"1\" class=\"dataframe\">\n",
       "  <thead>\n",
       "    <tr style=\"text-align: right;\">\n",
       "      <th></th>\n",
       "      <th>model</th>\n",
       "      <th>accuracy</th>\n",
       "    </tr>\n",
       "  </thead>\n",
       "  <tbody>\n",
       "    <tr>\n",
       "      <th>0</th>\n",
       "      <td>logistic regression</td>\n",
       "      <td>0.755832</td>\n",
       "    </tr>\n",
       "  </tbody>\n",
       "</table>\n",
       "</div>"
      ],
      "text/plain": [
       "                 model  accuracy\n",
       "0  logistic regression  0.755832"
      ]
     },
     "execution_count": 21,
     "metadata": {},
     "output_type": "execute_result"
    }
   ],
   "source": [
    "table_logistic = pd.DataFrame({'model': ['logistic regression'], 'accuracy': accuracy_log})\n",
    "table_logistic"
   ]
  },
  {
   "cell_type": "markdown",
   "metadata": {},
   "source": [
    "Получили accuracy чуть ниже, но тоже неплохой результат, учитывая, что он больше 0.75."
   ]
  },
  {
   "cell_type": "markdown",
   "metadata": {},
   "source": [
    "## Проверьте модель на тестовой выборке"
   ]
  },
  {
   "cell_type": "markdown",
   "metadata": {},
   "source": [
    "Мы рассмотрели три алгоритма машинного обучения. Выберем лучший!"
   ]
  },
  {
   "cell_type": "code",
   "execution_count": 24,
   "metadata": {},
   "outputs": [
    {
     "data": {
      "image/png": "[encoded data removed]",
      "text/plain": [
       "<Figure size 1500x800 with 1 Axes>"
      ]
     },
     "metadata": {},
     "output_type": "display_data"
    }
   ],
   "source": [
    "best_model = pd.DataFrame({'model':[], 'n_estimators':[], 'iterations':[], 'max_depth':[], 'accuracy':[]})\n",
    "best_model = pd.concat([best_model, best_tree], ignore_index=True)\n",
    "best_model = pd.concat([best_model, best_forest], ignore_index=True)\n",
    "best_model = pd.concat([best_model, table_logistic], ignore_index=True)\n",
    "\n",
    "best_model = best_model[['model', 'n_estimators', 'iterations', 'max_depth', 'accuracy']]\n",
    "\n",
    "best_model.plot.bar(x='model', y='accuracy', rot=0, ylim=(0.65, 0.85), figsize=(15,8), color='blue')\n",
    "plt.title('Сравнение лучших показателей моделей', fontsize='x-large')\n",
    "plt.xlabel('Модель', fontsize='x-large')\n",
    "plt.ylabel('Точность', fontsize='x-large')\n",
    "plt.show()\n"
   ]
  },
  {
   "cell_type": "markdown",
   "metadata": {},
   "source": [
    "Проверяем лучшую модель Random Forest на тестовой выборке."
   ]
  },
  {
   "cell_type": "code",
   "execution_count": 25,
   "metadata": {},
   "outputs": [
    {
     "name": "stdout",
     "output_type": "stream",
     "text": [
      "Accuracy модели: 0.8180404354587869\n"
     ]
    }
   ],
   "source": [
    "model = RandomForestClassifier(random_state=12345,n_estimators=50, max_depth=10)\n",
    "model.fit(df_features_train, df_target_train)\n",
    "result = model.score(df_features_test, df_target_test) \n",
    "print(\"Accuracy модели:\",result)"
   ]
  },
  {
   "cell_type": "markdown",
   "metadata": {},
   "source": [
    "Вывод:\n",
    "\n",
    "Лучшие показатели на тестовой выборке показала модель случайного леса с точностью 0.818040.\n",
    "\n",
    "Для предсказаний, стоит пользоваться моделью случайного дерева с параметрами:  \n",
    "\n",
    "количество - 50  \n",
    "глубина - 10  "
   ]
  },
  {
   "cell_type": "markdown",
   "metadata": {},
   "source": [
    "## Проверка модели на адекватность"
   ]
  },
  {
   "cell_type": "code",
   "execution_count": 29,
   "metadata": {},
   "outputs": [
    {
     "name": "stdout",
     "output_type": "stream",
     "text": [
      "Точность модели при заполнении более крупной группой - 0: 0.6936236391912908\n"
     ]
    }
   ],
   "source": [
    "adequacy_target_test = df_target_test.copy()\n",
    "adequacy_target_test = adequacy_target_test.transform(lambda x: 0) \n",
    "print(f'Точность модели при заполнении более крупной группой - 0: {accuracy_score(df_target_test, adequacy_target_test)}')\n"
   ]
  },
  {
   "cell_type": "markdown",
   "metadata": {},
   "source": [
    "Таким образом наша модель имеет большую вероятность правильного прогноза! "
   ]
  },
  {
   "cell_type": "code",
   "execution_count": 30,
   "metadata": {},
   "outputs": [
    {
     "name": "stdout",
     "output_type": "stream",
     "text": [
      "Спрогнозированные метки: [0]\n",
      "Тестовый набор: 0.69\n"
     ]
    }
   ],
   "source": [
    "large_group_fiction = DummyClassifier(strategy='most_frequent').fit(df_features_train, df_target_train)\n",
    "more_frequent = large_group_fiction.predict(df_features_test)\n",
    "print(\"Спрогнозированные метки: {}\".format(np.unique(more_frequent)))\n",
    "print(\"Тестовый набор: {:.2f}\".format(large_group_fiction.score(df_features_test, df_target_test)))"
   ]
  },
  {
   "cell_type": "markdown",
   "metadata": {},
   "source": [
    "##  Общий вывод:\n",
    "Проект включает в себя следующие этапы:\n",
    "Открытие и изучение файла с данными.\n",
    "Разделение данных на обучающую, валидационную и тестовую выборки.\n",
    "Исследование различных моделей, изменение гиперпараметров и сравнение их результатов.\n",
    "Оценка качества лучшей модели на тестовой выборке.\n",
    "Лучшие результаты показала модель случайного леса с точностью (accuracy) 0.818040.\n",
    "Дополнительное задание: проверка моделей на вменяемость дала следующий результат: модель случайного леса показала точность при заполнении более крупной группой (0) равной 0.693623, что говорит о высокой вероятности правильных прогнозов, хотя следует также учитывать другие метрики и контекст задачи.\n",
    "Итак, исследование проведено успешно, и важной является использование модели случайного леса с определенными гиперпараметрами (количество деревьев - 50, глубина - 10) для предсказаний. Модель показывает высокую точность на тестовой выборке."
   ]
  },
  {
   "cell_type": "code",
   "execution_count": null,
   "metadata": {},
   "outputs": [],
   "source": []
  }
 ],
 "metadata": {
  "ExecuteTimeLog": [
   {
    "duration": 1344,
    "start_time": "2023-04-19T09:20:16.138Z"
   },
   {
    "duration": 154,
    "start_time": "2023-04-19T09:21:02.541Z"
   },
   {
    "duration": 127,
    "start_time": "2023-04-19T09:21:06.609Z"
   },
   {
    "duration": 15,
    "start_time": "2023-04-19T09:59:24.317Z"
   },
   {
    "duration": 9,
    "start_time": "2023-04-19T10:07:51.971Z"
   },
   {
    "duration": 8,
    "start_time": "2023-04-19T10:08:27.816Z"
   },
   {
    "duration": 1092,
    "start_time": "2023-04-19T10:08:40.885Z"
   },
   {
    "duration": 36,
    "start_time": "2023-04-19T10:08:41.979Z"
   },
   {
    "duration": 21,
    "start_time": "2023-04-19T10:08:42.017Z"
   },
   {
    "duration": 21,
    "start_time": "2023-04-19T10:08:42.040Z"
   },
   {
    "duration": 110,
    "start_time": "2023-04-19T10:41:23.905Z"
   },
   {
    "duration": 4,
    "start_time": "2023-04-19T10:41:46.172Z"
   },
   {
    "duration": 42,
    "start_time": "2023-04-19T10:41:46.342Z"
   },
   {
    "duration": 10,
    "start_time": "2023-04-19T10:41:46.832Z"
   },
   {
    "duration": 3,
    "start_time": "2023-04-19T10:41:48.239Z"
   },
   {
    "duration": 8,
    "start_time": "2023-04-19T10:41:49.476Z"
   },
   {
    "duration": 7,
    "start_time": "2023-04-19T10:41:51.636Z"
   },
   {
    "duration": 5,
    "start_time": "2023-04-19T10:44:18.493Z"
   },
   {
    "duration": 5,
    "start_time": "2023-04-19T10:44:19.246Z"
   },
   {
    "duration": 8,
    "start_time": "2023-04-19T12:03:08.029Z"
   },
   {
    "duration": 495,
    "start_time": "2023-04-19T12:04:54.917Z"
   },
   {
    "duration": 51,
    "start_time": "2023-04-19T12:04:55.414Z"
   },
   {
    "duration": 11,
    "start_time": "2023-04-19T12:04:56.606Z"
   },
   {
    "duration": 4,
    "start_time": "2023-04-19T12:04:56.789Z"
   },
   {
    "duration": 7,
    "start_time": "2023-04-19T12:04:57.315Z"
   },
   {
    "duration": 6,
    "start_time": "2023-04-19T12:04:57.809Z"
   },
   {
    "duration": 33,
    "start_time": "2023-04-19T12:04:59.154Z"
   },
   {
    "duration": 6,
    "start_time": "2023-04-19T12:05:38.315Z"
   },
   {
    "duration": 8,
    "start_time": "2023-04-19T12:06:54.112Z"
   },
   {
    "duration": 8,
    "start_time": "2023-04-19T12:07:06.791Z"
   },
   {
    "duration": 98,
    "start_time": "2023-04-19T12:09:10.681Z"
   },
   {
    "duration": 5,
    "start_time": "2023-04-19T12:09:28.929Z"
   },
   {
    "duration": 1789,
    "start_time": "2023-04-19T12:10:55.521Z"
   },
   {
    "duration": 47,
    "start_time": "2023-04-19T12:10:57.312Z"
   },
   {
    "duration": 22,
    "start_time": "2023-04-19T12:10:57.370Z"
   },
   {
    "duration": 15,
    "start_time": "2023-04-19T12:10:57.393Z"
   },
   {
    "duration": 12,
    "start_time": "2023-04-19T12:10:57.410Z"
   },
   {
    "duration": 32,
    "start_time": "2023-04-19T12:10:57.423Z"
   },
   {
    "duration": 45,
    "start_time": "2023-04-19T12:10:57.456Z"
   },
   {
    "duration": 1559,
    "start_time": "2023-04-19T12:13:28.840Z"
   },
   {
    "duration": 39,
    "start_time": "2023-04-19T12:13:30.401Z"
   },
   {
    "duration": 39,
    "start_time": "2023-04-19T12:13:30.441Z"
   },
   {
    "duration": 48,
    "start_time": "2023-04-19T12:13:30.485Z"
   },
   {
    "duration": 66,
    "start_time": "2023-04-19T12:13:30.535Z"
   },
   {
    "duration": 32,
    "start_time": "2023-04-19T12:13:30.603Z"
   },
   {
    "duration": 69,
    "start_time": "2023-04-19T12:13:30.637Z"
   },
   {
    "duration": 39317,
    "start_time": "2023-04-19T12:14:13.822Z"
   },
   {
    "duration": 4,
    "start_time": "2023-04-19T12:22:41.406Z"
   },
   {
    "duration": 135,
    "start_time": "2023-04-19T12:23:03.883Z"
   },
   {
    "duration": 8,
    "start_time": "2023-04-19T12:24:32.679Z"
   },
   {
    "duration": 39,
    "start_time": "2023-04-19T12:24:33.494Z"
   },
   {
    "duration": 11,
    "start_time": "2023-04-19T12:24:33.735Z"
   },
   {
    "duration": 4,
    "start_time": "2023-04-19T12:24:34.493Z"
   },
   {
    "duration": 16,
    "start_time": "2023-04-19T12:24:34.943Z"
   },
   {
    "duration": 7,
    "start_time": "2023-04-19T12:24:35.422Z"
   },
   {
    "duration": 8,
    "start_time": "2023-04-19T12:24:35.979Z"
   },
   {
    "duration": 4,
    "start_time": "2023-04-19T12:24:36.742Z"
   },
   {
    "duration": 135,
    "start_time": "2023-04-19T12:24:37.299Z"
   },
   {
    "duration": 1450,
    "start_time": "2023-04-19T12:24:57.099Z"
   },
   {
    "duration": 95,
    "start_time": "2023-04-19T12:25:07.700Z"
   },
   {
    "duration": 10,
    "start_time": "2023-04-19T12:26:00.830Z"
   },
   {
    "duration": 119,
    "start_time": "2023-04-19T12:26:55.285Z"
   },
   {
    "duration": 14,
    "start_time": "2023-04-19T12:26:56.816Z"
   },
   {
    "duration": 1495,
    "start_time": "2023-04-19T12:27:06.499Z"
   },
   {
    "duration": 38,
    "start_time": "2023-04-19T12:27:07.997Z"
   },
   {
    "duration": 43,
    "start_time": "2023-04-19T12:27:08.036Z"
   },
   {
    "duration": 5,
    "start_time": "2023-04-19T12:27:08.086Z"
   },
   {
    "duration": 14,
    "start_time": "2023-04-19T12:27:08.094Z"
   },
   {
    "duration": 19,
    "start_time": "2023-04-19T12:27:08.110Z"
   },
   {
    "duration": 7,
    "start_time": "2023-04-19T12:27:08.131Z"
   },
   {
    "duration": 51,
    "start_time": "2023-04-19T12:27:08.140Z"
   },
   {
    "duration": 136,
    "start_time": "2023-04-19T12:27:08.193Z"
   },
   {
    "duration": 8,
    "start_time": "2023-04-19T12:27:08.330Z"
   },
   {
    "duration": 226,
    "start_time": "2023-04-19T12:27:21.307Z"
   },
   {
    "duration": 100,
    "start_time": "2023-04-19T12:27:39.085Z"
   },
   {
    "duration": 125,
    "start_time": "2023-04-19T12:44:30.000Z"
   },
   {
    "duration": 18,
    "start_time": "2023-04-19T12:44:44.378Z"
   },
   {
    "duration": 93,
    "start_time": "2023-04-19T12:47:33.580Z"
   },
   {
    "duration": 36,
    "start_time": "2023-04-19T12:47:34.361Z"
   },
   {
    "duration": 11,
    "start_time": "2023-04-19T12:47:34.660Z"
   },
   {
    "duration": 4,
    "start_time": "2023-04-19T12:47:35.811Z"
   },
   {
    "duration": 18,
    "start_time": "2023-04-19T12:47:36.344Z"
   },
   {
    "duration": 5,
    "start_time": "2023-04-19T12:47:36.937Z"
   },
   {
    "duration": 5,
    "start_time": "2023-04-19T12:47:37.720Z"
   },
   {
    "duration": 4,
    "start_time": "2023-04-19T12:47:38.522Z"
   },
   {
    "duration": 96,
    "start_time": "2023-04-19T12:47:39.116Z"
   },
   {
    "duration": 9,
    "start_time": "2023-04-19T12:47:39.926Z"
   },
   {
    "duration": 24,
    "start_time": "2023-04-19T12:47:40.377Z"
   },
   {
    "duration": 21,
    "start_time": "2023-04-19T12:49:34.744Z"
   },
   {
    "duration": 13,
    "start_time": "2023-04-19T12:50:13.763Z"
   },
   {
    "duration": 13,
    "start_time": "2023-04-19T12:51:09.392Z"
   },
   {
    "duration": 17,
    "start_time": "2023-04-19T12:51:37.656Z"
   },
   {
    "duration": 4,
    "start_time": "2023-04-19T12:53:45.724Z"
   },
   {
    "duration": 505,
    "start_time": "2023-04-19T12:54:02.931Z"
   },
   {
    "duration": 475,
    "start_time": "2023-04-19T12:54:48.269Z"
   },
   {
    "duration": 13,
    "start_time": "2023-04-19T12:57:05.108Z"
   },
   {
    "duration": 19,
    "start_time": "2023-04-19T12:57:27.944Z"
   },
   {
    "duration": 568,
    "start_time": "2023-04-19T12:57:28.725Z"
   },
   {
    "duration": 14,
    "start_time": "2023-04-19T12:58:33.316Z"
   },
   {
    "duration": 492,
    "start_time": "2023-04-19T12:58:33.743Z"
   },
   {
    "duration": 14,
    "start_time": "2023-04-19T12:58:46.583Z"
   },
   {
    "duration": 471,
    "start_time": "2023-04-19T12:58:46.916Z"
   },
   {
    "duration": 14,
    "start_time": "2023-04-19T12:59:23.097Z"
   },
   {
    "duration": 10,
    "start_time": "2023-04-19T13:03:31.237Z"
   },
   {
    "duration": 506,
    "start_time": "2023-04-19T13:03:39.702Z"
   },
   {
    "duration": 66,
    "start_time": "2023-04-19T13:05:07.880Z"
   },
   {
    "duration": 9,
    "start_time": "2023-04-19T13:10:32.615Z"
   },
   {
    "duration": 10,
    "start_time": "2023-04-19T13:10:40.224Z"
   },
   {
    "duration": 1351,
    "start_time": "2023-04-19T13:11:52.582Z"
   },
   {
    "duration": 9,
    "start_time": "2023-04-19T13:12:16.847Z"
   },
   {
    "duration": 20,
    "start_time": "2023-04-19T13:12:37.470Z"
   },
   {
    "duration": 1244,
    "start_time": "2023-04-19T13:12:43.106Z"
   },
   {
    "duration": 1200,
    "start_time": "2023-04-19T13:14:14.298Z"
   },
   {
    "duration": 1232,
    "start_time": "2023-04-19T13:14:34.202Z"
   },
   {
    "duration": 1542,
    "start_time": "2023-04-19T13:14:45.072Z"
   },
   {
    "duration": 37,
    "start_time": "2023-04-19T13:14:46.616Z"
   },
   {
    "duration": 13,
    "start_time": "2023-04-19T13:14:46.654Z"
   },
   {
    "duration": 8,
    "start_time": "2023-04-19T13:14:46.668Z"
   },
   {
    "duration": 16,
    "start_time": "2023-04-19T13:14:46.678Z"
   },
   {
    "duration": 12,
    "start_time": "2023-04-19T13:14:46.695Z"
   },
   {
    "duration": 18,
    "start_time": "2023-04-19T13:14:46.709Z"
   },
   {
    "duration": 15,
    "start_time": "2023-04-19T13:14:46.729Z"
   },
   {
    "duration": 1157,
    "start_time": "2023-04-19T13:14:46.746Z"
   },
   {
    "duration": 134,
    "start_time": "2023-04-19T13:14:47.904Z"
   },
   {
    "duration": 0,
    "start_time": "2023-04-19T13:14:48.048Z"
   },
   {
    "duration": 0,
    "start_time": "2023-04-19T13:14:48.049Z"
   },
   {
    "duration": 1170,
    "start_time": "2023-04-19T13:15:05.738Z"
   },
   {
    "duration": 317,
    "start_time": "2023-04-19T13:21:25.812Z"
   },
   {
    "duration": 242,
    "start_time": "2023-04-19T13:21:44.163Z"
   },
   {
    "duration": 327,
    "start_time": "2023-04-19T13:21:55.782Z"
   },
   {
    "duration": 304,
    "start_time": "2023-04-19T13:22:05.371Z"
   },
   {
    "duration": 143,
    "start_time": "2023-04-19T13:23:05.880Z"
   },
   {
    "duration": 323,
    "start_time": "2023-04-19T13:23:13.327Z"
   },
   {
    "duration": 69,
    "start_time": "2023-04-19T13:23:33.773Z"
   },
   {
    "duration": 174,
    "start_time": "2023-04-19T13:23:42.403Z"
   },
   {
    "duration": 199,
    "start_time": "2023-04-19T13:23:52.655Z"
   },
   {
    "duration": 10,
    "start_time": "2023-04-19T13:49:28.671Z"
   },
   {
    "duration": 1420,
    "start_time": "2023-04-19T15:06:57.699Z"
   },
   {
    "duration": 38,
    "start_time": "2023-04-19T15:06:59.121Z"
   },
   {
    "duration": 19,
    "start_time": "2023-04-19T15:06:59.160Z"
   },
   {
    "duration": 16,
    "start_time": "2023-04-19T15:06:59.180Z"
   },
   {
    "duration": 25,
    "start_time": "2023-04-19T15:06:59.198Z"
   },
   {
    "duration": 18,
    "start_time": "2023-04-19T15:06:59.224Z"
   },
   {
    "duration": 25,
    "start_time": "2023-04-19T15:06:59.243Z"
   },
   {
    "duration": 7,
    "start_time": "2023-04-19T15:06:59.270Z"
   },
   {
    "duration": 214,
    "start_time": "2023-04-19T15:06:59.278Z"
   },
   {
    "duration": 135,
    "start_time": "2023-04-19T15:06:59.493Z"
   },
   {
    "duration": 5,
    "start_time": "2023-04-19T15:17:44.918Z"
   },
   {
    "duration": 10,
    "start_time": "2023-04-19T15:33:11.740Z"
   },
   {
    "duration": 14,
    "start_time": "2023-04-19T15:34:54.226Z"
   },
   {
    "duration": 33,
    "start_time": "2023-04-19T15:35:18.502Z"
   },
   {
    "duration": 329,
    "start_time": "2023-04-19T15:35:39.690Z"
   },
   {
    "duration": 110,
    "start_time": "2023-04-19T15:41:53.501Z"
   },
   {
    "duration": 306,
    "start_time": "2023-04-19T15:42:08.754Z"
   },
   {
    "duration": 307,
    "start_time": "2023-04-19T15:42:20.797Z"
   },
   {
    "duration": 335,
    "start_time": "2023-04-19T15:44:34.599Z"
   },
   {
    "duration": 315,
    "start_time": "2023-04-19T15:44:50.486Z"
   },
   {
    "duration": 330,
    "start_time": "2023-04-19T15:45:11.319Z"
   },
   {
    "duration": 184,
    "start_time": "2023-04-19T15:45:25.785Z"
   },
   {
    "duration": 204,
    "start_time": "2023-04-19T15:46:20.881Z"
   },
   {
    "duration": 190,
    "start_time": "2023-04-19T15:46:40.390Z"
   },
   {
    "duration": 199,
    "start_time": "2023-04-19T15:46:52.340Z"
   },
   {
    "duration": 190,
    "start_time": "2023-04-19T15:47:14.114Z"
   },
   {
    "duration": 3,
    "start_time": "2023-04-19T15:51:50.901Z"
   },
   {
    "duration": 4,
    "start_time": "2023-04-19T15:51:57.856Z"
   },
   {
    "duration": 4,
    "start_time": "2023-04-19T15:52:06.017Z"
   },
   {
    "duration": 12,
    "start_time": "2023-04-19T15:53:03.916Z"
   },
   {
    "duration": 12,
    "start_time": "2023-04-19T16:34:08.201Z"
   },
   {
    "duration": 30,
    "start_time": "2023-04-19T16:34:45.637Z"
   },
   {
    "duration": 31,
    "start_time": "2023-04-19T16:35:10.585Z"
   },
   {
    "duration": 5,
    "start_time": "2023-04-19T16:35:31.481Z"
   },
   {
    "duration": 37,
    "start_time": "2023-04-19T16:35:31.693Z"
   },
   {
    "duration": 13,
    "start_time": "2023-04-19T16:35:31.908Z"
   },
   {
    "duration": 7,
    "start_time": "2023-04-19T16:35:32.556Z"
   },
   {
    "duration": 7,
    "start_time": "2023-04-19T16:35:33.019Z"
   },
   {
    "duration": 8,
    "start_time": "2023-04-19T16:35:33.489Z"
   },
   {
    "duration": 7,
    "start_time": "2023-04-19T16:35:33.938Z"
   },
   {
    "duration": 228,
    "start_time": "2023-04-19T16:35:35.841Z"
   },
   {
    "duration": 3927,
    "start_time": "2023-04-19T16:35:36.489Z"
   },
   {
    "duration": 3882,
    "start_time": "2023-04-19T16:35:52.119Z"
   },
   {
    "duration": 3,
    "start_time": "2023-04-19T16:44:36.417Z"
   },
   {
    "duration": 86,
    "start_time": "2023-04-19T16:44:43.053Z"
   },
   {
    "duration": 3928,
    "start_time": "2023-04-19T16:45:54.491Z"
   },
   {
    "duration": 9,
    "start_time": "2023-04-19T16:46:23.592Z"
   },
   {
    "duration": 4023,
    "start_time": "2023-04-19T16:49:04.441Z"
   },
   {
    "duration": 3954,
    "start_time": "2023-04-20T07:57:30.219Z"
   },
   {
    "duration": 69,
    "start_time": "2023-04-20T07:58:32.561Z"
   },
   {
    "duration": 198,
    "start_time": "2023-04-20T07:58:42.507Z"
   },
   {
    "duration": 74,
    "start_time": "2023-04-20T07:59:18.810Z"
   },
   {
    "duration": 71,
    "start_time": "2023-04-20T07:59:38.292Z"
   },
   {
    "duration": 4109,
    "start_time": "2023-04-20T07:59:46.530Z"
   },
   {
    "duration": 3957,
    "start_time": "2023-04-20T08:02:04.293Z"
   },
   {
    "duration": 3861,
    "start_time": "2023-04-20T08:02:42.331Z"
   },
   {
    "duration": 4042,
    "start_time": "2023-04-20T08:21:28.564Z"
   },
   {
    "duration": 4379,
    "start_time": "2023-04-20T08:24:54.207Z"
   },
   {
    "duration": 108,
    "start_time": "2023-04-20T08:29:13.503Z"
   },
   {
    "duration": 4397,
    "start_time": "2023-04-20T08:29:34.576Z"
   },
   {
    "duration": 4583,
    "start_time": "2023-04-20T08:31:11.425Z"
   },
   {
    "duration": 4397,
    "start_time": "2023-04-20T08:31:52.983Z"
   },
   {
    "duration": 208,
    "start_time": "2023-04-20T08:41:10.305Z"
   },
   {
    "duration": 39,
    "start_time": "2023-04-20T08:41:18.672Z"
   },
   {
    "duration": 91,
    "start_time": "2023-04-20T08:54:54.182Z"
   },
   {
    "duration": 70,
    "start_time": "2023-04-20T08:55:18.907Z"
   },
   {
    "duration": 107,
    "start_time": "2023-04-20T08:55:53.825Z"
   },
   {
    "duration": 8,
    "start_time": "2023-04-20T08:56:20.872Z"
   },
   {
    "duration": 17,
    "start_time": "2023-04-20T08:58:31.237Z"
   },
   {
    "duration": 29,
    "start_time": "2023-04-20T08:58:51.959Z"
   },
   {
    "duration": 18,
    "start_time": "2023-04-20T08:59:29.296Z"
   },
   {
    "duration": 1966,
    "start_time": "2023-04-20T09:01:24.175Z"
   },
   {
    "duration": 1491,
    "start_time": "2023-04-20T09:03:30.777Z"
   },
   {
    "duration": 38,
    "start_time": "2023-04-20T09:03:32.270Z"
   },
   {
    "duration": 12,
    "start_time": "2023-04-20T09:03:32.310Z"
   },
   {
    "duration": 16,
    "start_time": "2023-04-20T09:03:32.324Z"
   },
   {
    "duration": 32,
    "start_time": "2023-04-20T09:03:32.342Z"
   },
   {
    "duration": 21,
    "start_time": "2023-04-20T09:03:32.376Z"
   },
   {
    "duration": 14,
    "start_time": "2023-04-20T09:03:32.398Z"
   },
   {
    "duration": 145,
    "start_time": "2023-04-20T09:03:32.414Z"
   },
   {
    "duration": 0,
    "start_time": "2023-04-20T09:03:32.560Z"
   },
   {
    "duration": 0,
    "start_time": "2023-04-20T09:03:32.561Z"
   },
   {
    "duration": 0,
    "start_time": "2023-04-20T09:03:32.562Z"
   },
   {
    "duration": 1679,
    "start_time": "2023-04-20T09:04:05.415Z"
   },
   {
    "duration": 38,
    "start_time": "2023-04-20T09:04:07.096Z"
   },
   {
    "duration": 14,
    "start_time": "2023-04-20T09:04:07.135Z"
   },
   {
    "duration": 15,
    "start_time": "2023-04-20T09:04:07.150Z"
   },
   {
    "duration": 14,
    "start_time": "2023-04-20T09:04:07.168Z"
   },
   {
    "duration": 22,
    "start_time": "2023-04-20T09:04:07.184Z"
   },
   {
    "duration": 18,
    "start_time": "2023-04-20T09:04:07.208Z"
   },
   {
    "duration": 136,
    "start_time": "2023-04-20T09:04:23.070Z"
   },
   {
    "duration": 0,
    "start_time": "2023-04-20T09:04:23.207Z"
   },
   {
    "duration": 0,
    "start_time": "2023-04-20T09:04:23.208Z"
   },
   {
    "duration": 1347,
    "start_time": "2023-04-20T09:04:37.344Z"
   },
   {
    "duration": 15663,
    "start_time": "2023-04-20T09:04:57.130Z"
   },
   {
    "duration": 15438,
    "start_time": "2023-04-20T09:06:31.229Z"
   },
   {
    "duration": 34,
    "start_time": "2023-04-20T09:07:22.438Z"
   },
   {
    "duration": 3747,
    "start_time": "2023-04-20T09:07:33.218Z"
   },
   {
    "duration": 3963,
    "start_time": "2023-04-20T09:08:02.841Z"
   },
   {
    "duration": 15671,
    "start_time": "2023-04-20T09:08:06.806Z"
   },
   {
    "duration": 3851,
    "start_time": "2023-04-20T09:08:23.035Z"
   },
   {
    "duration": 15279,
    "start_time": "2023-04-20T09:08:26.888Z"
   },
   {
    "duration": 3706,
    "start_time": "2023-04-20T09:08:44.183Z"
   },
   {
    "duration": 202,
    "start_time": "2023-04-20T09:09:44.687Z"
   },
   {
    "duration": 18,
    "start_time": "2023-04-20T09:11:36.382Z"
   },
   {
    "duration": 15875,
    "start_time": "2023-04-20T09:11:42.671Z"
   },
   {
    "duration": 3778,
    "start_time": "2023-04-20T09:12:51.963Z"
   },
   {
    "duration": 9,
    "start_time": "2023-04-20T09:13:20.045Z"
   },
   {
    "duration": 17,
    "start_time": "2023-04-20T09:13:25.916Z"
   },
   {
    "duration": 16,
    "start_time": "2023-04-20T09:13:59.444Z"
   },
   {
    "duration": 16,
    "start_time": "2023-04-20T09:15:19.890Z"
   },
   {
    "duration": 12,
    "start_time": "2023-04-20T09:15:54.707Z"
   },
   {
    "duration": 15,
    "start_time": "2023-04-20T09:16:02.212Z"
   },
   {
    "duration": 31,
    "start_time": "2023-04-20T09:17:41.096Z"
   },
   {
    "duration": 14,
    "start_time": "2023-04-20T09:22:16.288Z"
   },
   {
    "duration": 241,
    "start_time": "2023-04-20T09:24:55.291Z"
   },
   {
    "duration": 307,
    "start_time": "2023-04-20T09:30:12.368Z"
   },
   {
    "duration": 212,
    "start_time": "2023-04-20T09:30:52.300Z"
   },
   {
    "duration": 233,
    "start_time": "2023-04-20T09:31:08.378Z"
   },
   {
    "duration": 14,
    "start_time": "2023-04-20T09:34:12.118Z"
   },
   {
    "duration": 13,
    "start_time": "2023-04-20T09:35:05.186Z"
   },
   {
    "duration": 5,
    "start_time": "2023-04-20T09:36:53.523Z"
   },
   {
    "duration": 35,
    "start_time": "2023-04-20T09:36:54.616Z"
   },
   {
    "duration": 9,
    "start_time": "2023-04-20T09:37:43.586Z"
   },
   {
    "duration": 220,
    "start_time": "2023-04-20T09:38:11.064Z"
   },
   {
    "duration": 12,
    "start_time": "2023-04-20T10:31:16.601Z"
   },
   {
    "duration": 3786,
    "start_time": "2023-04-20T10:31:46.105Z"
   },
   {
    "duration": 3873,
    "start_time": "2023-04-20T10:32:07.892Z"
   },
   {
    "duration": 3761,
    "start_time": "2023-04-20T10:32:29.187Z"
   },
   {
    "duration": 3858,
    "start_time": "2023-04-20T10:32:44.429Z"
   },
   {
    "duration": 80,
    "start_time": "2023-04-20T10:34:06.632Z"
   },
   {
    "duration": 153,
    "start_time": "2023-04-20T10:35:00.054Z"
   },
   {
    "duration": 80,
    "start_time": "2023-04-20T10:36:00.189Z"
   },
   {
    "duration": 78,
    "start_time": "2023-04-20T10:36:09.945Z"
   },
   {
    "duration": 15,
    "start_time": "2023-04-20T10:36:48.838Z"
   },
   {
    "duration": 10,
    "start_time": "2023-04-20T10:37:21.754Z"
   },
   {
    "duration": 262,
    "start_time": "2023-04-20T10:39:30.801Z"
   },
   {
    "duration": 11,
    "start_time": "2023-04-20T10:42:48.677Z"
   },
   {
    "duration": 30,
    "start_time": "2023-04-20T10:51:06.977Z"
   },
   {
    "duration": 12,
    "start_time": "2023-04-20T10:53:53.983Z"
   },
   {
    "duration": 31,
    "start_time": "2023-04-20T10:57:37.613Z"
   },
   {
    "duration": 33,
    "start_time": "2023-04-20T10:57:57.019Z"
   },
   {
    "duration": 34,
    "start_time": "2023-04-20T10:58:05.874Z"
   },
   {
    "duration": 27,
    "start_time": "2023-04-20T10:58:13.915Z"
   },
   {
    "duration": 28,
    "start_time": "2023-04-20T10:58:25.539Z"
   },
   {
    "duration": 28,
    "start_time": "2023-04-20T10:58:38.454Z"
   },
   {
    "duration": 133,
    "start_time": "2023-04-20T12:50:59.430Z"
   },
   {
    "duration": 135,
    "start_time": "2023-04-20T12:52:27.309Z"
   },
   {
    "duration": 139,
    "start_time": "2023-04-20T12:52:41.959Z"
   },
   {
    "duration": 52,
    "start_time": "2023-04-20T12:57:37.494Z"
   },
   {
    "duration": 38,
    "start_time": "2023-04-20T12:57:41.804Z"
   },
   {
    "duration": 181,
    "start_time": "2023-04-20T13:00:22.421Z"
   },
   {
    "duration": 175,
    "start_time": "2023-04-20T13:00:59.490Z"
   },
   {
    "duration": 194,
    "start_time": "2023-04-20T13:01:40.962Z"
   },
   {
    "duration": 183,
    "start_time": "2023-04-20T13:01:50.533Z"
   },
   {
    "duration": 209,
    "start_time": "2023-04-20T13:01:56.362Z"
   },
   {
    "duration": 186,
    "start_time": "2023-04-20T13:02:08.777Z"
   },
   {
    "duration": 191,
    "start_time": "2023-04-20T13:02:24.275Z"
   },
   {
    "duration": 178,
    "start_time": "2023-04-20T13:02:57.223Z"
   },
   {
    "duration": 197,
    "start_time": "2023-04-20T13:03:01.892Z"
   },
   {
    "duration": 194,
    "start_time": "2023-04-20T13:04:07.245Z"
   },
   {
    "duration": 130,
    "start_time": "2023-04-20T13:17:07.676Z"
   },
   {
    "duration": 391,
    "start_time": "2023-04-20T13:17:23.539Z"
   },
   {
    "duration": 10,
    "start_time": "2023-04-20T13:18:18.533Z"
   },
   {
    "duration": 5,
    "start_time": "2023-04-20T13:19:53.838Z"
   },
   {
    "duration": 4,
    "start_time": "2023-04-20T13:21:34.383Z"
   },
   {
    "duration": 1600,
    "start_time": "2023-04-20T13:21:40.215Z"
   },
   {
    "duration": 43,
    "start_time": "2023-04-20T13:21:41.817Z"
   },
   {
    "duration": 16,
    "start_time": "2023-04-20T13:21:41.862Z"
   },
   {
    "duration": 106,
    "start_time": "2023-04-20T13:21:41.881Z"
   },
   {
    "duration": 6,
    "start_time": "2023-04-20T13:21:41.989Z"
   },
   {
    "duration": 7,
    "start_time": "2023-04-20T13:21:41.997Z"
   },
   {
    "duration": 6,
    "start_time": "2023-04-20T13:21:42.006Z"
   },
   {
    "duration": 146,
    "start_time": "2023-04-20T13:21:42.013Z"
   },
   {
    "duration": 0,
    "start_time": "2023-04-20T13:21:42.161Z"
   },
   {
    "duration": 0,
    "start_time": "2023-04-20T13:21:42.163Z"
   },
   {
    "duration": 0,
    "start_time": "2023-04-20T13:21:42.164Z"
   },
   {
    "duration": 0,
    "start_time": "2023-04-20T13:21:42.166Z"
   },
   {
    "duration": 0,
    "start_time": "2023-04-20T13:21:42.166Z"
   },
   {
    "duration": 0,
    "start_time": "2023-04-20T13:21:42.167Z"
   },
   {
    "duration": 0,
    "start_time": "2023-04-20T13:21:42.168Z"
   },
   {
    "duration": 0,
    "start_time": "2023-04-20T13:21:42.169Z"
   },
   {
    "duration": 0,
    "start_time": "2023-04-20T13:21:42.170Z"
   },
   {
    "duration": 6,
    "start_time": "2023-04-20T13:21:47.588Z"
   },
   {
    "duration": 10,
    "start_time": "2023-04-20T13:21:48.895Z"
   },
   {
    "duration": 4,
    "start_time": "2023-04-20T13:23:12.830Z"
   },
   {
    "duration": 190,
    "start_time": "2023-04-20T13:23:19.277Z"
   },
   {
    "duration": 7,
    "start_time": "2023-04-20T13:23:22.274Z"
   },
   {
    "duration": 18,
    "start_time": "2023-04-20T13:24:21.627Z"
   },
   {
    "duration": 15,
    "start_time": "2023-04-20T13:24:35.623Z"
   },
   {
    "duration": 11,
    "start_time": "2023-04-20T13:26:12.935Z"
   },
   {
    "duration": 155,
    "start_time": "2023-04-20T13:27:39.527Z"
   },
   {
    "duration": 5,
    "start_time": "2023-04-20T13:28:08.346Z"
   },
   {
    "duration": 38,
    "start_time": "2023-04-20T13:28:08.973Z"
   },
   {
    "duration": 9,
    "start_time": "2023-04-20T13:28:09.491Z"
   },
   {
    "duration": 5,
    "start_time": "2023-04-20T13:28:12.591Z"
   },
   {
    "duration": 4,
    "start_time": "2023-04-20T13:28:14.439Z"
   },
   {
    "duration": 7,
    "start_time": "2023-04-20T13:28:19.083Z"
   },
   {
    "duration": 7,
    "start_time": "2023-04-20T13:28:20.427Z"
   },
   {
    "duration": 4414,
    "start_time": "2023-04-20T13:28:26.707Z"
   },
   {
    "duration": 16,
    "start_time": "2023-04-20T13:28:40.274Z"
   },
   {
    "duration": 118,
    "start_time": "2023-04-20T13:31:15.969Z"
   },
   {
    "duration": 239,
    "start_time": "2023-04-20T13:31:47.778Z"
   },
   {
    "duration": 9,
    "start_time": "2023-04-20T13:31:49.007Z"
   },
   {
    "duration": 6,
    "start_time": "2023-04-20T13:32:24.279Z"
   },
   {
    "duration": 7,
    "start_time": "2023-04-20T13:32:30.211Z"
   },
   {
    "duration": 10,
    "start_time": "2023-04-20T13:32:54.583Z"
   },
   {
    "duration": 4573,
    "start_time": "2023-04-20T13:33:42.619Z"
   },
   {
    "duration": 15,
    "start_time": "2023-04-20T13:33:47.194Z"
   },
   {
    "duration": 337,
    "start_time": "2023-04-20T13:33:47.211Z"
   },
   {
    "duration": 24,
    "start_time": "2023-04-20T13:33:47.558Z"
   },
   {
    "duration": 10,
    "start_time": "2023-04-20T13:34:24.976Z"
   },
   {
    "duration": 14,
    "start_time": "2023-04-20T13:34:30.146Z"
   },
   {
    "duration": 12,
    "start_time": "2023-04-20T13:34:46.578Z"
   },
   {
    "duration": 26,
    "start_time": "2023-04-20T13:34:50.592Z"
   },
   {
    "duration": 9,
    "start_time": "2023-04-20T13:34:51.005Z"
   },
   {
    "duration": 14,
    "start_time": "2023-04-20T13:34:58.142Z"
   },
   {
    "duration": 12,
    "start_time": "2023-04-20T13:35:23.203Z"
   },
   {
    "duration": 4335,
    "start_time": "2023-04-20T13:36:15.782Z"
   },
   {
    "duration": 1557,
    "start_time": "2023-04-20T13:38:32.532Z"
   },
   {
    "duration": 42,
    "start_time": "2023-04-20T13:38:34.091Z"
   },
   {
    "duration": 28,
    "start_time": "2023-04-20T13:38:34.135Z"
   },
   {
    "duration": 21,
    "start_time": "2023-04-20T13:38:34.164Z"
   },
   {
    "duration": 9,
    "start_time": "2023-04-20T13:38:34.187Z"
   },
   {
    "duration": 22,
    "start_time": "2023-04-20T13:38:34.198Z"
   },
   {
    "duration": 66,
    "start_time": "2023-04-20T13:38:34.222Z"
   },
   {
    "duration": 111,
    "start_time": "2023-04-20T13:38:34.290Z"
   },
   {
    "duration": 8,
    "start_time": "2023-04-20T13:38:34.403Z"
   },
   {
    "duration": 12,
    "start_time": "2023-04-20T13:38:34.413Z"
   },
   {
    "duration": 4356,
    "start_time": "2023-04-20T13:38:34.426Z"
   },
   {
    "duration": 19,
    "start_time": "2023-04-20T13:38:38.783Z"
   },
   {
    "duration": 34,
    "start_time": "2023-04-20T13:38:38.804Z"
   },
   {
    "duration": 14,
    "start_time": "2023-04-20T13:38:38.841Z"
   },
   {
    "duration": 248,
    "start_time": "2023-04-20T13:38:38.857Z"
   },
   {
    "duration": 5,
    "start_time": "2023-04-20T13:38:39.107Z"
   },
   {
    "duration": 232,
    "start_time": "2023-04-20T13:38:39.114Z"
   },
   {
    "duration": 5,
    "start_time": "2023-04-20T13:38:41.432Z"
   },
   {
    "duration": 56,
    "start_time": "2023-04-20T13:38:41.927Z"
   },
   {
    "duration": 10,
    "start_time": "2023-04-20T13:38:42.982Z"
   },
   {
    "duration": 6,
    "start_time": "2023-04-20T13:38:46.819Z"
   },
   {
    "duration": 12,
    "start_time": "2023-04-20T13:38:48.667Z"
   },
   {
    "duration": 6,
    "start_time": "2023-04-20T13:38:53.420Z"
   },
   {
    "duration": 6,
    "start_time": "2023-04-20T13:38:55.225Z"
   },
   {
    "duration": 91,
    "start_time": "2023-04-20T13:39:00.180Z"
   },
   {
    "duration": 13,
    "start_time": "2023-04-20T13:39:10.381Z"
   },
   {
    "duration": 9,
    "start_time": "2023-04-20T13:39:11.887Z"
   },
   {
    "duration": 4392,
    "start_time": "2023-04-20T13:39:16.322Z"
   },
   {
    "duration": 23,
    "start_time": "2023-04-20T13:39:21.952Z"
   },
   {
    "duration": 30,
    "start_time": "2023-04-20T13:39:26.774Z"
   },
   {
    "duration": 8,
    "start_time": "2023-04-20T13:39:32.319Z"
   },
   {
    "duration": 195,
    "start_time": "2023-04-20T13:39:34.827Z"
   },
   {
    "duration": 190,
    "start_time": "2023-04-20T13:40:12.382Z"
   },
   {
    "duration": 6,
    "start_time": "2023-04-20T13:40:20.185Z"
   },
   {
    "duration": 97,
    "start_time": "2023-04-20T13:50:49.537Z"
   },
   {
    "duration": 2,
    "start_time": "2023-04-20T13:53:56.538Z"
   },
   {
    "duration": 10,
    "start_time": "2023-04-20T13:54:22.721Z"
   },
   {
    "duration": 10,
    "start_time": "2023-04-20T13:54:34.022Z"
   },
   {
    "duration": 3,
    "start_time": "2023-04-20T13:54:50.254Z"
   },
   {
    "duration": 18,
    "start_time": "2023-04-20T13:55:25.966Z"
   },
   {
    "duration": 3,
    "start_time": "2023-04-20T13:55:35.072Z"
   },
   {
    "duration": 9,
    "start_time": "2023-04-20T13:56:11.726Z"
   },
   {
    "duration": 11,
    "start_time": "2023-04-20T13:57:31.078Z"
   },
   {
    "duration": 1729,
    "start_time": "2023-04-20T14:01:28.430Z"
   },
   {
    "duration": 19,
    "start_time": "2023-04-20T14:01:56.748Z"
   },
   {
    "duration": 1917,
    "start_time": "2023-04-20T14:02:55.590Z"
   },
   {
    "duration": 18,
    "start_time": "2023-04-20T14:02:57.509Z"
   },
   {
    "duration": 92,
    "start_time": "2023-04-20T14:04:38.853Z"
   },
   {
    "duration": 112,
    "start_time": "2023-04-20T14:04:54.443Z"
   },
   {
    "duration": 103,
    "start_time": "2023-04-20T14:05:10.659Z"
   },
   {
    "duration": 98,
    "start_time": "2023-04-20T14:05:31.398Z"
   },
   {
    "duration": 94,
    "start_time": "2023-04-20T14:05:47.916Z"
   },
   {
    "duration": 50,
    "start_time": "2023-04-20T14:06:17.331Z"
   },
   {
    "duration": 49,
    "start_time": "2023-04-20T14:06:59.431Z"
   },
   {
    "duration": 64,
    "start_time": "2023-04-20T14:07:13.832Z"
   },
   {
    "duration": 100,
    "start_time": "2023-04-20T14:08:15.049Z"
   },
   {
    "duration": 62,
    "start_time": "2023-04-20T14:09:12.569Z"
   },
   {
    "duration": 42,
    "start_time": "2023-04-20T14:09:48.427Z"
   },
   {
    "duration": 42,
    "start_time": "2023-04-20T14:10:41.727Z"
   },
   {
    "duration": 46,
    "start_time": "2023-04-20T14:11:41.148Z"
   },
   {
    "duration": 55,
    "start_time": "2023-04-20T14:17:41.656Z"
   },
   {
    "duration": 52,
    "start_time": "2023-04-20T14:17:58.629Z"
   },
   {
    "duration": 50,
    "start_time": "2023-04-20T14:18:42.471Z"
   },
   {
    "duration": 52,
    "start_time": "2023-04-20T14:18:52.749Z"
   },
   {
    "duration": 53,
    "start_time": "2023-04-20T14:19:05.319Z"
   },
   {
    "duration": 48,
    "start_time": "2023-04-20T14:19:25.977Z"
   },
   {
    "duration": 51,
    "start_time": "2023-04-20T14:19:31.688Z"
   },
   {
    "duration": 50,
    "start_time": "2023-04-20T14:19:54.313Z"
   },
   {
    "duration": 51,
    "start_time": "2023-04-20T14:20:00.074Z"
   },
   {
    "duration": 25,
    "start_time": "2023-04-20T14:20:48.238Z"
   },
   {
    "duration": 24,
    "start_time": "2023-04-20T14:20:56.883Z"
   },
   {
    "duration": 50,
    "start_time": "2023-04-20T14:21:11.208Z"
   },
   {
    "duration": 54,
    "start_time": "2023-04-20T14:21:18.630Z"
   },
   {
    "duration": 49,
    "start_time": "2023-04-20T14:21:23.667Z"
   },
   {
    "duration": 49,
    "start_time": "2023-04-20T14:21:28.792Z"
   },
   {
    "duration": 52,
    "start_time": "2023-04-20T14:21:33.909Z"
   },
   {
    "duration": 49,
    "start_time": "2023-04-20T14:22:14.443Z"
   },
   {
    "duration": 51,
    "start_time": "2023-04-20T14:22:26.165Z"
   },
   {
    "duration": 64,
    "start_time": "2023-04-20T14:22:35.461Z"
   },
   {
    "duration": 51,
    "start_time": "2023-04-20T14:22:43.434Z"
   },
   {
    "duration": 13,
    "start_time": "2023-04-20T14:25:07.412Z"
   },
   {
    "duration": 114,
    "start_time": "2023-04-20T14:26:38.800Z"
   },
   {
    "duration": 125,
    "start_time": "2023-04-20T14:39:06.041Z"
   },
   {
    "duration": 274,
    "start_time": "2023-04-20T14:40:15.436Z"
   },
   {
    "duration": 515,
    "start_time": "2023-04-20T14:40:22.665Z"
   },
   {
    "duration": 486,
    "start_time": "2023-04-20T14:41:05.169Z"
   },
   {
    "duration": 539,
    "start_time": "2023-04-20T14:43:14.311Z"
   },
   {
    "duration": 534,
    "start_time": "2023-04-20T14:43:20.049Z"
   },
   {
    "duration": 12,
    "start_time": "2023-04-20T14:44:39.200Z"
   },
   {
    "duration": 481,
    "start_time": "2023-04-20T14:46:19.039Z"
   },
   {
    "duration": 499,
    "start_time": "2023-04-20T14:46:30.314Z"
   },
   {
    "duration": 17,
    "start_time": "2023-04-20T14:47:18.628Z"
   },
   {
    "duration": 20,
    "start_time": "2023-04-20T14:47:54.294Z"
   },
   {
    "duration": 14,
    "start_time": "2023-04-20T14:48:31.071Z"
   },
   {
    "duration": 10,
    "start_time": "2023-04-20T14:49:05.171Z"
   },
   {
    "duration": 1816,
    "start_time": "2023-04-20T14:49:55.403Z"
   },
   {
    "duration": 910,
    "start_time": "2023-04-20T14:50:04.058Z"
   },
   {
    "duration": 478,
    "start_time": "2023-04-20T14:50:10.733Z"
   },
   {
    "duration": 477,
    "start_time": "2023-04-20T14:50:22.600Z"
   },
   {
    "duration": 499,
    "start_time": "2023-04-20T14:50:28.916Z"
   },
   {
    "duration": 80,
    "start_time": "2023-04-20T14:53:05.042Z"
   },
   {
    "duration": 174,
    "start_time": "2023-04-20T14:53:21.214Z"
   },
   {
    "duration": 182,
    "start_time": "2023-04-20T14:53:46.969Z"
   },
   {
    "duration": 218,
    "start_time": "2023-04-20T14:53:47.400Z"
   },
   {
    "duration": 210,
    "start_time": "2023-04-20T14:53:49.159Z"
   },
   {
    "duration": 11,
    "start_time": "2023-04-20T14:54:27.631Z"
   },
   {
    "duration": 1107,
    "start_time": "2023-04-20T14:55:23.633Z"
   },
   {
    "duration": 961,
    "start_time": "2023-04-20T14:55:43.070Z"
   },
   {
    "duration": 12,
    "start_time": "2023-04-20T15:00:31.399Z"
   },
   {
    "duration": 16,
    "start_time": "2023-04-20T15:00:40.509Z"
   },
   {
    "duration": 3945,
    "start_time": "2023-04-20T15:01:01.093Z"
   },
   {
    "duration": 22,
    "start_time": "2023-04-20T15:01:05.048Z"
   },
   {
    "duration": 958,
    "start_time": "2023-04-20T15:02:38.347Z"
   },
   {
    "duration": 1526,
    "start_time": "2023-04-20T15:03:13.516Z"
   },
   {
    "duration": 38,
    "start_time": "2023-04-20T15:03:15.044Z"
   },
   {
    "duration": 14,
    "start_time": "2023-04-20T15:03:15.084Z"
   },
   {
    "duration": 16,
    "start_time": "2023-04-20T15:03:15.100Z"
   },
   {
    "duration": 26,
    "start_time": "2023-04-20T15:03:15.118Z"
   },
   {
    "duration": 14,
    "start_time": "2023-04-20T15:03:15.145Z"
   },
   {
    "duration": 14,
    "start_time": "2023-04-20T15:03:15.161Z"
   },
   {
    "duration": 88,
    "start_time": "2023-04-20T15:03:15.176Z"
   },
   {
    "duration": 515,
    "start_time": "2023-04-20T15:03:15.265Z"
   },
   {
    "duration": 7,
    "start_time": "2023-04-20T15:03:15.782Z"
   },
   {
    "duration": 33,
    "start_time": "2023-04-20T15:03:15.790Z"
   },
   {
    "duration": 3834,
    "start_time": "2023-04-20T15:03:15.825Z"
   },
   {
    "duration": 16,
    "start_time": "2023-04-20T15:03:19.660Z"
   },
   {
    "duration": 14,
    "start_time": "2023-04-20T15:03:19.678Z"
   },
   {
    "duration": 212,
    "start_time": "2023-04-20T15:03:19.693Z"
   },
   {
    "duration": 224,
    "start_time": "2023-04-20T15:03:19.906Z"
   },
   {
    "duration": 214,
    "start_time": "2023-04-20T15:03:20.132Z"
   },
   {
    "duration": 977,
    "start_time": "2023-04-20T15:03:20.349Z"
   },
   {
    "duration": 35,
    "start_time": "2023-04-20T15:03:21.327Z"
   },
   {
    "duration": 8,
    "start_time": "2023-04-20T15:03:21.363Z"
   },
   {
    "duration": 189,
    "start_time": "2023-04-20T15:03:21.373Z"
   },
   {
    "duration": 5,
    "start_time": "2023-04-20T15:03:21.564Z"
   },
   {
    "duration": 847,
    "start_time": "2023-04-20T15:20:31.310Z"
   },
   {
    "duration": 239,
    "start_time": "2023-04-20T15:21:25.176Z"
   },
   {
    "duration": 485,
    "start_time": "2023-04-20T15:21:31.318Z"
   },
   {
    "duration": 5,
    "start_time": "2023-04-20T15:25:23.293Z"
   },
   {
    "duration": 7,
    "start_time": "2023-04-20T15:25:54.795Z"
   },
   {
    "duration": 99,
    "start_time": "2023-04-20T15:36:05.392Z"
   },
   {
    "duration": 537,
    "start_time": "2023-04-20T15:36:07.561Z"
   },
   {
    "duration": 80,
    "start_time": "2023-04-20T15:37:36.231Z"
   },
   {
    "duration": 518,
    "start_time": "2023-04-20T15:37:38.686Z"
   },
   {
    "duration": 7,
    "start_time": "2023-04-20T15:38:36.369Z"
   },
   {
    "duration": 7,
    "start_time": "2023-04-20T15:38:37.435Z"
   },
   {
    "duration": 101,
    "start_time": "2023-04-20T15:38:41.285Z"
   },
   {
    "duration": 4218,
    "start_time": "2023-04-20T15:39:22.432Z"
   },
   {
    "duration": 3978,
    "start_time": "2023-04-20T15:40:23.240Z"
   },
   {
    "duration": 14,
    "start_time": "2023-04-20T15:40:27.220Z"
   },
   {
    "duration": 1467,
    "start_time": "2023-04-20T15:40:32.080Z"
   },
   {
    "duration": 45,
    "start_time": "2023-04-20T15:40:33.549Z"
   },
   {
    "duration": 12,
    "start_time": "2023-04-20T15:40:33.596Z"
   },
   {
    "duration": 13,
    "start_time": "2023-04-20T15:40:33.609Z"
   },
   {
    "duration": 8,
    "start_time": "2023-04-20T15:40:33.624Z"
   },
   {
    "duration": 13,
    "start_time": "2023-04-20T15:40:33.633Z"
   },
   {
    "duration": 17,
    "start_time": "2023-04-20T15:40:33.647Z"
   },
   {
    "duration": 107,
    "start_time": "2023-04-20T15:40:33.665Z"
   },
   {
    "duration": 126,
    "start_time": "2023-04-20T15:40:33.774Z"
   },
   {
    "duration": 0,
    "start_time": "2023-04-20T15:40:33.902Z"
   },
   {
    "duration": 0,
    "start_time": "2023-04-20T15:40:33.903Z"
   },
   {
    "duration": 0,
    "start_time": "2023-04-20T15:40:33.904Z"
   },
   {
    "duration": 0,
    "start_time": "2023-04-20T15:40:33.904Z"
   },
   {
    "duration": 0,
    "start_time": "2023-04-20T15:40:33.905Z"
   },
   {
    "duration": 0,
    "start_time": "2023-04-20T15:40:33.906Z"
   },
   {
    "duration": 0,
    "start_time": "2023-04-20T15:40:33.907Z"
   },
   {
    "duration": 0,
    "start_time": "2023-04-20T15:40:33.908Z"
   },
   {
    "duration": 0,
    "start_time": "2023-04-20T15:40:33.909Z"
   },
   {
    "duration": 0,
    "start_time": "2023-04-20T15:40:33.910Z"
   },
   {
    "duration": 0,
    "start_time": "2023-04-20T15:40:33.911Z"
   },
   {
    "duration": 0,
    "start_time": "2023-04-20T15:40:33.911Z"
   },
   {
    "duration": 0,
    "start_time": "2023-04-20T15:40:33.912Z"
   },
   {
    "duration": 9,
    "start_time": "2023-04-20T15:47:33.148Z"
   },
   {
    "duration": 8,
    "start_time": "2023-04-20T15:47:34.866Z"
   },
   {
    "duration": 91,
    "start_time": "2023-04-20T15:47:41.304Z"
   },
   {
    "duration": 11,
    "start_time": "2023-04-20T15:47:42.441Z"
   },
   {
    "duration": 8,
    "start_time": "2023-04-20T15:47:43.894Z"
   },
   {
    "duration": 564,
    "start_time": "2023-04-20T15:48:04.889Z"
   },
   {
    "duration": 12,
    "start_time": "2023-04-20T15:48:19.082Z"
   },
   {
    "duration": 3986,
    "start_time": "2023-04-20T15:48:46.306Z"
   },
   {
    "duration": 15,
    "start_time": "2023-04-20T15:48:56.590Z"
   },
   {
    "duration": 10,
    "start_time": "2023-04-20T15:49:01.208Z"
   },
   {
    "duration": 12,
    "start_time": "2023-04-20T15:49:07.106Z"
   },
   {
    "duration": 97,
    "start_time": "2023-04-20T15:49:57.746Z"
   },
   {
    "duration": 97,
    "start_time": "2023-04-20T15:50:07.661Z"
   },
   {
    "duration": 12,
    "start_time": "2023-04-20T15:50:36.645Z"
   },
   {
    "duration": 172,
    "start_time": "2023-04-20T15:51:18.058Z"
   },
   {
    "duration": 214,
    "start_time": "2023-04-20T15:51:49.457Z"
   },
   {
    "duration": 220,
    "start_time": "2023-04-20T15:51:51.481Z"
   },
   {
    "duration": 938,
    "start_time": "2023-04-20T15:52:08.279Z"
   },
   {
    "duration": 28,
    "start_time": "2023-04-20T15:53:35.774Z"
   },
   {
    "duration": 8,
    "start_time": "2023-04-20T15:53:45.421Z"
   },
   {
    "duration": 7,
    "start_time": "2023-04-20T15:54:11.902Z"
   },
   {
    "duration": 183,
    "start_time": "2023-04-20T15:54:53.473Z"
   },
   {
    "duration": 76,
    "start_time": "2023-04-20T15:56:48.882Z"
   },
   {
    "duration": 114,
    "start_time": "2023-04-20T15:56:57.999Z"
   },
   {
    "duration": 10,
    "start_time": "2023-04-20T15:57:06.914Z"
   },
   {
    "duration": 6,
    "start_time": "2023-04-20T15:57:17.386Z"
   },
   {
    "duration": 1373,
    "start_time": "2023-04-20T15:57:31.802Z"
   },
   {
    "duration": 38,
    "start_time": "2023-04-20T15:57:33.177Z"
   },
   {
    "duration": 13,
    "start_time": "2023-04-20T15:57:33.216Z"
   },
   {
    "duration": 5,
    "start_time": "2023-04-20T15:57:33.230Z"
   },
   {
    "duration": 10,
    "start_time": "2023-04-20T15:57:33.237Z"
   },
   {
    "duration": 8,
    "start_time": "2023-04-20T15:57:33.248Z"
   },
   {
    "duration": 7,
    "start_time": "2023-04-20T15:57:33.258Z"
   },
   {
    "duration": 100,
    "start_time": "2023-04-20T15:57:33.266Z"
   },
   {
    "duration": 521,
    "start_time": "2023-04-20T15:57:33.367Z"
   },
   {
    "duration": 8,
    "start_time": "2023-04-20T15:57:33.890Z"
   },
   {
    "duration": 17,
    "start_time": "2023-04-20T15:57:33.899Z"
   },
   {
    "duration": 3890,
    "start_time": "2023-04-20T15:57:33.918Z"
   },
   {
    "duration": 16,
    "start_time": "2023-04-20T15:57:37.809Z"
   },
   {
    "duration": 24,
    "start_time": "2023-04-20T15:57:37.826Z"
   },
   {
    "duration": 178,
    "start_time": "2023-04-20T15:57:37.851Z"
   },
   {
    "duration": 229,
    "start_time": "2023-04-20T15:57:38.030Z"
   },
   {
    "duration": 209,
    "start_time": "2023-04-20T15:57:38.260Z"
   },
   {
    "duration": 934,
    "start_time": "2023-04-20T15:57:38.470Z"
   },
   {
    "duration": 27,
    "start_time": "2023-04-20T15:57:39.406Z"
   },
   {
    "duration": 7,
    "start_time": "2023-04-20T15:57:39.449Z"
   },
   {
    "duration": 180,
    "start_time": "2023-04-20T15:57:39.458Z"
   },
   {
    "duration": 10,
    "start_time": "2023-04-20T15:57:39.640Z"
   },
   {
    "duration": 4,
    "start_time": "2023-04-20T15:57:39.654Z"
   },
   {
    "duration": 470,
    "start_time": "2023-04-20T15:59:58.022Z"
   },
   {
    "duration": 900,
    "start_time": "2023-04-20T16:00:19.498Z"
   },
   {
    "duration": 927,
    "start_time": "2023-04-20T16:00:28.587Z"
   },
   {
    "duration": 870,
    "start_time": "2023-04-20T16:00:39.584Z"
   },
   {
    "duration": 936,
    "start_time": "2023-04-20T16:00:58.388Z"
   },
   {
    "duration": 118,
    "start_time": "2023-04-20T16:03:28.904Z"
   },
   {
    "duration": 84,
    "start_time": "2023-04-20T16:05:03.986Z"
   },
   {
    "duration": 470,
    "start_time": "2023-04-20T16:05:07.412Z"
   },
   {
    "duration": 8,
    "start_time": "2023-04-20T16:05:08.585Z"
   },
   {
    "duration": 14,
    "start_time": "2023-04-20T16:05:12.735Z"
   },
   {
    "duration": 1143,
    "start_time": "2023-04-20T16:05:38.394Z"
   },
   {
    "duration": 86,
    "start_time": "2023-04-20T16:05:51.090Z"
   },
   {
    "duration": 478,
    "start_time": "2023-04-20T16:05:51.992Z"
   },
   {
    "duration": 8,
    "start_time": "2023-04-20T16:05:53.105Z"
   },
   {
    "duration": 1332,
    "start_time": "2023-04-20T16:05:54.015Z"
   },
   {
    "duration": 1379,
    "start_time": "2023-04-20T16:06:37.594Z"
   },
   {
    "duration": 37,
    "start_time": "2023-04-20T16:06:38.974Z"
   },
   {
    "duration": 12,
    "start_time": "2023-04-20T16:06:39.013Z"
   },
   {
    "duration": 7,
    "start_time": "2023-04-20T16:06:39.027Z"
   },
   {
    "duration": 23,
    "start_time": "2023-04-20T16:06:39.037Z"
   },
   {
    "duration": 15,
    "start_time": "2023-04-20T16:06:39.062Z"
   },
   {
    "duration": 7,
    "start_time": "2023-04-20T16:06:39.079Z"
   },
   {
    "duration": 128,
    "start_time": "2023-04-20T16:06:39.088Z"
   },
   {
    "duration": 0,
    "start_time": "2023-04-20T16:06:39.217Z"
   },
   {
    "duration": 0,
    "start_time": "2023-04-20T16:06:39.218Z"
   },
   {
    "duration": 0,
    "start_time": "2023-04-20T16:06:39.219Z"
   },
   {
    "duration": 0,
    "start_time": "2023-04-20T16:06:39.220Z"
   },
   {
    "duration": 0,
    "start_time": "2023-04-20T16:06:39.221Z"
   },
   {
    "duration": 0,
    "start_time": "2023-04-20T16:06:39.222Z"
   },
   {
    "duration": 0,
    "start_time": "2023-04-20T16:06:39.223Z"
   },
   {
    "duration": 0,
    "start_time": "2023-04-20T16:06:39.224Z"
   },
   {
    "duration": 0,
    "start_time": "2023-04-20T16:06:39.225Z"
   },
   {
    "duration": 0,
    "start_time": "2023-04-20T16:06:39.226Z"
   },
   {
    "duration": 0,
    "start_time": "2023-04-20T16:06:39.227Z"
   },
   {
    "duration": 0,
    "start_time": "2023-04-20T16:06:39.228Z"
   },
   {
    "duration": 0,
    "start_time": "2023-04-20T16:06:39.229Z"
   },
   {
    "duration": 0,
    "start_time": "2023-04-20T16:06:39.230Z"
   },
   {
    "duration": 0,
    "start_time": "2023-04-20T16:06:39.249Z"
   },
   {
    "duration": 88,
    "start_time": "2023-04-20T16:07:08.955Z"
   },
   {
    "duration": 503,
    "start_time": "2023-04-20T16:07:13.846Z"
   },
   {
    "duration": 8,
    "start_time": "2023-04-20T16:07:14.905Z"
   },
   {
    "duration": 1147,
    "start_time": "2023-04-20T16:07:16.512Z"
   },
   {
    "duration": 83,
    "start_time": "2023-04-20T16:08:09.206Z"
   },
   {
    "duration": 467,
    "start_time": "2023-04-20T16:08:09.896Z"
   },
   {
    "duration": 7,
    "start_time": "2023-04-20T16:08:10.430Z"
   },
   {
    "duration": 1711,
    "start_time": "2023-04-20T16:08:11.037Z"
   },
   {
    "duration": 474,
    "start_time": "2023-04-20T16:08:57.113Z"
   },
   {
    "duration": 28,
    "start_time": "2023-04-20T16:09:09.847Z"
   },
   {
    "duration": 9,
    "start_time": "2023-04-20T16:10:46.984Z"
   },
   {
    "duration": 11,
    "start_time": "2023-04-20T16:11:40.619Z"
   },
   {
    "duration": 27,
    "start_time": "2023-04-20T16:11:48.392Z"
   },
   {
    "duration": 7,
    "start_time": "2023-04-20T16:11:48.621Z"
   },
   {
    "duration": 11,
    "start_time": "2023-04-20T16:11:49.409Z"
   },
   {
    "duration": 10,
    "start_time": "2023-04-20T16:13:25.110Z"
   },
   {
    "duration": 12,
    "start_time": "2023-04-20T16:13:51.649Z"
   },
   {
    "duration": 13,
    "start_time": "2023-04-20T16:14:03.297Z"
   },
   {
    "duration": 1504,
    "start_time": "2023-04-20T16:14:22.425Z"
   },
   {
    "duration": 39,
    "start_time": "2023-04-20T16:14:23.931Z"
   },
   {
    "duration": 14,
    "start_time": "2023-04-20T16:14:23.971Z"
   },
   {
    "duration": 14,
    "start_time": "2023-04-20T16:14:23.986Z"
   },
   {
    "duration": 16,
    "start_time": "2023-04-20T16:14:24.002Z"
   },
   {
    "duration": 13,
    "start_time": "2023-04-20T16:14:24.020Z"
   },
   {
    "duration": 6,
    "start_time": "2023-04-20T16:14:24.034Z"
   },
   {
    "duration": 93,
    "start_time": "2023-04-20T16:14:24.041Z"
   },
   {
    "duration": 549,
    "start_time": "2023-04-20T16:14:24.135Z"
   },
   {
    "duration": 7,
    "start_time": "2023-04-20T16:14:24.686Z"
   },
   {
    "duration": 18,
    "start_time": "2023-04-20T16:14:24.695Z"
   },
   {
    "duration": 3877,
    "start_time": "2023-04-20T16:14:24.714Z"
   },
   {
    "duration": 15,
    "start_time": "2023-04-20T16:14:28.592Z"
   },
   {
    "duration": 21,
    "start_time": "2023-04-20T16:14:28.609Z"
   },
   {
    "duration": 188,
    "start_time": "2023-04-20T16:14:28.631Z"
   },
   {
    "duration": 221,
    "start_time": "2023-04-20T16:14:28.820Z"
   },
   {
    "duration": 215,
    "start_time": "2023-04-20T16:14:29.043Z"
   },
   {
    "duration": 966,
    "start_time": "2023-04-20T16:14:29.259Z"
   },
   {
    "duration": 36,
    "start_time": "2023-04-20T16:14:30.227Z"
   },
   {
    "duration": 7,
    "start_time": "2023-04-20T16:14:30.265Z"
   },
   {
    "duration": 196,
    "start_time": "2023-04-20T16:14:30.273Z"
   },
   {
    "duration": 0,
    "start_time": "2023-04-20T16:14:30.642Z"
   },
   {
    "duration": 0,
    "start_time": "2023-04-20T16:14:30.649Z"
   },
   {
    "duration": 0,
    "start_time": "2023-04-20T16:14:30.650Z"
   },
   {
    "duration": 168,
    "start_time": "2023-04-20T16:14:34.789Z"
   },
   {
    "duration": 8,
    "start_time": "2023-04-20T16:15:26.755Z"
   },
   {
    "duration": 173,
    "start_time": "2023-04-20T16:15:27.746Z"
   },
   {
    "duration": 5,
    "start_time": "2023-04-20T16:15:28.420Z"
   },
   {
    "duration": 17,
    "start_time": "2023-04-20T16:15:28.700Z"
   },
   {
    "duration": 170,
    "start_time": "2023-04-20T16:15:28.931Z"
   },
   {
    "duration": 72,
    "start_time": "2023-04-20T16:17:04.390Z"
   },
   {
    "duration": 84,
    "start_time": "2023-04-20T16:17:25.229Z"
   },
   {
    "duration": 15,
    "start_time": "2023-04-20T16:17:42.309Z"
   },
   {
    "duration": 175,
    "start_time": "2023-04-20T16:17:50.797Z"
   },
   {
    "duration": 213,
    "start_time": "2023-04-20T16:18:34.485Z"
   },
   {
    "duration": 264,
    "start_time": "2023-04-20T16:24:42.823Z"
   },
   {
    "duration": 181,
    "start_time": "2023-04-20T16:24:48.052Z"
   },
   {
    "duration": 251,
    "start_time": "2023-04-20T16:24:53.851Z"
   },
   {
    "duration": 40,
    "start_time": "2023-04-20T16:27:55.205Z"
   },
   {
    "duration": 38,
    "start_time": "2023-04-20T16:28:00.893Z"
   },
   {
    "duration": 227,
    "start_time": "2023-04-20T16:28:14.532Z"
   },
   {
    "duration": 173,
    "start_time": "2023-04-20T16:28:44.589Z"
   },
   {
    "duration": 161,
    "start_time": "2023-04-20T16:30:17.812Z"
   },
   {
    "duration": 262,
    "start_time": "2023-04-20T16:30:18.294Z"
   },
   {
    "duration": 176,
    "start_time": "2023-04-20T16:30:18.789Z"
   },
   {
    "duration": 902,
    "start_time": "2023-04-20T16:30:19.706Z"
   },
   {
    "duration": 4,
    "start_time": "2023-04-20T16:46:55.835Z"
   },
   {
    "duration": 33,
    "start_time": "2023-04-20T16:46:56.420Z"
   },
   {
    "duration": 8,
    "start_time": "2023-04-20T16:46:57.285Z"
   },
   {
    "duration": 5,
    "start_time": "2023-04-20T16:46:58.426Z"
   },
   {
    "duration": 5,
    "start_time": "2023-04-20T16:46:58.953Z"
   },
   {
    "duration": 6,
    "start_time": "2023-04-20T16:46:59.447Z"
   },
   {
    "duration": 6,
    "start_time": "2023-04-20T16:47:00.012Z"
   },
   {
    "duration": 84,
    "start_time": "2023-04-20T16:47:01.935Z"
   },
   {
    "duration": 493,
    "start_time": "2023-04-20T16:47:02.656Z"
   },
   {
    "duration": 8,
    "start_time": "2023-04-20T16:47:04.218Z"
   },
   {
    "duration": 10,
    "start_time": "2023-04-20T16:47:04.717Z"
   },
   {
    "duration": 3808,
    "start_time": "2023-04-20T16:47:05.840Z"
   },
   {
    "duration": 15,
    "start_time": "2023-04-20T16:47:09.650Z"
   },
   {
    "duration": 14,
    "start_time": "2023-04-20T16:47:09.666Z"
   },
   {
    "duration": 168,
    "start_time": "2023-04-20T16:47:10.711Z"
   },
   {
    "duration": 299,
    "start_time": "2023-04-20T16:47:11.289Z"
   },
   {
    "duration": 201,
    "start_time": "2023-04-20T16:47:11.589Z"
   },
   {
    "duration": 836,
    "start_time": "2023-04-20T16:47:12.001Z"
   },
   {
    "duration": 28,
    "start_time": "2023-04-20T16:47:12.839Z"
   },
   {
    "duration": 7,
    "start_time": "2023-04-20T16:47:12.989Z"
   },
   {
    "duration": 170,
    "start_time": "2023-04-20T16:47:14.181Z"
   },
   {
    "duration": 5,
    "start_time": "2023-04-20T16:47:15.458Z"
   },
   {
    "duration": 173,
    "start_time": "2023-04-20T16:47:15.909Z"
   },
   {
    "duration": 4,
    "start_time": "2023-04-20T16:47:50.341Z"
   },
   {
    "duration": 1579,
    "start_time": "2023-04-20T16:47:55.029Z"
   },
   {
    "duration": 0,
    "start_time": "2023-04-20T16:47:56.610Z"
   },
   {
    "duration": 0,
    "start_time": "2023-04-20T16:47:56.611Z"
   },
   {
    "duration": 0,
    "start_time": "2023-04-20T16:47:56.612Z"
   },
   {
    "duration": 0,
    "start_time": "2023-04-20T16:47:56.613Z"
   },
   {
    "duration": 0,
    "start_time": "2023-04-20T16:47:56.614Z"
   },
   {
    "duration": 0,
    "start_time": "2023-04-20T16:47:56.615Z"
   },
   {
    "duration": 0,
    "start_time": "2023-04-20T16:47:56.616Z"
   },
   {
    "duration": 0,
    "start_time": "2023-04-20T16:47:56.617Z"
   },
   {
    "duration": 0,
    "start_time": "2023-04-20T16:47:56.618Z"
   },
   {
    "duration": 0,
    "start_time": "2023-04-20T16:47:56.618Z"
   },
   {
    "duration": 0,
    "start_time": "2023-04-20T16:47:56.619Z"
   },
   {
    "duration": 0,
    "start_time": "2023-04-20T16:47:56.620Z"
   },
   {
    "duration": 0,
    "start_time": "2023-04-20T16:47:56.621Z"
   },
   {
    "duration": 0,
    "start_time": "2023-04-20T16:47:56.622Z"
   },
   {
    "duration": 0,
    "start_time": "2023-04-20T16:47:56.623Z"
   },
   {
    "duration": 0,
    "start_time": "2023-04-20T16:47:56.649Z"
   },
   {
    "duration": 0,
    "start_time": "2023-04-20T16:47:56.650Z"
   },
   {
    "duration": 0,
    "start_time": "2023-04-20T16:47:56.651Z"
   },
   {
    "duration": 0,
    "start_time": "2023-04-20T16:47:56.652Z"
   },
   {
    "duration": 0,
    "start_time": "2023-04-20T16:47:56.652Z"
   },
   {
    "duration": 0,
    "start_time": "2023-04-20T16:47:56.653Z"
   },
   {
    "duration": 0,
    "start_time": "2023-04-20T16:47:56.654Z"
   },
   {
    "duration": 10,
    "start_time": "2023-04-20T16:47:58.316Z"
   },
   {
    "duration": 37,
    "start_time": "2023-04-20T16:47:58.597Z"
   },
   {
    "duration": 12,
    "start_time": "2023-04-20T16:47:58.991Z"
   },
   {
    "duration": 11,
    "start_time": "2023-04-20T16:48:16.124Z"
   },
   {
    "duration": 10,
    "start_time": "2023-04-20T16:48:24.101Z"
   },
   {
    "duration": 10,
    "start_time": "2023-04-20T16:48:28.292Z"
   },
   {
    "duration": 4,
    "start_time": "2023-04-20T16:48:34.501Z"
   },
   {
    "duration": 35,
    "start_time": "2023-04-20T16:48:36.153Z"
   },
   {
    "duration": 4,
    "start_time": "2023-04-20T16:48:44.804Z"
   },
   {
    "duration": 35,
    "start_time": "2023-04-20T16:48:45.585Z"
   },
   {
    "duration": 4,
    "start_time": "2023-04-20T16:50:40.598Z"
   },
   {
    "duration": 35,
    "start_time": "2023-04-20T16:50:41.597Z"
   },
   {
    "duration": 9,
    "start_time": "2023-04-20T16:54:57.099Z"
   },
   {
    "duration": 8,
    "start_time": "2023-04-20T16:55:01.914Z"
   },
   {
    "duration": 5,
    "start_time": "2023-04-20T16:55:07.582Z"
   },
   {
    "duration": 5,
    "start_time": "2023-04-20T16:55:14.470Z"
   },
   {
    "duration": 5,
    "start_time": "2023-04-20T17:01:04.753Z"
   },
   {
    "duration": 6,
    "start_time": "2023-04-20T17:01:53.254Z"
   },
   {
    "duration": 6,
    "start_time": "2023-04-20T17:02:08.571Z"
   },
   {
    "duration": 78,
    "start_time": "2023-04-20T17:03:02.893Z"
   },
   {
    "duration": 8,
    "start_time": "2023-04-20T17:11:14.310Z"
   },
   {
    "duration": 9,
    "start_time": "2023-04-20T17:11:16.458Z"
   },
   {
    "duration": 86,
    "start_time": "2023-04-20T17:11:22.824Z"
   },
   {
    "duration": 528,
    "start_time": "2023-04-20T17:11:23.422Z"
   },
   {
    "duration": 8,
    "start_time": "2023-04-20T17:11:24.271Z"
   },
   {
    "duration": 10,
    "start_time": "2023-04-20T17:11:25.261Z"
   },
   {
    "duration": 3855,
    "start_time": "2023-04-20T17:11:26.657Z"
   },
   {
    "duration": 3745,
    "start_time": "2023-04-20T17:17:38.688Z"
   },
   {
    "duration": 15,
    "start_time": "2023-04-20T17:17:42.435Z"
   },
   {
    "duration": 9,
    "start_time": "2023-04-20T17:17:54.896Z"
   },
   {
    "duration": 171,
    "start_time": "2023-04-20T17:18:52.660Z"
   },
   {
    "duration": 316,
    "start_time": "2023-04-20T17:18:54.401Z"
   },
   {
    "duration": 198,
    "start_time": "2023-04-20T17:18:55.706Z"
   },
   {
    "duration": 911,
    "start_time": "2023-04-20T17:18:57.760Z"
   },
   {
    "duration": 69,
    "start_time": "2023-04-20T17:21:04.868Z"
   },
   {
    "duration": 837,
    "start_time": "2023-04-20T17:22:55.284Z"
   },
   {
    "duration": 27,
    "start_time": "2023-04-20T17:27:56.969Z"
   },
   {
    "duration": 8,
    "start_time": "2023-04-20T17:27:59.957Z"
   },
   {
    "duration": 72,
    "start_time": "2023-04-20T17:28:37.653Z"
   },
   {
    "duration": 165,
    "start_time": "2023-04-20T17:29:39.446Z"
   },
   {
    "duration": 179,
    "start_time": "2023-04-20T17:30:22.877Z"
   },
   {
    "duration": 124,
    "start_time": "2023-04-20T17:31:48.349Z"
   },
   {
    "duration": 186,
    "start_time": "2023-04-20T17:31:55.462Z"
   },
   {
    "duration": 170,
    "start_time": "2023-04-20T17:32:21.149Z"
   },
   {
    "duration": 6,
    "start_time": "2023-04-20T17:32:54.810Z"
   },
   {
    "duration": 6,
    "start_time": "2023-04-20T17:44:55.203Z"
   },
   {
    "duration": 5,
    "start_time": "2023-04-20T17:45:09.254Z"
   },
   {
    "duration": 5,
    "start_time": "2023-04-20T17:45:15.691Z"
   },
   {
    "duration": 5,
    "start_time": "2023-04-20T17:46:50.846Z"
   },
   {
    "duration": 1392,
    "start_time": "2023-04-20T17:51:48.395Z"
   },
   {
    "duration": 43,
    "start_time": "2023-04-20T17:51:49.789Z"
   },
   {
    "duration": 14,
    "start_time": "2023-04-20T17:51:49.836Z"
   },
   {
    "duration": 9,
    "start_time": "2023-04-20T17:51:49.852Z"
   },
   {
    "duration": 18,
    "start_time": "2023-04-20T17:51:49.862Z"
   },
   {
    "duration": 19,
    "start_time": "2023-04-20T17:51:49.882Z"
   },
   {
    "duration": 19,
    "start_time": "2023-04-20T17:51:49.903Z"
   },
   {
    "duration": 88,
    "start_time": "2023-04-20T17:51:49.924Z"
   },
   {
    "duration": 505,
    "start_time": "2023-04-20T17:51:50.014Z"
   },
   {
    "duration": 8,
    "start_time": "2023-04-20T17:51:50.521Z"
   },
   {
    "duration": 25,
    "start_time": "2023-04-20T17:51:50.531Z"
   },
   {
    "duration": 3946,
    "start_time": "2023-04-20T17:51:50.557Z"
   },
   {
    "duration": 23,
    "start_time": "2023-04-20T17:51:54.505Z"
   },
   {
    "duration": 28,
    "start_time": "2023-04-20T17:51:54.531Z"
   },
   {
    "duration": 255,
    "start_time": "2023-04-20T17:51:54.562Z"
   },
   {
    "duration": 348,
    "start_time": "2023-04-20T17:51:54.819Z"
   },
   {
    "duration": 223,
    "start_time": "2023-04-20T17:51:55.169Z"
   },
   {
    "duration": 1052,
    "start_time": "2023-04-20T17:51:55.394Z"
   },
   {
    "duration": 32,
    "start_time": "2023-04-20T17:51:56.449Z"
   },
   {
    "duration": 11,
    "start_time": "2023-04-20T17:51:56.483Z"
   },
   {
    "duration": 242,
    "start_time": "2023-04-20T17:51:56.496Z"
   },
   {
    "duration": 240,
    "start_time": "2023-04-20T17:51:56.739Z"
   },
   {
    "duration": 8,
    "start_time": "2023-04-20T17:51:56.981Z"
   },
   {
    "duration": 15,
    "start_time": "2023-04-20T17:51:56.992Z"
   },
   {
    "duration": 58,
    "start_time": "2023-04-20T17:51:57.010Z"
   },
   {
    "duration": 9,
    "start_time": "2023-04-20T17:51:57.937Z"
   },
   {
    "duration": 6,
    "start_time": "2023-04-20T17:55:57.114Z"
   },
   {
    "duration": 5,
    "start_time": "2023-04-20T17:57:58.241Z"
   },
   {
    "duration": 6,
    "start_time": "2023-04-20T17:57:59.693Z"
   },
   {
    "duration": 5,
    "start_time": "2023-04-20T17:58:03.169Z"
   },
   {
    "duration": 92,
    "start_time": "2023-04-20T17:58:07.943Z"
   },
   {
    "duration": 5,
    "start_time": "2023-04-20T18:14:03.517Z"
   },
   {
    "duration": 8,
    "start_time": "2023-04-20T18:14:05.190Z"
   },
   {
    "duration": 5,
    "start_time": "2023-04-20T18:15:23.988Z"
   },
   {
    "duration": 5,
    "start_time": "2023-04-20T18:15:26.814Z"
   },
   {
    "duration": 14,
    "start_time": "2023-04-20T18:15:41.845Z"
   },
   {
    "duration": 7,
    "start_time": "2023-04-20T18:15:43.674Z"
   },
   {
    "duration": 103,
    "start_time": "2023-04-20T18:15:49.665Z"
   },
   {
    "duration": 556,
    "start_time": "2023-04-20T18:15:53.262Z"
   },
   {
    "duration": 9,
    "start_time": "2023-04-20T18:15:54.612Z"
   },
   {
    "duration": 10,
    "start_time": "2023-04-20T18:15:58.025Z"
   },
   {
    "duration": 4185,
    "start_time": "2023-04-20T18:16:03.038Z"
   },
   {
    "duration": 14,
    "start_time": "2023-04-20T18:16:07.225Z"
   },
   {
    "duration": 18,
    "start_time": "2023-04-20T18:16:07.252Z"
   },
   {
    "duration": 184,
    "start_time": "2023-04-20T18:16:22.097Z"
   },
   {
    "duration": 302,
    "start_time": "2023-04-20T18:16:22.771Z"
   },
   {
    "duration": 232,
    "start_time": "2023-04-20T18:16:23.727Z"
   },
   {
    "duration": 923,
    "start_time": "2023-04-20T18:16:33.669Z"
   },
   {
    "duration": 30,
    "start_time": "2023-04-20T18:17:13.530Z"
   },
   {
    "duration": 7,
    "start_time": "2023-04-20T18:17:14.827Z"
   },
   {
    "duration": 1447,
    "start_time": "2023-04-20T18:22:57.913Z"
   },
   {
    "duration": 39,
    "start_time": "2023-04-20T18:22:59.362Z"
   },
   {
    "duration": 12,
    "start_time": "2023-04-20T18:22:59.403Z"
   },
   {
    "duration": 7,
    "start_time": "2023-04-20T18:22:59.417Z"
   },
   {
    "duration": 7,
    "start_time": "2023-04-20T18:22:59.425Z"
   },
   {
    "duration": 8,
    "start_time": "2023-04-20T18:22:59.433Z"
   },
   {
    "duration": 12,
    "start_time": "2023-04-20T18:22:59.442Z"
   },
   {
    "duration": 141,
    "start_time": "2023-04-20T18:22:59.456Z"
   },
   {
    "duration": 521,
    "start_time": "2023-04-20T18:22:59.599Z"
   },
   {
    "duration": 8,
    "start_time": "2023-04-20T18:23:00.123Z"
   },
   {
    "duration": 40,
    "start_time": "2023-04-20T18:23:00.133Z"
   },
   {
    "duration": 4056,
    "start_time": "2023-04-20T18:23:00.176Z"
   },
   {
    "duration": 23,
    "start_time": "2023-04-20T18:23:04.233Z"
   },
   {
    "duration": 19,
    "start_time": "2023-04-20T18:23:04.258Z"
   },
   {
    "duration": 186,
    "start_time": "2023-04-20T18:23:04.279Z"
   },
   {
    "duration": 302,
    "start_time": "2023-04-20T18:23:04.467Z"
   },
   {
    "duration": 262,
    "start_time": "2023-04-20T18:23:04.771Z"
   },
   {
    "duration": 1027,
    "start_time": "2023-04-20T18:23:05.034Z"
   },
   {
    "duration": 28,
    "start_time": "2023-04-20T18:23:06.063Z"
   },
   {
    "duration": 10,
    "start_time": "2023-04-20T18:23:06.093Z"
   },
   {
    "duration": 201,
    "start_time": "2023-04-20T18:23:06.105Z"
   },
   {
    "duration": 185,
    "start_time": "2023-04-20T18:23:06.308Z"
   },
   {
    "duration": 5,
    "start_time": "2023-04-20T18:23:06.496Z"
   },
   {
    "duration": 36,
    "start_time": "2023-04-20T18:23:06.505Z"
   },
   {
    "duration": 46,
    "start_time": "2023-04-20T18:23:06.544Z"
   },
   {
    "duration": 10,
    "start_time": "2023-04-20T18:23:07.622Z"
   },
   {
    "duration": 6,
    "start_time": "2023-04-20T18:23:17.537Z"
   },
   {
    "duration": 5,
    "start_time": "2023-04-20T18:23:30.135Z"
   },
   {
    "duration": 8,
    "start_time": "2023-04-20T18:23:33.531Z"
   },
   {
    "duration": 7,
    "start_time": "2023-04-20T18:23:35.028Z"
   },
   {
    "duration": 98,
    "start_time": "2023-04-20T18:23:37.056Z"
   },
   {
    "duration": 505,
    "start_time": "2023-04-20T18:23:47.699Z"
   },
   {
    "duration": 8,
    "start_time": "2023-04-20T18:23:49.563Z"
   },
   {
    "duration": 10,
    "start_time": "2023-04-20T18:23:52.095Z"
   },
   {
    "duration": 4106,
    "start_time": "2023-04-20T18:23:57.193Z"
   },
   {
    "duration": 16,
    "start_time": "2023-04-20T18:24:01.301Z"
   },
   {
    "duration": 10,
    "start_time": "2023-04-20T18:24:01.685Z"
   },
   {
    "duration": 175,
    "start_time": "2023-04-20T18:24:12.617Z"
   },
   {
    "duration": 346,
    "start_time": "2023-04-20T18:24:13.423Z"
   },
   {
    "duration": 221,
    "start_time": "2023-04-20T18:24:14.868Z"
   },
   {
    "duration": 916,
    "start_time": "2023-04-20T18:24:23.356Z"
   },
   {
    "duration": 30,
    "start_time": "2023-04-20T18:24:26.859Z"
   },
   {
    "duration": 9,
    "start_time": "2023-04-20T18:24:28.390Z"
   },
   {
    "duration": 171,
    "start_time": "2023-04-20T18:24:40.659Z"
   },
   {
    "duration": 5,
    "start_time": "2023-04-20T18:25:47.285Z"
   },
   {
    "duration": 1354,
    "start_time": "2023-04-20T18:27:26.870Z"
   },
   {
    "duration": 37,
    "start_time": "2023-04-20T18:27:28.226Z"
   },
   {
    "duration": 13,
    "start_time": "2023-04-20T18:27:28.264Z"
   },
   {
    "duration": 28,
    "start_time": "2023-04-20T18:27:28.278Z"
   },
   {
    "duration": 24,
    "start_time": "2023-04-20T18:27:28.309Z"
   },
   {
    "duration": 17,
    "start_time": "2023-04-20T18:27:28.334Z"
   },
   {
    "duration": 35,
    "start_time": "2023-04-20T18:27:28.353Z"
   },
   {
    "duration": 93,
    "start_time": "2023-04-20T18:27:28.390Z"
   },
   {
    "duration": 502,
    "start_time": "2023-04-20T18:27:28.484Z"
   },
   {
    "duration": 7,
    "start_time": "2023-04-20T18:27:28.988Z"
   },
   {
    "duration": 50,
    "start_time": "2023-04-20T18:27:28.997Z"
   },
   {
    "duration": 3928,
    "start_time": "2023-04-20T18:27:29.048Z"
   },
   {
    "duration": 16,
    "start_time": "2023-04-20T18:27:32.977Z"
   },
   {
    "duration": 15,
    "start_time": "2023-04-20T18:27:32.995Z"
   },
   {
    "duration": 197,
    "start_time": "2023-04-20T18:27:33.011Z"
   },
   {
    "duration": 299,
    "start_time": "2023-04-20T18:27:33.209Z"
   },
   {
    "duration": 205,
    "start_time": "2023-04-20T18:27:33.510Z"
   },
   {
    "duration": 942,
    "start_time": "2023-04-20T18:27:33.716Z"
   },
   {
    "duration": 37,
    "start_time": "2023-04-20T18:27:34.660Z"
   },
   {
    "duration": 10,
    "start_time": "2023-04-20T18:27:34.699Z"
   },
   {
    "duration": 217,
    "start_time": "2023-04-20T18:27:34.711Z"
   },
   {
    "duration": 187,
    "start_time": "2023-04-20T18:27:34.929Z"
   },
   {
    "duration": 6,
    "start_time": "2023-04-20T18:27:35.118Z"
   },
   {
    "duration": 97,
    "start_time": "2023-04-21T05:42:03.682Z"
   },
   {
    "duration": 77,
    "start_time": "2023-04-21T05:48:09.130Z"
   },
   {
    "duration": 6,
    "start_time": "2023-04-21T05:48:29.551Z"
   },
   {
    "duration": 1697,
    "start_time": "2023-04-21T05:48:40.622Z"
   },
   {
    "duration": 127,
    "start_time": "2023-04-21T05:48:42.322Z"
   },
   {
    "duration": 13,
    "start_time": "2023-04-21T05:48:42.452Z"
   },
   {
    "duration": 6,
    "start_time": "2023-04-21T05:48:42.467Z"
   },
   {
    "duration": 7,
    "start_time": "2023-04-21T05:48:42.475Z"
   },
   {
    "duration": 28,
    "start_time": "2023-04-21T05:48:42.483Z"
   },
   {
    "duration": 7,
    "start_time": "2023-04-21T05:48:42.513Z"
   },
   {
    "duration": 5,
    "start_time": "2023-04-21T05:48:42.521Z"
   },
   {
    "duration": 98,
    "start_time": "2023-04-21T05:48:42.527Z"
   },
   {
    "duration": 528,
    "start_time": "2023-04-21T05:48:42.627Z"
   },
   {
    "duration": 9,
    "start_time": "2023-04-21T05:48:43.157Z"
   },
   {
    "duration": 32,
    "start_time": "2023-04-21T05:48:43.168Z"
   },
   {
    "duration": 4013,
    "start_time": "2023-04-21T05:48:43.203Z"
   },
   {
    "duration": 16,
    "start_time": "2023-04-21T05:48:47.219Z"
   },
   {
    "duration": 60,
    "start_time": "2023-04-21T05:48:47.237Z"
   },
   {
    "duration": 233,
    "start_time": "2023-04-21T05:48:47.300Z"
   },
   {
    "duration": 317,
    "start_time": "2023-04-21T05:48:47.535Z"
   },
   {
    "duration": 241,
    "start_time": "2023-04-21T05:48:47.854Z"
   },
   {
    "duration": 1055,
    "start_time": "2023-04-21T05:48:48.097Z"
   },
   {
    "duration": 63,
    "start_time": "2023-04-21T05:48:49.154Z"
   },
   {
    "duration": 10,
    "start_time": "2023-04-21T05:48:49.219Z"
   },
   {
    "duration": 199,
    "start_time": "2023-04-21T05:48:49.231Z"
   },
   {
    "duration": 170,
    "start_time": "2023-04-21T05:48:49.432Z"
   },
   {
    "duration": 6,
    "start_time": "2023-04-21T05:48:49.604Z"
   },
   {
    "duration": 5,
    "start_time": "2023-04-21T05:48:51.172Z"
   },
   {
    "duration": 36,
    "start_time": "2023-04-21T05:48:51.904Z"
   },
   {
    "duration": 11,
    "start_time": "2023-04-21T05:48:52.795Z"
   },
   {
    "duration": 7,
    "start_time": "2023-04-21T05:48:57.233Z"
   },
   {
    "duration": 7,
    "start_time": "2023-04-21T05:48:58.969Z"
   },
   {
    "duration": 7,
    "start_time": "2023-04-21T05:49:01.266Z"
   },
   {
    "duration": 8,
    "start_time": "2023-04-21T05:49:03.176Z"
   },
   {
    "duration": 4,
    "start_time": "2023-04-21T05:49:04.411Z"
   },
   {
    "duration": 6,
    "start_time": "2023-04-21T05:49:15.021Z"
   },
   {
    "duration": 544,
    "start_time": "2023-04-21T07:45:23.001Z"
   },
   {
    "duration": 566,
    "start_time": "2023-04-21T07:45:35.896Z"
   },
   {
    "duration": 8,
    "start_time": "2023-04-21T07:45:37.021Z"
   },
   {
    "duration": 13,
    "start_time": "2023-04-21T07:45:41.323Z"
   },
   {
    "duration": 26,
    "start_time": "2023-04-21T07:46:27.304Z"
   },
   {
    "duration": 230,
    "start_time": "2023-04-21T07:46:39.093Z"
   },
   {
    "duration": 30,
    "start_time": "2023-04-21T07:46:40.377Z"
   },
   {
    "duration": 5,
    "start_time": "2023-04-21T07:46:46.723Z"
   },
   {
    "duration": 75,
    "start_time": "2023-04-21T07:46:48.300Z"
   },
   {
    "duration": 17,
    "start_time": "2023-04-21T07:46:49.116Z"
   },
   {
    "duration": 1510,
    "start_time": "2023-04-21T07:47:05.834Z"
   },
   {
    "duration": 40,
    "start_time": "2023-04-21T07:47:07.346Z"
   },
   {
    "duration": 16,
    "start_time": "2023-04-21T07:47:07.392Z"
   },
   {
    "duration": 29,
    "start_time": "2023-04-21T07:47:07.409Z"
   },
   {
    "duration": 27,
    "start_time": "2023-04-21T07:47:07.441Z"
   },
   {
    "duration": 96,
    "start_time": "2023-04-21T07:47:07.469Z"
   },
   {
    "duration": 88,
    "start_time": "2023-04-21T07:47:07.567Z"
   },
   {
    "duration": 9,
    "start_time": "2023-04-21T07:47:07.658Z"
   },
   {
    "duration": 85,
    "start_time": "2023-04-21T07:47:07.669Z"
   },
   {
    "duration": 0,
    "start_time": "2023-04-21T07:47:07.756Z"
   },
   {
    "duration": 0,
    "start_time": "2023-04-21T07:47:07.758Z"
   },
   {
    "duration": 0,
    "start_time": "2023-04-21T07:47:07.759Z"
   },
   {
    "duration": 0,
    "start_time": "2023-04-21T07:47:07.760Z"
   },
   {
    "duration": 0,
    "start_time": "2023-04-21T07:47:07.761Z"
   },
   {
    "duration": 0,
    "start_time": "2023-04-21T07:47:07.762Z"
   },
   {
    "duration": 0,
    "start_time": "2023-04-21T07:47:07.763Z"
   },
   {
    "duration": 0,
    "start_time": "2023-04-21T07:47:07.764Z"
   },
   {
    "duration": 0,
    "start_time": "2023-04-21T07:47:07.765Z"
   },
   {
    "duration": 1,
    "start_time": "2023-04-21T07:47:07.766Z"
   },
   {
    "duration": 0,
    "start_time": "2023-04-21T07:47:07.767Z"
   },
   {
    "duration": 0,
    "start_time": "2023-04-21T07:47:07.769Z"
   },
   {
    "duration": 0,
    "start_time": "2023-04-21T07:47:07.770Z"
   },
   {
    "duration": 0,
    "start_time": "2023-04-21T07:47:07.771Z"
   },
   {
    "duration": 0,
    "start_time": "2023-04-21T07:47:07.772Z"
   },
   {
    "duration": 0,
    "start_time": "2023-04-21T07:47:07.774Z"
   },
   {
    "duration": 4,
    "start_time": "2023-04-21T07:47:12.012Z"
   },
   {
    "duration": 44,
    "start_time": "2023-04-21T07:47:12.516Z"
   },
   {
    "duration": 12,
    "start_time": "2023-04-21T07:47:13.057Z"
   },
   {
    "duration": 5,
    "start_time": "2023-04-21T07:47:15.929Z"
   },
   {
    "duration": 7,
    "start_time": "2023-04-21T07:47:17.405Z"
   },
   {
    "duration": 13,
    "start_time": "2023-04-21T07:47:18.893Z"
   },
   {
    "duration": 7,
    "start_time": "2023-04-21T07:47:20.311Z"
   },
   {
    "duration": 5,
    "start_time": "2023-04-21T07:47:21.349Z"
   },
   {
    "duration": 171,
    "start_time": "2023-04-21T07:47:23.652Z"
   },
   {
    "duration": 101,
    "start_time": "2023-04-21T07:47:50.001Z"
   },
   {
    "duration": 140,
    "start_time": "2023-04-21T07:47:53.900Z"
   },
   {
    "duration": 9,
    "start_time": "2023-04-21T07:48:12.325Z"
   },
   {
    "duration": 536,
    "start_time": "2023-04-21T07:48:31.651Z"
   },
   {
    "duration": 22,
    "start_time": "2023-04-21T07:48:33.075Z"
   },
   {
    "duration": 21,
    "start_time": "2023-04-21T07:49:54.082Z"
   },
   {
    "duration": 15,
    "start_time": "2023-04-21T07:50:01.049Z"
   },
   {
    "duration": 520,
    "start_time": "2023-04-21T07:50:02.994Z"
   },
   {
    "duration": 9,
    "start_time": "2023-04-21T07:50:04.187Z"
   },
   {
    "duration": 20,
    "start_time": "2023-04-21T07:50:04.993Z"
   },
   {
    "duration": 14,
    "start_time": "2023-04-21T07:50:45.083Z"
   },
   {
    "duration": 1522,
    "start_time": "2023-04-21T07:51:06.890Z"
   },
   {
    "duration": 69,
    "start_time": "2023-04-21T07:51:08.415Z"
   },
   {
    "duration": 61,
    "start_time": "2023-04-21T07:51:08.486Z"
   },
   {
    "duration": 48,
    "start_time": "2023-04-21T07:51:08.549Z"
   },
   {
    "duration": 37,
    "start_time": "2023-04-21T07:51:08.599Z"
   },
   {
    "duration": 55,
    "start_time": "2023-04-21T07:51:08.638Z"
   },
   {
    "duration": 46,
    "start_time": "2023-04-21T07:51:08.695Z"
   },
   {
    "duration": 41,
    "start_time": "2023-04-21T07:51:08.743Z"
   },
   {
    "duration": 517,
    "start_time": "2023-04-21T07:51:08.785Z"
   },
   {
    "duration": 17,
    "start_time": "2023-04-21T07:51:09.304Z"
   },
   {
    "duration": 650,
    "start_time": "2023-04-21T07:51:09.323Z"
   },
   {
    "duration": 125,
    "start_time": "2023-04-21T07:51:09.983Z"
   },
   {
    "duration": 0,
    "start_time": "2023-04-21T07:51:10.110Z"
   },
   {
    "duration": 0,
    "start_time": "2023-04-21T07:51:10.112Z"
   },
   {
    "duration": 0,
    "start_time": "2023-04-21T07:51:10.113Z"
   },
   {
    "duration": 0,
    "start_time": "2023-04-21T07:51:10.114Z"
   },
   {
    "duration": 0,
    "start_time": "2023-04-21T07:51:10.115Z"
   },
   {
    "duration": 0,
    "start_time": "2023-04-21T07:51:10.116Z"
   },
   {
    "duration": 0,
    "start_time": "2023-04-21T07:51:10.117Z"
   },
   {
    "duration": 0,
    "start_time": "2023-04-21T07:51:10.118Z"
   },
   {
    "duration": 0,
    "start_time": "2023-04-21T07:51:10.120Z"
   },
   {
    "duration": 0,
    "start_time": "2023-04-21T07:51:10.121Z"
   },
   {
    "duration": 0,
    "start_time": "2023-04-21T07:51:10.122Z"
   },
   {
    "duration": 0,
    "start_time": "2023-04-21T07:51:10.124Z"
   },
   {
    "duration": 5,
    "start_time": "2023-04-21T07:51:15.040Z"
   },
   {
    "duration": 37,
    "start_time": "2023-04-21T07:51:15.647Z"
   },
   {
    "duration": 12,
    "start_time": "2023-04-21T07:51:17.216Z"
   },
   {
    "duration": 6,
    "start_time": "2023-04-21T07:51:19.627Z"
   },
   {
    "duration": 6,
    "start_time": "2023-04-21T07:51:20.593Z"
   },
   {
    "duration": 8,
    "start_time": "2023-04-21T07:51:21.517Z"
   },
   {
    "duration": 7,
    "start_time": "2023-04-21T07:51:22.551Z"
   },
   {
    "duration": 8,
    "start_time": "2023-04-21T07:51:23.498Z"
   },
   {
    "duration": 497,
    "start_time": "2023-04-21T07:51:25.240Z"
   },
   {
    "duration": 13,
    "start_time": "2023-04-21T07:51:26.588Z"
   },
   {
    "duration": 494,
    "start_time": "2023-04-21T07:51:28.719Z"
   },
   {
    "duration": 14,
    "start_time": "2023-04-21T07:51:31.226Z"
   },
   {
    "duration": 85,
    "start_time": "2023-04-21T07:52:08.939Z"
   },
   {
    "duration": 12,
    "start_time": "2023-04-21T07:52:14.440Z"
   },
   {
    "duration": 509,
    "start_time": "2023-04-21T07:52:20.223Z"
   },
   {
    "duration": 11,
    "start_time": "2023-04-21T07:52:21.526Z"
   },
   {
    "duration": 11,
    "start_time": "2023-04-21T08:02:20.519Z"
   },
   {
    "duration": 37,
    "start_time": "2023-04-21T08:02:26.637Z"
   },
   {
    "duration": 10,
    "start_time": "2023-04-21T08:02:27.103Z"
   },
   {
    "duration": 1273,
    "start_time": "2023-04-21T08:02:27.740Z"
   },
   {
    "duration": 14,
    "start_time": "2023-04-21T08:07:17.675Z"
   },
   {
    "duration": 10,
    "start_time": "2023-04-21T08:07:37.207Z"
   },
   {
    "duration": 1865,
    "start_time": "2023-04-21T08:08:36.902Z"
   },
   {
    "duration": 49,
    "start_time": "2023-04-21T08:08:38.769Z"
   },
   {
    "duration": 13,
    "start_time": "2023-04-21T08:08:38.820Z"
   },
   {
    "duration": 5,
    "start_time": "2023-04-21T08:08:38.835Z"
   },
   {
    "duration": 8,
    "start_time": "2023-04-21T08:08:38.842Z"
   },
   {
    "duration": 15,
    "start_time": "2023-04-21T08:08:38.851Z"
   },
   {
    "duration": 13,
    "start_time": "2023-04-21T08:08:38.867Z"
   },
   {
    "duration": 31,
    "start_time": "2023-04-21T08:08:38.882Z"
   },
   {
    "duration": 91,
    "start_time": "2023-04-21T08:08:38.915Z"
   },
   {
    "duration": 10,
    "start_time": "2023-04-21T08:08:39.008Z"
   },
   {
    "duration": 599,
    "start_time": "2023-04-21T08:08:39.020Z"
   },
   {
    "duration": 10,
    "start_time": "2023-04-21T08:08:39.622Z"
   },
   {
    "duration": 4001,
    "start_time": "2023-04-21T08:08:39.634Z"
   },
   {
    "duration": 17,
    "start_time": "2023-04-21T08:08:43.638Z"
   },
   {
    "duration": 52,
    "start_time": "2023-04-21T08:08:43.657Z"
   },
   {
    "duration": 218,
    "start_time": "2023-04-21T08:08:43.711Z"
   },
   {
    "duration": 294,
    "start_time": "2023-04-21T08:08:43.931Z"
   },
   {
    "duration": 189,
    "start_time": "2023-04-21T08:08:44.227Z"
   },
   {
    "duration": 1098,
    "start_time": "2023-04-21T08:08:44.418Z"
   },
   {
    "duration": 43,
    "start_time": "2023-04-21T08:08:45.517Z"
   },
   {
    "duration": 22,
    "start_time": "2023-04-21T08:08:45.562Z"
   },
   {
    "duration": 204,
    "start_time": "2023-04-21T08:08:45.586Z"
   },
   {
    "duration": 169,
    "start_time": "2023-04-21T08:08:45.792Z"
   },
   {
    "duration": 5,
    "start_time": "2023-04-21T08:08:45.963Z"
   },
   {
    "duration": 4,
    "start_time": "2023-04-21T08:08:46.933Z"
   },
   {
    "duration": 50,
    "start_time": "2023-04-21T08:08:47.481Z"
   },
   {
    "duration": 11,
    "start_time": "2023-04-21T08:08:47.934Z"
   },
   {
    "duration": 6,
    "start_time": "2023-04-21T08:08:49.999Z"
   },
   {
    "duration": 5,
    "start_time": "2023-04-21T08:08:51.397Z"
   },
   {
    "duration": 8,
    "start_time": "2023-04-21T08:08:52.797Z"
   },
   {
    "duration": 6,
    "start_time": "2023-04-21T08:08:54.258Z"
   },
   {
    "duration": 4,
    "start_time": "2023-04-21T08:08:55.222Z"
   },
   {
    "duration": 84,
    "start_time": "2023-04-21T08:08:57.169Z"
   },
   {
    "duration": 10,
    "start_time": "2023-04-21T08:08:57.923Z"
   },
   {
    "duration": 597,
    "start_time": "2023-04-21T08:08:59.959Z"
   },
   {
    "duration": 14,
    "start_time": "2023-04-21T08:09:00.559Z"
   },
   {
    "duration": 4120,
    "start_time": "2023-04-21T08:09:01.883Z"
   },
   {
    "duration": 17,
    "start_time": "2023-04-21T08:09:06.006Z"
   },
   {
    "duration": 30,
    "start_time": "2023-04-21T08:09:06.025Z"
   },
   {
    "duration": 202,
    "start_time": "2023-04-21T08:09:06.056Z"
   },
   {
    "duration": 277,
    "start_time": "2023-04-21T08:09:06.260Z"
   },
   {
    "duration": 179,
    "start_time": "2023-04-21T08:09:06.709Z"
   },
   {
    "duration": 1011,
    "start_time": "2023-04-21T08:09:10.027Z"
   },
   {
    "duration": 35,
    "start_time": "2023-04-21T08:09:12.436Z"
   },
   {
    "duration": 12,
    "start_time": "2023-04-21T08:09:12.591Z"
   },
   {
    "duration": 217,
    "start_time": "2023-04-21T08:09:15.632Z"
   },
   {
    "duration": 162,
    "start_time": "2023-04-21T08:09:17.240Z"
   },
   {
    "duration": 8,
    "start_time": "2023-04-21T08:09:20.648Z"
   },
   {
    "duration": 121,
    "start_time": "2023-04-21T08:09:53.340Z"
   },
   {
    "duration": 11,
    "start_time": "2023-04-21T08:13:28.889Z"
   },
   {
    "duration": 10,
    "start_time": "2023-04-21T08:15:08.251Z"
   },
   {
    "duration": 14,
    "start_time": "2023-04-21T08:15:45.184Z"
   },
   {
    "duration": 6,
    "start_time": "2023-04-21T08:17:30.459Z"
   },
   {
    "duration": 8,
    "start_time": "2023-04-21T08:21:15.462Z"
   },
   {
    "duration": 7,
    "start_time": "2023-04-21T08:27:27.364Z"
   },
   {
    "duration": 6,
    "start_time": "2023-04-21T08:28:47.219Z"
   },
   {
    "duration": 7,
    "start_time": "2023-04-21T08:34:45.146Z"
   },
   {
    "duration": 6,
    "start_time": "2023-04-21T08:38:29.407Z"
   },
   {
    "duration": 182,
    "start_time": "2023-04-21T08:55:32.166Z"
   },
   {
    "duration": 90,
    "start_time": "2023-04-21T08:56:28.454Z"
   },
   {
    "duration": 88,
    "start_time": "2023-04-21T09:02:33.617Z"
   },
   {
    "duration": 5,
    "start_time": "2023-04-21T09:05:06.191Z"
   },
   {
    "duration": 34,
    "start_time": "2023-04-21T09:05:06.766Z"
   },
   {
    "duration": 10,
    "start_time": "2023-04-21T09:05:07.519Z"
   },
   {
    "duration": 6,
    "start_time": "2023-04-21T09:05:10.116Z"
   },
   {
    "duration": 6,
    "start_time": "2023-04-21T09:05:11.342Z"
   },
   {
    "duration": 7,
    "start_time": "2023-04-21T09:05:12.736Z"
   },
   {
    "duration": 6,
    "start_time": "2023-04-21T09:05:13.727Z"
   },
   {
    "duration": 4,
    "start_time": "2023-04-21T09:05:14.718Z"
   },
   {
    "duration": 168,
    "start_time": "2023-04-21T09:05:16.258Z"
   },
   {
    "duration": 8,
    "start_time": "2023-04-21T09:05:16.892Z"
   },
   {
    "duration": 499,
    "start_time": "2023-04-21T09:05:18.733Z"
   },
   {
    "duration": 11,
    "start_time": "2023-04-21T09:05:19.392Z"
   },
   {
    "duration": 3935,
    "start_time": "2023-04-21T09:05:20.501Z"
   },
   {
    "duration": 14,
    "start_time": "2023-04-21T09:05:24.438Z"
   },
   {
    "duration": 66,
    "start_time": "2023-04-21T09:05:24.453Z"
   },
   {
    "duration": 213,
    "start_time": "2023-04-21T09:05:24.523Z"
   },
   {
    "duration": 345,
    "start_time": "2023-04-21T09:05:24.738Z"
   },
   {
    "duration": 191,
    "start_time": "2023-04-21T09:05:25.085Z"
   },
   {
    "duration": 893,
    "start_time": "2023-04-21T09:05:26.169Z"
   },
   {
    "duration": 31,
    "start_time": "2023-04-21T09:05:27.914Z"
   },
   {
    "duration": 9,
    "start_time": "2023-04-21T09:05:28.408Z"
   },
   {
    "duration": 189,
    "start_time": "2023-04-21T09:05:32.204Z"
   },
   {
    "duration": 173,
    "start_time": "2023-04-21T09:05:33.417Z"
   },
   {
    "duration": 5,
    "start_time": "2023-04-21T09:05:35.885Z"
   },
   {
    "duration": 7,
    "start_time": "2023-04-21T09:05:37.345Z"
   },
   {
    "duration": 1854,
    "start_time": "2023-04-21T11:56:01.070Z"
   },
   {
    "duration": 77,
    "start_time": "2023-04-21T11:56:02.926Z"
   },
   {
    "duration": 14,
    "start_time": "2023-04-21T11:56:03.005Z"
   },
   {
    "duration": 22,
    "start_time": "2023-04-21T11:56:03.021Z"
   },
   {
    "duration": 32,
    "start_time": "2023-04-21T11:56:03.046Z"
   },
   {
    "duration": 19,
    "start_time": "2023-04-21T11:56:03.079Z"
   },
   {
    "duration": 14,
    "start_time": "2023-04-21T11:56:03.099Z"
   },
   {
    "duration": 15,
    "start_time": "2023-04-21T11:56:03.114Z"
   },
   {
    "duration": 85,
    "start_time": "2023-04-21T11:56:03.131Z"
   },
   {
    "duration": 8,
    "start_time": "2023-04-21T11:56:03.217Z"
   },
   {
    "duration": 541,
    "start_time": "2023-04-21T11:56:03.227Z"
   },
   {
    "duration": 11,
    "start_time": "2023-04-21T11:56:03.770Z"
   },
   {
    "duration": 3879,
    "start_time": "2023-04-21T11:56:03.783Z"
   },
   {
    "duration": 15,
    "start_time": "2023-04-21T11:56:07.664Z"
   },
   {
    "duration": 11,
    "start_time": "2023-04-21T11:56:07.681Z"
   },
   {
    "duration": 182,
    "start_time": "2023-04-21T11:56:07.693Z"
   },
   {
    "duration": 320,
    "start_time": "2023-04-21T11:56:07.877Z"
   },
   {
    "duration": 200,
    "start_time": "2023-04-21T11:56:08.199Z"
   },
   {
    "duration": 999,
    "start_time": "2023-04-21T11:56:08.402Z"
   },
   {
    "duration": 41,
    "start_time": "2023-04-21T11:56:09.402Z"
   },
   {
    "duration": 16,
    "start_time": "2023-04-21T11:56:09.445Z"
   },
   {
    "duration": 219,
    "start_time": "2023-04-21T11:56:09.463Z"
   },
   {
    "duration": 152,
    "start_time": "2023-04-21T11:56:09.683Z"
   },
   {
    "duration": 5,
    "start_time": "2023-04-21T11:56:09.837Z"
   },
   {
    "duration": 124,
    "start_time": "2023-04-21T11:56:09.843Z"
   },
   {
    "duration": 0,
    "start_time": "2023-04-21T11:56:09.969Z"
   },
   {
    "duration": 1749,
    "start_time": "2023-04-21T11:56:15.763Z"
   },
   {
    "duration": 15,
    "start_time": "2023-04-21T11:56:25.333Z"
   },
   {
    "duration": 7,
    "start_time": "2023-04-21T11:56:38.178Z"
   },
   {
    "duration": 54,
    "start_time": "2023-04-24T08:24:08.589Z"
   },
   {
    "duration": 1945,
    "start_time": "2023-04-24T08:24:20.927Z"
   },
   {
    "duration": 129,
    "start_time": "2023-04-24T08:24:22.875Z"
   },
   {
    "duration": 16,
    "start_time": "2023-04-24T08:24:23.005Z"
   },
   {
    "duration": 17,
    "start_time": "2023-04-24T08:24:23.023Z"
   },
   {
    "duration": 21,
    "start_time": "2023-04-24T08:24:23.042Z"
   },
   {
    "duration": 24,
    "start_time": "2023-04-24T08:24:23.064Z"
   },
   {
    "duration": 14,
    "start_time": "2023-04-24T08:24:23.090Z"
   },
   {
    "duration": 7,
    "start_time": "2023-04-24T08:24:23.106Z"
   },
   {
    "duration": 107,
    "start_time": "2023-04-24T08:24:23.115Z"
   },
   {
    "duration": 10,
    "start_time": "2023-04-24T08:24:23.223Z"
   },
   {
    "duration": 579,
    "start_time": "2023-04-24T08:24:23.234Z"
   },
   {
    "duration": 12,
    "start_time": "2023-04-24T08:24:23.814Z"
   },
   {
    "duration": 4161,
    "start_time": "2023-04-24T08:24:23.828Z"
   },
   {
    "duration": 16,
    "start_time": "2023-04-24T08:24:27.992Z"
   },
   {
    "duration": 15,
    "start_time": "2023-04-24T08:24:28.010Z"
   },
   {
    "duration": 197,
    "start_time": "2023-04-24T08:24:28.027Z"
   },
   {
    "duration": 304,
    "start_time": "2023-04-24T08:24:28.226Z"
   },
   {
    "duration": 212,
    "start_time": "2023-04-24T08:24:28.532Z"
   },
   {
    "duration": 1107,
    "start_time": "2023-04-24T08:24:28.746Z"
   },
   {
    "duration": 43,
    "start_time": "2023-04-24T08:24:29.855Z"
   },
   {
    "duration": 9,
    "start_time": "2023-04-24T08:24:29.900Z"
   },
   {
    "duration": 219,
    "start_time": "2023-04-24T08:24:29.910Z"
   },
   {
    "duration": 188,
    "start_time": "2023-04-24T08:24:30.131Z"
   },
   {
    "duration": 6,
    "start_time": "2023-04-24T08:24:30.320Z"
   },
   {
    "duration": 195,
    "start_time": "2023-04-24T08:24:30.328Z"
   },
   {
    "duration": 5,
    "start_time": "2023-04-24T08:26:32.513Z"
   },
   {
    "duration": 36,
    "start_time": "2023-04-24T08:26:33.505Z"
   },
   {
    "duration": 12,
    "start_time": "2023-04-24T08:26:34.594Z"
   },
   {
    "duration": 6,
    "start_time": "2023-04-24T08:26:35.150Z"
   },
   {
    "duration": 6,
    "start_time": "2023-04-24T08:26:35.646Z"
   },
   {
    "duration": 7,
    "start_time": "2023-04-24T08:26:36.119Z"
   },
   {
    "duration": 7,
    "start_time": "2023-04-24T08:26:36.578Z"
   },
   {
    "duration": 5,
    "start_time": "2023-04-24T08:26:37.020Z"
   },
   {
    "duration": 93,
    "start_time": "2023-04-24T08:26:37.907Z"
   },
   {
    "duration": 9,
    "start_time": "2023-04-24T08:26:38.145Z"
   },
   {
    "duration": 544,
    "start_time": "2023-04-24T08:26:38.866Z"
   },
   {
    "duration": 10,
    "start_time": "2023-04-24T08:26:39.412Z"
   },
   {
    "duration": 4229,
    "start_time": "2023-04-24T08:26:39.602Z"
   },
   {
    "duration": 17,
    "start_time": "2023-04-24T08:26:43.833Z"
   },
   {
    "duration": 40,
    "start_time": "2023-04-24T08:26:43.852Z"
   },
   {
    "duration": 208,
    "start_time": "2023-04-24T08:26:43.895Z"
   },
   {
    "duration": 301,
    "start_time": "2023-04-24T08:26:44.105Z"
   },
   {
    "duration": 217,
    "start_time": "2023-04-24T08:26:44.407Z"
   },
   {
    "duration": 1028,
    "start_time": "2023-04-24T08:26:44.626Z"
   },
   {
    "duration": 48,
    "start_time": "2023-04-24T08:26:45.655Z"
   },
   {
    "duration": 9,
    "start_time": "2023-04-24T08:26:45.704Z"
   },
   {
    "duration": 311,
    "start_time": "2023-04-24T08:26:45.715Z"
   },
   {
    "duration": 184,
    "start_time": "2023-04-24T08:26:46.027Z"
   },
   {
    "duration": 6,
    "start_time": "2023-04-24T08:26:46.428Z"
   },
   {
    "duration": 12,
    "start_time": "2023-04-24T08:26:47.983Z"
   },
   {
    "duration": 5,
    "start_time": "2023-04-24T08:27:20.050Z"
   },
   {
    "duration": 1523,
    "start_time": "2023-04-24T08:27:25.026Z"
   },
   {
    "duration": 40,
    "start_time": "2023-04-24T08:27:26.551Z"
   },
   {
    "duration": 22,
    "start_time": "2023-04-24T08:27:26.593Z"
   },
   {
    "duration": 6,
    "start_time": "2023-04-24T08:27:26.617Z"
   },
   {
    "duration": 21,
    "start_time": "2023-04-24T08:27:26.625Z"
   },
   {
    "duration": 11,
    "start_time": "2023-04-24T08:27:26.648Z"
   },
   {
    "duration": 6,
    "start_time": "2023-04-24T08:27:26.661Z"
   },
   {
    "duration": 18,
    "start_time": "2023-04-24T08:27:26.669Z"
   },
   {
    "duration": 113,
    "start_time": "2023-04-24T08:27:26.689Z"
   },
   {
    "duration": 10,
    "start_time": "2023-04-24T08:27:26.804Z"
   },
   {
    "duration": 598,
    "start_time": "2023-04-24T08:27:26.816Z"
   },
   {
    "duration": 11,
    "start_time": "2023-04-24T08:27:27.415Z"
   },
   {
    "duration": 4302,
    "start_time": "2023-04-24T08:27:27.428Z"
   },
   {
    "duration": 17,
    "start_time": "2023-04-24T08:27:31.733Z"
   },
   {
    "duration": 36,
    "start_time": "2023-04-24T08:27:31.752Z"
   },
   {
    "duration": 267,
    "start_time": "2023-04-24T08:27:31.789Z"
   },
   {
    "duration": 146,
    "start_time": "2023-05-04T07:16:06.819Z"
   },
   {
    "duration": 1874,
    "start_time": "2023-05-04T07:16:19.975Z"
   },
   {
    "duration": 72,
    "start_time": "2023-05-04T07:16:21.851Z"
   },
   {
    "duration": 19,
    "start_time": "2023-05-04T07:16:21.925Z"
   },
   {
    "duration": 7,
    "start_time": "2023-05-04T07:16:22.143Z"
   },
   {
    "duration": 7,
    "start_time": "2023-05-04T07:16:22.738Z"
   },
   {
    "duration": 8,
    "start_time": "2023-05-04T07:16:23.328Z"
   },
   {
    "duration": 11,
    "start_time": "2023-05-04T07:16:23.968Z"
   },
   {
    "duration": 5,
    "start_time": "2023-05-04T07:16:24.535Z"
   },
   {
    "duration": 113,
    "start_time": "2023-05-04T07:16:26.727Z"
   },
   {
    "duration": 9,
    "start_time": "2023-05-04T07:16:27.190Z"
   },
   {
    "duration": 658,
    "start_time": "2023-05-04T07:16:28.127Z"
   },
   {
    "duration": 11,
    "start_time": "2023-05-04T07:16:28.787Z"
   },
   {
    "duration": 4176,
    "start_time": "2023-05-04T07:16:29.151Z"
   },
   {
    "duration": 29,
    "start_time": "2023-05-04T07:16:33.329Z"
   },
   {
    "duration": 17,
    "start_time": "2023-05-04T07:16:33.360Z"
   },
   {
    "duration": 202,
    "start_time": "2023-05-04T07:16:33.379Z"
   },
   {
    "duration": 391,
    "start_time": "2023-05-04T07:16:33.585Z"
   },
   {
    "duration": 272,
    "start_time": "2023-05-04T07:16:33.981Z"
   },
   {
    "duration": 1247,
    "start_time": "2023-05-04T07:16:34.257Z"
   },
   {
    "duration": 34,
    "start_time": "2023-05-04T07:16:39.004Z"
   },
   {
    "duration": 8,
    "start_time": "2023-05-04T07:16:40.187Z"
   },
   {
    "duration": 209,
    "start_time": "2023-05-04T07:16:42.863Z"
   }
  ],
  "kernelspec": {
   "display_name": "Python 3 (ipykernel)",
   "language": "python",
   "name": "python3"
  },
  "language_info": {
   "codemirror_mode": {
    "name": "ipython",
    "version": 3
   },
   "file_extension": ".py",
   "mimetype": "text/x-python",
   "name": "python",
   "nbconvert_exporter": "python",
   "pygments_lexer": "ipython3",
   "version": "3.9.5"
  },
  "toc": {
   "base_numbering": 1,
   "nav_menu": {},
   "number_sections": true,
   "sideBar": true,
   "skip_h1_title": true,
   "title_cell": "Table of Contents",
   "title_sidebar": "Contents",
   "toc_cell": false,
   "toc_position": {},
   "toc_section_display": true,
   "toc_window_display": true
  }
 },
 "nbformat": 4,
 "nbformat_minor": 4
}
